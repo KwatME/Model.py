{
 "cells": [
  {
   "cell_type": "code",
   "execution_count": null,
   "metadata": {
    "ExecuteTime": {
     "end_time": "2018-07-08T02:00:18.270535Z",
     "start_time": "2018-07-08T02:00:17.409834Z"
    }
   },
   "outputs": [],
   "source": [
    "%load_ext autoreload\n",
    "%autoreload 2"
   ]
  },
  {
   "cell_type": "code",
   "execution_count": null,
   "metadata": {
    "ExecuteTime": {
     "end_time": "2018-07-08T02:00:18.306031Z",
     "start_time": "2018-07-08T02:00:18.276698Z"
    }
   },
   "outputs": [],
   "source": [
    "from environment import *\n",
    "\n",
    "import analysis as a\n",
    "\n",
    "p = make_paths(a)"
   ]
  },
  {
   "cell_type": "code",
   "execution_count": null,
   "metadata": {
    "ExecuteTime": {
     "end_time": "2018-07-08T02:00:18.692012Z",
     "start_time": "2018-07-08T02:00:18.309427Z"
    }
   },
   "outputs": [],
   "source": [
    "w = pd.read_table(\n",
    "    p['w_file_path'],\n",
    "    index_col=0,\n",
    ")\n",
    "\n",
    "h = pd.read_table(\n",
    "    p['h_file_path'],\n",
    "    index_col=0,\n",
    ")"
   ]
  },
  {
   "cell_type": "code",
   "execution_count": null,
   "metadata": {
    "ExecuteTime": {
     "end_time": "2018-07-08T02:00:18.716327Z",
     "start_time": "2018-07-08T02:00:18.694100Z"
    }
   },
   "outputs": [],
   "source": [
    "keep_threshold = 1.0\n",
    "\n",
    "if keep_threshold < 1:\n",
    "\n",
    "    feature_entropy = w.apply(\n",
    "        ccal.compute_entropy,\n",
    "        axis=1,\n",
    "    )\n",
    "\n",
    "    w = w.loc[feature_entropy.index[feature_entropy < feature_entropy.quantile(q=keep_threshold)]]\n",
    "\n",
    "    print(w.shape)\n",
    "\n",
    "    sample_entropy = h.apply(ccal.compute_entropy)\n",
    "\n",
    "    h = h[sample_entropy.index[sample_entropy < sample_entropy.quantile(q=keep_threshold)]]\n",
    "\n",
    "    print(h.shape)"
   ]
  },
  {
   "cell_type": "code",
   "execution_count": null,
   "metadata": {
    "ExecuteTime": {
     "end_time": "2018-07-08T02:00:18.743215Z",
     "start_time": "2018-07-08T02:00:18.718694Z"
    },
    "scrolled": false
   },
   "outputs": [],
   "source": [
    "for i in (\n",
    "    2007,\n",
    "    725,\n",
    "    90212,\n",
    "    9909,\n",
    "    2017,\n",
    "    2018,\n",
    ") + tuple(range(100)):\n",
    "\n",
    "    nmf_map = ccal.NMFMap(\n",
    "        w.T,\n",
    "        h,\n",
    "        mds_random_seed=i,\n",
    "        wt_pull_power=a.NMF_MAP_WT_PULL_POWER,\n",
    "        h_pull_power=a.NMF_MAP_H_PULL_POWER,\n",
    "        plot=False,\n",
    "    )\n",
    "\n",
    "    for wt_or_h, hcc_k, bandwidth_factor, element_marker_size in (\n",
    "        (\n",
    "            'wt',\n",
    "            a.WT_HCC_K,\n",
    "            a.NMF_MAP_WT_BANDWIDTH_FACTOR,\n",
    "            a.NMF_MAP_WT_ELEMENT_MARKER_SIZE,\n",
    "        ),\n",
    "        (\n",
    "            'h',\n",
    "            a.H_HCC_K,\n",
    "            a.NMF_MAP_H_BANDWIDTH_FACTOR,\n",
    "            a.NMF_MAP_H_ELEMENT_MARKER_SIZE,\n",
    "        ),\n",
    "    ):\n",
    "\n",
    "        if wt_or_h == 'h':\n",
    "\n",
    "            nmf_map.plot_nmf_map(\n",
    "                wt_or_h,\n",
    "                title=i,\n",
    "                element_marker_size=element_marker_size,\n",
    "            )"
   ]
  },
  {
   "cell_type": "code",
   "execution_count": null,
   "metadata": {
    "ExecuteTime": {
     "end_time": "2018-07-08T02:00:19.346991Z",
     "start_time": "2018-07-08T02:00:19.046392Z"
    }
   },
   "outputs": [],
   "source": [
    "wt_hcc__k_x_column_file_path = p['wt_hcc__k_x_column_file_path']\n",
    "\n",
    "if os.path.isfile(wt_hcc__k_x_column_file_path):\n",
    "\n",
    "    wt_hcc__k_x_column = pd.read_table(\n",
    "        wt_hcc__k_x_column_file_path,\n",
    "        index_col=0,\n",
    "    )\n",
    "\n",
    "    wt_element_states = wt_hcc__k_x_column.loc['K{}'.format(a.WT_HCC_K)]\n",
    "\n",
    "    wt_element_states = wt_element_states[w.index]\n",
    "\n",
    "else:\n",
    "\n",
    "    wt_element_states = None\n",
    "\n",
    "h_hcc__k_x_column_file_path = p['h_hcc__k_x_column_file_path']\n",
    "\n",
    "if os.path.isfile(h_hcc__k_x_column_file_path):\n",
    "\n",
    "    h_hcc__k_x_column = pd.read_table(\n",
    "        h_hcc__k_x_column_file_path,\n",
    "        index_col=0,\n",
    "    )\n",
    "\n",
    "    h_element_states = h_hcc__k_x_column.loc['K{}'.format(a.H_HCC_K)]\n",
    "\n",
    "    h_element_states = h_element_states[h.columns]\n",
    "\n",
    "else:\n",
    "\n",
    "    h_element_states = None"
   ]
  },
  {
   "cell_type": "code",
   "execution_count": null,
   "metadata": {
    "ExecuteTime": {
     "end_time": "2018-07-08T02:00:24.671451Z",
     "start_time": "2018-07-08T02:00:20.186020Z"
    },
    "scrolled": false
   },
   "outputs": [],
   "source": [
    "nmf_map = ccal.NMFMap(\n",
    "    wt=w.T,\n",
    "    h=h,\n",
    "    mds_random_seed=a.NMF_MAP_MDS_RANDOM_SEED,\n",
    "    wt_pull_power=a.NMF_MAP_WT_PULL_POWER,\n",
    "    h_pull_power=a.NMF_MAP_H_PULL_POWER,\n",
    "    plot=False,\n",
    ")"
   ]
  },
  {
   "cell_type": "code",
   "execution_count": null,
   "metadata": {
    "ExecuteTime": {
     "end_time": "2018-07-08T02:02:12.085073Z",
     "start_time": "2018-07-08T02:00:24.673295Z"
    },
    "scrolled": false
   },
   "outputs": [],
   "source": [
    "for wt_or_h, hcc_k, element_states, bandwidth_factor, element_marker_size in (\n",
    "    (\n",
    "        'wt',\n",
    "        a.WT_HCC_K,\n",
    "        wt_element_states,\n",
    "        a.NMF_MAP_WT_BANDWIDTH_FACTOR,\n",
    "        a.NMF_MAP_WT_ELEMENT_MARKER_SIZE,\n",
    "    ),\n",
    "    (\n",
    "        'h',\n",
    "        a.H_HCC_K,\n",
    "        h_element_states, \n",
    "        a.NMF_MAP_H_BANDWIDTH_FACTOR,\n",
    "        a.NMF_MAP_H_ELEMENT_MARKER_SIZE,\n",
    "    ),\n",
    "):\n",
    "\n",
    "    nmf_map.plot_nmf_map(\n",
    "        wt_or_h,\n",
    "        title=a.NAME,\n",
    "        element_marker_size=element_marker_size,\n",
    "        html_file_path='{}/map.html'.format(p['{}_map_directory_path'.format(wt_or_h)]),\n",
    "        plotly_file_path=p['{}_map_plotly_file_path'.format(wt_or_h)],\n",
    "    )\n",
    "\n",
    "    if element_states is not None:\n",
    "\n",
    "        nmf_map.set_element_states(\n",
    "            wt_or_h,\n",
    "            element_states,\n",
    "            bandwidth_factor=bandwidth_factor,\n",
    "        )\n",
    "\n",
    "        nmf_map.plot_nmf_map(\n",
    "            wt_or_h,\n",
    "            title=a.NAME,\n",
    "            element_marker_size=element_marker_size,\n",
    "            html_file_path='{}/map_{}.html'.format(\n",
    "                p['{}_map_directory_path'.format(wt_or_h)],\n",
    "                hcc_k,\n",
    "            ),\n",
    "            plotly_file_path=p['{}_state_map_plotly_file_path'.format(wt_or_h)],\n",
    "        )"
   ]
  },
  {
   "cell_type": "code",
   "execution_count": null,
   "metadata": {
    "ExecuteTime": {
     "end_time": "2018-07-08T02:02:12.358617Z",
     "start_time": "2018-07-08T02:02:12.087352Z"
    },
    "scrolled": false
   },
   "outputs": [],
   "source": [
    "ccal.dump_nmf_map(\n",
    "    nmf_map,\n",
    "    p['nmf_map_file_path'],\n",
    ")"
   ]
  },
  {
   "cell_type": "code",
   "execution_count": null,
   "metadata": {
    "ExecuteTime": {
     "end_time": "2018-07-08T02:03:06.168590Z",
     "start_time": "2018-07-08T02:02:12.360796Z"
    }
   },
   "outputs": [],
   "source": [
    "feature_dicts = make_feature_dicts()"
   ]
  },
  {
   "cell_type": "code",
   "execution_count": null,
   "metadata": {
    "ExecuteTime": {
     "end_time": "2018-07-08T02:17:53.485644Z",
     "start_time": "2018-07-08T02:16:09.700989Z"
    },
    "scrolled": false
   },
   "outputs": [],
   "source": [
    "for feature, feature_name in (\n",
    "    (\n",
    "        'mRNA',\n",
    "        'ZEB1',\n",
    "    ),\n",
    "    (\n",
    "        'mRNA',\n",
    "        'AXL',\n",
    "    ),\n",
    "):\n",
    "\n",
    "    nmf_map.plot_nmf_map(\n",
    "        'h',\n",
    "        annotation_x_element=feature_dicts[feature]['df'].loc[feature_name].to_frame().T,\n",
    "        annotation_std_maxs=(3, ),\n",
    "        title='({}) {}'.format(\n",
    "            feature,\n",
    "            feature_name,\n",
    "        ),\n",
    "        element_marker_size=a.NMF_MAP_H_ELEMENT_MARKER_SIZE,\n",
    "        plotly_file_path='{}/{} {}'.format(\n",
    "            p['{}_state_maps_plotly_directory_path'.format(wt_or_h)],\n",
    "            feature,\n",
    "            feature_name,\n",
    "        ),\n",
    "    )"
   ]
  }
 ],
 "metadata": {
  "kernelspec": {
   "display_name": "Python 3",
   "language": "python",
   "name": "python3"
  },
  "language_info": {
   "codemirror_mode": {
    "name": "ipython",
    "version": 3
   },
   "file_extension": ".py",
   "mimetype": "text/x-python",
   "name": "python",
   "nbconvert_exporter": "python",
   "pygments_lexer": "ipython3",
   "version": "3.5.5"
  }
 },
 "nbformat": 4,
 "nbformat_minor": 2
}
