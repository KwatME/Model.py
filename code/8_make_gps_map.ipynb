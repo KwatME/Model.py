{
 "cells": [
  {
   "cell_type": "code",
   "execution_count": null,
   "metadata": {
    "ExecuteTime": {
     "end_time": "2018-07-08T02:00:18.270535Z",
     "start_time": "2018-07-08T02:00:17.409834Z"
    }
   },
   "outputs": [],
   "source": [
    "%load_ext autoreload\n",
    "%autoreload 2"
   ]
  },
  {
   "cell_type": "code",
   "execution_count": null,
   "metadata": {
    "ExecuteTime": {
     "end_time": "2018-07-06T18:37:38.413000Z",
     "start_time": "2018-07-06T18:37:36.654831Z"
    }
   },
   "outputs": [],
   "source": [
    "from environment import *\n",
    "from setting import *"
   ]
  },
  {
   "cell_type": "code",
   "execution_count": null,
   "metadata": {
    "ExecuteTime": {
     "end_time": "2018-07-08T02:00:18.692012Z",
     "start_time": "2018-07-08T02:00:18.309427Z"
    }
   },
   "outputs": [],
   "source": [
    "w = pd.read_table(PATH_DICT[\"w.tsv\"], index_col=0)\n",
    "\n",
    "h = pd.read_table(PATH_DICT[\"h.tsv\"], index_col=0)"
   ]
  },
  {
   "cell_type": "code",
   "execution_count": null,
   "metadata": {
    "ExecuteTime": {
     "end_time": "2018-07-08T02:00:18.716327Z",
     "start_time": "2018-07-08T02:00:18.694100Z"
    }
   },
   "outputs": [],
   "source": [
    "if ELEMENT_ENTROPY_QUANTILE < 1:\n",
    "\n",
    "    feature_entropy = w.apply(ccal.compute_entropy, axis=1)\n",
    "\n",
    "    w = w.loc[\n",
    "        feature_entropy.index[\n",
    "            feature_entropy < feature_entropy.quantile(q=ELEMENT_ENTROPY_QUANTILE)\n",
    "        ]\n",
    "    ]\n",
    "\n",
    "    print(w.shape)\n",
    "\n",
    "    sample_entropy = h.apply(ccal.compute_entropy)\n",
    "\n",
    "    h = h[\n",
    "        sample_entropy.index[\n",
    "            sample_entropy < sample_entropy.quantile(q=ELEMENT_ENTROPY_QUANTILE)\n",
    "        ]\n",
    "    ]\n",
    "\n",
    "    print(h.shape)"
   ]
  },
  {
   "cell_type": "code",
   "execution_count": null,
   "metadata": {},
   "outputs": [],
   "source": [
    "gps_map = ccal.GPSMap(\n",
    "    w=w.T,\n",
    "    h=h,\n",
    "    w_pull_power=GPS_MAP_W_PULL_POWER,\n",
    "    h_pull_power=GPS_MAP_H_PULL_POWER,\n",
    "    plot=False,\n",
    ")"
   ]
  },
  {
   "cell_type": "code",
   "execution_count": null,
   "metadata": {},
   "outputs": [],
   "source": [
    "for element_type in (\"feature\", \"sample\"):\n",
    "\n",
    "    if element_type == \"feature\":\n",
    "\n",
    "        element_alias = FEATURE_ALIAS\n",
    "\n",
    "        w_or_h = \"w\"\n",
    "\n",
    "        element_marker_size = GPS_MAP_W_ELEMENT_MARKER_SIZE\n",
    "\n",
    "    elif element_type == \"sample\":\n",
    "\n",
    "        element_alias = SAMPLE_ALIAS\n",
    "\n",
    "        w_or_h = \"h\"\n",
    "\n",
    "        element_marker_size = GPS_MAP_H_ELEMENT_MARKER_SIZE\n",
    "\n",
    "    title = \"{}<br>{}\".format(FEATURE_X_SAMPLE_ALIAS, element_alias)\n",
    "\n",
    "    gps_map.plot_gps_map(\n",
    "        w_or_h,\n",
    "        title=title,\n",
    "        element_marker_size=element_marker_size,\n",
    "        html_file_path=\"{}/map.html\".format(PATH_DICT[\"{}/\".format(w_or_h)]),\n",
    "    )\n",
    "\n",
    "    hcc__k_x_column_file_path = PATH_DICT[\"{}|hcc__k_x_column.tsv\".format(w_or_h)]\n",
    "\n",
    "    if os.path.isfile(hcc__k_x_column_file_path):\n",
    "\n",
    "        hcc__k_x_column = pd.read_table(hcc__k_x_column_file_path, index_col=0)\n",
    "\n",
    "        if element_type == \"feature\":\n",
    "\n",
    "            hcc_k = W_HCC_K\n",
    "\n",
    "            elements = gps_map.w_elements\n",
    "\n",
    "            bandwidth_factor = GPS_MAP_W_BANDWIDTH_FACTOR\n",
    "\n",
    "        elif element_type == \"sample\":\n",
    "\n",
    "            hcc_k = H_HCC_K\n",
    "\n",
    "            elements = gps_map.h_elements\n",
    "\n",
    "            bandwidth_factor = GPS_MAP_H_BANDWIDTH_FACTOR\n",
    "\n",
    "        gps_map.set_element_states(\n",
    "            w_or_h,\n",
    "            hcc__k_x_column.loc[\"K{}\".format(hcc_k), elements],\n",
    "            bandwidth_factor=bandwidth_factor,\n",
    "        )\n",
    "\n",
    "        gps_map.plot_gps_map(\n",
    "            w_or_h,\n",
    "            title=title,\n",
    "            element_marker_size=element_marker_size,\n",
    "            html_file_path=\"{}/map.html\".format(\n",
    "                PATH_DICT[\"{}|hcc|map/\".format(w_or_h)]\n",
    "            ),\n",
    "            plotly_file_path=\"{}/{} Map.html\".format(\n",
    "                PATH_DICT[\"plotly/\"], element_alias\n",
    "            ),\n",
    "        )"
   ]
  },
  {
   "cell_type": "code",
   "execution_count": null,
   "metadata": {},
   "outputs": [],
   "source": [
    "ccal.dump_gps_map(gps_map, PATH_DICT[\"gps_map.pickle.gz\"])"
   ]
  }
 ],
 "metadata": {
  "kernelspec": {
   "display_name": "Python 3",
   "language": "python",
   "name": "python3"
  },
  "language_info": {
   "codemirror_mode": {
    "name": "ipython",
    "version": 3
   },
   "file_extension": ".py",
   "mimetype": "text/x-python",
   "name": "python",
   "nbconvert_exporter": "python",
   "pygments_lexer": "ipython3",
   "version": "3.6.7"
  }
 },
 "nbformat": 4,
 "nbformat_minor": 2
}
