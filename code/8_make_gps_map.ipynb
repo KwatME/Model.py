{
 "cells": [
  {
   "cell_type": "code",
   "execution_count": null,
   "metadata": {
    "ExecuteTime": {
     "end_time": "2018-07-08T02:00:18.270535Z",
     "start_time": "2018-07-08T02:00:17.409834Z"
    }
   },
   "outputs": [],
   "source": [
    "%load_ext autoreload\n",
    "%autoreload 2"
   ]
  },
  {
   "cell_type": "code",
   "execution_count": null,
   "metadata": {
    "ExecuteTime": {
     "end_time": "2018-07-06T18:37:38.413000Z",
     "start_time": "2018-07-06T18:37:36.654831Z"
    }
   },
   "outputs": [],
   "source": [
    "from environment import *\n",
    "from setting import *"
   ]
  },
  {
   "cell_type": "code",
   "execution_count": null,
   "metadata": {
    "ExecuteTime": {
     "end_time": "2018-07-08T02:00:18.692012Z",
     "start_time": "2018-07-08T02:00:18.309427Z"
    }
   },
   "outputs": [],
   "source": [
    "w = pd.read_table(\n",
    "    PATH_DICT['w_file_path'],\n",
    "    index_col=0,\n",
    ")\n",
    "\n",
    "h = pd.read_table(\n",
    "    PATH_DICT['h_file_path'],\n",
    "    index_col=0,\n",
    ")"
   ]
  },
  {
   "cell_type": "code",
   "execution_count": null,
   "metadata": {
    "ExecuteTime": {
     "end_time": "2018-07-08T02:00:18.716327Z",
     "start_time": "2018-07-08T02:00:18.694100Z"
    }
   },
   "outputs": [],
   "source": [
    "if ELEMENT_ENTROPY_QUANTILE < 1:\n",
    "    \n",
    "    feature_entropy = w.apply(\n",
    "        ccal.compute_entropy,\n",
    "        axis=1,\n",
    "    )\n",
    "    \n",
    "    w = w.loc[feature_entropy.index[feature_entropy < feature_entropy.quantile(q=ELEMENTS_ENTROPY_QUANTILE)]]\n",
    "    \n",
    "    print(w.shape)\n",
    "    \n",
    "    sample_entropy = h.apply(ccal.compute_entropy)\n",
    "    \n",
    "    h = h[sample_entropy.index[sample_entropy < sample_entropy.quantile(q=ELEMENTS_ENTROPY_QUANTILE)]]\n",
    "    \n",
    "    print(h.shape)"
   ]
  },
  {
   "cell_type": "code",
   "execution_count": null,
   "metadata": {},
   "outputs": [],
   "source": [
    "gps_map = ccal.GPSMap(\n",
    "    w=w.T,\n",
    "    h=h,\n",
    "    w_pull_power=GPS_MAP_W_PULL_POWER,\n",
    "    h_pull_power=GPS_MAP_H_PULL_POWER,\n",
    "    plot=False,\n",
    ")"
   ]
  },
  {
   "cell_type": "code",
   "execution_count": null,
   "metadata": {},
   "outputs": [],
   "source": [
    "for w_or_h, hcc_k, bandwidth_factor, element_marker_size in (\n",
    "    (\n",
    "        'w',\n",
    "        W_HCC_K,\n",
    "        GPS_MAP_W_BANDWIDTH_FACTOR,\n",
    "        GPS_MAP_W_ELEMENT_MARKER_SIZE,\n",
    "    ),\n",
    "    (\n",
    "        'h',\n",
    "        H_HCC_K,\n",
    "        GPS_MAP_H_BANDWIDTH_FACTOR,\n",
    "        GPS_MAP_H_ELEMENT_MARKER_SIZE,\n",
    "    ),\n",
    "):\n",
    "    \n",
    "    gps_map.plot_gps_map(\n",
    "        w_or_h,\n",
    "        title=TITLE,\n",
    "        element_marker_size=element_marker_size,\n",
    "        html_file_path='{}/map.html'.format(PATH_DICT['{}_map_directory_path'.format(w_or_h)]),\n",
    "    )\n",
    "    \n",
    "    hcc__k_x_column_file_path = PATH_DICT['{}_hcc__k_x_column_file_path'.format(w_or_h)]\n",
    "    \n",
    "    if os.path.isfile(hcc__k_x_column_file_path):\n",
    "        \n",
    "        hcc__k_x_column = pd.read_table(\n",
    "            hcc__k_x_column_file_path,\n",
    "            index_col=0,\n",
    "        )\n",
    "        \n",
    "        gps_map.set_element_states(\n",
    "            w_or_h,\n",
    "            hcc__k_x_column.loc['K{}'.format(hcc_k)],\n",
    "            bandwidth_factor=bandwidth_factor,\n",
    "        )\n",
    "        \n",
    "        gps_map.plot_gps_map(\n",
    "            w_or_h,\n",
    "            title=TITLE,\n",
    "            element_marker_size=element_marker_size,\n",
    "            html_file_path='{}/map_with_color.html'.format(PATH_DICT['{}_map_directory_path'.format(w_or_h)]),\n",
    "            plotly_file_path=PATH_DICT['{}_map_plotly_file_path'.format(w_or_h)],\n",
    "        )"
   ]
  },
  {
   "cell_type": "code",
   "execution_count": null,
   "metadata": {},
   "outputs": [],
   "source": [
    "ccal.dump_gps_map(\n",
    "    gps_map,\n",
    "    PATH_DICT['gps_map_file_path'],\n",
    ")"
   ]
  }
 ],
 "metadata": {
  "kernelspec": {
   "display_name": "Python 3",
   "language": "python",
   "name": "python3"
  },
  "language_info": {
   "codemirror_mode": {
    "name": "ipython",
    "version": 3
   },
   "file_extension": ".py",
   "mimetype": "text/x-python",
   "name": "python",
   "nbconvert_exporter": "python",
   "pygments_lexer": "ipython3",
   "version": "3.6.7"
  }
 },
 "nbformat": 4,
 "nbformat_minor": 2
}
