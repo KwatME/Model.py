{
 "cells": [
  {
   "cell_type": "code",
   "execution_count": null,
   "metadata": {
    "ExecuteTime": {
     "end_time": "2018-07-08T00:30:32.513083Z",
     "start_time": "2018-07-08T00:30:32.501224Z"
    }
   },
   "outputs": [],
   "source": [
    "%load_ext autoreload\n",
    "\n",
    "%autoreload 2"
   ]
  },
  {
   "cell_type": "code",
   "execution_count": null,
   "metadata": {
    "ExecuteTime": {
     "end_time": "2018-07-08T02:00:18.306031Z",
     "start_time": "2018-07-08T02:00:18.276698Z"
    }
   },
   "outputs": [],
   "source": [
    "from environment import *\n",
    "\n",
    "import setting\n",
    "\n",
    "path_dict = path(setting)"
   ]
  },
  {
   "cell_type": "code",
   "execution_count": null,
   "metadata": {
    "ExecuteTime": {
     "end_time": "2018-07-08T00:30:34.729664Z",
     "start_time": "2018-07-08T00:30:34.683851Z"
    }
   },
   "outputs": [],
   "source": [
    "for nmf_k in setting.NMF_KS:\n",
    "    \n",
    "    h_0 = pd.read_table(\n",
    "        path_dict['h_file_path'].replace(\n",
    "            'k{}'.format(setting.NMF_K),\n",
    "            'k{}'.format(nmf_k),\n",
    "        ),\n",
    "        index_col=0,\n",
    "    )\n",
    "    \n",
    "    h_0_name = 'NMF K{}'.format(nmf_k)\n",
    "    \n",
    "    h_1 = pd.read_table(\n",
    "        '../data/kras_map/nmf_k9_h.tsv',\n",
    "        index_col=0,\n",
    "    )\n",
    "    \n",
    "    h_1_name = 'KRAS'\n",
    "\n",
    "    common_elements = h_0.columns & h_1.columns\n",
    "\n",
    "    if 0 < common_elements.size:\n",
    "\n",
    "        ccal.make_comparison_panel(\n",
    "            h_0[common_elements],\n",
    "            h_1[common_elements],\n",
    "            title='Comparison ({} common element)'.format(common_elements.size),\n",
    "            name_0=h_0_name,\n",
    "            name_1=h_1_name,\n",
    "        )"
   ]
  }
 ],
 "metadata": {
  "kernelspec": {
   "display_name": "Python 3",
   "language": "python",
   "name": "python3"
  },
  "language_info": {
   "codemirror_mode": {
    "name": "ipython",
    "version": 3
   },
   "file_extension": ".py",
   "mimetype": "text/x-python",
   "name": "python",
   "nbconvert_exporter": "python",
   "pygments_lexer": "ipython3",
   "version": "3.6.6"
  }
 },
 "nbformat": 4,
 "nbformat_minor": 2
}
