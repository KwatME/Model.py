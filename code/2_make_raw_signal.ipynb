{
 "cells": [
  {
   "cell_type": "code",
   "execution_count": null,
   "metadata": {
    "ExecuteTime": {
     "end_time": "2018-07-06T20:13:14.932963Z",
     "start_time": "2018-07-06T20:13:14.920835Z"
    }
   },
   "outputs": [],
   "source": [
    "%load_ext autoreload\n",
    "%autoreload 2"
   ]
  },
  {
   "cell_type": "code",
   "execution_count": null,
   "metadata": {
    "ExecuteTime": {
     "end_time": "2018-07-06T20:13:16.628911Z",
     "start_time": "2018-07-06T20:13:14.935143Z"
    }
   },
   "outputs": [],
   "source": [
    "from environment import *\n",
    "\n",
    "PROJECT_JSON = kraft.read_json(\"../project.json\")\n",
    "\n",
    "PATH = make_path_dict(PROJECT_JSON)"
   ]
  },
  {
   "cell_type": "code",
   "execution_count": null,
   "metadata": {},
   "outputs": [],
   "source": [
    "if PROJECT_JSON[\"signal_type\"] != \"raw\":\n",
    "\n",
    "    raise"
   ]
  },
  {
   "cell_type": "code",
   "execution_count": null,
   "metadata": {},
   "outputs": [],
   "source": [
    "feature_x_sample_processed = pd.read_csv(\n",
    "    PATH[\"feature_x_sample.processed.tsv\"], sep=\"\\t\", index_col=0\n",
    ")\n",
    "\n",
    "feature_x_sample_processed.columns.name = PROJECT_JSON[\"sample_alias\"]"
   ]
  },
  {
   "cell_type": "code",
   "execution_count": null,
   "metadata": {},
   "outputs": [],
   "source": [
    "xaxis = {\"title\": \"Rank\"}\n",
    "\n",
    "yaxis = {\"title\": \"Raw Signal Standard Deviation\"}"
   ]
  },
  {
   "cell_type": "code",
   "execution_count": null,
   "metadata": {},
   "outputs": [],
   "source": [
    "if PROJECT_JSON[\"select_feature_automatically\"]:\n",
    "\n",
    "    features = kraft.select_series_indices(\n",
    "        feature_x_sample_processed.std(axis=1),\n",
    "        \">\",\n",
    "        standard_deviation=PROJECT_JSON[\"select_feature_standard_deviation\"],\n",
    "        title={\"text\": feature_x_sample_processed.index.name},\n",
    "        xaxis=xaxis,\n",
    "        yaxis=yaxis,\n",
    "    )\n",
    "\n",
    "else:\n",
    "\n",
    "    features = feature_x_sample_processed.index\n",
    "\n",
    "f\"Selected {features.size} {PROJECT_JSON['feature_alias']}.\""
   ]
  },
  {
   "cell_type": "code",
   "execution_count": null,
   "metadata": {},
   "outputs": [],
   "source": [
    "if PROJECT_JSON[\"select_sample_automatically\"]:\n",
    "\n",
    "    samples = kraft.select_series_indices(\n",
    "        feature_x_sample_processed.std(),\n",
    "        \">\",\n",
    "        standard_deviation=PROJECT_JSON[\"select_sample_standard_deviation\"],\n",
    "        title={\"text\": feature_x_sample_processed.columns.name},\n",
    "        xaxis=xaxis,\n",
    "        yaxis=yaxis,\n",
    "    )\n",
    "\n",
    "else:\n",
    "\n",
    "    samples = feature_x_sample_processed.columns\n",
    "\n",
    "f\"Selected {samples.size} {PROJECT_JSON['sample_alias']}.\""
   ]
  },
  {
   "cell_type": "code",
   "execution_count": null,
   "metadata": {},
   "outputs": [],
   "source": [
    "raw_signal = feature_x_sample_processed.loc[features, samples]"
   ]
  },
  {
   "cell_type": "code",
   "execution_count": null,
   "metadata": {},
   "outputs": [],
   "source": [
    "if PROJECT_JSON[\"signal_normalization_method\"] is not None:\n",
    "\n",
    "    raw_signal = kraft.normalize_series_or_dataframe(\n",
    "        raw_signal,\n",
    "        PROJECT_JSON[\"signal_normalization_axis\"],\n",
    "        PROJECT_JSON[\"signal_normalization_method\"],\n",
    "    )"
   ]
  },
  {
   "cell_type": "code",
   "execution_count": null,
   "metadata": {},
   "outputs": [],
   "source": [
    "raw_signal.to_csv(PATH[\"feature_x_sample.signal.tsv\"], sep=\"\\t\")\n",
    "\n",
    "kraft.summarize_feature_x_sample(\n",
    "    raw_signal,\n",
    "    feature_x_sample_alias=PROJECT_JSON[\"feature_x_sample_alias\"],\n",
    "    feature_x_sample_value_name=\"Signal\",\n",
    "    plot_heat_map_max_size=PROJECT_JSON[\"plot_heat_map_max_size\"],\n",
    "    plot_histogram_max_size=PROJECT_JSON[\"plot_histogram_max_size\"],\n",
    "    plot_rug_max_size=PROJECT_JSON[\"plot_rug_max_size\"],\n",
    ")"
   ]
  }
 ],
 "metadata": {
  "@webio": {
   "lastCommId": null,
   "lastKernelId": null
  },
  "kernelspec": {
   "display_name": "Python 3",
   "language": "python",
   "name": "python3"
  },
  "language_info": {
   "codemirror_mode": {
    "name": "ipython",
    "version": 3
   },
   "file_extension": ".py",
   "mimetype": "text/x-python",
   "name": "python",
   "nbconvert_exporter": "python",
   "pygments_lexer": "ipython3",
   "version": "3.7.3"
  }
 },
 "nbformat": 4,
 "nbformat_minor": 2
}
