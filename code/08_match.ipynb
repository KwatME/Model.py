{
 "cells": [
  {
   "cell_type": "code",
   "execution_count": null,
   "metadata": {},
   "outputs": [],
   "source": [
    "from __init__ import *"
   ]
  },
  {
   "cell_type": "code",
   "execution_count": null,
   "metadata": {},
   "outputs": [],
   "source": [
    "w_df_, h_df_ = read_factorization(\n",
    "    \"../output/matrix_factorization/\", SETTING[\"model_mode\"], SETTING[\"model_data_\"],\n",
    ")"
   ]
  },
  {
   "cell_type": "code",
   "execution_count": null,
   "metadata": {},
   "outputs": [],
   "source": [
    "comparison_x_w_point_df = pd.concat(w_df_).T\n",
    "\n",
    "comparison_x_h_point_df = pd.concat(h_df_, axis=1)"
   ]
  },
  {
   "cell_type": "code",
   "execution_count": null,
   "metadata": {},
   "outputs": [],
   "source": [
    "data_ = SETTING[\"model_data_\"] + SETTING[\"annotation_data_\"]\n",
    "\n",
    "for data in data_:\n",
    "\n",
    "    df = pd.read_csv(data[\"file_path\"], sep=\"\\t\", index_col=0)\n",
    "\n",
    "    df.columns.name = data[\"axis_1_name\"]\n",
    "\n",
    "    data[\"df\"] = df"
   ]
  },
  {
   "cell_type": "code",
   "execution_count": null,
   "metadata": {},
   "outputs": [],
   "source": [
    "for w_h_symbol in (\"w\", \"h\"):\n",
    "\n",
    "    if w_h_symbol == \"w\":\n",
    "\n",
    "        comparison_x_point_df = comparison_x_w_point_df\n",
    "\n",
    "    else:\n",
    "\n",
    "        comparison_x_point_df = comparison_x_h_point_df\n",
    "\n",
    "    for comparison, sr in comparison_x_point_df.iterrows():\n",
    "\n",
    "        for data in data_:\n",
    "\n",
    "            df = data[\"df\"]\n",
    "\n",
    "            for df in (df, df.T):\n",
    "\n",
    "                if 0 < (sr.index & df.columns).size:\n",
    "\n",
    "                    directory_path = \"../output/function_heat_map/{}/{}/{}/\".format(\n",
    "                        w_h_symbol, comparison, data[\"name\"]\n",
    "                    )\n",
    "\n",
    "                    kraft.path.make(directory_path)\n",
    "\n",
    "                    path = \"{}statistic.tsv\".format(directory_path)\n",
    "\n",
    "                    if os.path.isfile(path):\n",
    "\n",
    "                        function_or_statistic = pd.read_csv(path, sep=\"\\t\", index_col=0)\n",
    "\n",
    "                    else:\n",
    "\n",
    "                        function_or_statistic = kraft.information.get_ic\n",
    "\n",
    "                    kraft.function_heat_map.make(\n",
    "                        sr,\n",
    "                        df,\n",
    "                        function_or_statistic,\n",
    "                        job_n=SETTING[\"job_n\"],\n",
    "                        sample_n=0,\n",
    "                        shuffle_n=0,\n",
    "                        matrix_data_type=data[\"data_type\"],\n",
    "                        title=data[\"name\"],\n",
    "                        directory_path=directory_path,\n",
    "                    )"
   ]
  }
 ],
 "metadata": {
  "kernelspec": {
   "display_name": "Python 3",
   "language": "python",
   "name": "python3"
  },
  "language_info": {
   "codemirror_mode": {
    "name": "ipython",
    "version": 3
   },
   "file_extension": ".py",
   "mimetype": "text/x-python",
   "name": "python",
   "nbconvert_exporter": "python",
   "pygments_lexer": "ipython3",
   "version": "3.7.8"
  }
 },
 "nbformat": 4,
 "nbformat_minor": 4
}
