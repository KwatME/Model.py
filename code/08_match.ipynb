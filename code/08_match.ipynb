{
 "cells": [
  {
   "cell_type": "code",
   "execution_count": 1,
   "metadata": {},
   "outputs": [],
   "source": [
    "from __init__ import *"
   ]
  },
  {
   "cell_type": "code",
   "execution_count": null,
   "metadata": {},
   "outputs": [],
   "source": [
    "ws, hs = read_ws_hs(\n",
    "    \"../output/mf/\", SETTING[\"model_mode\"], SETTING[\"model_data_dicts\"],\n",
    ")"
   ]
  },
  {
   "cell_type": "code",
   "execution_count": null,
   "metadata": {},
   "outputs": [],
   "source": [
    "comparison_x_w_point = pd.concat(ws).T\n",
    "\n",
    "comparison_x_h_point = pd.concat(hs, axis=1)"
   ]
  },
  {
   "cell_type": "code",
   "execution_count": null,
   "metadata": {},
   "outputs": [],
   "source": [
    "data_dicts = SETTING[\"model_data_dicts\"] + SETTING[\"annotation_data_dicts\"]\n",
    "\n",
    "for data_dict in data_dicts:\n",
    "\n",
    "    data_dict[\"dataframe\"] = pd.read_csv(data_dict[\"file_path\"], sep=\"\\t\", index_col=0)"
   ]
  },
  {
   "cell_type": "code",
   "execution_count": null,
   "metadata": {},
   "outputs": [],
   "source": [
    "for w_h_str in (\"w\", \"h\"):\n",
    "\n",
    "    if w_h_str == \"w\":\n",
    "\n",
    "        comparison_x_sample = comparison_x_w_point\n",
    "\n",
    "    else:\n",
    "\n",
    "        comparison_x_sample = comparison_x_h_point\n",
    "\n",
    "    directory_path = \"../output/{}_match/\".format(w_h_str)\n",
    "\n",
    "    for comparison, sample_numbers in comparison_x_sample.iterrows():\n",
    "\n",
    "        for data_dict in data_dicts:\n",
    "\n",
    "            dataframe = data_dict[\"dataframe\"]\n",
    "\n",
    "            for dataframe in (dataframe, dataframe.T):\n",
    "\n",
    "                if 0 < (sample_numbers.index & dataframe.columns).size:\n",
    "\n",
    "                    directory_path = \"{}{}/{}/\".format(\n",
    "                        directory_path, comparison, data_dict[\"name\"],\n",
    "                    )\n",
    "\n",
    "                    kraft.path.path(directory_path)\n",
    "\n",
    "                    scores_file_path = \"{}scores.tsv\".format(directory_path)\n",
    "\n",
    "                    if os.path.isfile(scores_file_path):\n",
    "\n",
    "                        print(\"Reading {}...\".format(scores_file_path))\n",
    "\n",
    "                        function_or_scores = pd.read_csv(\n",
    "                            scores_file_path, sep=\"\\t\", index_col=0\n",
    "                        )\n",
    "\n",
    "                    else:\n",
    "\n",
    "                        function_or_scores = kraft.information.get_ic\n",
    "\n",
    "                    kraft.function_heat_map.make(\n",
    "                        sample_numbers,\n",
    "                        data_dict[\"dataframe\"],\n",
    "                        function_or_scores,\n",
    "                        n_job=SETTING[\"n_job\"],\n",
    "                        df_data_type=data_dict[\"data_type\"],\n",
    "                        title=data_dict[\"name\"],\n",
    "                        directory_path=directory_path,\n",
    "                    )"
   ]
  }
 ],
 "metadata": {
  "kernelspec": {
   "display_name": "Python 3",
   "language": "python",
   "name": "python3"
  },
  "language_info": {
   "codemirror_mode": {
    "name": "ipython",
    "version": 3
   },
   "file_extension": ".py",
   "mimetype": "text/x-python",
   "name": "python",
   "nbconvert_exporter": "python",
   "pygments_lexer": "ipython3",
   "version": "3.7.8"
  }
 },
 "nbformat": 4,
 "nbformat_minor": 4
}
