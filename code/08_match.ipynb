{
 "cells": [
  {
   "cell_type": "code",
   "execution_count": null,
   "metadata": {},
   "outputs": [],
   "source": [
    "from __init__ import *"
   ]
  },
  {
   "cell_type": "code",
   "execution_count": null,
   "metadata": {},
   "outputs": [],
   "source": [
    "w_, h_ = read_factorization(\n",
    "    \"../output/matrix_factorization/\", SETTING[\"model_mode\"], SETTING[\"model_data_\"],\n",
    ")"
   ]
  },
  {
   "cell_type": "code",
   "execution_count": null,
   "metadata": {},
   "outputs": [],
   "source": [
    "comparison_x_w_point = pd.concat(w_).T\n",
    "\n",
    "comparison_x_h_point = pd.concat(h_, axis=1)"
   ]
  },
  {
   "cell_type": "code",
   "execution_count": null,
   "metadata": {},
   "outputs": [],
   "source": [
    "data_ = SETTING[\"model_data_\"] + SETTING[\"annotation_data_\"]\n",
    "\n",
    "for data in data_:\n",
    "\n",
    "    data[\"df\"] = pd.read_csv(data[\"file_path\"], sep=\"\\t\", index_col=0)"
   ]
  },
  {
   "cell_type": "code",
   "execution_count": null,
   "metadata": {},
   "outputs": [],
   "source": [
    "for w_h_symbol in (\"w\", \"h\"):\n",
    "\n",
    "    if w_h_symbol == \"w\":\n",
    "\n",
    "        comparison_x_point = comparison_x_w_point\n",
    "\n",
    "    else:\n",
    "\n",
    "        comparison_x_point = comparison_x_h_point\n",
    "\n",
    "    directory_path = \"../output/{}_function_heat_map/\".format(w_h_symbol)\n",
    "\n",
    "    for comparison, sr in comparison_x_point.iterrows():\n",
    "\n",
    "        for data in data_:\n",
    "\n",
    "            df = data[\"df\"]\n",
    "\n",
    "            for df in (df, df.T):\n",
    "\n",
    "                if 0 < (sr.index & df.columns).size:\n",
    "\n",
    "                    _directory_path = \"{}{}/{}/\".format(\n",
    "                        directory_path, comparison, data[\"name\"],\n",
    "                    )\n",
    "\n",
    "                    kraft.path.make(_directory_path)\n",
    "\n",
    "                    path = \"{}statistic.tsv\".format(_directory_path)\n",
    "\n",
    "                    if os.path.isfile(path):\n",
    "\n",
    "                        function_or_statistic = pd.read_csv(path, sep=\"\\t\", index_col=0)\n",
    "\n",
    "                    else:\n",
    "\n",
    "                        function_or_statistic = kraft.information.get_ic\n",
    "\n",
    "                    kraft.function_heat_map.make(\n",
    "                        sr,\n",
    "                        df,\n",
    "                        function_or_statistic,\n",
    "                        job_n=SETTING[\"job_n\"],\n",
    "                        matrix_data_type=data[\"data_type\"],\n",
    "                        title=data[\"name\"],\n",
    "                        directory_path=_directory_path,\n",
    "                    )"
   ]
  }
 ],
 "metadata": {
  "kernelspec": {
   "display_name": "Python 3",
   "language": "python",
   "name": "python3"
  },
  "language_info": {
   "codemirror_mode": {
    "name": "ipython",
    "version": 3
   },
   "file_extension": ".py",
   "mimetype": "text/x-python",
   "name": "python",
   "nbconvert_exporter": "python",
   "pygments_lexer": "ipython3",
   "version": "3.7.8"
  }
 },
 "nbformat": 4,
 "nbformat_minor": 4
}
