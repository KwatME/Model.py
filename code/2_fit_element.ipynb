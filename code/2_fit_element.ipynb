{
 "cells": [
  {
   "cell_type": "code",
   "execution_count": null,
   "metadata": {
    "ExecuteTime": {
     "end_time": "2018-07-06T09:53:06.646469Z",
     "start_time": "2018-07-06T09:53:06.633169Z"
    }
   },
   "outputs": [],
   "source": [
    "%load_ext autoreload\n",
    "%autoreload 2"
   ]
  },
  {
   "cell_type": "code",
   "execution_count": null,
   "metadata": {
    "ExecuteTime": {
     "end_time": "2018-07-06T20:13:16.628911Z",
     "start_time": "2018-07-06T20:13:14.935143Z"
    }
   },
   "outputs": [],
   "source": [
    "from environment import *\n",
    "from setting import *"
   ]
  },
  {
   "cell_type": "code",
   "execution_count": null,
   "metadata": {
    "ExecuteTime": {
     "end_time": "2018-07-06T09:53:09.916306Z",
     "start_time": "2018-07-06T09:53:08.350235Z"
    }
   },
   "outputs": [],
   "source": [
    "feature_x_sample_processed = pd.read_table(\n",
    "    PATH_DICT[\"feature_x_sample.processed.tsv\"], index_col=0\n",
    ")"
   ]
  },
  {
   "cell_type": "code",
   "execution_count": null,
   "metadata": {
    "ExecuteTime": {
     "end_time": "2018-07-06T10:01:47.552850Z",
     "start_time": "2018-07-06T09:53:09.919618Z"
    }
   },
   "outputs": [],
   "source": [
    "for element_type in (\"feature\", \"sample\"):\n",
    "\n",
    "    if element_type == \"feature\":\n",
    "\n",
    "        element_alias = FEATURE_ALIAS\n",
    "\n",
    "        df = feature_x_sample_processed\n",
    "\n",
    "    elif element_type == \"sample\":\n",
    "\n",
    "        element_alias = SAMPLE_ALIAS\n",
    "\n",
    "        df = feature_x_sample_processed.T\n",
    "\n",
    "    element_x_fit_parameter = ccal.fit_skew_t_pdfs(\n",
    "        df,\n",
    "        n_job=MAX_N_JOB,\n",
    "        output_file_path=PATH_DICT[\"{}_x_fit_parameter.tsv\".format(element_type)],\n",
    "    )\n",
    "\n",
    "    element_x_fit_parameter = pd.read_table(\n",
    "        PATH_DICT[\"{}_x_fit_parameter.tsv\".format(element_type)], index_col=0\n",
    "    )\n",
    "\n",
    "    element_x_fit_parameter[\"log(Degree of Freedom)\"] = ccal.log_nd_array(\n",
    "        element_x_fit_parameter[\"Degree of Freedom\"]\n",
    "    )\n",
    "\n",
    "    for parameter, parameter_values in element_x_fit_parameter.drop(\n",
    "        \"Degree of Freedom\", axis=1\n",
    "    ).items():\n",
    "\n",
    "        value_name = \"{} {}\".format(element_alias, parameter)\n",
    "\n",
    "        ccal.plot_distributions(\n",
    "            (parameter_values,),\n",
    "            names=(value_name,),\n",
    "            plot_rug=parameter_values.size < PLOT_MAX_SIZE ** 0.5,\n",
    "            title=\"Distribution of {}\".format(value_name),\n",
    "            xaxis_title=value_name,\n",
    "        )\n",
    "\n",
    "        parameter_values_sorted = parameter_values.sort_values()\n",
    "\n",
    "        first_element = parameter_values_sorted.index[0]\n",
    "\n",
    "        last_element = parameter_values_sorted.index[-1]\n",
    "\n",
    "        ccal.plot_distributions(\n",
    "            (df.loc[first_element], df.loc[last_element]),\n",
    "            names=(first_element, last_element),\n",
    "            plot_rug=df.shape[1] < PLOT_MAX_SIZE ** 0.5,\n",
    "            title=\"Distributions of {} with Extreme {}\".format(\n",
    "                element_alias, parameter\n",
    "            ),\n",
    "            xaxis_title=FEATURE_X_SAMPLE_VALUE_NAME,\n",
    "        )\n",
    "\n",
    "        n_extreme = 3\n",
    "\n",
    "        for rank in list(range(n_extreme)) + list(range(-n_extreme, 0)):\n",
    "\n",
    "            ranked_element = parameter_values_sorted.index[rank]\n",
    "\n",
    "            element_values = df.loc[ranked_element]\n",
    "\n",
    "            n_data, location, scale, degree_of_freedom, shape = element_x_fit_parameter.loc[\n",
    "                ranked_element,\n",
    "                [\"N Data\", \"Location\", \"Scale\", \"Degree of Freedom\", \"Shape\"],\n",
    "            ]\n",
    "\n",
    "            ccal.plot_context(\n",
    "                element_values,\n",
    "                n_data=n_data,\n",
    "                location=location,\n",
    "                scale=scale,\n",
    "                degree_of_freedom=degree_of_freedom,\n",
    "                shape=shape,\n",
    "                plot_rug=element_values.dropna().size < PLOT_MAX_SIZE ** 0.5,\n",
    "                title=\"{} Rank {}: {}\".format(value_name, rank, ranked_element),\n",
    "                xaxis_title=FEATURE_X_SAMPLE_VALUE_NAME,\n",
    "            )"
   ]
  }
 ],
 "metadata": {
  "kernelspec": {
   "display_name": "Python 3",
   "language": "python",
   "name": "python3"
  },
  "language_info": {
   "codemirror_mode": {
    "name": "ipython",
    "version": 3
   },
   "file_extension": ".py",
   "mimetype": "text/x-python",
   "name": "python",
   "nbconvert_exporter": "python",
   "pygments_lexer": "ipython3",
   "version": "3.6.7"
  }
 },
 "nbformat": 4,
 "nbformat_minor": 2
}
