{
 "cells": [
  {
   "cell_type": "code",
   "execution_count": null,
   "metadata": {
    "ExecuteTime": {
     "end_time": "2018-07-06T09:53:06.646469Z",
     "start_time": "2018-07-06T09:53:06.633169Z"
    }
   },
   "outputs": [],
   "source": [
    "%load_ext autoreload\n",
    "%autoreload 2"
   ]
  },
  {
   "cell_type": "code",
   "execution_count": null,
   "metadata": {
    "ExecuteTime": {
     "end_time": "2018-07-06T20:13:16.628911Z",
     "start_time": "2018-07-06T20:13:14.935143Z"
    }
   },
   "outputs": [],
   "source": [
    "from environment import *\n",
    "from setting import *"
   ]
  },
  {
   "cell_type": "code",
   "execution_count": null,
   "metadata": {
    "ExecuteTime": {
     "end_time": "2018-07-06T09:53:09.916306Z",
     "start_time": "2018-07-06T09:53:08.350235Z"
    }
   },
   "outputs": [],
   "source": [
    "feature_x_sample = pd.read_table(\n",
    "    PATH_DICT['feature_x_sample_file_path'],\n",
    "    index_col=0,\n",
    ")"
   ]
  },
  {
   "cell_type": "code",
   "execution_count": null,
   "metadata": {
    "ExecuteTime": {
     "end_time": "2018-07-06T10:01:47.552850Z",
     "start_time": "2018-07-06T09:53:09.919618Z"
    }
   },
   "outputs": [],
   "source": [
    "for element in ELEMENTS:\n",
    "    \n",
    "    if element == 'feature':\n",
    "        \n",
    "        df = feature_x_sample\n",
    "        \n",
    "    elif element == 'sample':\n",
    "        \n",
    "        df = feature_x_sample.T\n",
    "        \n",
    "    skew_t_pdf_fit_parameter = ccal.fit_skew_t_pdfs(\n",
    "        df,\n",
    "        n_job=MAX_N_JOB,\n",
    "        directory_path=PATH_DICT['{}_directory_path'.format(element)],\n",
    "    )\n",
    "    \n",
    "#     skew_t_pdf_fit_parameter = pd.read_table(\n",
    "#         '{}/skew_t_pdf_fit_parameter.tsv'.format(PATH_DICT['{}_directory_path'.format(element)]),\n",
    "#         index_col=0,\n",
    "#     )\n",
    "    \n",
    "    skew_t_pdf_fit_parameter['log(Degree of Freedom)'] = ccal.log_nd_array(skew_t_pdf_fit_parameter['Degree of Freedom'])\n",
    "    \n",
    "    for parameter_name, parameter_values in skew_t_pdf_fit_parameter.drop(\n",
    "        'Degree of Freedom',\n",
    "        axis=1,\n",
    "    ).items():\n",
    "        \n",
    "        value_name = '{} {}'.format(\n",
    "            element.title(),\n",
    "            parameter_name,\n",
    "        )\n",
    "        \n",
    "        ccal.plot_distributions(\n",
    "            (parameter_values, ),\n",
    "            names=(parameter_name, ),\n",
    "            plot_rug=False,\n",
    "            title='{} Distribution'.format(value_name),\n",
    "            xaxis_title=value_name,\n",
    "        )\n",
    "        \n",
    "        parameter_values_sorted = parameter_values.sort_values()\n",
    "        \n",
    "        index_min = parameter_values_sorted.index[0]\n",
    "        \n",
    "        index_max = parameter_values_sorted.index[-1]\n",
    "        \n",
    "        ccal.plot_distributions(\n",
    "            (\n",
    "                df.loc[index_min].dropna(),\n",
    "                df.loc[index_max].dropna(),\n",
    "            ),\n",
    "            names=(\n",
    "                index_min,\n",
    "                index_max,\n",
    "            ),\n",
    "            plot_rug=False,\n",
    "            title='{} Extreme {} Distibutions'.format(\n",
    "                element.title(),\n",
    "                parameter_name,\n",
    "            ),\n",
    "            xaxis_title='Value',\n",
    "        )\n",
    "        \n",
    "        n_extreme = 3\n",
    "        \n",
    "        for rank in list(range(n_extreme)) + list(range(\n",
    "            -n_extreme,\n",
    "            0,\n",
    "        )):\n",
    "            \n",
    "            index = parameter_values_sorted.index[rank]\n",
    "            \n",
    "            parameter_values = df.loc[index]\n",
    "            \n",
    "            n_data, location, scale, degree_of_freedom, shape = skew_t_pdf_fit_parameter.loc[index, [\n",
    "                'N Data',\n",
    "                'Location',\n",
    "                'Scale',\n",
    "                'Degree of Freedom',\n",
    "                'Shape',\n",
    "            ]]\n",
    "            \n",
    "            ccal.plot_context(\n",
    "                parameter_values,\n",
    "                n_data=n_data,\n",
    "                location=location,\n",
    "                scale=scale,\n",
    "                degree_of_freedom=degree_of_freedom,\n",
    "                shape=shape,\n",
    "                plot_rug=parameter_values.dropna().size < 1e3,\n",
    "                title='{} {} Rank {}: {}'.format(\n",
    "                    element.title(),\n",
    "                    parameter_name,\n",
    "                    rank,\n",
    "                    index,\n",
    "                ),\n",
    "                xaxis_title='Value',\n",
    "            )"
   ]
  }
 ],
 "metadata": {
  "kernelspec": {
   "display_name": "Python 3",
   "language": "python",
   "name": "python3"
  },
  "language_info": {
   "codemirror_mode": {
    "name": "ipython",
    "version": 3
   },
   "file_extension": ".py",
   "mimetype": "text/x-python",
   "name": "python",
   "nbconvert_exporter": "python",
   "pygments_lexer": "ipython3",
   "version": "3.6.7"
  }
 },
 "nbformat": 4,
 "nbformat_minor": 2
}
