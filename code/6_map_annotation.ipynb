{
 "cells": [
  {
   "cell_type": "code",
   "execution_count": null,
   "metadata": {},
   "outputs": [],
   "source": [
    "%load_ext autoreload\n",
    "%autoreload 2"
   ]
  },
  {
   "cell_type": "code",
   "execution_count": null,
   "metadata": {},
   "outputs": [],
   "source": [
    "from __init__ import *"
   ]
  },
  {
   "cell_type": "code",
   "execution_count": null,
   "metadata": {},
   "outputs": [],
   "source": [
    "gps_map_directory_path = \"{}/gps_map\".format(SETTING[\"output_directory_path\"])"
   ]
  },
  {
   "cell_type": "code",
   "execution_count": null,
   "metadata": {},
   "outputs": [],
   "source": [
    "gps_map_file_path_template = \"{}/{{}}_gps_map.pickle.gz\".format(gps_map_directory_path)\n",
    "\n",
    "w_gps_map = kraft.read_gps_map(gps_map_file_path_template.format(\"w\"))\n",
    "\n",
    "h_gps_map = kraft.read_gps_map(gps_map_file_path_template.format(\"h\"))"
   ]
  },
  {
   "cell_type": "code",
   "execution_count": null,
   "metadata": {},
   "outputs": [],
   "source": [
    "data_dicts = SETTING[\"annotate_data_dicts\"] + SETTING[\"model_data_dicts\"]\n",
    "\n",
    "for data_dict in data_dicts:\n",
    "\n",
    "    data_dict[\"dataframe\"] = pd.read_csv(data_dict[\"file_path\"], sep=\"\\t\", index_col=0)"
   ]
  },
  {
   "cell_type": "code",
   "execution_count": null,
   "metadata": {},
   "outputs": [],
   "source": [
    "gps_map_data_type_colorscale = {\n",
    "    **kraft.DATA_TYPE_COLORSCALE,\n",
    "    **{\"categorical\": \"portland\"},\n",
    "}"
   ]
  },
  {
   "cell_type": "code",
   "execution_count": null,
   "metadata": {},
   "outputs": [],
   "source": [
    "for w_h_str in (\"w\", \"h\"):\n",
    "\n",
    "    if w_h_str == \"w\":\n",
    "\n",
    "        gps_map = w_gps_map\n",
    "\n",
    "        elements_to_peek = SETTING[\"axis1_elements_to_peek\"]\n",
    "\n",
    "    else:\n",
    "\n",
    "        gps_map = h_gps_map\n",
    "\n",
    "        elements_to_peek = SETTING[\"axis0_elements_to_peek\"]\n",
    "\n",
    "    for data_dict in data_dicts:\n",
    "\n",
    "        dataframe = data_dict[\"dataframe\"]\n",
    "\n",
    "        if w_h_str == \"w\":\n",
    "\n",
    "            element_value_s = (\n",
    "                dataframe[element]\n",
    "                for element in dataframe.columns & SETTING[\"axis1_elements_to_peek\"]\n",
    "            )\n",
    "\n",
    "        else:\n",
    "\n",
    "            element_value_s = (\n",
    "                dataframe.loc[element]\n",
    "                for element in dataframe.index & SETTING[\"axis0_elements_to_peek\"]\n",
    "            )\n",
    "\n",
    "        for element_value in element_value_s:\n",
    "\n",
    "            gps_map.plot(\n",
    "                element_value=element_value,\n",
    "                element_value_colorscale=gps_map_data_type_colorscale[\n",
    "                    data_dict[\"data_type\"]\n",
    "                ],\n",
    "                show_node_text=False,\n",
    "                element_trace=SETTING[\"{}_gps_map_element_trace\".format(w_h_str)],\n",
    "                layout={\n",
    "                    \"title\": {\n",
    "                        \"text\": \"{}<br>{}\".format(data_dict[\"name\"], element_value.name)\n",
    "                    }\n",
    "                },\n",
    "                html_file_path=\"{}/{}_gps_map_{}_{}.html\".format(\n",
    "                    gps_map_directory_path,\n",
    "                    w_h_str,\n",
    "                    data_dict[\"name\"],\n",
    "                    element_value.name,\n",
    "                ),\n",
    "            )"
   ]
  }
 ],
 "metadata": {
  "kernelspec": {
   "display_name": "Python 3",
   "language": "python",
   "name": "python3"
  },
  "language_info": {
   "codemirror_mode": {
    "name": "ipython",
    "version": 3
   },
   "file_extension": ".py",
   "mimetype": "text/x-python",
   "name": "python",
   "nbconvert_exporter": "python",
   "pygments_lexer": "ipython3",
   "version": "3.7.3"
  }
 },
 "nbformat": 4,
 "nbformat_minor": 4
}
