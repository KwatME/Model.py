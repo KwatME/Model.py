{
 "cells": [
  {
   "cell_type": "code",
   "execution_count": null,
   "metadata": {},
   "outputs": [],
   "source": [
    "%load_ext autoreload\n",
    "%autoreload 2"
   ]
  },
  {
   "cell_type": "code",
   "execution_count": null,
   "metadata": {},
   "outputs": [],
   "source": [
    "from __init__ import *"
   ]
  },
  {
   "cell_type": "code",
   "execution_count": null,
   "metadata": {},
   "outputs": [],
   "source": [
    "gps_map_directory_path = \"{}/gps_map\".format(OUTPUT_DIRECTORY_PATH)"
   ]
  },
  {
   "cell_type": "code",
   "execution_count": null,
   "metadata": {},
   "outputs": [],
   "source": [
    "gps_map_file_path_template = \"{}/{}_gps_map.pickle.gz\".format(gps_map_directory_path)\n",
    "\n",
    "w_gps_map = kraft.read_gps_map(w_gps_map_file_path.format(\"w\"))\n",
    "\n",
    "h_gps_map = kraft.read_gps_map(h_gps_map_file_path.format(\"h\"))"
   ]
  },
  {
   "cell_type": "code",
   "execution_count": null,
   "metadata": {},
   "outputs": [],
   "source": [
    "data_dicts = SETTING[\"annotate_data_dicts\"] + SETTING[\"model_data_dicts\"]\n",
    "\n",
    "annotate_w_data_dicts = tuple(\n",
    "    data_dict\n",
    "    for data_dict in data_dicts\n",
    "    if 0 < len(data_dict[\"axis1_elements_to_peek\"])\n",
    ")\n",
    "\n",
    "annotate_h_data_dicts = tuple(\n",
    "    data_dict\n",
    "    for data_dict in data_dicts\n",
    "    if 0 < len(data_dict[\"axis0_elements_to_peek\"])\n",
    ")\n",
    "\n",
    "for annotate_data_dicts in (annotate_w_data_dicts, annotate_h_data_dicts):\n",
    "\n",
    "    for data_dict in annotate_data_dicts:\n",
    "\n",
    "        data_dict[\"dataframe\"] = pd.read_csv(\n",
    "            data_dict[\"file_path\"], sep=\"\\t\", index_col=0\n",
    "        )"
   ]
  },
  {
   "cell_type": "code",
   "execution_count": null,
   "metadata": {},
   "outputs": [],
   "source": [
    "gps_map_data_type_colorscale = {\n",
    "    **kraft.DATA_TYPE_COLORSCALE,\n",
    "    **{\"categorical\": \"portland\"},\n",
    "}"
   ]
  },
  {
   "cell_type": "code",
   "execution_count": null,
   "metadata": {},
   "outputs": [],
   "source": [
    "for w_h_str in (\"w\", \"h\"):\n",
    "\n",
    "    if w_h_str == \"w\":\n",
    "\n",
    "        gps_map = w_gps_map\n",
    "\n",
    "        annotate_data_dicts = annotate_w_data_dicts\n",
    "\n",
    "    else:\n",
    "\n",
    "        gps_map = h_gps_map\n",
    "\n",
    "        annotate_data_dicts = annotate_h_data_dicts\n",
    "\n",
    "    for data_dict in annotate_data_dicts:\n",
    "\n",
    "        if w_h_str == \"w\":\n",
    "\n",
    "            elements_to_peek = data_dict[\"axis1_elements_to_peek\"]\n",
    "\n",
    "        else:\n",
    "\n",
    "            elements_to_peek = data_dict[\"axis0_elements_to_peek\"]\n",
    "\n",
    "        dataframe = data_dict[\"dataframe\"]\n",
    "\n",
    "        for element, element_value in dataframe.loc[\n",
    "            dataframe.index & elements_to_peek\n",
    "        ].iterrows():\n",
    "\n",
    "            gps_map.plot(\n",
    "                element_value=element_value,\n",
    "                element_value_colorscale=gps_map_data_type_colorscale[\n",
    "                    data_dict[\"data_type\"]\n",
    "                ],\n",
    "                show_node_text=False,\n",
    "                element_trace=SETTING[\"{}_gps_map_element_trace\".format(w_h_str)],\n",
    "                layout={\n",
    "                    \"title\": {\"text\": \"{}<br>{}\".format(data_dict[\"name\"], element)}\n",
    "                },\n",
    "                html_file_path=\"{}/{}_gps_map_{}_{}.html\".format(\n",
    "                    gps_map_directory_path, w_h_str, data_dict[\"name\"], element\n",
    "                ),\n",
    "            )"
   ]
  }
 ],
 "metadata": {
  "kernelspec": {
   "display_name": "Python 3",
   "language": "python",
   "name": "python3"
  },
  "language_info": {
   "codemirror_mode": {
    "name": "ipython",
    "version": 3
   },
   "file_extension": ".py",
   "mimetype": "text/x-python",
   "name": "python",
   "nbconvert_exporter": "python",
   "pygments_lexer": "ipython3",
   "version": "3.7.3"
  }
 },
 "nbformat": 4,
 "nbformat_minor": 4
}
