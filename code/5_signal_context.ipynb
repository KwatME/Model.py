{
 "cells": [
  {
   "cell_type": "code",
   "execution_count": null,
   "metadata": {
    "ExecuteTime": {
     "end_time": "2018-07-06T20:13:14.932963Z",
     "start_time": "2018-07-06T20:13:14.920835Z"
    }
   },
   "outputs": [],
   "source": [
    "%load_ext autoreload\n",
    "%autoreload 2"
   ]
  },
  {
   "cell_type": "code",
   "execution_count": null,
   "metadata": {
    "ExecuteTime": {
     "end_time": "2018-07-06T20:13:16.628911Z",
     "start_time": "2018-07-06T20:13:14.935143Z"
    }
   },
   "outputs": [],
   "source": [
    "from environment import *\n",
    "\n",
    "with open(\"setting.yaml\") as yaml_file:\n",
    "\n",
    "    setting = yaml.load(yaml_file)\n",
    "\n",
    "path = make_path_dict(setting)"
   ]
  },
  {
   "cell_type": "code",
   "execution_count": null,
   "metadata": {},
   "outputs": [],
   "source": [
    "if setting[\"signal_type\"] == \"raw\":\n",
    "\n",
    "    raise"
   ]
  },
  {
   "cell_type": "code",
   "execution_count": null,
   "metadata": {},
   "outputs": [],
   "source": [
    "feature_context = pd.read_table(\n",
    "    path[\"feature_x_sample.feature_context.tsv\"], index_col=0\n",
    ")"
   ]
  },
  {
   "cell_type": "code",
   "execution_count": null,
   "metadata": {},
   "outputs": [],
   "source": [
    "sample_context = pd.read_table(\n",
    "    path[\"feature_x_sample.sample_context.tsv\"], index_col=0\n",
    ").T"
   ]
  },
  {
   "cell_type": "code",
   "execution_count": null,
   "metadata": {},
   "outputs": [],
   "source": [
    "feature_context_negative = -feature_context.clip(upper=0)\n",
    "\n",
    "feature_context_positive = feature_context.clip(lower=0)"
   ]
  },
  {
   "cell_type": "code",
   "execution_count": null,
   "metadata": {},
   "outputs": [],
   "source": [
    "sample_context_negative = -sample_context.clip(upper=0)\n",
    "\n",
    "sample_context_positive = sample_context.clip(lower=0)"
   ]
  },
  {
   "cell_type": "code",
   "execution_count": null,
   "metadata": {},
   "outputs": [],
   "source": [
    "if \"feature\" in setting[\"element_types\"] and \"sample\" in setting[\"element_types\"]:\n",
    "\n",
    "    context_negative = ccal.normalize_df(\n",
    "        feature_context_negative,\n",
    "        None,\n",
    "        setting[\"context_signal_normalization_method\"],\n",
    "        raise_for_bad=False,\n",
    "    ) + ccal.normalize_df(\n",
    "        sample_context_negative,\n",
    "        None,\n",
    "        setting[\"context_signal_normalization_method\"],\n",
    "        raise_for_bad=False,\n",
    "    )\n",
    "\n",
    "    context_positive = ccal.normalize_df(\n",
    "        feature_context_positive,\n",
    "        None,\n",
    "        setting[\"context_signal_normalization_method\"],\n",
    "        raise_for_bad=False,\n",
    "    ) + ccal.normalize_df(\n",
    "        sample_context_positive,\n",
    "        None,\n",
    "        setting[\"context_signal_normalization_method\"],\n",
    "        raise_for_bad=False,\n",
    "    )\n",
    "\n",
    "elif \"feature\" in setting[\"element_types\"]:\n",
    "\n",
    "    context_negative = feature_context_negative\n",
    "\n",
    "    context_positive = feature_context_positive\n",
    "\n",
    "elif \"sample\" in setting[\"element_types\"]:\n",
    "\n",
    "    context_negative = sample_context_negative\n",
    "\n",
    "    context_positive = sample_context_positive"
   ]
  },
  {
   "cell_type": "code",
   "execution_count": null,
   "metadata": {},
   "outputs": [],
   "source": [
    "title_template = \"{} Ranking by Context {} Signal\"\n",
    "\n",
    "value_name_template = \"{} Signal Sum\""
   ]
  },
  {
   "cell_type": "code",
   "execution_count": null,
   "metadata": {},
   "outputs": [],
   "source": [
    "if setting[\"select_feature_automatically\"]:\n",
    "\n",
    "    context_negative_features = ccal.select_series_low_and_high_index(\n",
    "        context_negative.sum(axis=1),\n",
    "        title=title_template.format(setting[\"feature_alias\"], \"Negative\"),\n",
    "        value_name=value_name_template.format(\"Negative\"),\n",
    "    )[1]\n",
    "\n",
    "    context_positive_features = ccal.select_series_low_and_high_index(\n",
    "        context_positive.sum(axis=1),\n",
    "        title=title_template.format(setting[\"feature_alias\"], \"Positive\"),\n",
    "        value_name=value_name_template.format(\"Positive\"),\n",
    "    )[1]\n",
    "\n",
    "else:\n",
    "\n",
    "    context_negative_features = (\n",
    "        context_negative.replace(0, np.nan).dropna(how=\"all\").index\n",
    "    )\n",
    "\n",
    "    context_positive_features = (\n",
    "        context_positive.replace(0, np.nan).dropna(how=\"all\").index\n",
    "    )\n",
    "\n",
    "context_negative_features.size, context_positive_features.size"
   ]
  },
  {
   "cell_type": "code",
   "execution_count": null,
   "metadata": {},
   "outputs": [],
   "source": [
    "if setting[\"select_sample_automatically\"]:\n",
    "\n",
    "    title_template = \"{} Ranking by Context {{}} Signal\".format(setting[\"sample_alias\"])\n",
    "\n",
    "    value_name_template = \"{} Signal Sum\"\n",
    "\n",
    "    context_negative_samples = ccal.select_series_low_and_high_index(\n",
    "        context_negative.sum(),\n",
    "        title=title_template.format(setting[\"sample_alias\"], \"Negative\"),\n",
    "        value_name=value_name_template.format(\"Negative\"),\n",
    "    )[1]\n",
    "\n",
    "    context_positive_samples = ccal.select_series_low_and_high_index(\n",
    "        context_positive.sum(),\n",
    "        title=title_template.format(setting[\"sample_alias\"], \"Positive\"),\n",
    "        value_name=value_name_template.format(\"Positive\"),\n",
    "    )[1]\n",
    "\n",
    "else:\n",
    "\n",
    "    context_negative_samples = (\n",
    "        context_negative.replace(0, np.nan).dropna(how=\"all\", axis=1).columns\n",
    "    )\n",
    "\n",
    "    context_positive_samples = (\n",
    "        context_positive.replace(0, np.nan).dropna(how=\"all\", axis=1).columns\n",
    "    )\n",
    "\n",
    "context_negative_samples.size, context_positive_samples.size"
   ]
  },
  {
   "cell_type": "code",
   "execution_count": null,
   "metadata": {},
   "outputs": [],
   "source": [
    "context_negative_signal = context_negative.loc[\n",
    "    context_negative_features, context_negative_samples\n",
    "]"
   ]
  },
  {
   "cell_type": "code",
   "execution_count": null,
   "metadata": {},
   "outputs": [],
   "source": [
    "context_positive_signal = context_positive.loc[\n",
    "    context_positive_features, context_positive_samples\n",
    "]"
   ]
  },
  {
   "cell_type": "code",
   "execution_count": null,
   "metadata": {},
   "outputs": [],
   "source": [
    "if \"negative\" in setting[\"contexts\"] and \"positive\" in setting[\"contexts\"]:\n",
    "\n",
    "    context_negative_signal.index = (\n",
    "        \"(-) {}\".format(feature) for feature in context_negative_signal.index\n",
    "    )\n",
    "\n",
    "    context_positive_signal.index = (\n",
    "        \"(+) {}\".format(feature) for feature in context_positive_signal.index\n",
    "    )\n",
    "\n",
    "    context_signal = pd.concat((context_negative_signal, context_positive_signal))\n",
    "\n",
    "elif \"negative\" in setting[\"contexts\"]:\n",
    "\n",
    "    context_signal = context_negative_signal\n",
    "\n",
    "elif \"positive\" in setting[\"contexts\"]:\n",
    "\n",
    "    context_signal = context_positive_signal"
   ]
  },
  {
   "cell_type": "code",
   "execution_count": null,
   "metadata": {},
   "outputs": [],
   "source": [
    "if setting[\"context_signal_normalization_method\"] is not None:\n",
    "\n",
    "    context_signal = ccal.normalize_df(\n",
    "        context_signal,\n",
    "        setting[\"context_signal_normalization_axis\"],\n",
    "        setting[\"context_signal_normalization_method\"],\n",
    "        raise_for_bad=False,\n",
    "    )"
   ]
  },
  {
   "cell_type": "code",
   "execution_count": null,
   "metadata": {},
   "outputs": [],
   "source": [
    "context_signal.to_csv(path[\"feature_x_sample.signal.tsv\"], sep=\"\\t\")\n",
    "\n",
    "ccal.summarize_feature_x_sample(\n",
    "    context_signal,\n",
    "    feature_x_sample_alias=\"Context Signal\",\n",
    "    feature_alias=setting[\"feature_alias\"],\n",
    "    sample_alias=setting[\"sample_alias\"],\n",
    "    feature_x_sample_value_name=\"Context Signal\",\n",
    "    plot_heat_map_max_size=setting[\"plot_heat_map_max_size\"],\n",
    "    plot_distributions_max_size=setting[\"plot_distributions_max_size\"],\n",
    "    plot_rug_max_size=setting[\"plot_rug_max_size\"],\n",
    ")"
   ]
  }
 ],
 "metadata": {
  "kernelspec": {
   "display_name": "Python 3",
   "language": "python",
   "name": "python3"
  },
  "language_info": {
   "codemirror_mode": {
    "name": "ipython",
    "version": 3
   },
   "file_extension": ".py",
   "mimetype": "text/x-python",
   "name": "python",
   "nbconvert_exporter": "python",
   "pygments_lexer": "ipython3",
   "version": "3.6.7"
  }
 },
 "nbformat": 4,
 "nbformat_minor": 2
}
