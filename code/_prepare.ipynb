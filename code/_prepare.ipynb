{
 "cells": [
  {
   "cell_type": "code",
   "execution_count": null,
   "metadata": {},
   "outputs": [],
   "source": [
    "%load_ext autoreload\n",
    "%autoreload 2"
   ]
  },
  {
   "cell_type": "code",
   "execution_count": null,
   "metadata": {},
   "outputs": [],
   "source": [
    "from __init__ import *"
   ]
  },
  {
   "cell_type": "code",
   "execution_count": null,
   "metadata": {},
   "outputs": [],
   "source": [
    "prepare_directory_path = \"{}/prepare\".format(OUTPUT_DIRECTORY_PATH)\n",
    "\n",
    "kraft.establish_path(prepare_directory_path, \"directory\")"
   ]
  },
  {
   "cell_type": "code",
   "execution_count": null,
   "metadata": {},
   "outputs": [],
   "source": [
    "prepare_select_directory_path = \"{}/prepare_select\".format(OUTPUT_DIRECTORY_PATH)\n",
    "\n",
    "kraft.establish_path(prepare_select_directory_path, \"directory\")"
   ]
  },
  {
   "cell_type": "code",
   "execution_count": null,
   "metadata": {},
   "outputs": [],
   "source": [
    "plot = True"
   ]
  },
  {
   "cell_type": "code",
   "execution_count": null,
   "metadata": {},
   "outputs": [],
   "source": [
    "for data_dict_index, data_dict in enumerate(SETTING[\"model_data_dicts\"])\n",
    "\n",
    "    print(\"=\" * 8, data_dict[\"name\"], \"=\" * 8)\n",
    "\n",
    "    dataframe = pd.read_csv(data_dict[\"file_path\"], sep=\"\\t\", index_col=0)\n",
    "\n",
    "    dataframe.columns.name = data_dict[\"axis1_name\"]\n",
    "    \n",
    "    prepare = kraft.process_dataframe(\n",
    "        dataframe, normalization_axis=0, normalization_method=\"-0-\", plot=plot\n",
    "    )\n",
    "\n",
    "    prepare.to_csv(\"{}/{}.tsv\".format(prepare_directory_path, data_index), sep=\"\\t\")\n",
    "    \n",
    "    prepare_select = prepare.loc[\n",
    "        kraft.select_series_indices(\n",
    "            prepare.std(axis=1),\n",
    "            \">\",\n",
    "            standard_deviation=1,\n",
    "            plot=plot,\n",
    "            layout={\"yaxis\": {\"title\": {\"text\": \"Standard Deviation\"}}},\n",
    "        )\n",
    "    ]\n",
    "\n",
    "    kraft.summarize_dataframe(prepare_select, plot=plot)\n",
    "    \n",
    "    prepare_select.to_csv(\"{}/{}.tsv\".format(prepare_select_directory_path, data_index), sep=\"\\t\")"
   ]
  }
 ],
 "metadata": {
  "kernelspec": {
   "display_name": "Python 3",
   "language": "python",
   "name": "python3"
  },
  "language_info": {
   "codemirror_mode": {
    "name": "ipython",
    "version": 3
   },
   "file_extension": ".py",
   "mimetype": "text/x-python",
   "name": "python",
   "nbconvert_exporter": "python",
   "pygments_lexer": "ipython3",
   "version": "3.7.3"
  }
 },
 "nbformat": 4,
 "nbformat_minor": 4
}
