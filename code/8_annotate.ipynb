{
 "cells": [
  {
   "cell_type": "code",
   "execution_count": null,
   "metadata": {
    "ExecuteTime": {
     "end_time": "2018-07-08T00:30:32.513083Z",
     "start_time": "2018-07-08T00:30:32.501224Z"
    }
   },
   "outputs": [],
   "source": [
    "%load_ext autoreload\n",
    "\n",
    "%autoreload 2"
   ]
  },
  {
   "cell_type": "code",
   "execution_count": null,
   "metadata": {
    "ExecuteTime": {
     "end_time": "2018-07-08T02:00:18.306031Z",
     "start_time": "2018-07-08T02:00:18.276698Z"
    }
   },
   "outputs": [],
   "source": [
    "from environment import *\n",
    "\n",
    "import setting_ccle as setting\n",
    "# import setting_tcga as setting\n",
    "\n",
    "path_dict = path(setting)"
   ]
  },
  {
   "cell_type": "code",
   "execution_count": null,
   "metadata": {},
   "outputs": [],
   "source": [
    "h = pd.read_table(\n",
    "    path_dict['h_file_path'],\n",
    "    index_col=0,\n",
    ")"
   ]
  },
  {
   "cell_type": "code",
   "execution_count": null,
   "metadata": {},
   "outputs": [],
   "source": [
    "h_hcc__k_x_column = pd.read_table(\n",
    "    path_dict['h_hcc__k_x_column_file_path'],\n",
    "    index_col=0,\n",
    ")\n",
    "\n",
    "state_x_sample = ccal.make_membership_df_from_categorical_series(h_hcc__k_x_column.loc['K{}'.format(setting.H_HCC_K)])\n",
    "\n",
    "state_x_sample.index = ('S{}'.format(i) for i in state_x_sample.index)"
   ]
  },
  {
   "cell_type": "code",
   "execution_count": null,
   "metadata": {
    "ExecuteTime": {
     "end_time": "2018-07-08T00:31:29.260581Z",
     "start_time": "2018-07-08T00:30:34.731193Z"
    }
   },
   "outputs": [],
   "source": [
    "feature_dicts = setting.make_feature_dicts()"
   ]
  },
  {
   "cell_type": "code",
   "execution_count": null,
   "metadata": {},
   "outputs": [],
   "source": [
    "for targets, data_type, directory_path in (\n",
    "    (\n",
    "        h,\n",
    "        'continuous',\n",
    "        path_dict['h_match_directory_path'],\n",
    "    ),\n",
    "    (\n",
    "        state_x_sample,\n",
    "        'binary',\n",
    "        path_dict['h_hcc_match_directory_path'],\n",
    "    ),\n",
    "):\n",
    "    \n",
    "    n_target = targets.shape[0]\n",
    "\n",
    "    ccal.make_match_panels(\n",
    "        (targets.iloc[i] for i in range(n_target)),\n",
    "        (\n",
    "            False,\n",
    "        ) * n_target,\n",
    "        (\n",
    "            False,\n",
    "        ) * n_target,\n",
    "        (\n",
    "            data_type,\n",
    "        ) * n_target,\n",
    "        feature_dicts,\n",
    "        n_job=setting.MAX_N_JOB,\n",
    "        n_required_for_match_function=targets.shape[1] * 0.1,\n",
    "        extreme_feature_threshold=setting.EXTREME_FEATURE_THRESHOLD,\n",
    "        plot_target_std_max=3,\n",
    "        plot_features_std_max=3,\n",
    "        directory_path=directory_path,\n",
    "        plotly_directory_path=path_dict['h_match_plotly_directory_path'],\n",
    "        overwrite=False,\n",
    "    )"
   ]
  }
 ],
 "metadata": {
  "kernelspec": {
   "display_name": "Python 3",
   "language": "python",
   "name": "python3"
  },
  "language_info": {
   "codemirror_mode": {
    "name": "ipython",
    "version": 3
   },
   "file_extension": ".py",
   "mimetype": "text/x-python",
   "name": "python",
   "nbconvert_exporter": "python",
   "pygments_lexer": "ipython3",
   "version": "3.6.6"
  }
 },
 "nbformat": 4,
 "nbformat_minor": 2
}
