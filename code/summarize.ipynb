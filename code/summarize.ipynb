{
 "cells": [
  {
   "cell_type": "code",
   "execution_count": null,
   "metadata": {
    "ExecuteTime": {
     "end_time": "2018-07-06T07:59:49.777639Z",
     "start_time": "2018-07-06T07:59:49.765242Z"
    }
   },
   "outputs": [],
   "source": [
    "%load_ext autoreload\n",
    "%autoreload 2"
   ]
  },
  {
   "cell_type": "code",
   "execution_count": null,
   "metadata": {
    "ExecuteTime": {
     "end_time": "2018-07-08T02:00:18.306031Z",
     "start_time": "2018-07-08T02:00:18.276698Z"
    }
   },
   "outputs": [],
   "source": [
    "from environment import *\n",
    "from setting import *"
   ]
  },
  {
   "cell_type": "code",
   "execution_count": null,
   "metadata": {},
   "outputs": [],
   "source": [
    "p_x_feature = pd.read_table(PATH_DICT[\"w_file_path\"], index_col=0).T\n",
    "\n",
    "p_x_sample = pd.read_table(PATH_DICT[\"h_file_path\"], index_col=0)"
   ]
  },
  {
   "cell_type": "code",
   "execution_count": null,
   "metadata": {},
   "outputs": [],
   "source": [
    "feature_state = pd.read_table(\n",
    "    PATH_DICT[\"w_hcc__k_x_column_file_path\"], index_col=0\n",
    ").loc[\"K{}\".format(W_HCC_K)]\n",
    "\n",
    "sample_state = pd.read_table(PATH_DICT[\"h_hcc__k_x_column_file_path\"], index_col=0).loc[\n",
    "    \"K{}\".format(H_HCC_K)\n",
    "]"
   ]
  },
  {
   "cell_type": "code",
   "execution_count": null,
   "metadata": {},
   "outputs": [],
   "source": [
    "feature_state.name = \"State\"\n",
    "\n",
    "sample_state.name = \"State\""
   ]
  },
  {
   "cell_type": "code",
   "execution_count": null,
   "metadata": {},
   "outputs": [],
   "source": [
    "feature_summary = p_x_feature.append(feature_state)\n",
    "\n",
    "sample_summary = p_x_sample.append(sample_state)"
   ]
  },
  {
   "cell_type": "code",
   "execution_count": null,
   "metadata": {},
   "outputs": [],
   "source": [
    "feature_summary.to_csv(\"../output/feature_summary.tsv\", sep=\"\\t\")\n",
    "\n",
    "feature_summary"
   ]
  },
  {
   "cell_type": "code",
   "execution_count": null,
   "metadata": {},
   "outputs": [],
   "source": [
    "sample_summary.to_csv(\"../output/sample_summary.tsv\", sep=\"\\t\")\n",
    "\n",
    "sample_summary"
   ]
  }
 ],
 "metadata": {
  "kernelspec": {
   "display_name": "Python 3",
   "language": "python",
   "name": "python3"
  },
  "language_info": {
   "codemirror_mode": {
    "name": "ipython",
    "version": 3
   },
   "file_extension": ".py",
   "mimetype": "text/x-python",
   "name": "python",
   "nbconvert_exporter": "python",
   "pygments_lexer": "ipython3",
   "version": "3.6.7"
  }
 },
 "nbformat": 4,
 "nbformat_minor": 2
}
