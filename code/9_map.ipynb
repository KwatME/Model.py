{
 "cells": [
  {
   "cell_type": "code",
   "execution_count": null,
   "metadata": {
    "ExecuteTime": {
     "end_time": "2018-07-08T02:00:18.270535Z",
     "start_time": "2018-07-08T02:00:17.409834Z"
    }
   },
   "outputs": [],
   "source": [
    "%load_ext autoreload\n",
    "%autoreload 2"
   ]
  },
  {
   "cell_type": "code",
   "execution_count": null,
   "metadata": {
    "ExecuteTime": {
     "end_time": "2018-07-06T18:37:38.413000Z",
     "start_time": "2018-07-06T18:37:36.654831Z"
    }
   },
   "outputs": [],
   "source": [
    "from environment import *\n",
    "\n",
    "with open(\"setting.yaml\") as yaml_file:\n",
    "\n",
    "    SETTING = yaml.load(yaml_file)\n",
    "\n",
    "PATH = make_path_dict(SETTING)"
   ]
  },
  {
   "cell_type": "code",
   "execution_count": null,
   "metadata": {
    "ExecuteTime": {
     "end_time": "2018-07-08T02:00:18.692012Z",
     "start_time": "2018-07-08T02:00:18.309427Z"
    }
   },
   "outputs": [],
   "source": [
    "w = pd.read_table(PATH[\"w.tsv\"], index_col=0)\n",
    "\n",
    "w.name = \"NMF W\"\n",
    "\n",
    "w.columns.name = \"Factor\"\n",
    "\n",
    "h = pd.read_table(PATH[\"h.tsv\"], index_col=0)\n",
    "\n",
    "h.name = \"NMF H\"\n",
    "\n",
    "h.columns.name = SETTING[\"sample_alias\"]"
   ]
  },
  {
   "cell_type": "code",
   "execution_count": null,
   "metadata": {
    "ExecuteTime": {
     "end_time": "2018-07-08T02:00:18.716327Z",
     "start_time": "2018-07-08T02:00:18.694100Z"
    }
   },
   "outputs": [],
   "source": [
    "if SETTING[\"element_entropy_quantile\"] < 1:\n",
    "\n",
    "    feature_entropy = w.apply(ccal.compute_entropy, axis=1)\n",
    "\n",
    "    w = w.loc[\n",
    "        feature_entropy.index[\n",
    "            feature_entropy\n",
    "            < feature_entropy.quantile(q=SETTING[\"element_entropy_quantile\"])\n",
    "        ]\n",
    "    ]\n",
    "\n",
    "    print(w.shape)\n",
    "\n",
    "    sample_entropy = h.apply(ccal.compute_entropy)\n",
    "\n",
    "    h = h[\n",
    "        sample_entropy.index[\n",
    "            sample_entropy\n",
    "            < sample_entropy.quantile(q=SETTING[\"element_entropy_quantile\"])\n",
    "        ]\n",
    "    ]\n",
    "\n",
    "    print(h.shape)"
   ]
  },
  {
   "cell_type": "code",
   "execution_count": null,
   "metadata": {},
   "outputs": [],
   "source": [
    "gps_map = ccal.GPSMap(\n",
    "    w=w.T,\n",
    "    h=h,\n",
    "    w_n_pull=SETTING[\"gps_map_w_n_pull\"],\n",
    "    w_pull_power=SETTING[\"gps_map_w_pull_power\"],\n",
    "    h_n_pull=SETTING[\"gps_map_h_n_pull\"],\n",
    "    h_pull_power=SETTING[\"gps_map_h_pull_power\"],\n",
    "    plot=False,\n",
    ")"
   ]
  },
  {
   "cell_type": "code",
   "execution_count": null,
   "metadata": {},
   "outputs": [],
   "source": [
    "for element_type, w_or_h, elements in (\n",
    "    (\"feature\", \"w\", gps_map.w_elements),\n",
    "    (\"sample\", \"h\", gps_map.h_elements),\n",
    "):\n",
    "\n",
    "    title = \"{}<br>{} GPS Map\".format(\n",
    "        SETTING[\"feature_x_sample_alias\"], SETTING[\"{}_alias\".format(element_type)]\n",
    "    )\n",
    "\n",
    "    gps_map.plot_gps_map(\n",
    "        w_or_h,\n",
    "        element_marker_size=SETTING[\"gps_map_{}_element_marker_size\".format(w_or_h)],\n",
    "        title=title,\n",
    "        html_file_path=\"{}/gps_map.html\".format(PATH[\"{}|gps_map/\".format(w_or_h)]),\n",
    "    )\n",
    "\n",
    "    if os.path.isfile(PATH[\"{}|cluster_x_column.tsv\".format(w_or_h)]):\n",
    "\n",
    "        bandwidth_factor = SETTING[\"gps_map_{}_bandwidth_factor\".format(w_or_h)]\n",
    "\n",
    "        gps_map.set_element_labels(\n",
    "            w_or_h,\n",
    "            pd.read_table(\n",
    "                PATH[\"{}|cluster_x_column.tsv\".format(w_or_h)], index_col=0\n",
    "            ).apply(lambda column: int(column.argmax().lstrip(\"C\"))),\n",
    "            bandwidth_factor=bandwidth_factor,\n",
    "        )\n",
    "\n",
    "        if SETTING[\"plotly_directory_path\"] is None:\n",
    "\n",
    "            plotly_html_file_path = None\n",
    "\n",
    "        else:\n",
    "\n",
    "            plotly_html_file_path = \"{}/{} GPS Map.html\".format(\n",
    "                SETTING[\"plotly_directory_path\"], element_type.title()\n",
    "            )\n",
    "\n",
    "        gps_map.plot_gps_map(\n",
    "            w_or_h,\n",
    "            element_marker_size=SETTING[\n",
    "                \"gps_map_{}_element_marker_size\".format(w_or_h)\n",
    "            ],\n",
    "            title=title,\n",
    "            html_file_path=\"{}/gps_map.html\".format(\n",
    "                PATH[\"{}|hcc|gps_map/\".format(w_or_h)]\n",
    "            ),\n",
    "            plotly_html_file_path=plotly_html_file_path,\n",
    "        )"
   ]
  },
  {
   "cell_type": "code",
   "execution_count": null,
   "metadata": {},
   "outputs": [],
   "source": [
    "ccal.dump_gps_map(gps_map, PATH[\"gps_map.pickle.gz\"])"
   ]
  }
 ],
 "metadata": {
  "kernelspec": {
   "display_name": "Python 3",
   "language": "python",
   "name": "python3"
  },
  "language_info": {
   "codemirror_mode": {
    "name": "ipython",
    "version": 3
   },
   "file_extension": ".py",
   "mimetype": "text/x-python",
   "name": "python",
   "nbconvert_exporter": "python",
   "pygments_lexer": "ipython3",
   "version": "3.6.7"
  }
 },
 "nbformat": 4,
 "nbformat_minor": 2
}
