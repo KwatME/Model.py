{
 "cells": [
  {
   "cell_type": "code",
   "execution_count": null,
   "metadata": {
    "ExecuteTime": {
     "end_time": "2018-07-08T02:00:18.270535Z",
     "start_time": "2018-07-08T02:00:17.409834Z"
    }
   },
   "outputs": [],
   "source": [
    "%load_ext autoreload\n",
    "%autoreload 2"
   ]
  },
  {
   "cell_type": "code",
   "execution_count": null,
   "metadata": {
    "ExecuteTime": {
     "end_time": "2018-07-06T18:37:38.413000Z",
     "start_time": "2018-07-06T18:37:36.654831Z"
    }
   },
   "outputs": [],
   "source": [
    "from environment import *\n",
    "\n",
    "with open(\"setting.yaml\") as yaml_file:\n",
    "\n",
    "    setting = yaml.load(yaml_file)\n",
    "\n",
    "path = make_path_dict(setting)"
   ]
  },
  {
   "cell_type": "code",
   "execution_count": null,
   "metadata": {
    "ExecuteTime": {
     "end_time": "2018-07-08T02:00:18.692012Z",
     "start_time": "2018-07-08T02:00:18.309427Z"
    }
   },
   "outputs": [],
   "source": [
    "w = pd.read_table(path[\"w.tsv\"], index_col=0)\n",
    "\n",
    "h = pd.read_table(path[\"h.tsv\"], index_col=0)"
   ]
  },
  {
   "cell_type": "code",
   "execution_count": null,
   "metadata": {
    "ExecuteTime": {
     "end_time": "2018-07-08T02:00:18.716327Z",
     "start_time": "2018-07-08T02:00:18.694100Z"
    }
   },
   "outputs": [],
   "source": [
    "if setting[\"element_entropy_quantile\"] < 1:\n",
    "\n",
    "    feature_entropy = w.apply(ccal.compute_entropy, axis=1)\n",
    "\n",
    "    w = w.loc[\n",
    "        feature_entropy.index[\n",
    "            feature_entropy\n",
    "            < feature_entropy.quantile(q=setting[\"element_entropy_quantile\"])\n",
    "        ]\n",
    "    ]\n",
    "\n",
    "    print(w.shape)\n",
    "\n",
    "    sample_entropy = h.apply(ccal.compute_entropy)\n",
    "\n",
    "    h = h[\n",
    "        sample_entropy.index[\n",
    "            sample_entropy\n",
    "            < sample_entropy.quantile(q=setting[\"element_entropy_quantile\"])\n",
    "        ]\n",
    "    ]\n",
    "\n",
    "    print(h.shape)"
   ]
  },
  {
   "cell_type": "code",
   "execution_count": null,
   "metadata": {},
   "outputs": [],
   "source": [
    "gps_map = ccal.GPSMap(\n",
    "    w=w.T,\n",
    "    h=h,\n",
    "    w_n_pull=setting[\"gps_map_w_n_pull\"],\n",
    "    w_pull_power=setting[\"gps_map_w_pull_power\"],\n",
    "    h_n_pull=setting[\"gps_map_h_n_pull\"],\n",
    "    h_pull_power=setting[\"gps_map_h_pull_power\"],\n",
    "    plot=False,\n",
    ")"
   ]
  },
  {
   "cell_type": "code",
   "execution_count": null,
   "metadata": {},
   "outputs": [],
   "source": [
    "for element_type in (\"feature\", \"sample\"):\n",
    "\n",
    "    if element_type == \"feature\":\n",
    "\n",
    "        w_or_h = \"w\"\n",
    "\n",
    "    elif element_type == \"sample\":\n",
    "\n",
    "        w_or_h = \"h\"\n",
    "\n",
    "    feature_x_sample_alias = setting[\"feature_x_sample_alias\"]\n",
    "\n",
    "    element_alias = setting[\"{}_alias\".format(element_type)]\n",
    "\n",
    "    title = \"{}<br>{} GPS Map\".format(feature_x_sample_alias, element_alias)\n",
    "\n",
    "    element_marker_size = setting[\"gps_map_{}_element_marker_size\".format(w_or_h)]\n",
    "\n",
    "    gps_map_directory_path = path[\"{}|gps_map/\".format(w_or_h)]\n",
    "\n",
    "    gps_map.plot_gps_map(\n",
    "        w_or_h,\n",
    "        element_marker_size=element_marker_size,\n",
    "        title=title,\n",
    "        html_file_path=\"{}/gps_map.html\".format(gps_map_directory_path),\n",
    "    )\n",
    "\n",
    "    hcc__k_x_column_file_path = path[\"{}|hcc__k_x_column.tsv\".format(w_or_h)]\n",
    "\n",
    "    if os.path.isfile(hcc__k_x_column_file_path):\n",
    "\n",
    "        hcc__k_x_column = pd.read_table(hcc__k_x_column_file_path, index_col=0)\n",
    "\n",
    "        if element_type == \"feature\":\n",
    "\n",
    "            elements = gps_map.w_elements\n",
    "\n",
    "        elif element_type == \"sample\":\n",
    "\n",
    "            elements = gps_map.h_elements\n",
    "\n",
    "        hcc_k = setting[\"{}_hcc_k\".format(w_or_h)]\n",
    "\n",
    "        bandwidth_factor = setting[\"gps_map_{}_bandwidth_factor\".format(w_or_h)]\n",
    "\n",
    "        gps_map.set_element_labels(\n",
    "            w_or_h,\n",
    "            hcc__k_x_column.loc[\"K{}\".format(hcc_k)],\n",
    "            bandwidth_factor=bandwidth_factor,\n",
    "        )\n",
    "\n",
    "        if setting[\"plotly_directory_path\"] is None:\n",
    "\n",
    "            plotly_file_path = None\n",
    "\n",
    "        else:\n",
    "\n",
    "            plotly_file_path = \"{}/{} GPS Map.html\".format(\n",
    "                path[\"plotly/\"], element_type.title()\n",
    "            )\n",
    "\n",
    "        hcc_gps_map_directory_path = path[\"{}|hcc|gps_map/\".format(w_or_h)]\n",
    "\n",
    "        gps_map.plot_gps_map(\n",
    "            w_or_h,\n",
    "            element_marker_size=element_marker_size,\n",
    "            title=title,\n",
    "            html_file_path=\"{}/gps_map.html\".format(hcc_gps_map_directory_path),\n",
    "            plotly_file_path=plotly_file_path,\n",
    "        )"
   ]
  },
  {
   "cell_type": "code",
   "execution_count": null,
   "metadata": {},
   "outputs": [],
   "source": [
    "ccal.dump_gps_map(gps_map, path[\"gps_map.pickle.gz\"])"
   ]
  }
 ],
 "metadata": {
  "kernelspec": {
   "display_name": "Python 3",
   "language": "python",
   "name": "python3"
  },
  "language_info": {
   "codemirror_mode": {
    "name": "ipython",
    "version": 3
   },
   "file_extension": ".py",
   "mimetype": "text/x-python",
   "name": "python",
   "nbconvert_exporter": "python",
   "pygments_lexer": "ipython3",
   "version": "3.6.7"
  }
 },
 "nbformat": 4,
 "nbformat_minor": 2
}
