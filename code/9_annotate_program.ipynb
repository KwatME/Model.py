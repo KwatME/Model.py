{
 "cells": [
  {
   "cell_type": "code",
   "execution_count": null,
   "metadata": {
    "ExecuteTime": {
     "end_time": "2018-07-08T00:30:32.513083Z",
     "start_time": "2018-07-08T00:30:32.501224Z"
    }
   },
   "outputs": [],
   "source": [
    "%load_ext autoreload\n",
    "\n",
    "%autoreload 2"
   ]
  },
  {
   "cell_type": "code",
   "execution_count": null,
   "metadata": {
    "ExecuteTime": {
     "end_time": "2018-07-08T02:00:18.306031Z",
     "start_time": "2018-07-08T02:00:18.276698Z"
    }
   },
   "outputs": [],
   "source": [
    "from environment import *\n",
    "\n",
    "import setting\n",
    "\n",
    "path_dict = path(setting)"
   ]
  },
  {
   "cell_type": "code",
   "execution_count": null,
   "metadata": {
    "ExecuteTime": {
     "end_time": "2018-07-08T00:30:34.682368Z",
     "start_time": "2018-07-08T00:30:34.625253Z"
    }
   },
   "outputs": [],
   "source": [
    "w = pd.read_table(\n",
    "    path_dict['w_file_path'],\n",
    "    index_col=0,\n",
    ")\n",
    "\n",
    "h = pd.read_table(\n",
    "    path_dict['h_file_path'],\n",
    "    index_col=0,\n",
    ")"
   ]
  },
  {
   "cell_type": "code",
   "execution_count": null,
   "metadata": {
    "ExecuteTime": {
     "end_time": "2018-07-08T00:31:29.260581Z",
     "start_time": "2018-07-08T00:30:34.731193Z"
    }
   },
   "outputs": [],
   "source": [
    "feature_dicts = make_feature_dicts(\n",
    "    'ccle',\n",
    "    ('Hist Subtype1', ),\n",
    ")"
   ]
  },
  {
   "cell_type": "code",
   "execution_count": null,
   "metadata": {
    "ExecuteTime": {
     "start_time": "2018-07-08T00:30:32.496Z"
    }
   },
   "outputs": [],
   "source": [
    "wt_or_h = 'h'\n",
    "\n",
    "targets = h\n",
    "\n",
    "ccal.make_match_panels(\n",
    "    targets,\n",
    "    feature_dicts,\n",
    "    n_job=setting.MAX_N_JOB,\n",
    "    extreme_feature_threshold=setting.EXTREME_FEATURE_THRESHOLD,\n",
    "    directory_path=path_dict['{}_match_directory_path'.format(wt_or_h)],\n",
    "    plotly_directory_path=path_dict['{}_match_plotly_directory_path'.format(wt_or_h)],\n",
    "    overwrite=False,\n",
    ")"
   ]
  }
 ],
 "metadata": {
  "kernelspec": {
   "display_name": "Python 3",
   "language": "python",
   "name": "python3"
  },
  "language_info": {
   "codemirror_mode": {
    "name": "ipython",
    "version": 3
   },
   "file_extension": ".py",
   "mimetype": "text/x-python",
   "name": "python",
   "nbconvert_exporter": "python",
   "pygments_lexer": "ipython3",
   "version": "3.6.5"
  }
 },
 "nbformat": 4,
 "nbformat_minor": 2
}
