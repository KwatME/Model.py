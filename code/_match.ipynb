{
 "cells": [
  {
   "cell_type": "code",
   "execution_count": null,
   "metadata": {},
   "outputs": [],
   "source": [
    "%load_ext autoreload\n",
    "%autoreload 2"
   ]
  },
  {
   "cell_type": "code",
   "execution_count": null,
   "metadata": {},
   "outputs": [],
   "source": [
    "from __init__ import *"
   ]
  },
  {
   "cell_type": "code",
   "execution_count": null,
   "metadata": {},
   "outputs": [],
   "source": [
    "ws, hs = read_ws_hs(\n",
    "    \"{}/mf\".format(OUTPUT_DIRECTORY_PATH),\n",
    "    SETTING[\"model_mode\"],\n",
    "    SETTING[\"model_data_dicts\"],\n",
    ")"
   ]
  },
  {
   "cell_type": "code",
   "execution_count": null,
   "metadata": {},
   "outputs": [],
   "source": [
    "data_dicts = SETTING[\"annotate_data_dicts\"] + SETTING[\"model_data_dicts\"]\n",
    "\n",
    "# annotate_w_data_dicts = tuple(\n",
    "#     data_dict\n",
    "#     for data_dict in data_dicts\n",
    "#     if 0 < len(data_dict[\"axis1_elements_to_peek\"])\n",
    "# )\n",
    "\n",
    "# annotate_h_data_dicts = tuple(\n",
    "#     data_dict\n",
    "#     for data_dict in data_dicts\n",
    "#     if 0 < len(data_dict[\"axis0_elements_to_peek\"])\n",
    "# )\n",
    "\n",
    "for annotate_data_dicts in (annotate_w_data_dicts, annotate_h_data_dicts):\n",
    "\n",
    "    for data_dict in annotate_data_dicts:\n",
    "\n",
    "        data_dict[\"dataframe\"] = pd.read_csv(\n",
    "            data_dict[\"file_path\"], sep=\"\\t\", index_col=0\n",
    "        )"
   ]
  },
  {
   "cell_type": "code",
   "execution_count": null,
   "metadata": {},
   "outputs": [],
   "source": [
    "for w_h_str in (\"w\", \"h\"):\n",
    "\n",
    "    if w_h_str == \"w\":\n",
    "\n",
    "        target_x_sample = pd.concat(ws).T\n",
    "\n",
    "        annotate_data_dicts = annotate_w_data_dicts\n",
    "\n",
    "    else:\n",
    "\n",
    "        target_x_sample = pd.concat(hs, axis=1)\n",
    "\n",
    "        annotate_data_dicts = annotate_h_data_dicts\n",
    "\n",
    "    kraft.make_match_panels(\n",
    "        target_x_sample,\n",
    "        data_dicts,\n",
    "        read_score_moe_p_value_fdr=True,\n",
    "        n_job=SETTING[\"n_job\"],\n",
    "        directory_path=\"{}/{}_match\".format(OUTPUT_DIRECTORY_PATH, w_h_str),\n",
    "    )"
   ]
  }
 ],
 "metadata": {
  "kernelspec": {
   "display_name": "Python 3",
   "language": "python",
   "name": "python3"
  },
  "language_info": {
   "codemirror_mode": {
    "name": "ipython",
    "version": 3
   },
   "file_extension": ".py",
   "mimetype": "text/x-python",
   "name": "python",
   "nbconvert_exporter": "python",
   "pygments_lexer": "ipython3",
   "version": "3.7.3"
  }
 },
 "nbformat": 4,
 "nbformat_minor": 4
}
