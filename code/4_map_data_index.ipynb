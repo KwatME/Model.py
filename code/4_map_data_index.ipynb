{
 "cells": [
  {
   "cell_type": "code",
   "execution_count": null,
   "metadata": {},
   "outputs": [],
   "source": [
    "%load_ext autoreload\n",
    "%autoreload 2"
   ]
  },
  {
   "cell_type": "code",
   "execution_count": null,
   "metadata": {},
   "outputs": [],
   "source": [
    "from __init__ import *"
   ]
  },
  {
   "cell_type": "code",
   "execution_count": null,
   "metadata": {},
   "outputs": [],
   "source": [
    "model_mode = SETTING[\"model_mode\"]\n",
    "\n",
    "if model_mode == \"range\":\n",
    "\n",
    "    w_h_str = \"h\"\n",
    "\n",
    "elif model_mode == \"deep\":\n",
    "\n",
    "    w_h_str = \"w\""
   ]
  },
  {
   "cell_type": "code",
   "execution_count": null,
   "metadata": {},
   "outputs": [],
   "source": [
    "gps_map_directory_path = \"{}/gps_map\".format(OUTPUT_DIRECTORY_PATH)"
   ]
  },
  {
   "cell_type": "code",
   "execution_count": null,
   "metadata": {},
   "outputs": [],
   "source": [
    "gps_map = kraft.read_gps_map(\n",
    "    \"{}/{}_gps_map.pickle.gz\".format(gps_map_directory_path, w_h_str)\n",
    ")"
   ]
  },
  {
   "cell_type": "code",
   "execution_count": null,
   "metadata": {},
   "outputs": [],
   "source": [
    "ws, hs = read_ws_hs(\n",
    "    \"{}/mf\".format(OUTPUT_DIRECTORY_PATH),\n",
    "    SETTING[\"model_mode\"],\n",
    "    SETTING[\"model_data_dicts\"],\n",
    ")\n",
    "\n",
    "if w_h_str == \"w\":\n",
    "\n",
    "    element_x_node_s = ws\n",
    "\n",
    "else:\n",
    "\n",
    "    element_x_node_s = tuple(h.T for h in hs)"
   ]
  },
  {
   "cell_type": "code",
   "execution_count": null,
   "metadata": {},
   "outputs": [],
   "source": [
    "for data_dict_index, data_dict in enumerate(SETTING[\"model_data_dicts\"]):\n",
    "\n",
    "    elements = element_x_node_s[data_dict_index].index\n",
    "\n",
    "    gps_map.plot(\n",
    "        element_value=pd.Series(1, index=elements),\n",
    "        element_trace=SETTING[\"{}_gps_map_element_trace\".format(w_h_str)],\n",
    "        layout={\n",
    "            \"title\": {\"text\": \"{} (n={})\".format(data_dict[\"name\"], elements.size)}\n",
    "        },\n",
    "        html_file_path=\"{}/{}_gps_map_data_{}.html\".format(\n",
    "            gps_map_directory_path, w_h_str, data_dict_index\n",
    "        ),\n",
    "    )"
   ]
  },
  {
   "cell_type": "code",
   "execution_count": null,
   "metadata": {},
   "outputs": [],
   "source": [
    "data_factor_directory_path = \"{}/data_factor\".format(OUTPUT_DIRECTORY_PATH)\n",
    "\n",
    "kraft.establish_path(data_factor_directory_path, \"directory\")\n",
    "\n",
    "layout_size = 640\n",
    "\n",
    "for data_dict_index, data_dict in enumerate(SETTING[\"model_data_dicts\"]):\n",
    "\n",
    "    element_x_node = element_x_node_s[data_dict_index]\n",
    "\n",
    "    idxmax_n = element_x_node.idxmax(axis=1).value_counts(normalize=True, sort=False)[\n",
    "        element_x_node.columns\n",
    "    ]\n",
    "\n",
    "    kraft.plot_plotly_figure(\n",
    "        {\n",
    "            \"layout\": {\n",
    "                \"title\": {\"text\": data_dict[\"name\"]},\n",
    "                \"height\": layout_size,\n",
    "                \"width\": layout_size,\n",
    "            },\n",
    "            \"data\": [\n",
    "                {\n",
    "                    \"type\": \"pie\",\n",
    "                    \"direction\": \"clockwise\",\n",
    "                    \"sort\": False,\n",
    "                    \"labels\": idxmax_n.index,\n",
    "                    \"values\": idxmax_n.values,\n",
    "                    \"textinfo\": \"label+percent\",\n",
    "                    \"textfont\": {\"size\": 16, \"color\": \"#181b26\"},\n",
    "                    \"hole\": 0.64,\n",
    "                }\n",
    "            ],\n",
    "        },\n",
    "        html_file_path=\"{}/data_{}_factor.html\".format(\n",
    "            data_factor_directory_path, data_dict_index\n",
    "        ),\n",
    "    )"
   ]
  }
 ],
 "metadata": {
  "kernelspec": {
   "display_name": "Python 3",
   "language": "python",
   "name": "python3"
  },
  "language_info": {
   "codemirror_mode": {
    "name": "ipython",
    "version": 3
   },
   "file_extension": ".py",
   "mimetype": "text/x-python",
   "name": "python",
   "nbconvert_exporter": "python",
   "pygments_lexer": "ipython3",
   "version": "3.7.3"
  }
 },
 "nbformat": 4,
 "nbformat_minor": 4
}
