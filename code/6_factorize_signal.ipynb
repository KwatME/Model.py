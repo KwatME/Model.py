{
 "cells": [
  {
   "cell_type": "code",
   "execution_count": null,
   "metadata": {
    "ExecuteTime": {
     "end_time": "2018-06-16T06:04:19.185502Z",
     "start_time": "2018-06-16T06:04:19.173894Z"
    }
   },
   "outputs": [],
   "source": [
    "%load_ext autoreload\n",
    "%autoreload 2"
   ]
  },
  {
   "cell_type": "code",
   "execution_count": null,
   "metadata": {
    "ExecuteTime": {
     "end_time": "2018-06-16T06:04:20.795759Z",
     "start_time": "2018-06-16T06:04:19.187050Z"
    }
   },
   "outputs": [],
   "source": [
    "from environment import *\n",
    "\n",
    "import analysis as a\n",
    "\n",
    "p = make_paths(a)"
   ]
  },
  {
   "cell_type": "code",
   "execution_count": null,
   "metadata": {
    "ExecuteTime": {
     "end_time": "2018-06-16T06:04:22.321732Z",
     "start_time": "2018-06-16T06:04:20.797912Z"
    },
    "scrolled": true
   },
   "outputs": [],
   "source": [
    "signal_matrix = pd.read_table(p['signal_matrix_file_path'], index_col=0)\n",
    "\n",
    "signal_matrix.fillna(0, inplace=True)\n",
    "\n",
    "signal_matrix = ccal.drop_df_slice_greedily(\n",
    "    signal_matrix, min_n_not_na_unique_value=2)"
   ]
  },
  {
   "cell_type": "code",
   "execution_count": null,
   "metadata": {
    "ExecuteTime": {
     "end_time": "2018-06-16T06:04:22.345040Z",
     "start_time": "2018-06-16T06:04:22.323706Z"
    },
    "scrolled": false
   },
   "outputs": [],
   "source": [
    "w_file_path = p['w_file_path']\n",
    "\n",
    "h_file_path = p['h_file_path']\n",
    "\n",
    "if not (os.path.isfile(w_file_path) and os.path.isfile(h_file_path)):\n",
    "\n",
    "    k_nmf, k_nmfcc_distance_linkage_ccc, nmfcc__k_x_column = ccal.nmf_consensus_cluster_with_multiple_k(\n",
    "        signal_matrix,\n",
    "        a.NMF_KS,\n",
    "        n_job=1,\n",
    "        n_clustering=10,\n",
    "        plot_df=signal_matrix.size < 1e6,\n",
    "        plot_w=signal_matrix.shape[0] < 1600,\n",
    "        plot_h=signal_matrix.shape[1] < 1600,\n",
    "        directory_path=p['nmf_directory_path'])"
   ]
  },
  {
   "cell_type": "code",
   "execution_count": null,
   "metadata": {
    "ExecuteTime": {
     "end_time": "2018-06-16T06:04:24.559716Z",
     "start_time": "2018-06-16T06:04:22.346543Z"
    },
    "scrolled": false
   },
   "outputs": [],
   "source": [
    "w = pd.read_table(w_file_path, index_col=0)\n",
    "\n",
    "h = pd.read_table(h_file_path, index_col=0)\n",
    "\n",
    "for wt_or_h, wt_or_h_matrix in (('wt', w.T), ('h', h)):\n",
    "\n",
    "    title = 'NMF k={} {}'.format(a.NMF_K, wt_or_h)\n",
    "\n",
    "    ccal.plot_heat_map(\n",
    "        wt_or_h_matrix,\n",
    "        normalization_method='-0-',\n",
    "        normalization_axis=0,\n",
    "        cluster_axis=1,\n",
    "        title=title,\n",
    "        xaxis_title=wt_or_h_matrix.columns.name,\n",
    "        yaxis_title=wt_or_h_matrix.index.name)"
   ]
  },
  {
   "cell_type": "code",
   "execution_count": null,
   "metadata": {
    "ExecuteTime": {
     "end_time": "2018-06-16T06:07:45.149567Z",
     "start_time": "2018-06-16T06:04:24.561487Z"
    },
    "scrolled": false
   },
   "outputs": [],
   "source": [
    "for wt_or_h, targets, features in (\n",
    "    ('wt', w.T, signal_matrix.T),\n",
    "    ('h', h, signal_matrix),\n",
    "):\n",
    "\n",
    "    targets = targets**0.32\n",
    "\n",
    "    ccal.make_match_panels(\n",
    "        ((targets).iloc[i] for i in range(targets.shape[0])), {\n",
    "            'Signal': {\n",
    "                'df': features,\n",
    "                'emphasis': 'high',\n",
    "                'data_type': 'continuous'\n",
    "            }\n",
    "        },\n",
    "        n_job=1,\n",
    "        extreme_feature_threshold=16,\n",
    "        directory_path=p['{}_match_directory_path'.format(wt_or_h)],\n",
    "        plotly_directory_path=p['{}_match_plotly_directory_path'.format(\n",
    "            wt_or_h)])"
   ]
  }
 ],
 "metadata": {
  "kernelspec": {
   "display_name": "Python [default]",
   "language": "python",
   "name": "python3"
  },
  "language_info": {
   "codemirror_mode": {
    "name": "ipython",
    "version": 3
   },
   "file_extension": ".py",
   "mimetype": "text/x-python",
   "name": "python",
   "nbconvert_exporter": "python",
   "pygments_lexer": "ipython3",
   "version": "3.6.5"
  }
 },
 "nbformat": 4,
 "nbformat_minor": 2
}
