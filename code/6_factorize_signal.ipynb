{
 "cells": [
  {
   "cell_type": "code",
   "execution_count": null,
   "metadata": {
    "ExecuteTime": {
     "end_time": "2018-07-06T18:37:36.653167Z",
     "start_time": "2018-07-06T18:37:36.642199Z"
    }
   },
   "outputs": [],
   "source": [
    "%load_ext autoreload\n",
    "\n",
    "%autoreload 2"
   ]
  },
  {
   "cell_type": "code",
   "execution_count": null,
   "metadata": {
    "ExecuteTime": {
     "end_time": "2018-07-06T18:37:38.413000Z",
     "start_time": "2018-07-06T18:37:36.654831Z"
    }
   },
   "outputs": [],
   "source": [
    "from environment import *\n",
    "\n",
    "import setting\n",
    "\n",
    "path_dict = path(setting)"
   ]
  },
  {
   "cell_type": "code",
   "execution_count": null,
   "metadata": {
    "ExecuteTime": {
     "end_time": "2018-07-06T18:37:38.787551Z",
     "start_time": "2018-07-06T18:37:38.416018Z"
    }
   },
   "outputs": [],
   "source": [
    "selected_signal_matrix = pd.read_table(\n",
    "    path_dict['selected_signal_matrix_file_path'],\n",
    "    index_col=0,\n",
    ")\n",
    "\n",
    "selected_signal_matrix.fillna(\n",
    "    0,\n",
    "    inplace=True,\n",
    ")"
   ]
  },
  {
   "cell_type": "code",
   "execution_count": null,
   "metadata": {
    "ExecuteTime": {
     "end_time": "2018-07-06T18:38:44.148873Z",
     "start_time": "2018-07-06T18:37:38.790145Z"
    }
   },
   "outputs": [],
   "source": [
    "k_nmf = ccal.nmf_consensus_cluster_with_multiple_k(\n",
    "    selected_signal_matrix,\n",
    "    setting.NMF_KS,\n",
    "    n_job=setting.MAX_N_JOB,\n",
    "    plot_df=False,\n",
    "    plot_w=selected_signal_matrix.shape[0] < 2400,\n",
    "    plot_h=selected_signal_matrix.shape[1] < 2400,\n",
    "    directory_path=path_dict['nmf_directory_path'],\n",
    ")[0]"
   ]
  },
  {
   "cell_type": "code",
   "execution_count": null,
   "metadata": {
    "ExecuteTime": {
     "end_time": "2018-07-06T18:41:44.586657Z",
     "start_time": "2018-07-06T18:38:44.151540Z"
    }
   },
   "outputs": [],
   "source": [
    "w = pd.read_table(\n",
    "    path_dict['w_file_path'],\n",
    "    index_col=0,\n",
    ")\n",
    "\n",
    "h = pd.read_table(\n",
    "    path_dict['h_file_path'],\n",
    "    index_col=0,\n",
    ")\n",
    "\n",
    "for wt_or_h, wt_or_h_matrix in (\n",
    "    (\n",
    "        'wt',\n",
    "        w.T,\n",
    "    ),\n",
    "    (\n",
    "        'h',\n",
    "        h,\n",
    "    ),\n",
    "):\n",
    "\n",
    "    title = 'NMF k={} {}'.format(\n",
    "        setting.NMF_K,\n",
    "        wt_or_h,\n",
    "    )\n",
    "\n",
    "    ccal.plot_heat_map(\n",
    "        wt_or_h_matrix,\n",
    "        normalization_method='-0-',\n",
    "        normalization_axis=0,\n",
    "        cluster_axis=1,\n",
    "        title=title,\n",
    "        xaxis_title=wt_or_h_matrix.columns.name,\n",
    "        yaxis_title=wt_or_h_matrix.index.name,\n",
    "    )"
   ]
  },
  {
   "cell_type": "code",
   "execution_count": null,
   "metadata": {
    "ExecuteTime": {
     "end_time": "2018-07-06T18:52:29.719653Z",
     "start_time": "2018-07-06T18:41:44.588542Z"
    }
   },
   "outputs": [],
   "source": [
    "for wt_or_h, targets, features in (\n",
    "    (\n",
    "        'wt',\n",
    "        w.T,\n",
    "        selected_signal_matrix.T,\n",
    "    ),\n",
    "    (\n",
    "        'h',\n",
    "        h,\n",
    "        selected_signal_matrix,\n",
    "    ),\n",
    "):\n",
    "\n",
    "    ccal.make_match_panels(\n",
    "        targets,\n",
    "        {'Selected Signal': {\n",
    "            'df': features,\n",
    "            'emphasis': 'high',\n",
    "            'data_type': 'continuous',\n",
    "        }},\n",
    "    )"
   ]
  }
 ],
 "metadata": {
  "kernelspec": {
   "display_name": "Python 3",
   "language": "python",
   "name": "python3"
  },
  "language_info": {
   "codemirror_mode": {
    "name": "ipython",
    "version": 3
   },
   "file_extension": ".py",
   "mimetype": "text/x-python",
   "name": "python",
   "nbconvert_exporter": "python",
   "pygments_lexer": "ipython3",
   "version": "3.6.5"
  }
 },
 "nbformat": 4,
 "nbformat_minor": 2
}
