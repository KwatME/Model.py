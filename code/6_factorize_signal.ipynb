{
 "cells": [
  {
   "cell_type": "code",
   "execution_count": null,
   "metadata": {
    "ExecuteTime": {
     "end_time": "2018-07-06T18:37:36.653167Z",
     "start_time": "2018-07-06T18:37:36.642199Z"
    }
   },
   "outputs": [],
   "source": [
    "%load_ext autoreload\n",
    "%autoreload 2"
   ]
  },
  {
   "cell_type": "code",
   "execution_count": null,
   "metadata": {
    "ExecuteTime": {
     "end_time": "2018-07-06T18:37:38.413000Z",
     "start_time": "2018-07-06T18:37:36.654831Z"
    }
   },
   "outputs": [],
   "source": [
    "from __init__ import *\n",
    "\n",
    "PROJECT_JSON = kraft.read_json(\"../project.json\")\n",
    "\n",
    "PATH = make_path_dict(PROJECT_JSON)"
   ]
  },
  {
   "cell_type": "code",
   "execution_count": null,
   "metadata": {
    "ExecuteTime": {
     "end_time": "2018-07-06T18:37:38.787551Z",
     "start_time": "2018-07-06T18:37:38.416018Z"
    }
   },
   "outputs": [],
   "source": [
    "signal = pd.read_csv(PATH[\"feature_x_sample.signal.tsv\"], sep=\"\\t\", index_col=0)\n",
    "\n",
    "signal.columns.name = PROJECT_JSON[\"sample_alias\"]\n",
    "\n",
    "signal.fillna(value=0, inplace=True)"
   ]
  },
  {
   "cell_type": "code",
   "execution_count": null,
   "metadata": {
    "ExecuteTime": {
     "end_time": "2018-07-06T18:38:44.148873Z",
     "start_time": "2018-07-06T18:37:38.790145Z"
    }
   },
   "outputs": [],
   "source": [
    "k_mfcc = kraft.mf_consensus_cluster_dataframe_with_ks(\n",
    "    signal,\n",
    "    PROJECT_JSON[\"mf_ks\"],\n",
    "    n_job=PROJECT_JSON[\"n_job\"],\n",
    "    n_clustering=PROJECT_JSON[\"mf_n_clustering\"],\n",
    "    plot_dataframe=signal.size < PROJECT_JSON[\"plot_heat_map_max_size\"],\n",
    "    plot_w=signal.shape[0] < PROJECT_JSON[\"plot_cluster_max_size\"],\n",
    "    plot_h=signal.shape[1] < PROJECT_JSON[\"plot_cluster_max_size\"],\n",
    "    directory_path=PATH[\"mf/\"],\n",
    ")"
   ]
  },
  {
   "cell_type": "code",
   "execution_count": null,
   "metadata": {
    "ExecuteTime": {
     "end_time": "2018-07-06T18:41:44.586657Z",
     "start_time": "2018-07-06T18:38:44.151540Z"
    }
   },
   "outputs": [],
   "source": [
    "for k in PROJECT_JSON[\"mf_ks\"]:\n",
    "\n",
    "    for w_or_h, axis in ((\"w\", 0), (\"h\", 1)):\n",
    "\n",
    "        dataframe = pd.read_csv(\n",
    "            os.path.join(PATH[\"mf/\"], str(k), \"{}.tsv\".format(w_or_h)),\n",
    "            sep=\"\\t\",\n",
    "            index_col=0,\n",
    "        )\n",
    "\n",
    "        if w_or_h == \"w\":\n",
    "\n",
    "            dataframe.columns.name = \"Factor\"\n",
    "\n",
    "        kraft.apply_function_on_slices_from_2_dataframes(\n",
    "            dataframe,\n",
    "            dataframe,\n",
    "            axis,\n",
    "            kraft.compute_information_coefficient_between_2_vectors,\n",
    "            layout={\"title\": {\"text\": \"MF K={} {}\".format(k, w_or_h.title())}},\n",
    "        )"
   ]
  }
 ],
 "metadata": {
  "@webio": {
   "lastCommId": null,
   "lastKernelId": null
  },
  "kernelspec": {
   "display_name": "Python 3",
   "language": "python",
   "name": "python3"
  },
  "language_info": {
   "codemirror_mode": {
    "name": "ipython",
    "version": 3
   },
   "file_extension": ".py",
   "mimetype": "text/x-python",
   "name": "python",
   "nbconvert_exporter": "python",
   "pygments_lexer": "ipython3",
   "version": "3.7.3"
  }
 },
 "nbformat": 4,
 "nbformat_minor": 4
}
