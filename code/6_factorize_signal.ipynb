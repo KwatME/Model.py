{
 "cells": [
  {
   "cell_type": "code",
   "execution_count": null,
   "metadata": {
    "ExecuteTime": {
     "end_time": "2018-07-06T18:37:36.653167Z",
     "start_time": "2018-07-06T18:37:36.642199Z"
    }
   },
   "outputs": [],
   "source": [
    "# cleaning...%load_ext autoreload\n",
    "# cleaning...%autoreload 2"
   ]
  },
  {
   "cell_type": "code",
   "execution_count": null,
   "metadata": {
    "ExecuteTime": {
     "end_time": "2018-07-06T20:13:16.628911Z",
     "start_time": "2018-07-06T20:13:14.935143Z"
    }
   },
   "outputs": [],
   "source": [
    "from __init__ import *"
   ]
  },
  {
   "cell_type": "code",
   "execution_count": null,
   "metadata": {
    "ExecuteTime": {
     "end_time": "2018-07-06T18:37:38.787551Z",
     "start_time": "2018-07-06T18:37:38.416018Z"
    }
   },
   "outputs": [],
   "source": [
    "signal = pd.read_csv(PATH[\"feature_x_sample.signal.tsv\"], sep=\"\\t\", index_col=0)\n",
    "\n",
    "signal.columns.name = SETTING[\"sample_alias\"]\n",
    "\n",
    "signal.fillna(value=0, inplace=True)"
   ]
  },
  {
   "cell_type": "code",
   "execution_count": null,
   "metadata": {
    "ExecuteTime": {
     "end_time": "2018-07-06T18:38:44.148873Z",
     "start_time": "2018-07-06T18:37:38.790145Z"
    }
   },
   "outputs": [],
   "source": [
    "k_mfcc = kraft.mf_consensus_cluster_dataframe_with_ks(\n",
    "    signal,\n",
    "    SETTING[\"mf_ks\"],\n",
    "    n_job=SETTING[\"n_job\"],\n",
    "    n_clustering=SETTING[\"mf_n_clustering\"],\n",
    "    plot_dataframe=False,\n",
    "    plot_w=True,\n",
    "    plot_h=True,\n",
    "    directory_path=PATH[\"mf/\"],\n",
    ")"
   ]
  },
  {
   "cell_type": "code",
   "execution_count": null,
   "metadata": {
    "ExecuteTime": {
     "end_time": "2018-07-06T18:41:44.586657Z",
     "start_time": "2018-07-06T18:38:44.151540Z"
    }
   },
   "outputs": [],
   "source": [
    "for k in SETTING[\"mf_ks\"]:\n",
    "\n",
    "    for w_or_h, axis in ((\"w\", 0), (\"h\", 1)):\n",
    "\n",
    "        dataframe = pd.read_csv(\n",
    "            os.path.join(PATH[\"mf/\"], str(k), \"{}.tsv\".format(w_or_h)),\n",
    "            sep=\"\\t\",\n",
    "            index_col=0,\n",
    "        )\n",
    "\n",
    "        if w_or_h == \"w\":\n",
    "\n",
    "            dataframe.columns.name = \"Factor\"\n",
    "\n",
    "        kraft.apply_function_on_slices_from_2_dataframes(\n",
    "            dataframe,\n",
    "            dataframe,\n",
    "            axis,\n",
    "            kraft.compute_information_coefficient_between_2_vectors,\n",
    "            layout={\"title\": {\"text\": \"MF K={} {}\".format(k, w_or_h.title())}},\n",
    "        )"
   ]
  }
 ],
 "metadata": {
  "@webio": {
   "lastCommId": null,
   "lastKernelId": null
  },
  "kernelspec": {
   "display_name": "Python 3",
   "language": "python",
   "name": "python3"
  },
  "language_info": {
   "codemirror_mode": {
    "name": "ipython",
    "version": 3
   },
   "file_extension": ".py",
   "mimetype": "text/x-python",
   "name": "python",
   "nbconvert_exporter": "python",
   "pygments_lexer": "ipython3",
   "version": "3.7.3"
  }
 },
 "nbformat": 4,
 "nbformat_minor": 4
}
