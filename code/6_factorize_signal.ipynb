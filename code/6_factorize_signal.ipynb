{
 "cells": [
  {
   "cell_type": "code",
   "execution_count": null,
   "metadata": {
    "ExecuteTime": {
     "end_time": "2018-07-06T18:37:36.653167Z",
     "start_time": "2018-07-06T18:37:36.642199Z"
    }
   },
   "outputs": [],
   "source": [
    "%load_ext autoreload\n",
    "%autoreload 2"
   ]
  },
  {
   "cell_type": "code",
   "execution_count": null,
   "metadata": {
    "ExecuteTime": {
     "end_time": "2018-07-06T18:37:38.413000Z",
     "start_time": "2018-07-06T18:37:36.654831Z"
    }
   },
   "outputs": [],
   "source": [
    "from environment import *\n",
    "\n",
    "with open(\"setting.yaml\") as yaml_file:\n",
    "\n",
    "    SETTING = yaml.load(yaml_file)\n",
    "\n",
    "PATH = make_path_dict(SETTING)"
   ]
  },
  {
   "cell_type": "code",
   "execution_count": null,
   "metadata": {
    "ExecuteTime": {
     "end_time": "2018-07-06T18:37:38.787551Z",
     "start_time": "2018-07-06T18:37:38.416018Z"
    }
   },
   "outputs": [],
   "source": [
    "signal = pd.read_csv(PATH[\"feature_x_sample.signal.tsv\"], sep=\"\\t\", index_col=0)\n",
    "\n",
    "signal.columns.name = SETTING[\"sample_alias\"]\n",
    "\n",
    "signal.fillna(value=0, inplace=True)"
   ]
  },
  {
   "cell_type": "code",
   "execution_count": null,
   "metadata": {
    "ExecuteTime": {
     "end_time": "2018-07-06T18:38:44.148873Z",
     "start_time": "2018-07-06T18:37:38.790145Z"
    }
   },
   "outputs": [],
   "source": [
    "k_nmfcc = ccal.mf_consensus_cluster_with_ks(\n",
    "    signal,\n",
    "    SETTING[\"nmf_ks\"],\n",
    "    mf_function=\"mf_by_multiplicative_update\",\n",
    "    n_job=SETTING[\"n_job\"],\n",
    "    n_clustering=SETTING[\"nmf_n_clustering\"],\n",
    "    plot_df=signal.size < SETTING[\"plot_heat_map_max_size\"],\n",
    "    plot_w=signal.shape[0] < SETTING[\"plot_cluster_max_size\"],\n",
    "    plot_h=signal.shape[1] < SETTING[\"plot_cluster_max_size\"],\n",
    "    directory_path=PATH[\"nmf/\"],\n",
    ")"
   ]
  },
  {
   "cell_type": "code",
   "execution_count": null,
   "metadata": {
    "ExecuteTime": {
     "end_time": "2018-07-06T18:41:44.586657Z",
     "start_time": "2018-07-06T18:38:44.151540Z"
    }
   },
   "outputs": [],
   "source": [
    "for k in SETTING[\"nmf_ks\"]:\n",
    "\n",
    "    for w_or_h, axis in ((\"w\", 0), (\"h\", 1)):\n",
    "\n",
    "        df = pd.read_csv(\n",
    "            \"{}/{}/{}.tsv\".format(PATH[\"nmf/\"], k, w_or_h), sep=\"\\t\", index_col=0\n",
    "        )\n",
    "\n",
    "        ccal.make_comparison_panel(\n",
    "            df,\n",
    "            df,\n",
    "            axis=axis,\n",
    "            title=\"NMF K={} {}\".format(k, w_or_h.title()),\n",
    "            name_0=\"Factor\",\n",
    "            name_1=\"Factor\",\n",
    "        )"
   ]
  }
 ],
 "metadata": {
  "kernelspec": {
   "display_name": "Python 3",
   "language": "python",
   "name": "python3"
  },
  "language_info": {
   "codemirror_mode": {
    "name": "ipython",
    "version": 3
   },
   "file_extension": ".py",
   "mimetype": "text/x-python",
   "name": "python",
   "nbconvert_exporter": "python",
   "pygments_lexer": "ipython3",
   "version": "3.6.7"
  }
 },
 "nbformat": 4,
 "nbformat_minor": 2
}
