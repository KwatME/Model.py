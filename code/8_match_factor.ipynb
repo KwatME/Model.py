{
 "cells": [
  {
   "cell_type": "code",
   "execution_count": null,
   "metadata": {
    "ExecuteTime": {
     "end_time": "2018-07-08T00:30:32.513083Z",
     "start_time": "2018-07-08T00:30:32.501224Z"
    }
   },
   "outputs": [],
   "source": [
    "%load_ext autoreload\n",
    "%autoreload 2"
   ]
  },
  {
   "cell_type": "code",
   "execution_count": null,
   "metadata": {
    "ExecuteTime": {
     "end_time": "2018-07-06T20:13:16.628911Z",
     "start_time": "2018-07-06T20:13:14.935143Z"
    }
   },
   "outputs": [],
   "source": [
    "from __init__ import *\n",
    "\n",
    "SETTING = kraft.read_json(\"../project.json\")\n",
    "\n",
    "if \"project_directory_path\" in SETTING:\n",
    "\n",
    "    SETTING.update(\n",
    "        kraft.read_json(os.path.join(SETTING[\"project_directory_path\"], \"project.json\"))\n",
    "    )\n",
    "\n",
    "    SETTING[\"output_directory_path\"] = os.path.join(\n",
    "        SETTING[\"project_directory_path\"], \"output\"\n",
    "    )\n",
    "\n",
    "PATH = make_path_dict(SETTING)"
   ]
  },
  {
   "cell_type": "code",
   "execution_count": null,
   "metadata": {},
   "outputs": [],
   "source": [
    "feature_data_dicts = SETTING[\"feature_data\"]\n",
    "\n",
    "for data_name, data_dict in feature_data_dicts.items():\n",
    "\n",
    "    print(data_name)\n",
    "\n",
    "    data_dict[\"dataframe\"] = pd.read_csv(data_dict[\"file_path\"], sep=\"\\t\", index_col=0)"
   ]
  },
  {
   "cell_type": "code",
   "execution_count": null,
   "metadata": {},
   "outputs": [],
   "source": [
    "sample_data_dicts = SETTING[\"sample_data\"]\n",
    "\n",
    "for data_name, data_dict in sample_data_dicts.items():\n",
    "\n",
    "    print(data_name)\n",
    "\n",
    "    data_dict[\"dataframe\"] = pd.read_csv(data_dict[\"file_path\"], sep=\"\\t\", index_col=0)"
   ]
  },
  {
   "cell_type": "code",
   "execution_count": null,
   "metadata": {},
   "outputs": [],
   "source": [
    "w = pd.read_csv(PATH[\"w.tsv\"], sep=\"\\t\", index_col=0)\n",
    "\n",
    "h = pd.read_csv(PATH[\"h.tsv\"], sep=\"\\t\", index_col=0)\n",
    "\n",
    "w.columns.name = h.index.name\n",
    "\n",
    "h.columns.name = SETTING[\"sample_alias\"]"
   ]
  },
  {
   "cell_type": "code",
   "execution_count": null,
   "metadata": {},
   "outputs": [],
   "source": [
    "for targets, data_dicts, directory_path in (\n",
    "    (w.T, feature_data_dicts, PATH[\"w|match/\"]),\n",
    "    (h, sample_data_dicts, PATH[\"h|match/\"]),\n",
    "):\n",
    "\n",
    "    kraft.make_match_panels(\n",
    "        targets,\n",
    "        data_dicts,\n",
    "        directory_path=directory_path,\n",
    "        read_score_moe_p_value_fdr=False,\n",
    "        n_job=SETTING[\"n_job\"],\n",
    "        n_required_for_match_function=SETTING[\"n_required_for_match_function\"],\n",
    "        n_extreme=SETTING[\"n_extreme\"],\n",
    "        n_sampling=SETTING[\"n_sampling\"],\n",
    "        n_permutation=SETTING[\"n_permutation\"],\n",
    "        plot_std=SETTING[\"plot_std\"],\n",
    "    )"
   ]
  }
 ],
 "metadata": {
  "@webio": {
   "lastCommId": null,
   "lastKernelId": null
  },
  "kernelspec": {
   "display_name": "Python 3",
   "language": "python",
   "name": "python3"
  },
  "language_info": {
   "codemirror_mode": {
    "name": "ipython",
    "version": 3
   },
   "file_extension": ".py",
   "mimetype": "text/x-python",
   "name": "python",
   "nbconvert_exporter": "python",
   "pygments_lexer": "ipython3",
   "version": "3.7.3"
  }
 },
 "nbformat": 4,
 "nbformat_minor": 4
}
