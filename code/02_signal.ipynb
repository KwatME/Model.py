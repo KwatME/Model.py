{
 "cells": [
  {
   "cell_type": "code",
   "execution_count": null,
   "metadata": {},
   "outputs": [],
   "source": [
    "from __init__ import *"
   ]
  },
  {
   "cell_type": "code",
   "execution_count": null,
   "metadata": {},
   "outputs": [],
   "source": [
    "directory_path = \"../output/signal/\"\n",
    "\n",
    "kraft.path.path(directory_path)"
   ]
  },
  {
   "cell_type": "code",
   "execution_count": null,
   "metadata": {},
   "outputs": [],
   "source": [
    "def surprise(table):\n",
    "\n",
    "    matrix = table.to_numpy()\n",
    "\n",
    "    assert (0 <= matrix).all()\n",
    "\n",
    "    vector_1 = np.sum(matrix, axis=0)\n",
    "\n",
    "    assert (0 < vector_1).all()\n",
    "\n",
    "    for vector_0 in matrix:\n",
    "\n",
    "        is_ = 0 < vector_0\n",
    "\n",
    "        vector_0_is = vector_0[is_]\n",
    "\n",
    "        vector_1_is = vector_1[is_]\n",
    "\n",
    "        for i, number in enumerate(\n",
    "            kraft.information.get_kld(\n",
    "                vector_0_is / vector_0_is.sum(), vector_1_is / vector_1_is.sum(),\n",
    "            )\n",
    "        ):\n",
    "\n",
    "            vector_0[i] = number"
   ]
  },
  {
   "cell_type": "code",
   "execution_count": null,
   "metadata": {},
   "outputs": [],
   "source": [
    "for i, dict in enumerate(SETTING[\"model_data_\"]):\n",
    "\n",
    "    table = pd.read_csv(dict[\"file_path\"], sep=\"\\t\", index_col=0)\n",
    "\n",
    "    table.columns.name = dict[\"axis_1_name\"]\n",
    "\n",
    "    surprise(table)\n",
    "\n",
    "    kraft.pandas.summarize(table)\n",
    "\n",
    "    negative = table.clip(upper=0)\n",
    "\n",
    "    positive = table.clip(lower=0)\n",
    "\n",
    "    axis = 1\n",
    "\n",
    "    standard_deviation = 2\n",
    "\n",
    "    negative = negative.loc[\n",
    "        kraft.pandas.get_extreme_label_(\n",
    "            negative.median(axis=axis), \"<\", standard_deviation=standard_deviation\n",
    "        ),\n",
    "        :,\n",
    "    ]\n",
    "\n",
    "    positive = positive.loc[\n",
    "        kraft.pandas.get_extreme_label_(\n",
    "            positive.median(axis=axis), \">\", standard_deviation=standard_deviation\n",
    "        ),\n",
    "        :,\n",
    "    ]\n",
    "\n",
    "    if SETTING[\"signal\"] == \"-+\":\n",
    "\n",
    "        negative.index = (\"-{}\".format(label) for label in negative.index.to_numpy())\n",
    "\n",
    "        positive.index = (\"+{}\".format(label) for label in positive.index.to_numpy())\n",
    "\n",
    "        signal = pd.concat((-negative, positive))\n",
    "\n",
    "    elif SETTING[\"signal\"] == \"-\":\n",
    "\n",
    "        signal = negative\n",
    "\n",
    "    elif SETTING[\"signal\"] == \"+\":\n",
    "\n",
    "        signal = positive\n",
    "\n",
    "    signal.index.name = table.index.name\n",
    "\n",
    "    kraft.pandas.summarize(signal)\n",
    "\n",
    "    signal.to_csv(\"{}{}.tsv\".format(directory_path, i), sep=\"\\t\")"
   ]
  }
 ],
 "metadata": {
  "kernelspec": {
   "display_name": "Python 3",
   "language": "python",
   "name": "python3"
  },
  "language_info": {
   "codemirror_mode": {
    "name": "ipython",
    "version": 3
   },
   "file_extension": ".py",
   "mimetype": "text/x-python",
   "name": "python",
   "nbconvert_exporter": "python",
   "pygments_lexer": "ipython3",
   "version": "3.7.8"
  }
 },
 "nbformat": 4,
 "nbformat_minor": 4
}
