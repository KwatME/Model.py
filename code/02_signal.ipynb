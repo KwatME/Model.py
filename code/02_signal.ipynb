{
 "cells": [
  {
   "cell_type": "code",
   "execution_count": null,
   "metadata": {},
   "outputs": [],
   "source": [
    "from __init__ import *"
   ]
  },
  {
   "cell_type": "code",
   "execution_count": null,
   "metadata": {},
   "outputs": [],
   "source": [
    "directory_path = \"../output/signal/\"\n",
    "\n",
    "kraft.path.path(directory_path)"
   ]
  },
  {
   "cell_type": "code",
   "execution_count": null,
   "metadata": {},
   "outputs": [],
   "source": [
    "def get_surprise(r, d, _0=kraft.CONSTANT.FLOAT_RESOLUTION):\n",
    "\n",
    "    rp = _0\n",
    "\n",
    "    r_sum = r.sum()\n",
    "\n",
    "    if 0 < r_sum:\n",
    "\n",
    "        rp += r / r_sum\n",
    "\n",
    "    dp = _0\n",
    "\n",
    "    d_sum = d.sum()\n",
    "\n",
    "    if 0 < d_sum:\n",
    "\n",
    "        dp += d / d_sum\n",
    "\n",
    "    return dp * np.log(dp / rp)\n",
    "\n",
    "\n",
    "def update_surprise(r, dataframe):\n",
    "\n",
    "    for vector in dataframe.to_numpy():\n",
    "\n",
    "        surprises = get_surprise(r, vector)\n",
    "\n",
    "        for i in range(vector.size):\n",
    "\n",
    "            vector[i] = surprises[i]\n",
    "\n",
    "    kraft.feature_x_sample.summarize(dataframe)"
   ]
  },
  {
   "cell_type": "code",
   "execution_count": null,
   "metadata": {},
   "outputs": [],
   "source": [
    "for i, dict_ in enumerate(SETTING[\"model_data_dicts\"]):\n",
    "\n",
    "    print(dict_[\"name\"])\n",
    "\n",
    "    dataframe = pd.read_csv(dict_[\"file_path\"], sep=\"\\t\", index_col=0)\n",
    "\n",
    "    dataframe.columns.name = dict_[\"axis_1_name\"]\n",
    "\n",
    "    update_surprise(dataframe.sum(), dataframe)\n",
    "\n",
    "    negative = dataframe.clip(upper=0)\n",
    "\n",
    "    positive = dataframe.clip(lower=0)\n",
    "\n",
    "    negative = negative.loc[\n",
    "        kraft.series.get_extreme_labels(\n",
    "            negative.median(axis=1), \"<\", standard_deviation=1.5\n",
    "        ),\n",
    "        :,\n",
    "    ]\n",
    "\n",
    "    positive = positive.loc[\n",
    "        kraft.series.get_extreme_labels(\n",
    "            positive.median(axis=1), \">\", standard_deviation=2\n",
    "        ),\n",
    "        :,\n",
    "    ]\n",
    "\n",
    "    negative.index = (\"(-) {}\".format(label) for label in negative.index.to_numpy())\n",
    "\n",
    "    positive.index = (\"(+) {}\".format(label) for label in positive.index.to_numpy())\n",
    "\n",
    "    signal = pd.concat((-negative, positive))\n",
    "\n",
    "    signal.index.name = dataframe.index.name\n",
    "\n",
    "    signal.to_csv(\"{}/{}.tsv\".format(directory_path, i), sep=\"\\t\")"
   ]
  }
 ],
 "metadata": {
  "kernelspec": {
   "display_name": "Python 3",
   "language": "python",
   "name": "python3"
  },
  "language_info": {
   "codemirror_mode": {
    "name": "ipython",
    "version": 3
   },
   "file_extension": ".py",
   "mimetype": "text/x-python",
   "name": "python",
   "nbconvert_exporter": "python",
   "pygments_lexer": "ipython3",
   "version": "3.7.8"
  }
 },
 "nbformat": 4,
 "nbformat_minor": 4
}
