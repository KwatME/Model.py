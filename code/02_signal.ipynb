{
 "cells": [
  {
   "cell_type": "code",
   "execution_count": null,
   "metadata": {},
   "outputs": [],
   "source": [
    "from __init__ import *"
   ]
  },
  {
   "cell_type": "code",
   "execution_count": null,
   "metadata": {},
   "outputs": [],
   "source": [
    "directory_path = \"../output/signal/\"\n",
    "\n",
    "kraft.path.path(directory_path)"
   ]
  },
  {
   "cell_type": "code",
   "execution_count": null,
   "metadata": {},
   "outputs": [],
   "source": [
    "def get_surprise(vector, vector_reference, _0=kraft.CONSTANT.FLOAT_RESOLUTION):\n",
    "\n",
    "    vector_probability = np.full(vector.shape, _0)\n",
    "\n",
    "    vector_reference_probability = np.full(vector_reference.shape, _0)\n",
    "\n",
    "    vector_sum = vector.sum()\n",
    "\n",
    "    vector_reference_sum = vector_reference.sum()\n",
    "\n",
    "    if 0 < vector_sum:\n",
    "\n",
    "        vector_probability += vector / vector_sum\n",
    "\n",
    "    if 0 < vector_reference_sum:\n",
    "\n",
    "        vector_reference_probability += vector_reference / vector_reference_sum\n",
    "\n",
    "    return kraft.information.get_kld(vector_probability, vector_reference_probability)"
   ]
  },
  {
   "cell_type": "code",
   "execution_count": null,
   "metadata": {},
   "outputs": [],
   "source": [
    "def update_surprise(dataframe_number, vector_reference):\n",
    "\n",
    "    axis_1_size = dataframe_number.shape[1]\n",
    "\n",
    "    for vector in dataframe_number.to_numpy():\n",
    "\n",
    "        vector_surprise = get_surprise(vector, vector_reference)\n",
    "\n",
    "        for i in range(axis_1_size):\n",
    "\n",
    "            vector[i] = vector_surprise[i]\n",
    "\n",
    "    kraft.feature_x_sample.summarize(dataframe_number)"
   ]
  },
  {
   "cell_type": "code",
   "execution_count": null,
   "metadata": {},
   "outputs": [],
   "source": [
    "for i, dict_ in enumerate(SETTING[\"model_data_dicts\"]):\n",
    "\n",
    "    dataframe = pd.read_csv(dict_[\"file_path\"], sep=\"\\t\", index_col=0)\n",
    "\n",
    "    dataframe.columns.name = dict_[\"axis_1_name\"]\n",
    "\n",
    "    update_surprise(dataframe, dataframe.to_numpy().sum(axis=0))\n",
    "\n",
    "    negative = dataframe.clip(upper=0)\n",
    "\n",
    "    positive = dataframe.clip(lower=0)\n",
    "\n",
    "    negative = negative.loc[\n",
    "        kraft.series.get_extreme_labels(\n",
    "            negative.median(axis=1), \"<\", standard_deviation=2\n",
    "        ),\n",
    "        :,\n",
    "    ]\n",
    "\n",
    "    positive = positive.loc[\n",
    "        kraft.series.get_extreme_labels(\n",
    "            positive.median(axis=1), \">\", standard_deviation=2\n",
    "        ),\n",
    "        :,\n",
    "    ]\n",
    "\n",
    "    negative.index = (\"-{}\".format(label) for label in negative.index.to_numpy())\n",
    "\n",
    "    positive.index = (\"+{}\".format(label) for label in positive.index.to_numpy())\n",
    "\n",
    "    signal = pd.concat((-negative, positive))\n",
    "\n",
    "    signal.index.name = dataframe.index.name\n",
    "\n",
    "    signal.to_csv(\"{}{}.tsv\".format(directory_path, i), sep=\"\\t\")"
   ]
  }
 ],
 "metadata": {
  "kernelspec": {
   "display_name": "Python 3",
   "language": "python",
   "name": "python3"
  },
  "language_info": {
   "codemirror_mode": {
    "name": "ipython",
    "version": 3
   },
   "file_extension": ".py",
   "mimetype": "text/x-python",
   "name": "python",
   "nbconvert_exporter": "python",
   "pygments_lexer": "ipython3",
   "version": "3.7.8"
  }
 },
 "nbformat": 4,
 "nbformat_minor": 4
}
