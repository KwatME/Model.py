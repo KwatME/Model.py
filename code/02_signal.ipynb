{
 "cells": [
  {
   "cell_type": "code",
   "execution_count": null,
   "metadata": {},
   "outputs": [],
   "source": [
    "from __init__ import *"
   ]
  },
  {
   "cell_type": "code",
   "execution_count": null,
   "metadata": {},
   "outputs": [],
   "source": [
    "directory_path = \"../output/signal/\"\n",
    "\n",
    "kraft.path.path(directory_path)"
   ]
  },
  {
   "cell_type": "code",
   "execution_count": null,
   "metadata": {},
   "outputs": [],
   "source": [
    "def signal(feature_x_sample):\n",
    "\n",
    "    matrix = feature_x_sample.to_numpy()\n",
    "\n",
    "    assert (0 <= matrix).all()\n",
    "\n",
    "    sample_amplitude_ = np.sum(matrix, axis=0)\n",
    "\n",
    "    assert (0 < sample_amplitude_).all()\n",
    "\n",
    "    for sample_number_ in matrix:\n",
    "\n",
    "        is_ = 0 < sample_number_\n",
    "\n",
    "        sample_number_is_ = sample_number_[is_]\n",
    "\n",
    "        sample_amplitude_is_ = sample_amplitude_[is_]\n",
    "\n",
    "        for i, signal in enumerate(\n",
    "            kraft.information.get_kld(\n",
    "                sample_number_is_ / sample_number_is_.sum(),\n",
    "                sample_amplitude_is_ / sample_amplitude_is_.sum(),\n",
    "            )\n",
    "        ):\n",
    "\n",
    "            sample_number_[i] = signal"
   ]
  },
  {
   "cell_type": "code",
   "execution_count": null,
   "metadata": {},
   "outputs": [],
   "source": [
    "for i, data in enumerate(SETTING[\"model_data_\"]):\n",
    "\n",
    "    feature_x_sample = pd.read_csv(data[\"file_path\"], sep=\"\\t\", index_col=0)\n",
    "\n",
    "    feature_x_sample.columns.name = data[\"axis_1_name\"]\n",
    "\n",
    "    signal(feature_x_sample)\n",
    "\n",
    "    kraft.feature_x_sample.summarize(feature_x_sample)\n",
    "\n",
    "    negative = feature_x_sample.clip(upper=0)\n",
    "\n",
    "    positive = feature_x_sample.clip(lower=0)\n",
    "\n",
    "    axis = 1\n",
    "\n",
    "    standard_deviation = 2\n",
    "\n",
    "    negative = negative.loc[\n",
    "        kraft.table.get_extreme_label_(\n",
    "            negative.median(axis=axis), \"<\", standard_deviation=standard_deviation\n",
    "        ),\n",
    "        :,\n",
    "    ]\n",
    "\n",
    "    positive = positive.loc[\n",
    "        kraft.table.get_extreme_label_(\n",
    "            positive.median(axis=axis), \">\", standard_deviation=standard_deviation\n",
    "        ),\n",
    "        :,\n",
    "    ]\n",
    "\n",
    "    if SETTING[\"signal\"] == \"-+\":\n",
    "\n",
    "        negative.index = (\"-{}\".format(label) for label in negative.index.to_numpy())\n",
    "\n",
    "        positive.index = (\"+{}\".format(label) for label in positive.index.to_numpy())\n",
    "\n",
    "        signal = pd.concat((-negative, positive))\n",
    "\n",
    "    elif SETTING[\"signal\"] == \"-\":\n",
    "\n",
    "        signal = negative\n",
    "\n",
    "    elif SETTING[\"signal\"] == \"+\":\n",
    "\n",
    "        signal = positive\n",
    "\n",
    "    signal.index.name = feature_x_sample.index.name\n",
    "\n",
    "    kraft.feature_x_sample.summarize(signal)\n",
    "\n",
    "    signal.to_csv(\"{}{}.tsv\".format(directory_path, i), sep=\"\\t\")"
   ]
  }
 ],
 "metadata": {
  "kernelspec": {
   "display_name": "Python 3",
   "language": "python",
   "name": "python3"
  },
  "language_info": {
   "codemirror_mode": {
    "name": "ipython",
    "version": 3
   },
   "file_extension": ".py",
   "mimetype": "text/x-python",
   "name": "python",
   "nbconvert_exporter": "python",
   "pygments_lexer": "ipython3",
   "version": "3.7.8"
  }
 },
 "nbformat": 4,
 "nbformat_minor": 4
}
