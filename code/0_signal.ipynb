{
 "cells": [
  {
   "cell_type": "code",
   "execution_count": null,
   "metadata": {},
   "outputs": [],
   "source": [
    "%load_ext autoreload\n",
    "%autoreload 2"
   ]
  },
  {
   "cell_type": "code",
   "execution_count": null,
   "metadata": {},
   "outputs": [],
   "source": [
    "from __init__ import *"
   ]
  },
  {
   "cell_type": "code",
   "execution_count": null,
   "metadata": {},
   "outputs": [],
   "source": [
    "plot = True"
   ]
  },
  {
   "cell_type": "code",
   "execution_count": null,
   "metadata": {},
   "outputs": [],
   "source": [
    "signals = []\n",
    "\n",
    "for data_dict_index, data_dict in enumerate(SETTING[\"model_data_dicts\"]):\n",
    "\n",
    "    print(\"=\" * 8, data_dict[\"name\"], \"=\" * 8)\n",
    "\n",
    "    dataframe = pd.read_csv(data_dict[\"file_path\"], sep=\"\\t\", index_col=0)\n",
    "\n",
    "    dataframe.columns.name = data_dict[\"axis1_name\"]\n",
    "\n",
    "    dataframe_process = kraft.process_dataframe(\n",
    "        dataframe, plot=plot, normalization_axis=0, normalization_method=\"-0-\"\n",
    "    )\n",
    "\n",
    "    dataframe_process = dataframe_process.loc[\n",
    "        kraft.select_series_indices(\n",
    "            dataframe_process.std(axis=1),\n",
    "            \">\",\n",
    "            standard_deviation=1,\n",
    "            plot=plot,\n",
    "            layout={\"yaxis\": {\"title\": {\"text\": \"Standard Deviation\"}}},\n",
    "        )\n",
    "    ]\n",
    "\n",
    "    kraft.summarize_dataframe(dataframe_process, plot=plot)\n",
    "\n",
    "    model_signal_type = SETTING[\"model_signal_types\"][data_dict_index]\n",
    "\n",
    "    if model_signal_type == \"raw\":\n",
    "\n",
    "        signal = dataframe_process\n",
    "\n",
    "    elif model_signal_type == \"signed\":\n",
    "\n",
    "        signal_negative = -dataframe_process.clip(upper=0)\n",
    "\n",
    "        signal_negative.index = signal_negative.index.map(\n",
    "            lambda index: \"(-) {}\".format(index)\n",
    "        )\n",
    "\n",
    "        signal_positive = dataframe_process.clip(lower=0)\n",
    "\n",
    "        signal_positive.index = signal_positive.index.map(\n",
    "            lambda index: \"(+) {}\".format(index)\n",
    "        )\n",
    "\n",
    "        signal = pd.concat((signal_negative, signal_positive))\n",
    "\n",
    "        signal = signal.loc[(signal != 0).any(axis=1)]\n",
    "\n",
    "        kraft.summarize_dataframe(signal, plot=plot)\n",
    "\n",
    "    signals.append(signal)"
   ]
  },
  {
   "cell_type": "code",
   "execution_count": null,
   "metadata": {},
   "outputs": [],
   "source": [
    "model_mode = SETTING[\"model_mode\"]\n",
    "\n",
    "if model_mode == \"range\":\n",
    "\n",
    "    axis_same = 0\n",
    "\n",
    "    axis_different = 1\n",
    "\n",
    "elif model_mode == \"deep\":\n",
    "\n",
    "    axis_same = 1\n",
    "\n",
    "    axis_different = 0\n",
    "\n",
    "signals = kraft.make_dataframes_axis_different(\n",
    "    kraft.make_dataframes_axis_same(signals, axis_same), axis_different\n",
    ")"
   ]
  },
  {
   "cell_type": "code",
   "execution_count": null,
   "metadata": {},
   "outputs": [],
   "source": [
    "signal_directory_path = \"{}/signal\".format(OUTPUT_DIRECTORY_PATH)\n",
    "\n",
    "kraft.establish_path(signal_directory_path, \"directory\")\n",
    "\n",
    "for data_dict_index, data_dict in enumerate(SETTING[\"model_data_dicts\"]):\n",
    "\n",
    "    signal = kraft.normalize_dataframe(signals[data_dict_index], 1, \"0-1\")\n",
    "\n",
    "    signal.to_csv(\"{}/{}.tsv\".format(signal_directory_path, data_dict_index), sep=\"\\t\")\n",
    "\n",
    "    kraft.summarize_dataframe(signal, plot=plot)"
   ]
  }
 ],
 "metadata": {
  "kernelspec": {
   "display_name": "Python 3",
   "language": "python",
   "name": "python3"
  },
  "language_info": {
   "codemirror_mode": {
    "name": "ipython",
    "version": 3
   },
   "file_extension": ".py",
   "mimetype": "text/x-python",
   "name": "python",
   "nbconvert_exporter": "python",
   "pygments_lexer": "ipython3",
   "version": "3.7.3"
  }
 },
 "nbformat": 4,
 "nbformat_minor": 4
}
