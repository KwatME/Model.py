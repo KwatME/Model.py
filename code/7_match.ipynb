{
 "cells": [
  {
   "cell_type": "code",
   "execution_count": null,
   "metadata": {
    "ExecuteTime": {
     "end_time": "2018-07-08T00:30:32.513083Z",
     "start_time": "2018-07-08T00:30:32.501224Z"
    }
   },
   "outputs": [],
   "source": [
    "%load_ext autoreload\n",
    "%autoreload 2"
   ]
  },
  {
   "cell_type": "code",
   "execution_count": null,
   "metadata": {
    "ExecuteTime": {
     "end_time": "2018-07-08T02:00:18.306031Z",
     "start_time": "2018-07-08T02:00:18.276698Z"
    }
   },
   "outputs": [],
   "source": [
    "from environment import *\n",
    "from setting import *"
   ]
  },
  {
   "cell_type": "code",
   "execution_count": null,
   "metadata": {},
   "outputs": [],
   "source": [
    "w = pd.read_table(PATH_DICT[\"w.tsv\"], index_col=0)\n",
    "\n",
    "h = pd.read_table(PATH_DICT[\"h.tsv\"], index_col=0)"
   ]
  },
  {
   "cell_type": "code",
   "execution_count": null,
   "metadata": {},
   "outputs": [],
   "source": [
    "state_x_feature = pd.read_table(PATH_DICT[\"w|cluster_x_column.tsv\"], index_col=0)\n",
    "\n",
    "state_x_feature.index = (\"S{}\".format(i) for i in state_x_feature.index)\n",
    "\n",
    "state_x_sample = pd.read_table(PATH_DICT[\"h|cluster_x_column.tsv\"], index_col=0)\n",
    "\n",
    "state_x_sample.index = (\"S{}\".format(i) for i in state_x_sample.index)"
   ]
  },
  {
   "cell_type": "code",
   "execution_count": null,
   "metadata": {},
   "outputs": [],
   "source": [
    "feature_dicts = make_feature_dicts()"
   ]
  },
  {
   "cell_type": "code",
   "execution_count": null,
   "metadata": {},
   "outputs": [],
   "source": [
    "for element in (\"feature\", \"sample\"):\n",
    "\n",
    "    feature_dicts[element] = {\n",
    "        key: value\n",
    "        for key, value in feature_dicts[element].items()\n",
    "        if value[\"data_type\"] != \"categorical\"\n",
    "    }\n",
    "\n",
    "    print(\"{}:{}{}\".format(element, \"\\n\\t\", \"\\n\\t\".join(feature_dicts[element].keys())))"
   ]
  },
  {
   "cell_type": "code",
   "execution_count": null,
   "metadata": {},
   "outputs": [],
   "source": [
    "make_match_panels_keyword_arguments = dict(\n",
    "    n_job=MAX_N_JOB,\n",
    "    n_required_for_match_function=0.64,\n",
    "    extreme_feature_threshold=EXTREME_FEATURE_THRESHOLD,\n",
    "    n_sampling=N_SAMPLING,\n",
    "    n_permutation=N_PERMUTATION,\n",
    "    plot_std=PLOT_STD,\n",
    ")"
   ]
  },
  {
   "cell_type": "code",
   "execution_count": null,
   "metadata": {},
   "outputs": [],
   "source": [
    "for target_x_feature, data_type, directory_path in (\n",
    "    (w.T, \"continuous\", PATH_DICT[\"w|match/\"]),\n",
    "    (state_x_feature, \"binary\", PATH_DICT[\"w|hcc|match/\"]),\n",
    "):\n",
    "\n",
    "    ccal.make_match_panels(\n",
    "        target_x_feature,\n",
    "        feature_dicts[\"feature\"],\n",
    "        target_type=data_type,\n",
    "        cluster_within_category=target_x_feature.shape[1] < PLOT_MAX_SIZE ** 0.5,\n",
    "        directory_path=directory_path,\n",
    "        plotly_directory_path=PATH_DICT[\"plotly|w_match/\"],\n",
    "        **make_match_panels_keyword_arguments,\n",
    "    )"
   ]
  },
  {
   "cell_type": "code",
   "execution_count": null,
   "metadata": {},
   "outputs": [],
   "source": [
    "for target_x_sample, data_type, directory_path in (\n",
    "    (h, \"continuous\", PATH_DICT[\"h|match/\"]),\n",
    "    (state_x_sample, \"binary\", PATH_DICT[\"h|hcc|match/\"]),\n",
    "):\n",
    "\n",
    "    ccal.make_match_panels(\n",
    "        target_x_sample,\n",
    "        feature_dicts[\"sample\"],\n",
    "        target_type=data_type,\n",
    "        cluster_within_category=target_x_sample.shape[1] < PLOT_MAX_SIZE ** 0.5,\n",
    "        directory_path=directory_path,\n",
    "        plotly_directory_path=PATH_DICT[\"plotly|h_match/\"],\n",
    "        **make_match_panels_keyword_arguments,\n",
    "    )"
   ]
  }
 ],
 "metadata": {
  "kernelspec": {
   "display_name": "Python 3",
   "language": "python",
   "name": "python3"
  },
  "language_info": {
   "codemirror_mode": {
    "name": "ipython",
    "version": 3
   },
   "file_extension": ".py",
   "mimetype": "text/x-python",
   "name": "python",
   "nbconvert_exporter": "python",
   "pygments_lexer": "ipython3",
   "version": "3.6.7"
  }
 },
 "nbformat": 4,
 "nbformat_minor": 2
}
