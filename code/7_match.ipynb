{
 "cells": [
  {
   "cell_type": "code",
   "execution_count": null,
   "metadata": {},
   "outputs": [],
   "source": [
    "%load_ext autoreload\n",
    "%autoreload 2"
   ]
  },
  {
   "cell_type": "code",
   "execution_count": null,
   "metadata": {},
   "outputs": [],
   "source": [
    "from __init__ import *"
   ]
  },
  {
   "cell_type": "code",
   "execution_count": null,
   "metadata": {},
   "outputs": [],
   "source": [
    "ws, hs = read_ws_hs(\n",
    "    \"{}/mf\".format(SETTING[\"output_directory_path\"]),\n",
    "    SETTING[\"model_mode\"],\n",
    "    SETTING[\"model_data_dicts\"],\n",
    ")"
   ]
  },
  {
   "cell_type": "code",
   "execution_count": null,
   "metadata": {},
   "outputs": [],
   "source": [
    "target_x_w_element = pd.concat(ws).T\n",
    "\n",
    "target_x_h_element = pd.concat(hs, axis=1)"
   ]
  },
  {
   "cell_type": "code",
   "execution_count": null,
   "metadata": {},
   "outputs": [],
   "source": [
    "data_dicts = SETTING[\"model_data_dicts\"] + SETTING[\"annotate_data_dicts\"]\n",
    "\n",
    "for data_dict in data_dicts:\n",
    "\n",
    "    data_dict[\"dataframe\"] = pd.read_csv(data_dict[\"file_path\"], sep=\"\\t\", index_col=0)"
   ]
  },
  {
   "cell_type": "code",
   "execution_count": null,
   "metadata": {},
   "outputs": [],
   "source": [
    "w_data_dicts = []\n",
    "\n",
    "h_data_dicts = []\n",
    "\n",
    "for w_h_str in (\"w\", \"h\"):\n",
    "\n",
    "    if w_h_str == \"w\":\n",
    "\n",
    "        target_x_element = target_x_w_element\n",
    "\n",
    "        data_dicts_ = w_data_dicts\n",
    "\n",
    "    else:\n",
    "\n",
    "        target_x_element = target_x_h_element\n",
    "\n",
    "        data_dicts_ = h_data_dicts\n",
    "\n",
    "    for data_dict in data_dicts:\n",
    "\n",
    "        dataframe = data_dict[\"dataframe\"]\n",
    "\n",
    "        for dataframe_ in (dataframe, dataframe.T):\n",
    "\n",
    "            if 2 < len(target_x_element.columns & dataframe_.columns):\n",
    "\n",
    "                data_dicts_.append({**data_dict, \"dataframe\": dataframe_})"
   ]
  },
  {
   "cell_type": "code",
   "execution_count": null,
   "metadata": {},
   "outputs": [],
   "source": [
    "for w_h_str in (\"w\", \"h\"):\n",
    "\n",
    "    if w_h_str == \"w\":\n",
    "\n",
    "        target_x_sample = target_x_w_element\n",
    "\n",
    "        data_dicts_ = w_data_dicts\n",
    "\n",
    "    else:\n",
    "\n",
    "        target_x_sample = target_x_h_element\n",
    "\n",
    "        data_dicts_ = h_data_dicts\n",
    "\n",
    "    kraft.make_match_panels(\n",
    "        target_x_sample,\n",
    "        data_dicts_,\n",
    "        n_job=SETTING[\"n_job\"],\n",
    "        directory_path=\"{}/{}_match\".format(SETTING[\"output_directory_path\"], w_h_str),\n",
    "    )"
   ]
  }
 ],
 "metadata": {
  "kernelspec": {
   "display_name": "Python 3",
   "language": "python",
   "name": "python3"
  },
  "language_info": {
   "codemirror_mode": {
    "name": "ipython",
    "version": 3
   },
   "file_extension": ".py",
   "mimetype": "text/x-python",
   "name": "python",
   "nbconvert_exporter": "python",
   "pygments_lexer": "ipython3",
   "version": "3.7.3"
  }
 },
 "nbformat": 4,
 "nbformat_minor": 4
}
