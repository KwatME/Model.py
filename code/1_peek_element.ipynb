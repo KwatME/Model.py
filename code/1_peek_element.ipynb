{
 "cells": [
  {
   "cell_type": "code",
   "execution_count": null,
   "metadata": {
    "ExecuteTime": {
     "end_time": "2018-07-06T09:45:59.082459Z",
     "start_time": "2018-07-06T09:45:59.061254Z"
    }
   },
   "outputs": [],
   "source": [
    "%load_ext autoreload\n",
    "%autoreload 2"
   ]
  },
  {
   "cell_type": "code",
   "execution_count": null,
   "metadata": {
    "ExecuteTime": {
     "end_time": "2018-07-06T20:13:16.628911Z",
     "start_time": "2018-07-06T20:13:14.935143Z"
    }
   },
   "outputs": [],
   "source": [
    "from __init__ import *\n",
    "\n",
    "SETTING = kraft.read_json(\"../project.json\")\n",
    "\n",
    "if \"project_directory_path\" in SETTING:\n",
    "\n",
    "    SETTING.update(\n",
    "        kraft.read_json(os.path.join(SETTING[\"project_directory_path\"], \"project.json\"))\n",
    "    )\n",
    "\n",
    "    SETTING[\"output_directory_path\"] = os.path.join(\n",
    "        SETTING[\"project_directory_path\"], \"output\"\n",
    "    )\n",
    "\n",
    "PATH = make_path_dict(SETTING)"
   ]
  },
  {
   "cell_type": "code",
   "execution_count": null,
   "metadata": {
    "ExecuteTime": {
     "end_time": "2018-07-06T09:46:02.310765Z",
     "start_time": "2018-07-06T09:46:00.741927Z"
    }
   },
   "outputs": [],
   "source": [
    "feature_x_sample_processed = pd.read_csv(\n",
    "    PATH[\"feature_x_sample.processed.tsv\"], sep=\"\\t\", index_col=0\n",
    ")\n",
    "\n",
    "feature_x_sample_processed.columns.name = SETTING[\"sample_alias\"]"
   ]
  },
  {
   "cell_type": "code",
   "execution_count": null,
   "metadata": {
    "ExecuteTime": {
     "end_time": "2018-07-06T09:46:25.224361Z",
     "start_time": "2018-07-06T09:46:02.313022Z"
    }
   },
   "outputs": [],
   "source": [
    "layout = {\"xaxis\": {\"title\": {\"text\": SETTING[\"feature_x_sample_value_name\"]}}}\n",
    "\n",
    "for element_type, dataframe in (\n",
    "    (\"feature\", feature_x_sample_processed),\n",
    "    (\"sample\", feature_x_sample_processed.T),\n",
    "):\n",
    "\n",
    "    dataframe = dataframe.loc[\n",
    "        dataframe.index & SETTING[\"{}s_to_peek\".format(element_type)]\n",
    "    ]\n",
    "\n",
    "    if dataframe.empty:\n",
    "\n",
    "        continue\n",
    "\n",
    "    if SETTING[\"signal_type\"] == \"raw\":\n",
    "\n",
    "        kraft.plot_histogram(\n",
    "            tuple(\n",
    "                element_value for element_name, element_value in dataframe.iterrows()\n",
    "            ),\n",
    "            plot_rug=False,\n",
    "            layout=layout,\n",
    "            html_file_path=os.path.join(\n",
    "                PATH[\"peek/\"], \"{}.html\".format(dataframe.index.name)\n",
    "            ),\n",
    "        )\n",
    "\n",
    "    elif SETTING[\"signal_type\"] == \"context\":\n",
    "\n",
    "        for element_name, element_value in dataframe.iterrows():\n",
    "\n",
    "            kraft.plot_context(\n",
    "                element_value,\n",
    "                plot_rug=False,\n",
    "                layout=layout,\n",
    "                html_file_path=os.path.join(\n",
    "                    PATH[\"peek/\"], \"{}.html\".format(element_name)\n",
    "                ),\n",
    "            )"
   ]
  }
 ],
 "metadata": {
  "@webio": {
   "lastCommId": null,
   "lastKernelId": null
  },
  "kernelspec": {
   "display_name": "Python 3",
   "language": "python",
   "name": "python3"
  },
  "language_info": {
   "codemirror_mode": {
    "name": "ipython",
    "version": 3
   },
   "file_extension": ".py",
   "mimetype": "text/x-python",
   "name": "python",
   "nbconvert_exporter": "python",
   "pygments_lexer": "ipython3",
   "version": "3.7.3"
  }
 },
 "nbformat": 4,
 "nbformat_minor": 4
}
