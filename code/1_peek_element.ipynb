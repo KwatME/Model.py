{
 "cells": [
  {
   "cell_type": "code",
   "execution_count": null,
   "metadata": {
    "ExecuteTime": {
     "end_time": "2018-07-06T09:45:59.082459Z",
     "start_time": "2018-07-06T09:45:59.061254Z"
    }
   },
   "outputs": [],
   "source": [
    "%load_ext autoreload\n",
    "%autoreload 2"
   ]
  },
  {
   "cell_type": "code",
   "execution_count": null,
   "metadata": {
    "ExecuteTime": {
     "end_time": "2018-07-06T20:13:16.628911Z",
     "start_time": "2018-07-06T20:13:14.935143Z"
    }
   },
   "outputs": [],
   "source": [
    "from environment import *\n",
    "\n",
    "PROJECT_JSON = kraft.read_json(\"../project.json\")\n",
    "\n",
    "PATH = make_path_dict(PROJECT_JSON)"
   ]
  },
  {
   "cell_type": "code",
   "execution_count": null,
   "metadata": {
    "ExecuteTime": {
     "end_time": "2018-07-06T09:46:02.310765Z",
     "start_time": "2018-07-06T09:46:00.741927Z"
    }
   },
   "outputs": [],
   "source": [
    "feature_x_sample_processed = pd.read_csv(\n",
    "    PATH[\"feature_x_sample.processed.tsv\"], sep=\"\\t\", index_col=0\n",
    ")\n",
    "\n",
    "feature_x_sample_processed.columns.name = PROJECT_JSON[\"sample_alias\"]"
   ]
  },
  {
   "cell_type": "code",
   "execution_count": null,
   "metadata": {
    "ExecuteTime": {
     "end_time": "2018-07-06T09:46:25.224361Z",
     "start_time": "2018-07-06T09:46:02.313022Z"
    }
   },
   "outputs": [],
   "source": [
    "for element_type, dataframe in (\n",
    "    (\"feature\", feature_x_sample_processed),\n",
    "    (\"sample\", feature_x_sample_processed.T),\n",
    "):\n",
    "\n",
    "    for element_name, element_values in dataframe.loc[\n",
    "        dataframe.index & PROJECT_JSON[f\"{element_type}s_to_peek\"]\n",
    "    ].iterrows():\n",
    "\n",
    "        kraft.plot_context(\n",
    "            element_values,\n",
    "            xaxis_title=PROJECT_JSON[\"feature_x_sample_value_name\"],\n",
    "            html_file_path=os.path.join(PATH[\"peek/\"], element_name),\n",
    "        )"
   ]
  }
 ],
 "metadata": {
  "@webio": {
   "lastCommId": null,
   "lastKernelId": null
  },
  "kernelspec": {
   "display_name": "Python 3",
   "language": "python",
   "name": "python3"
  },
  "language_info": {
   "codemirror_mode": {
    "name": "ipython",
    "version": 3
   },
   "file_extension": ".py",
   "mimetype": "text/x-python",
   "name": "python",
   "nbconvert_exporter": "python",
   "pygments_lexer": "ipython3",
   "version": "3.7.3"
  }
 },
 "nbformat": 4,
 "nbformat_minor": 2
}
