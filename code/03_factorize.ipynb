{
 "cells": [
  {
   "cell_type": "code",
   "execution_count": null,
   "metadata": {},
   "outputs": [],
   "source": [
    "from __init__ import *"
   ]
  },
  {
   "cell_type": "code",
   "execution_count": null,
   "metadata": {},
   "outputs": [],
   "source": [
    "signal_df_ = []\n",
    "\n",
    "for index, data in enumerate(SETTING[\"model_data_\"]):\n",
    "\n",
    "    signal_df = pd.read_csv(\n",
    "        \"../output/signal/{}.tsv\".format(index), sep=\"\\t\", index_col=0\n",
    "    )\n",
    "\n",
    "    signal_df.columns.name = data[\"axis_1_name\"]\n",
    "\n",
    "    signal_df_.append(signal_df)"
   ]
  },
  {
   "cell_type": "code",
   "execution_count": null,
   "metadata": {},
   "outputs": [],
   "source": [
    "if SETTING[\"model_mode\"] == \"deep\":\n",
    "\n",
    "    factorization_mode = \"ws\"\n",
    "\n",
    "    sync_axis = 1\n",
    "\n",
    "elif SETTING[\"model_mode\"] == \"range\":\n",
    "\n",
    "    factorization_mode = \"hs\"\n",
    "\n",
    "    sync_axis = 0\n",
    "\n",
    "signal_df_ = kraft.pd.sync(signal_df_, sync_axis)"
   ]
  },
  {
   "cell_type": "code",
   "execution_count": null,
   "metadata": {},
   "outputs": [],
   "source": [
    "for r in SETTING[\"resolution_\"]:\n",
    "\n",
    "    matrix_ = tuple(signal_df.to_numpy() for signal_df in signal_df_)\n",
    "\n",
    "    axis_0_label__ = tuple(signal_df.index.to_numpy() for signal_df in signal_df_)\n",
    "\n",
    "    axis_1_label__ = tuple(signal_df.columns.to_numpy() for signal_df in signal_df_)\n",
    "\n",
    "    axis_0_name_ = tuple(signal_df.index.name for signal_df in signal_df_)\n",
    "\n",
    "    axis_1_name_ = tuple(signal_df.columns.name for signal_df in signal_df_)\n",
    "\n",
    "    w_, h_, error__ = kraft.matrix_factorization.factorize(\n",
    "        matrix_, factorization_mode, r\n",
    "    )\n",
    "\n",
    "    directory_path = \"../output/matrix_factorization_r{}/\".format(r)\n",
    "\n",
    "    kraft.path.make(directory_path)\n",
    "\n",
    "    kraft.matrix_factorization.plot(\n",
    "        w_,\n",
    "        h_,\n",
    "        axis_0_label__,\n",
    "        axis_1_label__,\n",
    "        axis_0_name_,\n",
    "        axis_1_name_,\n",
    "        error__,\n",
    "        directory_path=directory_path,\n",
    "    )\n",
    "\n",
    "    factor_label_ = kraft.matrix_factorization.make_factor_label_(r)\n",
    "\n",
    "    w_df_ = tuple(\n",
    "        pd.DataFrame(\n",
    "            data=w,\n",
    "            index=pd.Index(data=axis_0_label__[index], name=axis_0_name_[index]),\n",
    "            columns=pd.Index(data=factor_label_, name=\"Factor\"),\n",
    "        )\n",
    "        for index, w in enumerate(w_)\n",
    "    )\n",
    "\n",
    "    h_df_ = tuple(\n",
    "        pd.DataFrame(\n",
    "            data=h,\n",
    "            index=pd.Index(data=factor_label_, name=\"Factor\"),\n",
    "            columns=pd.Index(data=axis_1_label__[index], name=axis_1_name_[index]),\n",
    "        )\n",
    "        for index, h in enumerate(h_)\n",
    "    )\n",
    "\n",
    "    file_path_template = \"{}{{}}_{{}}.tsv\".format(directory_path)\n",
    "\n",
    "    for index, df in enumerate(w_df_):\n",
    "\n",
    "        df.to_csv(file_path_template.format(\"w\", index), sep=\"\\t\")\n",
    "\n",
    "    for index, df in enumerate(h_df_):\n",
    "\n",
    "        df.to_csv(file_path_template.format(\"h\", index), sep=\"\\t\")"
   ]
  }
 ],
 "metadata": {
  "kernelspec": {
   "display_name": "Python 3",
   "language": "python",
   "name": "python3"
  },
  "language_info": {
   "codemirror_mode": {
    "name": "ipython",
    "version": 3
   },
   "file_extension": ".py",
   "mimetype": "text/x-python",
   "name": "python",
   "nbconvert_exporter": "python",
   "pygments_lexer": "ipython3",
   "version": "3.7.8"
  }
 },
 "nbformat": 4,
 "nbformat_minor": 4
}
