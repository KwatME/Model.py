{
 "cells": [
  {
   "cell_type": "code",
   "execution_count": null,
   "metadata": {},
   "outputs": [],
   "source": [
    "from __init__ import *"
   ]
  },
  {
   "cell_type": "code",
   "execution_count": null,
   "metadata": {},
   "outputs": [],
   "source": [
    "signal_table_ = []\n",
    "\n",
    "for data_index, data in enumerate(SETTING[\"model_data_\"]):\n",
    "\n",
    "    signal_table = pd.read_csv(\n",
    "        \"../output/signal/{}.tsv\".format(data_index), sep=\"\\t\", index_col=0\n",
    "    )\n",
    "\n",
    "    signal_table.columns.name = data[\"axis_1_name\"]\n",
    "\n",
    "    signal_table_.append(signal_table)"
   ]
  },
  {
   "cell_type": "code",
   "execution_count": null,
   "metadata": {},
   "outputs": [],
   "source": [
    "if SETTING[\"model_mode\"] == \"deep\":\n",
    "\n",
    "    matrix_factorization_mode = \"ws\"\n",
    "\n",
    "    sync_axis = 1\n",
    "\n",
    "elif SETTING[\"model_mode\"] == \"range\":\n",
    "\n",
    "    matrix_factorization_mode = \"hs\"\n",
    "\n",
    "    sync_axis = 0\n",
    "\n",
    "signal_table_ = kraft.table.sync_axis(signal_table_, sync_axis)"
   ]
  },
  {
   "cell_type": "code",
   "execution_count": null,
   "metadata": {},
   "outputs": [],
   "source": [
    "for r in SETTING[\"resolution_\"]:\n",
    "\n",
    "    untangle_ = np.asarray(\n",
    "        tuple(kraft.table.untangle(signal_table) for signal_table in signal_table_),\n",
    "        dtype=\"object\",\n",
    "    )\n",
    "\n",
    "    w_, h_, error__ = kraft.matrix_factorization.factorize(\n",
    "        untangle_[:, 0], matrix_factorization_mode, r\n",
    "    )\n",
    "\n",
    "    directory_path = \"../output/matrix_factorization_r{}/\".format(r)\n",
    "\n",
    "    kraft.path.path(directory_path)\n",
    "\n",
    "    kraft.matrix_factorization.plot_factorization(\n",
    "        w_,\n",
    "        h_,\n",
    "        untangle_[:, 1],\n",
    "        untangle_[:, 2],\n",
    "        untangle_[:, 3],\n",
    "        untangle_[:, 4],\n",
    "        error__,\n",
    "        directory_path=directory_path,\n",
    "    )\n",
    "\n",
    "    factor_label_ = kraft.matrix_factorization.make_factor_label_(r)\n",
    "\n",
    "    w_table_ = tuple(\n",
    "        kraft.table.entangle(\n",
    "            w, untangle_[w_index, 1], factor_label_, untangle_[w_index, 3], \"Factor\"\n",
    "        )\n",
    "        for w_index, w in enumerate(w_)\n",
    "    )\n",
    "\n",
    "    h_table_ = tuple(\n",
    "        kraft.table.entangle(\n",
    "            h, factor_label_, untangle_[h_index, 2], \"Factor\", untangle_[h_index, 4]\n",
    "        )\n",
    "        for h_index, h in enumerate(h_)\n",
    "    )\n",
    "\n",
    "    file_path_template = \"{}{{}}_{{}}.tsv\".format(directory_path)\n",
    "\n",
    "    for w_index, w_table in enumerate(w_table_):\n",
    "\n",
    "        w_table.to_csv(file_path_template.format(\"w\", w_index), sep=\"\\t\")\n",
    "\n",
    "    for h_index, h_table in enumerate(h_table_):\n",
    "\n",
    "        h_table.to_csv(file_path_template.format(\"h\", h_index), sep=\"\\t\")"
   ]
  }
 ],
 "metadata": {
  "kernelspec": {
   "display_name": "Python 3",
   "language": "python",
   "name": "python3"
  },
  "language_info": {
   "codemirror_mode": {
    "name": "ipython",
    "version": 3
   },
   "file_extension": ".py",
   "mimetype": "text/x-python",
   "name": "python",
   "nbconvert_exporter": "python",
   "pygments_lexer": "ipython3",
   "version": "3.7.8"
  }
 },
 "nbformat": 4,
 "nbformat_minor": 4
}
