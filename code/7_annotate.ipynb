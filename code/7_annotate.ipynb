{
 "cells": [
  {
   "cell_type": "code",
   "execution_count": null,
   "metadata": {
    "ExecuteTime": {
     "end_time": "2018-07-08T00:30:32.513083Z",
     "start_time": "2018-07-08T00:30:32.501224Z"
    }
   },
   "outputs": [],
   "source": [
    "%load_ext autoreload\n",
    "%autoreload 2"
   ]
  },
  {
   "cell_type": "code",
   "execution_count": null,
   "metadata": {
    "ExecuteTime": {
     "end_time": "2018-07-08T02:00:18.306031Z",
     "start_time": "2018-07-08T02:00:18.276698Z"
    }
   },
   "outputs": [],
   "source": [
    "from environment import *\n",
    "from setting import *"
   ]
  },
  {
   "cell_type": "code",
   "execution_count": null,
   "metadata": {},
   "outputs": [],
   "source": [
    "w = pd.read_table(\n",
    "    PATH_DICT['w_file_path'],\n",
    "    index_col=0,\n",
    ")\n",
    "\n",
    "h = pd.read_table(\n",
    "    PATH_DICT['h_file_path'],\n",
    "    index_col=0,\n",
    ")"
   ]
  },
  {
   "cell_type": "code",
   "execution_count": null,
   "metadata": {},
   "outputs": [],
   "source": [
    "state_x_feature = ccal.make_membership_df_from_categorical_series(pd.read_table(\n",
    "    PATH_DICT['wt_hcc__k_x_column_file_path'],\n",
    "    index_col=0,\n",
    ").loc['K{}'.format(WT_HCC_K)])\n",
    "\n",
    "state_x_feature.index = ('S{}'.format(i) for i in state_x_feature.index)\n",
    "\n",
    "state_x_sample = ccal.make_membership_df_from_categorical_series(pd.read_table(\n",
    "    PATH_DICT['h_hcc__k_x_column_file_path'],\n",
    "    index_col=0,\n",
    ").loc['K{}'.format(H_HCC_K)])\n",
    "\n",
    "state_x_sample.index = ('S{}'.format(i) for i in state_x_sample.index)"
   ]
  },
  {
   "cell_type": "code",
   "execution_count": null,
   "metadata": {},
   "outputs": [],
   "source": [
    "feature_dicts = make_feature_dicts()"
   ]
  },
  {
   "cell_type": "code",
   "execution_count": null,
   "metadata": {},
   "outputs": [],
   "source": [
    "make_match_panels_keyword_arguments = dict(\n",
    "    n_job=MAX_N_JOB,\n",
    "    n_required_for_match_function=None,\n",
    "    extreme_feature_threshold=EXTREME_FEATURE_THRESHOLD,\n",
    "    plot_std=PLOT_STD,\n",
    ")"
   ]
  },
  {
   "cell_type": "code",
   "execution_count": null,
   "metadata": {},
   "outputs": [],
   "source": [
    "for target_x_feature, data_type, directory_path in (\n",
    "    (\n",
    "        w.T,\n",
    "        'continuous',\n",
    "        PATH_DICT['wt_match_directory_path'],\n",
    "    ),\n",
    "    (\n",
    "        state_x_feature,\n",
    "        'binary',\n",
    "        PATH_DICT['wt_hcc_match_directory_path'],\n",
    "    ),\n",
    "):\n",
    "    \n",
    "    ccal.make_match_panels(\n",
    "        target_x_feature,\n",
    "        feature_dicts['Feature'],\n",
    "        target_type=data_type,\n",
    "        directory_path=directory_path,\n",
    "        plotly_directory_path=PATH_DICT['wt_match_plotly_directory_path'],\n",
    "        **make_match_panels_keyword_arguments,\n",
    "    )"
   ]
  },
  {
   "cell_type": "code",
   "execution_count": null,
   "metadata": {},
   "outputs": [],
   "source": [
    "for target_x_sample, data_type, directory_path in (\n",
    "    (\n",
    "        h,\n",
    "        'continuous',\n",
    "        PATH_DICT['h_match_directory_path'],\n",
    "    ),\n",
    "    (\n",
    "        state_x_sample,\n",
    "        'binary',\n",
    "        PATH_DICT['h_hcc_match_directory_path'],\n",
    "    ),\n",
    "):\n",
    "    \n",
    "    ccal.make_match_panels(\n",
    "        target_x_sample,\n",
    "        feature_dicts['Sample'],\n",
    "        target_type=data_type,\n",
    "        directory_path=directory_path,\n",
    "        plotly_directory_path=PATH_DICT['h_match_plotly_directory_path'],\n",
    "        **make_match_panels_keyword_arguments,\n",
    "    )"
   ]
  }
 ],
 "metadata": {
  "kernelspec": {
   "display_name": "Python 3",
   "language": "python",
   "name": "python3"
  },
  "language_info": {
   "codemirror_mode": {
    "name": "ipython",
    "version": 3
   },
   "file_extension": ".py",
   "mimetype": "text/x-python",
   "name": "python",
   "nbconvert_exporter": "python",
   "pygments_lexer": "ipython3",
   "version": "3.6.6"
  }
 },
 "nbformat": 4,
 "nbformat_minor": 2
}
