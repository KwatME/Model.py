{
 "cells": [
  {
   "cell_type": "code",
   "execution_count": null,
   "metadata": {
    "ExecuteTime": {
     "end_time": "2018-07-08T00:56:14.389188Z",
     "start_time": "2018-07-08T00:56:14.377830Z"
    }
   },
   "outputs": [],
   "source": [
    "%load_ext autoreload\n",
    "\n",
    "%autoreload 2"
   ]
  },
  {
   "cell_type": "code",
   "execution_count": null,
   "metadata": {
    "ExecuteTime": {
     "end_time": "2018-07-08T02:00:18.306031Z",
     "start_time": "2018-07-08T02:00:18.276698Z"
    }
   },
   "outputs": [],
   "source": [
    "from environment import *\n",
    "\n",
    "import setting\n",
    "\n",
    "path_dict = path(setting)"
   ]
  },
  {
   "cell_type": "code",
   "execution_count": null,
   "metadata": {
    "ExecuteTime": {
     "end_time": "2018-07-08T00:56:16.858330Z",
     "start_time": "2018-07-08T00:56:16.723984Z"
    }
   },
   "outputs": [],
   "source": [
    "h_hcc__k_x_column = pd.read_table(\n",
    "    path_dict['h_hcc__k_x_column_file_path'],\n",
    "    index_col=0,\n",
    ")\n",
    "\n",
    "state_x_sample = ccal.make_membership_df_from_categorical_series(h_hcc__k_x_column.loc['K{}'.format(setting.H_HCC_K)])\n",
    "\n",
    "state_x_sample.index = ('S{}'.format(i) for i in state_x_sample.index)\n",
    "\n",
    "state_x_sample"
   ]
  },
  {
   "cell_type": "code",
   "execution_count": null,
   "metadata": {
    "ExecuteTime": {
     "end_time": "2018-07-08T00:56:20.449344Z",
     "start_time": "2018-07-08T00:56:16.859927Z"
    }
   },
   "outputs": [],
   "source": [
    "feature_dicts = make_feature_dicts(\n",
    "    'ccle',\n",
    "    ('Hist Subtype1', ),\n",
    ")"
   ]
  },
  {
   "cell_type": "code",
   "execution_count": null,
   "metadata": {
    "ExecuteTime": {
     "end_time": "2018-07-08T00:56:20.450163Z",
     "start_time": "2018-07-08T00:56:14.372Z"
    }
   },
   "outputs": [],
   "source": [
    "wt_or_h = 'h'\n",
    "\n",
    "targets = state_x_sample\n",
    "\n",
    "ccal.make_match_panels(\n",
    "    targets,\n",
    "    feature_dicts,\n",
    "    n_job=setting.MAX_N_JOB,\n",
    "    extreme_feature_threshold=setting.EXTREME_FEATURE_THRESHOLD,\n",
    "    target_type='binary',\n",
    "    directory_path=path_dict['{}_hcc_match_directory_path'.format(wt_or_h)],\n",
    "    plotly_directory_path=path_dict['{}_match_plotly_directory_path'.format(wt_or_h)],\n",
    "    overwrite=False,\n",
    ")"
   ]
  }
 ],
 "metadata": {
  "kernelspec": {
   "display_name": "Python 3",
   "language": "python",
   "name": "python3"
  },
  "language_info": {
   "codemirror_mode": {
    "name": "ipython",
    "version": 3
   },
   "file_extension": ".py",
   "mimetype": "text/x-python",
   "name": "python",
   "nbconvert_exporter": "python",
   "pygments_lexer": "ipython3",
   "version": "3.6.5"
  }
 },
 "nbformat": 4,
 "nbformat_minor": 2
}
