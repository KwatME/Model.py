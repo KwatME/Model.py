{
 "cells": [
  {
   "cell_type": "code",
   "execution_count": null,
   "metadata": {},
   "outputs": [],
   "source": [
    "%load_ext autoreload\n",
    "%autoreload 2"
   ]
  },
  {
   "cell_type": "code",
   "execution_count": null,
   "metadata": {},
   "outputs": [],
   "source": [
    "from __init__ import *"
   ]
  },
  {
   "cell_type": "code",
   "execution_count": null,
   "metadata": {},
   "outputs": [],
   "source": [
    "ws, hs = read_ws_hs(\n",
    "    \"{}/mf\".format(OUTPUT_DIRECTORY_PATH),\n",
    "    SETTING[\"model_mode\"],\n",
    "    SETTING[\"model_data_dicts\"],\n",
    ")"
   ]
  },
  {
   "cell_type": "code",
   "execution_count": null,
   "metadata": {},
   "outputs": [],
   "source": [
    "data_dicts = SETTING[\"annotate_data_dicts\"] + SETTING[\"model_data_dicts\"]\n",
    "\n",
    "for data_dict in data_dicts:\n",
    "\n",
    "    data_dict[\"dataframe\"] = pd.read_csv(data_dict[\"file_path\"], sep=\"\\t\", index_col=0)"
   ]
  },
  {
   "cell_type": "code",
   "execution_count": null,
   "metadata": {},
   "outputs": [],
   "source": [
    "kraft.make_match_panels(\n",
    "    pd.concat(hs, axis=1),\n",
    "    data_dicts,\n",
    "    read_score_moe_p_value_fdr=True,\n",
    "    n_job=SETTING[\"n_job\"],\n",
    "    directory_path=\"{}/h_match\".format(OUTPUT_DIRECTORY_PATH),\n",
    ")"
   ]
  }
 ],
 "metadata": {
  "kernelspec": {
   "display_name": "Python 3",
   "language": "python",
   "name": "python3"
  },
  "language_info": {
   "codemirror_mode": {
    "name": "ipython",
    "version": 3
   },
   "file_extension": ".py",
   "mimetype": "text/x-python",
   "name": "python",
   "nbconvert_exporter": "python",
   "pygments_lexer": "ipython3",
   "version": "3.7.3"
  }
 },
 "nbformat": 4,
 "nbformat_minor": 4
}
