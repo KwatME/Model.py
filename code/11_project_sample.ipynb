{
 "cells": [
  {
   "cell_type": "code",
   "execution_count": null,
   "metadata": {
    "ExecuteTime": {
     "end_time": "2018-07-06T07:59:49.777639Z",
     "start_time": "2018-07-06T07:59:49.765242Z"
    }
   },
   "outputs": [],
   "source": [
    "%load_ext autoreload\n",
    "%autoreload 2"
   ]
  },
  {
   "cell_type": "code",
   "execution_count": null,
   "metadata": {
    "ExecuteTime": {
     "end_time": "2018-07-06T07:59:51.520299Z",
     "start_time": "2018-07-06T07:59:49.781200Z"
    }
   },
   "outputs": [],
   "source": [
    "from environment import *\n",
    "\n",
    "import analysis as a\n",
    "\n",
    "p = make_paths(a)"
   ]
  },
  {
   "cell_type": "code",
   "execution_count": null,
   "metadata": {
    "ExecuteTime": {
     "end_time": "2018-07-06T07:59:51.551921Z",
     "start_time": "2018-07-06T07:59:51.522383Z"
    },
    "scrolled": false
   },
   "outputs": [],
   "source": [
    "nmf_map = ccal.load_nmf_map(p['nmf_map_file_path'])\n",
    "\n",
    "nmf_map.plot_nmf_map(\n",
    "    'h',\n",
    "    element_marker_size=a.NMF_MAP_H_ELEMENT_MARKER_SIZE,\n",
    ")"
   ]
  },
  {
   "cell_type": "code",
   "execution_count": null,
   "metadata": {
    "ExecuteTime": {
     "end_time": "2018-07-06T07:59:51.571267Z",
     "start_time": "2018-07-06T07:59:51.553639Z"
    }
   },
   "outputs": [],
   "source": [
    "w = pd.DataFrame(\n",
    "    nmf_map.wt.T,\n",
    "    index=nmf_map.wt_elements,\n",
    "    columns=nmf_map.nodes,\n",
    ")"
   ]
  },
  {
   "cell_type": "code",
   "execution_count": null,
   "metadata": {
    "ExecuteTime": {
     "end_time": "2018-07-06T07:59:52.346554Z",
     "start_time": "2018-07-06T07:59:51.572966Z"
    }
   },
   "outputs": [],
   "source": [
    "feature_x_sample = pd.read_table(\n",
    "    p['feature_x_sample_file_path'],\n",
    "    index_col=0,\n",
    ")\n",
    "\n",
    "feature_1d_context_matrix = pd.read_table(\n",
    "    p['feature_1d_context_matrix_file_path'],\n",
    "    index_col=0,\n",
    ")\n",
    "\n",
    "sample_1d_context_matrix = pd.read_table(\n",
    "    p['sample_1d_context_matrix_file_path'],\n",
    "    index_col=0,\n",
    ").T\n",
    "\n",
    "signal_matrix = pd.read_table(\n",
    "    p['signal_matrix_file_path'],\n",
    "    index_col=0,\n",
    ")"
   ]
  },
  {
   "cell_type": "code",
   "execution_count": null,
   "metadata": {
    "ExecuteTime": {
     "end_time": "2018-07-06T07:59:52.556033Z",
     "start_time": "2018-07-06T07:59:52.348450Z"
    },
    "scrolled": false
   },
   "outputs": [],
   "source": [
    "for name, feature_x_sample_ in (\n",
    "    (\n",
    "        'Feature 1D Context Matrix',\n",
    "        feature_1d_context_matrix,\n",
    "    ),\n",
    "    (\n",
    "        'Sample 1D Context Matrix',\n",
    "        sample_1d_context_matrix,\n",
    "    ),\n",
    "    (\n",
    "        'Signal Matrix',\n",
    "        signal_matrix,\n",
    "    ),\n",
    "):\n",
    "\n",
    "    if name == 'Signal Matrix':\n",
    "\n",
    "        signal_matrix_ = signal_matrix\n",
    "\n",
    "    else:\n",
    "\n",
    "        negative_feature_x_sample = -feature_x_sample_.clip(upper=0)\n",
    "\n",
    "        negative_feature_x_sample.index = feature_x_sample_.index.map(lambda str_: '(-) {}'.format(str_))\n",
    "\n",
    "        positive_feature_x_sample = feature_x_sample_.clip(lower=0)\n",
    "\n",
    "        positive_feature_x_sample.index = feature_x_sample_.index.map(lambda str_: '(+) {}'.format(str_))\n",
    "\n",
    "        w_negative_features = w.index[w.index.str.startswith('(-)')]\n",
    "\n",
    "        common_negative_features = w_negative_features & negative_feature_x_sample.index\n",
    "\n",
    "        print('(-) common features: {}/{} ({:.2f}%)'.format(\n",
    "            common_negative_features.size,\n",
    "            w_negative_features.size,\n",
    "            100 * common_negative_features.size / w_negative_features.size,\n",
    "        ))\n",
    "\n",
    "        w_positive_features = w.index[w.index.str.startswith('(+)')]\n",
    "\n",
    "        common_positive_features = w_positive_features & positive_feature_x_sample.index\n",
    "\n",
    "        print('(+) common features: {}/{} ({:.2f}%)'.format(\n",
    "            common_positive_features.size,\n",
    "            w_positive_features.size,\n",
    "            100 * common_positive_features.size / w_positive_features.size,\n",
    "        ))\n",
    "\n",
    "        signal_matrix_ = pd.concat((\n",
    "            negative_feature_x_sample.loc[common_negative_features],\n",
    "            positive_feature_x_sample.loc[common_positive_features],\n",
    "        ))\n",
    "\n",
    "    h_solved = ccal.solve_for_nmf_h(\n",
    "        signal_matrix_,\n",
    "        w.loc[signal_matrix_.index],\n",
    "    )\n",
    "\n",
    "    predicted_element_states = nmf_map.predict(\n",
    "        'h',\n",
    "        h_solved,\n",
    "        title=name,\n",
    "        element_marker_size=a.NMF_MAP_H_ELEMENT_MARKER_SIZE,\n",
    "    )\n",
    "\n",
    "    ccal.plot_heat_map(\n",
    "        h_solved,\n",
    "        normalization_axis=0,\n",
    "        normalization_method='-0-',\n",
    "        column_annotation=predicted_element_states,\n",
    "        cluster_axis=1,\n",
    "        title=name,\n",
    "        xaxis_title=h_solved.columns.name,\n",
    "        yaxis_title=h_solved.index.name,\n",
    "    )"
   ]
  }
 ],
 "metadata": {
  "kernelspec": {
   "display_name": "Python 3",
   "language": "python",
   "name": "python3"
  },
  "language_info": {
   "codemirror_mode": {
    "name": "ipython",
    "version": 3
   },
   "file_extension": ".py",
   "mimetype": "text/x-python",
   "name": "python",
   "nbconvert_exporter": "python",
   "pygments_lexer": "ipython3",
   "version": "3.5.5"
  }
 },
 "nbformat": 4,
 "nbformat_minor": 2
}
