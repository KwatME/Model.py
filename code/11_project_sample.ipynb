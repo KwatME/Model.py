{
 "cells": [
  {
   "cell_type": "code",
   "execution_count": null,
   "metadata": {
    "ExecuteTime": {
     "end_time": "2018-07-06T07:59:49.777639Z",
     "start_time": "2018-07-06T07:59:49.765242Z"
    }
   },
   "outputs": [],
   "source": [
    "%load_ext autoreload\n",
    "\n",
    "%autoreload 2"
   ]
  },
  {
   "cell_type": "code",
   "execution_count": null,
   "metadata": {
    "ExecuteTime": {
     "end_time": "2018-07-08T02:00:18.306031Z",
     "start_time": "2018-07-08T02:00:18.276698Z"
    }
   },
   "outputs": [],
   "source": [
    "from environment import *\n",
    "\n",
    "import setting\n",
    "\n",
    "path_dict = path(setting)"
   ]
  },
  {
   "cell_type": "code",
   "execution_count": null,
   "metadata": {
    "ExecuteTime": {
     "end_time": "2018-07-06T07:59:51.551921Z",
     "start_time": "2018-07-06T07:59:51.522383Z"
    }
   },
   "outputs": [],
   "source": [
    "nmf_map = ccal.load_nmf_map(path_dict['nmf_map_file_path'])\n",
    "\n",
    "nmf_map.plot_nmf_map(\n",
    "    'h',\n",
    "    element_marker_size=setting.NMF_MAP_H_ELEMENT_MARKER_SIZE,\n",
    ")"
   ]
  },
  {
   "cell_type": "code",
   "execution_count": null,
   "metadata": {
    "ExecuteTime": {
     "end_time": "2018-07-06T07:59:51.571267Z",
     "start_time": "2018-07-06T07:59:51.553639Z"
    }
   },
   "outputs": [],
   "source": [
    "w = pd.DataFrame(\n",
    "    nmf_map.wt.T,\n",
    "    index=nmf_map.wt_elements,\n",
    "    columns=nmf_map.nodes,\n",
    ")"
   ]
  },
  {
   "cell_type": "code",
   "execution_count": null,
   "metadata": {
    "ExecuteTime": {
     "end_time": "2018-07-06T07:59:52.346554Z",
     "start_time": "2018-07-06T07:59:51.572966Z"
    }
   },
   "outputs": [],
   "source": [
    "feature_x_sample = pd.read_table(\n",
    "    path_dict['feature_x_sample_file_path'],\n",
    "    index_col=0,\n",
    ")\n",
    "\n",
    "feature_context_matrix = pd.read_table(\n",
    "    path_dict['feature_context_matrix_file_path'],\n",
    "    index_col=0,\n",
    ")\n",
    "\n",
    "sample_context_matrix = pd.read_table(\n",
    "    path_dict['sample_context_matrix_file_path'],\n",
    "    index_col=0,\n",
    ").T\n",
    "\n",
    "selected_signal_matrix = pd.read_table(\n",
    "    path_dict['selected_signal_matrix_file_path'],\n",
    "    index_col=0,\n",
    ")"
   ]
  },
  {
   "cell_type": "code",
   "execution_count": null,
   "metadata": {
    "ExecuteTime": {
     "end_time": "2018-07-06T07:59:52.556033Z",
     "start_time": "2018-07-06T07:59:52.348450Z"
    }
   },
   "outputs": [],
   "source": [
    "for name, feature_x_sample_ in (\n",
    "    (\n",
    "        'Feature Context Matrix',\n",
    "        feature_context_matrix,\n",
    "    ),\n",
    "    (\n",
    "        'Sample Context Matrix',\n",
    "        sample_context_matrix,\n",
    "    ),\n",
    "    (\n",
    "        'Selected Signal Matrix',\n",
    "        selected_signal_matrix,\n",
    "    ),\n",
    "):\n",
    "\n",
    "    if name == 'Selected Signal Matrix':\n",
    "\n",
    "        matrix = feature_x_sample_ \n",
    "\n",
    "    else:\n",
    "\n",
    "        negative_feature_x_sample = -feature_x_sample_.clip(upper=0)\n",
    "\n",
    "        negative_feature_x_sample.index = feature_x_sample_.index.map(lambda str_: '(-) {}'.format(str_))\n",
    "\n",
    "        positive_feature_x_sample = feature_x_sample_.clip(lower=0)\n",
    "\n",
    "        positive_feature_x_sample.index = feature_x_sample_.index.map(lambda str_: '(+) {}'.format(str_))\n",
    "\n",
    "        w_negative_features = w.index[w.index.str.startswith('(-)')]\n",
    "\n",
    "        common_negative_features = w_negative_features & negative_feature_x_sample.index\n",
    "\n",
    "        if w_negative_features.size:\n",
    "            \n",
    "            print('(-) common features: {}/{} ({:.2f}%)'.format(\n",
    "                common_negative_features.size,\n",
    "                w_negative_features.size,\n",
    "                100 * common_negative_features.size / w_negative_features.size,\n",
    "            ))\n",
    "\n",
    "        w_positive_features = w.index[w.index.str.startswith('(+)')]\n",
    "\n",
    "        common_positive_features = w_positive_features & positive_feature_x_sample.index\n",
    "\n",
    "        if w_positive_features.size:\n",
    "            \n",
    "            print('(+) common features: {}/{} ({:.2f}%)'.format(\n",
    "                common_positive_features.size,\n",
    "                w_positive_features.size,\n",
    "                100 * common_positive_features.size / w_positive_features.size,\n",
    "            ))\n",
    "\n",
    "        matrix = pd.concat((\n",
    "            negative_feature_x_sample.loc[common_negative_features],\n",
    "            positive_feature_x_sample.loc[common_positive_features],\n",
    "        ))\n",
    "\n",
    "    h_solved = ccal.solve_for_nmf_h(\n",
    "        matrix,\n",
    "        w.loc[matrix.index],\n",
    "        method='nnls',\n",
    "    )\n",
    "    \n",
    "    title = 'Project {}'.format(name)\n",
    "\n",
    "    predicted_element_states = nmf_map.predict(\n",
    "        'h',\n",
    "        h_solved,\n",
    "        title=title,\n",
    "        element_marker_size=setting.NMF_MAP_H_ELEMENT_MARKER_SIZE,\n",
    "    )\n",
    "    \n",
    "    if predicted_element_states is not None:\n",
    "\n",
    "        ccal.plot_heat_map(\n",
    "            h_solved,\n",
    "            normalization_axis=0,\n",
    "            normalization_method='-0-',\n",
    "            column_annotation=predicted_element_states,\n",
    "            cluster_axis=1,\n",
    "            column_annotation_colors=tuple(nmf_map.h_state_colors[i] for i in sorted(predicted_element_states.unique())),\n",
    "            title=title,\n",
    "            xaxis_title=h_solved.columns.name,\n",
    "            yaxis_title=h_solved.index.name,\n",
    "        )"
   ]
  }
 ],
 "metadata": {
  "kernelspec": {
   "display_name": "Python 3",
   "language": "python",
   "name": "python3"
  },
  "language_info": {
   "codemirror_mode": {
    "name": "ipython",
    "version": 3
   },
   "file_extension": ".py",
   "mimetype": "text/x-python",
   "name": "python",
   "nbconvert_exporter": "python",
   "pygments_lexer": "ipython3",
   "version": "3.6.5"
  }
 },
 "nbformat": 4,
 "nbformat_minor": 2
}
