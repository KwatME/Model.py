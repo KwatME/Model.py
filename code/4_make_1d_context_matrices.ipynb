{
 "cells": [
  {
   "cell_type": "code",
   "execution_count": null,
   "metadata": {
    "ExecuteTime": {
     "end_time": "2018-06-16T05:47:22.782865Z",
     "start_time": "2018-06-16T05:47:22.768843Z"
    }
   },
   "outputs": [],
   "source": [
    "%load_ext autoreload\n",
    "%autoreload 2"
   ]
  },
  {
   "cell_type": "code",
   "execution_count": null,
   "metadata": {
    "ExecuteTime": {
     "end_time": "2018-06-16T05:47:24.435583Z",
     "start_time": "2018-06-16T05:47:22.784875Z"
    }
   },
   "outputs": [],
   "source": [
    "from environment import *\n",
    "\n",
    "import analysis as a\n",
    "\n",
    "p = make_paths(a)"
   ]
  },
  {
   "cell_type": "code",
   "execution_count": null,
   "metadata": {
    "ExecuteTime": {
     "end_time": "2018-06-16T05:47:25.803718Z",
     "start_time": "2018-06-16T05:47:24.437766Z"
    },
    "scrolled": false
   },
   "outputs": [],
   "source": [
    "feature_x_sample = pd.read_table(p['feature_x_sample_file_path'], index_col=0)"
   ]
  },
  {
   "cell_type": "code",
   "execution_count": null,
   "metadata": {
    "ExecuteTime": {
     "end_time": "2018-06-16T05:47:35.569928Z",
     "start_time": "2018-06-16T05:47:25.806419Z"
    },
    "scrolled": false
   },
   "outputs": [],
   "source": [
    "for element in ('feature', 'sample'):\n",
    "\n",
    "    if element == 'feature':\n",
    "\n",
    "        df = feature_x_sample\n",
    "\n",
    "        to_peek = a.FEATURES_TO_PEEK\n",
    "\n",
    "    elif element == 'sample':\n",
    "\n",
    "        df = feature_x_sample.T\n",
    "\n",
    "        to_peek = a.SAMPLES_TO_PEEK\n",
    "\n",
    "    skew_t_pdf_fit_parameter = pd.read_table(\n",
    "        p['{}_skew_t_pdf_fit_parameter_file_path'.format(element)],\n",
    "        index_col=0)\n",
    "\n",
    "    is_good_fit = skew_t_pdf_fit_parameter['Good']\n",
    "\n",
    "    skew_t_pdf_fit_parameter = skew_t_pdf_fit_parameter.loc[is_good_fit]\n",
    "\n",
    "    df = df.loc[is_good_fit]\n",
    "\n",
    "    _1d_context_matrix_file_path = p['{}_1d_context_matrix_file_path'.format(\n",
    "        element)]\n",
    "\n",
    "    if os.path.isfile(_1d_context_matrix_file_path):\n",
    "\n",
    "        _1d_context_matrix = pd.read_table(\n",
    "            _1d_context_matrix_file_path, index_col=0)\n",
    "\n",
    "    else:\n",
    "\n",
    "        _1d_context_matrix = ccal.make_1d_context_matrix(\n",
    "            df,\n",
    "            n_job=1,\n",
    "            skew_t_pdf_fit_parameter=skew_t_pdf_fit_parameter,\n",
    "            directory_path=p['{}_directory_path'.format(element)])\n",
    "\n",
    "    if _1d_context_matrix.size < 1e6:\n",
    "\n",
    "        ccal.plot_heat_map(\n",
    "            _1d_context_matrix, title='({}) Context'.format(element))\n",
    "\n",
    "    for select_context in ('negative', 'positive'):\n",
    "\n",
    "        context_summary = ccal.summarize_1d_context_matrix(\n",
    "            _1d_context_matrix, select_context)\n",
    "\n",
    "        context_summary.sort_values(inplace=True)\n",
    "\n",
    "        _1d_context_matrix = _1d_context_matrix.loc[context_summary.index]\n",
    "\n",
    "        ranks = [\n",
    "            context_summary.index.tolist().index(index)\n",
    "            for index in context_summary.index & to_peek\n",
    "        ]\n",
    "\n",
    "        title = '({}) {} Context Summary'.format(element, select_context)\n",
    "\n",
    "        ccal.plot_points(\n",
    "            ('All', 'To Peek'), (tuple(range(context_summary.size)), ranks),\n",
    "            (context_summary, context_summary[ranks]),\n",
    "            texts=(context_summary.index, context_summary.index[ranks]),\n",
    "            modes=('markers', 'markers+text'),\n",
    "            title=title,\n",
    "            xaxis_title='Rank',\n",
    "            yaxis_title=title)\n",
    "\n",
    "        n_extreme = 3\n",
    "\n",
    "        ranks = list(range(n_extreme)) + list(range(-n_extreme, 0))\n",
    "\n",
    "        for i in ranks:\n",
    "\n",
    "            index = context_summary.index[i]\n",
    "\n",
    "            series = df.loc[index]\n",
    "\n",
    "            location, scale, degree_of_freedom, shape = skew_t_pdf_fit_parameter.loc[\n",
    "                index, ['Location', 'Scale', 'Degree of Freedom', 'Shape']]\n",
    "\n",
    "            ccal.plot_context(\n",
    "                series,\n",
    "                location=location,\n",
    "                scale=scale,\n",
    "                degree_of_freedom=degree_of_freedom,\n",
    "                shape=shape,\n",
    "                plot_rug=series.size < 1e3,\n",
    "                title='({}) Context Summary Rank {} [{}]'.format(\n",
    "                    element, i, index))"
   ]
  }
 ],
 "metadata": {
  "kernelspec": {
   "display_name": "Python [default]",
   "language": "python",
   "name": "python3"
  },
  "language_info": {
   "codemirror_mode": {
    "name": "ipython",
    "version": 3
   },
   "file_extension": ".py",
   "mimetype": "text/x-python",
   "name": "python",
   "nbconvert_exporter": "python",
   "pygments_lexer": "ipython3",
   "version": "3.6.5"
  }
 },
 "nbformat": 4,
 "nbformat_minor": 1
}
