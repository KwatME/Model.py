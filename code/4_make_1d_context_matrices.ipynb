{
 "cells": [
  {
   "cell_type": "code",
   "execution_count": null,
   "metadata": {
    "ExecuteTime": {
     "end_time": "2018-07-06T10:05:23.970019Z",
     "start_time": "2018-07-06T10:05:23.955799Z"
    }
   },
   "outputs": [],
   "source": [
    "%load_ext autoreload\n",
    "%autoreload 2"
   ]
  },
  {
   "cell_type": "code",
   "execution_count": null,
   "metadata": {
    "ExecuteTime": {
     "end_time": "2018-07-06T10:05:25.671708Z",
     "start_time": "2018-07-06T10:05:23.972524Z"
    }
   },
   "outputs": [],
   "source": [
    "from environment import *\n",
    "\n",
    "import analysis as a\n",
    "\n",
    "p = make_paths(a)"
   ]
  },
  {
   "cell_type": "code",
   "execution_count": null,
   "metadata": {
    "ExecuteTime": {
     "end_time": "2018-07-06T10:05:27.241422Z",
     "start_time": "2018-07-06T10:05:25.673877Z"
    },
    "scrolled": false
   },
   "outputs": [],
   "source": [
    "feature_x_sample = pd.read_table(\n",
    "    p['feature_x_sample_file_path'],\n",
    "    index_col=0,\n",
    ")"
   ]
  },
  {
   "cell_type": "code",
   "execution_count": null,
   "metadata": {
    "ExecuteTime": {
     "end_time": "2018-07-06T10:05:56.142744Z",
     "start_time": "2018-07-06T10:05:27.244038Z"
    },
    "scrolled": false
   },
   "outputs": [],
   "source": [
    "for element in (\n",
    "    'feature',\n",
    "    'sample',\n",
    "):\n",
    "\n",
    "    if element == 'feature':\n",
    "\n",
    "        df = feature_x_sample\n",
    "\n",
    "        to_peek = a.FEATURES_TO_PEEK\n",
    "\n",
    "    elif element == 'sample':\n",
    "\n",
    "        df = feature_x_sample.T\n",
    "\n",
    "        to_peek = a.SAMPLES_TO_PEEK\n",
    "\n",
    "    skew_t_pdf_fit_parameter = pd.read_table(\n",
    "        p['{}_skew_t_pdf_fit_parameter_file_path'.format(element)],\n",
    "        index_col=0,\n",
    "    )\n",
    "\n",
    "    _1d_context_matrix = ccal.make_1d_context_matrix(\n",
    "        df,\n",
    "        n_job=a.MAX_N_JOB,\n",
    "        skew_t_pdf_fit_parameter=skew_t_pdf_fit_parameter,\n",
    "        directory_path=p['{}_directory_path'.format(element)],\n",
    "    )\n",
    "    \n",
    "    _1d_context_matrix = pd.read_table(\n",
    "        p['{}_1d_context_matrix_file_path'.format(element)],\n",
    "        index_col=0,\n",
    "    )\n",
    "\n",
    "    if _1d_context_matrix.size < 1e6:\n",
    "\n",
    "        ccal.plot_heat_map(\n",
    "            _1d_context_matrix,\n",
    "            title='({}) Context'.format(element),\n",
    "        )\n",
    "\n",
    "    for select_context in (\n",
    "        'negative',\n",
    "        'positive',\n",
    "    ):\n",
    "\n",
    "        context_summary = ccal.summarize_1d_context_matrix(\n",
    "            _1d_context_matrix,\n",
    "            select_context,\n",
    "        )\n",
    "\n",
    "        context_summary.sort_values(inplace=True)\n",
    "\n",
    "        _1d_context_matrix = _1d_context_matrix.loc[context_summary.index]\n",
    "\n",
    "        ranks = [context_summary.index.tolist().index(index) for index in context_summary.index & to_peek]\n",
    "\n",
    "        title = '({}) {} Context Summary'.format(\n",
    "            element,\n",
    "            select_context,\n",
    "        )\n",
    "\n",
    "        ccal.plot_points(\n",
    "            (\n",
    "                'All',\n",
    "                'To Peek',\n",
    "            ),\n",
    "            (\n",
    "                tuple(range(context_summary.size)),\n",
    "                ranks,\n",
    "            ),\n",
    "            (\n",
    "                context_summary,\n",
    "                context_summary[ranks],\n",
    "            ),\n",
    "            texts=(\n",
    "                context_summary.index,\n",
    "                context_summary.index[ranks],\n",
    "            ),\n",
    "            modes=(\n",
    "                'markers',\n",
    "                'markers+text',\n",
    "            ),\n",
    "            title=title,\n",
    "            xaxis_title='Rank',\n",
    "            yaxis_title=title,\n",
    "        )\n",
    "\n",
    "        n_extreme = 3\n",
    "\n",
    "        ranks = list(range(n_extreme)) + list(range(\n",
    "            -n_extreme,\n",
    "            0,\n",
    "        ))\n",
    "\n",
    "        for i in ranks:\n",
    "\n",
    "            index = context_summary.index[i]\n",
    "\n",
    "            series = df.loc[index]\n",
    "\n",
    "            location, scale, degree_of_freedom, shape = skew_t_pdf_fit_parameter.loc[\n",
    "                index, [\n",
    "                    'Location',\n",
    "                    'Scale',\n",
    "                    'Degree of Freedom',\n",
    "                    'Shape',\n",
    "                ]]\n",
    "\n",
    "            ccal.plot_context(\n",
    "                series,\n",
    "                location=location,\n",
    "                scale=scale,\n",
    "                degree_of_freedom=degree_of_freedom,\n",
    "                shape=shape,\n",
    "                plot_rug=series.dropna().size < 1e3,\n",
    "                title='({}) Context Summary Rank {} [{}]'.format(\n",
    "                    element,\n",
    "                    i,\n",
    "                    index,\n",
    "                ),\n",
    "            )"
   ]
  }
 ],
 "metadata": {
  "kernelspec": {
   "display_name": "Python 3",
   "language": "python",
   "name": "python3"
  },
  "language_info": {
   "codemirror_mode": {
    "name": "ipython",
    "version": 3
   },
   "file_extension": ".py",
   "mimetype": "text/x-python",
   "name": "python",
   "nbconvert_exporter": "python",
   "pygments_lexer": "ipython3",
   "version": "3.5.5"
  }
 },
 "nbformat": 4,
 "nbformat_minor": 2
}
