{
 "cells": [
  {
   "cell_type": "code",
   "execution_count": null,
   "metadata": {},
   "outputs": [],
   "source": [
    "%load_ext autoreload\n",
    "%autoreload 2"
   ]
  },
  {
   "cell_type": "code",
   "execution_count": null,
   "metadata": {},
   "outputs": [],
   "source": [
    "from __init__ import *"
   ]
  },
  {
   "cell_type": "code",
   "execution_count": null,
   "metadata": {},
   "outputs": [],
   "source": [
    "model_mode = SETTING[\"model_mode\"]\n",
    "\n",
    "if model_mode == \"range\":\n",
    "\n",
    "    w_h_str = \"h\"\n",
    "\n",
    "elif model_mode == \"deep\":\n",
    "\n",
    "    w_h_str = \"w\""
   ]
  },
  {
   "cell_type": "code",
   "execution_count": null,
   "metadata": {},
   "outputs": [],
   "source": [
    "gps_map_directory_path = \"{}/gps_map\".format(SETTING[\"output_directory_path\"])"
   ]
  },
  {
   "cell_type": "code",
   "execution_count": null,
   "metadata": {},
   "outputs": [],
   "source": [
    "gps_map = kraft.read_gps_map(\n",
    "    \"{}/{}_gps_map.pickle.gz\".format(gps_map_directory_path, w_h_str)\n",
    ")"
   ]
  },
  {
   "cell_type": "code",
   "execution_count": null,
   "metadata": {},
   "outputs": [],
   "source": [
    "ws, hs = read_ws_hs(\n",
    "    \"{}/mf\".format(SETTING[\"output_directory_path\"]),\n",
    "    SETTING[\"model_mode\"],\n",
    "    SETTING[\"model_data_dicts\"],\n",
    ")"
   ]
  },
  {
   "cell_type": "code",
   "execution_count": null,
   "metadata": {},
   "outputs": [],
   "source": [
    "for data_dict_index, data_dict in enumerate(SETTING[\"model_data_dicts\"]):\n",
    "\n",
    "    if w_h_str == \"w\":\n",
    "\n",
    "        elements = ws[data_dict_index].index\n",
    "\n",
    "    else:\n",
    "\n",
    "        elements = hs[data_dict_index].columns\n",
    "\n",
    "    gps_map.plot(\n",
    "        element_value=pd.Series(1, index=elements),\n",
    "        element_trace=SETTING[\"{}_gps_map_element_trace\".format(w_h_str)],\n",
    "        layout={\n",
    "            \"title\": {\"text\": \"{} (n={})\".format(data_dict[\"name\"], elements.size)}\n",
    "        },\n",
    "        html_file_path=\"{}/{}_gps_map_data_{}.html\".format(\n",
    "            gps_map_directory_path, w_h_str, data_dict_index\n",
    "        ),\n",
    "    )"
   ]
  }
 ],
 "metadata": {
  "kernelspec": {
   "display_name": "Python 3",
   "language": "python",
   "name": "python3"
  },
  "language_info": {
   "codemirror_mode": {
    "name": "ipython",
    "version": 3
   },
   "file_extension": ".py",
   "mimetype": "text/x-python",
   "name": "python",
   "nbconvert_exporter": "python",
   "pygments_lexer": "ipython3",
   "version": "3.7.6"
  }
 },
 "nbformat": 4,
 "nbformat_minor": 4
}
