{
 "cells": [
  {
   "cell_type": "code",
   "execution_count": null,
   "metadata": {},
   "outputs": [],
   "source": [
    "%load_ext autoreload\n",
    "%autoreload 2"
   ]
  },
  {
   "cell_type": "code",
   "execution_count": null,
   "metadata": {},
   "outputs": [],
   "source": [
    "from __init__ import *"
   ]
  },
  {
   "cell_type": "code",
   "execution_count": null,
   "metadata": {},
   "outputs": [],
   "source": [
    "ws, hs = read_ws_hs(\n",
    "    \"{}/mf\".format(OUTPUT_DIRECTORY_PATH),\n",
    "    SETTING[\"model_mode\"],\n",
    "    SETTING[\"model_data_dicts\"],\n",
    ")"
   ]
  },
  {
   "cell_type": "code",
   "execution_count": null,
   "metadata": {},
   "outputs": [],
   "source": [
    "distance_function = kraft.compute_information_distance_between_2_vectors\n",
    "\n",
    "heat_map_layout_size = 640\n",
    "\n",
    "layout = {\"height\": heat_map_layout_size, \"width\": heat_map_layout_size}"
   ]
  },
  {
   "cell_type": "code",
   "execution_count": null,
   "metadata": {},
   "outputs": [],
   "source": [
    "w_factor_x_factor_distances = np.asarray(\n",
    "    [\n",
    "        kraft.apply_function_on_slices_from_2_dataframes(\n",
    "            w,\n",
    "            w,\n",
    "            0,\n",
    "            distance_function,\n",
    "            layout={\"title\": {\"text\": \"W{} Distance\".format(i)}, **layout},\n",
    "        ).values\n",
    "        for i, w in enumerate(ws)\n",
    "    ]\n",
    ")"
   ]
  },
  {
   "cell_type": "code",
   "execution_count": null,
   "metadata": {},
   "outputs": [],
   "source": [
    "h_factor_x_factor_distances = np.asarray(\n",
    "    [\n",
    "        kraft.apply_function_on_slices_from_2_dataframes(\n",
    "            h,\n",
    "            h,\n",
    "            1,\n",
    "            distance_function,\n",
    "            layout={\"title\": {\"text\": \"H{} Distance\".format(i)}, **layout},\n",
    "        ).values\n",
    "        for i, h in enumerate(hs)\n",
    "    ]\n",
    ")"
   ]
  },
  {
   "cell_type": "code",
   "execution_count": null,
   "metadata": {},
   "outputs": [],
   "source": [
    "factor_x_factor_distances = np.concatenate(\n",
    "    (w_factor_x_factor_distances, h_factor_x_factor_distances)\n",
    ")\n",
    "\n",
    "factor_x_factor_distance = pd.DataFrame(\n",
    "    np.mean(factor_x_factor_distances, axis=0), index=hs[0].index, columns=ws[0].columns\n",
    ")\n",
    "\n",
    "kraft.plot_heat_map(\n",
    "    factor_x_factor_distance.iloc[\n",
    "        kraft.cluster_matrix(factor_x_factor_distance.values, 0),\n",
    "        kraft.cluster_matrix(factor_x_factor_distance.values, 1),\n",
    "    ],\n",
    "    layout={\"title\": {\"text\": \"W H Distance\"}, **layout},\n",
    ")"
   ]
  },
  {
   "cell_type": "code",
   "execution_count": null,
   "metadata": {},
   "outputs": [],
   "source": [
    "gps_map_directory_path = \"{}/gps_map\".format(OUTPUT_DIRECTORY_PATH)\n",
    "\n",
    "kraft.establish_path(gps_map_directory_path, \"directory\")"
   ]
  },
  {
   "cell_type": "code",
   "execution_count": null,
   "metadata": {},
   "outputs": [],
   "source": [
    "rs_01 = kraft.normalize_array(\n",
    "    np.concatenate(tuple((r,) * r for r in SETTING[\"mf_rs\"])), \"0-1\"\n",
    ")\n",
    "\n",
    "node_factor = SETTING[\"mf_r_range\"] ** rs_01\n",
    "\n",
    "node_marker_size = 3 ** (1 - rs_01) * 16"
   ]
  },
  {
   "cell_type": "code",
   "execution_count": null,
   "metadata": {},
   "outputs": [],
   "source": [
    "w_element_x_node = pd.concat(ws)\n",
    "\n",
    "w_element_x_node *= node_factor\n",
    "\n",
    "w_element_x_node **= SETTING[\"w_gps_map_node_power\"]"
   ]
  },
  {
   "cell_type": "code",
   "execution_count": null,
   "metadata": {},
   "outputs": [],
   "source": [
    "w_gps_map = kraft.GPSMap(\n",
    "    w_element_x_node, factor_x_factor_distance, node_marker_size=node_marker_size\n",
    ")\n",
    "\n",
    "kraft.write_gps_map(\"{}/w_gps_map.pickle.gz\".format(gps_map_directory_path), w_gps_map)\n",
    "\n",
    "w_gps_map.plot(\n",
    "    element_trace=SETTING[\"w_gps_map_element_trace\"],\n",
    "    html_file_path=\"{}/w_gps_map.html\".format(gps_map_directory_path),\n",
    ")"
   ]
  },
  {
   "cell_type": "code",
   "execution_count": null,
   "metadata": {},
   "outputs": [],
   "source": [
    "h_element_x_node = pd.concat(hs, axis=1).T\n",
    "\n",
    "h_element_x_node *= node_factor\n",
    "\n",
    "h_element_x_node **= SETTING[\"h_gps_map_node_power\"]"
   ]
  },
  {
   "cell_type": "code",
   "execution_count": null,
   "metadata": {},
   "outputs": [],
   "source": [
    "h_gps_map = kraft.GPSMap(\n",
    "    h_element_x_node, factor_x_factor_distance, node_marker_size=node_marker_size\n",
    ")\n",
    "\n",
    "kraft.write_gps_map(\"{}/h_gps_map.pickle.gz\".format(gps_map_directory_path), h_gps_map)\n",
    "\n",
    "h_gps_map.plot(\n",
    "    element_trace=SETTING[\"h_gps_map_element_trace\"],\n",
    "    html_file_path=\"{}/h_gps_map.html\".format(gps_map_directory_path),\n",
    ")"
   ]
  }
 ],
 "metadata": {
  "kernelspec": {
   "display_name": "Python 3",
   "language": "python",
   "name": "python3"
  },
  "language_info": {
   "codemirror_mode": {
    "name": "ipython",
    "version": 3
   },
   "file_extension": ".py",
   "mimetype": "text/x-python",
   "name": "python",
   "nbconvert_exporter": "python",
   "pygments_lexer": "ipython3",
   "version": "3.7.3"
  }
 },
 "nbformat": 4,
 "nbformat_minor": 4
}
