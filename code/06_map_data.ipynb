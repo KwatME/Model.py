{
 "cells": [
  {
   "cell_type": "code",
   "execution_count": null,
   "metadata": {},
   "outputs": [],
   "source": [
    "from __init__ import *"
   ]
  },
  {
   "cell_type": "code",
   "execution_count": null,
   "metadata": {},
   "outputs": [],
   "source": [
    "if SETTING[\"model_mode\"] == \"range\":\n",
    "\n",
    "    w_h_str = \"h\"\n",
    "\n",
    "elif SETTING[\"model_mode\"] == \"deep\":\n",
    "\n",
    "    w_h_str = \"w\""
   ]
  },
  {
   "cell_type": "code",
   "execution_count": null,
   "metadata": {},
   "outputs": [],
   "source": [
    "directory_path = \"../output/gps_map/\""
   ]
  },
  {
   "cell_type": "code",
   "execution_count": null,
   "metadata": {},
   "outputs": [],
   "source": [
    "gps_map = kraft.gps_map.read(\"{}{}_gps_map.pickle.gz\".format(directory_path, w_h_str))"
   ]
  },
  {
   "cell_type": "code",
   "execution_count": null,
   "metadata": {},
   "outputs": [],
   "source": [
    "ws, hs = read_ws_hs(\n",
    "    \"../output/mf/\", SETTING[\"model_mode\"], SETTING[\"model_data_dicts\"],\n",
    ")"
   ]
  },
  {
   "cell_type": "code",
   "execution_count": null,
   "metadata": {},
   "outputs": [],
   "source": [
    "for data_dict_i, data_dict in enumerate(SETTING[\"model_data_dicts\"]):\n",
    "\n",
    "    if w_h_str == \"w\":\n",
    "\n",
    "        points = ws[data_dict_i].index\n",
    "\n",
    "    else:\n",
    "\n",
    "        points = hs[data_dict_i].columns\n",
    "\n",
    "    gps_map.plot(\n",
    "        point_score=pd.Series(1, index=points, name=data_dict[\"name\"]),\n",
    "        point_trace=SETTING[\"{}_gps_map_point_trace\".format(w_h_str)],\n",
    "        file_path=\"{}{}_gps_map_data_{}.html\".format(\n",
    "            directory_path, w_h_str, data_dict_i\n",
    "        ),\n",
    "    )"
   ]
  }
 ],
 "metadata": {
  "kernelspec": {
   "display_name": "Python 3",
   "language": "python",
   "name": "python3"
  },
  "language_info": {
   "codemirror_mode": {
    "name": "ipython",
    "version": 3
   },
   "file_extension": ".py",
   "mimetype": "text/x-python",
   "name": "python",
   "nbconvert_exporter": "python",
   "pygments_lexer": "ipython3",
   "version": "3.7.8"
  }
 },
 "nbformat": 4,
 "nbformat_minor": 4
}
