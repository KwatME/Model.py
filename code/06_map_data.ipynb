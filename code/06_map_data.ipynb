{
 "cells": [
  {
   "cell_type": "code",
   "execution_count": null,
   "metadata": {},
   "outputs": [],
   "source": [
    "from __init__ import *"
   ]
  },
  {
   "cell_type": "code",
   "execution_count": null,
   "metadata": {},
   "outputs": [],
   "source": [
    "if SETTING[\"model_mode\"] == \"deep\":\n",
    "\n",
    "    w_h_symbol = \"w\"\n",
    "\n",
    "elif SETTING[\"model_mode\"] == \"range\":\n",
    "\n",
    "    w_h_symbol = \"h\""
   ]
  },
  {
   "cell_type": "code",
   "execution_count": null,
   "metadata": {},
   "outputs": [],
   "source": [
    "directory_path = \"../output/gps_map/\""
   ]
  },
  {
   "cell_type": "code",
   "execution_count": null,
   "metadata": {},
   "outputs": [],
   "source": [
    "gps_map = kraft.gps_map.read(\n",
    "    \"{}{}_gps_map.pickle.gz\".format(directory_path, w_h_symbol)\n",
    ")"
   ]
  },
  {
   "cell_type": "code",
   "execution_count": null,
   "metadata": {},
   "outputs": [],
   "source": [
    "w_, h_ = read_ws_hs(\n",
    "    \"../output/matrix_factorization/\", SETTING[\"model_mode\"], SETTING[\"model_data_\"],\n",
    ")"
   ]
  },
  {
   "cell_type": "code",
   "execution_count": null,
   "metadata": {},
   "outputs": [],
   "source": [
    "for i, data in enumerate(SETTING[\"model_data_\"]):\n",
    "\n",
    "    if w_h_symbol == \"w\":\n",
    "\n",
    "        points = w_[i].index\n",
    "\n",
    "    else:\n",
    "\n",
    "        points = h_[i].columns\n",
    "\n",
    "    gps_map.plot(\n",
    "        scores=pd.Series(data=1, index=points, name=data[\"name\"]),\n",
    "        point_trace={\n",
    "            \"marker\": {\"size\": SETTING[\"{}_gps_map_point_size\".format(w_h_symbol)]}\n",
    "        },\n",
    "        file_path=\"{}{}_gps_map_data_{}.html\".format(directory_path, w_h_symbol, i),\n",
    "    )"
   ]
  }
 ],
 "metadata": {
  "kernelspec": {
   "display_name": "Python 3",
   "language": "python",
   "name": "python3"
  },
  "language_info": {
   "codemirror_mode": {
    "name": "ipython",
    "version": 3
   },
   "file_extension": ".py",
   "mimetype": "text/x-python",
   "name": "python",
   "nbconvert_exporter": "python",
   "pygments_lexer": "ipython3",
   "version": "3.7.8"
  }
 },
 "nbformat": 4,
 "nbformat_minor": 4
}
