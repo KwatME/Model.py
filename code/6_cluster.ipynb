{
 "cells": [
  {
   "cell_type": "code",
   "execution_count": 1,
   "metadata": {
    "ExecuteTime": {
     "end_time": "2018-07-06T19:27:09.695630Z",
     "start_time": "2018-07-06T19:27:09.679688Z"
    }
   },
   "outputs": [],
   "source": [
    "%load_ext autoreload\n",
    "\n",
    "%autoreload 2"
   ]
  },
  {
   "cell_type": "code",
   "execution_count": 2,
   "metadata": {
    "ExecuteTime": {
     "end_time": "2018-07-06T18:37:38.413000Z",
     "start_time": "2018-07-06T18:37:36.654831Z"
    }
   },
   "outputs": [
    {
     "name": "stdout",
     "output_type": "stream",
     "text": [
      "CCAL version 0.7.8 @ /home/kwatme/miniconda3/lib/python3.6/site-packages/ccal/__init__.py\n"
     ]
    },
    {
     "data": {
      "text/html": [
       "<script>requirejs.config({paths: { 'plotly': ['https://cdn.plot.ly/plotly-latest.min']},});if(!window.Plotly) {{require(['plotly'],function(plotly) {window.Plotly=plotly;});}}</script>"
      ],
      "text/vnd.plotly.v1+html": [
       "<script>requirejs.config({paths: { 'plotly': ['https://cdn.plot.ly/plotly-latest.min']},});if(!window.Plotly) {{require(['plotly'],function(plotly) {window.Plotly=plotly;});}}</script>"
      ]
     },
     "metadata": {},
     "output_type": "display_data"
    },
    {
     "name": "stdout",
     "output_type": "stream",
     "text": [
      "Created directory /home/kwatme/model_and_infer__rna_ccle_large_intestine/output/signal/nmf/7.\n",
      "Created directory /home/kwatme/model_and_infer__rna_ccle_large_intestine/output/signal/nmf/7/wt.\n",
      "Created directory /home/kwatme/model_and_infer__rna_ccle_large_intestine/output/signal/nmf/7/wt/match.\n",
      "Created directory /home/kwatme/model_and_infer__rna_ccle_large_intestine/output/signal/nmf/7/wt/map.\n",
      "Created directory /home/kwatme/model_and_infer__rna_ccle_large_intestine/output/signal/nmf/7/wt/hcc.\n",
      "Created directory /home/kwatme/model_and_infer__rna_ccle_large_intestine/output/signal/nmf/7/wt/hcc/7.\n",
      "Created directory /home/kwatme/model_and_infer__rna_ccle_large_intestine/output/signal/nmf/7/wt/hcc/7/match.\n",
      "Created directory /home/kwatme/model_and_infer__rna_ccle_large_intestine/output/signal/nmf/7/h.\n",
      "Created directory /home/kwatme/model_and_infer__rna_ccle_large_intestine/output/signal/nmf/7/h/match.\n",
      "Created directory /home/kwatme/model_and_infer__rna_ccle_large_intestine/output/signal/nmf/7/h/map.\n",
      "Created directory /home/kwatme/model_and_infer__rna_ccle_large_intestine/output/signal/nmf/7/h/hcc.\n",
      "Created directory /home/kwatme/model_and_infer__rna_ccle_large_intestine/output/signal/nmf/7/h/hcc/7.\n",
      "Created directory /home/kwatme/model_and_infer__rna_ccle_large_intestine/output/signal/nmf/7/h/hcc/7/match.\n"
     ]
    }
   ],
   "source": [
    "from environment import *\n",
    "\n",
    "import setting\n",
    "\n",
    "path_dict = path(setting)"
   ]
  },
  {
   "cell_type": "code",
   "execution_count": 3,
   "metadata": {
    "ExecuteTime": {
     "end_time": "2018-07-06T19:27:11.455441Z",
     "start_time": "2018-07-06T19:27:11.406230Z"
    }
   },
   "outputs": [],
   "source": [
    "w = pd.read_table(\n",
    "    path_dict['w_file_path'],\n",
    "    index_col=0,\n",
    ")\n",
    "\n",
    "h = pd.read_table(\n",
    "    path_dict['h_file_path'],\n",
    "    index_col=0,\n",
    ")"
   ]
  },
  {
   "cell_type": "code",
   "execution_count": 4,
   "metadata": {},
   "outputs": [],
   "source": [
    "from numpy import absolute, where\n",
    "from scipy.spatial.distance import correlation\n",
    "\n",
    "\n",
    "def compute_correlation_distance(\n",
    "        x,\n",
    "        y,\n",
    "):\n",
    "\n",
    "    correlation_distance = correlation(\n",
    "        x,\n",
    "        y,\n",
    "    )\n",
    "\n",
    "    return where(\n",
    "        absolute(correlation_distance) < 1e-8,\n",
    "        0,\n",
    "        correlation_distance,\n",
    "    )"
   ]
  },
  {
   "cell_type": "code",
   "execution_count": null,
   "metadata": {
    "ExecuteTime": {
     "end_time": "2018-07-06T19:39:55.046724Z",
     "start_time": "2018-07-06T19:27:15.475772Z"
    },
    "scrolled": false
   },
   "outputs": [
    {
     "name": "stdout",
     "output_type": "stream",
     "text": [
      "Computing column-x-column distance with <function compute_correlation_distance at 0x7fecc472f0d0> ...\n"
     ]
    }
   ],
   "source": [
    "for wt_or_h, df, bandwidth_factor, element_marker_size in (\n",
    "    (\n",
    "        'wt',\n",
    "        w.T,\n",
    "        setting.GPS_MAP_WT_BANDWIDTH_FACTOR,\n",
    "        setting.GPS_MAP_WT_ELEMENT_MARKER_SIZE,\n",
    "    ),\n",
    "    (\n",
    "        'h',\n",
    "        h,\n",
    "        setting.GPS_MAP_H_BANDWIDTH_FACTOR,\n",
    "        setting.GPS_MAP_H_ELEMENT_MARKER_SIZE,\n",
    "    ),\n",
    "):\n",
    "    \n",
    "    distance__column_x_column, k_hcc_distance_linkage, k_hcc_distance_linkage_ccc, hcc__k_x_column = ccal.hierarchical_consensus_cluster_with_multiple_k(\n",
    "        df,\n",
    "        setting.HCC_KS,\n",
    "        n_job=setting.MAX_N_JOB,\n",
    "        distance_function=compute_correlation_distance,\n",
    "        plot_df=False,\n",
    "        directory_path=path_dict['{}_hcc_directory_path'.format(wt_or_h)],\n",
    "    )\n",
    "\n",
    "    for k, element_cluster in hcc__k_x_column.iterrows(): \n",
    "        \n",
    "        if wt_or_h == 'wt':\n",
    "            \n",
    "            yaxis_title = 'Feature'\n",
    "        \n",
    "        elif wt_or_h == 'h':\n",
    "            \n",
    "            yaxis_title = 'Sample'\n",
    "\n",
    "        ccal.plot_heat_map(\n",
    "            df,\n",
    "            normalization_axis=0,\n",
    "            normalization_method='-0-',\n",
    "            column_annotation=element_cluster,\n",
    "            title=k,\n",
    "            xaxis_title=yaxis_title,\n",
    "            yaxis_title='Part',\n",
    "        )"
   ]
  }
 ],
 "metadata": {
  "kernelspec": {
   "display_name": "Python 3",
   "language": "python",
   "name": "python3"
  },
  "language_info": {
   "codemirror_mode": {
    "name": "ipython",
    "version": 3
   },
   "file_extension": ".py",
   "mimetype": "text/x-python",
   "name": "python",
   "nbconvert_exporter": "python",
   "pygments_lexer": "ipython3",
   "version": "3.6.6"
  }
 },
 "nbformat": 4,
 "nbformat_minor": 2
}
