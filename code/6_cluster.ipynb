{
 "cells": [
  {
   "cell_type": "code",
   "execution_count": null,
   "metadata": {
    "ExecuteTime": {
     "end_time": "2018-07-06T19:27:09.695630Z",
     "start_time": "2018-07-06T19:27:09.679688Z"
    }
   },
   "outputs": [],
   "source": [
    "%load_ext autoreload\n",
    "%autoreload 2"
   ]
  },
  {
   "cell_type": "code",
   "execution_count": null,
   "metadata": {
    "ExecuteTime": {
     "end_time": "2018-07-06T18:37:38.413000Z",
     "start_time": "2018-07-06T18:37:36.654831Z"
    }
   },
   "outputs": [],
   "source": [
    "from environment import *\n",
    "from setting import *"
   ]
  },
  {
   "cell_type": "code",
   "execution_count": null,
   "metadata": {
    "ExecuteTime": {
     "end_time": "2018-07-06T19:27:11.455441Z",
     "start_time": "2018-07-06T19:27:11.406230Z"
    }
   },
   "outputs": [],
   "source": [
    "w = pd.read_table(PATH_DICT[\"w.tsv\"], index_col=0)\n",
    "\n",
    "h = pd.read_table(PATH_DICT[\"h.tsv\"], index_col=0)"
   ]
  },
  {
   "cell_type": "code",
   "execution_count": null,
   "metadata": {
    "ExecuteTime": {
     "end_time": "2018-07-06T19:39:55.046724Z",
     "start_time": "2018-07-06T19:27:15.475772Z"
    }
   },
   "outputs": [],
   "source": [
    "for w_or_h, df in ((\"w\", w.T), (\"h\", h)):\n",
    "\n",
    "    k_hcc = ccal.hierarchical_consensus_cluster_with_multiple_k(\n",
    "        df,\n",
    "        HCC_KS,\n",
    "        n_job=MAX_N_JOB,\n",
    "        distance_function=ccal.compute_correlation_distance,\n",
    "        plot_df=df.shape[1] < PLOT_MAX_SIZE ** 0.5,\n",
    "        directory_path=PATH_DICT[\"{}|hcc/\".format(w_or_h)],\n",
    "    )\n",
    "\n",
    "    ks = tuple(\"K{}\".format(k) for k in HCC_KS)\n",
    "\n",
    "    hcc__k_x_column = pd.read_table(\n",
    "        PATH_DICT[\"{}|hcc__k_x_column.tsv\".format(w_or_h)], index_col=0\n",
    "    )\n",
    "\n",
    "    for k, element_cluster in hcc__k_x_column.iterrows():\n",
    "\n",
    "        if w_or_h == \"w\":\n",
    "\n",
    "            xaxis_title = FEATURE_ALIAS\n",
    "\n",
    "        elif w_or_h == \"h\":\n",
    "\n",
    "            xaxis_title = SAMPLE_ALIAS"
   ]
  }
 ],
 "metadata": {
  "kernelspec": {
   "display_name": "Python 3",
   "language": "python",
   "name": "python3"
  },
  "language_info": {
   "codemirror_mode": {
    "name": "ipython",
    "version": 3
   },
   "file_extension": ".py",
   "mimetype": "text/x-python",
   "name": "python",
   "nbconvert_exporter": "python",
   "pygments_lexer": "ipython3",
   "version": "3.6.7"
  }
 },
 "nbformat": 4,
 "nbformat_minor": 2
}
