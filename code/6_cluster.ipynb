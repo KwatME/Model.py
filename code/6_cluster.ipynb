{
 "cells": [
  {
   "cell_type": "code",
   "execution_count": null,
   "metadata": {
    "ExecuteTime": {
     "end_time": "2018-07-06T19:27:09.695630Z",
     "start_time": "2018-07-06T19:27:09.679688Z"
    }
   },
   "outputs": [],
   "source": [
    "%load_ext autoreload\n",
    "%autoreload 2"
   ]
  },
  {
   "cell_type": "code",
   "execution_count": null,
   "metadata": {
    "ExecuteTime": {
     "end_time": "2018-07-06T18:37:38.413000Z",
     "start_time": "2018-07-06T18:37:36.654831Z"
    }
   },
   "outputs": [],
   "source": [
    "from environment import *\n",
    "from setting import *"
   ]
  },
  {
   "cell_type": "code",
   "execution_count": null,
   "metadata": {
    "ExecuteTime": {
     "end_time": "2018-07-06T19:27:11.455441Z",
     "start_time": "2018-07-06T19:27:11.406230Z"
    }
   },
   "outputs": [],
   "source": [
    "w = pd.read_table(\n",
    "    PATH_DICT['w_file_path'],\n",
    "    index_col=0,\n",
    ")\n",
    "\n",
    "h = pd.read_table(\n",
    "    PATH_DICT['h_file_path'],\n",
    "    index_col=0,\n",
    ")"
   ]
  },
  {
   "cell_type": "code",
   "execution_count": null,
   "metadata": {},
   "outputs": [],
   "source": [
    "from numpy import absolute, isnan, where\n",
    "from scipy.spatial.distance import correlation\n",
    "\n",
    "\n",
    "def compute_correlation_distance(\n",
    "    x,\n",
    "    y,\n",
    "):\n",
    "    \n",
    "    correlation_distance = correlation(\n",
    "        x,\n",
    "        y,\n",
    "    )\n",
    "    \n",
    "    if isnan(correlation_distance):\n",
    "        \n",
    "        return 2\n",
    "    \n",
    "    else:\n",
    "        \n",
    "        return where(\n",
    "            absolute(correlation_distance) < 1e-8,\n",
    "            0,\n",
    "            correlation_distance,\n",
    "        )"
   ]
  },
  {
   "cell_type": "code",
   "execution_count": null,
   "metadata": {
    "ExecuteTime": {
     "end_time": "2018-07-06T19:39:55.046724Z",
     "start_time": "2018-07-06T19:27:15.475772Z"
    }
   },
   "outputs": [],
   "source": [
    "for wt_or_h, df in (\n",
    "    (\n",
    "        'wt',\n",
    "        w.T,\n",
    "    ),\n",
    "    (\n",
    "        'h',\n",
    "        h,\n",
    "    ),\n",
    "):\n",
    "    \n",
    "    k_hcc = ccal.hierarchical_consensus_cluster_with_multiple_k(\n",
    "        df,\n",
    "        HCC_KS,\n",
    "        n_job=MAX_N_JOB,\n",
    "        distance_function=compute_correlation_distance,\n",
    "        plot_df=False,\n",
    "        directory_path=PATH_DICT['{}_hcc_directory_path'.format(wt_or_h)],\n",
    "    )\n",
    "    \n",
    "    ks = tuple('K{}'.format(k) for k in HCC_KS)\n",
    "    \n",
    "    hcc__k_x_column = pd.read_table(\n",
    "        PATH_DICT['{}_hcc__k_x_column_file_path'.format(wt_or_h)],\n",
    "        index_col=0,\n",
    "    )\n",
    "    \n",
    "    for k, element_cluster in hcc__k_x_column.iterrows(): \n",
    "        \n",
    "        if wt_or_h == 'wt':\n",
    "            \n",
    "            xaxis_title = 'Feature'\n",
    "            \n",
    "        elif wt_or_h == 'h':\n",
    "            \n",
    "            xaxis_title = 'Sample'\n",
    "            \n",
    "        if df.shape[1] < 3200:\n",
    "            \n",
    "            ccal.plot_heat_map(\n",
    "                df,\n",
    "                normalization_axis=0,\n",
    "                normalization_method='-0-',\n",
    "                column_annotation=element_cluster,\n",
    "                title=k,\n",
    "                xaxis_title=xaxis_title,\n",
    "                yaxis_title='Part',\n",
    "                html_file_path='{}/{}.html'.format(\n",
    "                    PATH_DICT['{}_hcc_directory_path'.format(wt_or_h)],\n",
    "                    k,\n",
    "                ),\n",
    "            )"
   ]
  }
 ],
 "metadata": {
  "kernelspec": {
   "display_name": "Python 3",
   "language": "python",
   "name": "python3"
  },
  "language_info": {
   "codemirror_mode": {
    "name": "ipython",
    "version": 3
   },
   "file_extension": ".py",
   "mimetype": "text/x-python",
   "name": "python",
   "nbconvert_exporter": "python",
   "pygments_lexer": "ipython3",
   "version": "3.6.6"
  }
 },
 "nbformat": 4,
 "nbformat_minor": 2
}
