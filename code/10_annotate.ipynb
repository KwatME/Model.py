{
 "cells": [
  {
   "cell_type": "code",
   "execution_count": null,
   "metadata": {
    "ExecuteTime": {
     "end_time": "2018-07-08T00:30:32.513083Z",
     "start_time": "2018-07-08T00:30:32.501224Z"
    }
   },
   "outputs": [],
   "source": [
    "%load_ext autoreload\n",
    "%autoreload 2"
   ]
  },
  {
   "cell_type": "code",
   "execution_count": null,
   "metadata": {
    "ExecuteTime": {
     "end_time": "2018-07-08T02:00:18.306031Z",
     "start_time": "2018-07-08T02:00:18.276698Z"
    }
   },
   "outputs": [],
   "source": [
    "from environment import *\n",
    "\n",
    "with open(\"setting.yaml\") as yaml_file:\n",
    "\n",
    "    setting = yaml.load(yaml_file)\n",
    "\n",
    "path = make_path_dict(setting)"
   ]
  },
  {
   "cell_type": "code",
   "execution_count": null,
   "metadata": {},
   "outputs": [],
   "source": [
    "feature_data = setting[\"feature_data\"]\n",
    "\n",
    "sample_data = setting[\"sample_data\"]"
   ]
  },
  {
   "cell_type": "code",
   "execution_count": null,
   "metadata": {},
   "outputs": [],
   "source": [
    "for element_data in (feature_data, sample_data):\n",
    "\n",
    "    if element_data is not None:\n",
    "\n",
    "        for data_name, data_dict in element_data.items():\n",
    "\n",
    "            element_data[data_name][\"df\"] = pd.read_table(\n",
    "                data_dict[\"file_path\"], index_col=0\n",
    "            )\n",
    "\n",
    "        print(element_data.keys())"
   ]
  },
  {
   "cell_type": "code",
   "execution_count": null,
   "metadata": {},
   "outputs": [],
   "source": [
    "make_match_panels_keyword_arguments = dict(\n",
    "    n_job=setting[\"max_n_job\"],\n",
    "    n_required_for_match_function=0.64,\n",
    "    extreme_feature_threshold=setting[\"extreme_feature_threshold\"],\n",
    "    n_sampling=setting[\"n_sampling\"],\n",
    "    n_permutation=setting[\"n_permutation\"],\n",
    "    plot_std=setting[\"plot_std\"],\n",
    ")"
   ]
  },
  {
   "cell_type": "code",
   "execution_count": null,
   "metadata": {},
   "outputs": [],
   "source": [
    "if feature_data is not None:\n",
    "\n",
    "    targets = pd.read_table(path[\"w.tsv\"], index_col=0)\n",
    "\n",
    "    ccal.make_match_panels(\n",
    "        targets,\n",
    "        feature_data,\n",
    "        target_type=\"continuous\",\n",
    "        cluster_within_category=targets.shape[1] < setting[\"plot_cluster_max_size\"],\n",
    "        directory_path=path[\"w|match/\"],\n",
    "        plotly_directory_path=path[\"plotly|w_match/\"],\n",
    "        **make_match_panels_keyword_arguments,\n",
    "    )"
   ]
  },
  {
   "cell_type": "code",
   "execution_count": null,
   "metadata": {},
   "outputs": [],
   "source": [
    "if sample_data is not None:\n",
    "\n",
    "    targets = pd.read_table(path[\"h.tsv\"], index_col=0)\n",
    "\n",
    "    ccal.make_match_panels(\n",
    "        targets,\n",
    "        sample_data,\n",
    "        target_type=\"continuous\",\n",
    "        cluster_within_category=targets.shape[1] < setting[\"plot_cluster_max_size\"],\n",
    "        directory_path=path[\"h|match/\"],\n",
    "        plotly_directory_path=path[\"plotly|h_match/\"],\n",
    "        **make_match_panels_keyword_arguments,\n",
    "    )"
   ]
  },
  {
   "cell_type": "code",
   "execution_count": null,
   "metadata": {},
   "outputs": [],
   "source": [
    "if feature_data is not None:\n",
    "\n",
    "    targets = pd.read_table(path[\"w|cluster_x_column.tsv\"], index_col=0)\n",
    "\n",
    "    ccal.make_match_panels(\n",
    "        targets,\n",
    "        feature_data,\n",
    "        target_type=\"binary\",\n",
    "        cluster_within_category=targets.shape[1] < setting[\"plot_cluster_max_size\"],\n",
    "        directory_path=path[\"w|hcc|match/\"],\n",
    "        plotly_directory_path=path[\"plotly|w_match/\"],\n",
    "        **make_match_panels_keyword_arguments,\n",
    "    )"
   ]
  },
  {
   "cell_type": "code",
   "execution_count": null,
   "metadata": {},
   "outputs": [],
   "source": [
    "if sample_data is not None:\n",
    "\n",
    "    targets = pd.read_table(path[\"h|cluster_x_column.tsv\"], index_col=0)\n",
    "\n",
    "    ccal.make_match_panels(\n",
    "        targets,\n",
    "        sample_data,\n",
    "        target_type=\"binary\",\n",
    "        cluster_within_category=targets.shape[1] < setting[\"plot_cluster_max_size\"],\n",
    "        directory_path=path[\"h|hcc|match/\"],\n",
    "        plotly_directory_path=path[\"plotly|h_match/\"],\n",
    "        **make_match_panels_keyword_arguments,\n",
    "    )"
   ]
  }
 ],
 "metadata": {
  "kernelspec": {
   "display_name": "Python 3",
   "language": "python",
   "name": "python3"
  },
  "language_info": {
   "codemirror_mode": {
    "name": "ipython",
    "version": 3
   },
   "file_extension": ".py",
   "mimetype": "text/x-python",
   "name": "python",
   "nbconvert_exporter": "python",
   "pygments_lexer": "ipython3",
   "version": "3.6.7"
  }
 },
 "nbformat": 4,
 "nbformat_minor": 2
}
