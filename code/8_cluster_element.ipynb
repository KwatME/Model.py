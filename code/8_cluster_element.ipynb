{
 "cells": [
  {
   "cell_type": "code",
   "execution_count": null,
   "metadata": {
    "ExecuteTime": {
     "end_time": "2018-07-06T19:27:09.695630Z",
     "start_time": "2018-07-06T19:27:09.679688Z"
    }
   },
   "outputs": [],
   "source": [
    "%load_ext autoreload\n",
    "%autoreload 2"
   ]
  },
  {
   "cell_type": "code",
   "execution_count": null,
   "metadata": {
    "ExecuteTime": {
     "end_time": "2018-07-06T18:37:38.413000Z",
     "start_time": "2018-07-06T18:37:36.654831Z"
    }
   },
   "outputs": [],
   "source": [
    "from environment import *\n",
    "\n",
    "with open(\"setting.yaml\") as yaml_file:\n",
    "\n",
    "    SETTING = yaml.load(yaml_file)\n",
    "\n",
    "PATH = make_path_dict(SETTING)"
   ]
  },
  {
   "cell_type": "code",
   "execution_count": null,
   "metadata": {
    "ExecuteTime": {
     "end_time": "2018-07-06T19:27:11.455441Z",
     "start_time": "2018-07-06T19:27:11.406230Z"
    }
   },
   "outputs": [],
   "source": [
    "w = pd.read_csv(PATH[\"w.tsv\"], sep=\"\\t\", index_col=0)\n",
    "\n",
    "w.columns.name = \"Factor\"\n",
    "\n",
    "h = pd.read_csv(PATH[\"h.tsv\"], sep=\"\\t\", index_col=0)\n",
    "\n",
    "h.columns.name = SETTING[\"sample_alias\"]"
   ]
  },
  {
   "cell_type": "code",
   "execution_count": null,
   "metadata": {
    "ExecuteTime": {
     "end_time": "2018-07-06T19:39:55.046724Z",
     "start_time": "2018-07-06T19:27:15.475772Z"
    }
   },
   "outputs": [],
   "source": [
    "for w_or_h, dataframe in ((\"w\", w.T), (\"h\", h)):\n",
    "\n",
    "    k_hcc = ccal.hierarchical_consensus_cluster_with_ks(\n",
    "        dataframe,\n",
    "        SETTING[\"hcc_ks\"],\n",
    "        1,\n",
    "        n_job=SETTING[\"n_job\"],\n",
    "        distance_function=ccal.compute_correlation_distance_between_2_1d_arrays,\n",
    "        n_clustering=SETTING[\"hcc_n_clustering\"],\n",
    "        plot_dataframe=dataframe.shape[1] < SETTING[\"plot_cluster_max_size\"],\n",
    "        directory_path=PATH[\"{}|hcc/\".format(w_or_h)],\n",
    "    )"
   ]
  },
  {
   "cell_type": "code",
   "execution_count": null,
   "metadata": {},
   "outputs": [],
   "source": [
    "w_or_h = \"w\"\n",
    "\n",
    "new_clusters = ()"
   ]
  },
  {
   "cell_type": "code",
   "execution_count": null,
   "metadata": {},
   "outputs": [],
   "source": [
    "if len(new_clusters):\n",
    "\n",
    "    cluster_x_element = pd.read_csv(\n",
    "        PATH[\"{}|cluster_x_element.tsv\".format(w_or_h)], sep=\"\\t\", index_col=0\n",
    "    )\n",
    "\n",
    "    print(cluster_x_element.index)\n",
    "\n",
    "    if (\n",
    "        cluster_x_element.index.str.lstrip(\"C\").astype(int).sort_values()\n",
    "        == cluster_x_element.index.str.lstrip(\"C\").astype(int)\n",
    "    ).all():\n",
    "\n",
    "        cluster_x_element.index = pd.Index(\n",
    "            (\"C{}\".format(i) for i in new_clusters), name=cluster_x_element.index.name\n",
    "        )\n",
    "\n",
    "        ccal.clean_and_write_dataframe_to_tsv(\n",
    "            cluster_x_element,\n",
    "            cluster_x_element.index.name,\n",
    "            PATH[\"{}|cluster_x_element.tsv\".format(w_or_h)],\n",
    "        )\n",
    "\n",
    "        print(cluster_x_element.index)\n",
    "\n",
    "    else:\n",
    "\n",
    "        print(\"Indices may be already updated.\")"
   ]
  }
 ],
 "metadata": {
  "kernelspec": {
   "display_name": "Python 3",
   "language": "python",
   "name": "python3"
  },
  "language_info": {
   "codemirror_mode": {
    "name": "ipython",
    "version": 3
   },
   "file_extension": ".py",
   "mimetype": "text/x-python",
   "name": "python",
   "nbconvert_exporter": "python",
   "pygments_lexer": "ipython3",
   "version": "3.6.7"
  }
 },
 "nbformat": 4,
 "nbformat_minor": 2
}
