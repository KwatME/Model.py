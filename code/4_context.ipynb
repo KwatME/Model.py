{
 "cells": [
  {
   "cell_type": "code",
   "execution_count": null,
   "metadata": {
    "ExecuteTime": {
     "end_time": "2018-07-06T10:05:23.970019Z",
     "start_time": "2018-07-06T10:05:23.955799Z"
    }
   },
   "outputs": [],
   "source": [
    "%load_ext autoreload\n",
    "%autoreload 2"
   ]
  },
  {
   "cell_type": "code",
   "execution_count": null,
   "metadata": {
    "ExecuteTime": {
     "end_time": "2018-07-06T20:13:16.628911Z",
     "start_time": "2018-07-06T20:13:14.935143Z"
    }
   },
   "outputs": [],
   "source": [
    "from environment import *\n",
    "\n",
    "with open(\"setting.yaml\") as yaml_file:\n",
    "\n",
    "    setting = yaml.load(yaml_file)\n",
    "\n",
    "path = make_path_dict(setting)"
   ]
  },
  {
   "cell_type": "code",
   "execution_count": null,
   "metadata": {
    "ExecuteTime": {
     "end_time": "2018-07-06T10:05:27.241422Z",
     "start_time": "2018-07-06T10:05:25.673877Z"
    }
   },
   "outputs": [],
   "source": [
    "feature_x_sample_processed = pd.read_table(\n",
    "    path[\"feature_x_sample.processed.tsv\"], index_col=0\n",
    ")"
   ]
  },
  {
   "cell_type": "code",
   "execution_count": null,
   "metadata": {
    "ExecuteTime": {
     "end_time": "2018-07-06T10:05:56.142744Z",
     "start_time": "2018-07-06T10:05:27.244038Z"
    }
   },
   "outputs": [],
   "source": [
    "for element_type in (\"feature\", \"sample\"):\n",
    "\n",
    "    if element_type == \"feature\":\n",
    "\n",
    "        df = feature_x_sample_processed\n",
    "\n",
    "    elif element_type == \"sample\":\n",
    "\n",
    "        df = feature_x_sample_processed.T\n",
    "\n",
    "    element_x_fit_parameter_file_path = path[\n",
    "        \"{}_x_fit_parameter.tsv\".format(element_type)\n",
    "    ]\n",
    "\n",
    "    element_x_fit_parameter = pd.read_table(\n",
    "        element_x_fit_parameter_file_path, index_col=0\n",
    "    )\n",
    "\n",
    "    context_file_path = path[\"feature_x_sample.{}_context.tsv\".format(element_type)]\n",
    "\n",
    "    context = ccal.make_context_matrix(\n",
    "        df,\n",
    "        n_job=setting[\"max_n_job\"],\n",
    "        skew_t_pdf_fit_parameter=element_x_fit_parameter,\n",
    "        output_file_path=context_file_path,\n",
    "    )\n",
    "\n",
    "    context = pd.read_table(context_file_path, index_col=0)\n",
    "\n",
    "    element_alias = setting[\"{}_alias\".format(element_type)]\n",
    "\n",
    "    ccal.summarize_feature_x_sample(\n",
    "        context,\n",
    "        feature_x_sample_alias=\"{} Context Matrix\".format(element_alias),\n",
    "        feature_alias=setting[\"feature_alias\"],\n",
    "        sample_alias=setting[\"sample_alias\"],\n",
    "        feature_x_sample_value_name=\"Context\",\n",
    "        plot_heat_map_max_size=setting[\"plot_heat_map_max_size\"],\n",
    "        plot_distributions_max_size=setting[\"plot_distributions_max_size\"],\n",
    "        plot_rug_max_size=setting[\"plot_rug_max_size\"],\n",
    "    )\n",
    "\n",
    "    for context_type in (\"negative\", \"positive\"):\n",
    "\n",
    "        if context_type == \"negative\":\n",
    "\n",
    "            clip_keyword_argument = {\"upper\": 0}\n",
    "\n",
    "        elif context_type == \"positive\":\n",
    "\n",
    "            clip_keyword_argument = {\"lower\": 0}\n",
    "\n",
    "        element_context = (\n",
    "            context.clip(**clip_keyword_argument).sum(axis=1).sort_values()\n",
    "        )\n",
    "\n",
    "        elements_to_peek = setting[\"{}s_to_peek\".format(element_type)]\n",
    "\n",
    "        if elements_to_peek is None:\n",
    "\n",
    "            ranks = []\n",
    "\n",
    "        else:\n",
    "\n",
    "            ranks = np.nonzero(\n",
    "                [element in elements_to_peek for element in element_context.index]\n",
    "            )[0]\n",
    "\n",
    "        ccal.plot_points(\n",
    "            (tuple(range(element_context.size)), ranks),\n",
    "            (element_context, element_context[ranks]),\n",
    "            names=(\"All\", \"Peek\"),\n",
    "            texts=(element_context.index, element_context.index[ranks]),\n",
    "            modes=(\"markers\", \"markers+text\"),\n",
    "            title=\"{} Ranking by {} Context Sum\".format(\n",
    "                element_alias, context_type.title()\n",
    "            ),\n",
    "            xaxis_title=\"Rank\",\n",
    "            yaxis_title=\"{} Context Sum\".format(context_type.title()),\n",
    "        )\n",
    "\n",
    "        if 1 < element_context.unique().size:\n",
    "\n",
    "            n_extreme = 3\n",
    "\n",
    "            if context_type == \"negative\":\n",
    "\n",
    "                ranks = range(n_extreme)\n",
    "\n",
    "            elif context_type == \"positive\":\n",
    "\n",
    "                ranks = range(-n_extreme, 0)\n",
    "\n",
    "            for rank in ranks:\n",
    "\n",
    "                ranked_element = element_context.index[rank]\n",
    "\n",
    "                ranked_element_values = df.loc[ranked_element]\n",
    "\n",
    "                n_data, location, scale, degree_of_freedom, shape = element_x_fit_parameter.loc[\n",
    "                    ranked_element,\n",
    "                    [\"N Data\", \"Location\", \"Scale\", \"Degree of Freedom\", \"Shape\"],\n",
    "                ]\n",
    "\n",
    "                ccal.plot_context(\n",
    "                    ranked_element_values,\n",
    "                    n_data=n_data,\n",
    "                    location=location,\n",
    "                    scale=scale,\n",
    "                    degree_of_freedom=degree_of_freedom,\n",
    "                    shape=shape,\n",
    "                    plot_rug=ranked_element_values.dropna().size\n",
    "                    < setting[\"plot_rug_max_size\"],\n",
    "                    title=\"{} {} Context Sum Rank {}: {}\".format(\n",
    "                        element_alias, context_type.title(), rank, ranked_element\n",
    "                    ),\n",
    "                    xaxis_title=setting[\"feature_x_sample_value_name\"],\n",
    "                )"
   ]
  }
 ],
 "metadata": {
  "kernelspec": {
   "display_name": "Python 3",
   "language": "python",
   "name": "python3"
  },
  "language_info": {
   "codemirror_mode": {
    "name": "ipython",
    "version": 3
   },
   "file_extension": ".py",
   "mimetype": "text/x-python",
   "name": "python",
   "nbconvert_exporter": "python",
   "pygments_lexer": "ipython3",
   "version": "3.6.7"
  }
 },
 "nbformat": 4,
 "nbformat_minor": 2
}
