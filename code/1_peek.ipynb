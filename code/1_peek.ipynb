{
 "cells": [
  {
   "cell_type": "code",
   "execution_count": null,
   "metadata": {
    "ExecuteTime": {
     "end_time": "2018-07-06T09:45:59.082459Z",
     "start_time": "2018-07-06T09:45:59.061254Z"
    }
   },
   "outputs": [],
   "source": [
    "%load_ext autoreload\n",
    "%autoreload 2"
   ]
  },
  {
   "cell_type": "code",
   "execution_count": null,
   "metadata": {
    "ExecuteTime": {
     "end_time": "2018-07-06T20:13:16.628911Z",
     "start_time": "2018-07-06T20:13:14.935143Z"
    }
   },
   "outputs": [],
   "source": [
    "from environment import *\n",
    "from setting import *"
   ]
  },
  {
   "cell_type": "code",
   "execution_count": null,
   "metadata": {
    "ExecuteTime": {
     "end_time": "2018-07-06T09:46:02.310765Z",
     "start_time": "2018-07-06T09:46:00.741927Z"
    }
   },
   "outputs": [],
   "source": [
    "feature_x_sample_processed = pd.read_table(\n",
    "    PATH_DICT[\"feature_x_sample.processed.tsv\"], index_col=0\n",
    ")"
   ]
  },
  {
   "cell_type": "code",
   "execution_count": null,
   "metadata": {
    "ExecuteTime": {
     "end_time": "2018-07-06T09:46:25.224361Z",
     "start_time": "2018-07-06T09:46:02.313022Z"
    }
   },
   "outputs": [],
   "source": [
    "for element_type in (\"feature\", \"sample\"):\n",
    "\n",
    "    if element_type == \"feature\":\n",
    "\n",
    "        df = feature_x_sample_processed\n",
    "\n",
    "        elements_to_peek = FEATURES_TO_PEEK\n",
    "\n",
    "    elif element_type == \"sample\":\n",
    "\n",
    "        df = feature_x_sample_processed.T\n",
    "\n",
    "        elements_to_peek = SAMPLES_TO_PEEK\n",
    "\n",
    "    for element in df.index & elements_to_peek:\n",
    "\n",
    "        element_values = df.loc[element]\n",
    "\n",
    "        ccal.plot_context(\n",
    "            element_values,\n",
    "            plot_rug=element_values.dropna().size < PLOT_MAX_SIZE ** 0.5,\n",
    "            xaxis_title=FEATURE_X_SAMPLE_VALUE_NAME,\n",
    "        )"
   ]
  }
 ],
 "metadata": {
  "kernelspec": {
   "display_name": "Python 3",
   "language": "python",
   "name": "python3"
  },
  "language_info": {
   "codemirror_mode": {
    "name": "ipython",
    "version": 3
   },
   "file_extension": ".py",
   "mimetype": "text/x-python",
   "name": "python",
   "nbconvert_exporter": "python",
   "pygments_lexer": "ipython3",
   "version": "3.6.7"
  }
 },
 "nbformat": 4,
 "nbformat_minor": 2
}
