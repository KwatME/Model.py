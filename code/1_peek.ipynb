{
 "cells": [
  {
   "cell_type": "code",
   "execution_count": null,
   "metadata": {
    "ExecuteTime": {
     "end_time": "2018-07-06T09:45:59.082459Z",
     "start_time": "2018-07-06T09:45:59.061254Z"
    }
   },
   "outputs": [],
   "source": [
    "%load_ext autoreload\n",
    "\n",
    "%autoreload 2"
   ]
  },
  {
   "cell_type": "code",
   "execution_count": null,
   "metadata": {
    "ExecuteTime": {
     "end_time": "2018-07-06T20:13:16.628911Z",
     "start_time": "2018-07-06T20:13:14.935143Z"
    }
   },
   "outputs": [],
   "source": [
    "from environment import *\n",
    "\n",
    "import setting as setting\n",
    "\n",
    "path_dict = path(setting)"
   ]
  },
  {
   "cell_type": "code",
   "execution_count": null,
   "metadata": {
    "ExecuteTime": {
     "end_time": "2018-07-06T09:46:02.310765Z",
     "start_time": "2018-07-06T09:46:00.741927Z"
    }
   },
   "outputs": [],
   "source": [
    "feature_x_sample = pd.read_table(\n",
    "    path_dict['feature_x_sample_file_path'],\n",
    "    index_col=0,\n",
    ")"
   ]
  },
  {
   "cell_type": "code",
   "execution_count": null,
   "metadata": {
    "ExecuteTime": {
     "end_time": "2018-07-06T09:46:25.224361Z",
     "start_time": "2018-07-06T09:46:02.313022Z"
    }
   },
   "outputs": [],
   "source": [
    "for element in (\n",
    "    'feature',\n",
    "    'sample',\n",
    "):\n",
    "\n",
    "    if element == 'feature':\n",
    "\n",
    "        df = feature_x_sample\n",
    "\n",
    "        to_peek = setting.FEATURES_TO_PEEK\n",
    "\n",
    "    elif element == 'sample':\n",
    "\n",
    "        df = feature_x_sample.T\n",
    "\n",
    "        to_peek = setting.SAMPLES_TO_PEEK\n",
    "\n",
    "    for index in df.index & to_peek:\n",
    "        \n",
    "        series = df.loc[index]\n",
    "\n",
    "        ccal.plot_context(\n",
    "            series,\n",
    "            scale_with_kl=setting.SCALE_WITH_KL,\n",
    "            plot_rug=series.dropna().size < 1e3,\n",
    "            title=index,\n",
    "        )"
   ]
  }
 ],
 "metadata": {
  "kernelspec": {
   "display_name": "Python 3",
   "language": "python",
   "name": "python3"
  },
  "language_info": {
   "codemirror_mode": {
    "name": "ipython",
    "version": 3
   },
   "file_extension": ".py",
   "mimetype": "text/x-python",
   "name": "python",
   "nbconvert_exporter": "python",
   "pygments_lexer": "ipython3",
   "version": "3.6.6"
  }
 },
 "nbformat": 4,
 "nbformat_minor": 2
}
