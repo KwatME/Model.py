{
 "cells": [
  {
   "cell_type": "code",
   "execution_count": null,
   "metadata": {
    "ExecuteTime": {
     "end_time": "2018-06-16T06:13:13.620196Z",
     "start_time": "2018-06-16T06:13:13.608154Z"
    }
   },
   "outputs": [],
   "source": [
    "%load_ext autoreload\n",
    "%autoreload 2"
   ]
  },
  {
   "cell_type": "code",
   "execution_count": null,
   "metadata": {
    "ExecuteTime": {
     "end_time": "2018-06-16T06:13:15.214477Z",
     "start_time": "2018-06-16T06:13:13.621995Z"
    }
   },
   "outputs": [],
   "source": [
    "from environment import *\n",
    "\n",
    "import analysis as a\n",
    "\n",
    "p = make_paths(a)"
   ]
  },
  {
   "cell_type": "code",
   "execution_count": null,
   "metadata": {
    "ExecuteTime": {
     "end_time": "2018-06-16T06:13:15.306555Z",
     "start_time": "2018-06-16T06:13:15.216569Z"
    }
   },
   "outputs": [],
   "source": [
    "h_hcc__k_x_column = pd.read_table(\n",
    "    p['h_hcc__k_x_column_file_path'], index_col=0)\n",
    "\n",
    "state_x_sample = ccal.make_membership_df_from_categorical_series(\n",
    "    h_hcc__k_x_column.loc['K{}'.format(a.H_HCC_K)])\n",
    "\n",
    "state_x_sample.index = ('S{}'.format(i) for i in state_x_sample.index)\n",
    "\n",
    "state_x_sample"
   ]
  },
  {
   "cell_type": "code",
   "execution_count": null,
   "metadata": {
    "ExecuteTime": {
     "end_time": "2018-06-16T06:13:31.960065Z",
     "start_time": "2018-06-16T06:13:15.308288Z"
    }
   },
   "outputs": [],
   "source": [
    "feature_dicts = make_feature_dicts()"
   ]
  },
  {
   "cell_type": "code",
   "execution_count": null,
   "metadata": {
    "ExecuteTime": {
     "end_time": "2018-06-16T07:00:10.965034Z",
     "start_time": "2018-06-16T06:13:31.962098Z"
    },
    "scrolled": false
   },
   "outputs": [],
   "source": [
    "wt_or_h = 'h'\n",
    "\n",
    "targets = state_x_sample\n",
    "\n",
    "ccal.make_match_panels(\n",
    "    ((targets).iloc[i] for i in range(targets.shape[0])),\n",
    "    feature_dicts,\n",
    "    n_job=1,\n",
    "    extreme_feature_threshold=16,\n",
    "    target_type='binary',\n",
    "    directory_path=p['{}_hcc_match_directory_path'.format(wt_or_h)],\n",
    "    plotly_directory_path=p['{}_match_plotly_directory_path'.format(wt_or_h)])"
   ]
  }
 ],
 "metadata": {
  "kernelspec": {
   "display_name": "Python [default]",
   "language": "python",
   "name": "python3"
  },
  "language_info": {
   "codemirror_mode": {
    "name": "ipython",
    "version": 3
   },
   "file_extension": ".py",
   "mimetype": "text/x-python",
   "name": "python",
   "nbconvert_exporter": "python",
   "pygments_lexer": "ipython3",
   "version": "3.6.5"
  }
 },
 "nbformat": 4,
 "nbformat_minor": 2
}
