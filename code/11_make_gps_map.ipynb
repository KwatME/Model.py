{
 "cells": [
  {
   "cell_type": "code",
   "execution_count": null,
   "metadata": {
    "ExecuteTime": {
     "end_time": "2018-07-08T02:00:18.270535Z",
     "start_time": "2018-07-08T02:00:17.409834Z"
    }
   },
   "outputs": [],
   "source": [
    "%load_ext autoreload\n",
    "%autoreload 2"
   ]
  },
  {
   "cell_type": "code",
   "execution_count": null,
   "metadata": {
    "ExecuteTime": {
     "end_time": "2018-07-06T18:37:38.413000Z",
     "start_time": "2018-07-06T18:37:36.654831Z"
    }
   },
   "outputs": [],
   "source": [
    "from environment import *\n",
    "\n",
    "with open(\"setting.yaml\") as :\n",
    "\n",
    "    SETTING = yaml.load()\n",
    "\n",
    "PATH = make_path_dict(SETTING)"
   ]
  },
  {
   "cell_type": "code",
   "execution_count": null,
   "metadata": {
    "ExecuteTime": {
     "end_time": "2018-07-08T02:00:18.692012Z",
     "start_time": "2018-07-08T02:00:18.309427Z"
    }
   },
   "outputs": [],
   "source": [
    "w = pd.read_csv(PATH[\"w.tsv\"], sep=\"\\t\", index_col=0)\n",
    "\n",
    "w.columns.name = \"Factor\"\n",
    "\n",
    "h = pd.read_csv(PATH[\"h.tsv\"], sep=\"\\t\", index_col=0)\n",
    "\n",
    "h.columns.name = SETTING[\"sample_alias\"]"
   ]
  },
  {
   "cell_type": "code",
   "execution_count": null,
   "metadata": {
    "ExecuteTime": {
     "end_time": "2018-07-08T02:00:18.716327Z",
     "start_time": "2018-07-08T02:00:18.694100Z"
    }
   },
   "outputs": [],
   "source": [
    "for feature_type, w_or_h, dataframe, apply_axis, drop_axis in (\n",
    "    (\"feature\", \"w\", w, 1, 0),\n",
    "    (\"sample\", \"h\", h, 0, 1),\n",
    "):\n",
    "\n",
    "    if SETTING[f\"gps_map_caotic_{w_or_h}_element_fraction_to_drop\"] is not None:\n",
    "\n",
    "        print(f\"{w_or_h.title()} shape before: {dataframe.shape}\")\n",
    "\n",
    "        element_entropy = dataframe.apply(kraft.compute_entropy, axis=apply_axis)\n",
    "\n",
    "        dataframe.drop(\n",
    "            kraft.select_series_indices(\n",
    "                element_entropy,\n",
    "                \">\",\n",
    "                fraction=SETTING[f\"gps_map_caotic_{w_or_h}_element_fraction_to_drop\"],\n",
    "                title={\"text\": SETTING[f\"{feature_type}_alias\"]},\n",
    "                xaxis={\"title\": \"Rank\"},\n",
    "                yaxis={\"title\": f\"Entropy in {w_or_h.title()}\"},\n",
    "            ),\n",
    "            axis=drop_axis,\n",
    "            inplace=True,\n",
    "        )\n",
    "\n",
    "        print(f\"{w_or_h.title()} shape after: {dataframe.shape}\")"
   ]
  },
  {
   "cell_type": "code",
   "execution_count": null,
   "metadata": {},
   "outputs": [],
   "source": [
    "gps_map = kraft.GPSMap(\n",
    "    w=w.T,\n",
    "    h=h,\n",
    "    w_n_pull=SETTING[\"gps_map_w_n_pull\"],\n",
    "    w_pull_power=SETTING[\"gps_map_w_pull_power\"],\n",
    "    h_n_pull=SETTING[\"gps_map_h_n_pull\"],\n",
    "    h_pull_power=SETTING[\"gps_map_h_pull_power\"],\n",
    "    plot=False,\n",
    ")"
   ]
  },
  {
   "cell_type": "code",
   "execution_count": null,
   "metadata": {},
   "outputs": [],
   "source": [
    "for element_type, w_or_h, elements in (\n",
    "    (\"feature\", \"w\", gps_map.w_elements),\n",
    "    (\"sample\", \"h\", gps_map.h_elements),\n",
    "):\n",
    "\n",
    "    if elements is None:\n",
    "\n",
    "        continue\n",
    "\n",
    "    title = f\"{SETTING[f'{element_type}_alias']} on GPS Map\"\n",
    "\n",
    "    gps_map.plot(\n",
    "        w_or_h,\n",
    "        element_marker_size=SETTING[f\"gps_map_{w_or_h}_element_marker_size\"],\n",
    "        title=title,\n",
    "        html_file_path=os.path.join(PATH[f\"{w_or_h}|gps_map/\"], \"gps_map.html\"),\n",
    "    )\n",
    "\n",
    "    if os.path.isfile(PATH[f\"{w_or_h}|cluster_x_element.tsv\"]):\n",
    "\n",
    "        gps_map.set_element_label(\n",
    "            w_or_h,\n",
    "            pd.read_csv(PATH[f\"{w_or_h}|cluster_x_element.tsv\"], sep=\"\\t\", index_col=0)\n",
    "            .apply(lambda column: column.idxmax())\n",
    "            .str[len(\"Cluster\") :]\n",
    "            .astype(int)[elements],\n",
    "            bandwidth_factor=SETTING[f\"gps_map_{w_or_h}_bandwidth_factor\"],\n",
    "        )\n",
    "\n",
    "        gps_map.plot(\n",
    "            w_or_h,\n",
    "            element_marker_size=SETTING[f\"gps_map_{w_or_h}_element_marker_size\"],\n",
    "            title=title,\n",
    "            html_file_path=os.path.join(PATH[f\"{w_or_h}|hcc|gps_map/\"], \"gps_map.html\"),\n",
    "        )"
   ]
  },
  {
   "cell_type": "code",
   "execution_count": null,
   "metadata": {},
   "outputs": [],
   "source": [
    "kraft.write_gps_map(gps_map, PATH[\"gps_map.pickle.gz\"])"
   ]
  }
 ],
 "metadata": {
  "kernelspec": {
   "display_name": "Python 3",
   "language": "python",
   "name": "python3"
  },
  "language_info": {
   "codemirror_mode": {
    "name": "ipython",
    "version": 3
   },
   "file_extension": ".py",
   "mimetype": "text/x-python",
   "name": "python",
   "nbconvert_exporter": "python",
   "pygments_lexer": "ipython3",
   "version": "3.6.7"
  }
 },
 "nbformat": 4,
 "nbformat_minor": 2
}
