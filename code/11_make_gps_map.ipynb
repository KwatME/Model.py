{
 "cells": [
  {
   "cell_type": "code",
   "execution_count": null,
   "metadata": {
    "ExecuteTime": {
     "end_time": "2018-07-08T02:00:18.270535Z",
     "start_time": "2018-07-08T02:00:17.409834Z"
    }
   },
   "outputs": [],
   "source": [
    "%load_ext autoreload\n",
    "%autoreload 2"
   ]
  },
  {
   "cell_type": "code",
   "execution_count": null,
   "metadata": {
    "ExecuteTime": {
     "end_time": "2018-07-06T18:37:38.413000Z",
     "start_time": "2018-07-06T18:37:36.654831Z"
    }
   },
   "outputs": [],
   "source": [
    "from environment import *\n",
    "\n",
    "PROJECT_JSON = kraft.read_json(\"../project.json\")\n",
    "\n",
    "PATH = make_path_dict(PROJECT_JSON)"
   ]
  },
  {
   "cell_type": "code",
   "execution_count": null,
   "metadata": {
    "ExecuteTime": {
     "end_time": "2018-07-08T02:00:18.692012Z",
     "start_time": "2018-07-08T02:00:18.309427Z"
    }
   },
   "outputs": [],
   "source": [
    "w = pd.read_csv(PATH[\"w.tsv\"], sep=\"\\t\", index_col=0)\n",
    "\n",
    "w.columns.name = \"Factor\"\n",
    "\n",
    "h = pd.read_csv(PATH[\"h.tsv\"], sep=\"\\t\", index_col=0)\n",
    "\n",
    "h.columns.name = PROJECT_JSON[\"sample_alias\"]"
   ]
  },
  {
   "cell_type": "code",
   "execution_count": null,
   "metadata": {
    "ExecuteTime": {
     "end_time": "2018-07-08T02:00:18.716327Z",
     "start_time": "2018-07-08T02:00:18.694100Z"
    }
   },
   "outputs": [],
   "source": [
    "for feature_type, w_or_h, dataframe, apply_axis, drop_axis in (\n",
    "    (\"feature\", \"w\", w, 1, 0),\n",
    "    (\"sample\", \"h\", h, 0, 1),\n",
    "):\n",
    "\n",
    "    if (\n",
    "        PROJECT_JSON[\"gps_map_caotic_{}_element_fraction_to_drop\".format(w_or_h)]\n",
    "        is not None\n",
    "    ):\n",
    "\n",
    "        dataframe_shape_before = dataframe.shape\n",
    "\n",
    "        element_entropy = dataframe.apply(kraft.compute_vector_entropy, axis=apply_axis)\n",
    "\n",
    "        dataframe.drop(\n",
    "            kraft.select_series_indices(\n",
    "                element_entropy,\n",
    "                \">\",\n",
    "                fraction=PROJECT_JSON[\n",
    "                    \"gps_map_caotic_{}_element_fraction_to_drop\".format(w_or_h)\n",
    "                ],\n",
    "                title={\"text\": PROJECT_JSON[\"{}_alias\".format(feature_type)]},\n",
    "                xaxis={\"title\": \"Rank\"},\n",
    "                yaxis={\"title\": \"Entropy in {}\".format(w_or_h.title())},\n",
    "            ),\n",
    "            axis=drop_axis,\n",
    "            inplace=True,\n",
    "        )\n",
    "\n",
    "        print(\n",
    "            \"{} shape: {} ==> {}.\".format(\n",
    "                w_or_h.title(), dataframe_shape_before, dataframe.shape\n",
    "            )\n",
    "        )"
   ]
  },
  {
   "cell_type": "code",
   "execution_count": null,
   "metadata": {},
   "outputs": [],
   "source": [
    "gps_map = kraft.GPSMap(\n",
    "    w=w.T,\n",
    "    h=h,\n",
    "    w_n_pull=PROJECT_JSON[\"gps_map_w_n_pull\"],\n",
    "    w_pull_power=PROJECT_JSON[\"gps_map_w_pull_power\"],\n",
    "    h_n_pull=PROJECT_JSON[\"gps_map_h_n_pull\"],\n",
    "    h_pull_power=PROJECT_JSON[\"gps_map_h_pull_power\"],\n",
    "    plot=False,\n",
    ")"
   ]
  },
  {
   "cell_type": "code",
   "execution_count": null,
   "metadata": {},
   "outputs": [],
   "source": [
    "for element_type, w_or_h, elements in (\n",
    "    (\"feature\", \"w\", gps_map.w_elements),\n",
    "    (\"sample\", \"h\", gps_map.h_elements),\n",
    "):\n",
    "\n",
    "    if elements is None:\n",
    "\n",
    "        continue\n",
    "\n",
    "    title = \"GPS Map with {} {}s\".format(\n",
    "        len(elements), PROJECT_JSON[\"{}_alias\".format(element_type)]\n",
    "    )\n",
    "\n",
    "    gps_map.plot(\n",
    "        w_or_h,\n",
    "        element_marker_size=PROJECT_JSON[\n",
    "            \"gps_map_{}_element_marker_size\".format(w_or_h)\n",
    "        ],\n",
    "        title=title,\n",
    "        html_file_path=os.path.join(PATH[\"{}|gps_map/\".format(w_or_h)], \"gps_map.html\"),\n",
    "    )\n",
    "\n",
    "    if os.path.isfile(PATH[\"{}|cluster_x_element.tsv\".format(w_or_h)]):\n",
    "\n",
    "        element_cluster = pd.read_csv(\n",
    "            PATH[\"{}|cluster_x_element.tsv\".format(w_or_h)], sep=\"\\t\", index_col=0\n",
    "        ).apply(lambda column: column.idxmax())\n",
    "\n",
    "        cluster_n = element_cluster.value_counts()\n",
    "\n",
    "        gps_map.set_element_label(\n",
    "            w_or_h,\n",
    "            element_cluster.map(\n",
    "                (cluster_n.size - cluster_n.rank(method=\"first\").astype(int)).to_dict()\n",
    "            ),\n",
    "            bandwidth_factor=PROJECT_JSON[\"gps_map_{}_bandwidth_factor\".format(w_or_h)],\n",
    "        )\n",
    "\n",
    "        gps_map.plot(\n",
    "            w_or_h,\n",
    "            element_marker_size=PROJECT_JSON[\n",
    "                \"gps_map_{}_element_marker_size\".format(w_or_h)\n",
    "            ],\n",
    "            title=title,\n",
    "            html_file_path=os.path.join(\n",
    "                PATH[\"{}|hcc|gps_map/\".format(w_or_h)], \"gps_map.html\"\n",
    "            ),\n",
    "        )"
   ]
  },
  {
   "cell_type": "code",
   "execution_count": null,
   "metadata": {},
   "outputs": [],
   "source": [
    "kraft.write_gps_map(gps_map, PATH[\"gps_map.pickle.gz\"])"
   ]
  },
  {
   "cell_type": "code",
   "execution_count": null,
   "metadata": {},
   "outputs": [],
   "source": [
    "for element_type, w_or_h, elements in (\n",
    "    (\"feature\", \"w\", gps_map.w_elements),\n",
    "    (\"sample\", \"h\", gps_map.h_elements),\n",
    "):\n",
    "\n",
    "    element_value = pd.Series(0, index=elements)\n",
    "\n",
    "    element_value[\n",
    "        element_value.index & PROJECT_JSON[\"{}s_to_peek\".format(element_type)]\n",
    "    ] = 1\n",
    "\n",
    "    if element_value.any():\n",
    "\n",
    "        gps_map.plot(\n",
    "            w_or_h,\n",
    "            annotation_x_element=element_value.to_frame().T,\n",
    "            element_marker_size=PROJECT_JSON[\n",
    "                \"gps_map_{}_element_marker_size\".format(w_or_h)\n",
    "            ],\n",
    "            highlight_binary=True,\n",
    "            title=\"GPS Map with {} {}s\".format(\n",
    "                len(elements), PROJECT_JSON[\"{}_alias\".format(element_type)]\n",
    "            ),\n",
    "            html_file_path=os.path.join(\n",
    "                PATH[\"{}|hcc|gps_map/\".format(w_or_h)], \"gps_map.peek.html\"\n",
    "            ),\n",
    "        )"
   ]
  }
 ],
 "metadata": {
  "@webio": {
   "lastCommId": null,
   "lastKernelId": null
  },
  "kernelspec": {
   "display_name": "Python 3",
   "language": "python",
   "name": "python3"
  },
  "language_info": {
   "codemirror_mode": {
    "name": "ipython",
    "version": 3
   },
   "file_extension": ".py",
   "mimetype": "text/x-python",
   "name": "python",
   "nbconvert_exporter": "python",
   "pygments_lexer": "ipython3",
   "version": "3.7.3"
  }
 },
 "nbformat": 4,
 "nbformat_minor": 4
}
