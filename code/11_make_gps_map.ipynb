{
 "cells": [
  {
   "cell_type": "code",
   "execution_count": null,
   "metadata": {
    "ExecuteTime": {
     "end_time": "2018-07-08T02:00:18.270535Z",
     "start_time": "2018-07-08T02:00:17.409834Z"
    }
   },
   "outputs": [],
   "source": [
    "%load_ext autoreload\n",
    "%autoreload 2"
   ]
  },
  {
   "cell_type": "code",
   "execution_count": null,
   "metadata": {
    "ExecuteTime": {
     "end_time": "2018-07-06T18:37:38.413000Z",
     "start_time": "2018-07-06T18:37:36.654831Z"
    }
   },
   "outputs": [],
   "source": [
    "from environment import *\n",
    "\n",
    "with open(\"setting.yaml\") as yaml_file:\n",
    "\n",
    "    SETTING = yaml.load(yaml_file)\n",
    "\n",
    "PATH = make_path_dict(SETTING)"
   ]
  },
  {
   "cell_type": "code",
   "execution_count": null,
   "metadata": {
    "ExecuteTime": {
     "end_time": "2018-07-08T02:00:18.692012Z",
     "start_time": "2018-07-08T02:00:18.309427Z"
    }
   },
   "outputs": [],
   "source": [
    "w = pd.read_csv(PATH[\"w.tsv\"], sep=\"\\t\", index_col=0)\n",
    "\n",
    "w.columns.name = \"Factor\"\n",
    "\n",
    "h = pd.read_csv(PATH[\"h.tsv\"], sep=\"\\t\", index_col=0)\n",
    "\n",
    "h.columns.name = SETTING[\"sample_alias\"]"
   ]
  },
  {
   "cell_type": "code",
   "execution_count": null,
   "metadata": {
    "ExecuteTime": {
     "end_time": "2018-07-08T02:00:18.716327Z",
     "start_time": "2018-07-08T02:00:18.694100Z"
    }
   },
   "outputs": [],
   "source": [
    "for feature_type, w_or_h, df, apply_axis, drop_axis in (\n",
    "    (\"feature\", \"w\", w, 1, 0),\n",
    "    (\"sample\", \"h\", h, 0, 1),\n",
    "):\n",
    "\n",
    "    if SETTING[\"gps_map_caotic_{}_element_fraction_to_drop\".format(w_or_h)] is not None:\n",
    "\n",
    "        print(\"{} shape before: {}\".format(w_or_h.title(), df.shape))\n",
    "\n",
    "        element_entropy = df.apply(ccal.compute_entropy, axis=apply_axis)\n",
    "\n",
    "        df.drop(\n",
    "            ccal.select_series_indices(\n",
    "                element_entropy,\n",
    "                \">\",\n",
    "                fraction=SETTING[\n",
    "                    \"gps_map_caotic_{}_element_fraction_to_drop\".format(w_or_h)\n",
    "                ],\n",
    "                title={\n",
    "                    \"text\": \"{} Ranking by Entropy in {}\".format(\n",
    "                        SETTING[\"{}_alias\".format(feature_type)], w_or_h.title()\n",
    "                    )\n",
    "                },\n",
    "                xaxis={\"title\": \"Rank\"},\n",
    "                yaxis={\"title\": \"Entropy\"},\n",
    "            ),\n",
    "            axis=drop_axis,\n",
    "            inplace=True,\n",
    "        )\n",
    "\n",
    "        print(\"{} shape after: {}\".format(w_or_h.title(), df.shape))"
   ]
  },
  {
   "cell_type": "code",
   "execution_count": null,
   "metadata": {},
   "outputs": [],
   "source": [
    "gps_map = ccal.GPSMap(\n",
    "    w=w.T,\n",
    "    h=h,\n",
    "    w_n_pull=SETTING[\"gps_map_w_n_pull\"],\n",
    "    w_pull_power=SETTING[\"gps_map_w_pull_power\"],\n",
    "    h_n_pull=SETTING[\"gps_map_h_n_pull\"],\n",
    "    h_pull_power=SETTING[\"gps_map_h_pull_power\"],\n",
    "    plot=False,\n",
    ")"
   ]
  },
  {
   "cell_type": "code",
   "execution_count": null,
   "metadata": {},
   "outputs": [],
   "source": [
    "for element_type, w_or_h, elements in (\n",
    "    (\"feature\", \"w\", gps_map.w_elements),\n",
    "    (\"sample\", \"h\", gps_map.h_elements),\n",
    "):\n",
    "\n",
    "    if elements is not None:\n",
    "\n",
    "        title = \"{} GPS Map\".format(SETTING[\"{}_alias\".format(element_type)])\n",
    "\n",
    "        gps_map.plot(\n",
    "            w_or_h,\n",
    "            element_marker_size=SETTING[\n",
    "                \"gps_map_{}_element_marker_size\".format(w_or_h)\n",
    "            ],\n",
    "            title=title,\n",
    "            html_file_path=os.path.join(\n",
    "                PATH[\"{}|gps_map/\".format(w_or_h)], \"gps_map.html\"\n",
    "            ),\n",
    "        )\n",
    "\n",
    "        if os.path.isfile(PATH[\"{}|cluster_x_element.tsv\".format(w_or_h)]):\n",
    "\n",
    "            gps_map.set_element_label(\n",
    "                w_or_h,\n",
    "                pd.read_csv(\n",
    "                    PATH[\"{}|cluster_x_element.tsv\".format(w_or_h)],\n",
    "                    sep=\"\\t\",\n",
    "                    index_col=0,\n",
    "                )\n",
    "                .apply(lambda column: column.idxmax())\n",
    "                .str[len(\"Cluster\") :]\n",
    "                .astype(int)[elements],\n",
    "                bandwidth_factor=SETTING[\"gps_map_{}_bandwidth_factor\".format(w_or_h)],\n",
    "            )\n",
    "\n",
    "            gps_map.plot(\n",
    "                w_or_h,\n",
    "                element_marker_size=SETTING[\n",
    "                    \"gps_map_{}_element_marker_size\".format(w_or_h)\n",
    "                ],\n",
    "                title=title,\n",
    "                html_file_path=os.path.join(\n",
    "                    PATH[\"{}|hcc|gps_map/\".format(w_or_h)], \"gps_map.html\"\n",
    "                ),\n",
    "            )"
   ]
  },
  {
   "cell_type": "code",
   "execution_count": null,
   "metadata": {},
   "outputs": [],
   "source": [
    "ccal.write_gps_map(gps_map, PATH[\"gps_map.pickle.gz\"])"
   ]
  }
 ],
 "metadata": {
  "kernelspec": {
   "display_name": "Python 3",
   "language": "python",
   "name": "python3"
  },
  "language_info": {
   "codemirror_mode": {
    "name": "ipython",
    "version": 3
   },
   "file_extension": ".py",
   "mimetype": "text/x-python",
   "name": "python",
   "nbconvert_exporter": "python",
   "pygments_lexer": "ipython3",
   "version": "3.6.7"
  }
 },
 "nbformat": 4,
 "nbformat_minor": 2
}
