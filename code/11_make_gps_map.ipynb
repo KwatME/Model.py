{
 "cells": [
  {
   "cell_type": "code",
   "execution_count": null,
   "metadata": {
    "ExecuteTime": {
     "end_time": "2018-07-08T02:00:18.270535Z",
     "start_time": "2018-07-08T02:00:17.409834Z"
    }
   },
   "outputs": [],
   "source": [
    "# cleaning...%load_ext autoreload\n",
    "# cleaning...%autoreload 2"
   ]
  },
  {
   "cell_type": "code",
   "execution_count": null,
   "metadata": {
    "ExecuteTime": {
     "end_time": "2018-07-06T20:13:16.628911Z",
     "start_time": "2018-07-06T20:13:14.935143Z"
    }
   },
   "outputs": [],
   "source": [
    "from __init__ import *"
   ]
  },
  {
   "cell_type": "code",
   "execution_count": null,
   "metadata": {
    "ExecuteTime": {
     "end_time": "2018-07-08T02:00:18.692012Z",
     "start_time": "2018-07-08T02:00:18.309427Z"
    }
   },
   "outputs": [],
   "source": [
    "w = pd.read_csv(PATH[\"w.tsv\"], sep=\"\\t\", index_col=0)\n",
    "\n",
    "h = pd.read_csv(PATH[\"h.tsv\"], sep=\"\\t\", index_col=0)\n",
    "\n",
    "w.columns.name = h.index.name\n",
    "\n",
    "h.columns.name = SETTING[\"sample_alias\"]"
   ]
  },
  {
   "cell_type": "code",
   "execution_count": null,
   "metadata": {
    "ExecuteTime": {
     "end_time": "2018-07-08T02:00:18.716327Z",
     "start_time": "2018-07-08T02:00:18.694100Z"
    }
   },
   "outputs": [],
   "source": [
    "for w_or_h, dataframe, drop_axis in ((\"w\", w, 0), (\"h\", h, 1)):\n",
    "\n",
    "    if drop_axis == 0:\n",
    "\n",
    "        apply_axis = 1\n",
    "\n",
    "    else:\n",
    "\n",
    "        apply_axis = 0\n",
    "\n",
    "    dataframe.drop(\n",
    "        kraft.select_series_indices(\n",
    "            dataframe.apply(kraft.compute_vector_entropy, axis=apply_axis),\n",
    "            \">\",\n",
    "            fraction=SETTING[\"gps_map_{}_element_fraction_to_drop\".format(w_or_h)],\n",
    "            layout={\"yaxis\": {\"title\": \"Entropy\"}},\n",
    "        ),\n",
    "        axis=drop_axis,\n",
    "        inplace=True,\n",
    "    )"
   ]
  },
  {
   "cell_type": "code",
   "execution_count": null,
   "metadata": {},
   "outputs": [],
   "source": [
    "gps_map = kraft.GPSMap(\n",
    "    w=w.T,\n",
    "    h=h,\n",
    "    w_n_pull=SETTING[\"gps_map_w_n_pull\"],\n",
    "    w_pull_power=SETTING[\"gps_map_w_pull_power\"],\n",
    "    h_n_pull=SETTING[\"gps_map_h_n_pull\"],\n",
    "    h_pull_power=SETTING[\"gps_map_h_pull_power\"],\n",
    "    plot=False,\n",
    ")"
   ]
  },
  {
   "cell_type": "code",
   "execution_count": null,
   "metadata": {},
   "outputs": [],
   "source": [
    "for element_type, w_or_h, elements in (\n",
    "    (\"feature\", \"w\", gps_map.w_elements),\n",
    "    (\"sample\", \"h\", gps_map.h_elements),\n",
    "):\n",
    "\n",
    "    if elements is None:\n",
    "\n",
    "        continue\n",
    "\n",
    "    plot_keyword_arguments = {\n",
    "        \"element_marker_size\": SETTING[\"gps_map_{}_element_marker_size\".format(w_or_h)],\n",
    "        \"html_file_path\": os.path.join(\n",
    "            PATH[\"{}|gps_map/\".format(w_or_h)], \"gps_map.html\"\n",
    "        ),\n",
    "    }\n",
    "\n",
    "    gps_map.plot(w_or_h, **plot_keyword_arguments)\n",
    "\n",
    "    tsv_file_path = PATH[\"{}|cluster_x_element.tsv\".format(w_or_h)]\n",
    "\n",
    "    if not os.path.isfile(tsv_file_path):\n",
    "\n",
    "        continue\n",
    "\n",
    "    element_cluster = pd.read_csv(tsv_file_path, sep=\"\\t\", index_col=0).apply(\n",
    "        lambda cluster_01: cluster_01.idxmax()\n",
    "    )\n",
    "\n",
    "    gps_map.set_element_label(\n",
    "        w_or_h,\n",
    "        element_cluster,\n",
    "        bandwidth_factor=SETTING[\"gps_map_{}_bandwidth_factor\".format(w_or_h)],\n",
    "    )\n",
    "\n",
    "    gps_map.plot(w_or_h, **plot_keyword_arguments)"
   ]
  },
  {
   "cell_type": "code",
   "execution_count": null,
   "metadata": {},
   "outputs": [],
   "source": [
    "kraft.write_gps_map(gps_map, PATH[\"gps_map.pickle.gz\"])"
   ]
  },
  {
   "cell_type": "code",
   "execution_count": null,
   "metadata": {},
   "outputs": [],
   "source": [
    "for element_type, w_or_h, elements in (\n",
    "    (\"feature\", \"w\", gps_map.w_elements),\n",
    "    (\"sample\", \"h\", gps_map.h_elements),\n",
    "):\n",
    "\n",
    "    element_value = pd.Series(\n",
    "        (\n",
    "            int(element in SETTING[\"{}s_to_peek\".format(element_type)])\n",
    "            for element in elements\n",
    "        ),\n",
    "        index=elements,\n",
    "    )\n",
    "\n",
    "    if not element_value.any():\n",
    "\n",
    "        continue\n",
    "\n",
    "    gps_map.plot(\n",
    "        w_or_h,\n",
    "        element_value=element_value,\n",
    "        element_value_data_type=\"binary\",\n",
    "        element_marker_size=SETTING[\"gps_map_{}_element_marker_size\".format(w_or_h)],\n",
    "        element_value_binary_annotation={\"font\": {\"size\": 16}},\n",
    "        html_file_path=os.path.join(\n",
    "            PATH[\"{}|gps_map/\".format(w_or_h)], \"gps_map.peek.html\"\n",
    "        ),\n",
    "    )"
   ]
  }
 ],
 "metadata": {
  "@webio": {
   "lastCommId": null,
   "lastKernelId": null
  },
  "kernelspec": {
   "display_name": "Python 3",
   "language": "python",
   "name": "python3"
  },
  "language_info": {
   "codemirror_mode": {
    "name": "ipython",
    "version": 3
   },
   "file_extension": ".py",
   "mimetype": "text/x-python",
   "name": "python",
   "nbconvert_exporter": "python",
   "pygments_lexer": "ipython3",
   "version": "3.7.3"
  }
 },
 "nbformat": 4,
 "nbformat_minor": 4
}
