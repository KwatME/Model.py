{
 "cells": [
  {
   "cell_type": "code",
   "execution_count": null,
   "metadata": {
    "ExecuteTime": {
     "end_time": "2018-07-08T02:00:18.270535Z",
     "start_time": "2018-07-08T02:00:17.409834Z"
    }
   },
   "outputs": [],
   "source": [
    "%load_ext autoreload\n",
    "%autoreload 2"
   ]
  },
  {
   "cell_type": "code",
   "execution_count": null,
   "metadata": {
    "ExecuteTime": {
     "end_time": "2018-07-06T18:37:38.413000Z",
     "start_time": "2018-07-06T18:37:36.654831Z"
    }
   },
   "outputs": [],
   "source": [
    "from __init__ import *\n",
    "\n",
    "PROJECT_JSON = kraft.read_json(\"../project.json\")\n",
    "\n",
    "PATH = make_path_dict(PROJECT_JSON)"
   ]
  },
  {
   "cell_type": "code",
   "execution_count": null,
   "metadata": {
    "ExecuteTime": {
     "end_time": "2018-07-08T02:00:18.692012Z",
     "start_time": "2018-07-08T02:00:18.309427Z"
    }
   },
   "outputs": [],
   "source": [
    "w = pd.read_csv(PATH[\"w.tsv\"], sep=\"\\t\", index_col=0)\n",
    "\n",
    "h = pd.read_csv(PATH[\"h.tsv\"], sep=\"\\t\", index_col=0)\n",
    "\n",
    "w.columns.name = h.index.name\n",
    "\n",
    "h.columns.name = PROJECT_JSON[\"sample_alias\"]"
   ]
  },
  {
   "cell_type": "code",
   "execution_count": null,
   "metadata": {
    "ExecuteTime": {
     "end_time": "2018-07-08T02:00:18.716327Z",
     "start_time": "2018-07-08T02:00:18.694100Z"
    }
   },
   "outputs": [],
   "source": [
    "for feature_type, w_or_h, dataframe, apply_axis, drop_axis in (\n",
    "    (\"feature\", \"w\", w, 1, 0),\n",
    "    (\"sample\", \"h\", h, 0, 1),\n",
    "):\n",
    "\n",
    "    gps_map_caotic_element_fraction_to_drop = PROJECT_JSON[\n",
    "        \"gps_map_caotic_{}_element_fraction_to_drop\".format(w_or_h)\n",
    "    ]\n",
    "\n",
    "    if gps_map_caotic_element_fraction_to_drop is None:\n",
    "\n",
    "        continue\n",
    "\n",
    "    dataframe_shape_before = dataframe.shape\n",
    "\n",
    "    element_entropy = dataframe.apply(kraft.compute_vector_entropy, axis=apply_axis)\n",
    "\n",
    "    element_alias = PROJECT_JSON[\"{}_alias\".format(feature_type)]\n",
    "\n",
    "    dataframe.drop(\n",
    "        kraft.select_series_indices(\n",
    "            element_entropy,\n",
    "            \">\",\n",
    "            fraction=gps_map_caotic_element_fraction_to_drop,\n",
    "            layout={\n",
    "                \"title\": {\"text\": \"Dropping {}\".format(element_alias)},\n",
    "                \"yaxis\": {\"title\": \"Entropy in {}\".format(w_or_h.title())},\n",
    "            },\n",
    "        ),\n",
    "        axis=drop_axis,\n",
    "        inplace=True,\n",
    "    )\n",
    "\n",
    "    print(\n",
    "        \"{} shape: {} ==> {}.\".format(\n",
    "            w_or_h.title(), dataframe_shape_before, dataframe.shape\n",
    "        )\n",
    "    )"
   ]
  },
  {
   "cell_type": "code",
   "execution_count": null,
   "metadata": {},
   "outputs": [],
   "source": [
    "gps_map = kraft.GPSMap(\n",
    "    w=w.T,\n",
    "    h=h,\n",
    "    w_n_pull=PROJECT_JSON[\"gps_map_w_n_pull\"],\n",
    "    w_pull_power=PROJECT_JSON[\"gps_map_w_pull_power\"],\n",
    "    h_n_pull=PROJECT_JSON[\"gps_map_h_n_pull\"],\n",
    "    h_pull_power=PROJECT_JSON[\"gps_map_h_pull_power\"],\n",
    "    plot=False,\n",
    ")"
   ]
  },
  {
   "cell_type": "code",
   "execution_count": null,
   "metadata": {},
   "outputs": [],
   "source": [
    "for element_type, w_or_h, elements in (\n",
    "    (\"feature\", \"w\", gps_map.w_elements),\n",
    "    (\"sample\", \"h\", gps_map.h_elements),\n",
    "):\n",
    "\n",
    "    if elements is None:\n",
    "\n",
    "        continue\n",
    "\n",
    "    element_marker_size = PROJECT_JSON[\"gps_map_{}_element_marker_size\".format(w_or_h)]\n",
    "\n",
    "    gps_map.plot(\n",
    "        w_or_h,\n",
    "        element_marker_size=element_marker_size,\n",
    "        html_file_path=os.path.join(PATH[\"{}|gps_map/\".format(w_or_h)], \"gps_map.html\"),\n",
    "    )\n",
    "\n",
    "    if not os.path.isfile(PATH[\"{}|cluster_x_element.tsv\".format(w_or_h)]):\n",
    "\n",
    "        continue\n",
    "\n",
    "    element_cluster = pd.read_csv(\n",
    "        PATH[\"{}|cluster_x_element.tsv\".format(w_or_h)], sep=\"\\t\", index_col=0\n",
    "    ).apply(lambda column: column.idxmax())\n",
    "\n",
    "    cluster_i = (\n",
    "        element_cluster.value_counts().rank(method=\"first\", ascending=False).astype(int)\n",
    "        - 1\n",
    "    ).to_dict()\n",
    "\n",
    "    bandwidth_factor = PROJECT_JSON[\"gps_map_{}_bandwidth_factor\".format(w_or_h)]\n",
    "\n",
    "    gps_map.set_element_label(\n",
    "        w_or_h, element_cluster.map(cluster_i), bandwidth_factor=bandwidth_factor\n",
    "    )\n",
    "\n",
    "    gps_map.plot(\n",
    "        w_or_h,\n",
    "        element_marker_size=element_marker_size,\n",
    "        html_file_path=os.path.join(\n",
    "            PATH[\"{}|hcc|gps_map/\".format(w_or_h)], \"gps_map.html\"\n",
    "        ),\n",
    "    )"
   ]
  },
  {
   "cell_type": "code",
   "execution_count": null,
   "metadata": {},
   "outputs": [],
   "source": [
    "kraft.write_gps_map(gps_map, PATH[\"gps_map.pickle.gz\"])"
   ]
  },
  {
   "cell_type": "code",
   "execution_count": null,
   "metadata": {},
   "outputs": [],
   "source": [
    "for element_type, w_or_h, elements in (\n",
    "    (\"feature\", \"w\", gps_map.w_elements),\n",
    "    (\"sample\", \"h\", gps_map.h_elements),\n",
    "):\n",
    "\n",
    "    elements_to_peek = PROJECT_JSON[\"{}s_to_peek\".format(element_type)]\n",
    "\n",
    "    element_value = pd.Series(\n",
    "        (element in elements_to_peek for element in elements), index=elements\n",
    "    )\n",
    "\n",
    "    if not element_value.any():\n",
    "\n",
    "        continue\n",
    "\n",
    "    element_marker_size = PROJECT_JSON[\"gps_map_{}_element_marker_size\".format(w_or_h)]\n",
    "\n",
    "    gps_map.plot(\n",
    "        w_or_h,\n",
    "        element_value=element_value,\n",
    "        element_value_data_type=\"binary\",\n",
    "        element_marker_size=element_marker_size,\n",
    "        element_value_binary_annotation={\"font\": {\"size\": 16}},\n",
    "        html_file_path=os.path.join(\n",
    "            PATH[\"{}|hcc|gps_map/\".format(w_or_h)], \"gps_map.peek.html\"\n",
    "        ),\n",
    "    )"
   ]
  }
 ],
 "metadata": {
  "@webio": {
   "lastCommId": null,
   "lastKernelId": null
  },
  "kernelspec": {
   "display_name": "Python 3",
   "language": "python",
   "name": "python3"
  },
  "language_info": {
   "codemirror_mode": {
    "name": "ipython",
    "version": 3
   },
   "file_extension": ".py",
   "mimetype": "text/x-python",
   "name": "python",
   "nbconvert_exporter": "python",
   "pygments_lexer": "ipython3",
   "version": "3.7.3"
  }
 },
 "nbformat": 4,
 "nbformat_minor": 4
}
