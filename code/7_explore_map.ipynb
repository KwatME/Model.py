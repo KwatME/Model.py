{
 "cells": [
  {
   "cell_type": "code",
   "execution_count": null,
   "metadata": {
    "ExecuteTime": {
     "end_time": "2018-07-06T19:27:09.695630Z",
     "start_time": "2018-07-06T19:27:09.679688Z"
    }
   },
   "outputs": [],
   "source": [
    "%load_ext autoreload\n",
    "\n",
    "%autoreload 2"
   ]
  },
  {
   "cell_type": "code",
   "execution_count": null,
   "metadata": {
    "ExecuteTime": {
     "end_time": "2018-07-06T18:37:38.413000Z",
     "start_time": "2018-07-06T18:37:36.654831Z"
    }
   },
   "outputs": [],
   "source": [
    "from environment import *\n",
    "\n",
    "import setting\n",
    "\n",
    "path_dict = path(setting)"
   ]
  },
  {
   "cell_type": "code",
   "execution_count": null,
   "metadata": {
    "ExecuteTime": {
     "end_time": "2018-07-06T19:27:11.455441Z",
     "start_time": "2018-07-06T19:27:11.406230Z"
    }
   },
   "outputs": [],
   "source": [
    "w = pd.read_table(\n",
    "    path_dict['w_file_path'],\n",
    "    index_col=0,\n",
    ")\n",
    "\n",
    "h = pd.read_table(\n",
    "    path_dict['h_file_path'],\n",
    "    index_col=0,\n",
    ")"
   ]
  },
  {
   "cell_type": "code",
   "execution_count": null,
   "metadata": {
    "ExecuteTime": {
     "end_time": "2018-07-06T19:27:15.472678Z",
     "start_time": "2018-07-06T19:27:11.457577Z"
    }
   },
   "outputs": [],
   "source": [
    "nmf_map = ccal.NMFMap(\n",
    "    wt=w.T,\n",
    "    h=h,\n",
    "    mds_random_seed=setting.NMF_MAP_MDS_RANDOM_SEED,\n",
    "    wt_pull_power=setting.NMF_MAP_WT_PULL_POWER,\n",
    "    h_pull_power=setting.NMF_MAP_H_PULL_POWER,\n",
    "    plot=False,\n",
    ")"
   ]
  },
  {
   "cell_type": "code",
   "execution_count": null,
   "metadata": {
    "ExecuteTime": {
     "end_time": "2018-07-06T19:39:55.046724Z",
     "start_time": "2018-07-06T19:27:15.475772Z"
    }
   },
   "outputs": [],
   "source": [
    "for wt_or_h, df, bandwidth_factor, element_marker_size in (\n",
    "    (\n",
    "        'wt',\n",
    "        pd.DataFrame(\n",
    "            nmf_map.wt,\n",
    "            index=nmf_map.nodes,\n",
    "            columns=nmf_map.wt_elements,\n",
    "        ),\n",
    "        setting.NMF_MAP_WT_BANDWIDTH_FACTOR,\n",
    "        setting.NMF_MAP_WT_ELEMENT_MARKER_SIZE,\n",
    "    ),\n",
    "    (\n",
    "        'h',\n",
    "        pd.DataFrame(\n",
    "            nmf_map.h,\n",
    "            index=nmf_map.nodes,\n",
    "            columns=nmf_map.h_elements,\n",
    "        ),\n",
    "        setting.NMF_MAP_H_BANDWIDTH_FACTOR,\n",
    "        setting.NMF_MAP_H_ELEMENT_MARKER_SIZE,\n",
    "    ),\n",
    "):\n",
    "\n",
    "    if df.shape[1] < 1e3:\n",
    "\n",
    "        distance_function = ccal.compute_information_distance\n",
    "\n",
    "    else:\n",
    "\n",
    "        distance_function = compute_correlation_distance\n",
    "\n",
    "    hcc__k_x_column = ccal.hierarchical_consensus_cluster_with_multiple_k(\n",
    "        df,\n",
    "        setting.HCC_KS,\n",
    "        n_job=setting.MAX_N_JOB,\n",
    "        distance_function=distance_function,\n",
    "        plot_df=False,\n",
    "        directory_path=path_dict['{}_hcc_directory_path'.format(wt_or_h)],\n",
    "    )[3]\n",
    "\n",
    "    hcc__k_x_column = pd.read_table(\n",
    "        path_dict['{}_hcc__k_x_column_file_path'.format(wt_or_h)],\n",
    "        index_col=0,\n",
    "    )\n",
    "\n",
    "    for hcc_k in setting.HCC_KS:\n",
    "\n",
    "        element_state = hcc__k_x_column.loc['K{}'.format(hcc_k)]\n",
    "\n",
    "        if element_state.value_counts().min() < 3:\n",
    "\n",
    "            print('Skipping {} because it has at least 1 state with less than 3 elements ...'.format(hcc_k))\n",
    "\n",
    "        else:\n",
    "\n",
    "            nmf_map.set_element_states(\n",
    "                wt_or_h,\n",
    "                element_state,\n",
    "                bandwidth_factor=bandwidth_factor,\n",
    "            )\n",
    "\n",
    "            nmf_map.plot_nmf_map(\n",
    "                wt_or_h,\n",
    "                title=setting.NAME,\n",
    "                element_marker_size=element_marker_size,\n",
    "                html_file_path='{}/map_{}.html'.format(\n",
    "                    path_dict['{}_map_directory_path'.format(wt_or_h)],\n",
    "                    hcc_k,\n",
    "                ),\n",
    "            )"
   ]
  }
 ],
 "metadata": {
  "kernelspec": {
   "display_name": "Python 3",
   "language": "python",
   "name": "python3"
  },
  "language_info": {
   "codemirror_mode": {
    "name": "ipython",
    "version": 3
   },
   "file_extension": ".py",
   "mimetype": "text/x-python",
   "name": "python",
   "nbconvert_exporter": "python",
   "pygments_lexer": "ipython3",
   "version": "3.5.5"
  }
 },
 "nbformat": 4,
 "nbformat_minor": 2
}
