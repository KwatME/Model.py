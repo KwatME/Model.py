{
 "cells": [
  {
   "cell_type": "code",
   "execution_count": null,
   "metadata": {
    "ExecuteTime": {
     "end_time": "2018-07-06T07:59:49.777639Z",
     "start_time": "2018-07-06T07:59:49.765242Z"
    }
   },
   "outputs": [],
   "source": [
    "%load_ext autoreload\n",
    "%autoreload 2"
   ]
  },
  {
   "cell_type": "code",
   "execution_count": null,
   "metadata": {
    "ExecuteTime": {
     "end_time": "2018-07-08T02:00:18.306031Z",
     "start_time": "2018-07-08T02:00:18.276698Z"
    }
   },
   "outputs": [],
   "source": [
    "from environment import *\n",
    "from setting import *"
   ]
  },
  {
   "cell_type": "code",
   "execution_count": null,
   "metadata": {},
   "outputs": [],
   "source": [
    "feature_summary = pd.read_table(PATH_DICT[\"w.tsv\"], index_col=0)\n",
    "\n",
    "sample_summary = pd.read_table(PATH_DICT[\"h.tsv\"], index_col=0).T"
   ]
  },
  {
   "cell_type": "code",
   "execution_count": null,
   "metadata": {},
   "outputs": [],
   "source": [
    "for summary, w_or_h in ((feature_summary, \"w\"), (sample_summary, \"h\")):\n",
    "\n",
    "    for i in range(NMF_K):\n",
    "\n",
    "        p = \"P{}\".format(i)\n",
    "\n",
    "        for low_or_high in (\"low\", \"high\"):\n",
    "\n",
    "            try:\n",
    "\n",
    "                elements = pd.read_table(\n",
    "                    \"{}/{}.{}.tsv\".format(\n",
    "                        PATH_DICT[\"{}|signature/\".format(w_or_h)], p, low_or_high\n",
    "                    ),\n",
    "                    index_col=0,\n",
    "                    header=None,\n",
    "                    squeeze=True,\n",
    "                )\n",
    "\n",
    "                summary.loc[elements, \"{} Signature\".format(p)] = low_or_high\n",
    "\n",
    "            except pd.errors.EmptyDataError:\n",
    "\n",
    "                print(\n",
    "                    \"{} {} signature does not have any element.\".format(p, low_or_high)\n",
    "                )"
   ]
  },
  {
   "cell_type": "code",
   "execution_count": null,
   "metadata": {},
   "outputs": [],
   "source": [
    "for summary, w_or_h, hcc_k in (\n",
    "    (feature_summary, \"w\", W_HCC_K),\n",
    "    (sample_summary, \"h\", H_HCC_K),\n",
    "):\n",
    "\n",
    "    summary[\"Cluster\"] = pd.read_table(\n",
    "        PATH_DICT[\"{}|hcc__k_x_column.tsv\".format(w_or_h)], index_col=0\n",
    "    ).loc[\"K{}\".format(hcc_k)]"
   ]
  },
  {
   "cell_type": "code",
   "execution_count": null,
   "metadata": {},
   "outputs": [],
   "source": [
    "for element_type, alias, summary in (\n",
    "    (\"feature\", FEATURE_ALIAS, feature_summary),\n",
    "    (\"sample\", SAMPLE_ALIAS, sample_summary),\n",
    "):\n",
    "\n",
    "    summary.index.name = alias\n",
    "\n",
    "    summary.columns.name = \"Information\"\n",
    "\n",
    "    summary.to_csv(\"{}/{}.tsv\".format(PATH_DICT[\"summary/\"], element_type), sep=\"\\t\")"
   ]
  },
  {
   "cell_type": "code",
   "execution_count": null,
   "metadata": {},
   "outputs": [],
   "source": [
    "feature_summary"
   ]
  },
  {
   "cell_type": "code",
   "execution_count": null,
   "metadata": {},
   "outputs": [],
   "source": [
    "sample_summary"
   ]
  }
 ],
 "metadata": {
  "kernelspec": {
   "display_name": "Python 3",
   "language": "python",
   "name": "python3"
  },
  "language_info": {
   "codemirror_mode": {
    "name": "ipython",
    "version": 3
   },
   "file_extension": ".py",
   "mimetype": "text/x-python",
   "name": "python",
   "nbconvert_exporter": "python",
   "pygments_lexer": "ipython3",
   "version": "3.6.7"
  }
 },
 "nbformat": 4,
 "nbformat_minor": 2
}
