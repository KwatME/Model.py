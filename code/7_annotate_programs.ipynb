{
 "cells": [
  {
   "cell_type": "code",
   "execution_count": null,
   "metadata": {
    "ExecuteTime": {
     "end_time": "2018-06-16T06:04:32.506083Z",
     "start_time": "2018-06-16T06:04:32.491443Z"
    }
   },
   "outputs": [],
   "source": [
    "%load_ext autoreload\n",
    "%autoreload 2"
   ]
  },
  {
   "cell_type": "code",
   "execution_count": null,
   "metadata": {
    "ExecuteTime": {
     "end_time": "2018-06-16T06:04:34.314384Z",
     "start_time": "2018-06-16T06:04:32.508271Z"
    }
   },
   "outputs": [],
   "source": [
    "from environment import *\n",
    "\n",
    "import analysis as a\n",
    "\n",
    "p = make_paths(a)"
   ]
  },
  {
   "cell_type": "code",
   "execution_count": null,
   "metadata": {
    "ExecuteTime": {
     "end_time": "2018-06-16T06:04:35.159700Z",
     "start_time": "2018-06-16T06:04:34.317091Z"
    }
   },
   "outputs": [],
   "source": [
    "w = pd.read_table(p['w_file_path'], index_col=0)\n",
    "\n",
    "h = pd.read_table(p['h_file_path'], index_col=0)"
   ]
  },
  {
   "cell_type": "code",
   "execution_count": null,
   "metadata": {
    "ExecuteTime": {
     "end_time": "2018-06-16T06:04:35.159700Z",
     "start_time": "2018-06-16T06:04:34.317091Z"
    },
    "scrolled": false
   },
   "outputs": [],
   "source": [
    "kras_w = pd.read_table('../data/kras_map/nmf_k9_w.tsv', index_col=0)\n",
    "\n",
    "kras_h = pd.read_table('../data/kras_map/nmf_k9_h.tsv', index_col=0)\n",
    "\n",
    "common_samples = kras_h.columns & h.columns\n",
    "\n",
    "if 0 < common_samples.size:\n",
    "\n",
    "    print(common_samples.size)\n",
    "\n",
    "    ccal.make_comparison_panel(\n",
    "        h[common_samples],\n",
    "        kras_h[common_samples],\n",
    "        name_0=h.index.name,\n",
    "        name_1='KRAS Program')"
   ]
  },
  {
   "cell_type": "code",
   "execution_count": null,
   "metadata": {
    "ExecuteTime": {
     "end_time": "2018-06-16T06:04:52.009477Z",
     "start_time": "2018-06-16T06:04:35.161472Z"
    }
   },
   "outputs": [],
   "source": [
    "feature_dicts = make_feature_dicts()"
   ]
  },
  {
   "cell_type": "code",
   "execution_count": null,
   "metadata": {
    "ExecuteTime": {
     "end_time": "2018-06-16T06:54:38.379088Z",
     "start_time": "2018-06-16T06:04:52.011564Z"
    },
    "scrolled": false
   },
   "outputs": [],
   "source": [
    "wt_or_h = 'h'\n",
    "\n",
    "targets = h**0.32\n",
    "\n",
    "ccal.make_match_panels(\n",
    "    ((targets).iloc[i] for i in range(targets.shape[0])),\n",
    "    feature_dicts,\n",
    "    n_job=a.MAX_N_JOB,\n",
    "    extreme_feature_threshold=a.EXTREME_FEATURE_THRESHOLD,\n",
    "    directory_path=p['{}_match_directory_path'.format(wt_or_h)],\n",
    "    plotly_directory_path=p['{}_match_plotly_directory_path'.format(wt_or_h)],\n",
    "    overwrite=False)"
   ]
  },
  {
   "cell_type": "code",
   "execution_count": null,
   "metadata": {},
   "outputs": [],
   "source": [
    "n_top = 256\n",
    "\n",
    "wt_or_h = 'h'\n",
    "\n",
    "targets = h\n",
    "\n",
    "for index in targets.index:\n",
    "\n",
    "    print('=' * 80)\n",
    "\n",
    "    print(index)\n",
    "\n",
    "    directory_path = p['{}_match_directory_path'.format(wt_or_h)]\n",
    "\n",
    "    methylation_scores = pd.read_table(\n",
    "        os.path.join(directory_path, index, 'Promoter Methylation.tsv'),\n",
    "        index_col=0)\n",
    "\n",
    "    methylations = methylation_scores.index[-n_top:]\n",
    "\n",
    "    methylations = methylations.map(lambda str_: str_.split('_')[0])\n",
    "\n",
    "    mrna_scores = pd.read_table(\n",
    "        os.path.join(directory_path, index, 'mRNA.tsv'), index_col=0)\n",
    "\n",
    "    mrnas = mrna_scores.index[:n_top]\n",
    "\n",
    "    crispr_scores = pd.read_table(\n",
    "        os.path.join(directory_path, index, 'Achilles CRISPR.tsv'),\n",
    "        index_col=0)\n",
    "\n",
    "    crisprs = crispr_scores.index[:n_top]\n",
    "\n",
    "    rnai_scores = pd.read_table(\n",
    "        os.path.join(directory_path, index, 'Achilles RNAi.tsv'), index_col=0)\n",
    "\n",
    "    rnais = rnai_scores.index[:n_top]\n",
    "\n",
    "    for (features_0,\n",
    "         name_0), (features_1,\n",
    "                   name_1), (features_2, name_2) in itertools.combinations(\n",
    "                       ((methylations, 'Methylation'), (mrnas, 'mRNA'),\n",
    "                        (crisprs, 'Achilles CRISPR')), 3):\n",
    "\n",
    "        print('{} & {} & {}'.format(name_0, name_1, name_2))\n",
    "\n",
    "        tops = set(features_0 & features_1 & features_2)\n",
    "\n",
    "        if 0 < len(tops):\n",
    "\n",
    "            print('\\n' * 8)\n",
    "\n",
    "            target = h.loc[index]\n",
    "\n",
    "            feature_type_features = {\n",
    "                'Promoter Methylation': tuple((top, top) for top in tops),\n",
    "                'mRNA': tuple((top, top) for top in tops),\n",
    "                'Achilles CRISPR': tuple((top, top) for top in tops),\n",
    "            }\n",
    "\n",
    "            for feature_type, features in feature_type_features.items():\n",
    "\n",
    "                feature_dicts[feature_type]['indices'] = [\n",
    "                    feature[0] for feature in features\n",
    "                ]\n",
    "\n",
    "                feature_dicts[feature_type]['index_aliases'] = [\n",
    "                    feature[1] for feature in features\n",
    "                ]\n",
    "\n",
    "            ccal.make_summary_match_panel(\n",
    "                target, {\n",
    "                    feature_type: feature_dicts[feature_type]\n",
    "                    for feature_type in feature_type_features.keys()\n",
    "                },\n",
    "                title='{} Summary'.format(target.name))"
   ]
  }
 ],
 "metadata": {
  "kernelspec": {
   "display_name": "Python [default]",
   "language": "python",
   "name": "python3"
  },
  "language_info": {
   "codemirror_mode": {
    "name": "ipython",
    "version": 3
   },
   "file_extension": ".py",
   "mimetype": "text/x-python",
   "name": "python",
   "nbconvert_exporter": "python",
   "pygments_lexer": "ipython3",
   "version": "3.6.5"
  }
 },
 "nbformat": 4,
 "nbformat_minor": 2
}
