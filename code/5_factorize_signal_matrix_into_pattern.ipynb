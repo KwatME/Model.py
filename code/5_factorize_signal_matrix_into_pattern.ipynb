{
 "cells": [
  {
   "cell_type": "code",
   "execution_count": null,
   "metadata": {
    "ExecuteTime": {
     "end_time": "2018-07-06T18:37:36.653167Z",
     "start_time": "2018-07-06T18:37:36.642199Z"
    }
   },
   "outputs": [],
   "source": [
    "%load_ext autoreload\n",
    "%autoreload 2"
   ]
  },
  {
   "cell_type": "code",
   "execution_count": null,
   "metadata": {
    "ExecuteTime": {
     "end_time": "2018-07-06T18:37:38.413000Z",
     "start_time": "2018-07-06T18:37:36.654831Z"
    }
   },
   "outputs": [],
   "source": [
    "from environment import *\n",
    "from setting import *"
   ]
  },
  {
   "cell_type": "code",
   "execution_count": null,
   "metadata": {
    "ExecuteTime": {
     "end_time": "2018-07-06T18:37:38.787551Z",
     "start_time": "2018-07-06T18:37:38.416018Z"
    }
   },
   "outputs": [],
   "source": [
    "selected_signal_matrix = pd.read_table(\n",
    "    PATH_DICT[\"context_signal_matrix_file_path\"], index_col=0\n",
    ").fillna(0)"
   ]
  },
  {
   "cell_type": "code",
   "execution_count": null,
   "metadata": {
    "ExecuteTime": {
     "end_time": "2018-07-06T18:38:44.148873Z",
     "start_time": "2018-07-06T18:37:38.790145Z"
    }
   },
   "outputs": [],
   "source": [
    "k_nmfcc = ccal.nmf_consensus_cluster_with_multiple_k(\n",
    "    selected_signal_matrix,\n",
    "    NMF_KS,\n",
    "    n_job=MAX_N_JOB,\n",
    "    plot_df=False,\n",
    "    plot_w=selected_signal_matrix.shape[0] < 3200,\n",
    "    plot_h=selected_signal_matrix.shape[1] < 3200,\n",
    "    directory_path=PATH_DICT[\"nmf_directory_path\"],\n",
    ")"
   ]
  },
  {
   "cell_type": "code",
   "execution_count": null,
   "metadata": {
    "ExecuteTime": {
     "end_time": "2018-07-06T18:41:44.586657Z",
     "start_time": "2018-07-06T18:38:44.151540Z"
    }
   },
   "outputs": [],
   "source": [
    "w = k_nmfcc[\"K{}\".format(NMF_K)][\"w\"]\n",
    "\n",
    "h = k_nmfcc[\"K{}\".format(NMF_K)][\"h\"]"
   ]
  },
  {
   "cell_type": "code",
   "execution_count": null,
   "metadata": {
    "ExecuteTime": {
     "end_time": "2018-07-06T18:41:44.586657Z",
     "start_time": "2018-07-06T18:38:44.151540Z"
    }
   },
   "outputs": [],
   "source": [
    "for w_or_h, w_or_h_matrix in ((\"w\", w), (\"h\", h)):\n",
    "\n",
    "    if w_or_h_matrix.shape[1] < 3200:\n",
    "\n",
    "        if w_or_h == \"w\":\n",
    "\n",
    "            normalization_axis = 1\n",
    "\n",
    "            cluster_axis = 0\n",
    "\n",
    "        elif w_or_h == \"h\":\n",
    "\n",
    "            normalization_axis = 0\n",
    "\n",
    "            cluster_axis = 1\n",
    "\n",
    "        ccal.plot_heat_map(\n",
    "            w_or_h_matrix,\n",
    "            normalization_axis=normalization_axis,\n",
    "            normalization_method=\"-0-\",\n",
    "            cluster_axis=cluster_axis,\n",
    "            title=\"NMF K={} {}\".format(NMF_K, w_or_h.title()),\n",
    "            xaxis_title=w_or_h_matrix.columns.name,\n",
    "            yaxis_title=w_or_h_matrix.index.name,\n",
    "        )"
   ]
  },
  {
   "cell_type": "code",
   "execution_count": null,
   "metadata": {
    "ExecuteTime": {
     "end_time": "2018-07-06T18:41:44.586657Z",
     "start_time": "2018-07-06T18:38:44.151540Z"
    }
   },
   "outputs": [],
   "source": [
    "for w_or_h, w_or_h_matrix in ((\"w\", w.T), (\"h\", h)):\n",
    "\n",
    "    title = \"NMF K={} {}\".format(NMF_K, w_or_h.title())\n",
    "\n",
    "    ccal.make_comparison_panel(\n",
    "        w_or_h_matrix,\n",
    "        w_or_h_matrix,\n",
    "        axis=1,\n",
    "        title=title,\n",
    "        name_0=w_or_h_matrix.index.name,\n",
    "        name_1=w_or_h_matrix.index.name,\n",
    "    )"
   ]
  },
  {
   "cell_type": "code",
   "execution_count": null,
   "metadata": {
    "ExecuteTime": {
     "end_time": "2018-07-06T18:41:44.586657Z",
     "start_time": "2018-07-06T18:38:44.151540Z"
    }
   },
   "outputs": [],
   "source": [
    "for w_or_h, w_or_h_df in ((\"w\", w.T), (\"h\", h)):\n",
    "\n",
    "    for p, values in w_or_h_df.iterrows():\n",
    "\n",
    "        ccal.select_series_low_and_high_index(\n",
    "            values,\n",
    "            low_margin_factor=2,\n",
    "            high_margin_factor=2,\n",
    "            title=\"NMF K={} {} {} Signature\".format(NMF_K, w_or_h.title(), p),\n",
    "            file_path_prefix=\"{}/{}\".format(\n",
    "                PATH_DICT[\"{}_signature_directory_path\".format(w_or_h)], p\n",
    "            ),\n",
    "        )"
   ]
  },
  {
   "cell_type": "code",
   "execution_count": null,
   "metadata": {
    "ExecuteTime": {
     "end_time": "2018-07-06T18:52:29.719653Z",
     "start_time": "2018-07-06T18:41:44.588542Z"
    }
   },
   "outputs": [],
   "source": [
    "for w_or_h, target_x_sample, features, directory_path in (\n",
    "    (\"w\", w.T, selected_signal_matrix.T, PATH_DICT[\"w_match_directory_path\"]),\n",
    "    (\"h\", h, selected_signal_matrix, PATH_DICT[\"h_match_directory_path\"]),\n",
    "):\n",
    "\n",
    "    ccal.make_match_panels(\n",
    "        target_x_sample,\n",
    "        {\n",
    "            \"Selected Signal\": {\"df\": features, \"data_type\": \"continuous\"},\n",
    "            \"Input (Feature-by-Sample)\": {\n",
    "                \"df\": pd.read_table(FEATURE_X_SAMPLE_FILE_PATH, index_col=0),\n",
    "                \"data_type\": \"continuous\",\n",
    "            },\n",
    "        },\n",
    "        n_job=MAX_N_JOB,\n",
    "        n_required_for_match_function=0.64,\n",
    "        extreme_feature_threshold=EXTREME_FEATURE_THRESHOLD,\n",
    "        plot_std=PLOT_STD,\n",
    "        directory_path=directory_path,\n",
    "    )"
   ]
  }
 ],
 "metadata": {
  "kernelspec": {
   "display_name": "Python 3",
   "language": "python",
   "name": "python3"
  },
  "language_info": {
   "codemirror_mode": {
    "name": "ipython",
    "version": 3
   },
   "file_extension": ".py",
   "mimetype": "text/x-python",
   "name": "python",
   "nbconvert_exporter": "python",
   "pygments_lexer": "ipython3",
   "version": "3.6.7"
  }
 },
 "nbformat": 4,
 "nbformat_minor": 2
}
