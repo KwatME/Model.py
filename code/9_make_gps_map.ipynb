{
 "cells": [
  {
   "cell_type": "code",
   "execution_count": null,
   "metadata": {
    "ExecuteTime": {
     "end_time": "2018-07-08T02:00:18.270535Z",
     "start_time": "2018-07-08T02:00:17.409834Z"
    }
   },
   "outputs": [],
   "source": [
    "%load_ext autoreload\n",
    "\n",
    "%autoreload 2"
   ]
  },
  {
   "cell_type": "code",
   "execution_count": null,
   "metadata": {
    "ExecuteTime": {
     "end_time": "2018-07-06T18:37:38.413000Z",
     "start_time": "2018-07-06T18:37:36.654831Z"
    }
   },
   "outputs": [],
   "source": [
    "from environment import *\n",
    "\n",
    "import setting_for_ccle as setting\n",
    "# import setting_for_tcga as setting\n",
    "\n",
    "path_dict = path(setting)"
   ]
  },
  {
   "cell_type": "code",
   "execution_count": null,
   "metadata": {
    "ExecuteTime": {
     "end_time": "2018-07-08T02:00:18.692012Z",
     "start_time": "2018-07-08T02:00:18.309427Z"
    }
   },
   "outputs": [],
   "source": [
    "w = pd.read_table(\n",
    "    path_dict['w_file_path'],\n",
    "    index_col=0,\n",
    ")\n",
    "\n",
    "h = pd.read_table(\n",
    "    path_dict['h_file_path'],\n",
    "    index_col=0,\n",
    ")"
   ]
  },
  {
   "cell_type": "code",
   "execution_count": null,
   "metadata": {
    "ExecuteTime": {
     "end_time": "2018-07-08T02:00:18.716327Z",
     "start_time": "2018-07-08T02:00:18.694100Z"
    }
   },
   "outputs": [],
   "source": [
    "setting.ELEMENT_ENTROPY_QUANTILE = 1.0\n",
    "\n",
    "if setting.ELEMENT_ENTROPY_QUANTILE < 1:\n",
    "\n",
    "    feature_entropy = w.apply(\n",
    "        ccal.compute_entropy,\n",
    "        axis=1,\n",
    "    )\n",
    "\n",
    "    w = w.loc[feature_entropy.index[feature_entropy < feature_entropy.quantile(q=setting.ELEMENT_ENTROPY_QUANTILE)]]\n",
    "\n",
    "    print(w.shape)\n",
    "\n",
    "    sample_entropy = h.apply(ccal.compute_entropy)\n",
    "\n",
    "    h = h[sample_entropy.index[sample_entropy < sample_entropy.quantile(q=setting.ELEMENT_ENTROPY_QUANTILE)]]\n",
    "\n",
    "    print(h.shape)"
   ]
  },
  {
   "cell_type": "code",
   "execution_count": null,
   "metadata": {},
   "outputs": [],
   "source": [
    "gps_map = ccal.GPSMap(\n",
    "    wt=w.T,\n",
    "    h=h,\n",
    "    wt_pull_power=setting.GPS_MAP_WT_PULL_POWER,\n",
    "    h_pull_power=setting.GPS_MAP_H_PULL_POWER,\n",
    "    plot=False,\n",
    ")"
   ]
  },
  {
   "cell_type": "code",
   "execution_count": null,
   "metadata": {},
   "outputs": [],
   "source": [
    "for wt_or_h, hcc_k, bandwidth_factor, element_marker_size in (\n",
    "#     (\n",
    "#         'wt',\n",
    "#         setting.WT_HCC_K,\n",
    "#         setting.GPS_MAP_WT_BANDWIDTH_FACTOR,\n",
    "#         setting.GPS_MAP_WT_ELEMENT_MARKER_SIZE,\n",
    "#     ),\n",
    "    (\n",
    "        'h',\n",
    "        setting.H_HCC_K,\n",
    "        setting.GPS_MAP_H_BANDWIDTH_FACTOR,\n",
    "        setting.GPS_MAP_H_ELEMENT_MARKER_SIZE,\n",
    "    ),\n",
    "):\n",
    "\n",
    "    gps_map.plot_gps_map(\n",
    "        wt_or_h,\n",
    "        title=setting.NAME,\n",
    "        element_marker_size=element_marker_size,\n",
    "        html_file_path='{}/map.html'.format(path_dict['{}_map_directory_path'.format(wt_or_h)]),\n",
    "        plotly_file_path=path_dict['{}_map_plotly_file_path'.format(wt_or_h)],\n",
    "    )\n",
    "\n",
    "    hcc__k_x_column_file_path = path_dict['{}_hcc__k_x_column_file_path'.format(wt_or_h)]\n",
    "\n",
    "    if os.path.isfile(hcc__k_x_column_file_path):\n",
    "\n",
    "        hcc__k_x_column = pd.read_table(\n",
    "            hcc__k_x_column_file_path,\n",
    "            index_col=0,\n",
    "        )\n",
    "\n",
    "        gps_map.set_element_states(\n",
    "            wt_or_h,\n",
    "            hcc__k_x_column.loc['K{}'.format(hcc_k)],\n",
    "            bandwidth_factor=bandwidth_factor,\n",
    "        )\n",
    "\n",
    "        gps_map.plot_gps_map(\n",
    "            wt_or_h,\n",
    "            title=setting.NAME,\n",
    "            element_marker_size=element_marker_size,\n",
    "            html_file_path='{}/map_{}.html'.format(\n",
    "                path_dict['{}_map_directory_path'.format(wt_or_h)],\n",
    "                hcc_k,\n",
    "            ),\n",
    "            plotly_file_path=path_dict['{}_state_map_plotly_file_path'.format(wt_or_h)],\n",
    "        )"
   ]
  },
  {
   "cell_type": "code",
   "execution_count": null,
   "metadata": {},
   "outputs": [],
   "source": [
    "ccal.dump_gps_map(\n",
    "    gps_map,\n",
    "    path_dict['gps_map_file_path'],\n",
    ")"
   ]
  }
 ],
 "metadata": {
  "kernelspec": {
   "display_name": "Python 3",
   "language": "python",
   "name": "python3"
  },
  "language_info": {
   "codemirror_mode": {
    "name": "ipython",
    "version": 3
   },
   "file_extension": ".py",
   "mimetype": "text/x-python",
   "name": "python",
   "nbconvert_exporter": "python",
   "pygments_lexer": "ipython3",
   "version": "3.6.6"
  }
 },
 "nbformat": 4,
 "nbformat_minor": 2
}
