{
 "cells": [
  {
   "cell_type": "code",
   "execution_count": null,
   "metadata": {
    "ExecuteTime": {
     "end_time": "2018-06-16T06:04:32.506083Z",
     "start_time": "2018-06-16T06:04:32.491443Z"
    }
   },
   "outputs": [],
   "source": [
    "%load_ext autoreload\n",
    "%autoreload 2"
   ]
  },
  {
   "cell_type": "code",
   "execution_count": null,
   "metadata": {
    "ExecuteTime": {
     "end_time": "2018-06-16T06:04:34.314384Z",
     "start_time": "2018-06-16T06:04:32.508271Z"
    }
   },
   "outputs": [],
   "source": [
    "from environment import *\n",
    "\n",
    "import analysis as a\n",
    "\n",
    "p = make_paths(a)"
   ]
  },
  {
   "cell_type": "code",
   "execution_count": null,
   "metadata": {
    "ExecuteTime": {
     "end_time": "2018-06-16T06:04:35.159700Z",
     "start_time": "2018-06-16T06:04:34.317091Z"
    }
   },
   "outputs": [],
   "source": [
    "w = pd.read_table(p['w_file_path'], index_col=0)\n",
    "\n",
    "h = pd.read_table(p['h_file_path'], index_col=0)"
   ]
  },
  {
   "cell_type": "code",
   "execution_count": null,
   "metadata": {
    "ExecuteTime": {
     "end_time": "2018-06-16T06:04:35.159700Z",
     "start_time": "2018-06-16T06:04:34.317091Z"
    },
    "scrolled": false
   },
   "outputs": [],
   "source": [
    "kras_w = pd.read_table('../data/kras_map/nmf_k9_w.tsv', index_col=0)\n",
    "\n",
    "kras_h = pd.read_table('../data/kras_map/nmf_k9_h.tsv', index_col=0)\n",
    "\n",
    "common_samples = kras_h.columns & h.columns\n",
    "\n",
    "print(common_samples.size)\n",
    "\n",
    "ccal.make_comparison_panel(\n",
    "    h[common_samples],\n",
    "    kras_h[common_samples],\n",
    "    name_0=h.index.name,\n",
    "    name_1='KRAS Component')"
   ]
  },
  {
   "cell_type": "code",
   "execution_count": null,
   "metadata": {
    "ExecuteTime": {
     "end_time": "2018-06-16T06:04:52.009477Z",
     "start_time": "2018-06-16T06:04:35.161472Z"
    }
   },
   "outputs": [],
   "source": [
    "feature_dicts = make_feature_dicts()"
   ]
  },
  {
   "cell_type": "code",
   "execution_count": null,
   "metadata": {
    "ExecuteTime": {
     "end_time": "2018-06-16T06:54:38.379088Z",
     "start_time": "2018-06-16T06:04:52.011564Z"
    },
    "scrolled": false
   },
   "outputs": [],
   "source": [
    "wt_or_h = 'h'\n",
    "\n",
    "targets = h**0.32\n",
    "\n",
    "ccal.make_match_panels(\n",
    "    ((targets).iloc[i] for i in range(targets.shape[0])),\n",
    "    feature_dicts,\n",
    "    n_job=1,\n",
    "    extreme_feature_threshold=16,\n",
    "    directory_path=p['{}_match_directory_path'.format(wt_or_h)],\n",
    "    plotly_directory_path=p['{}_match_plotly_directory_path'.format(wt_or_h)])"
   ]
  }
 ],
 "metadata": {
  "kernelspec": {
   "display_name": "Python [default]",
   "language": "python",
   "name": "python3"
  },
  "language_info": {
   "codemirror_mode": {
    "name": "ipython",
    "version": 3
   },
   "file_extension": ".py",
   "mimetype": "text/x-python",
   "name": "python",
   "nbconvert_exporter": "python",
   "pygments_lexer": "ipython3",
   "version": "3.6.5"
  }
 },
 "nbformat": 4,
 "nbformat_minor": 2
}
