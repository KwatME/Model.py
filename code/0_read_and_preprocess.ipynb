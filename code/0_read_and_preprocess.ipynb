{
 "cells": [
  {
   "cell_type": "code",
   "execution_count": null,
   "metadata": {
    "ExecuteTime": {
     "end_time": "2018-07-06T09:43:23.708162Z",
     "start_time": "2018-07-06T09:43:23.691484Z"
    }
   },
   "outputs": [],
   "source": [
    "%load_ext autoreload\n",
    "\n",
    "%autoreload 2"
   ]
  },
  {
   "cell_type": "code",
   "execution_count": null,
   "metadata": {
    "ExecuteTime": {
     "end_time": "2018-07-06T20:13:16.628911Z",
     "start_time": "2018-07-06T20:13:14.935143Z"
    }
   },
   "outputs": [],
   "source": [
    "from environment import *\n",
    "\n",
    "from setting import *"
   ]
  },
  {
   "cell_type": "code",
   "execution_count": null,
   "metadata": {
    "ExecuteTime": {
     "end_time": "2018-07-06T20:13:16.628911Z",
     "start_time": "2018-07-06T20:13:14.935143Z"
    }
   },
   "outputs": [],
   "source": [
    "path_dict = path(\n",
    "    TITLE,\n",
    "    ELEMENTS,\n",
    "    NMF_K,\n",
    "    WT_HCC_K,\n",
    "    H_HCC_K,\n",
    "    UPLOAD_TO_PLOTLY,\n",
    ")"
   ]
  },
  {
   "cell_type": "code",
   "execution_count": null,
   "metadata": {
    "ExecuteTime": {
     "end_time": "2018-07-06T09:43:34.025342Z",
     "start_time": "2018-07-06T09:43:25.415930Z"
    }
   },
   "outputs": [],
   "source": [
    "feature_x_sample = ccal.read_and_process_feature_x_sample(\n",
    "    FEATURE_X_SAMPLE_FILE_PATH,\n",
    "    nanize=NANIZE,\n",
    "    drop_na_axis=DROP_NA_AXIS,\n",
    "    min_n_not_na_unique_value=MIN_N_NOT_NA_UNIQUE_VALUE,\n",
    "    max_na=MAX_NA,\n",
    "    shift_as_necessary_to_achieve_min_before_logging=SHIFT_AS_NECESSARY_BEFORE_LOGGING,\n",
    "    log_base=LOG_BASE,\n",
    "    normalization_axis=NORMALIZATION_AXIS,\n",
    "    normalization_method=NORMALIZATION_METHOD,\n",
    "    plot=False,\n",
    ")"
   ]
  },
  {
   "cell_type": "code",
   "execution_count": null,
   "metadata": {},
   "outputs": [],
   "source": [
    "if SELECT_GENE_SYMBOL:\n",
    "    \n",
    "    feature_x_sample = feature_x_sample.loc[feature_x_sample.index & set(ccal.select_gene_symbol(\n",
    "        gene_family_name_to_remove=(\n",
    "            '18S ribosomal RNAs',\n",
    "            '28S ribosomal RNAs',\n",
    "            '45S pre-ribosomal RNAs',\n",
    "            '5.8S ribosomal RNAs',\n",
    "            '5S ribosomal RNAs',\n",
    "            'Cytoplasmic transfer RNAs',\n",
    "            'Long non-coding RNAs (published)',\n",
    "            'MicroRNAs',\n",
    "            'Mitochondrially encoded ribosomal RNAs',\n",
    "            'Mitochondrially encoded tRNAs',\n",
    "            'Nuclear-encoded mitochondrial transfer RNAs',\n",
    "            'Piwi-interacting RNA clusters',\n",
    "            'Ribosomal 45S RNA clusters',\n",
    "            'Ribosomal 45S rRNA genes outside of clusters',\n",
    "            'RNAs, 7SL, cytoplasmic',\n",
    "            'RNAs, Ro-associated Y',\n",
    "            'Small Cajal body-specific RNAs',\n",
    "            'Small NF90 (ILF3) associated RNAs',\n",
    "            'Small nuclear RNAs',\n",
    "            'Small nucleolar RNAs, C/D box',\n",
    "            'Small nucleolar RNAs, H/ACA box',\n",
    "            'Vault RNAs',\n",
    "            'L ribosomal proteins',\n",
    "            'Mitochondrial ribosomal proteins',\n",
    "            'S ribosomal proteins',\n",
    "            'Mitochondrial complex II: succinate dehydrogenase subunits',\n",
    "            'Mitochondrial complex III: ubiquinol-cytochrome c reductase complex subunits',\n",
    "            'Mitochondrial complex IV: cytochrome c oxidase subunits',\n",
    "            'Mitochondrial complex V: ATP synthase subunits',\n",
    "            'NADH:ubiquinone oxidoreductase core subunits',\n",
    "            'NADH:ubiquinone oxidoreductase supernumerary subunits',\n",
    "        ),\n",
    "        locus_type_to_keep=('gene with protein product', ),\n",
    "    ))]"
   ]
  },
  {
   "cell_type": "code",
   "execution_count": null,
   "metadata": {},
   "outputs": [],
   "source": [
    "feature_x_sample.to_csv(\n",
    "    path_dict['feature_x_sample_file_path'],\n",
    "    sep='\\t',\n",
    ")\n",
    "\n",
    "ccal.summarize_feature_x_sample(feature_x_sample)\n",
    "\n",
    "feature_x_sample"
   ]
  }
 ],
 "metadata": {
  "kernelspec": {
   "display_name": "Python 3",
   "language": "python",
   "name": "python3"
  },
  "language_info": {
   "codemirror_mode": {
    "name": "ipython",
    "version": 3
   },
   "file_extension": ".py",
   "mimetype": "text/x-python",
   "name": "python",
   "nbconvert_exporter": "python",
   "pygments_lexer": "ipython3",
   "version": "3.6.6"
  }
 },
 "nbformat": 4,
 "nbformat_minor": 2
}
