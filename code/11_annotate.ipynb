{
 "cells": [
  {
   "cell_type": "code",
   "execution_count": null,
   "metadata": {
    "ExecuteTime": {
     "end_time": "2018-07-08T00:30:32.513083Z",
     "start_time": "2018-07-08T00:30:32.501224Z"
    }
   },
   "outputs": [],
   "source": [
    "%load_ext autoreload\n",
    "%autoreload 2"
   ]
  },
  {
   "cell_type": "code",
   "execution_count": null,
   "metadata": {
    "ExecuteTime": {
     "end_time": "2018-07-08T02:00:18.306031Z",
     "start_time": "2018-07-08T02:00:18.276698Z"
    }
   },
   "outputs": [],
   "source": [
    "from environment import *\n",
    "\n",
    "with open(\"setting.yaml\") as yaml_file:\n",
    "\n",
    "    setting = yaml.load(yaml_file)\n",
    "\n",
    "path = make_path_dict(setting)"
   ]
  },
  {
   "cell_type": "code",
   "execution_count": null,
   "metadata": {},
   "outputs": [],
   "source": [
    "feature_data = setting[\"feature_data\"]\n",
    "\n",
    "if feature_data is None:\n",
    "\n",
    "    feature_data = {}\n",
    "\n",
    "else:\n",
    "\n",
    "    for data_name, data_dict in feature_data.items():\n",
    "\n",
    "        feature_data[data_name][\"df\"] = pd.read_table(\n",
    "            data_dict[\"file_path\"], index_col=0\n",
    "        )\n",
    "\n",
    "    print(feature_data.keys())"
   ]
  },
  {
   "cell_type": "code",
   "execution_count": null,
   "metadata": {},
   "outputs": [],
   "source": [
    "sample_data = setting[\"sample_data\"]\n",
    "\n",
    "if sample_data is None:\n",
    "\n",
    "    sample_data = {}\n",
    "\n",
    "else:\n",
    "\n",
    "    for data_name, data_dict in sample_data.items():\n",
    "\n",
    "        sample_data[data_name][\"df\"] = pd.read_table(\n",
    "            data_dict[\"file_path\"], index_col=0\n",
    "        )\n",
    "\n",
    "    print(sample_data.keys())"
   ]
  },
  {
   "cell_type": "code",
   "execution_count": null,
   "metadata": {},
   "outputs": [],
   "source": [
    "make_match_panels_kwargs = dict(\n",
    "    n_job=setting[\"max_n_job\"],\n",
    "    n_required_for_match_function=setting[\"n_required_for_match_function\"],\n",
    "    extreme_feature_threshold=setting[\"extreme_feature_threshold\"],\n",
    "    n_sampling=setting[\"n_sampling\"],\n",
    "    n_permutation=setting[\"n_permutation\"],\n",
    "    plot_std=setting[\"plot_std\"],\n",
    ")"
   ]
  },
  {
   "cell_type": "code",
   "execution_count": null,
   "metadata": {},
   "outputs": [],
   "source": [
    "for w_or_h, targets, data_dicts in (\n",
    "    (\"w\", pd.read_table(path[\"w.tsv\"], index_col=0).T, feature_data),\n",
    "    (\"h\", pd.read_table(path[\"h.tsv\"], index_col=0), sample_data),\n",
    "):\n",
    "    directory_path = path[\"{}|match/\".format(w_or_h)]\n",
    "\n",
    "    plotly_directory_path = path[\"plotly|{}_match/\".format(w_or_h)]\n",
    "\n",
    "    ccal.make_match_panels(\n",
    "        targets,\n",
    "        data_dicts,\n",
    "        directory_path=directory_path,\n",
    "        plotly_directory_path=plotly_directory_path,\n",
    "        **make_match_panels_kwargs,\n",
    "    )"
   ]
  },
  {
   "cell_type": "code",
   "execution_count": null,
   "metadata": {},
   "outputs": [],
   "source": [
    "for w_or_h, data_dicts in ((\"w\", feature_data), (\"h\", sample_data)):\n",
    "\n",
    "    cluster_x_column_file_path = path[\"{}|cluster_x_column.tsv\".format(w_or_h)]\n",
    "\n",
    "    targets = pd.read_table(cluster_x_column_file_path, index_col=0)\n",
    "\n",
    "    directory_path = path[\"{}|hcc|match/\".format(w_or_h)]\n",
    "\n",
    "    plotly_directory_path = path[\"plotly|{}_match/\".format(w_or_h)]\n",
    "\n",
    "    ccal.make_match_panels(\n",
    "        targets,\n",
    "        data_dicts,\n",
    "        target_type=\"binary\",\n",
    "        cluster_within_category=targets.shape[1] < setting[\"plot_cluster_max_size\"],\n",
    "        directory_path=directory_path,\n",
    "        plotly_directory_path=plotly_directory_path,\n",
    "        **make_match_panels_kwargs,\n",
    "    )"
   ]
  }
 ],
 "metadata": {
  "kernelspec": {
   "display_name": "Python 3",
   "language": "python",
   "name": "python3"
  },
  "language_info": {
   "codemirror_mode": {
    "name": "ipython",
    "version": 3
   },
   "file_extension": ".py",
   "mimetype": "text/x-python",
   "name": "python",
   "nbconvert_exporter": "python",
   "pygments_lexer": "ipython3",
   "version": "3.6.7"
  }
 },
 "nbformat": 4,
 "nbformat_minor": 2
}
