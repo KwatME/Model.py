{
 "cells": [
  {
   "cell_type": "code",
   "execution_count": null,
   "metadata": {
    "ExecuteTime": {
     "end_time": "2018-07-08T00:30:32.513083Z",
     "start_time": "2018-07-08T00:30:32.501224Z"
    }
   },
   "outputs": [],
   "source": [
    "%load_ext autoreload\n",
    "%autoreload 2"
   ]
  },
  {
   "cell_type": "code",
   "execution_count": null,
   "metadata": {
    "ExecuteTime": {
     "end_time": "2018-07-08T02:00:18.306031Z",
     "start_time": "2018-07-08T02:00:18.276698Z"
    }
   },
   "outputs": [],
   "source": [
    "from environment import *\n",
    "\n",
    "with open(\"setting.yaml\") as yaml_file:\n",
    "\n",
    "    SETTING = yaml.load(yaml_file)\n",
    "\n",
    "PATH = make_path_dict(SETTING)"
   ]
  },
  {
   "cell_type": "code",
   "execution_count": null,
   "metadata": {},
   "outputs": [],
   "source": [
    "feature_data = SETTING[\"feature_data\"]\n",
    "\n",
    "if feature_data is None:\n",
    "\n",
    "    feature_data = {}\n",
    "\n",
    "else:\n",
    "\n",
    "    for data_name, data_dict in feature_data.items():\n",
    "\n",
    "        feature_data[data_name][\"df\"] = pd.read_table(\n",
    "            data_dict[\"file_path\"], index_col=0\n",
    "        )\n",
    "\n",
    "    print(feature_data.keys())"
   ]
  },
  {
   "cell_type": "code",
   "execution_count": null,
   "metadata": {},
   "outputs": [],
   "source": [
    "sample_data = SETTING[\"sample_data\"]\n",
    "\n",
    "if sample_data is None:\n",
    "\n",
    "    sample_data = {}\n",
    "\n",
    "else:\n",
    "\n",
    "    for data_name, data_dict in sample_data.items():\n",
    "\n",
    "        sample_data[data_name][\"df\"] = pd.read_table(\n",
    "            data_dict[\"file_path\"], index_col=0\n",
    "        )\n",
    "\n",
    "    print(sample_data.keys())"
   ]
  },
  {
   "cell_type": "code",
   "execution_count": null,
   "metadata": {},
   "outputs": [],
   "source": [
    "make_match_panels_kwargs = dict(\n",
    "    n_job=SETTING[\"max_n_job\"],\n",
    "    n_required_for_match_function=SETTING[\"n_required_for_match_function\"],\n",
    "    extreme_feature_threshold=SETTING[\"extreme_feature_threshold\"],\n",
    "    n_sampling=SETTING[\"n_sampling\"],\n",
    "    n_permutation=SETTING[\"n_permutation\"],\n",
    "    plot_std=SETTING[\"plot_std\"],\n",
    ")"
   ]
  },
  {
   "cell_type": "code",
   "execution_count": null,
   "metadata": {},
   "outputs": [],
   "source": [
    "for w_or_h, targets, data_dicts in (\n",
    "    (\"w\", pd.read_table(PATH[\"w.tsv\"], index_col=0).T, feature_data),\n",
    "    (\"h\", pd.read_table(PATH[\"h.tsv\"], index_col=0), sample_data),\n",
    "):\n",
    "\n",
    "    ccal.make_match_panels(\n",
    "        targets,\n",
    "        data_dicts,\n",
    "        directory_path=PATH[\"{}|match/\".format(w_or_h)],\n",
    "        plotly_directory_path=PATH[\"plotly|{}_match/\".format(w_or_h)],\n",
    "        **make_match_panels_kwargs,\n",
    "    )"
   ]
  },
  {
   "cell_type": "code",
   "execution_count": null,
   "metadata": {},
   "outputs": [],
   "source": [
    "for w_or_h, data_dicts in ((\"w\", feature_data), (\"h\", sample_data)):\n",
    "\n",
    "    targets = pd.read_table(PATH[\"{}|cluster_x_column.tsv\".format(w_or_h)], index_col=0)\n",
    "\n",
    "    ccal.make_match_panels(\n",
    "        targets,\n",
    "        data_dicts,\n",
    "        target_type=\"binary\",\n",
    "        cluster_within_category=targets.shape[1] < SETTING[\"plot_cluster_max_size\"],\n",
    "        directory_path=PATH[\"{}|hcc|match/\".format(w_or_h)],\n",
    "        plotly_directory_path=PATH[\"plotly|{}_match/\".format(w_or_h)],\n",
    "        **make_match_panels_kwargs,\n",
    "    )"
   ]
  }
 ],
 "metadata": {
  "kernelspec": {
   "display_name": "Python 3",
   "language": "python",
   "name": "python3"
  },
  "language_info": {
   "codemirror_mode": {
    "name": "ipython",
    "version": 3
   },
   "file_extension": ".py",
   "mimetype": "text/x-python",
   "name": "python",
   "nbconvert_exporter": "python",
   "pygments_lexer": "ipython3",
   "version": "3.6.7"
  }
 },
 "nbformat": 4,
 "nbformat_minor": 2
}
