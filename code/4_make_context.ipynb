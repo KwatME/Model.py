{
 "cells": [
  {
   "cell_type": "code",
   "execution_count": null,
   "metadata": {
    "ExecuteTime": {
     "end_time": "2018-07-06T10:05:23.970019Z",
     "start_time": "2018-07-06T10:05:23.955799Z"
    }
   },
   "outputs": [],
   "source": [
    "%load_ext autoreload\n",
    "%autoreload 2"
   ]
  },
  {
   "cell_type": "code",
   "execution_count": null,
   "metadata": {
    "ExecuteTime": {
     "end_time": "2018-07-06T20:13:16.628911Z",
     "start_time": "2018-07-06T20:13:14.935143Z"
    }
   },
   "outputs": [],
   "source": [
    "from environment import *\n",
    "\n",
    "SETTING = kraft.read_json(\"setting.json\")\n",
    "\n",
    "PATH = make_path_dict(SETTING)"
   ]
  },
  {
   "cell_type": "code",
   "execution_count": null,
   "metadata": {},
   "outputs": [],
   "source": [
    "if SETTING[\"signal_type\"] != \"context\":\n",
    "\n",
    "    raise"
   ]
  },
  {
   "cell_type": "code",
   "execution_count": null,
   "metadata": {
    "ExecuteTime": {
     "end_time": "2018-07-06T10:05:27.241422Z",
     "start_time": "2018-07-06T10:05:25.673877Z"
    }
   },
   "outputs": [],
   "source": [
    "feature_x_sample_processed = pd.read_csv(\n",
    "    PATH[\"feature_x_sample.processed.tsv\"], sep=\"\\t\", index_col=0\n",
    ")\n",
    "\n",
    "feature_x_sample_processed.columns.name = SETTING[\"sample_alias\"]"
   ]
  },
  {
   "cell_type": "code",
   "execution_count": null,
   "metadata": {
    "ExecuteTime": {
     "end_time": "2018-07-06T10:05:56.142744Z",
     "start_time": "2018-07-06T10:05:27.244038Z"
    }
   },
   "outputs": [],
   "source": [
    "for element_type, dataframe in (\n",
    "    (\"feature\", feature_x_sample_processed),\n",
    "    (\"sample\", feature_x_sample_processed.T),\n",
    "):\n",
    "\n",
    "    if element_type not in SETTING[\"context_element_types\"]:\n",
    "\n",
    "        continue\n",
    "\n",
    "    element_x_fit_parameter = pd.read_csv(\n",
    "        PATH[f\"{element_type}_x_fit_parameter.tsv\"], sep=\"\\t\", index_col=0\n",
    "    )\n",
    "\n",
    "    context_matrix = kraft.make_context_matrix(\n",
    "        dataframe,\n",
    "        n_job=SETTING[\"n_job\"],\n",
    "        skew_t_pdf_fit_parameter=element_x_fit_parameter,\n",
    "        output_file_path=PATH[f\"feature_x_sample.{element_type}_context.tsv\"],\n",
    "    )\n",
    "\n",
    "    context_matrix = pd.read_csv(\n",
    "        PATH[f\"feature_x_sample.{element_type}_context.tsv\"], sep=\"\\t\", index_col=0\n",
    "    )\n",
    "\n",
    "    kraft.summarize_feature_x_sample(\n",
    "        context_matrix,\n",
    "        feature_x_sample_alias=f\"{SETTING[f'{element_type}_alias']} Context\",\n",
    "        feature_x_sample_value_name=\"Context\",\n",
    "        plot_heat_map_max_size=SETTING[\"plot_heat_map_max_size\"],\n",
    "        plot_histogram_max_size=SETTING[\"plot_histogram_max_size\"],\n",
    "        plot_rug_max_size=SETTING[\"plot_rug_max_size\"],\n",
    "    )\n",
    "\n",
    "    for context_type, clip_keyword_arguments in (\n",
    "        (\"negative\", {\"upper\": 0}),\n",
    "        (\"positive\", {\"lower\": 0}),\n",
    "    ):\n",
    "\n",
    "        element_context_sorted = (\n",
    "            context_matrix.clip(**clip_keyword_arguments).sum(axis=1).sort_values()\n",
    "        )\n",
    "\n",
    "        elements_to_peek = (\n",
    "            element_context_sorted.index & SETTING[f\"{element_type}s_to_peek\"]\n",
    "        )\n",
    "\n",
    "        kraft.plot_and_save(\n",
    "            {\n",
    "                \"layout\": {\n",
    "                    \"title\": {\"text\": SETTING[f\"{element_type}_alias\"]},\n",
    "                    \"xaxis\": {\"title\": \"Rank\"},\n",
    "                    \"yaxis\": {\"title\": f\"{context_type.title()} Context Sum\"},\n",
    "                    \"annotations\": [\n",
    "                        {\n",
    "                            \"x\": element,\n",
    "                            \"y\": element_context_sorted[element],\n",
    "                            \"text\": element,\n",
    "                            \"textangle\": -90,\n",
    "                            \"font\": {\"size\": 10},\n",
    "                            \"arrowhead\": 2,\n",
    "                            \"arrowsize\": 0.64,\n",
    "                        }\n",
    "                        for element in elements_to_peek\n",
    "                    ],\n",
    "                },\n",
    "                \"data\": [\n",
    "                    {\n",
    "                        \"type\": \"scatter\",\n",
    "                        \"name\": \"All\",\n",
    "                        \"x\": element_context_sorted.index,\n",
    "                        \"y\": element_context_sorted,\n",
    "                        \"text\": element_context_sorted.index,\n",
    "                    }\n",
    "                ],\n",
    "            },\n",
    "            None,\n",
    "        )\n",
    "\n",
    "        if context_type == \"negative\":\n",
    "\n",
    "            extreme_elements = element_context_sorted.index[:3]\n",
    "\n",
    "        elif context_type == \"positive\":\n",
    "\n",
    "            extreme_elements = element_context_sorted.index[-3:]\n",
    "\n",
    "        for extreme_element in extreme_elements:\n",
    "\n",
    "            n_data, location, scale, degree_of_freedom, shape = element_x_fit_parameter.loc[\n",
    "                extreme_element,\n",
    "                [\"N Data\", \"Location\", \"Scale\", \"Degree of Freedom\", \"Shape\"],\n",
    "            ]\n",
    "\n",
    "            kraft.plot_context(\n",
    "                dataframe.loc[extreme_element],\n",
    "                n_data=n_data,\n",
    "                location=location,\n",
    "                scale=scale,\n",
    "                degree_of_freedom=degree_of_freedom,\n",
    "                shape=shape,\n",
    "                xaxis_title=SETTING[\"feature_x_sample_value_name\"],\n",
    "            )"
   ]
  }
 ],
 "metadata": {
  "kernelspec": {
   "display_name": "Python 3",
   "language": "python",
   "name": "python3"
  },
  "language_info": {
   "codemirror_mode": {
    "name": "ipython",
    "version": 3
   },
   "file_extension": ".py",
   "mimetype": "text/x-python",
   "name": "python",
   "nbconvert_exporter": "python",
   "pygments_lexer": "ipython3",
   "version": "3.7.3"
  }
 },
 "nbformat": 4,
 "nbformat_minor": 2
}
