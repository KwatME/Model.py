{
 "cells": [
  {
   "cell_type": "code",
   "execution_count": null,
   "metadata": {},
   "outputs": [],
   "source": [
    "from __init__ import *"
   ]
  },
  {
   "cell_type": "code",
   "execution_count": null,
   "metadata": {},
   "outputs": [],
   "source": [
    "w_df_, h_df_ = read_factorization(\n",
    "    \"../output/matrix_factorization/\", SETTING[\"model_mode\"], SETTING[\"model_data_\"]\n",
    ")"
   ]
  },
  {
   "cell_type": "code",
   "execution_count": null,
   "metadata": {},
   "outputs": [],
   "source": [
    "distance_function = kraft.information.get_icd"
   ]
  },
  {
   "cell_type": "code",
   "execution_count": null,
   "metadata": {},
   "outputs": [],
   "source": [
    "size = 800\n",
    "\n",
    "layout = {\"height\": size, \"width\": size}"
   ]
  },
  {
   "cell_type": "code",
   "execution_count": null,
   "metadata": {},
   "outputs": [],
   "source": [
    "factor_label_ = h_df_[0].index.to_numpy()"
   ]
  },
  {
   "cell_type": "code",
   "execution_count": null,
   "metadata": {},
   "outputs": [],
   "source": [
    "w_node_x_node_distance_matrix_ = []\n",
    "\n",
    "for index, df in enumerate(w_df_):\n",
    "\n",
    "    matrix = df.to_numpy().T\n",
    "\n",
    "    node_x_node_distance = kraft.array.function_on_2_2d_array(\n",
    "        matrix, matrix, distance_function\n",
    "    )\n",
    "\n",
    "    kraft.plot.plot_heat_map(\n",
    "        node_x_node_distance,\n",
    "        factor_label_,\n",
    "        factor_label_,\n",
    "        \"Factor\",\n",
    "        \"Factor\",\n",
    "        layout={\"title\": {\"text\": \"W {} Distance\".format(index)}, **layout},\n",
    "    )\n",
    "\n",
    "    w_node_x_node_distance_matrix_.append(node_x_node_distance)"
   ]
  },
  {
   "cell_type": "code",
   "execution_count": null,
   "metadata": {},
   "outputs": [],
   "source": [
    "h_node_x_node_distance_matrix_ = []\n",
    "\n",
    "for index, df in enumerate(h_df_):\n",
    "\n",
    "    matrix = df.to_numpy()\n",
    "\n",
    "    node_x_node_distance = kraft.array.function_on_2_2d_array(\n",
    "        matrix, matrix, distance_function,\n",
    "    )\n",
    "\n",
    "    kraft.plot.plot_heat_map(\n",
    "        node_x_node_distance,\n",
    "        factor_label_,\n",
    "        factor_label_,\n",
    "        \"Factor\",\n",
    "        \"Factor\",\n",
    "        layout={\"title\": {\"text\": \"H {} Distance\".format(index)}, **layout},\n",
    "    )\n",
    "\n",
    "    h_node_x_node_distance_matrix_.append(node_x_node_distance)"
   ]
  },
  {
   "cell_type": "code",
   "execution_count": null,
   "metadata": {},
   "outputs": [],
   "source": [
    "node_x_node_distance_matrix = np.median(\n",
    "    np.asarray(w_node_x_node_distance_matrix_ + h_node_x_node_distance_matrix_), axis=0\n",
    ")\n",
    "\n",
    "kraft.plot.plot_heat_map(\n",
    "    node_x_node_distance_matrix,\n",
    "    factor_label_,\n",
    "    factor_label_,\n",
    "    \"Factor\",\n",
    "    \"Factor\",\n",
    "    layout={\"title\": {\"text\": \"W H Distance\"}, **layout},\n",
    ")"
   ]
  },
  {
   "cell_type": "code",
   "execution_count": null,
   "metadata": {},
   "outputs": [],
   "source": [
    "node_marker_size = 24\n",
    "\n",
    "if 1 < len(SETTING[\"resolution_\"]):\n",
    "\n",
    "    r_ = np.asarray(\n",
    "        tuple(int(label.split(maxsplit=1)[1][0]) for label in factor_label_)\n",
    "    )\n",
    "\n",
    "    node_marker_size *= 2 ** (1 - kraft.array.normalize(r_, \"0-1\"))"
   ]
  },
  {
   "cell_type": "code",
   "execution_count": null,
   "metadata": {},
   "outputs": [],
   "source": [
    "directory_path = \"../output/gps_map/\"\n",
    "\n",
    "kraft.path.make(directory_path)"
   ]
  },
  {
   "cell_type": "code",
   "execution_count": null,
   "metadata": {},
   "outputs": [],
   "source": [
    "for w_h_symbol in (\"w\", \"h\"):\n",
    "\n",
    "    if w_h_symbol == \"w\":\n",
    "\n",
    "        point_x_node = pd.concat(w_df_)\n",
    "\n",
    "    else:\n",
    "\n",
    "        point_x_node = pd.concat(h_df_, axis=1).T\n",
    "\n",
    "    point_x_node **= SETTING[\"{}_gps_map_node_power\".format(w_h_symbol)]\n",
    "\n",
    "    # TODO: make a gps map know its node marke size\n",
    "    gps_map = kraft.gps_map.GPSMap(node_x_node_distance, point_x_node)\n",
    "\n",
    "    kraft.gps_map.write(\n",
    "        \"{}{}_gps_map.pickle.gz\".format(directory_path, w_h_symbol), gps_map\n",
    "    )\n",
    "\n",
    "    gps_map.plot(\n",
    "        node_trace={\"marker\": {\"size\": node_marker_size}},\n",
    "        point_trace={\n",
    "            \"marker\": {\"size\": SETTING[\"{}_gps_map_point_size\".format(w_h_symbol)]}\n",
    "        },\n",
    "        file_path=\"{}{}_gps_map.html\".format(directory_path, w_h_symbol),\n",
    "    )"
   ]
  }
 ],
 "metadata": {
  "kernelspec": {
   "display_name": "Python 3",
   "language": "python",
   "name": "python3"
  },
  "language_info": {
   "codemirror_mode": {
    "name": "ipython",
    "version": 3
   },
   "file_extension": ".py",
   "mimetype": "text/x-python",
   "name": "python",
   "nbconvert_exporter": "python",
   "pygments_lexer": "ipython3",
   "version": "3.7.8"
  }
 },
 "nbformat": 4,
 "nbformat_minor": 4
}
