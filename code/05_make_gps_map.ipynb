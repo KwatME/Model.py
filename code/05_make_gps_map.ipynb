{
 "cells": [
  {
   "cell_type": "code",
   "execution_count": null,
   "metadata": {},
   "outputs": [],
   "source": [
    "from __init__ import *"
   ]
  },
  {
   "cell_type": "code",
   "execution_count": null,
   "metadata": {},
   "outputs": [],
   "source": [
    "w_df_, h_df_ = read_factorization(\n",
    "    \"../output/matrix_factorization/\", SETTING[\"model_mode\"], SETTING[\"model_data_\"]\n",
    ")"
   ]
  },
  {
   "cell_type": "code",
   "execution_count": null,
   "metadata": {},
   "outputs": [],
   "source": [
    "distance_function = kraft.information.get_icd"
   ]
  },
  {
   "cell_type": "code",
   "execution_count": null,
   "metadata": {},
   "outputs": [],
   "source": [
    "size = 640\n",
    "\n",
    "layout = {\"height\": size, \"width\": size}"
   ]
  },
  {
   "cell_type": "code",
   "execution_count": null,
   "metadata": {},
   "outputs": [],
   "source": [
    "factor_label_ = h_df_[0].index.to_numpy()\n",
    "\n",
    "factor_name = \"Factor\""
   ]
  },
  {
   "cell_type": "code",
   "execution_count": null,
   "metadata": {},
   "outputs": [],
   "source": [
    "w_node_x_node = []\n",
    "\n",
    "for index, df in enumerate(w_df_):\n",
    "\n",
    "    matrix = df.to_numpy().T\n",
    "\n",
    "    node_x_node = kraft.array.function_on_2_2d_array(matrix, matrix, distance_function)\n",
    "\n",
    "    kraft.plot.plot_heat_map(\n",
    "        node_x_node,\n",
    "        factor_label_,\n",
    "        factor_label_,\n",
    "        factor_name,\n",
    "        factor_name,\n",
    "        layout={\"title\": {\"text\": \"W {} Distance\".format(index)}, **layout},\n",
    "    )\n",
    "\n",
    "    w_node_x_node.append(node_x_node)"
   ]
  },
  {
   "cell_type": "code",
   "execution_count": null,
   "metadata": {},
   "outputs": [],
   "source": [
    "h_node_x_node = []\n",
    "\n",
    "for index, df in enumerate(h_df_):\n",
    "\n",
    "    matrix = df.to_numpy()\n",
    "\n",
    "    node_x_node = kraft.array.function_on_2_2d_array(\n",
    "        matrix,\n",
    "        matrix,\n",
    "        distance_function,\n",
    "    )\n",
    "\n",
    "    kraft.plot.plot_heat_map(\n",
    "        node_x_node,\n",
    "        factor_label_,\n",
    "        factor_label_,\n",
    "        factor_name,\n",
    "        factor_name,\n",
    "        layout={\"title\": {\"text\": \"H {} Distance\".format(index)}, **layout},\n",
    "    )\n",
    "\n",
    "    h_node_x_node.append(node_x_node)"
   ]
  },
  {
   "cell_type": "code",
   "execution_count": null,
   "metadata": {},
   "outputs": [],
   "source": [
    "node_x_node = np.median(np.asarray(w_node_x_node + h_node_x_node), axis=0)\n",
    "\n",
    "kraft.plot.plot_heat_map(\n",
    "    node_x_node,\n",
    "    factor_label_,\n",
    "    factor_label_,\n",
    "    factor_name,\n",
    "    factor_name,\n",
    "    layout={\"title\": {\"text\": \"W H Distance\"}, **layout},\n",
    ")"
   ]
  },
  {
   "cell_type": "code",
   "execution_count": null,
   "metadata": {},
   "outputs": [],
   "source": [
    "node_marker_size = 24\n",
    "\n",
    "if 1 < len(SETTING[\"resolution_\"]):\n",
    "\n",
    "    r_ = np.asarray(\n",
    "        tuple(int(label.split(maxsplit=1)[1][0]) for label in factor_label_)\n",
    "    )\n",
    "\n",
    "    node_marker_size *= 2 ** (1 - kraft.array.normalize(r_, \"0-1\"))"
   ]
  },
  {
   "cell_type": "code",
   "execution_count": null,
   "metadata": {},
   "outputs": [],
   "source": [
    "for w_h_symbol in (\"w\", \"h\"):\n",
    "\n",
    "    if w_h_symbol == \"w\":\n",
    "\n",
    "        point_x_node = pd.concat(w_df_)\n",
    "\n",
    "    else:\n",
    "\n",
    "        point_x_node = pd.concat(h_df_, axis=1).T\n",
    "\n",
    "    directory_path = \"../output/gps_map/{}/\".format(w_h_symbol)\n",
    "\n",
    "    kraft.path.make(directory_path)\n",
    "\n",
    "    gps_map = kraft.gps_map.GPSMap(\n",
    "        factor_name,\n",
    "        factor_label_,\n",
    "        node_x_node,\n",
    "        point_x_node.index.name,\n",
    "        point_x_node.index.to_numpy(),\n",
    "        point_x_node.to_numpy() ** SETTING[\"{}_gps_map_node_power\".format(w_h_symbol)],\n",
    "        node_marker_size=node_marker_size,\n",
    "    )\n",
    "\n",
    "    gps_map.set_group(\"closest_node\")\n",
    "\n",
    "    kraft.gps_map.write(\n",
    "        \"{}gps_map.pickle.gz\".format(directory_path, w_h_symbol), gps_map\n",
    "    )\n",
    "\n",
    "    gps_map.plot(\n",
    "        point_trace={\n",
    "            \"marker\": {\"size\": SETTING[\"{}_gps_map_point_size\".format(w_h_symbol)]}\n",
    "        },\n",
    "        file_path=\"{}/gps_map.html\".format(directory_path),\n",
    "    )"
   ]
  }
 ],
 "metadata": {
  "kernelspec": {
   "display_name": "Python 3",
   "language": "python",
   "name": "python3"
  },
  "language_info": {
   "codemirror_mode": {
    "name": "ipython",
    "version": 3
   },
   "file_extension": ".py",
   "mimetype": "text/x-python",
   "name": "python",
   "nbconvert_exporter": "python",
   "pygments_lexer": "ipython3",
   "version": "3.7.8"
  }
 },
 "nbformat": 4,
 "nbformat_minor": 4
}
