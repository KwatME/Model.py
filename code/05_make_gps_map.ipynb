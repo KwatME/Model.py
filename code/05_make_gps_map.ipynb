{
 "cells": [
  {
   "cell_type": "code",
   "execution_count": null,
   "metadata": {},
   "outputs": [],
   "source": [
    "from __init__ import *"
   ]
  },
  {
   "cell_type": "code",
   "execution_count": null,
   "metadata": {},
   "outputs": [],
   "source": [
    "ws, hs = read_ws_hs(\"../output/mf\", SETTING[\"model_mode\"], SETTING[\"model_data_dicts\"],)"
   ]
  },
  {
   "cell_type": "code",
   "execution_count": null,
   "metadata": {},
   "outputs": [],
   "source": [
    "distance_function = kraft.information.get_icd\n",
    "\n",
    "size = 800\n",
    "\n",
    "layout = {\"height\": size, \"width\": size}"
   ]
  },
  {
   "cell_type": "code",
   "execution_count": null,
   "metadata": {},
   "outputs": [],
   "source": [
    "w_node_x_node_d_s = []\n",
    "\n",
    "for i, w in enumerate(ws):\n",
    "\n",
    "    labels = w.columns\n",
    "\n",
    "    m = w.to_numpy()\n",
    "\n",
    "    d = kraft.array.apply_function_on_slices_from_2_matrices(\n",
    "        m, m, 1, distance_function,\n",
    "    )\n",
    "\n",
    "    w_node_x_node_d_s.append(d)\n",
    "\n",
    "    kraft.plot.plot_heat_map(\n",
    "        pd.DataFrame(data=d, index=labels, columns=labels),\n",
    "        layout={\"title\": {\"text\": \"W {} Distance\".format(i)}, **layout},\n",
    "    )"
   ]
  },
  {
   "cell_type": "code",
   "execution_count": null,
   "metadata": {},
   "outputs": [],
   "source": [
    "h_node_x_node_d_s = []\n",
    "\n",
    "for i, h in enumerate(hs):\n",
    "\n",
    "    labels = h.index\n",
    "\n",
    "    m = h.to_numpy()\n",
    "\n",
    "    d = kraft.array.apply_function_on_slices_from_2_matrices(\n",
    "        m, m, 0, distance_function,\n",
    "    )\n",
    "\n",
    "    h_node_x_node_d_s.append(d)\n",
    "\n",
    "    kraft.plot.plot_heat_map(\n",
    "        pd.DataFrame(data=d, index=labels, columns=labels),\n",
    "        layout={\"title\": {\"text\": \"H {} Distance\".format(i)}, **layout},\n",
    "    )"
   ]
  },
  {
   "cell_type": "code",
   "execution_count": null,
   "metadata": {},
   "outputs": [],
   "source": [
    "node_x_node_d_s = np.concatenate((w_node_x_node_d_s, h_node_x_node_d_s))\n",
    "\n",
    "node_x_node_d = pd.DataFrame(\n",
    "    data=np.mean(node_x_node_d_s, axis=0), index=hs[0].index, columns=ws[0].columns\n",
    ")\n",
    "\n",
    "kraft.plot.plot_heat_map(\n",
    "    node_x_node_d, layout={\"title\": {\"text\": \"W H Distance\"}, **layout},\n",
    ")"
   ]
  },
  {
   "cell_type": "code",
   "execution_count": null,
   "metadata": {},
   "outputs": [],
   "source": [
    "rs_01 = kraft.array.normalize(\n",
    "    np.concatenate(tuple((r,) * r for r in SETTING[\"mf_rs\"])), \"0-1\"\n",
    ")\n",
    "\n",
    "node_factors = SETTING[\"mf_r_range\"] ** rs_01\n",
    "\n",
    "node_marker_size = 3 ** (1 - rs_01) * 16"
   ]
  },
  {
   "cell_type": "code",
   "execution_count": null,
   "metadata": {},
   "outputs": [],
   "source": [
    "directory_path = \"../output/gps_map/\"\n",
    "\n",
    "kraft.path.path(directory_path)\n",
    "\n",
    "for w_h_str in (\"w\", \"h\"):\n",
    "\n",
    "    if w_h_str == \"w\":\n",
    "\n",
    "        element_x_node = pd.concat(ws)\n",
    "\n",
    "    else:\n",
    "\n",
    "        element_x_node = pd.concat(hs, axis=1).T\n",
    "\n",
    "    element_x_node *= node_factors\n",
    "\n",
    "    element_x_node **= SETTING[\"{}_gps_map_node_power\".format(w_h_str)]\n",
    "\n",
    "    gps_map = kraft.gps_map.GPSMap(node_x_node_d, element_x_node,)\n",
    "\n",
    "    kraft.gps_map.write_gps_map(\n",
    "        \"{}/{}_gps_map.pickle.gz\".format(directory_path, w_h_str), gps_map\n",
    "    )\n",
    "\n",
    "    gps_map.plot(\n",
    "        point_trace=SETTING[\"{}_gps_map_element_trace\".format(w_h_str)],\n",
    "        html_file_path=\"{}/{}_gps_map.html\".format(directory_path, w_h_str),\n",
    "    )"
   ]
  }
 ],
 "metadata": {
  "kernelspec": {
   "display_name": "Python 3",
   "language": "python",
   "name": "python3"
  },
  "language_info": {
   "codemirror_mode": {
    "name": "ipython",
    "version": 3
   },
   "file_extension": ".py",
   "mimetype": "text/x-python",
   "name": "python",
   "nbconvert_exporter": "python",
   "pygments_lexer": "ipython3",
   "version": "3.7.8"
  }
 },
 "nbformat": 4,
 "nbformat_minor": 4
}
