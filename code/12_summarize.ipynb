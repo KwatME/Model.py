{
 "cells": [
  {
   "cell_type": "code",
   "execution_count": null,
   "metadata": {
    "ExecuteTime": {
     "end_time": "2018-07-06T07:59:49.777639Z",
     "start_time": "2018-07-06T07:59:49.765242Z"
    }
   },
   "outputs": [],
   "source": [
    "%load_ext autoreload\n",
    "%autoreload 2"
   ]
  },
  {
   "cell_type": "code",
   "execution_count": null,
   "metadata": {
    "ExecuteTime": {
     "end_time": "2018-07-08T02:00:18.306031Z",
     "start_time": "2018-07-08T02:00:18.276698Z"
    }
   },
   "outputs": [],
   "source": [
    "from environment import *\n",
    "\n",
    "with open(\"setting.yaml\") as yaml_file:\n",
    "\n",
    "    setting = yaml.load(yaml_file)\n",
    "\n",
    "path = make_path_dict(setting)"
   ]
  },
  {
   "cell_type": "code",
   "execution_count": null,
   "metadata": {},
   "outputs": [],
   "source": [
    "w = pd.read_table(path[\"w.tsv\"], index_col=0)\n",
    "\n",
    "w_signature = pd.read_table(path[\"w|signature.tsv\"], index_col=0)\n",
    "\n",
    "w_signature.columns = (\"{} Signature\".format(c) for c in w_signature.columns)\n",
    "\n",
    "w_element_cluster = pd.read_table(path[\"w|hcc.k_x_column.tsv\"], index_col=0).loc[\n",
    "    \"K{}\".format(setting[\"w_hcc_k\"])\n",
    "]\n",
    "\n",
    "w_element_cluster.name = \"Cluster\"\n",
    "\n",
    "feature_summary = pd.concat((w, w_signature, w_element_cluster), axis=1)\n",
    "\n",
    "feature_summary.to_csv(\n",
    "    \"{}/feature_x_summary_information.tsv\".format(path[\"summary/\"]), sep=\"\\t\"\n",
    ")\n",
    "\n",
    "feature_summary"
   ]
  },
  {
   "cell_type": "code",
   "execution_count": null,
   "metadata": {},
   "outputs": [],
   "source": [
    "h = pd.read_table(path[\"h.tsv\"], index_col=0)\n",
    "\n",
    "h_signature = pd.read_table(path[\"h|signature.tsv\"], index_col=0)\n",
    "\n",
    "h_signature.index = (\"{} Signature\".format(i) for i in h_signature.index)\n",
    "\n",
    "h_element_cluster = pd.read_table(path[\"h|hcc.k_x_column.tsv\"], index_col=0).loc[\n",
    "    \"K{}\".format(setting[\"h_hcc_k\"])\n",
    "]\n",
    "\n",
    "h_element_cluster.name = \"Cluster\"\n",
    "\n",
    "sample_summary = pd.concat((h.T, h_signature.T, h_element_cluster), axis=1)\n",
    "\n",
    "sample_summary.to_csv(\n",
    "    \"{}/sample_x_summary_information.tsv\".format(path[\"summary/\"]), sep=\"\\t\"\n",
    ")\n",
    "\n",
    "sample_summary"
   ]
  }
 ],
 "metadata": {
  "kernelspec": {
   "display_name": "Python 3",
   "language": "python",
   "name": "python3"
  },
  "language_info": {
   "codemirror_mode": {
    "name": "ipython",
    "version": 3
   },
   "file_extension": ".py",
   "mimetype": "text/x-python",
   "name": "python",
   "nbconvert_exporter": "python",
   "pygments_lexer": "ipython3",
   "version": "3.6.7"
  }
 },
 "nbformat": 4,
 "nbformat_minor": 2
}
