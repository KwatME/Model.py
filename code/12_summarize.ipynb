{
 "cells": [
  {
   "cell_type": "code",
   "execution_count": null,
   "metadata": {
    "ExecuteTime": {
     "end_time": "2018-07-06T07:59:49.777639Z",
     "start_time": "2018-07-06T07:59:49.765242Z"
    }
   },
   "outputs": [],
   "source": [
    "%load_ext autoreload\n",
    "%autoreload 2"
   ]
  },
  {
   "cell_type": "code",
   "execution_count": null,
   "metadata": {
    "ExecuteTime": {
     "end_time": "2018-07-08T02:00:18.306031Z",
     "start_time": "2018-07-08T02:00:18.276698Z"
    }
   },
   "outputs": [],
   "source": [
    "from environment import *\n",
    "\n",
    "with open(\"setting.yaml\") as yaml_file:\n",
    "\n",
    "    SETTING = yaml.load(yaml_file)\n",
    "\n",
    "PATH = make_path_dict(SETTING)"
   ]
  },
  {
   "cell_type": "code",
   "execution_count": null,
   "metadata": {},
   "outputs": [],
   "source": [
    "w = pd.read_table(PATH[\"w.tsv\"], index_col=0)\n",
    "\n",
    "w.columns.name = \"Factor\"\n",
    "\n",
    "h = pd.read_table(PATH[\"h.tsv\"], index_col=0)\n",
    "\n",
    "h.columns.name = SETTING[\"sample_alias\"]"
   ]
  },
  {
   "cell_type": "code",
   "execution_count": null,
   "metadata": {},
   "outputs": [],
   "source": [
    "w_signature = pd.read_table(PATH[\"w|signature.tsv\"], index_col=0)\n",
    "\n",
    "w_signature.columns.name = w.columns.name\n",
    "\n",
    "h_signature = pd.read_table(PATH[\"h|signature.tsv\"], index_col=0)\n",
    "\n",
    "h_signature.columns.name = h.columns.name"
   ]
  },
  {
   "cell_type": "code",
   "execution_count": null,
   "metadata": {},
   "outputs": [],
   "source": [
    "w_signature.columns = pd.Index(\n",
    "    (\"{} Signature\".format(factor_name) for factor_name in w_signature.columns),\n",
    "    name=w_signature.columns.name,\n",
    ")\n",
    "\n",
    "h_signature.index = pd.Index(\n",
    "    (\"{} Signature\".format(factor_name) for factor_name in h_signature.index),\n",
    "    name=h_signature.index.name,\n",
    ")"
   ]
  },
  {
   "cell_type": "code",
   "execution_count": null,
   "metadata": {},
   "outputs": [],
   "source": [
    "w_element_cluster = pd.read_table(PATH[\"w|cluster_x_column.tsv\"], index_col=0).apply(\n",
    "    lambda column: column.argmax()\n",
    ")\n",
    "\n",
    "w_element_cluster.name = \"Cluster\"\n",
    "\n",
    "w_element_cluster.index.name = w.index.name\n",
    "\n",
    "h_element_cluster = pd.read_table(PATH[\"h|cluster_x_column.tsv\"], index_col=0).apply(\n",
    "    lambda column: column.argmax()\n",
    ")\n",
    "\n",
    "h_element_cluster.name = \"Cluster\"\n",
    "\n",
    "h_element_cluster.index.name = h.columns.name"
   ]
  },
  {
   "cell_type": "code",
   "execution_count": null,
   "metadata": {},
   "outputs": [],
   "source": [
    "feature_summary = pd.concat((w, w_signature, w_element_cluster), axis=1)\n",
    "\n",
    "feature_summary.to_csv(\n",
    "    \"{}/feature_x_summary_information.tsv\".format(PATH[\"summary/\"]), sep=\"\\t\"\n",
    ")\n",
    "\n",
    "feature_summary"
   ]
  },
  {
   "cell_type": "code",
   "execution_count": null,
   "metadata": {},
   "outputs": [],
   "source": [
    "sample_summary = pd.concat((h.T, h_signature.T, h_element_cluster), axis=1)\n",
    "\n",
    "sample_summary.to_csv(\n",
    "    \"{}/sample_x_summary_information.tsv\".format(PATH[\"summary/\"]), sep=\"\\t\"\n",
    ")\n",
    "\n",
    "sample_summary"
   ]
  }
 ],
 "metadata": {
  "kernelspec": {
   "display_name": "Python 3",
   "language": "python",
   "name": "python3"
  },
  "language_info": {
   "codemirror_mode": {
    "name": "ipython",
    "version": 3
   },
   "file_extension": ".py",
   "mimetype": "text/x-python",
   "name": "python",
   "nbconvert_exporter": "python",
   "pygments_lexer": "ipython3",
   "version": "3.6.7"
  }
 },
 "nbformat": 4,
 "nbformat_minor": 2
}
