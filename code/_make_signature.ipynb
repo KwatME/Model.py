{
 "cells": [
  {
   "cell_type": "code",
   "execution_count": null,
   "metadata": {
    "ExecuteTime": {
     "end_time": "2018-07-06T09:43:23.708162Z",
     "start_time": "2018-07-06T09:43:23.691484Z"
    }
   },
   "outputs": [],
   "source": [
    "%load_ext autoreload\n",
    "%autoreload 2"
   ]
  },
  {
   "cell_type": "code",
   "execution_count": null,
   "metadata": {
    "ExecuteTime": {
     "end_time": "2018-07-06T20:13:16.628911Z",
     "start_time": "2018-07-06T20:13:14.935143Z"
    }
   },
   "outputs": [],
   "source": [
    "from environment import *\n",
    "from setting import *"
   ]
  },
  {
   "cell_type": "code",
   "execution_count": null,
   "metadata": {},
   "outputs": [],
   "source": [
    "w = pd.read_table(\n",
    "    PATH_DICT['w_file_path'],\n",
    "    index_col=0,\n",
    ")"
   ]
  },
  {
   "cell_type": "code",
   "execution_count": null,
   "metadata": {},
   "outputs": [],
   "source": [
    "for part_name, part_values in w.items():\n",
    "    \n",
    "    part_values = part_values.sort_values()\n",
    "    \n",
    "    threshold_low = part_values.mean() - part_values.std()\n",
    "    \n",
    "    threshold_high = part_values.mean() + part_values.std()\n",
    "    \n",
    "    is_low =  part_values < threshold_low\n",
    "    \n",
    "    is_high = threshold_high < part_values\n",
    "    \n",
    "    part_values_low = part_values.loc[is_low].sort_values()\n",
    "    \n",
    "    part_values_high = part_values.loc[is_high].sort_values()\n",
    "    \n",
    "    x = np.asarray(range(part_values.size))\n",
    "    \n",
    "    str_ = '{} Value'.format(part_name)\n",
    "\n",
    "    ccal.plot_points(\n",
    "        (\n",
    "            x,\n",
    "            x[is_low],\n",
    "            x[is_high],\n",
    "        ),\n",
    "        (\n",
    "            part_values,\n",
    "            part_values_low,\n",
    "            part_values_high,\n",
    "        ),\n",
    "        names=(\n",
    "            'All',\n",
    "            'Low',\n",
    "            'High',\n",
    "        ),\n",
    "        texts=(\n",
    "            part_values.index,\n",
    "            part_values_low.index,\n",
    "            part_values_high.index,\n",
    "        ),\n",
    "        title='{} Signature'.format(part_name),\n",
    "        xaxis_title='Rank',\n",
    "        yaxis_title=str_,\n",
    "        html_file_path='{}/{}.html'.format(\n",
    "            path_dict['wt_signature_directory_path'],\n",
    "            part_name,\n",
    "        ),\n",
    "    )"
   ]
  }
 ],
 "metadata": {
  "kernelspec": {
   "display_name": "Python 3",
   "language": "python",
   "name": "python3"
  },
  "language_info": {
   "codemirror_mode": {
    "name": "ipython",
    "version": 3
   },
   "file_extension": ".py",
   "mimetype": "text/x-python",
   "name": "python",
   "nbconvert_exporter": "python",
   "pygments_lexer": "ipython3",
   "version": "3.6.7"
  }
 },
 "nbformat": 4,
 "nbformat_minor": 2
}
