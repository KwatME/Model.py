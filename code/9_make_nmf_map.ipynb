{
 "cells": [
  {
   "cell_type": "code",
   "execution_count": null,
   "metadata": {
    "ExecuteTime": {
     "end_time": "2018-06-16T06:45:37.189258Z",
     "start_time": "2018-06-16T06:45:37.176321Z"
    }
   },
   "outputs": [],
   "source": [
    "%load_ext autoreload\n",
    "%autoreload 2"
   ]
  },
  {
   "cell_type": "code",
   "execution_count": null,
   "metadata": {
    "ExecuteTime": {
     "end_time": "2018-06-16T06:45:38.830039Z",
     "start_time": "2018-06-16T06:45:37.190761Z"
    }
   },
   "outputs": [],
   "source": [
    "from environment import *\n",
    "\n",
    "import analysis as a\n",
    "\n",
    "p = make_paths(a)"
   ]
  },
  {
   "cell_type": "code",
   "execution_count": null,
   "metadata": {
    "ExecuteTime": {
     "end_time": "2018-06-16T06:45:38.876205Z",
     "start_time": "2018-06-16T06:45:38.832813Z"
    }
   },
   "outputs": [],
   "source": [
    "w = pd.read_table(p['w_file_path'], index_col=0)\n",
    "\n",
    "h = pd.read_table(p['h_file_path'], index_col=0)"
   ]
  },
  {
   "cell_type": "code",
   "execution_count": null,
   "metadata": {
    "ExecuteTime": {
     "end_time": "2018-06-16T06:45:39.532949Z",
     "start_time": "2018-06-16T06:45:38.877861Z"
    }
   },
   "outputs": [],
   "source": [
    "keep_threshold = 1.0\n",
    "\n",
    "feature_entropy = w.apply(ccal.compute_entropy, axis=1)\n",
    "\n",
    "w = w.loc[feature_entropy.index[\n",
    "    feature_entropy < feature_entropy.quantile(q=keep_threshold)]]\n",
    "\n",
    "print(w.shape)\n",
    "\n",
    "sample_entropy = h.apply(ccal.compute_entropy)\n",
    "\n",
    "h = h[sample_entropy.index[\n",
    "    sample_entropy < sample_entropy.quantile(q=keep_threshold)]]\n",
    "\n",
    "print(h.shape)"
   ]
  },
  {
   "cell_type": "code",
   "execution_count": null,
   "metadata": {
    "ExecuteTime": {
     "end_time": "2018-06-16T06:45:39.553143Z",
     "start_time": "2018-06-16T06:45:39.534851Z"
    },
    "scrolled": false
   },
   "outputs": [],
   "source": [
    "# for i in (2007, 725, 90212, 9909, 2017, 2018) + tuple(range(100)):\n",
    "\n",
    "#     nmf_map = ccal.NMFMap(\n",
    "#         w.T,\n",
    "#         h,\n",
    "#         mds_random_seed=i,\n",
    "#         wt_pull_power=a.NMF_MAP_WT_PULL_POWER,\n",
    "#         h_pull_power=a.NMF_MAP_H_PULL_POWER,\n",
    "#         plot=False)\n",
    "\n",
    "#     for wt_or_h, hcc_k, bandwidth_factor, element_marker_size in (\n",
    "#         ('wt', a.WT_HCC_K, a.NMF_MAP_WT_BANDWIDTH_FACTOR,\n",
    "#          a.NMF_MAP_WT_ELEMENT_MARKER_SIZE),\n",
    "#         ('h', a.H_HCC_K, a.NMF_MAP_H_BANDWIDTH_FACTOR,\n",
    "#          a.NMF_MAP_H_ELEMENT_MARKER_SIZE),\n",
    "#     ):\n",
    "\n",
    "#         if wt_or_h == 'h':\n",
    "\n",
    "#             nmf_map.plot_nmf_map(\n",
    "#                 wt_or_h, title=i, element_marker_size=element_marker_size)"
   ]
  },
  {
   "cell_type": "code",
   "execution_count": null,
   "metadata": {
    "ExecuteTime": {
     "end_time": "2018-06-16T06:45:39.633491Z",
     "start_time": "2018-06-16T06:45:39.554790Z"
    }
   },
   "outputs": [],
   "source": [
    "wt_hcc__k_x_column = pd.read_table(\n",
    "    p['wt_hcc__k_x_column_file_path'], index_col=0)\n",
    "\n",
    "h_hcc__k_x_column = pd.read_table(\n",
    "    p['h_hcc__k_x_column_file_path'], index_col=0)\n",
    "\n",
    "wt_element_states = wt_hcc__k_x_column.loc['K{}'.format(a.WT_HCC_K)]\n",
    "\n",
    "h_element_states = h_hcc__k_x_column.loc['K{}'.format(a.H_HCC_K)]"
   ]
  },
  {
   "cell_type": "code",
   "execution_count": null,
   "metadata": {
    "ExecuteTime": {
     "end_time": "2018-06-16T06:45:39.658324Z",
     "start_time": "2018-06-16T06:45:39.635143Z"
    }
   },
   "outputs": [],
   "source": [
    "wt_element_states = wt_element_states[w.index]\n",
    "\n",
    "h_element_states = h_element_states[h.columns]"
   ]
  },
  {
   "cell_type": "code",
   "execution_count": null,
   "metadata": {
    "ExecuteTime": {
     "end_time": "2018-06-16T06:45:48.580936Z",
     "start_time": "2018-06-16T06:45:39.659890Z"
    },
    "scrolled": false
   },
   "outputs": [],
   "source": [
    "nmf_map = ccal.NMFMap(\n",
    "    w.T,\n",
    "    h,\n",
    "    mds_random_seed=a.NMF_MAP_MDS_RANDOM_SEED,\n",
    "    wt_pull_power=a.NMF_MAP_WT_PULL_POWER,\n",
    "    h_pull_power=a.NMF_MAP_H_PULL_POWER)"
   ]
  },
  {
   "cell_type": "code",
   "execution_count": null,
   "metadata": {
    "ExecuteTime": {
     "end_time": "2018-06-16T06:46:45.948186Z",
     "start_time": "2018-06-16T06:45:48.583514Z"
    },
    "scrolled": false
   },
   "outputs": [],
   "source": [
    "for wt_or_h, hcc_k, element_states, bandwidth_factor, element_marker_size in (\n",
    "    ('wt', a.WT_HCC_K, wt_element_states, a.NMF_MAP_WT_BANDWIDTH_FACTOR,\n",
    "     a.NMF_MAP_WT_ELEMENT_MARKER_SIZE),\n",
    "    ('h', a.H_HCC_K, h_element_states, a.NMF_MAP_H_BANDWIDTH_FACTOR,\n",
    "     a.NMF_MAP_H_ELEMENT_MARKER_SIZE),\n",
    "):\n",
    "\n",
    "    nmf_map.plot_nmf_map(\n",
    "        wt_or_h,\n",
    "        title=a.NAME,\n",
    "        element_marker_size=element_marker_size,\n",
    "        html_file_path='{}/map.html'.format(\n",
    "            p['{}_map_directory_path'.format(wt_or_h)]),\n",
    "        plotly_file_path=p['{}_map_plotly_file_path'.format(wt_or_h)])\n",
    "\n",
    "    nmf_map.set_element_states(\n",
    "        wt_or_h, element_states, bandwidth_factor=bandwidth_factor)\n",
    "\n",
    "    nmf_map.plot_nmf_map(\n",
    "        wt_or_h,\n",
    "        title=a.NAME,\n",
    "        element_marker_size=element_marker_size,\n",
    "        html_file_path='{}/map_{}.html'.format(\n",
    "            p['{}_map_directory_path'.format(wt_or_h)], hcc_k),\n",
    "        plotly_file_path=p['{}_state_map_plotly_file_path'.format(wt_or_h)])"
   ]
  }
 ],
 "metadata": {
  "kernelspec": {
   "display_name": "Python [default]",
   "language": "python",
   "name": "python3"
  },
  "language_info": {
   "codemirror_mode": {
    "name": "ipython",
    "version": 3
   },
   "file_extension": ".py",
   "mimetype": "text/x-python",
   "name": "python",
   "nbconvert_exporter": "python",
   "pygments_lexer": "ipython3",
   "version": "3.6.5"
  }
 },
 "nbformat": 4,
 "nbformat_minor": 2
}
