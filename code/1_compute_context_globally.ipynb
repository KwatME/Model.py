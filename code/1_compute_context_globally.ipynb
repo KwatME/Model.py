{
 "cells": [
  {
   "cell_type": "code",
   "execution_count": null,
   "metadata": {
    "ExecuteTime": {
     "end_time": "2018-07-06T09:45:54.749222Z",
     "start_time": "2018-07-06T09:45:54.734699Z"
    }
   },
   "outputs": [],
   "source": [
    "%load_ext autoreload\n",
    "\n",
    "%autoreload 2"
   ]
  },
  {
   "cell_type": "code",
   "execution_count": null,
   "metadata": {
    "ExecuteTime": {
     "end_time": "2018-07-06T20:13:16.628911Z",
     "start_time": "2018-07-06T20:13:14.935143Z"
    }
   },
   "outputs": [],
   "source": [
    "from environment import *\n",
    "\n",
    "import setting\n",
    "\n",
    "path_dict = path(setting)"
   ]
  },
  {
   "cell_type": "code",
   "execution_count": null,
   "metadata": {
    "ExecuteTime": {
     "end_time": "2018-07-06T09:45:58.046564Z",
     "start_time": "2018-07-06T09:45:56.468953Z"
    }
   },
   "outputs": [],
   "source": [
    "feature_x_sample = pd.read_table(\n",
    "    path_dict['feature_x_sample_file_path'],\n",
    "    index_col=0,\n",
    ")"
   ]
  },
  {
   "cell_type": "code",
   "execution_count": null,
   "metadata": {
    "ExecuteTime": {
     "end_time": "2018-07-06T09:46:04.604773Z",
     "start_time": "2018-07-06T09:45:58.049283Z"
    }
   },
   "outputs": [],
   "source": [
    "series = feature_x_sample.unstack()\n",
    "\n",
    "if series.size < 1e6:\n",
    "\n",
    "    ccal.plot_context(\n",
    "        series,\n",
    "        plot_rug=series.dropna().size < 1e3,\n",
    "        title=setting.NAME,\n",
    "    )\n",
    "\n",
    "for element in (\n",
    "    'feature',\n",
    "    'sample',\n",
    "):\n",
    "\n",
    "    if element == 'feature':\n",
    "\n",
    "        axis = 1\n",
    "\n",
    "    elif element == 'sample':\n",
    "\n",
    "        axis = 0\n",
    "\n",
    "    series = feature_x_sample.mean(axis=axis)\n",
    "\n",
    "    ccal.plot_context(\n",
    "        series,\n",
    "        plot_rug=series.dropna().size < 1e3,\n",
    "        title='({}) Mean'.format(element),\n",
    "    )"
   ]
  }
 ],
 "metadata": {
  "kernelspec": {
   "display_name": "Python 3",
   "language": "python",
   "name": "python3"
  },
  "language_info": {
   "codemirror_mode": {
    "name": "ipython",
    "version": 3
   },
   "file_extension": ".py",
   "mimetype": "text/x-python",
   "name": "python",
   "nbconvert_exporter": "python",
   "pygments_lexer": "ipython3",
   "version": "3.6.5"
  }
 },
 "nbformat": 4,
 "nbformat_minor": 2
}
