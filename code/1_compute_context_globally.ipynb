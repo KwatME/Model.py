{
 "cells": [
  {
   "cell_type": "code",
   "execution_count": null,
   "metadata": {
    "ExecuteTime": {
     "end_time": "2018-06-16T05:36:26.461110Z",
     "start_time": "2018-06-16T05:36:26.448362Z"
    }
   },
   "outputs": [],
   "source": [
    "%load_ext autoreload\n",
    "%autoreload 2"
   ]
  },
  {
   "cell_type": "code",
   "execution_count": null,
   "metadata": {
    "ExecuteTime": {
     "end_time": "2018-06-16T05:36:28.167834Z",
     "start_time": "2018-06-16T05:36:26.462630Z"
    }
   },
   "outputs": [],
   "source": [
    "from environment import *\n",
    "\n",
    "import analysis as a\n",
    "\n",
    "p = make_paths(a)"
   ]
  },
  {
   "cell_type": "code",
   "execution_count": null,
   "metadata": {
    "ExecuteTime": {
     "end_time": "2018-06-16T05:36:29.509634Z",
     "start_time": "2018-06-16T05:36:28.170000Z"
    },
    "scrolled": false
   },
   "outputs": [],
   "source": [
    "feature_x_sample = pd.read_table(p['feature_x_sample_file_path'], index_col=0)"
   ]
  },
  {
   "cell_type": "code",
   "execution_count": null,
   "metadata": {
    "ExecuteTime": {
     "end_time": "2018-06-16T05:36:29.857375Z",
     "start_time": "2018-06-16T05:36:29.511539Z"
    }
   },
   "outputs": [],
   "source": [
    "series = feature_x_sample.unstack().dropna()\n",
    "\n",
    "if series.size < 1e6:\n",
    "\n",
    "    ccal.plot_context(series, plot_rug=series.size < 1e3, title=a.NAME)\n",
    "\n",
    "for element in ('feature', 'sample'):\n",
    "\n",
    "    if element == 'feature':\n",
    "\n",
    "        mean_axis = 1\n",
    "\n",
    "    elif element == 'sample':\n",
    "\n",
    "        mean_axis = 0\n",
    "\n",
    "    series = feature_x_sample.mean(axis=mean_axis)\n",
    "\n",
    "    ccal.plot_context(\n",
    "        series, plot_rug=series.size < 1e3, title='({}) Mean'.format(element))"
   ]
  }
 ],
 "metadata": {
  "kernelspec": {
   "display_name": "Python [default]",
   "language": "python",
   "name": "python3"
  },
  "language_info": {
   "codemirror_mode": {
    "name": "ipython",
    "version": 3
   },
   "file_extension": ".py",
   "mimetype": "text/x-python",
   "name": "python",
   "nbconvert_exporter": "python",
   "pygments_lexer": "ipython3",
   "version": "3.6.5"
  }
 },
 "nbformat": 4,
 "nbformat_minor": 2
}
