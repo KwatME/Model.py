{
 "cells": [
  {
   "cell_type": "code",
   "execution_count": null,
   "metadata": {
    "ExecuteTime": {
     "end_time": "2018-07-06T07:59:49.777639Z",
     "start_time": "2018-07-06T07:59:49.765242Z"
    }
   },
   "outputs": [],
   "source": [
    "%load_ext autoreload\n",
    "%autoreload 2"
   ]
  },
  {
   "cell_type": "code",
   "execution_count": null,
   "metadata": {
    "ExecuteTime": {
     "end_time": "2018-07-08T02:00:18.306031Z",
     "start_time": "2018-07-08T02:00:18.276698Z"
    }
   },
   "outputs": [],
   "source": [
    "from environment import *\n",
    "from setting import *"
   ]
  },
  {
   "cell_type": "code",
   "execution_count": null,
   "metadata": {},
   "outputs": [],
   "source": [
    "h = pd.read_table(\n",
    "    PATH_DICT['h_file_path'],\n",
    "    index_col=0,\n",
    ")\n",
    "\n",
    "sample_state = pd.read_table(\n",
    "    path_dict['h_hcc__k_x_column_file_path'],\n",
    "    index_col=0,\n",
    ").loc['K{}'.format(H_HCC_K)]\n",
    "\n",
    "sample_state.name = 'State'\n",
    "\n",
    "summary = h.append(sample_state)"
   ]
  },
  {
   "cell_type": "code",
   "execution_count": null,
   "metadata": {},
   "outputs": [],
   "source": [
    "summary.to_csv(\n",
    "    '../output/{}.summary.tsv'.format(ccal.untitle_str(NAME)),\n",
    "    sep='\\t',\n",
    ")\n",
    "\n",
    "summary"
   ]
  }
 ],
 "metadata": {
  "kernelspec": {
   "display_name": "Python 3",
   "language": "python",
   "name": "python3"
  },
  "language_info": {
   "codemirror_mode": {
    "name": "ipython",
    "version": 3
   },
   "file_extension": ".py",
   "mimetype": "text/x-python",
   "name": "python",
   "nbconvert_exporter": "python",
   "pygments_lexer": "ipython3",
   "version": "3.6.7"
  }
 },
 "nbformat": 4,
 "nbformat_minor": 2
}
