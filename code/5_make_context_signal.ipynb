{
 "cells": [
  {
   "cell_type": "code",
   "execution_count": null,
   "metadata": {
    "ExecuteTime": {
     "end_time": "2018-07-06T20:13:14.932963Z",
     "start_time": "2018-07-06T20:13:14.920835Z"
    }
   },
   "outputs": [],
   "source": [
    "# cleaning...%load_ext autoreload\n",
    "# cleaning...%autoreload 2"
   ]
  },
  {
   "cell_type": "code",
   "execution_count": null,
   "metadata": {
    "ExecuteTime": {
     "end_time": "2018-07-06T20:13:16.628911Z",
     "start_time": "2018-07-06T20:13:14.935143Z"
    }
   },
   "outputs": [],
   "source": [
    "from __init__ import *"
   ]
  },
  {
   "cell_type": "code",
   "execution_count": null,
   "metadata": {},
   "outputs": [],
   "source": [
    "assert SETTING[\"signal_type\"] == \"context\""
   ]
  },
  {
   "cell_type": "code",
   "execution_count": null,
   "metadata": {},
   "outputs": [],
   "source": [
    "if \"feature\" in SETTING[\"context_element_types\"]:\n",
    "\n",
    "    feature_context = pd.read_csv(\n",
    "        PATH[\"feature_x_sample.feature_context.tsv\"], sep=\"\\t\", index_col=0\n",
    "    )\n",
    "\n",
    "    feature_context.columns.name = SETTING[\"sample_alias\"]\n",
    "\n",
    "    feature_context_negative = feature_context.clip(upper=0)\n",
    "\n",
    "    feature_context_positive = feature_context.clip(lower=0)"
   ]
  },
  {
   "cell_type": "code",
   "execution_count": null,
   "metadata": {},
   "outputs": [],
   "source": [
    "if \"sample\" in SETTING[\"context_element_types\"]:\n",
    "\n",
    "    sample_context = pd.read_csv(\n",
    "        PATH[\"feature_x_sample.sample_context.tsv\"], sep=\"\\t\", index_col=0\n",
    "    ).T\n",
    "\n",
    "    sample_context.index.name = SETTING[\"sample_alias\"]\n",
    "\n",
    "    sample_context_negative = sample_context.clip(upper=0)\n",
    "\n",
    "    sample_context_positive = sample_context.clip(lower=0)"
   ]
  },
  {
   "cell_type": "code",
   "execution_count": null,
   "metadata": {},
   "outputs": [],
   "source": [
    "if (\n",
    "    \"feature\" in SETTING[\"context_element_types\"]\n",
    "    and \"sample\" in SETTING[\"context_element_types\"]\n",
    "):\n",
    "\n",
    "    context_negative = kraft.normalize_dataframe(\n",
    "        feature_context_negative, 1, \"0-1\"\n",
    "    ) + kraft.normalize_dataframe(sample_context_negative, 0, \"0-1\")\n",
    "\n",
    "    context_positive = kraft.normalize_dataframe(\n",
    "        feature_context_positive, 1, \"0-1\"\n",
    "    ) + kraft.normalize_dataframe(sample_context_positive, 0, \"0-1\")\n",
    "\n",
    "elif \"feature\" in SETTING[\"context_element_types\"]:\n",
    "\n",
    "    context_negative = feature_context_negative\n",
    "\n",
    "    context_positive = feature_context_positive\n",
    "\n",
    "elif \"sample\" in SETTING[\"context_element_types\"]:\n",
    "\n",
    "    context_negative = sample_context_negative\n",
    "\n",
    "    context_positive = sample_context_positive"
   ]
  },
  {
   "cell_type": "code",
   "execution_count": null,
   "metadata": {},
   "outputs": [],
   "source": [
    "layout = {\"yaxis\": {\"title\": \"Signal Sum\"}}"
   ]
  },
  {
   "cell_type": "code",
   "execution_count": null,
   "metadata": {},
   "outputs": [],
   "source": [
    "standard_deviation = SETTING[\"select_feature_standard_deviation\"]\n",
    "\n",
    "if SETTING[\"select_feature_automatically\"]:\n",
    "\n",
    "    context_negative_features = kraft.select_series_indices(\n",
    "        context_negative.sum(axis=1),\n",
    "        \"<\",\n",
    "        standard_deviation=standard_deviation,\n",
    "        layout=layout,\n",
    "    )\n",
    "\n",
    "    context_positive_features = kraft.select_series_indices(\n",
    "        context_positive.sum(axis=1),\n",
    "        \">\",\n",
    "        standard_deviation=standard_deviation,\n",
    "        layout=layout,\n",
    "    )\n",
    "\n",
    "else:\n",
    "\n",
    "    context_negative_features = (\n",
    "        context_negative.replace(0, np.nan).dropna(how=\"all\").index\n",
    "    )\n",
    "\n",
    "    context_positive_features = (\n",
    "        context_positive.replace(0, np.nan).dropna(how=\"all\").index\n",
    "    )"
   ]
  },
  {
   "cell_type": "code",
   "execution_count": null,
   "metadata": {},
   "outputs": [],
   "source": [
    "standard_deviation = SETTING[\"select_feature_standard_deviation\"]\n",
    "\n",
    "if SETTING[\"select_sample_automatically\"]:\n",
    "\n",
    "    context_negative_samples = kraft.select_series_indices(\n",
    "        context_negative.sum(),\n",
    "        \"<\",\n",
    "        standard_deviation=standard_deviation,\n",
    "        layout=layout,\n",
    "    )\n",
    "\n",
    "    context_positive_samples = kraft.select_series_indices(\n",
    "        context_positive.sum(),\n",
    "        \">\",\n",
    "        standard_deviation=standard_deviation,\n",
    "        layout=layout,\n",
    "    )\n",
    "\n",
    "else:\n",
    "\n",
    "    context_negative_samples = (\n",
    "        context_negative.replace(0, np.nan).dropna(how=\"all\").columns\n",
    "    )\n",
    "\n",
    "    context_positive_samples = (\n",
    "        context_positive.replace(0, np.nan).dropna(how=\"all\").columns\n",
    "    )"
   ]
  },
  {
   "cell_type": "code",
   "execution_count": null,
   "metadata": {},
   "outputs": [],
   "source": [
    "context_negative_signal = context_negative.loc[\n",
    "    context_negative_features, context_negative_samples\n",
    "]\n",
    "\n",
    "context_positive_signal = context_positive.loc[\n",
    "    context_positive_features, context_positive_samples\n",
    "]"
   ]
  },
  {
   "cell_type": "code",
   "execution_count": null,
   "metadata": {},
   "outputs": [],
   "source": [
    "if \"negative\" in SETTING[\"contexts\"] and \"positive\" in SETTING[\"contexts\"]:\n",
    "\n",
    "    context_negative_signal.index = pd.Index(\n",
    "        (\"(-) {}\".format(feature) for feature in context_negative_signal.index),\n",
    "        name=context_negative_signal.index.name,\n",
    "    )\n",
    "\n",
    "    context_positive_signal.index = pd.Index(\n",
    "        (\"(+) {}\".format(feature) for feature in context_positive_signal.index),\n",
    "        name=context_positive_signal.index.name,\n",
    "    )\n",
    "\n",
    "    context_signal = pd.concat((-context_negative_signal, context_positive_signal))\n",
    "\n",
    "elif \"negative\" in SETTING[\"contexts\"]:\n",
    "\n",
    "    context_signal = -context_negative_signal\n",
    "\n",
    "elif \"positive\" in SETTING[\"contexts\"]:\n",
    "\n",
    "    context_signal = context_positive_signal"
   ]
  },
  {
   "cell_type": "code",
   "execution_count": null,
   "metadata": {},
   "outputs": [],
   "source": [
    "if SETTING[\"signal_normalization_method\"] is not None:\n",
    "\n",
    "    context_signal = kraft.normalize_dataframe(\n",
    "        context_signal,\n",
    "        SETTING[\"signal_normalization_axis\"],\n",
    "        SETTING[\"signal_normalization_method\"],\n",
    "    )"
   ]
  },
  {
   "cell_type": "code",
   "execution_count": null,
   "metadata": {},
   "outputs": [],
   "source": [
    "context_signal.to_csv(PATH[\"feature_x_sample.signal.tsv\"], sep=\"\\t\")\n",
    "\n",
    "kraft.summarize_feature_x_sample(\n",
    "    context_signal,\n",
    "    feature_x_sample_alias=\"Context Signal\",\n",
    "    feature_x_sample_value_name=\"Context Signal\",\n",
    ")"
   ]
  }
 ],
 "metadata": {
  "kernelspec": {
   "display_name": "Python 3",
   "language": "python",
   "name": "python3"
  },
  "language_info": {
   "codemirror_mode": {
    "name": "ipython",
    "version": 3
   },
   "file_extension": ".py",
   "mimetype": "text/x-python",
   "name": "python",
   "nbconvert_exporter": "python",
   "pygments_lexer": "ipython3",
   "version": "3.7.3"
  }
 },
 "nbformat": 4,
 "nbformat_minor": 4
}
