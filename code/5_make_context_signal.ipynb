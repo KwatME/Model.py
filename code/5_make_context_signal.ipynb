{
 "cells": [
  {
   "cell_type": "code",
   "execution_count": null,
   "metadata": {
    "ExecuteTime": {
     "end_time": "2018-07-06T20:13:14.932963Z",
     "start_time": "2018-07-06T20:13:14.920835Z"
    }
   },
   "outputs": [],
   "source": [
    "%load_ext autoreload\n",
    "%autoreload 2"
   ]
  },
  {
   "cell_type": "code",
   "execution_count": null,
   "metadata": {
    "ExecuteTime": {
     "end_time": "2018-07-06T20:13:16.628911Z",
     "start_time": "2018-07-06T20:13:14.935143Z"
    }
   },
   "outputs": [],
   "source": [
    "from environment import *\n",
    "\n",
    "with open(\"setting.yaml\") as yaml_file:\n",
    "\n",
    "    SETTING = yaml.load(yaml_file)\n",
    "\n",
    "PATH = make_path_dict(SETTING)"
   ]
  },
  {
   "cell_type": "code",
   "execution_count": null,
   "metadata": {},
   "outputs": [],
   "source": [
    "if SETTING[\"signal_type\"] == \"raw\":\n",
    "\n",
    "    raise"
   ]
  },
  {
   "cell_type": "code",
   "execution_count": null,
   "metadata": {},
   "outputs": [],
   "source": [
    "feature_context = pd.read_csv(\n",
    "    PATH[\"feature_x_sample.feature_context.tsv\"], sep=\"\\t\", index_col=0\n",
    ")\n",
    "\n",
    "feature_context.columns.name = SETTING[\"sample_alias\"]"
   ]
  },
  {
   "cell_type": "code",
   "execution_count": null,
   "metadata": {},
   "outputs": [],
   "source": [
    "sample_context = pd.read_csv(\n",
    "    PATH[\"feature_x_sample.sample_context.tsv\"], sep=\"\\t\", index_col=0\n",
    ").T\n",
    "\n",
    "sample_context.index.name = SETTING[\"feature_alias\"]"
   ]
  },
  {
   "cell_type": "code",
   "execution_count": null,
   "metadata": {},
   "outputs": [],
   "source": [
    "feature_context_negative = -feature_context.clip(upper=0)\n",
    "\n",
    "feature_context_positive = feature_context.clip(lower=0)"
   ]
  },
  {
   "cell_type": "code",
   "execution_count": null,
   "metadata": {},
   "outputs": [],
   "source": [
    "sample_context_negative = -sample_context.clip(upper=0)\n",
    "\n",
    "sample_context_positive = sample_context.clip(lower=0)"
   ]
  },
  {
   "cell_type": "code",
   "execution_count": null,
   "metadata": {},
   "outputs": [],
   "source": [
    "if (\n",
    "    \"feature\" in SETTING[\"context_element_types\"]\n",
    "    and \"sample\" in SETTING[\"context_element_types\"]\n",
    "):\n",
    "\n",
    "    normalization_method = \"0-1\"\n",
    "\n",
    "    context_negative = ccal.normalize_s_or_df(\n",
    "        feature_context_negative, 1, normalization_method\n",
    "    ) + ccal.normalize_s_or_df(sample_context_negative, 0, normalization_method)\n",
    "\n",
    "    context_positive = ccal.normalize_s_or_df(\n",
    "        feature_context_positive, 1, normalization_method\n",
    "    ) + ccal.normalize_s_or_df(sample_context_positive, 0, normalization_method)\n",
    "\n",
    "elif \"feature\" in SETTING[\"context_element_types\"]:\n",
    "\n",
    "    context_negative = feature_context_negative\n",
    "\n",
    "    context_positive = feature_context_positive\n",
    "\n",
    "elif \"sample\" in SETTING[\"context_element_types\"]:\n",
    "\n",
    "    context_negative = sample_context_negative\n",
    "\n",
    "    context_positive = sample_context_positive"
   ]
  },
  {
   "cell_type": "code",
   "execution_count": null,
   "metadata": {},
   "outputs": [],
   "source": [
    "if SETTING[\"select_feature_automatically\"]:\n",
    "\n",
    "    standard_deviation = SETTING[\"select_feature_standard_deviation\"]\n",
    "\n",
    "    title = {\"text\": context_negative.index.name}\n",
    "\n",
    "    xaxis = {\"title\": \"Rank\"}\n",
    "\n",
    "    context_negative_features = ccal.select_series_indices(\n",
    "        context_negative.sum(axis=1),\n",
    "        \">\",\n",
    "        standard_deviation=standard_deviation,\n",
    "        title=title,\n",
    "        xaxis=xaxis,\n",
    "        yaxis={\"title\": \"{} Signal Sum\".format(\"Negative\")},\n",
    "    )\n",
    "\n",
    "    context_positive_features = ccal.select_series_indices(\n",
    "        context_positive.sum(axis=1),\n",
    "        \">\",\n",
    "        standard_deviation=standard_deviation,\n",
    "        title=title,\n",
    "        xaxis=xaxis,\n",
    "        yaxis={\"title\": \"{} Signal Sum\".format(\"Positive\")},\n",
    "    )\n",
    "\n",
    "else:\n",
    "\n",
    "    context_negative_features = (\n",
    "        context_negative.replace(0, np.nan).dropna(how=\"all\").index\n",
    "    )\n",
    "\n",
    "    context_positive_features = (\n",
    "        context_positive.replace(0, np.nan).dropna(how=\"all\").index\n",
    "    )\n",
    "\n",
    "context_negative_features.size, context_positive_features.size"
   ]
  },
  {
   "cell_type": "code",
   "execution_count": null,
   "metadata": {},
   "outputs": [],
   "source": [
    "if SETTING[\"select_sample_automatically\"]:\n",
    "\n",
    "    standard_deviation = SETTING[\"select_sample_standard_deviation\"]\n",
    "\n",
    "    title = {\"text\": context_negative.columns.name}\n",
    "\n",
    "    xaxis = {\"title\": \"Rank\"}\n",
    "\n",
    "    context_negative_samples = ccal.select_series_indices(\n",
    "        context_negative.sum(axis=1),\n",
    "        \">\",\n",
    "        standard_deviation=standard_deviation,\n",
    "        title=title,\n",
    "        xaxis=xaxis,\n",
    "        yaxis={\"title\": \"{} Signal Sum\".format(\"Negative\")},\n",
    "    )\n",
    "\n",
    "    context_positive_samples = ccal.select_series_indices(\n",
    "        context_positive.sum(axis=1),\n",
    "        \">\",\n",
    "        standard_deviation=standard_deviation,\n",
    "        title=title,\n",
    "        xaxis=xaxis,\n",
    "        yaxis={\"title\": \"{} Signal Sum\".format(\"Positive\")},\n",
    "    )\n",
    "\n",
    "else:\n",
    "\n",
    "    context_negative_samples = (\n",
    "        context_negative.replace(0, np.nan).dropna(how=\"all\").columns\n",
    "    )\n",
    "\n",
    "    context_positive_samples = (\n",
    "        context_positive.replace(0, np.nan).dropna(how=\"all\").columns\n",
    "    )\n",
    "\n",
    "context_negative_samples.size, context_positive_samples.size"
   ]
  },
  {
   "cell_type": "code",
   "execution_count": null,
   "metadata": {},
   "outputs": [],
   "source": [
    "context_negative_signal = context_negative.loc[\n",
    "    context_negative_features, context_negative_samples\n",
    "]"
   ]
  },
  {
   "cell_type": "code",
   "execution_count": null,
   "metadata": {},
   "outputs": [],
   "source": [
    "context_positive_signal = context_positive.loc[\n",
    "    context_positive_features, context_positive_samples\n",
    "]"
   ]
  },
  {
   "cell_type": "code",
   "execution_count": null,
   "metadata": {},
   "outputs": [],
   "source": [
    "if \"negative\" in SETTING[\"contexts\"] and \"positive\" in SETTING[\"contexts\"]:\n",
    "\n",
    "    context_negative_signal.index = pd.Index(\n",
    "        (\"(-) {}\".format(feature) for feature in context_negative_signal.index),\n",
    "        name=context_negative_signal.index.name,\n",
    "    )\n",
    "\n",
    "    context_positive_signal.index = pd.Index(\n",
    "        (\"(+) {}\".format(feature) for feature in context_positive_signal.index),\n",
    "        name=context_positive_signal.index.name,\n",
    "    )\n",
    "\n",
    "    context_signal = pd.concat((context_negative_signal, context_positive_signal))\n",
    "\n",
    "elif \"negative\" in SETTING[\"contexts\"]:\n",
    "\n",
    "    context_signal = context_negative_signal\n",
    "\n",
    "elif \"positive\" in SETTING[\"contexts\"]:\n",
    "\n",
    "    context_signal = context_positive_signal"
   ]
  },
  {
   "cell_type": "code",
   "execution_count": null,
   "metadata": {},
   "outputs": [],
   "source": [
    "if SETTING[\"signal_normalization_method\"] is not None:\n",
    "\n",
    "    context_signal = ccal.normalize_s_or_df(\n",
    "        context_signal,\n",
    "        SETTING[\"signal_normalization_axis\"],\n",
    "        SETTING[\"signal_normalization_method\"],\n",
    "    )"
   ]
  },
  {
   "cell_type": "code",
   "execution_count": null,
   "metadata": {},
   "outputs": [],
   "source": [
    "context_signal = ccal.clean_and_write_df_to_tsv(\n",
    "    context_signal, context_signal.index.name, PATH[\"feature_x_sample.signal.tsv\"]\n",
    ")\n",
    "\n",
    "ccal.summarize_feature_x_sample(\n",
    "    context_signal,\n",
    "    feature_x_sample_alias=\"Context Signal\",\n",
    "    feature_x_sample_value_name=\"Context Signal\",\n",
    "    plot_heat_map_max_size=SETTING[\"plot_heat_map_max_size\"],\n",
    "    plot_histogram_max_size=SETTING[\"plot_histogram_max_size\"],\n",
    "    plot_rug_max_size=SETTING[\"plot_rug_max_size\"],\n",
    ")"
   ]
  }
 ],
 "metadata": {
  "kernelspec": {
   "display_name": "Python 3",
   "language": "python",
   "name": "python3"
  },
  "language_info": {
   "codemirror_mode": {
    "name": "ipython",
    "version": 3
   },
   "file_extension": ".py",
   "mimetype": "text/x-python",
   "name": "python",
   "nbconvert_exporter": "python",
   "pygments_lexer": "ipython3",
   "version": "3.6.7"
  }
 },
 "nbformat": 4,
 "nbformat_minor": 2
}
