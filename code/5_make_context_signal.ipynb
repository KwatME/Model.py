{
 "cells": [
  {
   "cell_type": "code",
   "execution_count": null,
   "metadata": {
    "ExecuteTime": {
     "end_time": "2018-07-06T20:13:14.932963Z",
     "start_time": "2018-07-06T20:13:14.920835Z"
    }
   },
   "outputs": [],
   "source": [
    "%load_ext autoreload\n",
    "%autoreload 2"
   ]
  },
  {
   "cell_type": "code",
   "execution_count": null,
   "metadata": {
    "ExecuteTime": {
     "end_time": "2018-07-06T20:13:16.628911Z",
     "start_time": "2018-07-06T20:13:14.935143Z"
    }
   },
   "outputs": [],
   "source": [
    "from environment import *\n",
    "\n",
    "with open(\"setting.yaml\") as yaml_file:\n",
    "\n",
    "    SETTING = yaml.load(yaml_file)\n",
    "\n",
    "PATH = make_path_dict(SETTING)"
   ]
  },
  {
   "cell_type": "code",
   "execution_count": null,
   "metadata": {},
   "outputs": [],
   "source": [
    "if SETTING[\"signal_type\"] == \"raw\":\n",
    "\n",
    "    raise"
   ]
  },
  {
   "cell_type": "code",
   "execution_count": null,
   "metadata": {},
   "outputs": [],
   "source": [
    "feature_context = pd.read_table(\n",
    "    PATH[\"feature_x_sample.feature_context.tsv\"], index_col=0\n",
    ")\n",
    "\n",
    "feature_context.columns.name = SETTING[\"sample_alias\"]"
   ]
  },
  {
   "cell_type": "code",
   "execution_count": null,
   "metadata": {},
   "outputs": [],
   "source": [
    "sample_context = pd.read_table(\n",
    "    PATH[\"feature_x_sample.sample_context.tsv\"], index_col=0\n",
    ").T\n",
    "\n",
    "sample_context.index.name = SETTING[\"feature_alias\"]"
   ]
  },
  {
   "cell_type": "code",
   "execution_count": null,
   "metadata": {},
   "outputs": [],
   "source": [
    "feature_context_negative = -feature_context.clip(upper=0)\n",
    "\n",
    "feature_context_positive = feature_context.clip(lower=0)"
   ]
  },
  {
   "cell_type": "code",
   "execution_count": null,
   "metadata": {},
   "outputs": [],
   "source": [
    "sample_context_negative = -sample_context.clip(upper=0)\n",
    "\n",
    "sample_context_positive = sample_context.clip(lower=0)"
   ]
  },
  {
   "cell_type": "code",
   "execution_count": null,
   "metadata": {},
   "outputs": [],
   "source": [
    "if \"feature\" in SETTING[\"element_types\"] and \"sample\" in SETTING[\"element_types\"]:\n",
    "\n",
    "    normalize_df_args = (None, \"0-1\", False)\n",
    "\n",
    "    context_negative = ccal.normalize_df(\n",
    "        feature_context_negative, *normalize_df_args\n",
    "    ) + ccal.normalize_df(sample_context_negative, *normalize_df_args)\n",
    "\n",
    "    context_positive = ccal.normalize_df(\n",
    "        feature_context_positive, *normalize_df_args\n",
    "    ) + ccal.normalize_df(sample_context_positive, *normalize_df_args)\n",
    "\n",
    "elif \"feature\" in SETTING[\"element_types\"]:\n",
    "\n",
    "    context_negative = feature_context_negative\n",
    "\n",
    "    context_positive = feature_context_positive\n",
    "\n",
    "elif \"sample\" in SETTING[\"element_types\"]:\n",
    "\n",
    "    context_negative = sample_context_negative\n",
    "\n",
    "    context_positive = sample_context_positive"
   ]
  },
  {
   "cell_type": "code",
   "execution_count": null,
   "metadata": {},
   "outputs": [],
   "source": [
    "title_template = \"{} Ranking by Context {} Signal\"\n",
    "\n",
    "value_name_template = \"{} Signal Sum\""
   ]
  },
  {
   "cell_type": "code",
   "execution_count": null,
   "metadata": {},
   "outputs": [],
   "source": [
    "if SETTING[\"select_feature_automatically\"]:\n",
    "\n",
    "    context_negative_features = ccal.select_series_indices(\n",
    "        context_negative.sum(axis=1),\n",
    "        \">\",\n",
    "        standard_deviation=SETTING[\"select_feature_standard_deviation\"],\n",
    "        title=dict(text=title_template.format(SETTING[\"feature_alias\"], \"Negative\")),\n",
    "        xaxis=dict(title=\"Rank\"),\n",
    "        yaxis=dict(title=value_name_template.format(\"Negative\")),\n",
    "    )\n",
    "\n",
    "    context_positive_features = ccal.select_series_indices(\n",
    "        context_positive.sum(axis=1),\n",
    "        \">\",\n",
    "        standard_deviation=SETTING[\"select_feature_standard_deviation\"],\n",
    "        title=dict(text=title_template.format(SETTING[\"feature_alias\"], \"Positive\")),\n",
    "        xaxis=dict(title=\"Rank\"),\n",
    "        yaxis=dict(title=value_name_template.format(\"Positive\")),\n",
    "    )\n",
    "\n",
    "else:\n",
    "\n",
    "    context_negative_features = (\n",
    "        context_negative.replace(0, np.nan).dropna(how=\"all\").index\n",
    "    )\n",
    "\n",
    "    context_positive_features = (\n",
    "        context_positive.replace(0, np.nan).dropna(how=\"all\").index\n",
    "    )\n",
    "\n",
    "context_negative_features.size, context_positive_features.size"
   ]
  },
  {
   "cell_type": "code",
   "execution_count": null,
   "metadata": {},
   "outputs": [],
   "source": [
    "if SETTING[\"select_sample_automatically\"]:\n",
    "\n",
    "    context_negative_samples = ccal.select_series_indices(\n",
    "        context_negative.sum(axis=1),\n",
    "        \">\",\n",
    "        standard_deviation=SETTING[\"select_sample_standard_deviation\"],\n",
    "        title=dict(text=title_template.format(SETTING[\"sample_alias\"], \"Negative\")),\n",
    "        xaxis=dict(title=\"Rank\"),\n",
    "        yaxis=dict(title=value_name_template.format(\"Negative\")),\n",
    "    )\n",
    "\n",
    "    context_positive_samples = ccal.select_series_indices(\n",
    "        context_positive.sum(axis=1),\n",
    "        \">\",\n",
    "        standard_deviation=SETTING[\"select_sample_standard_deviation\"],\n",
    "        title=dict(text=title_template.format(SETTING[\"sample_alias\"], \"Positive\")),\n",
    "        xaxis=dict(title=\"Rank\"),\n",
    "        yaxis=dict(title=value_name_template.format(\"Positive\")),\n",
    "    )\n",
    "\n",
    "else:\n",
    "\n",
    "    context_negative_samples = (\n",
    "        context_negative.replace(0, np.nan).dropna(how=\"all\", axis=1).columns\n",
    "    )\n",
    "\n",
    "    context_positive_samples = (\n",
    "        context_positive.replace(0, np.nan).dropna(how=\"all\", axis=1).columns\n",
    "    )\n",
    "\n",
    "context_negative_samples.size, context_positive_samples.size"
   ]
  },
  {
   "cell_type": "code",
   "execution_count": null,
   "metadata": {},
   "outputs": [],
   "source": [
    "context_negative_signal = context_negative.loc[\n",
    "    context_negative_features, context_negative_samples\n",
    "]"
   ]
  },
  {
   "cell_type": "code",
   "execution_count": null,
   "metadata": {},
   "outputs": [],
   "source": [
    "context_positive_signal = context_positive.loc[\n",
    "    context_positive_features, context_positive_samples\n",
    "]"
   ]
  },
  {
   "cell_type": "code",
   "execution_count": null,
   "metadata": {},
   "outputs": [],
   "source": [
    "if \"negative\" in SETTING[\"contexts\"] and \"positive\" in SETTING[\"contexts\"]:\n",
    "\n",
    "    context_negative_signal.index = pd.Index(\n",
    "        (\"(-) {}\".format(feature) for feature in context_negative_signal.index),\n",
    "        name=context_negative_signal.index.name,\n",
    "    )\n",
    "\n",
    "    context_positive_signal.index = pd.Index(\n",
    "        (\"(+) {}\".format(feature) for feature in context_positive_signal.index),\n",
    "        name=context_positive_signal.index.name,\n",
    "    )\n",
    "\n",
    "    context_signal = pd.concat((context_negative_signal, context_positive_signal))\n",
    "\n",
    "elif \"negative\" in SETTING[\"contexts\"]:\n",
    "\n",
    "    context_signal = context_negative_signal\n",
    "\n",
    "elif \"positive\" in SETTING[\"contexts\"]:\n",
    "\n",
    "    context_signal = context_positive_signal"
   ]
  },
  {
   "cell_type": "code",
   "execution_count": null,
   "metadata": {},
   "outputs": [],
   "source": [
    "if SETTING[\"context_signal_normalization_method\"] is not None:\n",
    "\n",
    "    context_signal = ccal.normalize_df(\n",
    "        context_signal,\n",
    "        SETTING[\"context_signal_normalization_axis\"],\n",
    "        SETTING[\"context_signal_normalization_method\"],\n",
    "        raise_for_bad=False,\n",
    "    )"
   ]
  },
  {
   "cell_type": "code",
   "execution_count": null,
   "metadata": {},
   "outputs": [],
   "source": [
    "context_signal.to_csv(PATH[\"feature_x_sample.signal.tsv\"], sep=\"\\t\")\n",
    "\n",
    "ccal.summarize_feature_x_sample(\n",
    "    context_signal,\n",
    "    feature_x_sample_alias=\"Context Signal\",\n",
    "    feature_x_sample_value_name=\"Context Signal\",\n",
    "    plot_heat_map_max_size=SETTING[\"plot_heat_map_max_size\"],\n",
    "    plot_distributions_max_size=SETTING[\"plot_distributions_max_size\"],\n",
    "    plot_rug_max_size=SETTING[\"plot_rug_max_size\"],\n",
    ")"
   ]
  }
 ],
 "metadata": {
  "kernelspec": {
   "display_name": "Python 3",
   "language": "python",
   "name": "python3"
  },
  "language_info": {
   "codemirror_mode": {
    "name": "ipython",
    "version": 3
   },
   "file_extension": ".py",
   "mimetype": "text/x-python",
   "name": "python",
   "nbconvert_exporter": "python",
   "pygments_lexer": "ipython3",
   "version": "3.6.7"
  }
 },
 "nbformat": 4,
 "nbformat_minor": 2
}
