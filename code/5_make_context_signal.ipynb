{
 "cells": [
  {
   "cell_type": "code",
   "execution_count": null,
   "metadata": {
    "ExecuteTime": {
     "end_time": "2018-07-06T20:13:14.932963Z",
     "start_time": "2018-07-06T20:13:14.920835Z"
    }
   },
   "outputs": [],
   "source": [
    "%load_ext autoreload\n",
    "%autoreload 2"
   ]
  },
  {
   "cell_type": "code",
   "execution_count": null,
   "metadata": {
    "ExecuteTime": {
     "end_time": "2018-07-06T20:13:16.628911Z",
     "start_time": "2018-07-06T20:13:14.935143Z"
    }
   },
   "outputs": [],
   "source": [
    "from __init__ import *\n",
    "\n",
    "PROJECT_JSON = kraft.read_json(\"../project.json\")\n",
    "\n",
    "PATH = make_path_dict(PROJECT_JSON)"
   ]
  },
  {
   "cell_type": "code",
   "execution_count": null,
   "metadata": {},
   "outputs": [],
   "source": [
    "assert PROJECT_JSON[\"signal_type\"] == \"context\""
   ]
  },
  {
   "cell_type": "code",
   "execution_count": null,
   "metadata": {},
   "outputs": [],
   "source": [
    "if \"feature\" in PROJECT_JSON[\"context_element_types\"]:\n",
    "\n",
    "    feature_context = pd.read_csv(\n",
    "        PATH[\"feature_x_sample.feature_context.tsv\"], sep=\"\\t\", index_col=0\n",
    "    )\n",
    "\n",
    "    feature_context.columns.name = PROJECT_JSON[\"sample_alias\"]\n",
    "\n",
    "    feature_context_negative = feature_context.clip(upper=0)\n",
    "\n",
    "    feature_context_positive = feature_context.clip(lower=0)"
   ]
  },
  {
   "cell_type": "code",
   "execution_count": null,
   "metadata": {},
   "outputs": [],
   "source": [
    "if \"sample\" in PROJECT_JSON[\"context_element_types\"]:\n",
    "\n",
    "    sample_context = pd.read_csv(\n",
    "        PATH[\"feature_x_sample.sample_context.tsv\"], sep=\"\\t\", index_col=0\n",
    "    ).T\n",
    "\n",
    "    sample_context.index.name = PROJECT_JSON[\"feature_alias\"]\n",
    "\n",
    "    sample_context_negative = sample_context.clip(upper=0)\n",
    "\n",
    "    sample_context_positive = sample_context.clip(lower=0)"
   ]
  },
  {
   "cell_type": "code",
   "execution_count": null,
   "metadata": {},
   "outputs": [],
   "source": [
    "if (\n",
    "    \"feature\" in PROJECT_JSON[\"context_element_types\"]\n",
    "    and \"sample\" in PROJECT_JSON[\"context_element_types\"]\n",
    "):\n",
    "\n",
    "    context_negative = kraft.normalize_dataframe(\n",
    "        feature_context_negative, 1, \"0-1\"\n",
    "    ) + kraft.normalize_dataframe(sample_context_negative, 0, \"0-1\")\n",
    "\n",
    "    context_positive = kraft.normalize_dataframe(\n",
    "        feature_context_positive, 1, \"0-1\"\n",
    "    ) + kraft.normalize_dataframe(sample_context_positive, 0, \"0-1\")\n",
    "\n",
    "elif \"feature\" in PROJECT_JSON[\"context_element_types\"]:\n",
    "\n",
    "    context_negative = feature_context_negative\n",
    "\n",
    "    context_positive = feature_context_positive\n",
    "\n",
    "elif \"sample\" in PROJECT_JSON[\"context_element_types\"]:\n",
    "\n",
    "    context_negative = sample_context_negative\n",
    "\n",
    "    context_positive = sample_context_positive"
   ]
  },
  {
   "cell_type": "code",
   "execution_count": null,
   "metadata": {},
   "outputs": [],
   "source": [
    "if PROJECT_JSON[\"select_feature_automatically\"]:\n",
    "\n",
    "    context_negative_features = kraft.select_series_indices(\n",
    "        context_negative.sum(axis=1),\n",
    "        \"<\",\n",
    "        standard_deviation=PROJECT_JSON[\"select_feature_standard_deviation\"],\n",
    "        layout={\n",
    "            \"title\": {\"text\": context_negative.index.name},\n",
    "            \"yaxis\": {\"title\": \"Negative Signal Sum\"},\n",
    "        },\n",
    "    )\n",
    "\n",
    "    context_positive_features = kraft.select_series_indices(\n",
    "        context_positive.sum(axis=1),\n",
    "        \">\",\n",
    "        standard_deviation=PROJECT_JSON[\"select_feature_standard_deviation\"],\n",
    "        layout={\n",
    "            \"title\": {\"text\": context_negative.index.name},\n",
    "            \"yaxis\": {\"title\": \"Positive Signal Sum\"},\n",
    "        },\n",
    "    )\n",
    "\n",
    "else:\n",
    "\n",
    "    context_negative_features = (\n",
    "        context_negative.replace(0, np.nan).dropna(how=\"all\").index\n",
    "    )\n",
    "\n",
    "    context_positive_features = (\n",
    "        context_positive.replace(0, np.nan).dropna(how=\"all\").index\n",
    "    )\n",
    "\n",
    "print(\n",
    "    \"Selected {} - & {} + feature.\".format(\n",
    "        context_negative_features.size, context_positive_features.size\n",
    "    )\n",
    ")"
   ]
  },
  {
   "cell_type": "code",
   "execution_count": null,
   "metadata": {},
   "outputs": [],
   "source": [
    "if PROJECT_JSON[\"select_sample_automatically\"]:\n",
    "\n",
    "    context_negative_samples = kraft.select_series_indices(\n",
    "        context_negative.sum(),\n",
    "        \"<\",\n",
    "        standard_deviation=PROJECT_JSON[\"select_sample_standard_deviation\"],\n",
    "        layout={\n",
    "            \"title\": {\"text\": context_negative.columns.name},\n",
    "            \"yaxis\": {\"title\": \"Negative Signal Sum\"},\n",
    "        },\n",
    "    )\n",
    "\n",
    "    context_positive_samples = kraft.select_series_indices(\n",
    "        context_positive.sum(),\n",
    "        \">\",\n",
    "        standard_deviation=PROJECT_JSON[\"select_sample_standard_deviation\"],\n",
    "        layout={\n",
    "            \"title\": {\"text\": context_negative.columns.name},\n",
    "            \"yaxis\": {\"title\": \"Positive Signal Sum\"},\n",
    "        },\n",
    "    )\n",
    "\n",
    "else:\n",
    "\n",
    "    context_negative_samples = (\n",
    "        context_negative.replace(0, np.nan).dropna(how=\"all\").columns\n",
    "    )\n",
    "\n",
    "    context_positive_samples = (\n",
    "        context_positive.replace(0, np.nan).dropna(how=\"all\").columns\n",
    "    )\n",
    "\n",
    "print(\n",
    "    \"Selected {} - & {} + sample.\".format(\n",
    "        context_negative_samples.size, context_positive_samples.size\n",
    "    )\n",
    ")"
   ]
  },
  {
   "cell_type": "code",
   "execution_count": null,
   "metadata": {},
   "outputs": [],
   "source": [
    "context_negative_signal = context_negative.loc[\n",
    "    context_negative_features, context_negative_samples\n",
    "]\n",
    "\n",
    "context_positive_signal = context_positive.loc[\n",
    "    context_positive_features, context_positive_samples\n",
    "]"
   ]
  },
  {
   "cell_type": "code",
   "execution_count": null,
   "metadata": {},
   "outputs": [],
   "source": [
    "if \"negative\" in PROJECT_JSON[\"contexts\"] and \"positive\" in PROJECT_JSON[\"contexts\"]:\n",
    "\n",
    "    context_negative_signal.index = pd.Index(\n",
    "        (\"(-) {}\".format(feature) for feature in context_negative_signal.index),\n",
    "        name=context_negative_signal.index.name,\n",
    "    )\n",
    "\n",
    "    context_positive_signal.index = pd.Index(\n",
    "        (\"(+) {}\".format(feature) for feature in context_positive_signal.index),\n",
    "        name=context_positive_signal.index.name,\n",
    "    )\n",
    "\n",
    "    context_signal = pd.concat((-context_negative_signal, context_positive_signal))\n",
    "\n",
    "elif \"negative\" in PROJECT_JSON[\"contexts\"]:\n",
    "\n",
    "    context_signal = -context_negative_signal\n",
    "\n",
    "elif \"positive\" in PROJECT_JSON[\"contexts\"]:\n",
    "\n",
    "    context_signal = context_positive_signal"
   ]
  },
  {
   "cell_type": "code",
   "execution_count": null,
   "metadata": {},
   "outputs": [],
   "source": [
    "if PROJECT_JSON[\"signal_normalization_method\"] is not None:\n",
    "\n",
    "    context_signal = kraft.normalize_dataframe(\n",
    "        context_signal,\n",
    "        PROJECT_JSON[\"signal_normalization_axis\"],\n",
    "        PROJECT_JSON[\"signal_normalization_method\"],\n",
    "    )"
   ]
  },
  {
   "cell_type": "code",
   "execution_count": null,
   "metadata": {},
   "outputs": [],
   "source": [
    "context_signal.to_csv(PATH[\"feature_x_sample.signal.tsv\"], sep=\"\\t\")\n",
    "\n",
    "kraft.summarize_feature_x_sample(\n",
    "    context_signal,\n",
    "    feature_x_sample_alias=\"Context Signal\",\n",
    "    feature_x_sample_value_name=\"Context Signal\",\n",
    "    plot_heat_map_max_size=PROJECT_JSON[\"plot_heat_map_max_size\"],\n",
    "    plot_histogram_max_size=PROJECT_JSON[\"plot_histogram_max_size\"],\n",
    ")"
   ]
  }
 ],
 "metadata": {
  "kernelspec": {
   "display_name": "Python 3",
   "language": "python",
   "name": "python3"
  },
  "language_info": {
   "codemirror_mode": {
    "name": "ipython",
    "version": 3
   },
   "file_extension": ".py",
   "mimetype": "text/x-python",
   "name": "python",
   "nbconvert_exporter": "python",
   "pygments_lexer": "ipython3",
   "version": "3.7.3"
  }
 },
 "nbformat": 4,
 "nbformat_minor": 4
}
