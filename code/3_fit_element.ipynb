{
 "cells": [
  {
   "cell_type": "code",
   "execution_count": null,
   "metadata": {
    "ExecuteTime": {
     "end_time": "2018-07-06T09:53:06.646469Z",
     "start_time": "2018-07-06T09:53:06.633169Z"
    }
   },
   "outputs": [],
   "source": [
    "%load_ext autoreload\n",
    "%autoreload 2"
   ]
  },
  {
   "cell_type": "code",
   "execution_count": null,
   "metadata": {
    "ExecuteTime": {
     "end_time": "2018-07-06T20:13:16.628911Z",
     "start_time": "2018-07-06T20:13:14.935143Z"
    }
   },
   "outputs": [],
   "source": [
    "from environment import *\n",
    "\n",
    "with open(\"setting.yaml\") as io:\n",
    "\n",
    "    SETTING = yaml.load(io)\n",
    "\n",
    "PATH = make_path_dict(SETTING)"
   ]
  },
  {
   "cell_type": "code",
   "execution_count": null,
   "metadata": {},
   "outputs": [],
   "source": [
    "if SETTING[\"signal_type\"] != \"context\":\n",
    "\n",
    "    raise"
   ]
  },
  {
   "cell_type": "code",
   "execution_count": null,
   "metadata": {
    "ExecuteTime": {
     "end_time": "2018-07-06T09:53:09.916306Z",
     "start_time": "2018-07-06T09:53:08.350235Z"
    }
   },
   "outputs": [],
   "source": [
    "feature_x_sample_processed = pd.read_csv(\n",
    "    PATH[\"feature_x_sample.processed.tsv\"], sep=\"\\t\", index_col=0\n",
    ")\n",
    "\n",
    "feature_x_sample_processed.columns.name = SETTING[\"sample_alias\"]"
   ]
  },
  {
   "cell_type": "code",
   "execution_count": null,
   "metadata": {
    "ExecuteTime": {
     "end_time": "2018-07-06T10:01:47.552850Z",
     "start_time": "2018-07-06T09:53:09.919618Z"
    }
   },
   "outputs": [],
   "source": [
    "for element_type, dataframe in (\n",
    "    (\"feature\", feature_x_sample_processed),\n",
    "    (\"sample\", feature_x_sample_processed.T),\n",
    "):\n",
    "\n",
    "    if element_type not in SETTING[\"context_element_types\"]:\n",
    "\n",
    "        continue\n",
    "\n",
    "    element_x_fit_parameter = kraft.fit_skew_t_pdf_on_each_dataframe_row(\n",
    "        dataframe,\n",
    "        n_job=SETTING[\"n_job\"],\n",
    "        output_file_path=PATH[f\"{element_type}_x_fit_parameter.tsv\"],\n",
    "    )\n",
    "\n",
    "    element_x_fit_parameter = pd.read_csv(\n",
    "        PATH[f\"{element_type}_x_fit_parameter.tsv\"], sep=\"\\t\", index_col=0\n",
    "    )\n",
    "\n",
    "    for parameter, parameter_values in element_x_fit_parameter.items():\n",
    "\n",
    "        parameter_values_not_na_unique = parameter_values.dropna().unique()\n",
    "\n",
    "        if parameter_values_not_na_unique.size == 1:\n",
    "\n",
    "            print(f\"{parameter} is all {parameter_values_not_na_unique[0]}.\")\n",
    "\n",
    "            continue\n",
    "\n",
    "        title = f\"Fit {SETTING[f'{element_type}_alias']}\"\n",
    "\n",
    "        kraft.plot_histogram((parameter_values,), title=title, xaxis_title=parameter)\n",
    "\n",
    "        n_extreme_per_direction = 2\n",
    "\n",
    "        extreme_elements = kraft.select_series_indices(\n",
    "            parameter_values,\n",
    "            \"<>\",\n",
    "            n=n_extreme_per_direction,\n",
    "            title={\"text\": title},\n",
    "            xaxis={\"title\": \"Rank\"},\n",
    "            yaxis={\"title\": parameter.title()},\n",
    "        ).tolist()\n",
    "\n",
    "        extreme_elements = (\n",
    "            extreme_elements[:n_extreme_per_direction]\n",
    "            + extreme_elements[-n_extreme_per_direction:]\n",
    "        )\n",
    "\n",
    "        kraft.plot_histogram(\n",
    "            tuple(\n",
    "                dataframe.loc[extreme_element] for extreme_element in extreme_elements\n",
    "            ),\n",
    "            title=f\"{SETTING[f'{element_type}_alias']}s with Extreme {parameter}\",\n",
    "            xaxis_title=SETTING[\"feature_x_sample_value_name\"],\n",
    "        )\n",
    "\n",
    "        for extreme_element in extreme_elements:\n",
    "\n",
    "            n_data, location, scale, degree_of_freedom, shape = element_x_fit_parameter.loc[\n",
    "                extreme_element,\n",
    "                [\"N Data\", \"Location\", \"Scale\", \"Degree of Freedom\", \"Shape\"],\n",
    "            ]\n",
    "\n",
    "            kraft.plot_context(\n",
    "                dataframe.loc[extreme_element],\n",
    "                n_data=n_data,\n",
    "                location=location,\n",
    "                scale=scale,\n",
    "                degree_of_freedom=degree_of_freedom,\n",
    "                shape=shape,\n",
    "                xaxis_title=SETTING[\"feature_x_sample_value_name\"],\n",
    "            )"
   ]
  }
 ],
 "metadata": {
  "kernelspec": {
   "display_name": "Python 3",
   "language": "python",
   "name": "python3"
  },
  "language_info": {
   "codemirror_mode": {
    "name": "ipython",
    "version": 3
   },
   "file_extension": ".py",
   "mimetype": "text/x-python",
   "name": "python",
   "nbconvert_exporter": "python",
   "pygments_lexer": "ipython3",
   "version": "3.7.3"
  }
 },
 "nbformat": 4,
 "nbformat_minor": 2
}
