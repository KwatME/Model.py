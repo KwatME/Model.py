{
 "cells": [
  {
   "cell_type": "code",
   "execution_count": null,
   "metadata": {
    "ExecuteTime": {
     "end_time": "2018-07-06T09:53:06.646469Z",
     "start_time": "2018-07-06T09:53:06.633169Z"
    }
   },
   "outputs": [],
   "source": [
    "%load_ext autoreload\n",
    "%autoreload 2"
   ]
  },
  {
   "cell_type": "code",
   "execution_count": null,
   "metadata": {
    "ExecuteTime": {
     "end_time": "2018-07-06T20:13:16.628911Z",
     "start_time": "2018-07-06T20:13:14.935143Z"
    }
   },
   "outputs": [],
   "source": [
    "from __init__ import *\n",
    "\n",
    "SETTING = kraft.read_json(\"../project.json\")\n",
    "\n",
    "if \"project_directory_path\" in SETTING:\n",
    "\n",
    "    SETTING.update(\n",
    "        kraft.read_json(os.path.join(SETTING[\"project_directory_path\"], \"project.json\"))\n",
    "    )\n",
    "\n",
    "    SETTING[\"output_directory_path\"] = os.path.join(\n",
    "        SETTING[\"project_directory_path\"], \"output\"\n",
    "    )\n",
    "\n",
    "PATH = make_path_dict(SETTING)"
   ]
  },
  {
   "cell_type": "code",
   "execution_count": null,
   "metadata": {},
   "outputs": [],
   "source": [
    "assert SETTING[\"signal_type\"] == \"context\""
   ]
  },
  {
   "cell_type": "code",
   "execution_count": null,
   "metadata": {
    "ExecuteTime": {
     "end_time": "2018-07-06T09:53:09.916306Z",
     "start_time": "2018-07-06T09:53:08.350235Z"
    }
   },
   "outputs": [],
   "source": [
    "feature_x_sample_processed = pd.read_csv(\n",
    "    PATH[\"feature_x_sample.processed.tsv\"], sep=\"\\t\", index_col=0\n",
    ")\n",
    "\n",
    "feature_x_sample_processed.columns.name = SETTING[\"sample_alias\"]"
   ]
  },
  {
   "cell_type": "code",
   "execution_count": null,
   "metadata": {
    "ExecuteTime": {
     "end_time": "2018-07-06T10:01:47.552850Z",
     "start_time": "2018-07-06T09:53:09.919618Z"
    }
   },
   "outputs": [],
   "source": [
    "for element_type, dataframe in (\n",
    "    (\"feature\", feature_x_sample_processed),\n",
    "    (\"sample\", feature_x_sample_processed.T),\n",
    "):\n",
    "\n",
    "    if element_type not in SETTING[\"context_element_types\"]:\n",
    "\n",
    "        continue\n",
    "\n",
    "    output_tsv_file_path = PATH[\"{}_x_fit_parameter.tsv\".format(element_type)]\n",
    "\n",
    "    element_x_fit_parameter = kraft.fit_each_dataframe_row_to_skew_t_pdf(\n",
    "        dataframe, n_job=SETTING[\"n_job\"], output_tsv_file_path=output_tsv_file_path\n",
    "    )\n",
    "\n",
    "    element_x_fit_parameter = pd.read_csv(output_tsv_file_path, sep=\"\\t\", index_col=0)\n",
    "\n",
    "    for parameter, parameter_values in element_x_fit_parameter.items():\n",
    "\n",
    "        parameter_values_not_na_unique = parameter_values.dropna().unique()\n",
    "\n",
    "        if parameter_values_not_na_unique.size == 1:\n",
    "\n",
    "            continue\n",
    "\n",
    "        kraft.plot_histogram((parameter_values,), layout=layout)\n",
    "\n",
    "        n_extreme_per_direction = 2\n",
    "\n",
    "        extreme_elements = kraft.select_series_indices(\n",
    "            parameter_values,\n",
    "            \"<>\",\n",
    "            n=n_extreme_per_direction,\n",
    "            layout={\n",
    "                \"title\": {\n",
    "                    \"text\": \"Fit {}\".format(SETTING[\"{}_alias\".format(element_type)])\n",
    "                },\n",
    "                \"xaxis\": {\"title\": {\"text\": parameter}},\n",
    "            },\n",
    "        )\n",
    "\n",
    "        kraft.plot_histogram(\n",
    "            tuple(\n",
    "                dataframe.loc[extreme_element] for extreme_element in extreme_elements\n",
    "            ),\n",
    "            layout={\n",
    "                \"title\": {\"text\": \"Extreme {}\".format(parameter)},\n",
    "                \"xaxis\": {\"title\": {\"text\": SETTING[\"feature_x_sample_value_name\"]}},\n",
    "            },\n",
    "        )\n",
    "\n",
    "        for extreme_element in extreme_elements:\n",
    "\n",
    "            n_data, location, scale, degree_of_freedom, shape = element_x_fit_parameter.loc[\n",
    "                extreme_element,\n",
    "                [\"N Data\", \"Location\", \"Scale\", \"Degree of Freedom\", \"Shape\"],\n",
    "            ]\n",
    "\n",
    "            kraft.plot_context(\n",
    "                dataframe.loc[extreme_element],\n",
    "                n_data=n_data,\n",
    "                location=location,\n",
    "                scale=scale,\n",
    "                degree_of_freedom=degree_of_freedom,\n",
    "                shape=shape,\n",
    "                layout={\n",
    "                    \"xaxis\": {\"title\": {\"text\": SETTING[\"feature_x_sample_value_name\"]}}\n",
    "                },\n",
    "            )"
   ]
  }
 ],
 "metadata": {
  "@webio": {
   "lastCommId": null,
   "lastKernelId": null
  },
  "kernelspec": {
   "display_name": "Python 3",
   "language": "python",
   "name": "python3"
  },
  "language_info": {
   "codemirror_mode": {
    "name": "ipython",
    "version": 3
   },
   "file_extension": ".py",
   "mimetype": "text/x-python",
   "name": "python",
   "nbconvert_exporter": "python",
   "pygments_lexer": "ipython3",
   "version": "3.7.3"
  }
 },
 "nbformat": 4,
 "nbformat_minor": 4
}
