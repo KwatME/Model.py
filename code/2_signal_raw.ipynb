{
 "cells": [
  {
   "cell_type": "code",
   "execution_count": null,
   "metadata": {
    "ExecuteTime": {
     "end_time": "2018-07-06T20:13:14.932963Z",
     "start_time": "2018-07-06T20:13:14.920835Z"
    }
   },
   "outputs": [],
   "source": [
    "%load_ext autoreload\n",
    "%autoreload 2"
   ]
  },
  {
   "cell_type": "code",
   "execution_count": null,
   "metadata": {
    "ExecuteTime": {
     "end_time": "2018-07-06T20:13:16.628911Z",
     "start_time": "2018-07-06T20:13:14.935143Z"
    }
   },
   "outputs": [],
   "source": [
    "from environment import *\n",
    "\n",
    "with open(\"setting.yaml\") as yaml_file:\n",
    "\n",
    "    SETTING = yaml.load(yaml_file)\n",
    "\n",
    "PATH = make_path_dict(SETTING)"
   ]
  },
  {
   "cell_type": "code",
   "execution_count": null,
   "metadata": {},
   "outputs": [],
   "source": [
    "if SETTING[\"signal_type\"] == \"context\":\n",
    "\n",
    "    raise"
   ]
  },
  {
   "cell_type": "code",
   "execution_count": null,
   "metadata": {},
   "outputs": [],
   "source": [
    "feature_x_sample_processed = pd.read_table(\n",
    "    PATH[\"feature_x_sample.processed.tsv\"], index_col=0\n",
    ")\n",
    "\n",
    "feature_x_sample_processed.columns.name = SETTING[\"sample_alias\"]"
   ]
  },
  {
   "cell_type": "code",
   "execution_count": null,
   "metadata": {},
   "outputs": [],
   "source": [
    "title_template = \"{} Ranking by Raw Signal\"\n",
    "\n",
    "value_name = \"Raw Signal Standard Deviation\""
   ]
  },
  {
   "cell_type": "code",
   "execution_count": null,
   "metadata": {},
   "outputs": [],
   "source": [
    "if SETTING[\"select_feature_automatically\"]:\n",
    "\n",
    "    features = ccal.select_series_low_and_high_index(\n",
    "        feature_x_sample_processed.std(axis=1),\n",
    "        title=title_template.format(feature_x_sample_processed.index.name),\n",
    "        value_name=value_name,\n",
    "    )[1]\n",
    "\n",
    "else:\n",
    "\n",
    "    features = feature_x_sample_processed.index\n",
    "\n",
    "features.size"
   ]
  },
  {
   "cell_type": "code",
   "execution_count": null,
   "metadata": {},
   "outputs": [],
   "source": [
    "if SETTING[\"select_sample_automatically\"]:\n",
    "\n",
    "    samples = ccal.select_series_low_and_high_index(\n",
    "        feature_x_sample_processed.std(),\n",
    "        title=title_template.format(feature_x_sample_processed.columns.name),\n",
    "        value_name=value_name,\n",
    "    )[1]\n",
    "\n",
    "else:\n",
    "\n",
    "    samples = feature_x_sample_processed.columns\n",
    "\n",
    "samples.size"
   ]
  },
  {
   "cell_type": "code",
   "execution_count": null,
   "metadata": {},
   "outputs": [],
   "source": [
    "raw_signal = feature_x_sample_processed.loc[features, samples]"
   ]
  },
  {
   "cell_type": "code",
   "execution_count": null,
   "metadata": {},
   "outputs": [],
   "source": [
    "if SETTING[\"raw_signal_normalization_method\"] is not None:\n",
    "\n",
    "    raw_signal = ccal.normalize_df(\n",
    "        raw_signal,\n",
    "        SETTING[\"raw_signal_normalization_axis\"],\n",
    "        SETTING[\"raw_signal_normalization_method\"],\n",
    "        raise_for_bad=False,\n",
    "    )"
   ]
  },
  {
   "cell_type": "code",
   "execution_count": null,
   "metadata": {},
   "outputs": [],
   "source": [
    "raw_signal.to_csv(PATH[\"feature_x_sample.signal.tsv\"], sep=\"\\t\")\n",
    "\n",
    "ccal.summarize_feature_x_sample(\n",
    "    raw_signal,\n",
    "    feature_x_sample_alias=SETTING[\"feature_x_sample_alias\"],\n",
    "    feature_x_sample_value_name=\"Signal\",\n",
    "    plot_heat_map_max_size=SETTING[\"plot_heat_map_max_size\"],\n",
    "    plot_distributions_max_size=SETTING[\"plot_distributions_max_size\"],\n",
    "    plot_rug_max_size=SETTING[\"plot_rug_max_size\"],\n",
    ")"
   ]
  }
 ],
 "metadata": {
  "kernelspec": {
   "display_name": "Python 3",
   "language": "python",
   "name": "python3"
  },
  "language_info": {
   "codemirror_mode": {
    "name": "ipython",
    "version": 3
   },
   "file_extension": ".py",
   "mimetype": "text/x-python",
   "name": "python",
   "nbconvert_exporter": "python",
   "pygments_lexer": "ipython3",
   "version": "3.6.7"
  }
 },
 "nbformat": 4,
 "nbformat_minor": 2
}
