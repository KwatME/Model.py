{
 "cells": [
  {
   "cell_type": "code",
   "execution_count": null,
   "metadata": {
    "ExecuteTime": {
     "end_time": "2018-07-06T09:43:23.708162Z",
     "start_time": "2018-07-06T09:43:23.691484Z"
    }
   },
   "outputs": [],
   "source": [
    "%load_ext autoreload\n",
    "\n",
    "%autoreload 2"
   ]
  },
  {
   "cell_type": "code",
   "execution_count": null,
   "metadata": {
    "ExecuteTime": {
     "end_time": "2018-07-06T20:13:16.628911Z",
     "start_time": "2018-07-06T20:13:14.935143Z"
    }
   },
   "outputs": [],
   "source": [
    "from environment import *\n",
    "\n",
    "import setting_for_ccle as setting\n",
    "# import setting_for_tcga as setting\n",
    "\n",
    "path_dict = path(setting)"
   ]
  },
  {
   "cell_type": "code",
   "execution_count": null,
   "metadata": {
    "ExecuteTime": {
     "end_time": "2018-07-06T09:43:34.025342Z",
     "start_time": "2018-07-06T09:43:25.415930Z"
    }
   },
   "outputs": [],
   "source": [
    "feature_x_sample = ccal.read_and_process_feature_x_sample(\n",
    "    setting.FEATURE_X_SAMPLE_FILE_PATH,\n",
    "    nanize=setting.NANIZE,\n",
    "    drop_na_axis=setting.DROP_NA_AXIS,\n",
    "    min_n_not_na_unique_value=setting.MIN_N_NOT_NA_UNIQUE_VALUE,\n",
    "    max_na=setting.MAX_NA,\n",
    "    shift_as_necessary_to_achieve_min_before_logging=setting.SHIFT_AS_NECESSARY_BEFORE_LOGGING,\n",
    "    log_base=setting.LOG_BASE,\n",
    "    normalization_axis=setting.NORMALIZATION_AXIS,\n",
    "    normalization_method=setting.NORMALIZATION_METHOD,\n",
    "    max_plot_n=setting.MAX_PLOT_N,\n",
    "    plot=False,\n",
    ")"
   ]
  },
  {
   "cell_type": "code",
   "execution_count": null,
   "metadata": {},
   "outputs": [],
   "source": [
    "if setting.DROP_GENE_SYMBOLS:\n",
    "    \n",
    "    feature_x_sample = feature_x_sample.loc[feature_x_sample.index & select_gene_symbols()]\n",
    "    \n",
    "    ccal.summarize_feature_x_sample(\n",
    "        feature_x_sample,\n",
    "        max_plot_n=setting.MAX_PLOT_N,\n",
    "    )"
   ]
  },
  {
   "cell_type": "code",
   "execution_count": null,
   "metadata": {},
   "outputs": [],
   "source": [
    "if setting.FEATURES_FILE_PATH is not None:\n",
    "    \n",
    "    features = pd.read_table(\n",
    "        setting.FEATURES_FILE_PATH,\n",
    "        squeeze=True,\n",
    "    )\n",
    "\n",
    "    print(features.size)\n",
    "\n",
    "    feature_x_sample = feature_x_sample.loc[feature_x_sample.index & features]\n",
    "    \n",
    "    ccal.summarize_feature_x_sample(\n",
    "        feature_x_sample,\n",
    "        max_plot_n=setting.MAX_PLOT_N,\n",
    "    )"
   ]
  },
  {
   "cell_type": "code",
   "execution_count": null,
   "metadata": {},
   "outputs": [],
   "source": [
    "feature_x_sample.to_csv(\n",
    "    path_dict['feature_x_sample_file_path'],\n",
    "    sep='\\t',\n",
    ")\n",
    "\n",
    "feature_x_sample"
   ]
  }
 ],
 "metadata": {
  "kernelspec": {
   "display_name": "Python 3",
   "language": "python",
   "name": "python3"
  },
  "language_info": {
   "codemirror_mode": {
    "name": "ipython",
    "version": 3
   },
   "file_extension": ".py",
   "mimetype": "text/x-python",
   "name": "python",
   "nbconvert_exporter": "python",
   "pygments_lexer": "ipython3",
   "version": "3.6.6"
  }
 },
 "nbformat": 4,
 "nbformat_minor": 2
}
