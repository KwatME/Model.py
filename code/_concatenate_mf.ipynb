{
 "cells": [
  {
   "cell_type": "code",
   "execution_count": null,
   "metadata": {},
   "outputs": [],
   "source": [
    "%load_ext autoreload\n",
    "%autoreload 2"
   ]
  },
  {
   "cell_type": "code",
   "execution_count": null,
   "metadata": {},
   "outputs": [],
   "source": [
    "from __init__ import *"
   ]
  },
  {
   "cell_type": "code",
   "execution_count": null,
   "metadata": {},
   "outputs": [],
   "source": [
    "mf_directory_path = \"{}/mf\".format(OUTPUT_DIRECTORY_PATH)\n",
    "\n",
    "kraft.establish_path(mf_directory_path, \"directory\")"
   ]
  },
  {
   "cell_type": "code",
   "execution_count": null,
   "metadata": {},
   "outputs": [],
   "source": [
    "ws = []\n",
    "\n",
    "hs = []\n",
    "\n",
    "for data_dict_index, data_dict in enumerate(SETTING[\"model_data_dicts\"]):\n",
    "\n",
    "    data_dict_ws = []\n",
    "\n",
    "    data_dict_hs = []\n",
    "\n",
    "    for r in SETTING[\"mf_rs\"]:\n",
    "\n",
    "        mf_directory_path = \"{}/mf_r{}\".format(OUTPUT_DIRECTORY_PATH, r)\n",
    "\n",
    "        w_file_path = \"{}/w{}.tsv\".format(mf_directory_path, data_dict_index)\n",
    "\n",
    "        if os.path.isfile(w_file_path):\n",
    "\n",
    "            data_dict_ws.append(pd.read_csv(w_file_path, sep=\"\\t\", index_col=0))\n",
    "\n",
    "        h_file_path = \"{}/h{}.tsv\".format(mf_directory_path, data_dict_index)\n",
    "\n",
    "        if os.path.isfile(h_file_path):\n",
    "\n",
    "            data_dict_hs.append(pd.read_csv(h_file_path, sep=\"\\t\", index_col=0))\n",
    "\n",
    "    ws.append(pd.concat(data_dict_ws, axis=1))\n",
    "\n",
    "    hs.append(pd.concat(data_dict_hs))"
   ]
  },
  {
   "cell_type": "code",
   "execution_count": null,
   "metadata": {},
   "outputs": [],
   "source": [
    "for w_h_str, ws_hs in ((\"w\", ws), (\"h\", hs)):\n",
    "\n",
    "    for i, w_h in enumerate(ws_hs):\n",
    "\n",
    "        w_h.to_csv(\"{}/{}{}.tsv\".format(mf_directory_path, w_h_str, i), sep=\"\\t\")"
   ]
  }
 ],
 "metadata": {
  "kernelspec": {
   "display_name": "Python 3",
   "language": "python",
   "name": "python3"
  },
  "language_info": {
   "codemirror_mode": {
    "name": "ipython",
    "version": 3
   },
   "file_extension": ".py",
   "mimetype": "text/x-python",
   "name": "python",
   "nbconvert_exporter": "python",
   "pygments_lexer": "ipython3",
   "version": "3.7.3"
  }
 },
 "nbformat": 4,
 "nbformat_minor": 4
}
