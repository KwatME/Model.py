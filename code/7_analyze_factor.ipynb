{
 "cells": [
  {
   "cell_type": "code",
   "execution_count": null,
   "metadata": {
    "ExecuteTime": {
     "end_time": "2018-07-06T18:37:36.653167Z",
     "start_time": "2018-07-06T18:37:36.642199Z"
    }
   },
   "outputs": [],
   "source": [
    "%load_ext autoreload\n",
    "%autoreload 2"
   ]
  },
  {
   "cell_type": "code",
   "execution_count": null,
   "metadata": {
    "ExecuteTime": {
     "end_time": "2018-07-06T18:37:38.413000Z",
     "start_time": "2018-07-06T18:37:36.654831Z"
    }
   },
   "outputs": [],
   "source": [
    "from environment import *\n",
    "\n",
    "with open(\"setting.yaml\") as yaml_file:\n",
    "\n",
    "    SETTING = yaml.load(yaml_file)\n",
    "\n",
    "PATH = make_path_dict(SETTING)"
   ]
  },
  {
   "cell_type": "code",
   "execution_count": null,
   "metadata": {
    "ExecuteTime": {
     "end_time": "2018-07-06T18:41:44.586657Z",
     "start_time": "2018-07-06T18:38:44.151540Z"
    }
   },
   "outputs": [],
   "source": [
    "w = pd.read_table(PATH[\"w.tsv\"], index_col=0)\n",
    "\n",
    "w.columns.name = \"Factor\"\n",
    "\n",
    "h = pd.read_table(PATH[\"h.tsv\"], index_col=0)\n",
    "\n",
    "h.columns.name = SETTING[\"sample_alias\"]"
   ]
  },
  {
   "cell_type": "code",
   "execution_count": null,
   "metadata": {
    "ExecuteTime": {
     "end_time": "2018-07-06T18:41:44.586657Z",
     "start_time": "2018-07-06T18:38:44.151540Z"
    }
   },
   "outputs": [],
   "source": [
    "for w_or_h, df, normalization_axis, cluster_axis in ((\"w\", w, 1, 0), (\"h\", h, 0, 1)):\n",
    "\n",
    "    ccal.plot_heat_map(\n",
    "        df,\n",
    "        normalization_axis=normalization_axis,\n",
    "        normalization_method=\"-0-\",\n",
    "        cluster_axis=cluster_axis,\n",
    "        title=\"NMF {}\".format(w_or_h.title()),\n",
    "        xaxis_title=df.columns.name,\n",
    "        yaxis_title=df.index.name,\n",
    "        html_file_path=\"{}/heat_map.html\".format(PATH[\"{}/\".format(w_or_h)]),\n",
    "    )"
   ]
  },
  {
   "cell_type": "code",
   "execution_count": null,
   "metadata": {},
   "outputs": [],
   "source": [
    "for element_type, w_or_h in ((\"feature\", \"w\"), (\"sample\", \"h\")):\n",
    "\n",
    "    if SETTING[\"{}s_to_peek\".format(element_type)] is None:\n",
    "\n",
    "        continue\n",
    "\n",
    "    if element_type == \"feature\":\n",
    "\n",
    "        df = w.loc[\n",
    "            [\n",
    "                feature\n",
    "                for feature in w.index\n",
    "                if any(\n",
    "                    feature_to_peek == feature.replace(\"(-) \", \"\").replace(\"(+) \", \"\")\n",
    "                    for feature_to_peek in SETTING[\"{}s_to_peek\".format(element_type)]\n",
    "                )\n",
    "            ]\n",
    "        ]\n",
    "\n",
    "    elif element_type == \"sample\":\n",
    "\n",
    "        df = h[\n",
    "            [\n",
    "                sample\n",
    "                for sample in h.columns\n",
    "                if any(\n",
    "                    sample_to_peek == sample.replace(\"(-) \", \"\").replace(\"(+) \", \"\")\n",
    "                    for sample_to_peek in SETTING[\"{}s_to_peek\".format(element_type)]\n",
    "                )\n",
    "            ]\n",
    "        ]\n",
    "\n",
    "    ccal.plot_bubble_map(\n",
    "        df,\n",
    "        title=\"{} to Peek\".format(SETTING[\"{}_alias\".format(element_type)]),\n",
    "        xaxis_title=df.columns.name,\n",
    "        yaxis_title=df.index.name,\n",
    "        html_file_path=\"{}/bubble_map.html\".format(PATH[\"{}/\".format(w_or_h)]),\n",
    "    )"
   ]
  },
  {
   "cell_type": "code",
   "execution_count": null,
   "metadata": {
    "ExecuteTime": {
     "end_time": "2018-07-06T18:52:29.719653Z",
     "start_time": "2018-07-06T18:41:44.588542Z"
    }
   },
   "outputs": [],
   "source": [
    "signal = pd.read_table(PATH[\"feature_x_sample.signal.tsv\"], index_col=0)\n",
    "\n",
    "signal.columns.name = SETTING[\"sample_alias\"]\n",
    "\n",
    "signal.fillna(value=0, inplace=True)"
   ]
  },
  {
   "cell_type": "code",
   "execution_count": null,
   "metadata": {},
   "outputs": [],
   "source": [
    "feature_x_sample_processed = pd.read_table(\n",
    "    PATH[\"feature_x_sample.processed.tsv\"], index_col=0\n",
    ")\n",
    "\n",
    "feature_x_sample_processed.columns.name = SETTING[\"sample_alias\"]"
   ]
  },
  {
   "cell_type": "code",
   "execution_count": null,
   "metadata": {
    "ExecuteTime": {
     "end_time": "2018-07-06T18:52:29.719653Z",
     "start_time": "2018-07-06T18:41:44.588542Z"
    }
   },
   "outputs": [],
   "source": [
    "for w_or_h, targets, data_signal, data_raw in (\n",
    "    (\"w\", w.T, signal.T, feature_x_sample_processed.T),\n",
    "    (\"h\", h, signal, feature_x_sample_processed),\n",
    "):\n",
    "\n",
    "    ccal.make_match_panels(\n",
    "        targets,\n",
    "        {\n",
    "            \"Signal\": {\"df\": data_signal, \"type\": \"continuous\"},\n",
    "            \"Feature-x-Sample\": {\"df\": data_raw, \"type\": \"continuous\"},\n",
    "        },\n",
    "        directory_path=PATH[\"{}|match/\".format(w_or_h)],\n",
    "        n_required_for_match_function=SETTING[\"n_required_for_match_function\"],\n",
    "        n_extreme=SETTING[\"n_extreme\"],\n",
    "        plot_std=SETTING[\"plot_std\"],\n",
    "    )"
   ]
  }
 ],
 "metadata": {
  "kernelspec": {
   "display_name": "Python 3",
   "language": "python",
   "name": "python3"
  },
  "language_info": {
   "codemirror_mode": {
    "name": "ipython",
    "version": 3
   },
   "file_extension": ".py",
   "mimetype": "text/x-python",
   "name": "python",
   "nbconvert_exporter": "python",
   "pygments_lexer": "ipython3",
   "version": "3.6.7"
  }
 },
 "nbformat": 4,
 "nbformat_minor": 2
}
