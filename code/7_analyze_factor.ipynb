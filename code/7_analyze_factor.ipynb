{
 "cells": [
  {
   "cell_type": "code",
   "execution_count": null,
   "metadata": {
    "ExecuteTime": {
     "end_time": "2018-07-06T18:37:36.653167Z",
     "start_time": "2018-07-06T18:37:36.642199Z"
    }
   },
   "outputs": [],
   "source": [
    "%load_ext autoreload\n",
    "%autoreload 2"
   ]
  },
  {
   "cell_type": "code",
   "execution_count": null,
   "metadata": {
    "ExecuteTime": {
     "end_time": "2018-07-06T18:37:38.413000Z",
     "start_time": "2018-07-06T18:37:36.654831Z"
    }
   },
   "outputs": [],
   "source": [
    "from environment import *\n",
    "\n",
    "with open(\"setting.yaml\") as yaml_file:\n",
    "\n",
    "    setting = yaml.load(yaml_file)\n",
    "\n",
    "path = make_path_dict(setting)"
   ]
  },
  {
   "cell_type": "code",
   "execution_count": null,
   "metadata": {
    "ExecuteTime": {
     "end_time": "2018-07-06T18:41:44.586657Z",
     "start_time": "2018-07-06T18:38:44.151540Z"
    }
   },
   "outputs": [],
   "source": [
    "w = pd.read_table(path[\"w.tsv\"], index_col=0)\n",
    "\n",
    "h = pd.read_table(path[\"h.tsv\"], index_col=0)\n",
    "\n",
    "w.columns.name = \"Factor\"\n",
    "\n",
    "h.columns.name = setting[\"sample_alias\"]"
   ]
  },
  {
   "cell_type": "code",
   "execution_count": null,
   "metadata": {
    "ExecuteTime": {
     "end_time": "2018-07-06T18:41:44.586657Z",
     "start_time": "2018-07-06T18:38:44.151540Z"
    }
   },
   "outputs": [],
   "source": [
    "for w_or_h in (\"w\", \"h\"):\n",
    "\n",
    "    if w_or_h == \"w\":\n",
    "\n",
    "        df = w\n",
    "\n",
    "        normalization_axis = 1\n",
    "\n",
    "        cluster_axis = 0\n",
    "\n",
    "    elif w_or_h == \"h\":\n",
    "\n",
    "        df = h\n",
    "\n",
    "        normalization_axis = 0\n",
    "\n",
    "        cluster_axis = 1\n",
    "\n",
    "    w_or_h_directory_path = path[\"{}/\".format(w_or_h)]\n",
    "\n",
    "    ccal.plot_heat_map(\n",
    "        df,\n",
    "        normalization_axis=normalization_axis,\n",
    "        normalization_method=\"-0-\",\n",
    "        cluster_axis=cluster_axis,\n",
    "        title=\"NMF K={} {}\".format(setting[\"nmf_k\"], w_or_h.title()),\n",
    "        xaxis_title=df.columns.name,\n",
    "        yaxis_title=df.index.name,\n",
    "        html_file_path=\"{}/heat_map.html\".format(w_or_h_directory_path),\n",
    "    )"
   ]
  },
  {
   "cell_type": "code",
   "execution_count": null,
   "metadata": {},
   "outputs": [],
   "source": [
    "for element_type in (\"feature\", \"sample\"):\n",
    "\n",
    "    elements_to_peek = setting[\"{}s_to_peek\".format(element_type)]\n",
    "\n",
    "    if elements_to_peek is not None:\n",
    "\n",
    "        element_alias = setting[\"{}_alias\".format(element_type)]\n",
    "\n",
    "        if element_type == \"feature\":\n",
    "\n",
    "            w_or_h = \"w\"\n",
    "\n",
    "            df = w.loc[\n",
    "                (\n",
    "                    i\n",
    "                    for i in w.index\n",
    "                    if any(element in i for element in elements_to_peek)\n",
    "                ),\n",
    "                :,\n",
    "            ]\n",
    "\n",
    "            xaxis_title = \"Factor\"\n",
    "\n",
    "            yaxis_title = element_alias\n",
    "\n",
    "        elif element_type == \"sample\":\n",
    "\n",
    "            w_or_h = \"h\"\n",
    "\n",
    "            df = h.loc[\n",
    "                :,\n",
    "                (\n",
    "                    i\n",
    "                    for i in h.columns\n",
    "                    if any(element in i for element in elements_to_peek)\n",
    "                ),\n",
    "            ]\n",
    "\n",
    "            xaxis_title = element_alias\n",
    "\n",
    "            yaxis_title = \"Factor\"\n",
    "\n",
    "        w_or_h_directory_path = path[\"{}/\".format(w_or_h)]\n",
    "\n",
    "        ccal.plot_bubble_map(\n",
    "            df,\n",
    "            title=\"{} to Peek\".format(element_alias),\n",
    "            xaxis_title=\"Factor\",\n",
    "            yaxis_title=element_alias,\n",
    "            html_file_path=\"{}/bubble_map.html\".format(w_or_h_directory_path),\n",
    "        )"
   ]
  },
  {
   "cell_type": "code",
   "execution_count": null,
   "metadata": {
    "ExecuteTime": {
     "end_time": "2018-07-06T18:41:44.586657Z",
     "start_time": "2018-07-06T18:38:44.151540Z"
    }
   },
   "outputs": [],
   "source": [
    "for w_or_h in (\"w\", \"h\"):\n",
    "\n",
    "    if w_or_h == \"w\":\n",
    "\n",
    "        df = w.T\n",
    "\n",
    "    elif w_or_h == \"h\":\n",
    "\n",
    "        df = h\n",
    "\n",
    "    df_signature = pd.DataFrame(index=df.index, columns=df.columns)\n",
    "\n",
    "    for factor_name, factor_values in df.iterrows():\n",
    "\n",
    "        low_elements, high_elements = ccal.select_series_low_and_high_index(\n",
    "            factor_values,\n",
    "            title=\"NMF K={} {} {} Signature\".format(\n",
    "                setting[\"nmf_k\"], w_or_h.title(), factor_name\n",
    "            ),\n",
    "        )\n",
    "\n",
    "        df_signature.loc[factor_name, low_elements] = \"Low\"\n",
    "\n",
    "        df_signature.loc[factor_name, high_elements] = \"High\"\n",
    "\n",
    "    if w_or_h == \"w\":\n",
    "\n",
    "        df_signature = df_signature.T\n",
    "\n",
    "    df_signature.to_csv(path[\"{}|signature.tsv\".format(w_or_h)], sep=\"\\t\")"
   ]
  },
  {
   "cell_type": "code",
   "execution_count": null,
   "metadata": {
    "ExecuteTime": {
     "end_time": "2018-07-06T18:52:29.719653Z",
     "start_time": "2018-07-06T18:41:44.588542Z"
    }
   },
   "outputs": [],
   "source": [
    "raw = pd.read_table(setting[\"feature_x_sample_file_path\"], index_col=0)\n",
    "\n",
    "signal = pd.read_table(path[\"feature_x_sample.context_signal.tsv\"], index_col=0)\n",
    "\n",
    "signal.fillna(0, inplace=True)\n",
    "\n",
    "for w_or_h in (\"w\", \"h\"):\n",
    "\n",
    "    if w_or_h == \"w\":\n",
    "\n",
    "        targets = w.T\n",
    "\n",
    "        df_raw = raw.T\n",
    "\n",
    "        df_signal = signal.T\n",
    "\n",
    "    elif w_or_h == \"h\":\n",
    "\n",
    "        targets = h\n",
    "\n",
    "        df_raw = raw\n",
    "\n",
    "        df_signal = signal\n",
    "\n",
    "    match_directory_path = path[\"{}|match/\".format(w_or_h)]\n",
    "\n",
    "    ccal.make_match_panels(\n",
    "        targets,\n",
    "        {\n",
    "            \"signal\": {\"df\": df_signal, \"data_type\": \"continuous\"},\n",
    "            \"raw\": {\"df\": df_raw, \"data_type\": \"continuous\"},\n",
    "        },\n",
    "        n_job=setting[\"max_n_job\"],\n",
    "        n_required_for_match_function=setting[\"n_required_for_match_function\"],\n",
    "        extreme_feature_threshold=setting[\"extreme_feature_threshold\"],\n",
    "        plot_std=setting[\"plot_std\"],\n",
    "        directory_path=match_directory_path,\n",
    "    )"
   ]
  }
 ],
 "metadata": {
  "kernelspec": {
   "display_name": "Python 3",
   "language": "python",
   "name": "python3"
  },
  "language_info": {
   "codemirror_mode": {
    "name": "ipython",
    "version": 3
   },
   "file_extension": ".py",
   "mimetype": "text/x-python",
   "name": "python",
   "nbconvert_exporter": "python",
   "pygments_lexer": "ipython3",
   "version": "3.6.7"
  }
 },
 "nbformat": 4,
 "nbformat_minor": 2
}
