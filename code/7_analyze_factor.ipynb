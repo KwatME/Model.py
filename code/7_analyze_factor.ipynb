{
 "cells": [
  {
   "cell_type": "code",
   "execution_count": null,
   "metadata": {
    "ExecuteTime": {
     "end_time": "2018-07-06T18:37:36.653167Z",
     "start_time": "2018-07-06T18:37:36.642199Z"
    }
   },
   "outputs": [],
   "source": [
    "%load_ext autoreload\n",
    "%autoreload 2"
   ]
  },
  {
   "cell_type": "code",
   "execution_count": null,
   "metadata": {
    "ExecuteTime": {
     "end_time": "2018-07-06T18:37:38.413000Z",
     "start_time": "2018-07-06T18:37:36.654831Z"
    }
   },
   "outputs": [],
   "source": [
    "from environment import *\n",
    "\n",
    "PROJECT_JSON = kraft.read_json(\"../project.json\")\n",
    "\n",
    "PATH = make_path_dict(PROJECT_JSON)"
   ]
  },
  {
   "cell_type": "code",
   "execution_count": null,
   "metadata": {
    "ExecuteTime": {
     "end_time": "2018-07-06T18:41:44.586657Z",
     "start_time": "2018-07-06T18:38:44.151540Z"
    }
   },
   "outputs": [],
   "source": [
    "w = pd.read_csv(PATH[\"w.tsv\"], sep=\"\\t\", index_col=0)\n",
    "\n",
    "w.columns.name = \"Factor\"\n",
    "\n",
    "h = pd.read_csv(PATH[\"h.tsv\"], sep=\"\\t\", index_col=0)\n",
    "\n",
    "h.columns.name = PROJECT_JSON[\"sample_alias\"]"
   ]
  },
  {
   "cell_type": "code",
   "execution_count": null,
   "metadata": {
    "ExecuteTime": {
     "end_time": "2018-07-06T18:41:44.586657Z",
     "start_time": "2018-07-06T18:38:44.151540Z"
    }
   },
   "outputs": [],
   "source": [
    "for w_or_h, dataframe, normalization_axis in ((\"w\", w, 1), (\"h\", h, 0)):\n",
    "\n",
    "    kraft.plot_heat_map(\n",
    "        kraft.normalize_dataframe(\n",
    "            dataframe.iloc[\n",
    "                kraft.cluster_matrix(dataframe.values, 0),\n",
    "                kraft.cluster_matrix(dataframe.values, 1),\n",
    "            ],\n",
    "            normalization_axis,\n",
    "            \"-0-\",\n",
    "        ),\n",
    "        layout={\"title\": {\"text\": \"MF {}\".format(w_or_h.title())}},\n",
    "        html_file_path=os.path.join(\n",
    "            PATH[\"{}/\".format(w_or_h)], \"{}.html\".format(w_or_h)\n",
    "        ),\n",
    "    )"
   ]
  },
  {
   "cell_type": "code",
   "execution_count": null,
   "metadata": {},
   "outputs": [],
   "source": [
    "for element_type, w_or_h, size_normalization_axis in (\n",
    "    (\"feature\", \"w\", 1),\n",
    "    (\"sample\", \"h\", 0),\n",
    "):\n",
    "\n",
    "    if element_type == \"feature\":\n",
    "\n",
    "        dataframe = w.loc[\n",
    "            [\n",
    "                feature\n",
    "                for feature in w.index\n",
    "                if any(\n",
    "                    feature_to_peek in feature\n",
    "                    for feature_to_peek in PROJECT_JSON[\n",
    "                        \"{}s_to_peek\".format(element_type)\n",
    "                    ]\n",
    "                )\n",
    "            ]\n",
    "        ]\n",
    "\n",
    "    elif element_type == \"sample\":\n",
    "\n",
    "        dataframe = h[\n",
    "            [\n",
    "                sample\n",
    "                for sample in h.columns\n",
    "                if any(\n",
    "                    sample_to_peek in sample\n",
    "                    for sample_to_peek in PROJECT_JSON[\n",
    "                        \"{}s_to_peek\".format(element_type)\n",
    "                    ]\n",
    "                )\n",
    "            ]\n",
    "        ]\n",
    "\n",
    "    if dataframe.empty:\n",
    "\n",
    "        continue\n",
    "\n",
    "    kraft.plot_bubble_map(\n",
    "        kraft.normalize_dataframe(dataframe, size_normalization_axis, \"-0-\"),\n",
    "        dataframe_color=dataframe,\n",
    "        layout={\n",
    "            \"title\": {\n",
    "                \"text\": \"{} to Peek\".format(\n",
    "                    PROJECT_JSON[\"{}_alias\".format(element_type)]\n",
    "                )\n",
    "            }\n",
    "        },\n",
    "        html_file_path=os.path.join(\n",
    "            PATH[\"{}/\".format(w_or_h)], \"{}.peek.html\".format(w_or_h)\n",
    "        ),\n",
    "    )"
   ]
  },
  {
   "cell_type": "code",
   "execution_count": null,
   "metadata": {
    "ExecuteTime": {
     "end_time": "2018-07-06T18:52:29.719653Z",
     "start_time": "2018-07-06T18:41:44.588542Z"
    }
   },
   "outputs": [],
   "source": [
    "signal = pd.read_csv(PATH[\"feature_x_sample.signal.tsv\"], sep=\"\\t\", index_col=0)\n",
    "\n",
    "signal.columns.name = PROJECT_JSON[\"sample_alias\"]\n",
    "\n",
    "signal.fillna(value=0, inplace=True)"
   ]
  },
  {
   "cell_type": "code",
   "execution_count": null,
   "metadata": {},
   "outputs": [],
   "source": [
    "feature_x_sample_processed = pd.read_csv(\n",
    "    PATH[\"feature_x_sample.processed.tsv\"], sep=\"\\t\", index_col=0\n",
    ")\n",
    "\n",
    "feature_x_sample_processed.columns.name = PROJECT_JSON[\"sample_alias\"]"
   ]
  },
  {
   "cell_type": "code",
   "execution_count": null,
   "metadata": {
    "ExecuteTime": {
     "end_time": "2018-07-06T18:52:29.719653Z",
     "start_time": "2018-07-06T18:41:44.588542Z"
    }
   },
   "outputs": [],
   "source": [
    "for w_or_h, targets, data_signal, data_raw in (\n",
    "    (\"w\", w.T, signal.T, feature_x_sample_processed.T),\n",
    "    (\"h\", h, signal, feature_x_sample_processed),\n",
    "):\n",
    "\n",
    "    kraft.make_match_panels(\n",
    "        targets,\n",
    "        {\n",
    "            \"Signal\": {\"dataframe\": data_signal, \"data_type\": \"continuous\"},\n",
    "            \"Feature-x-Sample\": {\"dataframe\": data_raw, \"data_type\": \"continuous\"},\n",
    "        },\n",
    "        n_required_for_match_function=PROJECT_JSON[\"n_required_for_match_function\"],\n",
    "        n_sampling=0,\n",
    "        n_permutation=0,\n",
    "        plot_std=PROJECT_JSON[\"plot_std\"],\n",
    "    )"
   ]
  }
 ],
 "metadata": {
  "@webio": {
   "lastCommId": null,
   "lastKernelId": null
  },
  "kernelspec": {
   "display_name": "Python 3",
   "language": "python",
   "name": "python3"
  },
  "language_info": {
   "codemirror_mode": {
    "name": "ipython",
    "version": 3
   },
   "file_extension": ".py",
   "mimetype": "text/x-python",
   "name": "python",
   "nbconvert_exporter": "python",
   "pygments_lexer": "ipython3",
   "version": "3.7.3"
  }
 },
 "nbformat": 4,
 "nbformat_minor": 4
}
