{
 "cells": [
  {
   "cell_type": "code",
   "execution_count": null,
   "metadata": {
    "ExecuteTime": {
     "end_time": "2018-07-06T18:37:36.653167Z",
     "start_time": "2018-07-06T18:37:36.642199Z"
    }
   },
   "outputs": [],
   "source": [
    "%load_ext autoreload\n",
    "%autoreload 2"
   ]
  },
  {
   "cell_type": "code",
   "execution_count": null,
   "metadata": {
    "ExecuteTime": {
     "end_time": "2018-07-06T18:37:38.413000Z",
     "start_time": "2018-07-06T18:37:36.654831Z"
    }
   },
   "outputs": [],
   "source": [
    "from environment import *\n",
    "\n",
    "with open(\"setting.yaml\") as yaml_file:\n",
    "\n",
    "    SETTING = yaml.load(yaml_file)\n",
    "\n",
    "PATH = make_path_dict(SETTING)"
   ]
  },
  {
   "cell_type": "code",
   "execution_count": null,
   "metadata": {
    "ExecuteTime": {
     "end_time": "2018-07-06T18:41:44.586657Z",
     "start_time": "2018-07-06T18:38:44.151540Z"
    }
   },
   "outputs": [],
   "source": [
    "w = pd.read_table(PATH[\"w.tsv\"], index_col=0)\n",
    "\n",
    "h = pd.read_table(PATH[\"h.tsv\"], index_col=0)"
   ]
  },
  {
   "cell_type": "code",
   "execution_count": null,
   "metadata": {
    "ExecuteTime": {
     "end_time": "2018-07-06T18:41:44.586657Z",
     "start_time": "2018-07-06T18:38:44.151540Z"
    }
   },
   "outputs": [],
   "source": [
    "for (\n",
    "    element_type,\n",
    "    w_or_h,\n",
    "    df,\n",
    "    normalization_axis,\n",
    "    cluster_axis,\n",
    "    xaxis_title,\n",
    "    yaxis_title,\n",
    ") in (\n",
    "    (\"feature\", \"w\", w, 1, 0, \"Factor\", SETTING[\"feature_alias\"]),\n",
    "    (\"sample\", \"h\", h, 0, 1, SETTING[\"sample_alias\"], \"Factor\"),\n",
    "):\n",
    "\n",
    "    if SETTING[\"plot_cluster_max_size\"] < df.shape[cluster_axis]:\n",
    "\n",
    "        cluster_axis = None\n",
    "\n",
    "    ccal.plot_heat_map(\n",
    "        df,\n",
    "        normalization_axis=normalization_axis,\n",
    "        normalization_method=\"-0-\",\n",
    "        cluster_axis=cluster_axis,\n",
    "        title=\"NMF K={} {}\".format(SETTING[\"nmf_k\"], w_or_h.title()),\n",
    "        xaxis_title=xaxis_title,\n",
    "        yaxis_title=yaxis_title,\n",
    "        html_file_path=\"{}/heat_map.html\".format(PATH[\"{}/\".format(w_or_h)]),\n",
    "    )"
   ]
  },
  {
   "cell_type": "code",
   "execution_count": null,
   "metadata": {},
   "outputs": [],
   "source": [
    "for (element_type, w_or_h, xaxis_title, yaxis_title) in (\n",
    "    (\"feature\", \"w\", \"Factor\", SETTING[\"feature_alias\"]),\n",
    "    (\"sample\", \"h\", SETTING[\"sample_alias\"], \"Factor\"),\n",
    "):\n",
    "\n",
    "    if SETTING[\"{}s_to_peek\".format(element_type)] is None:\n",
    "\n",
    "        continue\n",
    "\n",
    "    if element_type == \"feature\":\n",
    "\n",
    "        df = w.loc[\n",
    "            (\n",
    "                any(\n",
    "                    element_to_peek in element\n",
    "                    for element_to_peek in SETTING[\"{}s_to_peek\".format(element_type)]\n",
    "                )\n",
    "                for element in w.index\n",
    "            ),\n",
    "            :,\n",
    "        ]\n",
    "\n",
    "    elif element_type == \"sample\":\n",
    "\n",
    "        df = h.loc[\n",
    "            :,\n",
    "            (\n",
    "                any(element_to_peek in element for element_to_peek in elements_to_peek)\n",
    "                for element in h.columns\n",
    "            ),\n",
    "            :,\n",
    "        ]\n",
    "\n",
    "    ccal.plot_bubble_map(\n",
    "        df,\n",
    "        title=\"{} to Peek\".format(SETTING[\"{}_alias\".format(element_type)]),\n",
    "        xaxis_title=xaxis_title,\n",
    "        yaxis_title=yaxis_title,\n",
    "        html_file_path=\"{}/bubble_map.html\".format(PATH[\"{}/\".format(w_or_h)]),\n",
    "    )"
   ]
  },
  {
   "cell_type": "code",
   "execution_count": null,
   "metadata": {
    "ExecuteTime": {
     "end_time": "2018-07-06T18:41:44.586657Z",
     "start_time": "2018-07-06T18:38:44.151540Z"
    }
   },
   "outputs": [],
   "source": [
    "for w_or_h, df in ((\"w\", w.T), (\"h\", h)):\n",
    "\n",
    "    df_signature = pd.DataFrame(index=df.index, columns=df.columns)\n",
    "\n",
    "    for factor_name, factor_values in df.iterrows():\n",
    "\n",
    "        low_elements, high_elements = ccal.select_series_low_and_high_index(\n",
    "            factor_values,\n",
    "            title=\"NMF K={} {} {} Signature\".format(\n",
    "                SETTING[\"nmf_k\"], w_or_h.title(), factor_name\n",
    "            ),\n",
    "        )\n",
    "\n",
    "        df_signature.loc[factor_name, low_elements] = \"Low\"\n",
    "\n",
    "        df_signature.loc[factor_name, high_elements] = \"High\"\n",
    "\n",
    "    if w_or_h == \"w\":\n",
    "\n",
    "        df_signature = df_signature.T\n",
    "\n",
    "    df_signature.to_csv(PATH[\"{}|signature.tsv\".format(w_or_h)], sep=\"\\t\")"
   ]
  },
  {
   "cell_type": "code",
   "execution_count": null,
   "metadata": {
    "ExecuteTime": {
     "end_time": "2018-07-06T18:52:29.719653Z",
     "start_time": "2018-07-06T18:41:44.588542Z"
    }
   },
   "outputs": [],
   "source": [
    "raw = pd.read_table(SETTING[\"feature_x_sample_file_path\"], index_col=0)"
   ]
  },
  {
   "cell_type": "code",
   "execution_count": null,
   "metadata": {
    "ExecuteTime": {
     "end_time": "2018-07-06T18:52:29.719653Z",
     "start_time": "2018-07-06T18:41:44.588542Z"
    }
   },
   "outputs": [],
   "source": [
    "signal = pd.read_table(PATH[\"feature_x_sample.signal.tsv\"], index_col=0)\n",
    "\n",
    "signal.fillna(0, inplace=True)"
   ]
  },
  {
   "cell_type": "code",
   "execution_count": null,
   "metadata": {
    "ExecuteTime": {
     "end_time": "2018-07-06T18:52:29.719653Z",
     "start_time": "2018-07-06T18:41:44.588542Z"
    }
   },
   "outputs": [],
   "source": [
    "for w_or_h, targets, df_raw, df_signal in (\n",
    "    (\"w\", w.T, raw.T, signal.T),\n",
    "    (\"h\", h, raw, signal),\n",
    "):\n",
    "\n",
    "    ccal.make_match_panels(\n",
    "        targets,\n",
    "        {\n",
    "            \"raw\": {\"df\": df_raw, \"data_type\": \"continuous\"},\n",
    "            \"signal\": {\"df\": df_signal, \"data_type\": \"continuous\"},\n",
    "        },\n",
    "        n_required_for_match_function=SETTING[\"n_required_for_match_function\"],\n",
    "        extreme_feature_threshold=SETTING[\"extreme_feature_threshold\"],\n",
    "        plot_std=SETTING[\"plot_std\"],\n",
    "        directory_path=PATH[\"{}|match/\".format(w_or_h)],\n",
    "    )"
   ]
  }
 ],
 "metadata": {
  "kernelspec": {
   "display_name": "Python 3",
   "language": "python",
   "name": "python3"
  },
  "language_info": {
   "codemirror_mode": {
    "name": "ipython",
    "version": 3
   },
   "file_extension": ".py",
   "mimetype": "text/x-python",
   "name": "python",
   "nbconvert_exporter": "python",
   "pygments_lexer": "ipython3",
   "version": "3.6.7"
  }
 },
 "nbformat": 4,
 "nbformat_minor": 2
}
