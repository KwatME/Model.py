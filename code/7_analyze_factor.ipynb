{
 "cells": [
  {
   "cell_type": "code",
   "execution_count": null,
   "metadata": {
    "ExecuteTime": {
     "end_time": "2018-07-06T18:37:36.653167Z",
     "start_time": "2018-07-06T18:37:36.642199Z"
    }
   },
   "outputs": [],
   "source": [
    "%load_ext autoreload\n",
    "%autoreload 2"
   ]
  },
  {
   "cell_type": "code",
   "execution_count": null,
   "metadata": {
    "ExecuteTime": {
     "end_time": "2018-07-06T20:13:16.628911Z",
     "start_time": "2018-07-06T20:13:14.935143Z"
    }
   },
   "outputs": [],
   "source": [
    "from __init__ import *\n",
    "\n",
    "SETTING = kraft.read_json(\"../project.json\")\n",
    "\n",
    "if \"project_directory_path\" in SETTING:\n",
    "\n",
    "    SETTING.update(\n",
    "        kraft.read_json(os.path.join(SETTING[\"project_directory_path\"], \"project.json\"))\n",
    "    )\n",
    "\n",
    "    SETTING[\"output_directory_path\"] = os.path.join(\n",
    "        SETTING[\"project_directory_path\"], \"output\"\n",
    "    )\n",
    "\n",
    "PATH = make_path_dict(SETTING)"
   ]
  },
  {
   "cell_type": "code",
   "execution_count": null,
   "metadata": {
    "ExecuteTime": {
     "end_time": "2018-07-06T18:41:44.586657Z",
     "start_time": "2018-07-06T18:38:44.151540Z"
    }
   },
   "outputs": [],
   "source": [
    "w = pd.read_csv(PATH[\"w.tsv\"], sep=\"\\t\", index_col=0)\n",
    "\n",
    "h = pd.read_csv(PATH[\"h.tsv\"], sep=\"\\t\", index_col=0)\n",
    "\n",
    "w.columns.name = h.index.name\n",
    "\n",
    "h.columns.name = SETTING[\"sample_alias\"]"
   ]
  },
  {
   "cell_type": "code",
   "execution_count": null,
   "metadata": {
    "ExecuteTime": {
     "end_time": "2018-07-06T18:41:44.586657Z",
     "start_time": "2018-07-06T18:38:44.151540Z"
    }
   },
   "outputs": [],
   "source": [
    "for w_or_h, dataframe, normalization_axis in ((\"w\", w, 1), (\"h\", h, 0)):\n",
    "\n",
    "    dataframe = kraft.normalize_dataframe(dataframe, normalization_axis, \"-0-\")\n",
    "\n",
    "    dataframe = dataframe.iloc[\n",
    "        kraft.cluster_matrix(dataframe.values, 0),\n",
    "        kraft.cluster_matrix(dataframe.values, 1),\n",
    "    ]\n",
    "\n",
    "    kraft.plot_heat_map(\n",
    "        dataframe,\n",
    "        layout={\n",
    "            \"height\": 800,\n",
    "            \"width\": 800,\n",
    "            \"title\": {\"x\": 0.5, \"text\": w_or_h.title()},\n",
    "            \"xaxis\": {\"showticklabels\": w_or_h == \"w\"},\n",
    "            \"yaxis\": {\"showticklabels\": w_or_h == \"h\"},\n",
    "        },\n",
    "        html_file_path=os.path.join(\n",
    "            PATH[\"{}/\".format(w_or_h)], \"{}.html\".format(w_or_h)\n",
    "        ),\n",
    "    )"
   ]
  },
  {
   "cell_type": "code",
   "execution_count": null,
   "metadata": {},
   "outputs": [],
   "source": [
    "for element_type, w_or_h, size_normalization_axis in (\n",
    "    (\"feature\", \"w\", 1),\n",
    "    (\"sample\", \"h\", 0),\n",
    "):\n",
    "\n",
    "    elements_to_peek = SETTING[\"{}s_to_peek\".format(element_type)]\n",
    "\n",
    "    if element_type == \"feature\":\n",
    "\n",
    "        dataframe = w.loc[\n",
    "            [\n",
    "                feature\n",
    "                for feature in w.index\n",
    "                if any(\n",
    "                    feature_to_peek in feature for feature_to_peek in elements_to_peek\n",
    "                )\n",
    "            ]\n",
    "        ]\n",
    "\n",
    "    elif element_type == \"sample\":\n",
    "\n",
    "        dataframe = h[\n",
    "            [\n",
    "                sample\n",
    "                for sample in h.columns\n",
    "                if any(sample_to_peek in sample for sample_to_peek in elements_to_peek)\n",
    "            ]\n",
    "        ]\n",
    "\n",
    "    if dataframe.empty:\n",
    "\n",
    "        continue\n",
    "\n",
    "    kraft.plot_bubble_map(\n",
    "        dataframe,\n",
    "        dataframe_color=dataframe,\n",
    "        html_file_path=os.path.join(\n",
    "            PATH[\"{}/\".format(w_or_h)], \"{}.peek.html\".format(w_or_h)\n",
    "        ),\n",
    "    )"
   ]
  },
  {
   "cell_type": "code",
   "execution_count": null,
   "metadata": {
    "ExecuteTime": {
     "end_time": "2018-07-06T18:52:29.719653Z",
     "start_time": "2018-07-06T18:41:44.588542Z"
    }
   },
   "outputs": [],
   "source": [
    "signal = pd.read_csv(PATH[\"feature_x_sample.signal.tsv\"], sep=\"\\t\", index_col=0)\n",
    "\n",
    "signal.columns.name = SETTING[\"sample_alias\"]\n",
    "\n",
    "signal.fillna(value=0, inplace=True)"
   ]
  },
  {
   "cell_type": "code",
   "execution_count": null,
   "metadata": {},
   "outputs": [],
   "source": [
    "feature_x_sample_processed = pd.read_csv(\n",
    "    PATH[\"feature_x_sample.processed.tsv\"], sep=\"\\t\", index_col=0\n",
    ")\n",
    "\n",
    "feature_x_sample_processed.columns.name = SETTING[\"sample_alias\"]"
   ]
  },
  {
   "cell_type": "code",
   "execution_count": null,
   "metadata": {
    "ExecuteTime": {
     "end_time": "2018-07-06T18:52:29.719653Z",
     "start_time": "2018-07-06T18:41:44.588542Z"
    }
   },
   "outputs": [],
   "source": [
    "for targets, data_signal, data_raw in (\n",
    "    (w.T, signal.T, feature_x_sample_processed.T),\n",
    "    (h, signal, feature_x_sample_processed),\n",
    "):\n",
    "\n",
    "    kraft.make_match_panels(\n",
    "        targets,\n",
    "        {\n",
    "            \"Signal\": {\"dataframe\": data_signal, \"data_type\": \"continuous\"},\n",
    "            \"Feature-x-Sample\": {\"dataframe\": data_raw, \"data_type\": \"continuous\"},\n",
    "        },\n",
    "        n_required_for_match_function=SETTING[\"n_required_for_match_function\"],\n",
    "        n_sampling=0,\n",
    "        n_permutation=0,\n",
    "        plot_std=SETTING[\"plot_std\"],\n",
    "    )"
   ]
  }
 ],
 "metadata": {
  "@webio": {
   "lastCommId": null,
   "lastKernelId": null
  },
  "kernelspec": {
   "display_name": "Python 3",
   "language": "python",
   "name": "python3"
  },
  "language_info": {
   "codemirror_mode": {
    "name": "ipython",
    "version": 3
   },
   "file_extension": ".py",
   "mimetype": "text/x-python",
   "name": "python",
   "nbconvert_exporter": "python",
   "pygments_lexer": "ipython3",
   "version": "3.7.3"
  }
 },
 "nbformat": 4,
 "nbformat_minor": 4
}
