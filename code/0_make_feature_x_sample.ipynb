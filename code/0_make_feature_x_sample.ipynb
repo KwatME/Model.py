{
 "cells": [
  {
   "cell_type": "code",
   "execution_count": null,
   "metadata": {
    "ExecuteTime": {
     "end_time": "2018-06-16T05:36:20.277295Z",
     "start_time": "2018-06-16T05:36:20.259143Z"
    }
   },
   "outputs": [],
   "source": [
    "%load_ext autoreload\n",
    "%autoreload 2"
   ]
  },
  {
   "cell_type": "code",
   "execution_count": null,
   "metadata": {
    "ExecuteTime": {
     "end_time": "2018-06-16T05:36:21.985846Z",
     "start_time": "2018-06-16T05:36:20.279492Z"
    }
   },
   "outputs": [],
   "source": [
    "from environment import *\n",
    "\n",
    "import analysis as a\n",
    "\n",
    "p = make_paths(a)"
   ]
  },
  {
   "cell_type": "code",
   "execution_count": null,
   "metadata": {
    "ExecuteTime": {
     "end_time": "2018-06-16T05:36:49.189331Z",
     "start_time": "2018-06-16T05:36:21.988210Z"
    },
    "scrolled": false
   },
   "outputs": [],
   "source": [
    "feature_x_sample = ccal.read_and_process_feature_x_sample(\n",
    "    a.FEATURE_X_SAMPLE_FILE_PATH,\n",
    "    features_to_drop=a.FEATURES_TO_DROP,\n",
    "    samples_to_drop=a.SAMPLES_TO_DROP,\n",
    "    nanize_0=a.NANIZE_0,\n",
    "    drop_na_axis=a.DROP_NA_AXIS,\n",
    "    max_na=a.MAX_NA,\n",
    "    min_n_not_na_unique_value=a.MIN_N_NOT_NA_UNIQUE_VALUE,\n",
    "    log=a.LOG,\n",
    "    normalization_method=a.NORMALIZATION_METHOD,\n",
    "    normalization_axis=a.NORMALIZATION_AXIS)\n",
    "\n",
    "feature_x_sample.to_csv(p['feature_x_sample_file_path'], sep='\\t')\n",
    "\n",
    "feature_x_sample"
   ]
  }
 ],
 "metadata": {
  "kernelspec": {
   "display_name": "Python [default]",
   "language": "python",
   "name": "python3"
  },
  "language_info": {
   "codemirror_mode": {
    "name": "ipython",
    "version": 3
   },
   "file_extension": ".py",
   "mimetype": "text/x-python",
   "name": "python",
   "nbconvert_exporter": "python",
   "pygments_lexer": "ipython3",
   "version": "3.6.5"
  }
 },
 "nbformat": 4,
 "nbformat_minor": 2
}
