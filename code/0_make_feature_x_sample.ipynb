{
 "cells": [
  {
   "cell_type": "code",
   "execution_count": null,
   "metadata": {
    "ExecuteTime": {
     "end_time": "2018-07-06T09:43:23.708162Z",
     "start_time": "2018-07-06T09:43:23.691484Z"
    }
   },
   "outputs": [],
   "source": [
    "%load_ext autoreload\n",
    "\n",
    "%autoreload 2"
   ]
  },
  {
   "cell_type": "code",
   "execution_count": null,
   "metadata": {
    "ExecuteTime": {
     "end_time": "2018-07-06T20:13:16.628911Z",
     "start_time": "2018-07-06T20:13:14.935143Z"
    }
   },
   "outputs": [],
   "source": [
    "from environment import *\n",
    "\n",
    "import setting\n",
    "\n",
    "path_dict = path(setting)"
   ]
  },
  {
   "cell_type": "code",
   "execution_count": null,
   "metadata": {
    "ExecuteTime": {
     "end_time": "2018-07-06T09:43:34.025342Z",
     "start_time": "2018-07-06T09:43:25.415930Z"
    }
   },
   "outputs": [],
   "source": [
    "feature_x_sample = ccal.read_and_process_feature_x_sample(\n",
    "    setting.FEATURE_X_SAMPLE_FILE_PATH,\n",
    "    features_to_drop=setting.FEATURES_TO_DROP,\n",
    "    samples_to_drop=setting.SAMPLES_TO_DROP,\n",
    "    nanize_0=setting.NANIZE_0,\n",
    "    drop_na_axis=setting.DROP_NA_AXIS,\n",
    "    max_na=setting.MAX_NA,\n",
    "    min_n_not_na_unique_value=setting.MIN_N_NOT_NA_UNIQUE_VALUE,\n",
    "    log=setting.LOG,\n",
    "    normalization_axis=setting.NORMALIZATION_AXIS,\n",
    "    normalization_method=setting.NORMALIZATION_METHOD,\n",
    ")\n",
    "\n",
    "feature_x_sample"
   ]
  },
  {
   "cell_type": "code",
   "execution_count": null,
   "metadata": {
    "ExecuteTime": {
     "end_time": "2018-07-06T09:43:44.165760Z",
     "start_time": "2018-07-06T09:43:34.028383Z"
    }
   },
   "outputs": [],
   "source": [
    "if setting.SELECT_ONLY_GENES:\n",
    "\n",
    "    gff3_df_indexed_by_gene = ccal.index_gff3_df_by_name(ccal.read_gff3_gz(\n",
    "        '../data/Homo_sapiens.GRCh38.92.chr.gff3.gz',\n",
    "        only_type_to_keep='gene',\n",
    "    ))\n",
    "\n",
    "    feature_x_sample = feature_x_sample.loc[feature_x_sample.index & gff3_df_indexed_by_gene.index]\n",
    "\n",
    "    if feature_x_sample.size < 1e6:\n",
    "        \n",
    "        ccal.plot_heat_map(\n",
    "            feature_x_sample,\n",
    "            xaxis_title='Sample',\n",
    "            yaxis_title='Feature',\n",
    "        )\n",
    "\n",
    "feature_x_sample"
   ]
  },
  {
   "cell_type": "code",
   "execution_count": null,
   "metadata": {
    "ExecuteTime": {
     "end_time": "2018-07-06T09:43:53.671058Z",
     "start_time": "2018-07-06T09:43:44.167975Z"
    }
   },
   "outputs": [],
   "source": [
    "feature_x_sample.to_csv(\n",
    "    path_dict['feature_x_sample_file_path'],\n",
    "    sep='\\t',\n",
    ")"
   ]
  }
 ],
 "metadata": {
  "kernelspec": {
   "display_name": "Python 3",
   "language": "python",
   "name": "python3"
  },
  "language_info": {
   "codemirror_mode": {
    "name": "ipython",
    "version": 3
   },
   "file_extension": ".py",
   "mimetype": "text/x-python",
   "name": "python",
   "nbconvert_exporter": "python",
   "pygments_lexer": "ipython3",
   "version": "3.5.5"
  }
 },
 "nbformat": 4,
 "nbformat_minor": 2
}
