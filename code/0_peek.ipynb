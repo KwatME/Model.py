{
 "cells": [
  {
   "cell_type": "code",
   "execution_count": null,
   "metadata": {},
   "outputs": [],
   "source": [
    "%load_ext autoreload\n",
    "%autoreload 2"
   ]
  },
  {
   "cell_type": "code",
   "execution_count": null,
   "metadata": {},
   "outputs": [],
   "source": [
    "from __init__ import *"
   ]
  },
  {
   "cell_type": "code",
   "execution_count": null,
   "metadata": {},
   "outputs": [],
   "source": [
    "dataframes = []\n",
    "\n",
    "for data_dict in SETTING[\"model_data_dicts\"]:\n",
    "\n",
    "    print(\"=\" * 8, data_dict[\"name\"], \"=\" * 8)\n",
    "\n",
    "    dataframe = pd.read_csv(data_dict[\"file_path\"], sep=\"\\t\", index_col=0)\n",
    "\n",
    "    dataframe.columns.name = data_dict[\"axis1_name\"]\n",
    "\n",
    "    kraft.summarize_dataframe(dataframe, plot=False)\n",
    "\n",
    "    dataframes.append(dataframe)"
   ]
  },
  {
   "cell_type": "code",
   "execution_count": null,
   "metadata": {},
   "outputs": [],
   "source": [
    "# dataframe = dataframes[0]\n",
    "# assert (0 <= dataframe).unstack().all()\n",
    "\n",
    "# sum_axis0 = dataframe.sum(axis=0)\n",
    "# axis1_p = sum_axis0 / sum_axis0.sum()\n",
    "# kraft.plot_histogram((axis1_p,), plot_rug=False)\n",
    "# kraft.plot_scatter(None, (axis1_p.sort_values(),))\n",
    "\n",
    "# sum_axis1 = dataframe.sum(axis=1)\n",
    "# axis0_p = sum_axis1 / sum_axis1.sum()\n",
    "# kraft.plot_histogram((axis0_p,), plot_rug=False)\n",
    "# kraft.plot_scatter(None, (axis0_p.sort_values(),))\n",
    "\n",
    "# def f(t, s):\n",
    "#     s += 1e-6\n",
    "#     return np.sum(-t*np.log(t/s))\n",
    "\n",
    "# axis0_score = dataframe.apply(lambda series: f(axis1_p.values, series.values), axis=1)\n",
    "# kraft.plot_scatter(None, (axis0_score.sort_values(),))\n",
    "\n",
    "# kraft.plot_scatter(None,(axis0_score[sum_axis1.sort_values().index],))"
   ]
  },
  {
   "cell_type": "code",
   "execution_count": null,
   "metadata": {},
   "outputs": [],
   "source": [
    "for data_dict_index, data_dict in enumerate(SETTING[\"model_data_dicts\"]):\n",
    "\n",
    "    dataframe = dataframes[data_dict_index]\n",
    "\n",
    "    for axis in (0, 1):\n",
    "\n",
    "        elements_to_peek = set(SETTING[\"axis{}_elements_to_peek\".format(axis)])\n",
    "\n",
    "        if axis == 0:\n",
    "\n",
    "            element_value_s = tuple(\n",
    "                dataframe.loc[element] for element in dataframe.index & elements_to_peek\n",
    "            )\n",
    "\n",
    "        else:\n",
    "\n",
    "            element_value_s = tuple(\n",
    "                dataframe[element] for element in dataframe.columns & elements_to_peek\n",
    "            )\n",
    "\n",
    "        kraft.plot_histogram(\n",
    "            element_value_s,\n",
    "            plot_rug=False,\n",
    "            layout={\"title\": {\"text\": data_dict[\"name\"]}},\n",
    "        )"
   ]
  }
 ],
 "metadata": {
  "kernelspec": {
   "display_name": "Python 3",
   "language": "python",
   "name": "python3"
  },
  "language_info": {
   "codemirror_mode": {
    "name": "ipython",
    "version": 3
   },
   "file_extension": ".py",
   "mimetype": "text/x-python",
   "name": "python",
   "nbconvert_exporter": "python",
   "pygments_lexer": "ipython3",
   "version": "3.7.3"
  }
 },
 "nbformat": 4,
 "nbformat_minor": 4
}
