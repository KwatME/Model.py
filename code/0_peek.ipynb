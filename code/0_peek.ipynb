{
 "cells": [
  {
   "cell_type": "code",
   "execution_count": null,
   "metadata": {},
   "outputs": [],
   "source": [
    "%load_ext autoreload\n",
    "%autoreload 2"
   ]
  },
  {
   "cell_type": "code",
   "execution_count": null,
   "metadata": {},
   "outputs": [],
   "source": [
    "from __init__ import *"
   ]
  },
  {
   "cell_type": "code",
   "execution_count": null,
   "metadata": {},
   "outputs": [],
   "source": [
    "dataframes = []\n",
    "\n",
    "for data_dict in SETTING[\"model_data_dicts\"]:\n",
    "\n",
    "    print(\"=\" * 8, data_dict[\"name\"], \"=\" * 8)\n",
    "\n",
    "    dataframe = pd.read_csv(data_dict[\"file_path\"], sep=\"\\t\", index_col=0)\n",
    "\n",
    "    dataframe.columns.name = data_dict[\"axis1_name\"]\n",
    "\n",
    "    kraft.summarize_dataframe(dataframe, plot=False)\n",
    "\n",
    "    dataframes.append(dataframe)"
   ]
  },
  {
   "cell_type": "code",
   "execution_count": null,
   "metadata": {},
   "outputs": [],
   "source": [
    "for data_dict_index, data_dict in enumerate(SETTING[\"model_data_dicts\"]):\n",
    "\n",
    "    dataframe = dataframes[data_dict_index]\n",
    "\n",
    "    for axis in (0, 1):\n",
    "\n",
    "        elements_to_peek = SETTING[\"axis{}_elements_to_peek\".format(axis)]\n",
    "\n",
    "        if axis == 0:\n",
    "\n",
    "            element_value_s = tuple(\n",
    "                dataframe.loc[element] for element in dataframe.index & elements_to_peek\n",
    "            )\n",
    "\n",
    "        else:\n",
    "\n",
    "            element_value_s = tuple(\n",
    "                dataframe[element] for element in dataframe.columns & elements_to_peek\n",
    "            )\n",
    "\n",
    "        kraft.plot_histogram(\n",
    "            element_value_s[:8], layout={\"title\": {\"text\": data_dict[\"name\"]}}\n",
    "        )"
   ]
  }
 ],
 "metadata": {
  "kernelspec": {
   "display_name": "Python 3",
   "language": "python",
   "name": "python3"
  },
  "language_info": {
   "codemirror_mode": {
    "name": "ipython",
    "version": 3
   },
   "file_extension": ".py",
   "mimetype": "text/x-python",
   "name": "python",
   "nbconvert_exporter": "python",
   "pygments_lexer": "ipython3",
   "version": "3.7.3"
  }
 },
 "nbformat": 4,
 "nbformat_minor": 4
}
