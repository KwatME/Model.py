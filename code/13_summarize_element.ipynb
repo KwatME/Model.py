{
 "cells": [
  {
   "cell_type": "code",
   "execution_count": null,
   "metadata": {
    "ExecuteTime": {
     "end_time": "2018-07-06T07:59:49.777639Z",
     "start_time": "2018-07-06T07:59:49.765242Z"
    }
   },
   "outputs": [],
   "source": [
    "%load_ext autoreload\n",
    "%autoreload 2"
   ]
  },
  {
   "cell_type": "code",
   "execution_count": null,
   "metadata": {
    "ExecuteTime": {
     "end_time": "2018-07-08T02:00:18.306031Z",
     "start_time": "2018-07-08T02:00:18.276698Z"
    }
   },
   "outputs": [],
   "source": [
    "from environment import *\n",
    "\n",
    "with open(\"setting.yaml\") as yaml_file:\n",
    "\n",
    "    SETTING = yaml.load(yaml_file)\n",
    "\n",
    "PATH = make_path_dict(SETTING)"
   ]
  },
  {
   "cell_type": "code",
   "execution_count": null,
   "metadata": {},
   "outputs": [],
   "source": [
    "w = pd.read_csv(PATH[\"w.tsv\"], sep=\"\\t\", index_col=0)\n",
    "\n",
    "w.columns.name = \"Factor\"\n",
    "\n",
    "h = pd.read_csv(PATH[\"h.tsv\"], sep=\"\\t\", index_col=0)\n",
    "\n",
    "h.columns.name = SETTING[\"sample_alias\"]"
   ]
  },
  {
   "cell_type": "code",
   "execution_count": null,
   "metadata": {},
   "outputs": [],
   "source": [
    "feature_x_signature = pd.DataFrame(index=w.index)\n",
    "\n",
    "for w_or_h, element_x_factor, element_x_signature in ((\"w\", w, feature_x_signature),):\n",
    "\n",
    "    for factor_name, factor_values in element_x_factor.items():\n",
    "\n",
    "        element_x_signature.loc[\n",
    "            ccal.select_series_indices(\n",
    "                factor_values,\n",
    "                \">\",\n",
    "                standard_deviation=1,\n",
    "                title=\"MF K={} {} {} Signature\".format(\n",
    "                    SETTING[\"mf_k\"], w_or_h.title(), factor_name\n",
    "                ),\n",
    "                xaxis={\"title\": \"Rank\"},\n",
    "                yaxis={\"title\": \"Factor Value\"},\n",
    "            ),\n",
    "            \"{} Signature\".format(factor_name),\n",
    "        ] = 1\n",
    "\n",
    "feature_x_signature.fillna(0, inplace=True)"
   ]
  },
  {
   "cell_type": "code",
   "execution_count": null,
   "metadata": {},
   "outputs": [],
   "source": [
    "gps_map = ccal.read_gps_map(PATH[\"gps_map.pickle.gz\"])\n",
    "\n",
    "if gps_map.w_element_label is None:\n",
    "\n",
    "    gps_map_directory_path = PATH[\"w|gps_map/\"]\n",
    "\n",
    "else:\n",
    "\n",
    "    gps_map_directory_path = PATH[\"w|hcc|gps_map/\"]\n",
    "\n",
    "for signature, feature_is_factor in feature_x_signature.items():\n",
    "\n",
    "    gps_map.plot(\n",
    "        \"w\",\n",
    "        annotation_x_element=feature_is_factor.to_frame().T,\n",
    "        annotation_types=(\"binary\",),\n",
    "        element_marker_size=SETTING[\"gps_map_w_element_marker_size\"],\n",
    "        title=signature,\n",
    "        html_file_path=os.path.join(gps_map_directory_path, signature),\n",
    "    )"
   ]
  },
  {
   "cell_type": "code",
   "execution_count": null,
   "metadata": {},
   "outputs": [],
   "source": [
    "if os.path.isfile(PATH[\"w|cluster_x_element.tsv\"]):\n",
    "\n",
    "    w_element_cluster = pd.read_csv(\n",
    "        PATH[\"w|cluster_x_element.tsv\"], sep=\"\\t\", index_col=0\n",
    "    ).apply(lambda column: column.argmax())\n",
    "\n",
    "    w_element_cluster.name = \"Cluster\"\n",
    "\n",
    "    w_element_cluster.index.name = w.index.name\n",
    "\n",
    "else:\n",
    "\n",
    "    w_element_cluster = None\n",
    "\n",
    "if os.path.isfile(PATH[\"h|cluster_x_element.tsv\"]):\n",
    "\n",
    "    h_element_cluster = pd.read_csv(\n",
    "        PATH[\"h|cluster_x_element.tsv\"], sep=\"\\t\", index_col=0\n",
    "    ).apply(lambda column: column.argmax())\n",
    "\n",
    "    h_element_cluster.name = \"Cluster\"\n",
    "\n",
    "    h_element_cluster.index.name = h.columns.name\n",
    "\n",
    "else:\n",
    "\n",
    "    h_element_cluster = None"
   ]
  },
  {
   "cell_type": "code",
   "execution_count": null,
   "metadata": {},
   "outputs": [],
   "source": [
    "feature_summary = pd.concat((w, feature_x_signature, w_element_cluster), axis=1)\n",
    "\n",
    "feature_summary.to_csv(\n",
    "    os.path.join(PATH[\"summary/\"], \"feature_x_summary_information.tsv\"), sep=\"\\t\"\n",
    "),\n",
    "\n",
    "feature_summary"
   ]
  },
  {
   "cell_type": "code",
   "execution_count": null,
   "metadata": {},
   "outputs": [],
   "source": [
    "sample_summary = pd.concat((h.T, h_element_cluster), axis=1)\n",
    "\n",
    "sample_summary.to_csv(\n",
    "    os.path.join(PATH[\"summary/\"], \"sample_x_summary_information.tsv\"), sep=\"\\t\"\n",
    "),\n",
    "\n",
    "sample_summary"
   ]
  }
 ],
 "metadata": {
  "kernelspec": {
   "display_name": "Python 3",
   "language": "python",
   "name": "python3"
  },
  "language_info": {
   "codemirror_mode": {
    "name": "ipython",
    "version": 3
   },
   "file_extension": ".py",
   "mimetype": "text/x-python",
   "name": "python",
   "nbconvert_exporter": "python",
   "pygments_lexer": "ipython3",
   "version": "3.6.7"
  }
 },
 "nbformat": 4,
 "nbformat_minor": 2
}
