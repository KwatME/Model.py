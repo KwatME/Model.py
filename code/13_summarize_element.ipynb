{
 "cells": [
  {
   "cell_type": "code",
   "execution_count": null,
   "metadata": {
    "ExecuteTime": {
     "end_time": "2018-07-06T07:59:49.777639Z",
     "start_time": "2018-07-06T07:59:49.765242Z"
    }
   },
   "outputs": [],
   "source": [
    "%load_ext autoreload\n",
    "%autoreload 2"
   ]
  },
  {
   "cell_type": "code",
   "execution_count": null,
   "metadata": {
    "ExecuteTime": {
     "end_time": "2018-07-08T02:00:18.306031Z",
     "start_time": "2018-07-08T02:00:18.276698Z"
    }
   },
   "outputs": [],
   "source": [
    "from environment import *\n",
    "\n",
    "with open(\"setting.yaml\") as yaml_file:\n",
    "\n",
    "    SETTING = yaml.load(yaml_file)\n",
    "\n",
    "PATH = make_path_dict(SETTING)"
   ]
  },
  {
   "cell_type": "code",
   "execution_count": null,
   "metadata": {},
   "outputs": [],
   "source": [
    "w = pd.read_csv(PATH[\"w.tsv\"], sep=\"\\t\", index_col=0)\n",
    "\n",
    "w.columns.name = \"Factor\"\n",
    "\n",
    "h = pd.read_csv(PATH[\"h.tsv\"], sep=\"\\t\", index_col=0)\n",
    "\n",
    "h.columns.name = SETTING[\"sample_alias\"]"
   ]
  },
  {
   "cell_type": "code",
   "execution_count": null,
   "metadata": {},
   "outputs": [],
   "source": [
    "w_signature = pd.DataFrame(index=w.index)\n",
    "\n",
    "for factor_name, factor_values in w.items():\n",
    "\n",
    "    w_signature.loc[\n",
    "        ccal.select_series_indices(\n",
    "            factor_values,\n",
    "            \">\",\n",
    "            standard_deviation=1,\n",
    "            title=dict(\n",
    "                text=\"NMF K={} W {} Signature\".format(SETTING[\"nmf_k\"], factor_name)\n",
    "            ),\n",
    "            xaxis=dict(title=\"Rank\"),\n",
    "            yaxis=dict(title=\"Factor Value\"),\n",
    "        ),\n",
    "        factor_name,\n",
    "    ] = 1\n",
    "\n",
    "w_signature.columns = pd.Index(\n",
    "    (\"{} Signature\".format(factor_name) for factor_name in w_signature.columns),\n",
    "    name=\"Signature\",\n",
    ")"
   ]
  },
  {
   "cell_type": "code",
   "execution_count": null,
   "metadata": {},
   "outputs": [],
   "source": [
    "h_signature = pd.DataFrame(columns=h.columns)\n",
    "\n",
    "for factor_name, factor_values in h.iterrows():\n",
    "\n",
    "    h_signature.loc[\n",
    "        factor_name,\n",
    "        ccal.select_series_indices(\n",
    "            factor_values,\n",
    "            \">\",\n",
    "            standard_deviation=1,\n",
    "            title=dict(\n",
    "                text=\"NMF K={} H {} Signature\".format(SETTING[\"nmf_k\"], factor_name)\n",
    "            ),\n",
    "            xaxis=dict(title=\"Rank\"),\n",
    "            yaxis=dict(title=\"Factor Value\"),\n",
    "        ),\n",
    "    ] = 1\n",
    "\n",
    "h_signature.index = pd.Index(\n",
    "    (\"{} Signature\".format(factor_name) for factor_name in h_signature.index),\n",
    "    name=\"Signature\",\n",
    ")"
   ]
  },
  {
   "cell_type": "code",
   "execution_count": null,
   "metadata": {},
   "outputs": [],
   "source": [
    "w__cluster_x_column = pd.read_csv(PATH[\"w|cluster_x_column.tsv\"], sep=\"\\t\", index_col=0)\n",
    "\n",
    "w__cluster_x_column.columns.name = w.index.name\n",
    "\n",
    "h__cluster_x_column = pd.read_csv(PATH[\"h|cluster_x_column.tsv\"], sep=\"\\t\", index_col=0)\n",
    "\n",
    "h__cluster_x_column.columns.name = h.columns.name"
   ]
  },
  {
   "cell_type": "code",
   "execution_count": null,
   "metadata": {},
   "outputs": [],
   "source": [
    "w_element_cluster = w__cluster_x_column.apply(lambda column: column.argmax())\n",
    "\n",
    "w_element_cluster.name = \"Cluster\"\n",
    "\n",
    "h_element_cluster = h__cluster_x_column.apply(lambda column: column.argmax())\n",
    "\n",
    "h_element_cluster.name = \"Cluster\""
   ]
  },
  {
   "cell_type": "code",
   "execution_count": null,
   "metadata": {},
   "outputs": [],
   "source": [
    "feature_summary = pd.concat((w, w_signature, w_element_cluster), axis=1)\n",
    "\n",
    "feature_summary = ccal.clean_and_write_df_to_tsv(\n",
    "    feature_summary,\n",
    "    feature_summary.index.name,\n",
    "    \"{}/feature_x_summary_information.tsv\".format(PATH[\"summary/\"]),\n",
    ")\n",
    "\n",
    "feature_summary"
   ]
  },
  {
   "cell_type": "code",
   "execution_count": null,
   "metadata": {},
   "outputs": [],
   "source": [
    "sample_summary = pd.concat((h.T, h_signature.T, h_element_cluster), axis=1)\n",
    "\n",
    "sample_summary = ccal.clean_and_write_df_to_tsv(\n",
    "    sample_summary,\n",
    "    sample_summary.index.name,\n",
    "    \"{}/sample_x_summary_information.tsv\".format(PATH[\"summary/\"]),\n",
    ")\n",
    "\n",
    "sample_summary"
   ]
  }
 ],
 "metadata": {
  "kernelspec": {
   "display_name": "Python 3",
   "language": "python",
   "name": "python3"
  },
  "language_info": {
   "codemirror_mode": {
    "name": "ipython",
    "version": 3
   },
   "file_extension": ".py",
   "mimetype": "text/x-python",
   "name": "python",
   "nbconvert_exporter": "python",
   "pygments_lexer": "ipython3",
   "version": "3.6.7"
  }
 },
 "nbformat": 4,
 "nbformat_minor": 2
}
