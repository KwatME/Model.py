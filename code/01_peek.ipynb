{
 "cells": [
  {
   "cell_type": "code",
   "execution_count": null,
   "metadata": {},
   "outputs": [],
   "source": [
    "from __init__ import *"
   ]
  },
  {
   "cell_type": "code",
   "execution_count": null,
   "metadata": {},
   "outputs": [],
   "source": [
    "for data in SETTING[\"model_data_\"]:\n",
    "\n",
    "    table = pd.read_csv(data[\"file_path\"], sep=\"\\t\", index_col=0)\n",
    "\n",
    "    table.columns.name = data[\"axis_1_name\"]\n",
    "\n",
    "    data[\"table\"] = table"
   ]
  },
  {
   "cell_type": "code",
   "execution_count": null,
   "metadata": {},
   "outputs": [],
   "source": [
    "for data in SETTING[\"model_data_\"]:\n",
    "\n",
    "    kraft.feature_x_sample.summarize(data[\"table\"])"
   ]
  },
  {
   "cell_type": "code",
   "execution_count": null,
   "metadata": {},
   "outputs": [],
   "source": [
    "for data in SETTING[\"model_data_\"]:\n",
    "\n",
    "    table = data[\"table\"]\n",
    "\n",
    "    (\n",
    "        matrix,\n",
    "        axis_0_label_,\n",
    "        axis_1_label_,\n",
    "        axis_0_name,\n",
    "        axis_1_name,\n",
    "    ) = kraft.table.untangle(table)\n",
    "\n",
    "    title_text = \"Peek {} {{}}\".format(data[\"name\"])\n",
    "\n",
    "    xaxis = {\"title\": {\"text\": \"Number\"}}\n",
    "\n",
    "    is_ = kraft.array.check_is_in(\n",
    "        axis_0_label_, np.asarray(SETTING[\"peek_axis_0_label_\"])\n",
    "    )\n",
    "\n",
    "    kraft.plot.plot_histogram(\n",
    "        matrix[is_],\n",
    "        (axis_1_label_,) * is_.sum(),\n",
    "        axis_0_label_[is_],\n",
    "        layout={\"title\": {\"text\": title_text.format(axis_0_name)}, \"xaxis\": xaxis},\n",
    "    )\n",
    "\n",
    "    is_ = kraft.array.check_is_in(\n",
    "        axis_1_label_, np.asarray(SETTING[\"peek_axis_1_label_\"])\n",
    "    )\n",
    "\n",
    "    kraft.plot.plot_histogram(\n",
    "        matrix[:, is_],\n",
    "        (axis_0_label_,) * is_.sum(),\n",
    "        axis_1_label_[is_],\n",
    "        layout={\"title\": {\"text\": title_text.format(axis_1_name)}, \"xaxis\": xaxis},\n",
    "    )"
   ]
  }
 ],
 "metadata": {
  "kernelspec": {
   "display_name": "Python 3",
   "language": "python",
   "name": "python3"
  },
  "language_info": {
   "codemirror_mode": {
    "name": "ipython",
    "version": 3
   },
   "file_extension": ".py",
   "mimetype": "text/x-python",
   "name": "python",
   "nbconvert_exporter": "python",
   "pygments_lexer": "ipython3",
   "version": "3.7.8"
  }
 },
 "nbformat": 4,
 "nbformat_minor": 4
}
