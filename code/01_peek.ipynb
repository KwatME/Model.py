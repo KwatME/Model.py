{
 "cells": [
  {
   "cell_type": "code",
   "execution_count": null,
   "metadata": {},
   "outputs": [],
   "source": [
    "from __init__ import *"
   ]
  },
  {
   "cell_type": "code",
   "execution_count": null,
   "metadata": {},
   "outputs": [],
   "source": [
    "table_ = []\n",
    "\n",
    "for data in SETTING[\"model_data_\"]:\n",
    "\n",
    "    table = pd.read_csv(dict[\"file_path\"], sep=\"\\t\", index_col=0)\n",
    "\n",
    "    table.columns.name = dict[\"axis_1_name\"]\n",
    "\n",
    "    kraft.feature_x_sample.summarize(table)\n",
    "\n",
    "    table_.append(table)"
   ]
  },
  {
   "cell_type": "code",
   "execution_count": null,
   "metadata": {},
   "outputs": [],
   "source": [
    "for i, data in enumerate(SETTING[\"model_data_\"]):\n",
    "\n",
    "    table = table_[i]\n",
    "\n",
    "    for axis in (0, 1):\n",
    "\n",
    "        if axis == 1:\n",
    "\n",
    "            table = table.T\n",
    "\n",
    "        axis_0_label_, axis_1_label_, axis_0_name = kraft.pandas.untangle(table)[1:-1]\n",
    "\n",
    "        label_ = set(axis_0_label_) & set(SETTING[\"peek_axis_{}_label_\".format(axis)])\n",
    "\n",
    "        if 0 < len(label_):\n",
    "\n",
    "            kraft.plot.plot_histogram(\n",
    "                table.loc[label_, :].to_numpy(),\n",
    "                (axis_1_label_,) * len(label_),\n",
    "                label_,\n",
    "                layout={\n",
    "                    \"title\": {\"text\": \"Peek {} {}\".format(dict[\"name\"], axis_0_name),},\n",
    "                    \"xaxis\": {\"title\": {\"text\": \"Number\"}},\n",
    "                },\n",
    "            )"
   ]
  }
 ],
 "metadata": {
  "kernelspec": {
   "display_name": "Python 3",
   "language": "python",
   "name": "python3"
  },
  "language_info": {
   "codemirror_mode": {
    "name": "ipython",
    "version": 3
   },
   "file_extension": ".py",
   "mimetype": "text/x-python",
   "name": "python",
   "nbconvert_exporter": "python",
   "pygments_lexer": "ipython3",
   "version": "3.7.8"
  }
 },
 "nbformat": 4,
 "nbformat_minor": 4
}
