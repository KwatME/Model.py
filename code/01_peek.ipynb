{
 "cells": [
  {
   "cell_type": "code",
   "execution_count": null,
   "metadata": {},
   "outputs": [],
   "source": [
    "from __init__ import *"
   ]
  },
  {
   "cell_type": "code",
   "execution_count": null,
   "metadata": {},
   "outputs": [],
   "source": [
    "for data in SETTING[\"model_data_\"]:\n",
    "\n",
    "    df = pd.read_csv(data[\"file_path\"], sep=\"\\t\", index_col=0)\n",
    "\n",
    "    df.columns.name = data[\"axis_1_name\"]\n",
    "\n",
    "    data[\"df\"] = df"
   ]
  },
  {
   "cell_type": "code",
   "execution_count": null,
   "metadata": {},
   "outputs": [],
   "source": [
    "# for data in SETTING[\"model_data_\"]:\n",
    "\n",
    "#     kraft.pd.summarize(data[\"df\"])"
   ]
  },
  {
   "cell_type": "code",
   "execution_count": null,
   "metadata": {},
   "outputs": [],
   "source": [
    "for data in SETTING[\"model_data_\"]:\n",
    "\n",
    "    df = data[\"df\"]\n",
    "\n",
    "    matrix = df.to_numpy()\n",
    "\n",
    "    axis_0_label_ = df.index.to_numpy()\n",
    "\n",
    "    axis_1_label_ = df.columns.to_numpy()\n",
    "\n",
    "    axis_0_name = df.index.name\n",
    "\n",
    "    axis_1_name = df.columns.name\n",
    "\n",
    "    text = \"Peek {} {{}}\".format(data[\"name\"])\n",
    "\n",
    "    xaxis = {\"title\": {\"text\": \"Number\"}}\n",
    "\n",
    "    is_ = kraft.array.check_is_in(\n",
    "        axis_0_label_, np.asarray(SETTING[\"axis_0_peek_label_\"])\n",
    "    )\n",
    "\n",
    "    kraft.plot.plot_histogram(\n",
    "        matrix[is_],\n",
    "        (axis_1_label_,) * is_.sum(),\n",
    "        axis_0_label_[is_],\n",
    "        layout={\"title\": {\"text\": text.format(axis_0_name)}, \"xaxis\": xaxis,},\n",
    "    )\n",
    "\n",
    "    is_ = kraft.array.check_is_in(\n",
    "        axis_1_label_, np.asarray(SETTING[\"axis_1_peek_label_\"])\n",
    "    )\n",
    "\n",
    "    kraft.plot.plot_histogram(\n",
    "        matrix[:, is_],\n",
    "        (axis_0_label_,) * is_.sum(),\n",
    "        axis_1_label_[is_],\n",
    "        layout={\"title\": {\"text\": text.format(axis_0_name)}, \"xaxis\": xaxis,},\n",
    "    )"
   ]
  }
 ],
 "metadata": {
  "kernelspec": {
   "display_name": "Python 3",
   "language": "python",
   "name": "python3"
  },
  "language_info": {
   "codemirror_mode": {
    "name": "ipython",
    "version": 3
   },
   "file_extension": ".py",
   "mimetype": "text/x-python",
   "name": "python",
   "nbconvert_exporter": "python",
   "pygments_lexer": "ipython3",
   "version": "3.7.8"
  }
 },
 "nbformat": 4,
 "nbformat_minor": 4
}
