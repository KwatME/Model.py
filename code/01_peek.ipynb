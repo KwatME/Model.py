{
 "cells": [
  {
   "cell_type": "code",
   "execution_count": null,
   "metadata": {},
   "outputs": [],
   "source": [
    "from __init__ import *"
   ]
  },
  {
   "cell_type": "code",
   "execution_count": null,
   "metadata": {},
   "outputs": [],
   "source": [
    "dataframes = []\n",
    "\n",
    "for data_dict in SETTING[\"model_data_dicts\"]:\n",
    "\n",
    "    print(\"=\" * 8, data_dict[\"name\"], \"=\" * 8)\n",
    "\n",
    "    dataframe = pd.read_csv(data_dict[\"file_path\"], sep=\"\\t\", index_col=0)\n",
    "\n",
    "    dataframe.columns.name = data_dict[\"axis_1_name\"]\n",
    "\n",
    "    kraft.feature_x_sample.summarize(dataframe, plot=False)\n",
    "\n",
    "    dataframes.append(dataframe)"
   ]
  },
  {
   "cell_type": "code",
   "execution_count": null,
   "metadata": {},
   "outputs": [],
   "source": [
    "for data_dict_i, data_dict in enumerate(SETTING[\"model_data_dicts\"]):\n",
    "\n",
    "    dataframe = dataframes[data_dict_i]\n",
    "\n",
    "    for axis in (0, 1):\n",
    "\n",
    "        elements_to_peek = SETTING[\"axis_{}_elements_to_peek\".format(axis)]\n",
    "\n",
    "        if axis == 0:\n",
    "\n",
    "            element_valuess = tuple(\n",
    "                dataframe.loc[element, :]\n",
    "                for element in dataframe.index & elements_to_peek\n",
    "            )\n",
    "\n",
    "            name = dataframe.index.name\n",
    "\n",
    "        else:\n",
    "\n",
    "            element_valuess = tuple(\n",
    "                dataframe.loc[:, element]\n",
    "                for element in dataframe.columns & elements_to_peek\n",
    "            )\n",
    "\n",
    "            name = dataframe.columns.name\n",
    "\n",
    "        kraft.plot.plot_histogram(\n",
    "            element_valuess,\n",
    "            layout={\"title\": {\"text\": \"Peek {} {}\".format(data_dict[\"name\"], name)}},\n",
    "        )"
   ]
  }
 ],
 "metadata": {
  "kernelspec": {
   "display_name": "Python 3",
   "language": "python",
   "name": "python3"
  },
  "language_info": {
   "codemirror_mode": {
    "name": "ipython",
    "version": 3
   },
   "file_extension": ".py",
   "mimetype": "text/x-python",
   "name": "python",
   "nbconvert_exporter": "python",
   "pygments_lexer": "ipython3",
   "version": "3.7.8"
  }
 },
 "nbformat": 4,
 "nbformat_minor": 4
}
