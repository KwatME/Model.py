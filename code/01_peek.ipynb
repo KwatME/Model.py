{
 "cells": [
  {
   "cell_type": "code",
   "execution_count": null,
   "metadata": {},
   "outputs": [],
   "source": [
    "from __init__ import *"
   ]
  },
  {
   "cell_type": "code",
   "execution_count": null,
   "metadata": {},
   "outputs": [],
   "source": [
    "dataframes = []\n",
    "\n",
    "for dict_ in SETTING[\"model_data_dicts\"]:\n",
    "\n",
    "    print(\"=\" * 80)\n",
    "\n",
    "    print(dict_[\"name\"])\n",
    "\n",
    "    dataframe = pd.read_csv(dict_[\"file_path\"], sep=\"\\t\", index_col=0)\n",
    "\n",
    "    dataframe.columns.name = dict_[\"axis_1_name\"]\n",
    "\n",
    "    kraft.feature_x_sample.summarize(dataframe)\n",
    "\n",
    "    dataframes.append(dataframe)"
   ]
  },
  {
   "cell_type": "code",
   "execution_count": null,
   "metadata": {},
   "outputs": [],
   "source": [
    "for i, dict_ in enumerate(SETTING[\"model_data_dicts\"]):\n",
    "\n",
    "    dataframe = dataframes[i]\n",
    "\n",
    "    for axis in (0, 1):\n",
    "\n",
    "        labels = SETTING[\"axis_{}_to_peek\".format(axis)]\n",
    "\n",
    "        if axis == 1:\n",
    "\n",
    "            dataframe = dataframe.T\n",
    "\n",
    "        kraft.plot.plot_histogram(\n",
    "            tuple(dataframe.loc[label, :] for label in dataframe.index & labels),\n",
    "            layout={\n",
    "                \"title\": {\n",
    "                    \"text\": \"Peek {} {}\".format(dict_[\"name\"], dataframe.index.name)\n",
    "                }\n",
    "            },\n",
    "        )"
   ]
  }
 ],
 "metadata": {
  "kernelspec": {
   "display_name": "Python 3",
   "language": "python",
   "name": "python3"
  },
  "language_info": {
   "codemirror_mode": {
    "name": "ipython",
    "version": 3
   },
   "file_extension": ".py",
   "mimetype": "text/x-python",
   "name": "python",
   "nbconvert_exporter": "python",
   "pygments_lexer": "ipython3",
   "version": "3.7.8"
  }
 },
 "nbformat": 4,
 "nbformat_minor": 4
}
