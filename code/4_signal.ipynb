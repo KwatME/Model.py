{
 "cells": [
  {
   "cell_type": "code",
   "execution_count": null,
   "metadata": {
    "ExecuteTime": {
     "end_time": "2018-07-06T20:13:14.932963Z",
     "start_time": "2018-07-06T20:13:14.920835Z"
    }
   },
   "outputs": [],
   "source": [
    "%load_ext autoreload\n",
    "%autoreload 2"
   ]
  },
  {
   "cell_type": "code",
   "execution_count": null,
   "metadata": {
    "ExecuteTime": {
     "end_time": "2018-07-06T20:13:16.628911Z",
     "start_time": "2018-07-06T20:13:14.935143Z"
    }
   },
   "outputs": [],
   "source": [
    "from environment import *\n",
    "from setting import *"
   ]
  },
  {
   "cell_type": "code",
   "execution_count": null,
   "metadata": {},
   "outputs": [],
   "source": [
    "feature_x_sample_processed = pd.read_table(\n",
    "    PATH_DICT[\"feature_x_sample.processed.tsv\"], index_col=0\n",
    ")"
   ]
  },
  {
   "cell_type": "code",
   "execution_count": null,
   "metadata": {},
   "outputs": [],
   "source": [
    "feature_x_sample_processed_normalized = ccal.normalize_df(\n",
    "    feature_x_sample_processed,\n",
    "    RAW_SIGNAL_NORMALIZATION_AXIS,\n",
    "    RAW_SIGNAL_NORMALIZATION_METHOD,\n",
    "    raise_for_bad=False,\n",
    ")"
   ]
  },
  {
   "cell_type": "code",
   "execution_count": null,
   "metadata": {},
   "outputs": [],
   "source": [
    "if SELECT_FEATURE_AUTOMATICALLY:\n",
    "\n",
    "    features = ccal.select_series_low_and_high_index(\n",
    "        feature_x_sample_processed_normalized.std(axis=1),\n",
    "        title=\"{} Ranking by Raw Signal\".format(FEATURE_ALIAS),\n",
    "        value_name=\"Raw Signal Standard Deviation\",\n",
    "    )[1]\n",
    "\n",
    "else:\n",
    "\n",
    "    features = feature_x_sample_processed_normalized.index\n",
    "\n",
    "print(\"Selected {} {}.\".format(features.size, FEATURE_ALIAS))"
   ]
  },
  {
   "cell_type": "code",
   "execution_count": null,
   "metadata": {},
   "outputs": [],
   "source": [
    "if SELECT_SAMPLE_AUTOMATICALLY:\n",
    "\n",
    "    samples = ccal.select_series_low_and_high_index(\n",
    "        feature_x_sample_processed_normalized.std(),\n",
    "        title=\"{} Ranking by Raw Signal\".format(SAMPLE_ALIAS),\n",
    "        value_name=\"Raw Signal Standard Deviation\",\n",
    "    )[1]\n",
    "\n",
    "else:\n",
    "\n",
    "    samples = feature_x_sample_processed_normalized.columns\n",
    "\n",
    "print(\"Selected {} {}.\".format(samples.size, SAMPLE_ALIAS))"
   ]
  },
  {
   "cell_type": "code",
   "execution_count": null,
   "metadata": {},
   "outputs": [],
   "source": [
    "raw_signal = feature_x_sample_processed_normalized.loc[features, samples]\n",
    "\n",
    "ccal.summarize_feature_x_sample(\n",
    "    raw_signal,\n",
    "    feature_x_sample_alias=\"Raw Signal\",\n",
    "    feature_alias=FEATURE_ALIAS,\n",
    "    sample_alias=SAMPLE_ALIAS,\n",
    "    feature_x_sample_value_name=\"Signal\",\n",
    "    plot_heat_map_max_size=PLOT_HEAT_MAP_MAX_SIZE,\n",
    "    plot_distributions_max_size=PLOT_DISTRIBUTIONS_MAX_SIZE,\n",
    "    plot_rug_max_size=PLOT_RUG_MAX_SIZE,\n",
    ")"
   ]
  },
  {
   "cell_type": "code",
   "execution_count": null,
   "metadata": {},
   "outputs": [],
   "source": [
    "raw_signal.to_csv(PATH_DICT[\"feature_x_sample.raw_signal.tsv\"], sep=\"\\t\")"
   ]
  },
  {
   "cell_type": "code",
   "execution_count": null,
   "metadata": {},
   "outputs": [],
   "source": [
    "feature_context = pd.read_table(\n",
    "    PATH_DICT[\"feature_x_sample.feature_context.tsv\"], index_col=0\n",
    ")\n",
    "\n",
    "feature_context_negative = -feature_context.clip(upper=0)\n",
    "\n",
    "feature_context_positive = feature_context.clip(lower=0)"
   ]
  },
  {
   "cell_type": "code",
   "execution_count": null,
   "metadata": {},
   "outputs": [],
   "source": [
    "sample_context = pd.read_table(\n",
    "    PATH_DICT[\"feature_x_sample.sample_context.tsv\"], index_col=0\n",
    ").T\n",
    "\n",
    "sample_context_negative = -sample_context.clip(upper=0)\n",
    "\n",
    "sample_context_positive = sample_context.clip(lower=0)"
   ]
  },
  {
   "cell_type": "code",
   "execution_count": null,
   "metadata": {},
   "outputs": [],
   "source": [
    "if \"feature\" in ELEMENT_TYPES and \"sample\" in ELEMENT_TYPES:\n",
    "\n",
    "    normalization_axis = None\n",
    "\n",
    "    feature_context_negative = ccal.normalize_df(\n",
    "        feature_context_negative,\n",
    "        normalization_axis,\n",
    "        CONTEXT_SIGNAL_NORMALIZATION_METHOD,\n",
    "        raise_for_bad=False,\n",
    "    )\n",
    "\n",
    "    feature_context_positive = ccal.normalize_df(\n",
    "        feature_context_positive,\n",
    "        normalization_axis,\n",
    "        CONTEXT_SIGNAL_NORMALIZATION_METHOD,\n",
    "        raise_for_bad=False,\n",
    "    )\n",
    "\n",
    "    sample_context_negative = ccal.normalize_df(\n",
    "        sample_context_negative,\n",
    "        normalization_axis,\n",
    "        CONTEXT_SIGNAL_NORMALIZATION_METHOD,\n",
    "        raise_for_bad=False,\n",
    "    )\n",
    "\n",
    "    sample_context_positive = ccal.normalize_df(\n",
    "        sample_context_positive,\n",
    "        normalization_axis,\n",
    "        CONTEXT_SIGNAL_NORMALIZATION_METHOD,\n",
    "        raise_for_bad=False,\n",
    "    )\n",
    "\n",
    "    context_negative = feature_context_negative + sample_context_negative\n",
    "\n",
    "    context_positive = feature_context_positive + sample_context_positive\n",
    "\n",
    "elif \"feature\" in ELEMENT_TYPES:\n",
    "\n",
    "    context_negative = feature_context_negative\n",
    "\n",
    "    context_positive = feature_context_positive\n",
    "\n",
    "elif \"sample\" in ELEMENT_TYPES:\n",
    "\n",
    "    context_negative = sample_context_negative\n",
    "\n",
    "    context_positive = sample_context_positive"
   ]
  },
  {
   "cell_type": "code",
   "execution_count": null,
   "metadata": {},
   "outputs": [],
   "source": [
    "if SELECT_FEATURE_AUTOMATICALLY:\n",
    "\n",
    "    context_negative_features = ccal.select_series_low_and_high_index(\n",
    "        context_negative.sum(axis=1),\n",
    "        title=\"{} Ranking by Context Negative Signal\".format(FEATURE_ALIAS),\n",
    "        value_name=\"Negative Signal Sum\",\n",
    "    )[1]\n",
    "\n",
    "    context_positive_features = ccal.select_series_low_and_high_index(\n",
    "        context_positive.sum(axis=1),\n",
    "        title=\"{} Ranking by Context Positive Signal\".format(FEATURE_ALIAS),\n",
    "        value_name=\"Positive Signal Sum\",\n",
    "    )[1]\n",
    "\n",
    "else:\n",
    "\n",
    "    context_negative_features = (\n",
    "        context_negative.replace(0, np.nan).dropna(how=\"all\").index\n",
    "    )\n",
    "\n",
    "    context_positive_features = (\n",
    "        context_positive.replace(0, np.nan).dropna(how=\"all\").index\n",
    "    )\n",
    "\n",
    "print(\n",
    "    \"Selected {} context negative and {} context positive {}.\".format(\n",
    "        context_negative_features.size, context_positive_features.size, FEATURE_ALIAS\n",
    "    )\n",
    ")"
   ]
  },
  {
   "cell_type": "code",
   "execution_count": null,
   "metadata": {},
   "outputs": [],
   "source": [
    "if SELECT_SAMPLE_AUTOMATICALLY:\n",
    "\n",
    "    context_negative_samples = ccal.select_series_low_and_high_index(\n",
    "        context_negative.sum(),\n",
    "        title=\"{} Ranking by Context Negative Signal\".format(SAMPLE_ALIAS),\n",
    "        value_name=\"Negative Signal Sum\",\n",
    "    )[1]\n",
    "\n",
    "    context_positive_samples = ccal.select_series_low_and_high_index(\n",
    "        context_positive.sum(),\n",
    "        title=\"{} Ranking by Context Positive Signal\".format(SAMPLE_ALIAS),\n",
    "        value_name=\"Positive Signal Sum\",\n",
    "    )[1]\n",
    "\n",
    "else:\n",
    "\n",
    "    context_negative_samples = (\n",
    "        context_negative.replace(0, np.nan).dropna(how=\"all\", axis=1).columns\n",
    "    )\n",
    "\n",
    "    context_positive_samples = (\n",
    "        context_positive.replace(0, np.nan).dropna(how=\"all\", axis=1).columns\n",
    "    )\n",
    "\n",
    "print(\n",
    "    \"Selected {} context negative and {} context positive {}.\".format(\n",
    "        context_negative_samples.size, context_positive_samples.size, SAMPLE_ALIAS\n",
    "    )\n",
    ")"
   ]
  },
  {
   "cell_type": "code",
   "execution_count": null,
   "metadata": {},
   "outputs": [],
   "source": [
    "context_negative_signal = context_negative.loc[\n",
    "    context_negative_features, context_negative_samples\n",
    "]\n",
    "\n",
    "context_positive_signal = context_positive.loc[\n",
    "    context_positive_features, context_positive_samples\n",
    "]"
   ]
  },
  {
   "cell_type": "code",
   "execution_count": null,
   "metadata": {},
   "outputs": [],
   "source": [
    "if \"negative\" in CONTEXTS and \"positive\" in CONTEXTS:\n",
    "\n",
    "    context_negative_signal.index = (\n",
    "        \"(-) {}\".format(feature_name) for feature_name in context_negative_signal.index\n",
    "    )\n",
    "\n",
    "    context_positive_signal.index = (\n",
    "        \"(+) {}\".format(feature_name) for feature_name in context_positive_signal.index\n",
    "    )\n",
    "\n",
    "    context_signal = pd.concat((context_negative_signal, context_positive_signal))\n",
    "\n",
    "elif \"negative\" in CONTEXTS:\n",
    "\n",
    "    context_signal = context_negative_signal\n",
    "\n",
    "elif \"positive\" in CONTEXTS:\n",
    "\n",
    "    context_signal = context_positive_signal\n",
    "\n",
    "ccal.summarize_feature_x_sample(\n",
    "    context_signal,\n",
    "    feature_x_sample_alias=\"Context Signal\",\n",
    "    feature_alias=FEATURE_ALIAS,\n",
    "    sample_alias=SAMPLE_ALIAS,\n",
    "    feature_x_sample_value_name=\"Signal\",\n",
    "    plot_heat_map_max_size=PLOT_HEAT_MAP_MAX_SIZE,\n",
    "    plot_distributions_max_size=PLOT_DISTRIBUTIONS_MAX_SIZE,\n",
    "    plot_rug_max_size=PLOT_RUG_MAX_SIZE,\n",
    ")"
   ]
  },
  {
   "cell_type": "code",
   "execution_count": null,
   "metadata": {},
   "outputs": [],
   "source": [
    "if CONTEXT_SIGNAL_NORMALIZATION_METHOD is not None:\n",
    "\n",
    "    context_signal = ccal.normalize_df(\n",
    "        context_signal,\n",
    "        CONTEXT_SIGNAL_NORMALIZATION_AXIS,\n",
    "        CONTEXT_SIGNAL_NORMALIZATION_METHOD,\n",
    "        raise_for_bad=False,\n",
    "    )\n",
    "\n",
    "    ccal.summarize_feature_x_sample(\n",
    "        context_signal,\n",
    "        feature_x_sample_alias=\"Context Signal\",\n",
    "        feature_alias=FEATURE_ALIAS,\n",
    "        sample_alias=SAMPLE_ALIAS,\n",
    "        feature_x_sample_value_name=\"Signal\",\n",
    "        plot_heat_map_max_size=PLOT_HEAT_MAP_MAX_SIZE,\n",
    "        plot_distributions_max_size=PLOT_DISTRIBUTIONS_MAX_SIZE,\n",
    "        plot_rug_max_size=PLOT_RUG_MAX_SIZE,\n",
    "    )"
   ]
  },
  {
   "cell_type": "code",
   "execution_count": null,
   "metadata": {},
   "outputs": [],
   "source": [
    "context_signal.to_csv(PATH_DICT[\"feature_x_sample.context_signal.tsv\"], sep=\"\\t\")"
   ]
  }
 ],
 "metadata": {
  "kernelspec": {
   "display_name": "Python 3",
   "language": "python",
   "name": "python3"
  },
  "language_info": {
   "codemirror_mode": {
    "name": "ipython",
    "version": 3
   },
   "file_extension": ".py",
   "mimetype": "text/x-python",
   "name": "python",
   "nbconvert_exporter": "python",
   "pygments_lexer": "ipython3",
   "version": "3.6.7"
  }
 },
 "nbformat": 4,
 "nbformat_minor": 2
}
