{
 "cells": [
  {
   "cell_type": "code",
   "execution_count": null,
   "metadata": {
    "ExecuteTime": {
     "end_time": "2018-07-06T18:37:36.653167Z",
     "start_time": "2018-07-06T18:37:36.642199Z"
    }
   },
   "outputs": [],
   "source": [
    "%load_ext autoreload\n",
    "%autoreload 2"
   ]
  },
  {
   "cell_type": "code",
   "execution_count": null,
   "metadata": {
    "ExecuteTime": {
     "end_time": "2018-07-06T18:37:38.413000Z",
     "start_time": "2018-07-06T18:37:36.654831Z"
    }
   },
   "outputs": [],
   "source": [
    "from environment import *\n",
    "\n",
    "with open(\"setting.yaml\") as yaml_file:\n",
    "\n",
    "    setting = yaml.load(yaml_file)\n",
    "\n",
    "path = make_path_dict(setting)"
   ]
  },
  {
   "cell_type": "code",
   "execution_count": null,
   "metadata": {
    "ExecuteTime": {
     "end_time": "2018-07-06T18:37:38.787551Z",
     "start_time": "2018-07-06T18:37:38.416018Z"
    }
   },
   "outputs": [],
   "source": [
    "signal = pd.read_table(path[\"feature_x_sample.context_signal.tsv\"], index_col=0).fillna(\n",
    "    0\n",
    ")"
   ]
  },
  {
   "cell_type": "code",
   "execution_count": null,
   "metadata": {
    "ExecuteTime": {
     "end_time": "2018-07-06T18:38:44.148873Z",
     "start_time": "2018-07-06T18:37:38.790145Z"
    }
   },
   "outputs": [],
   "source": [
    "k_nmfcc = ccal.nmf_consensus_cluster_with_multiple_k(\n",
    "    signal,\n",
    "    setting[\"nmf_ks\"],\n",
    "    n_job=setting[\"max_n_job\"],\n",
    "    n_clustering=setting[\"nmf_n_clustering\"],\n",
    "    plot_df=signal.size < setting[\"plot_heat_map_max_size\"],\n",
    "    plot_w=signal.shape[0] < setting[\"plot_cluster_max_size\"],\n",
    "    plot_h=signal.shape[1] < setting[\"plot_cluster_max_size\"],\n",
    "    directory_path=path[\"nmf/\"],\n",
    ")"
   ]
  },
  {
   "cell_type": "code",
   "execution_count": null,
   "metadata": {
    "ExecuteTime": {
     "end_time": "2018-07-06T18:41:44.586657Z",
     "start_time": "2018-07-06T18:38:44.151540Z"
    }
   },
   "outputs": [],
   "source": [
    "for k in setting[\"nmf_ks\"]:\n",
    "\n",
    "    nmf_k_directory_path = \"{}/{}/\".format(path[\"nmf/\"], k)\n",
    "\n",
    "    w = pd.read_table(\"{}/w.tsv\".format(nmf_k_directory_path), index_col=0)\n",
    "\n",
    "    h = pd.read_table(\"{}/h.tsv\".format(nmf_k_directory_path), index_col=0)\n",
    "\n",
    "    w.columns.name = \"Factor\"\n",
    "\n",
    "    h.columns.name = setting[\"sample_alias\"]\n",
    "\n",
    "    for w_or_h in (\"w\", \"h\"):\n",
    "\n",
    "        if w_or_h == \"w\":\n",
    "\n",
    "            df = w.T\n",
    "\n",
    "        elif w_or_h == \"h\":\n",
    "\n",
    "            df = h\n",
    "\n",
    "        ccal.make_comparison_panel(\n",
    "            df,\n",
    "            df,\n",
    "            axis=1,\n",
    "            title=\"NMF K={} {}\".format(k, w_or_h.title()),\n",
    "            name_0=df.index.name,\n",
    "            name_1=df.index.name,\n",
    "        )"
   ]
  }
 ],
 "metadata": {
  "kernelspec": {
   "display_name": "Python 3",
   "language": "python",
   "name": "python3"
  },
  "language_info": {
   "codemirror_mode": {
    "name": "ipython",
    "version": 3
   },
   "file_extension": ".py",
   "mimetype": "text/x-python",
   "name": "python",
   "nbconvert_exporter": "python",
   "pygments_lexer": "ipython3",
   "version": "3.6.7"
  }
 },
 "nbformat": 4,
 "nbformat_minor": 2
}
