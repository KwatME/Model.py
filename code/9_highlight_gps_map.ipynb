{
 "cells": [
  {
   "cell_type": "code",
   "execution_count": null,
   "metadata": {},
   "outputs": [],
   "source": [
    "%load_ext autoreload\n",
    "\n",
    "%autoreload 2"
   ]
  },
  {
   "cell_type": "code",
   "execution_count": null,
   "metadata": {},
   "outputs": [],
   "source": [
    "from environment import *\n",
    "\n",
    "import setting\n",
    "\n",
    "path_dict = path(setting)"
   ]
  },
  {
   "cell_type": "code",
   "execution_count": null,
   "metadata": {},
   "outputs": [],
   "source": [
    "gps_map = ccal.load_gps_map(path_dict['gps_map_file_path'])"
   ]
  },
  {
   "cell_type": "code",
   "execution_count": null,
   "metadata": {},
   "outputs": [],
   "source": [
    "feature_dicts = make_feature_dicts(load_ccle=True)"
   ]
  },
  {
   "cell_type": "code",
   "execution_count": null,
   "metadata": {},
   "outputs": [],
   "source": [
    "with open('../data/highlight.json') as json_file:\n",
    "    \n",
    "    highlight = json.load(json_file)"
   ]
  },
  {
   "cell_type": "code",
   "execution_count": null,
   "metadata": {},
   "outputs": [],
   "source": [
    "for feature_group, features in highlight.items():\n",
    "    \n",
    "    if feature_group in feature_dicts:\n",
    "    \n",
    "        df = feature_dicts[feature_group]['df']\n",
    "\n",
    "        annotation_type = feature_dicts[feature_group]['data_type']\n",
    "\n",
    "        for feature in features:\n",
    "            \n",
    "            if feature in df.index:\n",
    "\n",
    "                gps_map.plot_gps_map(\n",
    "                    'h',\n",
    "                    annotation_x_element=df.loc[feature].to_frame().T,\n",
    "                    annotation_std_maxs=(3, ),\n",
    "                    annotation_types=(annotation_type, ),\n",
    "                    title='({}) {}'.format(\n",
    "                        feature_group,\n",
    "                        feature,\n",
    "                    ),\n",
    "                    element_marker_size=setting.GPS_MAP_H_ELEMENT_MARKER_SIZE,\n",
    "                    html_file_path='{}/{} {}'.format(\n",
    "                        path_dict['h_map_directory_path'],\n",
    "                        feature_group,\n",
    "                        feature,\n",
    "                    ),\n",
    "#                     plotly_file_path='{}/{} {}'.format(\n",
    "#                         path_dict['h_state_maps_plotly_directory_path'],\n",
    "#                         feature_group,\n",
    "#                         feature,\n",
    "#                     ),\n",
    "                )"
   ]
  }
 ],
 "metadata": {
  "kernelspec": {
   "display_name": "Python 3",
   "language": "python",
   "name": "python3"
  },
  "language_info": {
   "codemirror_mode": {
    "name": "ipython",
    "version": 3
   },
   "file_extension": ".py",
   "mimetype": "text/x-python",
   "name": "python",
   "nbconvert_exporter": "python",
   "pygments_lexer": "ipython3",
   "version": "3.6.6"
  }
 },
 "nbformat": 4,
 "nbformat_minor": 2
}
