{
 "cells": [
  {
   "cell_type": "code",
   "execution_count": null,
   "metadata": {},
   "outputs": [],
   "source": [
    "%load_ext autoreload\n",
    "\n",
    "%autoreload 2"
   ]
  },
  {
   "cell_type": "code",
   "execution_count": null,
   "metadata": {},
   "outputs": [],
   "source": [
    "from environment import *\n",
    "\n",
    "from setting import *"
   ]
  },
  {
   "cell_type": "code",
   "execution_count": null,
   "metadata": {},
   "outputs": [],
   "source": [
    "path_dict = path(\n",
    "    NAME,\n",
    "    ELEMENTS,\n",
    "    NMF_K,\n",
    "    WT_HCC_K,\n",
    "    H_HCC_K,\n",
    "    UPLOAD_TO_PLOTLY,\n",
    ")"
   ]
  },
  {
   "cell_type": "code",
   "execution_count": null,
   "metadata": {},
   "outputs": [],
   "source": [
    "gps_map = ccal.load_gps_map(path_dict['gps_map_file_path'])"
   ]
  },
  {
   "cell_type": "code",
   "execution_count": null,
   "metadata": {},
   "outputs": [],
   "source": [
    "feature_dicts = make_feature_dicts()"
   ]
  },
  {
   "cell_type": "code",
   "execution_count": null,
   "metadata": {},
   "outputs": [],
   "source": [
    "with open('../code/highlight.json') as json_file:\n",
    "    \n",
    "    highlight = json.load(json_file)\n",
    "    \n",
    "highlight"
   ]
  },
  {
   "cell_type": "code",
   "execution_count": null,
   "metadata": {},
   "outputs": [],
   "source": [
    "for wt_or_h, element_feature_dicts, element_highlight, element_marker_size in (\n",
    "    (\n",
    "        'h',\n",
    "        feature_dicts['Sample'],\n",
    "        highlight['Sample'],\n",
    "        GPS_MAP_H_ELEMENT_MARKER_SIZE,\n",
    "    ),\n",
    "):\n",
    "    \n",
    "    for feature_group, features in element_highlight.items():\n",
    "        \n",
    "        if feature_group in element_feature_dicts:\n",
    "            \n",
    "            df = element_feature_dicts[feature_group]['df']\n",
    "            \n",
    "            annotation_type = element_feature_dicts[feature_group]['data_type']\n",
    "            \n",
    "            for feature in features:\n",
    "                \n",
    "                if feature in df.index:\n",
    "                    \n",
    "                    maps_plotly_directory_path = path_dict['{}_map_plotly_directory_path'.format(wt_or_h)]\n",
    "                    \n",
    "                    if maps_plotly_directory_path is None:\n",
    "                        \n",
    "                        plotly_file_path = None\n",
    "                        \n",
    "                    else:\n",
    "                        \n",
    "                        plotly_file_path = '{}/{} {}'.format(\n",
    "                            maps_plotly_directory_path,\n",
    "                            feature_group,\n",
    "                            feature,\n",
    "                        )\n",
    "                        \n",
    "                    element_values = df.loc[feature]\n",
    "                    \n",
    "                    title = '({}) {}'.format(\n",
    "                        feature_group,\n",
    "                        feature,\n",
    "                    )\n",
    "                    \n",
    "                    gps_map.plot_gps_map(\n",
    "                        wt_or_h,\n",
    "                        annotation_x_element=element_values.to_frame().T,\n",
    "                        annotation_std_maxs=None,\n",
    "                        annotation_types=(annotation_type, ),\n",
    "                        title=title,\n",
    "                        element_marker_size=element_marker_size,\n",
    "                        html_file_path='{}/{} {}'.format(\n",
    "                            path_dict['{}_map_directory_path'.format(wt_or_h)],\n",
    "                            feature_group,\n",
    "                            feature,\n",
    "                        ),\n",
    "                        plotly_file_path=plotly_file_path,\n",
    "                    )\n",
    "                    \n",
    "                    if gps_map.h_element_states is not None:\n",
    "                        \n",
    "                        ccal.plot_violin_or_box(\n",
    "                            list(values for group, values in element_values.groupby(by=gps_map.h_element_states)),\n",
    "                            names=tuple('State {}'.format(i) for i in sorted(set(gps_map.h_element_states))),\n",
    "                            violin_or_box='box',\n",
    "                            title=title,\n",
    "                        )"
   ]
  }
 ],
 "metadata": {
  "kernelspec": {
   "display_name": "Python 3",
   "language": "python",
   "name": "python3"
  },
  "language_info": {
   "codemirror_mode": {
    "name": "ipython",
    "version": 3
   },
   "file_extension": ".py",
   "mimetype": "text/x-python",
   "name": "python",
   "nbconvert_exporter": "python",
   "pygments_lexer": "ipython3",
   "version": "3.6.6"
  }
 },
 "nbformat": 4,
 "nbformat_minor": 2
}
