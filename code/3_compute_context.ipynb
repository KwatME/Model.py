{
 "cells": [
  {
   "cell_type": "code",
   "execution_count": null,
   "metadata": {
    "ExecuteTime": {
     "end_time": "2018-06-16T05:46:38.115121Z",
     "start_time": "2018-06-16T05:46:38.097310Z"
    }
   },
   "outputs": [],
   "source": [
    "%load_ext autoreload\n",
    "%autoreload 2"
   ]
  },
  {
   "cell_type": "code",
   "execution_count": null,
   "metadata": {
    "ExecuteTime": {
     "end_time": "2018-06-16T05:46:40.371563Z",
     "start_time": "2018-06-16T05:46:38.634540Z"
    }
   },
   "outputs": [],
   "source": [
    "from environment import *\n",
    "\n",
    "import analysis as a\n",
    "\n",
    "p = make_paths(a)"
   ]
  },
  {
   "cell_type": "code",
   "execution_count": null,
   "metadata": {
    "ExecuteTime": {
     "end_time": "2018-06-16T05:46:41.763335Z",
     "start_time": "2018-06-16T05:46:40.373420Z"
    },
    "scrolled": false
   },
   "outputs": [],
   "source": [
    "feature_x_sample = pd.read_table(p['feature_x_sample_file_path'], index_col=0)"
   ]
  },
  {
   "cell_type": "code",
   "execution_count": null,
   "metadata": {
    "ExecuteTime": {
     "end_time": "2018-06-16T05:47:09.165181Z",
     "start_time": "2018-06-16T05:47:01.195972Z"
    },
    "scrolled": false
   },
   "outputs": [],
   "source": [
    "for element in ('feature', 'sample'):\n",
    "\n",
    "    if element == 'feature':\n",
    "\n",
    "        df = feature_x_sample\n",
    "\n",
    "    elif element == 'sample':\n",
    "\n",
    "        df = feature_x_sample.T\n",
    "\n",
    "    skew_t_pdf_fit_parameter_file_path = p[\n",
    "        '{}_skew_t_pdf_fit_parameter_file_path'.format(element)]\n",
    "\n",
    "    if os.path.isfile(skew_t_pdf_fit_parameter_file_path):\n",
    "\n",
    "        skew_t_pdf_fit_parameter = pd.read_table(\n",
    "            skew_t_pdf_fit_parameter_file_path, index_col=0)\n",
    "\n",
    "    else:\n",
    "\n",
    "        skew_t_pdf_fit_parameter = ccal.fit_skew_t_pdfs(\n",
    "            df,\n",
    "            n_job=1,\n",
    "            directory_path=p['{}_directory_path'.format(element)])\n",
    "\n",
    "    skew_t_pdf_fit_parameter[\n",
    "        'Good'] = skew_t_pdf_fit_parameter['Shape'].abs() < 24\n",
    "\n",
    "    skew_t_pdf_fit_parameter.to_csv(\n",
    "        skew_t_pdf_fit_parameter_file_path, sep='\\t')\n",
    "\n",
    "    print('N bad fit: {}'.format((~skew_t_pdf_fit_parameter['Good']).sum()))\n",
    "\n",
    "    for element in skew_t_pdf_fit_parameter.index[\n",
    "            ~skew_t_pdf_fit_parameter['Good']]:\n",
    "\n",
    "        series = df.loc[element]\n",
    "\n",
    "        location, scale, degree_of_freedom, shape = skew_t_pdf_fit_parameter.loc[\n",
    "            element, ['Location', 'Scale', 'Degree of Freedom', 'Shape']]\n",
    "\n",
    "        ccal.plot_context(\n",
    "            series,\n",
    "            location=location,\n",
    "            scale=scale,\n",
    "            degree_of_freedom=degree_of_freedom,\n",
    "            shape=shape,\n",
    "            plot_rug=series.size < 1e3,\n",
    "            title='(Bad Fit) {}'.format(element))\n",
    "\n",
    "    skew_t_pdf_fit_parameter_ = skew_t_pdf_fit_parameter.loc[\n",
    "        skew_t_pdf_fit_parameter['Good']]\n",
    "\n",
    "    skew_t_pdf_fit_parameter_['log(Degree of Freedom)'] = np.log(\n",
    "        skew_t_pdf_fit_parameter_['Degree of Freedom'])\n",
    "\n",
    "    skew_t_pdf_fit_parameter_.drop(\n",
    "        ['N', 'Degree of Freedom', 'Good'], axis=1, inplace=True)\n",
    "\n",
    "    if skew_t_pdf_fit_parameter_.shape[0] < 1e3:\n",
    "\n",
    "        for (x_name, x), (y_name, y) in itertools.combinations(\n",
    "                skew_t_pdf_fit_parameter_.items(), 2):\n",
    "\n",
    "            x = x.sort_values()\n",
    "\n",
    "            y = y[x.index]\n",
    "\n",
    "            title = '({}) {} vs {}'.format(element, x_name, y_name)\n",
    "\n",
    "            ccal.plot_points(\n",
    "                (title, ), (x, ), (y, ),\n",
    "                texts=(x.index, ),\n",
    "                title=title,\n",
    "                xaxis_title=x_name,\n",
    "                yaxis_title=y_name)\n",
    "\n",
    "    for column, series in skew_t_pdf_fit_parameter_.items():\n",
    "\n",
    "        ccal.plot_distributions(\n",
    "            (column, ), (series, ),\n",
    "            plot_rug=False,\n",
    "            title='({}) {}'.format(element, column))\n",
    "\n",
    "        series_sorted = series.sort_values()\n",
    "\n",
    "        index_min = series_sorted.index[0]\n",
    "\n",
    "        index_max = series_sorted.index[-1]\n",
    "\n",
    "        ccal.plot_distributions(\n",
    "            (index_min, index_max),\n",
    "            (df.loc[index_min].dropna(), df.loc[index_max].dropna()),\n",
    "            plot_rug=False,\n",
    "            title='({}) Extreme {}'.format(element, column),\n",
    "            xaxis_title='Value')\n",
    "\n",
    "        n_extreme = 3\n",
    "\n",
    "        for i in list(range(n_extreme)) + list(range(-n_extreme, 0)):\n",
    "\n",
    "            index = series_sorted.index[i]\n",
    "\n",
    "            series = df.loc[index]\n",
    "\n",
    "            location, scale, degree_of_freedom, shape = skew_t_pdf_fit_parameter.loc[\n",
    "                index, ['Location', 'Scale', 'Degree of Freedom', 'Shape']]\n",
    "\n",
    "            ccal.plot_context(\n",
    "                series,\n",
    "                location=location,\n",
    "                scale=scale,\n",
    "                degree_of_freedom=degree_of_freedom,\n",
    "                shape=shape,\n",
    "                plot_rug=series.size < 1e3,\n",
    "                title='({}) {} Rank {} [{}]'.format(element, column, i, index))"
   ]
  }
 ],
 "metadata": {
  "kernelspec": {
   "display_name": "Python [default]",
   "language": "python",
   "name": "python3"
  },
  "language_info": {
   "codemirror_mode": {
    "name": "ipython",
    "version": 3
   },
   "file_extension": ".py",
   "mimetype": "text/x-python",
   "name": "python",
   "nbconvert_exporter": "python",
   "pygments_lexer": "ipython3",
   "version": "3.6.5"
  }
 },
 "nbformat": 4,
 "nbformat_minor": 1
}
