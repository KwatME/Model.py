{
 "cells": [
  {
   "cell_type": "code",
   "execution_count": null,
   "metadata": {
    "ExecuteTime": {
     "end_time": "2018-07-06T09:53:06.646469Z",
     "start_time": "2018-07-06T09:53:06.633169Z"
    }
   },
   "outputs": [],
   "source": [
    "%load_ext autoreload\n",
    "\n",
    "%autoreload 2"
   ]
  },
  {
   "cell_type": "code",
   "execution_count": null,
   "metadata": {
    "ExecuteTime": {
     "end_time": "2018-07-06T20:13:16.628911Z",
     "start_time": "2018-07-06T20:13:14.935143Z"
    }
   },
   "outputs": [],
   "source": [
    "from environment import *\n",
    "\n",
    "import setting\n",
    "\n",
    "path_dict = path(setting)"
   ]
  },
  {
   "cell_type": "code",
   "execution_count": null,
   "metadata": {
    "ExecuteTime": {
     "end_time": "2018-07-06T09:53:09.916306Z",
     "start_time": "2018-07-06T09:53:08.350235Z"
    }
   },
   "outputs": [],
   "source": [
    "feature_x_sample = pd.read_table(\n",
    "    path_dict['feature_x_sample_file_path'],\n",
    "    index_col=0,\n",
    ")"
   ]
  },
  {
   "cell_type": "code",
   "execution_count": null,
   "metadata": {
    "ExecuteTime": {
     "end_time": "2018-07-06T10:01:47.552850Z",
     "start_time": "2018-07-06T09:53:09.919618Z"
    }
   },
   "outputs": [],
   "source": [
    "for element in (\n",
    "    'feature',\n",
    "    'sample',\n",
    "):\n",
    "\n",
    "    if element == 'feature':\n",
    "\n",
    "        df = feature_x_sample\n",
    "\n",
    "    elif element == 'sample':\n",
    "\n",
    "        df = feature_x_sample.T\n",
    "\n",
    "    skew_t_pdf_fit_parameter = ccal.fit_skew_t_pdfs(\n",
    "        df,\n",
    "        n_job=setting.MAX_N_JOB,\n",
    "        directory_path=path_dict['{}_directory_path'.format(element)],\n",
    "    )\n",
    "\n",
    "    skew_t_pdf_fit_parameter = pd.read_table(\n",
    "        path_dict['{}_skew_t_pdf_fit_parameter_file_path'.format(element)],\n",
    "        index_col=0,\n",
    "    )\n",
    "\n",
    "    skew_t_pdf_fit_parameter['log(Degree of Freedom)'] = ccal.log_nd_array(skew_t_pdf_fit_parameter['Degree of Freedom'])\n",
    "\n",
    "    skew_t_pdf_fit_parameter_ = skew_t_pdf_fit_parameter.drop(\n",
    "        [\n",
    "            'N',\n",
    "            'Degree of Freedom',\n",
    "        ],\n",
    "        axis=1,\n",
    "    )\n",
    "\n",
    "    if skew_t_pdf_fit_parameter_.shape[0] < 1e3:\n",
    "\n",
    "        for x_name_x, y_name_y in itertools.combinations(\n",
    "            skew_t_pdf_fit_parameter_.items(),\n",
    "            2,\n",
    "        ):\n",
    "            \n",
    "            x_name, x = x_name_x\n",
    "            \n",
    "            y_name, y = y_name_y\n",
    "\n",
    "            x = x.sort_values()\n",
    "\n",
    "            y = y[x.index]\n",
    "\n",
    "            title = '({}) {} vs {}'.format(\n",
    "                element,\n",
    "                x_name,\n",
    "                y_name,\n",
    "            )\n",
    "\n",
    "            ccal.plot_points(\n",
    "                (title, ),\n",
    "                (x, ),\n",
    "                (y, ),\n",
    "                texts=(x.index, ),\n",
    "                title=title,\n",
    "                xaxis_title=x_name,\n",
    "                yaxis_title=y_name,\n",
    "            )\n",
    "\n",
    "    for column, series in skew_t_pdf_fit_parameter_.items():\n",
    "\n",
    "        ccal.plot_distributions(\n",
    "            (column, ),\n",
    "            (series, ),\n",
    "            plot_rug=False,\n",
    "            title='({}) {}'.format(\n",
    "                element,\n",
    "                column,\n",
    "            ),\n",
    "        )\n",
    "\n",
    "        series_sorted = series.sort_values()\n",
    "\n",
    "        index_min = series_sorted.index[0]\n",
    "\n",
    "        index_max = series_sorted.index[-1]\n",
    "\n",
    "        ccal.plot_distributions(\n",
    "            (\n",
    "                index_min,\n",
    "                index_max,\n",
    "            ),\n",
    "            (\n",
    "                df.loc[index_min].dropna(),\n",
    "                df.loc[index_max].dropna(),\n",
    "            ),\n",
    "            plot_rug=False,\n",
    "            title='({}) Extreme {}'.format(\n",
    "                element,\n",
    "                column,\n",
    "            ),\n",
    "            xaxis_title='Value',\n",
    "        )\n",
    "\n",
    "        n_extreme = 3\n",
    "\n",
    "        for i in list(range(n_extreme)) + list(range(\n",
    "            -n_extreme,\n",
    "            0,\n",
    "        )):\n",
    "\n",
    "            index = series_sorted.index[i]\n",
    "\n",
    "            series = df.loc[index]\n",
    "\n",
    "            location, scale, degree_of_freedom, shape = skew_t_pdf_fit_parameter.loc[\n",
    "                index, [\n",
    "                    'Location',\n",
    "                    'Scale',\n",
    "                    'Degree of Freedom',\n",
    "                    'Shape',\n",
    "                ]]\n",
    "\n",
    "            ccal.plot_context(\n",
    "                series,\n",
    "                location=location,\n",
    "                scale=scale,\n",
    "                degree_of_freedom=degree_of_freedom,\n",
    "                shape=shape,\n",
    "                plot_rug=series.dropna().size < 1e3,\n",
    "                title='({}) {} Rank {} [{}]'.format(\n",
    "                    element,\n",
    "                    column,\n",
    "                    i,\n",
    "                    index,\n",
    "                ),\n",
    "            )"
   ]
  }
 ],
 "metadata": {
  "kernelspec": {
   "display_name": "Python 3",
   "language": "python",
   "name": "python3"
  },
  "language_info": {
   "codemirror_mode": {
    "name": "ipython",
    "version": 3
   },
   "file_extension": ".py",
   "mimetype": "text/x-python",
   "name": "python",
   "nbconvert_exporter": "python",
   "pygments_lexer": "ipython3",
   "version": "3.5.5"
  }
 },
 "nbformat": 4,
 "nbformat_minor": 2
}
