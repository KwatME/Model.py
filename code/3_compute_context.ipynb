{
 "cells": [
  {
   "cell_type": "code",
   "execution_count": null,
   "metadata": {
    "ExecuteTime": {
     "end_time": "2018-07-06T10:05:23.970019Z",
     "start_time": "2018-07-06T10:05:23.955799Z"
    }
   },
   "outputs": [],
   "source": [
    "%load_ext autoreload\n",
    "\n",
    "%autoreload 2"
   ]
  },
  {
   "cell_type": "code",
   "execution_count": null,
   "metadata": {
    "ExecuteTime": {
     "end_time": "2018-07-06T20:13:16.628911Z",
     "start_time": "2018-07-06T20:13:14.935143Z"
    }
   },
   "outputs": [],
   "source": [
    "from environment import *\n",
    "\n",
    "from setting import *"
   ]
  },
  {
   "cell_type": "code",
   "execution_count": null,
   "metadata": {
    "ExecuteTime": {
     "end_time": "2018-07-06T20:13:16.628911Z",
     "start_time": "2018-07-06T20:13:14.935143Z"
    }
   },
   "outputs": [],
   "source": [
    "path_dict = path(\n",
    "    NAME,\n",
    "    ELEMENTS,\n",
    "    NMF_K,\n",
    "    WT_HCC_K,\n",
    "    H_HCC_K,\n",
    "    UPLOAD_TO_PLOTLY,\n",
    ")"
   ]
  },
  {
   "cell_type": "code",
   "execution_count": null,
   "metadata": {
    "ExecuteTime": {
     "end_time": "2018-07-06T10:05:27.241422Z",
     "start_time": "2018-07-06T10:05:25.673877Z"
    }
   },
   "outputs": [],
   "source": [
    "feature_x_sample = pd.read_table(\n",
    "    path_dict['feature_x_sample_file_path'],\n",
    "    index_col=0,\n",
    ")"
   ]
  },
  {
   "cell_type": "code",
   "execution_count": null,
   "metadata": {
    "ExecuteTime": {
     "end_time": "2018-07-06T10:05:56.142744Z",
     "start_time": "2018-07-06T10:05:27.244038Z"
    }
   },
   "outputs": [],
   "source": [
    "for element in ELEMENTS:\n",
    "    \n",
    "    if element == 'feature':\n",
    "        \n",
    "        df = feature_x_sample\n",
    "        \n",
    "        to_peek = FEATURES_TO_PEEK\n",
    "        \n",
    "    elif element == 'sample':\n",
    "        \n",
    "        df = feature_x_sample.T\n",
    "        \n",
    "        to_peek = SAMPLES_TO_PEEK\n",
    "        \n",
    "    skew_t_pdf_fit_parameter = pd.read_table(\n",
    "        path_dict['{}_skew_t_pdf_fit_parameter_file_path'.format(element)],\n",
    "        index_col=0,\n",
    "    )\n",
    "    \n",
    "    context_matrix = ccal.make_context_matrix(\n",
    "        df,\n",
    "        n_job=MAX_N_JOB,\n",
    "        skew_t_pdf_fit_parameter=skew_t_pdf_fit_parameter,\n",
    "        directory_path=path_dict['{}_directory_path'.format(element)], \n",
    "    )\n",
    "    \n",
    "    if context_matrix.size < 1e6:\n",
    "        \n",
    "        ccal.plot_heat_map(\n",
    "            context_matrix,\n",
    "            title='({}) Context'.format(element),\n",
    "        )\n",
    "        \n",
    "    for select_context in (\n",
    "        'negative',\n",
    "        'positive',\n",
    "    ):\n",
    "        \n",
    "        if select_context == 'negative':\n",
    "            \n",
    "            element_context = context_matrix.clip(upper=0).sum(axis=1)\n",
    "            \n",
    "        elif select_context == 'positive':\n",
    "            \n",
    "            element_context = context_matrix.clip(lower=0).sum(axis=1)\n",
    "            \n",
    "        element_context.sort_values(inplace=True)\n",
    "        \n",
    "        if to_peek is None:\n",
    "            \n",
    "            ranks = []\n",
    "            \n",
    "        else:\n",
    "            \n",
    "            ranks = np.nonzero([any(peek == index for peek in to_peek) for index in element_context.index])[0]\n",
    "            \n",
    "        title = '({}) {} Context Summary'.format(\n",
    "            element,\n",
    "            select_context,\n",
    "        )\n",
    "        \n",
    "        ccal.plot_points(\n",
    "            (\n",
    "                tuple(range(element_context.size)),\n",
    "                ranks,\n",
    "            ),\n",
    "            (\n",
    "                element_context,\n",
    "                element_context[ranks],\n",
    "            ),\n",
    "            names=(\n",
    "                'All',\n",
    "                'To Peek',\n",
    "            ),\n",
    "            texts=(\n",
    "                element_context.index,\n",
    "                element_context.index[ranks],\n",
    "            ),\n",
    "            modes=(\n",
    "                'markers',\n",
    "                'markers+text',\n",
    "            ),\n",
    "            title=title,\n",
    "            xaxis_title='Rank',\n",
    "            yaxis_title=title,\n",
    "        )\n",
    "        \n",
    "        n_extreme = 3\n",
    "        \n",
    "        if select_context == 'negative':\n",
    "            \n",
    "            ranks = range(n_extreme)\n",
    "            \n",
    "        else:\n",
    "            \n",
    "            ranks = range(\n",
    "                -n_extreme,\n",
    "                0,\n",
    "            )\n",
    "            \n",
    "        for rank in ranks:\n",
    "            \n",
    "            index = element_context.index[rank]\n",
    "            \n",
    "            series = df.loc[index]\n",
    "            \n",
    "            n_data, location, scale, degree_of_freedom, shape = skew_t_pdf_fit_parameter.loc[index, [\n",
    "                'N Data',\n",
    "                'Location',\n",
    "                'Scale',\n",
    "                'Degree of Freedom',\n",
    "                'Shape',\n",
    "            ]]\n",
    "            \n",
    "            ccal.plot_context(\n",
    "                series,\n",
    "                n_data=n_data,\n",
    "                location=location,\n",
    "                scale=scale,\n",
    "                degree_of_freedom=degree_of_freedom,\n",
    "                shape=shape,\n",
    "                plot_rug=series.dropna().size < 1e3,\n",
    "                title='({}) Context Summary Rank {} [{}]'.format(\n",
    "                    element,\n",
    "                    rank,\n",
    "                    index,\n",
    "                ),\n",
    "            )"
   ]
  }
 ],
 "metadata": {
  "kernelspec": {
   "display_name": "Python 3",
   "language": "python",
   "name": "python3"
  },
  "language_info": {
   "codemirror_mode": {
    "name": "ipython",
    "version": 3
   },
   "file_extension": ".py",
   "mimetype": "text/x-python",
   "name": "python",
   "nbconvert_exporter": "python",
   "pygments_lexer": "ipython3",
   "version": "3.6.6"
  }
 },
 "nbformat": 4,
 "nbformat_minor": 2
}
