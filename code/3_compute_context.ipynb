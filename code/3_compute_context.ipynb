{
 "cells": [
  {
   "cell_type": "code",
   "execution_count": null,
   "metadata": {
    "ExecuteTime": {
     "end_time": "2018-07-06T10:05:23.970019Z",
     "start_time": "2018-07-06T10:05:23.955799Z"
    }
   },
   "outputs": [],
   "source": [
    "%load_ext autoreload\n",
    "%autoreload 2"
   ]
  },
  {
   "cell_type": "code",
   "execution_count": null,
   "metadata": {
    "ExecuteTime": {
     "end_time": "2018-07-06T20:13:16.628911Z",
     "start_time": "2018-07-06T20:13:14.935143Z"
    }
   },
   "outputs": [],
   "source": [
    "from environment import *\n",
    "from setting import *"
   ]
  },
  {
   "cell_type": "code",
   "execution_count": null,
   "metadata": {
    "ExecuteTime": {
     "end_time": "2018-07-06T10:05:27.241422Z",
     "start_time": "2018-07-06T10:05:25.673877Z"
    }
   },
   "outputs": [],
   "source": [
    "feature_x_sample_processed = pd.read_table(\n",
    "    PATH_DICT[\"feature_x_sample.processed.tsv\"], index_col=0\n",
    ")"
   ]
  },
  {
   "cell_type": "code",
   "execution_count": null,
   "metadata": {
    "ExecuteTime": {
     "end_time": "2018-07-06T10:05:56.142744Z",
     "start_time": "2018-07-06T10:05:27.244038Z"
    }
   },
   "outputs": [],
   "source": [
    "for element_type in (\"feature\", \"sample\"):\n",
    "\n",
    "    if element_type == \"feature\":\n",
    "\n",
    "        element_alias = FEATURE_ALIAS\n",
    "\n",
    "        df = feature_x_sample_processed\n",
    "\n",
    "        elements_to_peek = FEATURES_TO_PEEK\n",
    "\n",
    "    elif element_type == \"sample\":\n",
    "\n",
    "        element_alias = SAMPLE_ALIAS\n",
    "\n",
    "        df = feature_x_sample_processed.T\n",
    "\n",
    "        elements_to_peek = SAMPLES_TO_PEEK\n",
    "\n",
    "    element_x_fit_parameter = pd.read_table(\n",
    "        PATH_DICT[\"{}_x_fit_parameter.tsv\".format(element_type)], index_col=0\n",
    "    )\n",
    "\n",
    "    context_matrix = ccal.make_context_matrix(\n",
    "        df,\n",
    "        n_job=MAX_N_JOB,\n",
    "        skew_t_pdf_fit_parameter=element_x_fit_parameter,\n",
    "        output_file_path=PATH_DICT[\n",
    "            \"feature_x_sample.{}_context.tsv\".format(element_type)\n",
    "        ],\n",
    "    )\n",
    "\n",
    "    context_matrix_alias = \"{} Context Matrix\".format(element_alias)\n",
    "\n",
    "    ccal.summarize_feature_x_sample(\n",
    "        context_matrix,\n",
    "        feature_x_sample_alias=context_matrix_alias,\n",
    "        feature_alias=FEATURE_ALIAS,\n",
    "        sample_alias=SAMPLE_ALIAS,\n",
    "        feature_x_sample_value_name=\"{} Context\".format(element_alias),\n",
    "        plot_max_size=PLOT_MAX_SIZE,\n",
    "    )\n",
    "\n",
    "    for context in (\"negative\", \"positive\"):\n",
    "\n",
    "        if context == \"negative\":\n",
    "\n",
    "            element_context = context_matrix.clip(upper=0).sum(axis=1)\n",
    "\n",
    "        elif context == \"positive\":\n",
    "\n",
    "            element_context = context_matrix.clip(lower=0).sum(axis=1)\n",
    "\n",
    "        element_context.sort_values(inplace=True)\n",
    "\n",
    "        if elements_to_peek is None:\n",
    "\n",
    "            ranks = []\n",
    "\n",
    "        else:\n",
    "\n",
    "            ranks = np.nonzero(\n",
    "                [element in elements_to_peek for element in element_context.index]\n",
    "            )[0]\n",
    "\n",
    "        value_name = \"{} {} Context Sum\".format(element_alias, context.title())\n",
    "\n",
    "        ccal.plot_points(\n",
    "            (tuple(range(element_context.size)), ranks),\n",
    "            (element_context, element_context[ranks]),\n",
    "            names=(\"All\", \"Peek\"),\n",
    "            texts=(element_context.index, element_context.index[ranks]),\n",
    "            modes=(\"markers\", \"markers+text\"),\n",
    "            title=\"{} Rank\".format(value_name),\n",
    "            xaxis_title=\"Rank\",\n",
    "            yaxis_title=value_name,\n",
    "        )\n",
    "\n",
    "        n_extreme = 3\n",
    "\n",
    "        if context == \"negative\":\n",
    "\n",
    "            ranks = range(n_extreme)\n",
    "\n",
    "        elif context == \"positive\":\n",
    "\n",
    "            ranks = range(-n_extreme, 0)\n",
    "\n",
    "        for rank in ranks:\n",
    "\n",
    "            ranked_element = element_context.index[rank]\n",
    "\n",
    "            ranked_element_values = df.loc[ranked_element]\n",
    "\n",
    "            n_data, location, scale, degree_of_freedom, shape = element_x_fit_parameter.loc[\n",
    "                ranked_element,\n",
    "                [\"N Data\", \"Location\", \"Scale\", \"Degree of Freedom\", \"Shape\"],\n",
    "            ]\n",
    "\n",
    "            ccal.plot_context(\n",
    "                ranked_element_values,\n",
    "                n_data=n_data,\n",
    "                location=location,\n",
    "                scale=scale,\n",
    "                degree_of_freedom=degree_of_freedom,\n",
    "                shape=shape,\n",
    "                plot_rug=ranked_element_values.dropna().size < PLOT_MAX_SIZE ** 0.5,\n",
    "                title=\"{} Rank {}: {}\".format(value_name, rank, ranked_element),\n",
    "                xaxis_title=FEATURE_X_SAMPLE_VALUE_NAME,\n",
    "            )"
   ]
  }
 ],
 "metadata": {
  "kernelspec": {
   "display_name": "Python 3",
   "language": "python",
   "name": "python3"
  },
  "language_info": {
   "codemirror_mode": {
    "name": "ipython",
    "version": 3
   },
   "file_extension": ".py",
   "mimetype": "text/x-python",
   "name": "python",
   "nbconvert_exporter": "python",
   "pygments_lexer": "ipython3",
   "version": "3.6.7"
  }
 },
 "nbformat": 4,
 "nbformat_minor": 2
}
