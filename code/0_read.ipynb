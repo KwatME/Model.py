{
 "cells": [
  {
   "cell_type": "code",
   "execution_count": null,
   "metadata": {
    "ExecuteTime": {
     "end_time": "2018-07-06T09:43:23.708162Z",
     "start_time": "2018-07-06T09:43:23.691484Z"
    }
   },
   "outputs": [],
   "source": [
    "%load_ext autoreload\n",
    "%autoreload 2"
   ]
  },
  {
   "cell_type": "code",
   "execution_count": null,
   "metadata": {
    "ExecuteTime": {
     "end_time": "2018-07-06T20:13:16.628911Z",
     "start_time": "2018-07-06T20:13:14.935143Z"
    }
   },
   "outputs": [],
   "source": [
    "from environment import *\n",
    "from setting import *"
   ]
  },
  {
   "cell_type": "code",
   "execution_count": null,
   "metadata": {},
   "outputs": [],
   "source": [
    "feature_x_sample = pd.read_table(FEATURE_X_SAMPLE_FILE_PATH, index_col=0)"
   ]
  },
  {
   "cell_type": "code",
   "execution_count": null,
   "metadata": {
    "ExecuteTime": {
     "end_time": "2018-07-06T09:43:34.025342Z",
     "start_time": "2018-07-06T09:43:25.415930Z"
    }
   },
   "outputs": [],
   "source": [
    "feature_x_sample_processed = ccal.process_feature_x_sample(\n",
    "    feature_x_sample,\n",
    "    features_to_drop=FEATURES_TO_DROP,\n",
    "    samples_to_drop=SAMPLES_TO_DROP,\n",
    "    nanize=NANIZE,\n",
    "    drop_axis=DROP_AXIS,\n",
    "    max_na=MAX_NA,\n",
    "    min_n_not_na_unique_value=MIN_N_NOT_NA_UNIQUE_VALUE,\n",
    "    shift_as_necessary_to_achieve_min_before_logging=SHIFT_AS_NECESSARY_TO_ACHIEVE_MIN_BEFORE_LOGGING,\n",
    "    log_base=LOG_BASE,\n",
    "    normalization_axis=NORMALIZATION_AXIS,\n",
    "    normalization_method=NORMALIZATION_METHOD,\n",
    "    clip_min=CLIP_MIN,\n",
    "    clip_max=CLIP_MAX,\n",
    "    feature_x_sample_alias=FEATURE_X_SAMPLE_ALIAS,\n",
    "    feature_alias=FEATURE_ALIAS,\n",
    "    sample_alias=SAMPLE_ALIAS,\n",
    "    feature_x_sample_value_name=FEATURE_X_SAMPLE_VALUE_NAME,\n",
    "    plot_heat_map_max_size=PLOT_HEAT_MAP_MAX_SIZE,\n",
    "    plot_distributions_max_size=PLOT_DISTRIBUTIONS_MAX_SIZE,\n",
    "    plot_rug_max_size=PLOT_RUG_MAX_SIZE,\n",
    ")"
   ]
  },
  {
   "cell_type": "code",
   "execution_count": null,
   "metadata": {},
   "outputs": [],
   "source": [
    "if SELECT_GENE_SYMBOL:\n",
    "\n",
    "    gene_symbols = ccal.select_gene_symbol(\n",
    "        gene_family_name_to_remove=(\n",
    "            \"18S ribosomal RNAs\",\n",
    "            \"28S ribosomal RNAs\",\n",
    "            \"45S pre-ribosomal RNAs\",\n",
    "            \"5.8S ribosomal RNAs\",\n",
    "            \"5S ribosomal RNAs\",\n",
    "            \"Cytoplasmic transfer RNAs\",\n",
    "            \"Long non-coding RNAs (published)\",\n",
    "            \"MicroRNAs\",\n",
    "            \"Mitochondrially encoded ribosomal RNAs\",\n",
    "            \"Mitochondrially encoded tRNAs\",\n",
    "            \"Nuclear-encoded mitochondrial transfer RNAs\",\n",
    "            \"Piwi-interacting RNA clusters\",\n",
    "            \"Ribosomal 45S RNA clusters\",\n",
    "            \"Ribosomal 45S rRNA genes outside of clusters\",\n",
    "            \"RNAs, 7SL, cytoplasmic\",\n",
    "            \"RNAs, Ro-associated Y\",\n",
    "            \"Small Cajal body-specific RNAs\",\n",
    "            \"Small NF90 (ILF3) associated RNAs\",\n",
    "            \"Small nuclear RNAs\",\n",
    "            \"Small nucleolar RNAs, C/D box\",\n",
    "            \"Small nucleolar RNAs, H/ACA box\",\n",
    "            \"Vault RNAs\",\n",
    "            \"L ribosomal proteins\",\n",
    "            \"Mitochondrial ribosomal proteins\",\n",
    "            \"S ribosomal proteins\",\n",
    "            \"Mitochondrial complex II: succinate dehydrogenase subunits\",\n",
    "            \"Mitochondrial complex III: ubiquinol-cytochrome c reductase complex subunits\",\n",
    "            \"Mitochondrial complex IV: cytochrome c oxidase subunits\",\n",
    "            \"Mitochondrial complex V: ATP synthase subunits\",\n",
    "            \"NADH:ubiquinone oxidoreductase core subunits\",\n",
    "            \"NADH:ubiquinone oxidoreductase supernumerary subunits\",\n",
    "        ),\n",
    "        locus_type_to_keep=(\"gene with protein product\",),\n",
    "    )\n",
    "\n",
    "    feature_x_sample_processed = feature_x_sample_processed.loc[\n",
    "        feature_x_sample_processed.index & gene_symbols\n",
    "    ]"
   ]
  },
  {
   "cell_type": "code",
   "execution_count": null,
   "metadata": {},
   "outputs": [],
   "source": [
    "feature_x_sample_processed.to_csv(PATH_DICT[\"feature_x_sample.processed.tsv\"], sep=\"\\t\")\n",
    "\n",
    "ccal.summarize_feature_x_sample(\n",
    "    feature_x_sample_processed,\n",
    "    feature_x_sample_alias=FEATURE_X_SAMPLE_ALIAS,\n",
    "    feature_alias=FEATURE_ALIAS,\n",
    "    sample_alias=SAMPLE_ALIAS,\n",
    "    feature_x_sample_value_name=FEATURE_X_SAMPLE_VALUE_NAME,\n",
    "    plot_heat_map_max_size=PLOT_HEAT_MAP_MAX_SIZE,\n",
    "    plot_distributions_max_size=PLOT_DISTRIBUTIONS_MAX_SIZE,\n",
    "    plot_rug_max_size=PLOT_RUG_MAX_SIZE,\n",
    ")"
   ]
  }
 ],
 "metadata": {
  "kernelspec": {
   "display_name": "Python 3",
   "language": "python",
   "name": "python3"
  },
  "language_info": {
   "codemirror_mode": {
    "name": "ipython",
    "version": 3
   },
   "file_extension": ".py",
   "mimetype": "text/x-python",
   "name": "python",
   "nbconvert_exporter": "python",
   "pygments_lexer": "ipython3",
   "version": "3.6.7"
  }
 },
 "nbformat": 4,
 "nbformat_minor": 2
}
