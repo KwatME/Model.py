{
 "cells": [
  {
   "cell_type": "code",
   "execution_count": null,
   "metadata": {
    "ExecuteTime": {
     "end_time": "2018-07-06T09:43:23.708162Z",
     "start_time": "2018-07-06T09:43:23.691484Z"
    }
   },
   "outputs": [],
   "source": [
    "%load_ext autoreload\n",
    "%autoreload 2"
   ]
  },
  {
   "cell_type": "code",
   "execution_count": null,
   "metadata": {
    "ExecuteTime": {
     "end_time": "2018-07-06T20:13:16.628911Z",
     "start_time": "2018-07-06T20:13:14.935143Z"
    }
   },
   "outputs": [],
   "source": [
    "from environment import *\n",
    "\n",
    "with open(\"setting.yaml\") as yaml_file:\n",
    "\n",
    "    setting = yaml.load(yaml_file)\n",
    "\n",
    "path = make_path_dict(setting)"
   ]
  },
  {
   "cell_type": "code",
   "execution_count": null,
   "metadata": {},
   "outputs": [],
   "source": [
    "feature_x_sample = pd.read_table(setting[\"feature_x_sample_file_path\"], index_col=0)"
   ]
  },
  {
   "cell_type": "code",
   "execution_count": null,
   "metadata": {
    "ExecuteTime": {
     "end_time": "2018-07-06T09:43:34.025342Z",
     "start_time": "2018-07-06T09:43:25.415930Z"
    }
   },
   "outputs": [],
   "source": [
    "feature_x_sample_processed = ccal.process_feature_x_sample(\n",
    "    feature_x_sample,\n",
    "    features_to_drop=setting[\"features_to_drop\"],\n",
    "    samples_to_drop=setting[\"samples_to_drop\"],\n",
    "    nanize=setting[\"nanize\"],\n",
    "    drop_axis=setting[\"drop_axis\"],\n",
    "    max_na=setting[\"max_na\"],\n",
    "    min_n_not_na_unique_value=setting[\"min_n_not_na_unique_value\"],\n",
    "    shift_as_necessary_to_achieve_min_before_logging=setting[\n",
    "        \"shift_as_necessary_to_achieve_min_before_logging\"\n",
    "    ],\n",
    "    log_base=setting[\"log_base\"],\n",
    "    normalization_axis=setting[\"normalization_axis\"],\n",
    "    normalization_method=setting[\"normalization_method\"],\n",
    "    clip_min=setting[\"clip_min\"],\n",
    "    clip_max=setting[\"clip_max\"],\n",
    "    feature_x_sample_alias=setting[\"feature_x_sample_alias\"],\n",
    "    feature_alias=setting[\"feature_alias\"],\n",
    "    sample_alias=setting[\"sample_alias\"],\n",
    "    feature_x_sample_value_name=setting[\"feature_x_sample_value_name\"],\n",
    "    plot_heat_map_max_size=setting[\"plot_heat_map_max_size\"],\n",
    "    plot_distributions_max_size=setting[\"plot_distributions_max_size\"],\n",
    "    plot_rug_max_size=setting[\"plot_rug_max_size\"],\n",
    ")"
   ]
  },
  {
   "cell_type": "code",
   "execution_count": null,
   "metadata": {},
   "outputs": [],
   "source": [
    "if setting[\"select_gene_symbol\"]:\n",
    "\n",
    "    feature_x_sample_processed = feature_x_sample_processed.loc[\n",
    "        feature_x_sample_processed.index\n",
    "        & ccal.select_gene_symbol(\n",
    "            gene_family_name_to_remove=(\n",
    "                \"18S ribosomal RNAs\",\n",
    "                \"28S ribosomal RNAs\",\n",
    "                \"45S pre-ribosomal RNAs\",\n",
    "                \"5.8S ribosomal RNAs\",\n",
    "                \"5S ribosomal RNAs\",\n",
    "                \"Cytoplasmic transfer RNAs\",\n",
    "                \"Long non-coding RNAs (published)\",\n",
    "                \"MicroRNAs\",\n",
    "                \"Mitochondrially encoded ribosomal RNAs\",\n",
    "                \"Mitochondrially encoded tRNAs\",\n",
    "                \"Nuclear-encoded mitochondrial transfer RNAs\",\n",
    "                \"Piwi-interacting RNA clusters\",\n",
    "                \"Ribosomal 45S RNA clusters\",\n",
    "                \"Ribosomal 45S rRNA genes outside of clusters\",\n",
    "                \"RNAs, 7SL, cytoplasmic\",\n",
    "                \"RNAs, Ro-associated Y\",\n",
    "                \"Small Cajal body-specific RNAs\",\n",
    "                \"Small NF90 (ILF3) associated RNAs\",\n",
    "                \"Small nuclear RNAs\",\n",
    "                \"Small nucleolar RNAs, C/D box\",\n",
    "                \"Small nucleolar RNAs, H/ACA box\",\n",
    "                \"Vault RNAs\",\n",
    "                \"L ribosomal proteins\",\n",
    "                \"Mitochondrial ribosomal proteins\",\n",
    "                \"S ribosomal proteins\",\n",
    "                \"Mitochondrial complex II: succinate dehydrogenase subunits\",\n",
    "                \"Mitochondrial complex III: ubiquinol-cytochrome c reductase complex subunits\",\n",
    "                \"Mitochondrial complex IV: cytochrome c oxidase subunits\",\n",
    "                \"Mitochondrial complex V: ATP synthase subunits\",\n",
    "                \"NADH:ubiquinone oxidoreductase core subunits\",\n",
    "                \"NADH:ubiquinone oxidoreductase supernumerary subunits\",\n",
    "            ),\n",
    "            locus_type_to_keep=(\"gene with protein product\",),\n",
    "        )\n",
    "    ]\n",
    "\n",
    "    ccal.summarize_feature_x_sample(\n",
    "        feature_x_sample_processed,\n",
    "        feature_x_sample_alias=setting[\"feature_x_sample_alias\"],\n",
    "        feature_alias=setting[\"feature_alias\"],\n",
    "        sample_alias=setting[\"sample_alias\"],\n",
    "        feature_x_sample_value_name=setting[\"feature_x_sample_value_name\"],\n",
    "        plot_heat_map_max_size=setting[\"plot_heat_map_max_size\"],\n",
    "        plot_distributions_max_size=setting[\"plot_distributions_max_size\"],\n",
    "        plot_rug_max_size=setting[\"plot_rug_max_size\"],\n",
    "    )"
   ]
  },
  {
   "cell_type": "code",
   "execution_count": null,
   "metadata": {},
   "outputs": [],
   "source": [
    "feature_x_sample_processed.to_csv(path[\"feature_x_sample.processed.tsv\"], sep=\"\\t\")\n",
    "\n",
    "feature_x_sample_processed"
   ]
  }
 ],
 "metadata": {
  "kernelspec": {
   "display_name": "Python 3",
   "language": "python",
   "name": "python3"
  },
  "language_info": {
   "codemirror_mode": {
    "name": "ipython",
    "version": 3
   },
   "file_extension": ".py",
   "mimetype": "text/x-python",
   "name": "python",
   "nbconvert_exporter": "python",
   "pygments_lexer": "ipython3",
   "version": "3.6.7"
  }
 },
 "nbformat": 4,
 "nbformat_minor": 2
}
