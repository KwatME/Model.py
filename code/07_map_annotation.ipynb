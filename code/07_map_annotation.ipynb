{
 "cells": [
  {
   "cell_type": "code",
   "execution_count": null,
   "metadata": {},
   "outputs": [],
   "source": [
    "from __init__ import *"
   ]
  },
  {
   "cell_type": "code",
   "execution_count": null,
   "metadata": {},
   "outputs": [],
   "source": [
    "directory_path = \"../output/gps_map/\""
   ]
  },
  {
   "cell_type": "code",
   "execution_count": null,
   "metadata": {},
   "outputs": [],
   "source": [
    "template = \"{}{{}}_gps_map.pickle.gz\".format(directory_path)\n",
    "\n",
    "w_gps_map = kraft.gps_map.read(template.format(\"w\"))\n",
    "\n",
    "h_gps_map = kraft.gps_map.read(template.format(\"h\"))"
   ]
  },
  {
   "cell_type": "code",
   "execution_count": null,
   "metadata": {},
   "outputs": [],
   "source": [
    "data_ = SETTING[\"model_data_\"] + SETTING[\"annotation_data_\"]\n",
    "\n",
    "for data in data_:\n",
    "\n",
    "    data[\"table\"] = pd.read_csv(data[\"file_path\"], sep=\"\\t\", index_col=0)"
   ]
  },
  {
   "cell_type": "code",
   "execution_count": null,
   "metadata": {},
   "outputs": [],
   "source": [
    "data_type_to_colorscale = {\n",
    "    **kraft.plot.DATA_TYPE_TO_COLORSCALE,\n",
    "    **{\"categorical\": \"portland\"},\n",
    "}"
   ]
  },
  {
   "cell_type": "code",
   "execution_count": null,
   "metadata": {},
   "outputs": [],
   "source": [
    "for w_h_symbol in (\"w\", \"h\"):\n",
    "\n",
    "    if w_h_symbol == \"w\":\n",
    "\n",
    "        gps_map = w_gps_map\n",
    "\n",
    "    else:\n",
    "\n",
    "        gps_map = h_gps_map\n",
    "\n",
    "    for data in data_:\n",
    "\n",
    "        table = data[\"table\"]\n",
    "\n",
    "        if w_h_symbol == \"w\":\n",
    "\n",
    "            table = table.T\n",
    "\n",
    "        colorscale = data_type_to_colorscale[data[\"type\"]]\n",
    "\n",
    "        for label in SETTING[\"peek_axis_0_label_\"]:\n",
    "\n",
    "            if label in table.index.to_numpy():\n",
    "\n",
    "                gps_map.plot(\n",
    "                    scores=table.loc[label, :],\n",
    "                    score_colorscale=colorscale,\n",
    "                    show_node_text=False,\n",
    "                    point_trace={\n",
    "                        \"marker\": {\n",
    "                            \"size\": SETTING[\"{}_gps_map_point_size\".format(w_h_symbol)]\n",
    "                        }\n",
    "                    },\n",
    "                    file_path=\"{}{}_gps_map_{}_{}.html\".format(\n",
    "                        directory_path, w_h_symbol, data[\"name\"], label,\n",
    "                    ),\n",
    "                )"
   ]
  }
 ],
 "metadata": {
  "kernelspec": {
   "display_name": "Python 3",
   "language": "python",
   "name": "python3"
  },
  "language_info": {
   "codemirror_mode": {
    "name": "ipython",
    "version": 3
   },
   "file_extension": ".py",
   "mimetype": "text/x-python",
   "name": "python",
   "nbconvert_exporter": "python",
   "pygments_lexer": "ipython3",
   "version": "3.7.8"
  }
 },
 "nbformat": 4,
 "nbformat_minor": 4
}
