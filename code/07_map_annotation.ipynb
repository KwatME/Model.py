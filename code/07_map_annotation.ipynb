{
 "cells": [
  {
   "cell_type": "code",
   "execution_count": null,
   "metadata": {},
   "outputs": [],
   "source": [
    "from __init__ import *"
   ]
  },
  {
   "cell_type": "code",
   "execution_count": null,
   "metadata": {},
   "outputs": [],
   "source": [
    "directory_path = \"../output/gps_map/\""
   ]
  },
  {
   "cell_type": "code",
   "execution_count": null,
   "metadata": {},
   "outputs": [],
   "source": [
    "path_template = \"{}{{}}/gps_map.pickle.gz\".format(directory_path)\n",
    "\n",
    "w_gps_map = kraft.gps_map.read(path_template.format(\"w\"))\n",
    "\n",
    "h_gps_map = kraft.gps_map.read(path_template.format(\"h\"))"
   ]
  },
  {
   "cell_type": "code",
   "execution_count": null,
   "metadata": {},
   "outputs": [],
   "source": [
    "data_ = SETTING[\"model_data_\"] + SETTING[\"annotation_data_\"]\n",
    "\n",
    "for data in data_:\n",
    "\n",
    "    df = pd.read_csv(data[\"file_path\"], sep=\"\\t\", index_col=0)\n",
    "\n",
    "    df.columns.name = data[\"axis_1_name\"]\n",
    "\n",
    "    data[\"df\"] = df"
   ]
  },
  {
   "cell_type": "code",
   "execution_count": null,
   "metadata": {},
   "outputs": [],
   "source": [
    "data_type_to_colorscale = {\n",
    "    \"continuous\": kraft.plot.CONTINUOUS_COLORSCALE,\n",
    "    \"categorical\": \"portland\",\n",
    "    \"binary\": kraft.plot.BINARY_COLORSCALE,\n",
    "}"
   ]
  },
  {
   "cell_type": "code",
   "execution_count": null,
   "metadata": {},
   "outputs": [],
   "source": [
    "for w_h_symbol in (\"w\", \"h\"):\n",
    "\n",
    "    if w_h_symbol == \"w\":\n",
    "\n",
    "        gps_map = w_gps_map\n",
    "\n",
    "        axis = 1\n",
    "\n",
    "    else:\n",
    "\n",
    "        gps_map = h_gps_map\n",
    "\n",
    "        axis = 0\n",
    "\n",
    "    directory_path = \"../output/gps_map/{}/\".format(w_h_symbol)\n",
    "\n",
    "    for data in data_:\n",
    "\n",
    "        df = data[\"df\"]\n",
    "\n",
    "        if w_h_symbol == \"w\":\n",
    "\n",
    "            df = df.T\n",
    "\n",
    "        colorscale = data_type_to_colorscale[data[\"data_type\"]]\n",
    "\n",
    "        for label in SETTING[\"axis_{}_peek_label_\".format(axis)]:\n",
    "\n",
    "            if label in df.index:\n",
    "\n",
    "                score_name = \"{}_{}\".format(data[\"name\"], label)\n",
    "\n",
    "                gps_map.plot(\n",
    "                    show_node_text=False,\n",
    "                    score_name=score_name,\n",
    "                    score_=df.loc[label, :].reindex(gps_map.point_),\n",
    "                    score_colorscale=colorscale,\n",
    "                    point_trace={\n",
    "                        \"marker\": {\n",
    "                            \"size\": SETTING[\"{}_gps_map_point_size\".format(w_h_symbol)]\n",
    "                        }\n",
    "                    },\n",
    "                    file_path=\"{}{}.html\".format(directory_path, score_name),\n",
    "                )"
   ]
  },
  {
   "cell_type": "code",
   "execution_count": null,
   "metadata": {},
   "outputs": [],
   "source": []
  }
 ],
 "metadata": {
  "kernelspec": {
   "display_name": "Python 3",
   "language": "python",
   "name": "python3"
  },
  "language_info": {
   "codemirror_mode": {
    "name": "ipython",
    "version": 3
   },
   "file_extension": ".py",
   "mimetype": "text/x-python",
   "name": "python",
   "nbconvert_exporter": "python",
   "pygments_lexer": "ipython3",
   "version": "3.7.8"
  }
 },
 "nbformat": 4,
 "nbformat_minor": 4
}
