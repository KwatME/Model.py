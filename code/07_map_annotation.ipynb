{
 "cells": [
  {
   "cell_type": "code",
   "execution_count": null,
   "metadata": {},
   "outputs": [],
   "source": [
    "from __init__ import *"
   ]
  },
  {
   "cell_type": "code",
   "execution_count": null,
   "metadata": {},
   "outputs": [],
   "source": [
    "gps_map_directory_path = \"../output/gps_map/\""
   ]
  },
  {
   "cell_type": "code",
   "execution_count": null,
   "metadata": {},
   "outputs": [],
   "source": [
    "template = \"{}{{}}_gps_map.pickle.gz\".format(gps_map_directory_path)\n",
    "\n",
    "w_gps_map = kraft.gps_map.read(template.format(\"w\"))\n",
    "\n",
    "h_gps_map = kraft.gps_map.read(template.format(\"h\"))"
   ]
  },
  {
   "cell_type": "code",
   "execution_count": null,
   "metadata": {},
   "outputs": [],
   "source": [
    "data_dicts = SETTING[\"model_data_dicts\"] + SETTING[\"annotation_data_dicts\"]\n",
    "\n",
    "for data_dict in data_dicts:\n",
    "\n",
    "    data_dict[\"dataframe\"] = pd.read_csv(data_dict[\"file_path\"], sep=\"\\t\", index_col=0)"
   ]
  },
  {
   "cell_type": "code",
   "execution_count": null,
   "metadata": {},
   "outputs": [],
   "source": [
    "gps_map_data_type_to_colorscale = {\n",
    "    **kraft.plot.DATA_TYPE_TO_COLORSCALE,\n",
    "    **{\"categorical\": \"portland\"},\n",
    "}"
   ]
  },
  {
   "cell_type": "code",
   "execution_count": null,
   "metadata": {},
   "outputs": [],
   "source": [
    "for w_h_str in (\"w\", \"h\"):\n",
    "\n",
    "    if w_h_str == \"w\":\n",
    "\n",
    "        gps_map = w_gps_map\n",
    "\n",
    "    else:\n",
    "\n",
    "        gps_map = h_gps_map\n",
    "\n",
    "    for data_dict in data_dicts:\n",
    "\n",
    "        dataframe = data_dict[\"dataframe\"]\n",
    "\n",
    "        if w_h_str == \"w\":\n",
    "\n",
    "            point_score_s = (\n",
    "                dataframe[point]\n",
    "                for point in dataframe.columns & set(SETTING[\"axis_1_to_peek\"])\n",
    "            )\n",
    "\n",
    "        else:\n",
    "\n",
    "            point_score_s = (\n",
    "                dataframe.loc[point]\n",
    "                for point in dataframe.index & set(SETTING[\"axis_0_to_peek\"])\n",
    "            )\n",
    "\n",
    "        for point_score in point_score_s:\n",
    "\n",
    "            gps_map.plot(\n",
    "                scores=point_score,\n",
    "                score_colorscale=gps_map_data_type_to_colorscale[\n",
    "                    data_dict[\"data_type\"]\n",
    "                ],\n",
    "                show_node_text=False,\n",
    "                point_trace=SETTING[\"{}_gps_map_point_trace\".format(w_h_str)],\n",
    "                file_path=\"{}{}_gps_map_{}_{}.html\".format(\n",
    "                    gps_map_directory_path,\n",
    "                    w_h_str,\n",
    "                    data_dict[\"name\"],\n",
    "                    point_score.name,\n",
    "                ),\n",
    "            )"
   ]
  }
 ],
 "metadata": {
  "kernelspec": {
   "display_name": "Python 3",
   "language": "python",
   "name": "python3"
  },
  "language_info": {
   "codemirror_mode": {
    "name": "ipython",
    "version": 3
   },
   "file_extension": ".py",
   "mimetype": "text/x-python",
   "name": "python",
   "nbconvert_exporter": "python",
   "pygments_lexer": "ipython3",
   "version": "3.7.8"
  }
 },
 "nbformat": 4,
 "nbformat_minor": 4
}
