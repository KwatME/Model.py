{
 "cells": [
  {
   "cell_type": "code",
   "execution_count": null,
   "metadata": {},
   "outputs": [],
   "source": [
    "%load_ext autoreload\n",
    "%autoreload 2"
   ]
  },
  {
   "cell_type": "code",
   "execution_count": null,
   "metadata": {},
   "outputs": [],
   "source": [
    "from __init__ import *"
   ]
  },
  {
   "cell_type": "code",
   "execution_count": null,
   "metadata": {},
   "outputs": [],
   "source": [
    "signals = []\n",
    "\n",
    "for data_dict_index, data_dict in enumerate(SETTING[\"model_data_dicts\"]):\n",
    "\n",
    "    signal = pd.read_csv(\n",
    "        \"{}/signal_select/{}.tsv\".format(\n",
    "            SETTING[\"output_directory_path\"], data_dict_index\n",
    "        ),\n",
    "        sep=\"\\t\",\n",
    "        index_col=0,\n",
    "    )\n",
    "\n",
    "    signal.columns.name = data_dict[\"axis1_name\"]\n",
    "\n",
    "    signals.append(signal)"
   ]
  },
  {
   "cell_type": "code",
   "execution_count": null,
   "metadata": {},
   "outputs": [],
   "source": [
    "model_mode = SETTING[\"model_mode\"]\n",
    "\n",
    "if model_mode == \"range\":\n",
    "\n",
    "    method = \"vs_w_hs\"\n",
    "\n",
    "elif model_mode == \"deep\":\n",
    "\n",
    "    method = \"vs_ws_h\"\n",
    "\n",
    "for r in SETTING[\"mf_rs\"]:\n",
    "\n",
    "    kraft.mf_dataframes(\n",
    "        signals,\n",
    "        method,\n",
    "        r,\n",
    "        \"{}/{}\".format(SETTING[\"output_directory_path\"], \"mf_r{}\".format(r)),\n",
    "        plot_w_h=True,\n",
    "    )"
   ]
  }
 ],
 "metadata": {
  "kernelspec": {
   "display_name": "Python 3",
   "language": "python",
   "name": "python3"
  },
  "language_info": {
   "codemirror_mode": {
    "name": "ipython",
    "version": 3
   },
   "file_extension": ".py",
   "mimetype": "text/x-python",
   "name": "python",
   "nbconvert_exporter": "python",
   "pygments_lexer": "ipython3",
   "version": "3.7.3"
  }
 },
 "nbformat": 4,
 "nbformat_minor": 4
}
