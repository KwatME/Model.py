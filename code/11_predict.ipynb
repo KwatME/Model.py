{
 "cells": [
  {
   "cell_type": "code",
   "execution_count": null,
   "metadata": {
    "ExecuteTime": {
     "end_time": "2018-07-06T07:59:49.777639Z",
     "start_time": "2018-07-06T07:59:49.765242Z"
    }
   },
   "outputs": [],
   "source": [
    "%load_ext autoreload\n",
    "\n",
    "%autoreload 2"
   ]
  },
  {
   "cell_type": "code",
   "execution_count": null,
   "metadata": {
    "ExecuteTime": {
     "end_time": "2018-07-08T02:00:18.306031Z",
     "start_time": "2018-07-08T02:00:18.276698Z"
    }
   },
   "outputs": [],
   "source": [
    "from environment import *\n",
    "\n",
    "import setting\n",
    "\n",
    "path_dict = path(setting)"
   ]
  },
  {
   "cell_type": "code",
   "execution_count": null,
   "metadata": {
    "ExecuteTime": {
     "end_time": "2018-07-06T07:59:51.551921Z",
     "start_time": "2018-07-06T07:59:51.522383Z"
    }
   },
   "outputs": [],
   "source": [
    "training__feature_x_sample = pd.read_table(\n",
    "    path_dict['feature_x_sample_file_path'],\n",
    "    index_col=0,\n",
    ")\n",
    "\n",
    "gps_map = ccal.load_gps_map(path_dict['gps_map_file_path'])\n",
    "\n",
    "training__w = pd.DataFrame(\n",
    "    gps_map.wt.T,\n",
    "    index=gps_map.wt_elements,\n",
    "    columns=gps_map.nodes,\n",
    ")\n",
    "\n",
    "training__feature_x_sample"
   ]
  },
  {
   "cell_type": "code",
   "execution_count": null,
   "metadata": {},
   "outputs": [],
   "source": [
    "testing__feature_x_sample_file_path = '../data/testing__feature_x_sample.tsv'\n",
    "\n",
    "testing__feature_x_sample = ccal.read_and_process_feature_x_sample(\n",
    "    testing__feature_x_sample_file_path,\n",
    "    nanize=0,\n",
    "    drop_na_axis=setting.DROP_NA_AXIS,\n",
    "    max_na=setting.MAX_NA,\n",
    "    log_base=setting.LOG_BASE,\n",
    "    normalization_axis=setting.NORMALIZATION_AXIS,\n",
    "    normalization_method=setting.NORMALIZATION_METHOD,\n",
    "    max_plot_n=setting.MAX_PLOT_N,\n",
    "    plot=False,\n",
    ")\n",
    "\n",
    "testing__feature_x_sample = testing__feature_x_sample.loc[training__w.index.str.lstrip('(-+) ').unique()]\n",
    "\n",
    "testing__feature_x_sample"
   ]
  },
  {
   "cell_type": "code",
   "execution_count": null,
   "metadata": {},
   "outputs": [],
   "source": [
    "testing__signal_matrix = np.full(\n",
    "    (\n",
    "        training__w.shape[0],\n",
    "        testing__feature_x_sample.shape[1],\n",
    "    ),\n",
    "    np.nan,\n",
    ")\n",
    "\n",
    "training__feature_skew_t_pdf_fit_parameter = pd.read_table(\n",
    "    path_dict['feature_skew_t_pdf_fit_parameter_file_path'],\n",
    "    index_col=0,\n",
    ")\n",
    "\n",
    "n = training__w.shape[0]\n",
    "\n",
    "n_per_print =  n // 10\n",
    "\n",
    "for i, training__w_feature_sign_w_feature in enumerate(training__w.index):\n",
    "    \n",
    "    if i % n_per_print == 0:\n",
    "        \n",
    "        print('{}/{} ...'.format(\n",
    "            i,\n",
    "            n,\n",
    "        ))\n",
    "    \n",
    "    training__w_feature_sign, training__w_feature = training__w_feature_sign_w_feature.split()\n",
    "    \n",
    "    training__location, training__scale, training__degree_of_freedom, training__shape = training__feature_skew_t_pdf_fit_parameter.loc[training__w_feature, [\n",
    "        'Location',\n",
    "        'Scale',\n",
    "        'Degree of Freedom',\n",
    "        'Shape',\n",
    "    ]]\n",
    "\n",
    "    training__context_dict = ccal.compute_context(\n",
    "        training__feature_x_sample.loc[training__w_feature].values,\n",
    "        location=training__location,\n",
    "        scale=training__scale,\n",
    "        degree_of_freedom=training__degree_of_freedom,\n",
    "        shape=training__shape,\n",
    "        scale_with_kl=setting.SCALE_WITH_KL,\n",
    "    )\n",
    "    \n",
    "    training__grid = training__context_dict['grid']\n",
    "\n",
    "    training__context_indices = training__context_dict['context_indices']\n",
    "    \n",
    "    if training__w_feature_sign == '(-)':\n",
    "\n",
    "        training__context_indices = -training__context_indices.clip(max=0)\n",
    "    \n",
    "    elif training__w_feature_sign == '(+)':\n",
    "        \n",
    "        training__context_indices = training__context_indices.clip(min=0)\n",
    "\n",
    "    testing__feature_values = testing__feature_x_sample.loc[training__w_feature].values\n",
    "    \n",
    "#     training__context_indices = ccal.normalize_nd_array(\n",
    "#         training__context_indices.clip(min=0),\n",
    "#         None,\n",
    "#         '0-1',\n",
    "#     )\n",
    "\n",
    "    not_nan = ~np.isnan(testing__feature_values)\n",
    "\n",
    "    testing__signal_matrix[i][not_nan] = training__context_indices[[np.absolute(training__grid - value).argmin() for value in testing__feature_values[not_nan]]]\n",
    "\n",
    "testing__signal_matrix = pd.DataFrame(\n",
    "    testing__signal_matrix, \n",
    "    index=training__w.index,\n",
    "    columns=testing__feature_x_sample.columns,\n",
    ")\n",
    "\n",
    "for sign_feature in np.random.choice(\n",
    "    testing__signal_matrix.index,\n",
    "    size=8,\n",
    "    replace=False,\n",
    "):\n",
    "\n",
    "    feature = sign_feature.split()[1]\n",
    "    \n",
    "    testing__feature_values = testing__feature_x_sample.loc[feature].sort_values()\n",
    "    \n",
    "    testing__feature_signals = testing__signal_matrix.loc[sign_feature, testing__feature_values.index]\n",
    "\n",
    "    ccal.plot_context(\n",
    "        training__feature_x_sample.loc[feature],\n",
    "        scale_with_kl=setting.SCALE_WITH_KL,\n",
    "        title=sign_feature,\n",
    "    )\n",
    "\n",
    "    ccal.plot_points(\n",
    "        ('Look Up Context', ),\n",
    "        (testing__feature_values, ),\n",
    "        (testing__feature_signals, ),\n",
    "        texts=(testing__feature_values.index, ),\n",
    "    )"
   ]
  },
  {
   "cell_type": "code",
   "execution_count": null,
   "metadata": {},
   "outputs": [],
   "source": [
    "pull_power = 1\n",
    "\n",
    "element_marker_size = 16"
   ]
  },
  {
   "cell_type": "code",
   "execution_count": null,
   "metadata": {
    "ExecuteTime": {
     "end_time": "2018-07-06T07:59:52.556033Z",
     "start_time": "2018-07-06T07:59:52.348450Z"
    }
   },
   "outputs": [],
   "source": [
    "testing__a = testing__signal_matrix.dropna(how='all')\n",
    "\n",
    "testing__h = ccal.solve_for_nmf_h(\n",
    "    testing__a,\n",
    "    training__w.loc[testing__a.index],\n",
    "    method='nnls',\n",
    ")\n",
    "\n",
    "title = 'Testing'\n",
    "\n",
    "testing__h_element_states = gps_map.predict(\n",
    "    'h',\n",
    "    testing__h,\n",
    "    pull_power=pull_power,\n",
    "    title=title,\n",
    "    element_marker_size=element_marker_size,\n",
    ")\n",
    "\n",
    "ccal.plot_heat_map(\n",
    "    testing__h,\n",
    "    normalization_axis=0,\n",
    "    normalization_method='-0-',\n",
    "    column_annotation=testing__h_element_states,\n",
    "    cluster_axis=1,\n",
    "    title=title,\n",
    "    xaxis_title=testing__h.columns.name,\n",
    "    yaxis_title=testing__h.index.name,\n",
    ")"
   ]
  },
  {
   "cell_type": "code",
   "execution_count": null,
   "metadata": {},
   "outputs": [],
   "source": [
    "feature_dicts = make_feature_dicts()\n",
    "\n",
    "features_to_highlight = make_features_to_highlight()"
   ]
  },
  {
   "cell_type": "code",
   "execution_count": null,
   "metadata": {},
   "outputs": [],
   "source": [
    "for feature_group, features in feature_group_features.items():\n",
    "    \n",
    "    df = feature_dicts[feature_group]['df']\n",
    "    \n",
    "    df = df[df.columns & testing__h.columns]\n",
    "    \n",
    "    annotation_type = feature_dicts[feature_group]['data_type']\n",
    "    \n",
    "    for feature in features:\n",
    "\n",
    "        if feature in df.index:\n",
    "            \n",
    "            testing__h_element_states = gps_map.predict(\n",
    "                'h',\n",
    "                testing__h,\n",
    "                pull_power=pull_power,\n",
    "                annotation_x_element=df.loc[feature].to_frame().T,\n",
    "                annotation_std_maxs=(3, ),\n",
    "                annotation_types=(annotation_type, ),\n",
    "                title='{} {}'.format(\n",
    "                    feature_group,\n",
    "                    feature,\n",
    "                ),\n",
    "                element_marker_size=element_marker_size,\n",
    "            )"
   ]
  }
 ],
 "metadata": {
  "kernelspec": {
   "display_name": "Python 3",
   "language": "python",
   "name": "python3"
  },
  "language_info": {
   "codemirror_mode": {
    "name": "ipython",
    "version": 3
   },
   "file_extension": ".py",
   "mimetype": "text/x-python",
   "name": "python",
   "nbconvert_exporter": "python",
   "pygments_lexer": "ipython3",
   "version": "3.6.6"
  }
 },
 "nbformat": 4,
 "nbformat_minor": 2
}
