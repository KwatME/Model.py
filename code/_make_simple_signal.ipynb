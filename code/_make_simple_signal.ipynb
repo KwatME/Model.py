{
 "cells": [
  {
   "cell_type": "code",
   "execution_count": null,
   "metadata": {
    "ExecuteTime": {
     "end_time": "2018-07-06T20:13:14.932963Z",
     "start_time": "2018-07-06T20:13:14.920835Z"
    }
   },
   "outputs": [],
   "source": [
    "%load_ext autoreload\n",
    "%autoreload 2"
   ]
  },
  {
   "cell_type": "code",
   "execution_count": null,
   "metadata": {
    "ExecuteTime": {
     "end_time": "2018-07-06T20:13:16.628911Z",
     "start_time": "2018-07-06T20:13:14.935143Z"
    }
   },
   "outputs": [],
   "source": [
    "from environment import *\n",
    "from setting import *"
   ]
  },
  {
   "cell_type": "code",
   "execution_count": null,
   "metadata": {},
   "outputs": [],
   "source": [
    "feature_x_sample = pd.read_table(\n",
    "    PATH_DICT['feature_x_sample_file_path'],\n",
    "    index_col=0,\n",
    ")"
   ]
  },
  {
   "cell_type": "code",
   "execution_count": null,
   "metadata": {},
   "outputs": [],
   "source": [
    "signal_matrix = pd.DataFrame(\n",
    "    ccal.normalize_nd_array(\n",
    "        feature_x_sample.values,\n",
    "        1,\n",
    "        '0-1',\n",
    "    ),\n",
    "    index=feature_x_sample.index,\n",
    "    columns=feature_x_sample.columns,\n",
    ")\n",
    "\n",
    "signal_matrix.to_csv(\n",
    "    PATH_DICT['signal_matrix_file_path'],\n",
    "    sep='\\t',\n",
    ")\n",
    "\n",
    "signal_matrix"
   ]
  },
  {
   "cell_type": "code",
   "execution_count": null,
   "metadata": {},
   "outputs": [],
   "source": [
    "signal_matrix.to_csv(\n",
    "    PATH_DICT['selected_signal_matrix_file_path'],\n",
    "    sep='\\t',\n",
    ")\n",
    "\n",
    "ccal.summarize_feature_x_sample(\n",
    "    selected_signal_matrix,\n",
    "    title='Selected Signal Matrix',\n",
    ")\n",
    "\n",
    "selected_signal_matrix"
   ]
  }
 ],
 "metadata": {
  "kernelspec": {
   "display_name": "Python 3",
   "language": "python",
   "name": "python3"
  },
  "language_info": {
   "codemirror_mode": {
    "name": "ipython",
    "version": 3
   },
   "file_extension": ".py",
   "mimetype": "text/x-python",
   "name": "python",
   "nbconvert_exporter": "python",
   "pygments_lexer": "ipython3",
   "version": "3.6.7"
  }
 },
 "nbformat": 4,
 "nbformat_minor": 2
}
