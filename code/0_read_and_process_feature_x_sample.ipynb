{
 "cells": [
  {
   "cell_type": "code",
   "execution_count": null,
   "metadata": {
    "ExecuteTime": {
     "end_time": "2018-07-06T09:43:23.708162Z",
     "start_time": "2018-07-06T09:43:23.691484Z"
    }
   },
   "outputs": [],
   "source": [
    "%load_ext autoreload\n",
    "%autoreload 2"
   ]
  },
  {
   "cell_type": "code",
   "execution_count": null,
   "metadata": {
    "ExecuteTime": {
     "end_time": "2018-07-06T20:13:16.628911Z",
     "start_time": "2018-07-06T20:13:14.935143Z"
    }
   },
   "outputs": [],
   "source": [
    "from __init__ import *\n",
    "\n",
    "PROJECT_JSON = kraft.read_json(\"../project.json\")\n",
    "\n",
    "PATH = make_path_dict(PROJECT_JSON)"
   ]
  },
  {
   "cell_type": "code",
   "execution_count": null,
   "metadata": {},
   "outputs": [],
   "source": [
    "feature_x_sample = pd.read_csv(\n",
    "    PROJECT_JSON[\"feature_x_sample_file_path\"], sep=\"\\t\", index_col=0\n",
    ")\n",
    "\n",
    "feature_x_sample.columns.name = PROJECT_JSON[\"sample_alias\"]"
   ]
  },
  {
   "cell_type": "code",
   "execution_count": null,
   "metadata": {},
   "outputs": [],
   "source": [
    "summarize_feature_x_sample_keyword_arguments = {\n",
    "    \"feature_x_sample_alias\": PROJECT_JSON[\"feature_x_sample_alias\"],\n",
    "    \"feature_x_sample_value_name\": PROJECT_JSON[\"feature_x_sample_value_name\"],\n",
    "    \"plot_heat_map_max_size\": PROJECT_JSON[\"plot_heat_map_max_size\"],\n",
    "    \"plot_histogram_max_size\": PROJECT_JSON[\"plot_histogram_max_size\"],\n",
    "}"
   ]
  },
  {
   "cell_type": "code",
   "execution_count": null,
   "metadata": {
    "ExecuteTime": {
     "end_time": "2018-07-06T09:43:34.025342Z",
     "start_time": "2018-07-06T09:43:25.415930Z"
    }
   },
   "outputs": [],
   "source": [
    "feature_x_sample_processed = kraft.process_feature_x_sample(\n",
    "    feature_x_sample,\n",
    "    features_to_drop=PROJECT_JSON[\"features_to_drop\"],\n",
    "    samples_to_drop=PROJECT_JSON[\"samples_to_drop\"],\n",
    "    nanize=PROJECT_JSON[\"nanize\"],\n",
    "    drop_axis=PROJECT_JSON[\"drop_axis\"],\n",
    "    max_na=PROJECT_JSON[\"max_na\"],\n",
    "    min_n_not_na_value=PROJECT_JSON[\"min_n_not_na_value\"],\n",
    "    min_n_not_na_unique_value=PROJECT_JSON[\"min_n_not_na_unique_value\"],\n",
    "    shift_as_necessary_to_achieve_min_before_logging=PROJECT_JSON[\n",
    "        \"shift_as_necessary_to_achieve_min_before_logging\"\n",
    "    ],\n",
    "    log_base=PROJECT_JSON[\"log_base\"],\n",
    "    normalization_axis=PROJECT_JSON[\"normalization_axis\"],\n",
    "    normalization_method=PROJECT_JSON[\"normalization_method\"],\n",
    "    clip_min=PROJECT_JSON[\"clip_min\"],\n",
    "    clip_max=PROJECT_JSON[\"clip_max\"],\n",
    "    **summarize_feature_x_sample_keyword_arguments,\n",
    ")"
   ]
  },
  {
   "cell_type": "code",
   "execution_count": null,
   "metadata": {},
   "outputs": [],
   "source": [
    "if PROJECT_JSON[\"select_gene_symbol\"]:\n",
    "\n",
    "    feature_x_sample_processed = feature_x_sample_processed.loc[\n",
    "        feature_x_sample_processed.index & kraft.select_gene_symbol()\n",
    "    ]\n",
    "\n",
    "    kraft.summarize_feature_x_sample(\n",
    "        feature_x_sample_processed, **summarize_feature_x_sample_keyword_arguments\n",
    "    )"
   ]
  },
  {
   "cell_type": "code",
   "execution_count": null,
   "metadata": {},
   "outputs": [],
   "source": [
    "feature_x_sample_processed.to_csv(PATH[\"feature_x_sample.processed.tsv\"], sep=\"\\t\")\n",
    "\n",
    "feature_x_sample_processed"
   ]
  }
 ],
 "metadata": {
  "@webio": {
   "lastCommId": null,
   "lastKernelId": null
  },
  "kernelspec": {
   "display_name": "Python 3",
   "language": "python",
   "name": "python3"
  },
  "language_info": {
   "codemirror_mode": {
    "name": "ipython",
    "version": 3
   },
   "file_extension": ".py",
   "mimetype": "text/x-python",
   "name": "python",
   "nbconvert_exporter": "python",
   "pygments_lexer": "ipython3",
   "version": "3.7.3"
  }
 },
 "nbformat": 4,
 "nbformat_minor": 4
}
