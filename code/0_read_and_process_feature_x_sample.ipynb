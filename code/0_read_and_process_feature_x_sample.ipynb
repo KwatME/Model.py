{
 "cells": [
  {
   "cell_type": "code",
   "execution_count": null,
   "metadata": {
    "ExecuteTime": {
     "end_time": "2018-07-06T09:43:23.708162Z",
     "start_time": "2018-07-06T09:43:23.691484Z"
    }
   },
   "outputs": [],
   "source": [
    "%load_ext autoreload\n",
    "%autoreload 2"
   ]
  },
  {
   "cell_type": "code",
   "execution_count": null,
   "metadata": {
    "ExecuteTime": {
     "end_time": "2018-07-06T20:13:16.628911Z",
     "start_time": "2018-07-06T20:13:14.935143Z"
    }
   },
   "outputs": [],
   "source": [
    "from environment import *\n",
    "\n",
    "with open(\"setting.yaml\") as yaml_file:\n",
    "\n",
    "    SETTING = yaml.load(yaml_file)\n",
    "\n",
    "PATH = make_path_dict(SETTING)"
   ]
  },
  {
   "cell_type": "code",
   "execution_count": null,
   "metadata": {},
   "outputs": [],
   "source": [
    "feature_x_sample = pd.read_csv(\n",
    "    SETTING[\"feature_x_sample_file_path\"], sep=\"\\t\", index_col=0\n",
    ")\n",
    "\n",
    "feature_x_sample.index.name = SETTING[\"feature_alias\"]\n",
    "\n",
    "feature_x_sample.columns.name = SETTING[\"sample_alias\"]"
   ]
  },
  {
   "cell_type": "code",
   "execution_count": null,
   "metadata": {},
   "outputs": [],
   "source": [
    "summarize_feature_x_sample_kwargs = {\n",
    "    \"feature_x_sample_alias\": SETTING[\"feature_x_sample_alias\"],\n",
    "    \"feature_x_sample_value_name\": SETTING[\"feature_x_sample_value_name\"],\n",
    "    \"plot_heat_map_max_size\": SETTING[\"plot_heat_map_max_size\"],\n",
    "    \"plot_histogram_max_size\": SETTING[\"plot_histogram_max_size\"],\n",
    "    \"plot_rug_max_size\": SETTING[\"plot_rug_max_size\"],\n",
    "}"
   ]
  },
  {
   "cell_type": "code",
   "execution_count": null,
   "metadata": {
    "ExecuteTime": {
     "end_time": "2018-07-06T09:43:34.025342Z",
     "start_time": "2018-07-06T09:43:25.415930Z"
    }
   },
   "outputs": [],
   "source": [
    "feature_x_sample_processed = ccal.process_feature_x_sample(\n",
    "    feature_x_sample,\n",
    "    features_to_drop=SETTING[\"features_to_drop\"],\n",
    "    samples_to_drop=SETTING[\"samples_to_drop\"],\n",
    "    nanize=SETTING[\"nanize\"],\n",
    "    drop_axis=SETTING[\"drop_axis\"],\n",
    "    max_na=SETTING[\"max_na\"],\n",
    "    min_n_not_na_unique_value=SETTING[\"min_n_not_na_unique_value\"],\n",
    "    shift_as_necessary_to_achieve_min_before_logging=SETTING[\n",
    "        \"shift_as_necessary_to_achieve_min_before_logging\"\n",
    "    ],\n",
    "    log_base=SETTING[\"log_base\"],\n",
    "    normalization_axis=SETTING[\"normalization_axis\"],\n",
    "    normalization_method=SETTING[\"normalization_method\"],\n",
    "    clip_min=SETTING[\"clip_min\"],\n",
    "    clip_max=SETTING[\"clip_max\"],\n",
    "    **summarize_feature_x_sample_kwargs,\n",
    ")"
   ]
  },
  {
   "cell_type": "code",
   "execution_count": null,
   "metadata": {},
   "outputs": [],
   "source": [
    "if SETTING[\"select_gene_symbol\"]:\n",
    "\n",
    "    feature_x_sample_processed = feature_x_sample_processed.loc[\n",
    "        feature_x_sample_processed.index & ccal.select_gene_symbol()\n",
    "    ]\n",
    "\n",
    "    feature_x_sample_processed.index.name = SETTING[\"feature_alias\"]\n",
    "\n",
    "    ccal.summarize_feature_x_sample(\n",
    "        feature_x_sample_processed, **summarize_feature_x_sample_kwargs\n",
    "    )"
   ]
  },
  {
   "cell_type": "code",
   "execution_count": null,
   "metadata": {},
   "outputs": [],
   "source": [
    "feature_x_sample_processed = ccal.clean_and_write_df_to_tsv(\n",
    "    feature_x_sample_processed,\n",
    "    feature_x_sample_processed.index.name,\n",
    "    PATH[\"feature_x_sample.processed.tsv\"],\n",
    ")\n",
    "\n",
    "feature_x_sample_processed"
   ]
  }
 ],
 "metadata": {
  "kernelspec": {
   "display_name": "Python 3",
   "language": "python",
   "name": "python3"
  },
  "language_info": {
   "codemirror_mode": {
    "name": "ipython",
    "version": 3
   },
   "file_extension": ".py",
   "mimetype": "text/x-python",
   "name": "python",
   "nbconvert_exporter": "python",
   "pygments_lexer": "ipython3",
   "version": "3.6.7"
  }
 },
 "nbformat": 4,
 "nbformat_minor": 2
}
