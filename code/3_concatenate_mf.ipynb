{
 "cells": [
  {
   "cell_type": "code",
   "execution_count": null,
   "metadata": {},
   "outputs": [],
   "source": [
    "%load_ext autoreload\n",
    "%autoreload 2"
   ]
  },
  {
   "cell_type": "code",
   "execution_count": null,
   "metadata": {},
   "outputs": [],
   "source": [
    "from __init__ import *"
   ]
  },
  {
   "cell_type": "code",
   "execution_count": null,
   "metadata": {},
   "outputs": [],
   "source": [
    "model_mode = SETTING[\"model_mode\"]\n",
    "\n",
    "n_data_dicts = len(SETTING[\"model_data_dicts\"])\n",
    "\n",
    "if model_mode == \"range\":\n",
    "\n",
    "    n_w = 1\n",
    "\n",
    "    n_h = n_data_dicts\n",
    "\n",
    "elif model_mode == \"deep\":\n",
    "\n",
    "    n_w = n_data_dicts\n",
    "\n",
    "    n_h = 1"
   ]
  },
  {
   "cell_type": "code",
   "execution_count": null,
   "metadata": {},
   "outputs": [],
   "source": [
    "mf_directory_path = \"{}/mf\".format(SETTING[\"output_directory_path\"])\n",
    "\n",
    "kraft.establish_path(mf_directory_path, \"directory\")"
   ]
  },
  {
   "cell_type": "code",
   "execution_count": null,
   "metadata": {},
   "outputs": [],
   "source": [
    "for w_h_str in (\"w\", \"h\"):\n",
    "\n",
    "    if w_h_str == \"w\":\n",
    "\n",
    "        n = n_w\n",
    "\n",
    "        concat_axis = 1\n",
    "\n",
    "    else:\n",
    "\n",
    "        n = n_h\n",
    "\n",
    "        concat_axis = 0\n",
    "\n",
    "    for i in range(n):\n",
    "\n",
    "        ws_hs = []\n",
    "\n",
    "        for r in SETTING[\"mf_rs\"]:\n",
    "\n",
    "            ws_hs.append(\n",
    "                pd.read_csv(\n",
    "                    \"{}/mf_r{}/{}{}.tsv\".format(\n",
    "                        SETTING[\"output_directory_path\"], r, w_h_str, i\n",
    "                    ),\n",
    "                    sep=\"\\t\",\n",
    "                    index_col=0,\n",
    "                )\n",
    "            )\n",
    "\n",
    "        w_h = pd.concat(ws_hs, axis=concat_axis)\n",
    "\n",
    "        w_h.to_csv(\"{}/{}{}.tsv\".format(mf_directory_path, w_h_str, i), sep=\"\\t\")"
   ]
  }
 ],
 "metadata": {
  "kernelspec": {
   "display_name": "Python 3",
   "language": "python",
   "name": "python3"
  },
  "language_info": {
   "codemirror_mode": {
    "name": "ipython",
    "version": 3
   },
   "file_extension": ".py",
   "mimetype": "text/x-python",
   "name": "python",
   "nbconvert_exporter": "python",
   "pygments_lexer": "ipython3",
   "version": "3.7.3"
  }
 },
 "nbformat": 4,
 "nbformat_minor": 4
}
