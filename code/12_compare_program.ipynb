{
 "cells": [
  {
   "cell_type": "code",
   "execution_count": null,
   "metadata": {
    "ExecuteTime": {
     "end_time": "2018-07-08T00:30:32.513083Z",
     "start_time": "2018-07-08T00:30:32.501224Z"
    }
   },
   "outputs": [],
   "source": [
    "%load_ext autoreload\n",
    "\n",
    "%autoreload 2"
   ]
  },
  {
   "cell_type": "code",
   "execution_count": null,
   "metadata": {
    "ExecuteTime": {
     "end_time": "2018-07-08T00:30:34.623086Z",
     "start_time": "2018-07-08T00:30:32.514708Z"
    }
   },
   "outputs": [],
   "source": [
    "from environment import *\n",
    "\n",
    "import analysis as a\n",
    "\n",
    "p = path(a)"
   ]
  },
  {
   "cell_type": "code",
   "execution_count": null,
   "metadata": {
    "ExecuteTime": {
     "end_time": "2018-07-08T00:30:34.729664Z",
     "start_time": "2018-07-08T00:30:34.683851Z"
    },
    "scrolled": false
   },
   "outputs": [],
   "source": [
    "for k in (\n",
    "    2,\n",
    "    3,\n",
    "    a.NMF_K,\n",
    "    8,\n",
    "):\n",
    "    \n",
    "    for h_name_0, h_name_1 in itertools.combinations(\n",
    "        (\n",
    "            (\n",
    "                pd.read_table(\n",
    "                    p['h_file_path'].replace(\n",
    "                        'k4',\n",
    "                        'k{}'.format(k),\n",
    "                    ),\n",
    "                    index_col=0,\n",
    "                ),\n",
    "                'Positive Context Program',\n",
    "            ),\n",
    "            (\n",
    "                pd.read_table(\n",
    "                    p['h_file_path'].replace(\n",
    "                        'mrna_ccle_glioma',\n",
    "                        'mrna_ccle_glioma_both',\n",
    "                    ).replace(\n",
    "                        'k4',\n",
    "                        'k{}'.format(k),\n",
    "                    ),\n",
    "                    index_col=0,\n",
    "                ),\n",
    "                'Both Context Program',\n",
    "            ),\n",
    "            (\n",
    "                pd.read_table(\n",
    "                    '../data/kras_map/nmf_k9_h.tsv',\n",
    "                    index_col=0,\n",
    "                ),\n",
    "                'KRAS Program',\n",
    "            ),\n",
    "        ),\n",
    "        2,\n",
    "    ):\n",
    "\n",
    "        h_0, h_0_name = h_name_0\n",
    "\n",
    "        h_1, h_1_name = h_name_1\n",
    "\n",
    "        common_elements = h_0.columns & h_1.columns\n",
    "\n",
    "        if 0 < common_elements.size:\n",
    "\n",
    "            ccal.make_comparison_panel(\n",
    "                h_0[common_elements],\n",
    "                h_1[common_elements],\n",
    "                title='Program Comparison ({} common elements)'.format(common_elements.size),\n",
    "                name_0=h_0_name,\n",
    "                name_1=h_1_name,\n",
    "            )"
   ]
  }
 ],
 "metadata": {
  "kernelspec": {
   "display_name": "Python 3",
   "language": "python",
   "name": "python3"
  },
  "language_info": {
   "codemirror_mode": {
    "name": "ipython",
    "version": 3
   },
   "file_extension": ".py",
   "mimetype": "text/x-python",
   "name": "python",
   "nbconvert_exporter": "python",
   "pygments_lexer": "ipython3",
   "version": "3.5.5"
  }
 },
 "nbformat": 4,
 "nbformat_minor": 2
}
