{
 "cells": [
  {
   "cell_type": "code",
   "execution_count": null,
   "metadata": {
    "ExecuteTime": {
     "end_time": "2018-07-06T18:37:36.653167Z",
     "start_time": "2018-07-06T18:37:36.642199Z"
    }
   },
   "outputs": [],
   "source": [
    "%load_ext autoreload\n",
    "%autoreload 2"
   ]
  },
  {
   "cell_type": "code",
   "execution_count": null,
   "metadata": {
    "ExecuteTime": {
     "end_time": "2018-07-06T18:37:38.413000Z",
     "start_time": "2018-07-06T18:37:36.654831Z"
    }
   },
   "outputs": [],
   "source": [
    "from environment import *\n",
    "from setting import *"
   ]
  },
  {
   "cell_type": "code",
   "execution_count": null,
   "metadata": {
    "ExecuteTime": {
     "end_time": "2018-07-06T18:37:38.787551Z",
     "start_time": "2018-07-06T18:37:38.416018Z"
    }
   },
   "outputs": [],
   "source": [
    "signal = pd.read_table(\n",
    "    PATH_DICT[\"feature_x_sample.context_signal.tsv\"], index_col=0\n",
    ").fillna(0)"
   ]
  },
  {
   "cell_type": "code",
   "execution_count": null,
   "metadata": {
    "ExecuteTime": {
     "end_time": "2018-07-06T18:38:44.148873Z",
     "start_time": "2018-07-06T18:37:38.790145Z"
    }
   },
   "outputs": [],
   "source": [
    "k_nmfcc = ccal.nmf_consensus_cluster_with_multiple_k(\n",
    "    signal,\n",
    "    NMF_KS,\n",
    "    n_job=MAX_N_JOB,\n",
    "    plot_df=signal.size < PLOT_HEAT_MAP_MAX_SIZE,\n",
    "    plot_w=signal.shape[0] < PLOT_CLUSTER_MAX_SIZE,\n",
    "    plot_h=signal.shape[1] < PLOT_CLUSTER_MAX_SIZE,\n",
    "    directory_path=PATH_DICT[\"nmf/\"],\n",
    ")"
   ]
  },
  {
   "cell_type": "code",
   "execution_count": null,
   "metadata": {
    "ExecuteTime": {
     "end_time": "2018-07-06T18:41:44.586657Z",
     "start_time": "2018-07-06T18:38:44.151540Z"
    }
   },
   "outputs": [],
   "source": [
    "w = pd.read_table(PATH_DICT[\"w.tsv\"], index_col=0)\n",
    "\n",
    "h = pd.read_table(PATH_DICT[\"h.tsv\"], index_col=0)\n",
    "\n",
    "w.columns.name = \"P\"\n",
    "\n",
    "h.columns.name = SAMPLE_ALIAS"
   ]
  },
  {
   "cell_type": "code",
   "execution_count": null,
   "metadata": {
    "ExecuteTime": {
     "end_time": "2018-07-06T18:41:44.586657Z",
     "start_time": "2018-07-06T18:38:44.151540Z"
    }
   },
   "outputs": [],
   "source": [
    "for w_or_h, w_or_h_df in ((\"w\", w), (\"h\", h)):\n",
    "\n",
    "    if w_or_h == \"w\":\n",
    "\n",
    "        normalization_axis = 1\n",
    "\n",
    "        cluster_axis = 0\n",
    "\n",
    "    elif w_or_h == \"h\":\n",
    "\n",
    "        normalization_axis = 0\n",
    "\n",
    "        cluster_axis = 1\n",
    "\n",
    "    if w_or_h_df.shape[cluster_axis] < PLOT_CLUSTER_MAX_SIZE:\n",
    "\n",
    "        ccal.plot_heat_map(\n",
    "            w_or_h_df,\n",
    "            normalization_axis=normalization_axis,\n",
    "            normalization_method=\"-0-\",\n",
    "            cluster_axis=cluster_axis,\n",
    "            title=\"NMF K={} {}\".format(NMF_K, w_or_h.title()),\n",
    "            xaxis_title=w_or_h_df.columns.name,\n",
    "            yaxis_title=w_or_h_df.index.name,\n",
    "        )"
   ]
  },
  {
   "cell_type": "code",
   "execution_count": null,
   "metadata": {
    "ExecuteTime": {
     "end_time": "2018-07-06T18:41:44.586657Z",
     "start_time": "2018-07-06T18:38:44.151540Z"
    }
   },
   "outputs": [],
   "source": [
    "for w_or_h, w_or_h_df in ((\"w\", w.T), (\"h\", h)):\n",
    "\n",
    "    ccal.make_comparison_panel(\n",
    "        w_or_h_df,\n",
    "        w_or_h_df,\n",
    "        axis=1,\n",
    "        title=\"NMF K={} {}\".format(NMF_K, w_or_h.title()),\n",
    "        name_0=w_or_h_df.index.name,\n",
    "        name_1=w_or_h_df.index.name,\n",
    "    )"
   ]
  },
  {
   "cell_type": "code",
   "execution_count": null,
   "metadata": {},
   "outputs": [],
   "source": [
    "for element_x_p, alias, elements_to_peek in (\n",
    "    (w, FEATURE_ALIAS, FEATURES_TO_PEEK),\n",
    "    (h.T, SAMPLE_ALIAS, SAMPLES_TO_PEEK),\n",
    "):\n",
    "\n",
    "    if \"negative\" in CONTEXTS and \"positive\" in CONTEXTS:\n",
    "\n",
    "        elements_to_peek = tuple(\n",
    "            (\"(-) {}\".format(element_name) for element_name in elements_to_peek)\n",
    "        ) + tuple((\"(+) {}\".format(element_name) for element_name in elements_to_peek))\n",
    "\n",
    "    ccal.plot_bubble_map(\n",
    "        element_x_p.reindex(index=elements_to_peek).dropna(how=\"all\"),\n",
    "        title=\"{} to Peek\".format(alias),\n",
    "        xaxis_title=\"P\",\n",
    "        yaxis_title=alias,\n",
    "    )"
   ]
  },
  {
   "cell_type": "code",
   "execution_count": null,
   "metadata": {
    "ExecuteTime": {
     "end_time": "2018-07-06T18:52:29.719653Z",
     "start_time": "2018-07-06T18:41:44.588542Z"
    }
   },
   "outputs": [],
   "source": [
    "feature_x_sample = pd.read_table(FEATURE_X_SAMPLE_FILE_PATH, index_col=0)\n",
    "\n",
    "for (\n",
    "    w_or_h,\n",
    "    target_x_element,\n",
    "    element_x_element_signal,\n",
    "    element_x_element_raw,\n",
    "    directory_path,\n",
    ") in (\n",
    "    (\"w\", w.T, signal.T, feature_x_sample.T, PATH_DICT[\"w|match/\"]),\n",
    "    (\"h\", h, signal, feature_x_sample, PATH_DICT[\"h|match/\"]),\n",
    "):\n",
    "\n",
    "    ccal.make_match_panels(\n",
    "        target_x_element,\n",
    "        {\n",
    "            \"signal\": {\"df\": element_x_element_signal, \"data_type\": \"continuous\"},\n",
    "            FEATURE_X_SAMPLE_VALUE_NAME: {\n",
    "                \"df\": element_x_element_raw,\n",
    "                \"data_type\": \"continuous\",\n",
    "            },\n",
    "        },\n",
    "        n_job=MAX_N_JOB,\n",
    "        n_required_for_match_function=0.64,\n",
    "        extreme_feature_threshold=EXTREME_FEATURE_THRESHOLD,\n",
    "        plot_std=PLOT_STD,\n",
    "        directory_path=directory_path,\n",
    "    )"
   ]
  },
  {
   "cell_type": "code",
   "execution_count": null,
   "metadata": {
    "ExecuteTime": {
     "end_time": "2018-07-06T18:41:44.586657Z",
     "start_time": "2018-07-06T18:38:44.151540Z"
    }
   },
   "outputs": [],
   "source": [
    "for w_or_h, w_or_h_df in ((\"w\", w.T), (\"h\", h)):\n",
    "\n",
    "    for p, values in w_or_h_df.iterrows():\n",
    "\n",
    "        ccal.select_series_low_and_high_index(\n",
    "            values,\n",
    "            title=\"NMF K={} {} {} Signature\".format(NMF_K, w_or_h.title(), p),\n",
    "            file_path_prefix=\"{}/{}\".format(\n",
    "                PATH_DICT[\"{}|signature/\".format(w_or_h)], p\n",
    "            ),\n",
    "        )"
   ]
  }
 ],
 "metadata": {
  "kernelspec": {
   "display_name": "Python 3",
   "language": "python",
   "name": "python3"
  },
  "language_info": {
   "codemirror_mode": {
    "name": "ipython",
    "version": 3
   },
   "file_extension": ".py",
   "mimetype": "text/x-python",
   "name": "python",
   "nbconvert_exporter": "python",
   "pygments_lexer": "ipython3",
   "version": "3.6.7"
  }
 },
 "nbformat": 4,
 "nbformat_minor": 2
}
