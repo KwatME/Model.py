{
 "cells": [
  {
   "cell_type": "code",
   "execution_count": null,
   "metadata": {
    "ExecuteTime": {
     "end_time": "2018-07-06T20:13:14.932963Z",
     "start_time": "2018-07-06T20:13:14.920835Z"
    }
   },
   "outputs": [],
   "source": [
    "%load_ext autoreload\n",
    "\n",
    "%autoreload 2"
   ]
  },
  {
   "cell_type": "code",
   "execution_count": null,
   "metadata": {
    "ExecuteTime": {
     "end_time": "2018-07-06T20:13:16.628911Z",
     "start_time": "2018-07-06T20:13:14.935143Z"
    }
   },
   "outputs": [],
   "source": [
    "from environment import *\n",
    "\n",
    "import setting\n",
    "\n",
    "path_dict = path(setting)"
   ]
  },
  {
   "cell_type": "code",
   "execution_count": null,
   "metadata": {
    "ExecuteTime": {
     "end_time": "2018-07-06T20:13:20.168845Z",
     "start_time": "2018-07-06T20:13:16.631530Z"
    }
   },
   "outputs": [],
   "source": [
    "feature_1d_context_matrix = pd.read_table(\n",
    "    path_dict['feature_context_matrix_file_path'],\n",
    "    index_col=0,\n",
    ").fillna(0)\n",
    "\n",
    "sample_1d_context_matrix = pd.read_table(\n",
    "    path_dict['sample_context_matrix_file_path'],\n",
    "    index_col=0,\n",
    ").fillna(0)"
   ]
  },
  {
   "cell_type": "code",
   "execution_count": null,
   "metadata": {},
   "outputs": [],
   "source": [
    "# def normalize_signal_matrix(signal_matrix):\n",
    "    \n",
    "#     return  pd.DataFrame(\n",
    "#         ccal.normalize_nd_array(\n",
    "#             signal_matrix.values,\n",
    "#             1,\n",
    "#             '0-1',\n",
    "#         ),\n",
    "#         index=signal_matrix.index,\n",
    "#         columns=signal_matrix.columns,\n",
    "#     )"
   ]
  },
  {
   "cell_type": "code",
   "execution_count": null,
   "metadata": {},
   "outputs": [],
   "source": [
    "negative_signal_matrix = -feature_1d_context_matrix.clip(upper=0)# + -sample_1d_context_matrix.clip(upper=0).T\n",
    "\n",
    "negative_signal_matrix.index = ('(-) {}'.format(feature) for feature in negative_signal_matrix.index)\n",
    "\n",
    "positive_signal_matrix = feature_1d_context_matrix.clip(lower=0)# + sample_1d_context_matrix.clip(lower=0).T\n",
    "\n",
    "positive_signal_matrix.index = ('(+) {}'.format(feature) for feature in positive_signal_matrix.index)\n",
    "\n",
    "signal_matrix = pd.concat((\n",
    "        negative_signal_matrix,\n",
    "        positive_signal_matrix,\n",
    "))\n",
    "\n",
    "signal_matrix.to_csv(\n",
    "    path_dict['signal_matrix_file_path'],\n",
    "    sep='\\t',\n",
    ")\n",
    "\n",
    "signal_matrix"
   ]
  },
  {
   "cell_type": "code",
   "execution_count": null,
   "metadata": {},
   "outputs": [],
   "source": [
    "# signal_matrix = normalize_signal_matrix(signal_matrix)"
   ]
  },
  {
   "cell_type": "code",
   "execution_count": null,
   "metadata": {},
   "outputs": [],
   "source": [
    "def select_indices(\n",
    "    signal_matrix,\n",
    "    n_top_index,\n",
    "    select_indices_automatically,\n",
    "):\n",
    "    \n",
    "    if n_top_index is None and not select_indices_automatically:\n",
    "        \n",
    "        return signal_matrix.index.tolist()\n",
    "    \n",
    "    else:\n",
    "        \n",
    "        selected_indices = []\n",
    "\n",
    "        for column_name, column in signal_matrix.items():\n",
    "\n",
    "            if n_top_index is not None:\n",
    "\n",
    "                indices = column.dropna().sort_values()[-n_top_index:].index\n",
    "\n",
    "            elif select_indices_automatically:\n",
    "                \n",
    "                raise NotImplementedError()\n",
    "                \n",
    "            selected_indices.append(indices.tolist())\n",
    "        \n",
    "        return list(set(ccal.flatten_nested_iterable(selected_indices)))"
   ]
  },
  {
   "cell_type": "code",
   "execution_count": null,
   "metadata": {},
   "outputs": [],
   "source": [
    "selected_negative_features = select_indices(\n",
    "    negative_signal_matrix,\n",
    "    setting.N_TOP_FEATURE,\n",
    "    setting.SELECT_FEATURE_AUTOMATICALLY,\n",
    ")\n",
    "\n",
    "selected_positive_features = select_indices(\n",
    "    positive_signal_matrix,\n",
    "    setting.N_TOP_FEATURE,\n",
    "    setting.SELECT_FEATURE_AUTOMATICALLY,\n",
    ")\n",
    "\n",
    "print('Selected {} negative and {} positive features.'.format(\n",
    "    len(selected_negative_features),\n",
    "    len(selected_positive_features),\n",
    "))"
   ]
  },
  {
   "cell_type": "code",
   "execution_count": null,
   "metadata": {},
   "outputs": [],
   "source": [
    "if setting.SELECT_CONTEXT == 'negative':\n",
    "    \n",
    "    selected_features = selected_negative_features\n",
    "    \n",
    "elif setting.SELECT_CONTEXT == 'positive':\n",
    "    \n",
    "    selected_features = selected_positive_features\n",
    "    \n",
    "elif setting.SELECT_CONTEXT == 'both':\n",
    "    \n",
    "    selected_features = selected_negative_features + selected_positive_features\n",
    "\n",
    "selected_signal_matrix = signal_matrix.loc[selected_features]\n",
    "\n",
    "selected_signal_matrix.to_csv(\n",
    "    path_dict['selected_signal_matrix_file_path'],\n",
    "    sep='\\t',\n",
    ")\n",
    "\n",
    "selected_signal_matrix"
   ]
  },
  {
   "cell_type": "code",
   "execution_count": null,
   "metadata": {},
   "outputs": [],
   "source": [
    "if selected_signal_matrix.size < 1e6:\n",
    "\n",
    "    ccal.plot_heat_map(\n",
    "        selected_signal_matrix,\n",
    "        title='Selected Signal',\n",
    "        xaxis_title='Feature',\n",
    "        yaxis_title='Sample',\n",
    "    )\n",
    "    \n",
    "values = selected_signal_matrix.unstack()\n",
    "\n",
    "print('{:,} values'.format(len(values)))\n",
    "\n",
    "not_na_values = values.dropna()\n",
    "\n",
    "print('{:,} not-NA values'.format(len(not_na_values)))\n",
    "\n",
    "not_na_or_0_values = not_na_values[not_na_values != 0]\n",
    "\n",
    "print('{:,} not-NA-or-0 values'.format(len(not_na_or_0_values)))\n",
    "    \n",
    "ccal.plot_distributions(\n",
    "    (\n",
    "        'Not-NA',\n",
    "        'Not-NA-or-0',\n",
    "    ),\n",
    "    (\n",
    "        not_na_values,\n",
    "        not_na_or_0_values,\n",
    "    ),\n",
    "    plot_rug=False,\n",
    "    title='Signal Matrix Value Distribution',\n",
    ")\n",
    "\n",
    "for element in (\n",
    "    'feature',\n",
    "    'sample',\n",
    "):\n",
    "    \n",
    "    if element == 'feature':\n",
    "\n",
    "        df = selected_signal_matrix\n",
    "\n",
    "        to_peek = setting.FEATURES_TO_PEEK\n",
    "\n",
    "    elif element == 'sample':\n",
    "\n",
    "        df = selected_signal_matrix.T\n",
    "\n",
    "        to_peek = setting.SAMPLES_TO_PEEK\n",
    "\n",
    "    skew_t_pdf_fit_parameter = pd.read_table(\n",
    "        path_dict['{}_skew_t_pdf_fit_parameter_file_path'.format(element)],\n",
    "        index_col=0,\n",
    "    )\n",
    "\n",
    "    signal_summary = df.sum(axis=1).sort_values()\n",
    "\n",
    "    if to_peek is None:\n",
    "        \n",
    "        ranks = []\n",
    "        \n",
    "    else:\n",
    "        \n",
    "        ranks = np.nonzero([any(peek == index.lstrip('(-+) ') for peek in to_peek) for index in signal_summary.index])[0]\n",
    "    \n",
    "    title = '({}) Selected Signal Sum'.format(element)\n",
    "\n",
    "    ccal.plot_points(\n",
    "        (\n",
    "            'All',\n",
    "            'To Peek',\n",
    "        ),\n",
    "        (\n",
    "            tuple(range(signal_summary.size)),\n",
    "            ranks,\n",
    "        ),\n",
    "        (\n",
    "            signal_summary,\n",
    "            signal_summary[ranks],\n",
    "        ),\n",
    "        texts=(\n",
    "            signal_summary.index,\n",
    "            signal_summary.index[ranks],\n",
    "        ),\n",
    "        modes=(\n",
    "            'markers',\n",
    "            'markers+text',\n",
    "        ),\n",
    "        title=title,\n",
    "        xaxis_title='Rank',\n",
    "        yaxis_title=title,\n",
    "    )"
   ]
  }
 ],
 "metadata": {
  "kernelspec": {
   "display_name": "Python 3",
   "language": "python",
   "name": "python3"
  },
  "language_info": {
   "codemirror_mode": {
    "name": "ipython",
    "version": 3
   },
   "file_extension": ".py",
   "mimetype": "text/x-python",
   "name": "python",
   "nbconvert_exporter": "python",
   "pygments_lexer": "ipython3",
   "version": "3.6.6"
  }
 },
 "nbformat": 4,
 "nbformat_minor": 2
}
