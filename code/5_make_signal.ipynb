{
 "cells": [
  {
   "cell_type": "code",
   "execution_count": null,
   "metadata": {
    "ExecuteTime": {
     "end_time": "2018-06-16T05:48:34.690675Z",
     "start_time": "2018-06-16T05:48:34.675349Z"
    }
   },
   "outputs": [],
   "source": [
    "%load_ext autoreload\n",
    "%autoreload 2"
   ]
  },
  {
   "cell_type": "code",
   "execution_count": null,
   "metadata": {
    "ExecuteTime": {
     "end_time": "2018-06-16T05:48:36.334901Z",
     "start_time": "2018-06-16T05:48:34.692821Z"
    }
   },
   "outputs": [],
   "source": [
    "from environment import *\n",
    "\n",
    "import analysis as a\n",
    "\n",
    "p = make_paths(a)"
   ]
  },
  {
   "cell_type": "code",
   "execution_count": null,
   "metadata": {
    "ExecuteTime": {
     "end_time": "2018-06-16T05:48:40.398996Z",
     "start_time": "2018-06-16T05:48:36.337977Z"
    }
   },
   "outputs": [],
   "source": [
    "feature_1d_context_matrix = pd.read_table(\n",
    "    p['feature_1d_context_matrix_file_path'], index_col=0)\n",
    "\n",
    "sample_1d_context_matrix = pd.read_table(\n",
    "    p['sample_1d_context_matrix_file_path'], index_col=0)"
   ]
  },
  {
   "cell_type": "code",
   "execution_count": null,
   "metadata": {
    "ExecuteTime": {
     "end_time": "2018-06-16T05:48:41.009131Z",
     "start_time": "2018-06-16T05:48:40.400999Z"
    },
    "scrolled": false
   },
   "outputs": [],
   "source": [
    "negative_signal_matrix = ccal.make_2d_signal_matrix(\n",
    "    feature_1d_context_matrix,\n",
    "    sample_1d_context_matrix,\n",
    "    'negative',\n",
    "    features=a.FEATURES,\n",
    "    samples=a.SAMPLES,\n",
    "    n_top_feature=a.N_TOP_FEATURE,\n",
    "    n_top_sample=a.N_TOP_SAMPLE,\n",
    "    select_feature_automatically=a.SELECT_FEATURE_AUTOMATICALLY,\n",
    "    select_sample_automatically=a.SELECT_SAMPLE_AUTOMATICALLY,\n",
    "    feature_normalization_method=a.FEATURE_CONTEXT_NORMALIZATION_METHOD,\n",
    "    sample_normalization_method=a.SAMPLE_CONTEXT_NORMALIZATION_METHOD,\n",
    "    combining_function=a.COMBINING_FUNCTION)\n",
    "\n",
    "negative_signal_matrix"
   ]
  },
  {
   "cell_type": "code",
   "execution_count": null,
   "metadata": {
    "ExecuteTime": {
     "end_time": "2018-06-16T05:48:41.537467Z",
     "start_time": "2018-06-16T05:48:41.011086Z"
    },
    "scrolled": false
   },
   "outputs": [],
   "source": [
    "positive_signal_matrix = ccal.make_2d_signal_matrix(\n",
    "    feature_1d_context_matrix,\n",
    "    sample_1d_context_matrix,\n",
    "    'positive',\n",
    "    features=a.FEATURES,\n",
    "    samples=a.SAMPLES,\n",
    "    n_top_feature=a.N_TOP_FEATURE,\n",
    "    n_top_sample=a.N_TOP_SAMPLE,\n",
    "    select_feature_automatically=a.SELECT_FEATURE_AUTOMATICALLY,\n",
    "    select_sample_automatically=a.SELECT_SAMPLE_AUTOMATICALLY,\n",
    "    feature_normalization_method=a.FEATURE_CONTEXT_NORMALIZATION_METHOD,\n",
    "    sample_normalization_method=a.SAMPLE_CONTEXT_NORMALIZATION_METHOD,\n",
    "    combining_function=a.COMBINING_FUNCTION)\n",
    "\n",
    "positive_signal_matrix"
   ]
  },
  {
   "cell_type": "code",
   "execution_count": null,
   "metadata": {
    "ExecuteTime": {
     "end_time": "2018-06-16T05:48:43.563441Z",
     "start_time": "2018-06-16T05:48:41.539391Z"
    },
    "scrolled": false
   },
   "outputs": [],
   "source": [
    "if a.SELECT_CONTEXT == 'negative':\n",
    "\n",
    "    signal_matrix = negative_signal_matrix\n",
    "\n",
    "elif a.SELECT_CONTEXT == 'positive':\n",
    "\n",
    "    signal_matrix = positive_signal_matrix\n",
    "\n",
    "elif a.SELECT_CONTEXT == 'both':\n",
    "\n",
    "    negative_signal_matrix.index = (\n",
    "        '(-) {}'.format(feature) for feature in negative_signal_matrix.index)\n",
    "\n",
    "    positive_signal_matrix.index = (\n",
    "        '(+) {}'.format(feature) for feature in positive_signal_matrix.index)\n",
    "\n",
    "    signal_matrix = pd.concat((negative_signal_matrix, positive_signal_matrix))\n",
    "    \n",
    "signal_matrix.to_csv(p['signal_matrix_file_path'], sep='\\t')\n",
    "    \n",
    "signal_matrix"
   ]
  },
  {
   "cell_type": "code",
   "execution_count": null,
   "metadata": {},
   "outputs": [],
   "source": [
    "if signal_matrix.size < 1e6:\n",
    "\n",
    "    ccal.plot_heat_map(\n",
    "        signal_matrix, title='({}) Signal'.format(a.SELECT_CONTEXT))"
   ]
  },
  {
   "cell_type": "code",
   "execution_count": null,
   "metadata": {},
   "outputs": [],
   "source": [
    "values = signal_matrix.unstack()\n",
    "\n",
    "print('{:,} values'.format(len(values)))\n",
    "\n",
    "not_na_values = values.dropna()\n",
    "\n",
    "print('{:,} not-NA values'.format(len(not_na_values)))\n",
    "\n",
    "not_na_or_0_values = not_na_values[not_na_values != 0]\n",
    "\n",
    "print('{:,} not-NA-or-0 values'.format(len(not_na_or_0_values)))\n",
    "\n",
    "ccal.plot_distributions(\n",
    "    ('Not-NA Value', 'Not-NA-or-0 Value'), (not_na_values, not_na_or_0_values),\n",
    "    plot_rug=False,\n",
    "    title='Value Distribution')"
   ]
  },
  {
   "cell_type": "code",
   "execution_count": null,
   "metadata": {},
   "outputs": [],
   "source": [
    "for element in ('feature', 'sample'):\n",
    "\n",
    "    if element == 'feature':\n",
    "\n",
    "        df = signal_matrix\n",
    "\n",
    "        to_peek = a.FEATURES_TO_PEEK\n",
    "\n",
    "    elif element == 'sample':\n",
    "\n",
    "        df = signal_matrix.T\n",
    "\n",
    "        to_peek = a.SAMPLES_TO_PEEK\n",
    "\n",
    "    skew_t_pdf_fit_parameter = pd.read_table(\n",
    "        p['{}_skew_t_pdf_fit_parameter_file_path'.format(element)],\n",
    "        index_col=0)\n",
    "\n",
    "    signal_summary = df.sum(axis=1).sort_values()\n",
    "\n",
    "    ranks = [\n",
    "        signal_summary.index.tolist().index(index)\n",
    "        for index in signal_matrix.index & to_peek\n",
    "    ]\n",
    "\n",
    "    title = '({}) Signal Summary'.format(element)\n",
    "\n",
    "    ccal.plot_points(\n",
    "        ('All', 'To Peek'), (tuple(range(signal_summary.size)), ranks),\n",
    "        (signal_summary, signal_summary[ranks]),\n",
    "        texts=(signal_summary.index, signal_summary.index[ranks]),\n",
    "        modes=('markers', 'markers+text'),\n",
    "        title=title,\n",
    "        xaxis_title='Rank',\n",
    "        yaxis_title=title)"
   ]
  }
 ],
 "metadata": {
  "kernelspec": {
   "display_name": "Python [default]",
   "language": "python",
   "name": "python3"
  },
  "language_info": {
   "codemirror_mode": {
    "name": "ipython",
    "version": 3
   },
   "file_extension": ".py",
   "mimetype": "text/x-python",
   "name": "python",
   "nbconvert_exporter": "python",
   "pygments_lexer": "ipython3",
   "version": "3.6.5"
  }
 },
 "nbformat": 4,
 "nbformat_minor": 1
}
