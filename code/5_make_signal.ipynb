{
 "cells": [
  {
   "cell_type": "code",
   "execution_count": null,
   "metadata": {
    "ExecuteTime": {
     "end_time": "2018-07-06T20:13:14.932963Z",
     "start_time": "2018-07-06T20:13:14.920835Z"
    }
   },
   "outputs": [],
   "source": [
    "%load_ext autoreload\n",
    "\n",
    "%autoreload 2"
   ]
  },
  {
   "cell_type": "code",
   "execution_count": null,
   "metadata": {
    "ExecuteTime": {
     "end_time": "2018-07-06T20:13:16.628911Z",
     "start_time": "2018-07-06T20:13:14.935143Z"
    }
   },
   "outputs": [],
   "source": [
    "from environment import *\n",
    "\n",
    "import setting\n",
    "\n",
    "path_dict = path(setting)"
   ]
  },
  {
   "cell_type": "code",
   "execution_count": null,
   "metadata": {
    "ExecuteTime": {
     "end_time": "2018-07-06T20:13:20.168845Z",
     "start_time": "2018-07-06T20:13:16.631530Z"
    }
   },
   "outputs": [],
   "source": [
    "feature_1d_context_matrix = pd.read_table(\n",
    "    path_dict['feature_context_matrix_file_path'],\n",
    "    index_col=0,\n",
    ")\n",
    "\n",
    "sample_1d_context_matrix = pd.read_table(\n",
    "    path_dict['sample_context_matrix_file_path'],\n",
    "    index_col=0,\n",
    ")"
   ]
  },
  {
   "cell_type": "code",
   "execution_count": null,
   "metadata": {},
   "outputs": [],
   "source": [
    "def normalize_context_matrix(df):\n",
    "    \n",
    "    df = pd.DataFrame(\n",
    "        ccal.normalize_nd_array(\n",
    "            df.values,\n",
    "            1,\n",
    "            '0-1',\n",
    "            raise_for_bad_value=False,\n",
    "        ),\n",
    "        df.index,\n",
    "        df.columns,\n",
    "    )\n",
    "\n",
    "    rows_without_signal = df.index[df.isna().all(axis=1)]\n",
    "\n",
    "    if rows_without_signal.size:\n",
    "\n",
    "        print('Setting 0 for {} element(s) ...'.format(rows_without_signal.size))\n",
    "\n",
    "        df.loc[rows_without_signal] = 0\n",
    "    \n",
    "    return df"
   ]
  },
  {
   "cell_type": "code",
   "execution_count": null,
   "metadata": {},
   "outputs": [],
   "source": [
    "feature_1d_context_matrix_negative = feature_1d_context_matrix.copy()\n",
    "\n",
    "feature_1d_context_matrix_negative[0 < feature_1d_context_matrix_negative] = 0\n",
    "\n",
    "feature_1d_context_matrix_negative *= -1\n",
    "\n",
    "feature_1d_context_matrix_negative = normalize_context_matrix(feature_1d_context_matrix_negative)"
   ]
  },
  {
   "cell_type": "code",
   "execution_count": null,
   "metadata": {},
   "outputs": [],
   "source": [
    "sample_1d_context_matrix_negative = sample_1d_context_matrix.copy()\n",
    "\n",
    "sample_1d_context_matrix_negative[0 < sample_1d_context_matrix_negative] = 0\n",
    "\n",
    "sample_1d_context_matrix_negative *= -1\n",
    "\n",
    "sample_1d_context_matrix_negative = normalize_context_matrix(sample_1d_context_matrix_negative)"
   ]
  },
  {
   "cell_type": "code",
   "execution_count": null,
   "metadata": {},
   "outputs": [],
   "source": [
    "negative_signal_matrix = feature_1d_context_matrix_negative + sample_1d_context_matrix_negative.T\n",
    "\n",
    "negative_signal_matrix.index = ('(-) {}'.format(feature) for feature in negative_signal_matrix.index)"
   ]
  },
  {
   "cell_type": "code",
   "execution_count": null,
   "metadata": {},
   "outputs": [],
   "source": [
    "feature_1d_context_matrix_positive = feature_1d_context_matrix.copy()\n",
    "\n",
    "feature_1d_context_matrix_positive[feature_1d_context_matrix_positive < 0] = 0\n",
    "\n",
    "feature_1d_context_matrix_positive = normalize_context_matrix(feature_1d_context_matrix_positive)"
   ]
  },
  {
   "cell_type": "code",
   "execution_count": null,
   "metadata": {},
   "outputs": [],
   "source": [
    "sample_1d_context_matrix_positive = sample_1d_context_matrix.copy()\n",
    "\n",
    "sample_1d_context_matrix_positive[sample_1d_context_matrix_positive < 0] = 0\n",
    "\n",
    "sample_1d_context_matrix_positive = normalize_context_matrix(sample_1d_context_matrix_positive)"
   ]
  },
  {
   "cell_type": "code",
   "execution_count": null,
   "metadata": {},
   "outputs": [],
   "source": [
    "positive_signal_matrix = feature_1d_context_matrix_positive + sample_1d_context_matrix_positive.T\n",
    "\n",
    "positive_signal_matrix.index = ('(+) {}'.format(feature) for feature in positive_signal_matrix.index)"
   ]
  },
  {
   "cell_type": "code",
   "execution_count": null,
   "metadata": {},
   "outputs": [],
   "source": [
    "signal_matrix = pd.concat((\n",
    "        negative_signal_matrix,\n",
    "        positive_signal_matrix,\n",
    "    ))\n",
    "\n",
    "signal_matrix"
   ]
  },
  {
   "cell_type": "code",
   "execution_count": null,
   "metadata": {
    "ExecuteTime": {
     "end_time": "2018-07-06T20:13:23.853701Z",
     "start_time": "2018-07-06T20:13:21.981570Z"
    }
   },
   "outputs": [],
   "source": [
    "signal_matrix.to_csv(\n",
    "    path_dict['signal_matrix_file_path'],\n",
    "    sep='\\t',\n",
    ")"
   ]
  },
  {
   "cell_type": "code",
   "execution_count": null,
   "metadata": {},
   "outputs": [],
   "source": [
    "selected_negative_features = ccal.select_elements_by_context(\n",
    "    feature_1d_context_matrix,\n",
    "    'negative',\n",
    "    n_top=setting.N_TOP_FEATURE,\n",
    "    select_automatically=setting.SELECT_FEATURE_AUTOMATICALLY,\n",
    ")\n",
    "\n",
    "selected_negative_features = ['(-) {}'.format(feature) for feature in selected_negative_features]\n",
    "\n",
    "print(len(selected_negative_features))"
   ]
  },
  {
   "cell_type": "code",
   "execution_count": null,
   "metadata": {},
   "outputs": [],
   "source": [
    "selected_positive_features = ccal.select_elements_by_context(\n",
    "    feature_1d_context_matrix,\n",
    "    'positive',\n",
    "    n_top=setting.N_TOP_FEATURE,\n",
    "    select_automatically=setting.SELECT_FEATURE_AUTOMATICALLY,\n",
    ")\n",
    "\n",
    "selected_positive_features = ['(+) {}'.format(feature) for feature in selected_positive_features]\n",
    "\n",
    "print(len(selected_positive_features))"
   ]
  },
  {
   "cell_type": "code",
   "execution_count": null,
   "metadata": {},
   "outputs": [],
   "source": [
    "if setting.SELECT_CONTEXT == 'negative':\n",
    "    \n",
    "    selected_features = selected_negative_features\n",
    "    \n",
    "elif setting.SELECT_CONTEXT == 'positive':\n",
    "    \n",
    "    selected_features = selected_positive_features\n",
    "    \n",
    "elif setting.SELECT_CONTEXT == 'both':\n",
    "    \n",
    "    selected_features = selected_negative_features + selected_positive_features"
   ]
  },
  {
   "cell_type": "code",
   "execution_count": null,
   "metadata": {},
   "outputs": [],
   "source": [
    "selected_signal_matrix = signal_matrix.loc[selected_features]\n",
    "\n",
    "selected_signal_matrix"
   ]
  },
  {
   "cell_type": "code",
   "execution_count": null,
   "metadata": {},
   "outputs": [],
   "source": [
    "selected_signal_matrix.to_csv(\n",
    "    path_dict['selected_signal_matrix_file_path'],\n",
    "    sep='\\t',\n",
    ")"
   ]
  },
  {
   "cell_type": "code",
   "execution_count": null,
   "metadata": {
    "ExecuteTime": {
     "end_time": "2018-07-06T20:13:42.064053Z",
     "start_time": "2018-07-06T20:13:23.880172Z"
    }
   },
   "outputs": [],
   "source": [
    "if selected_signal_matrix.size < 1e6:\n",
    "\n",
    "    ccal.plot_heat_map(\n",
    "        selected_signal_matrix,\n",
    "        title='Selected Signal',\n",
    "    )"
   ]
  },
  {
   "cell_type": "code",
   "execution_count": null,
   "metadata": {
    "ExecuteTime": {
     "end_time": "2018-07-06T20:13:42.064053Z",
     "start_time": "2018-07-06T20:13:23.880172Z"
    }
   },
   "outputs": [],
   "source": [
    "values = selected_signal_matrix.unstack()\n",
    "\n",
    "print('{:,} values'.format(len(values)))\n",
    "\n",
    "not_na_values = values.dropna()\n",
    "\n",
    "print('{:,} not-NA values'.format(len(not_na_values)))\n",
    "\n",
    "not_na_or_0_values = not_na_values[not_na_values != 0]\n",
    "\n",
    "print('{:,} not-NA-or-0 values'.format(len(not_na_or_0_values)))\n",
    "\n",
    "ccal.plot_distributions(\n",
    "    (\n",
    "        'Not-NA Value',\n",
    "        'Not-NA-or-0 Value',\n",
    "    ),\n",
    "    (\n",
    "        not_na_values,\n",
    "        not_na_or_0_values,\n",
    "    ),\n",
    "    plot_rug=False,\n",
    "    title='Value Distribution',\n",
    ")"
   ]
  },
  {
   "cell_type": "code",
   "execution_count": null,
   "metadata": {
    "ExecuteTime": {
     "end_time": "2018-07-06T20:13:42.064053Z",
     "start_time": "2018-07-06T20:13:23.880172Z"
    }
   },
   "outputs": [],
   "source": [
    "for element in (\n",
    "    'feature',\n",
    "    'sample',\n",
    "):\n",
    "    \n",
    "    if element == 'feature':\n",
    "\n",
    "        df = selected_signal_matrix\n",
    "\n",
    "        to_peek = setting.FEATURES_TO_PEEK\n",
    "\n",
    "    elif element == 'sample':\n",
    "\n",
    "        df = selected_signal_matrix.T\n",
    "\n",
    "        to_peek = setting.SAMPLES_TO_PEEK\n",
    "\n",
    "    skew_t_pdf_fit_parameter = pd.read_table(\n",
    "        path_dict['{}_skew_t_pdf_fit_parameter_file_path'.format(element)],\n",
    "        index_col=0,\n",
    "    )\n",
    "\n",
    "    signal_summary = df.sum(axis=1).sort_values()\n",
    "\n",
    "    if to_peek is None:\n",
    "        \n",
    "        ranks = []\n",
    "        \n",
    "    else:\n",
    "        \n",
    "        ranks = [signal_summary.index.tolist().index(index) for index in signal_matrix.index & to_peek]\n",
    "\n",
    "    title = '({}) Selected Signal Sum'.format(element)\n",
    "\n",
    "    ccal.plot_points(\n",
    "        (\n",
    "            'All',\n",
    "            'To Peek',\n",
    "        ),\n",
    "        (\n",
    "            tuple(range(signal_summary.size)),\n",
    "            ranks,\n",
    "        ),\n",
    "        (\n",
    "            signal_summary,\n",
    "            signal_summary[ranks],\n",
    "        ),\n",
    "        texts=(\n",
    "            signal_summary.index,\n",
    "            signal_summary.index[ranks],\n",
    "        ),\n",
    "        modes=(\n",
    "            'markers',\n",
    "            'markers+text',\n",
    "        ),\n",
    "        title=title,\n",
    "        xaxis_title='Rank',\n",
    "        yaxis_title=title,\n",
    "    )"
   ]
  }
 ],
 "metadata": {
  "kernelspec": {
   "display_name": "Python 3",
   "language": "python",
   "name": "python3"
  },
  "language_info": {
   "codemirror_mode": {
    "name": "ipython",
    "version": 3
   },
   "file_extension": ".py",
   "mimetype": "text/x-python",
   "name": "python",
   "nbconvert_exporter": "python",
   "pygments_lexer": "ipython3",
   "version": "3.5.5"
  }
 },
 "nbformat": 4,
 "nbformat_minor": 2
}
