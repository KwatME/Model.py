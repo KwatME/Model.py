{
 "cells": [
  {
   "cell_type": "code",
   "execution_count": null,
   "metadata": {
    "ExecuteTime": {
     "end_time": "2018-06-16T05:48:34.690675Z",
     "start_time": "2018-06-16T05:48:34.675349Z"
    }
   },
   "outputs": [],
   "source": [
    "%load_ext autoreload\n",
    "%autoreload 2"
   ]
  },
  {
   "cell_type": "code",
   "execution_count": null,
   "metadata": {
    "ExecuteTime": {
     "end_time": "2018-06-16T05:48:36.334901Z",
     "start_time": "2018-06-16T05:48:34.692821Z"
    }
   },
   "outputs": [],
   "source": [
    "from environment import *\n",
    "\n",
    "import analysis as a\n",
    "\n",
    "p = make_paths(a)"
   ]
  },
  {
   "cell_type": "code",
   "execution_count": null,
   "metadata": {
    "ExecuteTime": {
     "end_time": "2018-06-16T05:48:40.398996Z",
     "start_time": "2018-06-16T05:48:36.337977Z"
    }
   },
   "outputs": [],
   "source": [
    "feature_1d_context_matrix = pd.read_table(\n",
    "    p['feature_1d_context_matrix_file_path'], index_col=0)\n",
    "\n",
    "sample_1d_context_matrix = pd.read_table(\n",
    "    p['sample_1d_context_matrix_file_path'], index_col=0)"
   ]
  },
  {
   "cell_type": "code",
   "execution_count": null,
   "metadata": {
    "ExecuteTime": {
     "end_time": "2018-06-16T05:48:41.009131Z",
     "start_time": "2018-06-16T05:48:40.400999Z"
    },
    "scrolled": false
   },
   "outputs": [],
   "source": [
    "negative_signal_matrix = ccal.make_2d_signal_matrix(\n",
    "    feature_1d_context_matrix,\n",
    "    sample_1d_context_matrix,\n",
    "    'negative',\n",
    "    features=a.FEATURES,\n",
    "    samples=a.SAMPLES,\n",
    "    n_top_feature=a.N_TOP_FEATURE,\n",
    "    n_top_sample=a.N_TOP_SAMPLE,\n",
    "    select_feature_automatically=a.SELECT_FEATURE_AUTOMATICALLY,\n",
    "    select_sample_automatically=a.SELECT_SAMPLE_AUTOMATICALLY,\n",
    "    feature_normalization_method=a.FEATURE_CONTEXT_NORMALIZATION_METHOD,\n",
    "    sample_normalization_method=a.SAMPLE_CONTEXT_NORMALIZATION_METHOD,\n",
    "    combining_function=a.COMBINING_FUNCTION)\n",
    "\n",
    "negative_signal_matrix"
   ]
  },
  {
   "cell_type": "code",
   "execution_count": null,
   "metadata": {
    "ExecuteTime": {
     "end_time": "2018-06-16T05:48:41.537467Z",
     "start_time": "2018-06-16T05:48:41.011086Z"
    },
    "scrolled": false
   },
   "outputs": [],
   "source": [
    "positive_signal_matrix = ccal.make_2d_signal_matrix(\n",
    "    feature_1d_context_matrix,\n",
    "    sample_1d_context_matrix,\n",
    "    'positive',\n",
    "    features=a.FEATURES,\n",
    "    samples=a.SAMPLES,\n",
    "    n_top_feature=a.N_TOP_FEATURE,\n",
    "    n_top_sample=a.N_TOP_SAMPLE,\n",
    "    select_feature_automatically=a.SELECT_FEATURE_AUTOMATICALLY,\n",
    "    select_sample_automatically=a.SELECT_SAMPLE_AUTOMATICALLY,\n",
    "    feature_normalization_method=a.FEATURE_CONTEXT_NORMALIZATION_METHOD,\n",
    "    sample_normalization_method=a.SAMPLE_CONTEXT_NORMALIZATION_METHOD,\n",
    "    combining_function=a.COMBINING_FUNCTION)\n",
    "\n",
    "positive_signal_matrix"
   ]
  },
  {
   "cell_type": "code",
   "execution_count": null,
   "metadata": {
    "ExecuteTime": {
     "end_time": "2018-06-16T05:48:43.563441Z",
     "start_time": "2018-06-16T05:48:41.539391Z"
    },
    "scrolled": false
   },
   "outputs": [],
   "source": [
    "if a.SELECT_CONTEXT == 'negative':\n",
    "\n",
    "    signal_matrix = negative_signal_matrix\n",
    "\n",
    "elif a.SELECT_CONTEXT == 'positive':\n",
    "\n",
    "    signal_matrix = positive_signal_matrix\n",
    "\n",
    "elif a.SELECT_CONTEXT == 'both':\n",
    "\n",
    "    negative_signal_matrix.index = (\n",
    "        '(-) {}'.format(feature) for feature in negative_signal_matrix.index)\n",
    "\n",
    "    positive_signal_matrix.index = (\n",
    "        '(+) {}'.format(feature) for feature in positive_signal_matrix.index)\n",
    "\n",
    "    signal_matrix = pd.concat((negative_signal_matrix, positive_signal_matrix))\n",
    "\n",
    "if signal_matrix.size < 1e6:\n",
    "\n",
    "    ccal.plot_heat_map(\n",
    "        signal_matrix, title='({}) Signal'.format(a.SELECT_CONTEXT))\n",
    "\n",
    "signal_matrix.to_csv(p['signal_matrix_file_path'], sep='\\t')\n",
    "\n",
    "signal_matrix"
   ]
  }
 ],
 "metadata": {
  "kernelspec": {
   "display_name": "Python [default]",
   "language": "python",
   "name": "python3"
  },
  "language_info": {
   "codemirror_mode": {
    "name": "ipython",
    "version": 3
   },
   "file_extension": ".py",
   "mimetype": "text/x-python",
   "name": "python",
   "nbconvert_exporter": "python",
   "pygments_lexer": "ipython3",
   "version": "3.6.5"
  }
 },
 "nbformat": 4,
 "nbformat_minor": 1
}
