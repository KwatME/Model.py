{
 "cells": [
  {
   "cell_type": "code",
   "execution_count": null,
   "metadata": {
    "ExecuteTime": {
     "end_time": "2018-07-06T20:13:14.932963Z",
     "start_time": "2018-07-06T20:13:14.920835Z"
    }
   },
   "outputs": [],
   "source": [
    "%load_ext autoreload\n",
    "%autoreload 2"
   ]
  },
  {
   "cell_type": "code",
   "execution_count": null,
   "metadata": {
    "ExecuteTime": {
     "end_time": "2018-07-06T20:13:16.628911Z",
     "start_time": "2018-07-06T20:13:14.935143Z"
    }
   },
   "outputs": [],
   "source": [
    "from environment import *\n",
    "\n",
    "import analysis as a\n",
    "\n",
    "p = make_paths(a)"
   ]
  },
  {
   "cell_type": "code",
   "execution_count": null,
   "metadata": {
    "ExecuteTime": {
     "end_time": "2018-07-06T20:13:20.168845Z",
     "start_time": "2018-07-06T20:13:16.631530Z"
    }
   },
   "outputs": [],
   "source": [
    "feature_1d_context_matrix = pd.read_table(\n",
    "    p['feature_1d_context_matrix_file_path'],\n",
    "    index_col=0,\n",
    ")\n",
    "\n",
    "sample_1d_context_matrix = pd.read_table(\n",
    "    p['sample_1d_context_matrix_file_path'],\n",
    "    index_col=0,\n",
    ")"
   ]
  },
  {
   "cell_type": "code",
   "execution_count": null,
   "metadata": {
    "ExecuteTime": {
     "end_time": "2018-07-06T20:13:21.101722Z",
     "start_time": "2018-07-06T20:13:20.170994Z"
    },
    "scrolled": false
   },
   "outputs": [],
   "source": [
    "negative_signal_matrix = ccal.make_2d_signal_matrix(\n",
    "    feature_1d_context_matrix,\n",
    "    sample_1d_context_matrix,\n",
    "    'negative',\n",
    "    features=a.FEATURES,\n",
    "    samples=a.SAMPLES,\n",
    "    n_top_feature=a.N_TOP_FEATURE,\n",
    "    n_top_sample=a.N_TOP_SAMPLE,\n",
    "    select_feature_automatically=a.SELECT_FEATURE_AUTOMATICALLY,\n",
    "    select_sample_automatically=a.SELECT_SAMPLE_AUTOMATICALLY,\n",
    "    feature_normalization_method=a.FEATURE_CONTEXT_NORMALIZATION_METHOD,\n",
    "    sample_normalization_method=a.SAMPLE_CONTEXT_NORMALIZATION_METHOD,\n",
    ")\n",
    "\n",
    "negative_signal_matrix"
   ]
  },
  {
   "cell_type": "code",
   "execution_count": null,
   "metadata": {
    "ExecuteTime": {
     "end_time": "2018-07-06T20:13:21.979336Z",
     "start_time": "2018-07-06T20:13:21.103527Z"
    },
    "scrolled": false
   },
   "outputs": [],
   "source": [
    "positive_signal_matrix = ccal.make_2d_signal_matrix(\n",
    "    feature_1d_context_matrix,\n",
    "    sample_1d_context_matrix,\n",
    "    'positive',\n",
    "    features=a.FEATURES,\n",
    "    samples=a.SAMPLES,\n",
    "    n_top_feature=a.N_TOP_FEATURE,\n",
    "    n_top_sample=a.N_TOP_SAMPLE,\n",
    "    select_feature_automatically=a.SELECT_FEATURE_AUTOMATICALLY,\n",
    "    select_sample_automatically=a.SELECT_SAMPLE_AUTOMATICALLY,\n",
    "    feature_normalization_method=a.FEATURE_CONTEXT_NORMALIZATION_METHOD,\n",
    "    sample_normalization_method=a.SAMPLE_CONTEXT_NORMALIZATION_METHOD,\n",
    ")\n",
    "\n",
    "positive_signal_matrix"
   ]
  },
  {
   "cell_type": "code",
   "execution_count": null,
   "metadata": {
    "ExecuteTime": {
     "end_time": "2018-07-06T20:13:23.853701Z",
     "start_time": "2018-07-06T20:13:21.981570Z"
    },
    "scrolled": false
   },
   "outputs": [],
   "source": [
    "if a.SELECT_CONTEXT == 'negative':\n",
    "\n",
    "    signal_matrix = negative_signal_matrix\n",
    "\n",
    "elif a.SELECT_CONTEXT == 'positive':\n",
    "\n",
    "    signal_matrix = positive_signal_matrix\n",
    "\n",
    "elif a.SELECT_CONTEXT == 'both':\n",
    "\n",
    "    negative_signal_matrix.index = ('(-) {}'.format(feature) for feature in negative_signal_matrix.index)\n",
    "\n",
    "    positive_signal_matrix.index = ('(+) {}'.format(feature) for feature in positive_signal_matrix.index)\n",
    "\n",
    "    signal_matrix = pd.concat((\n",
    "            negative_signal_matrix,\n",
    "            positive_signal_matrix,\n",
    "        ))\n",
    "\n",
    "signal_matrix.to_csv(\n",
    "    p['signal_matrix_file_path'],\n",
    "    sep='\\t',\n",
    ")\n",
    "\n",
    "signal_matrix"
   ]
  },
  {
   "cell_type": "code",
   "execution_count": null,
   "metadata": {
    "ExecuteTime": {
     "end_time": "2018-07-06T20:13:23.878644Z",
     "start_time": "2018-07-06T20:13:23.855488Z"
    }
   },
   "outputs": [],
   "source": [
    "if signal_matrix.size < 1e6:\n",
    "\n",
    "    ccal.plot_heat_map(\n",
    "        signal_matrix,\n",
    "        title='({}) Signal'.format(a.SELECT_CONTEXT),\n",
    "    )"
   ]
  },
  {
   "cell_type": "code",
   "execution_count": null,
   "metadata": {
    "ExecuteTime": {
     "end_time": "2018-07-06T20:13:42.064053Z",
     "start_time": "2018-07-06T20:13:23.880172Z"
    }
   },
   "outputs": [],
   "source": [
    "values = signal_matrix.unstack()\n",
    "\n",
    "print('{:,} values'.format(len(values)))\n",
    "\n",
    "not_na_values = values.dropna()\n",
    "\n",
    "print('{:,} not-NA values'.format(len(not_na_values)))\n",
    "\n",
    "not_na_or_0_values = not_na_values[not_na_values != 0]\n",
    "\n",
    "print('{:,} not-NA-or-0 values'.format(len(not_na_or_0_values)))\n",
    "\n",
    "ccal.plot_distributions(\n",
    "    (\n",
    "        'Not-NA Value',\n",
    "        'Not-NA-or-0 Value',\n",
    "    ),\n",
    "    (\n",
    "        not_na_values,\n",
    "        not_na_or_0_values,\n",
    "    ),\n",
    "    plot_rug=False,\n",
    "    title='Value Distribution',\n",
    ")"
   ]
  },
  {
   "cell_type": "code",
   "execution_count": null,
   "metadata": {
    "ExecuteTime": {
     "start_time": "2018-07-06T20:13:14.990Z"
    },
    "scrolled": false
   },
   "outputs": [],
   "source": [
    "for element in (\n",
    "    'feature',\n",
    "    'sample',\n",
    "):\n",
    "    \n",
    "    if element == 'feature':\n",
    "\n",
    "        df = signal_matrix\n",
    "\n",
    "        to_peek = a.FEATURES_TO_PEEK\n",
    "\n",
    "    elif element == 'sample':\n",
    "\n",
    "        df = signal_matrix.T\n",
    "\n",
    "        to_peek = a.SAMPLES_TO_PEEK\n",
    "\n",
    "    skew_t_pdf_fit_parameter = pd.read_table(\n",
    "        p['{}_skew_t_pdf_fit_parameter_file_path'.format(element)],\n",
    "        index_col=0,\n",
    "    )\n",
    "\n",
    "    signal_summary = df.sum(axis=1).sort_values()\n",
    "\n",
    "    if to_peek is None:\n",
    "        \n",
    "        ranks = []\n",
    "        \n",
    "    else:\n",
    "        \n",
    "        ranks = [signal_summary.index.tolist().index(index) for index in signal_matrix.index & to_peek]\n",
    "\n",
    "    title = '({}) Signal Summary'.format(element)\n",
    "\n",
    "    ccal.plot_points(\n",
    "        (\n",
    "            'All',\n",
    "            'To Peek',\n",
    "        ),\n",
    "        (\n",
    "            tuple(range(signal_summary.size)),\n",
    "            ranks,\n",
    "        ),\n",
    "        (\n",
    "            signal_summary,\n",
    "            signal_summary[ranks],\n",
    "        ),\n",
    "        texts=(\n",
    "            signal_summary.index,\n",
    "            signal_summary.index[ranks],\n",
    "        ),\n",
    "        modes=(\n",
    "            'markers',\n",
    "            'markers+text',\n",
    "        ),\n",
    "        title=title,\n",
    "        xaxis_title='Rank',\n",
    "        yaxis_title=title,\n",
    "    )"
   ]
  }
 ],
 "metadata": {
  "kernelspec": {
   "display_name": "Python 3",
   "language": "python",
   "name": "python3"
  },
  "language_info": {
   "codemirror_mode": {
    "name": "ipython",
    "version": 3
   },
   "file_extension": ".py",
   "mimetype": "text/x-python",
   "name": "python",
   "nbconvert_exporter": "python",
   "pygments_lexer": "ipython3",
   "version": "3.5.5"
  }
 },
 "nbformat": 4,
 "nbformat_minor": 2
}
