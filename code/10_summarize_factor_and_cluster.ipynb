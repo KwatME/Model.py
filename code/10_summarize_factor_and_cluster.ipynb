{
 "cells": [
  {
   "cell_type": "code",
   "execution_count": 1,
   "metadata": {
    "ExecuteTime": {
     "end_time": "2018-07-08T00:30:32.513083Z",
     "start_time": "2018-07-08T00:30:32.501224Z"
    }
   },
   "outputs": [],
   "source": [
    "%load_ext autoreload\n",
    "%autoreload 2"
   ]
  },
  {
   "cell_type": "code",
   "execution_count": 2,
   "metadata": {
    "ExecuteTime": {
     "end_time": "2018-07-08T02:00:18.306031Z",
     "start_time": "2018-07-08T02:00:18.276698Z"
    }
   },
   "outputs": [
    {
     "name": "stdout",
     "output_type": "stream",
     "text": [
      "CCAL version 1.0.3 @ /home/kwatme/github/ccal/ccal/__init__.py\n"
     ]
    },
    {
     "data": {
      "text/html": [
       "<script type=\"text/javascript\">window.PlotlyConfig = {MathJaxConfig: 'local'};</script><script type=\"text/javascript\">if (window.MathJax) {MathJax.Hub.Config({SVG: {font: \"STIX-Web\"}});}</script><script>requirejs.config({paths: { 'plotly': ['https://cdn.plot.ly/plotly-latest.min']},});if(!window._Plotly) {require(['plotly'],function(plotly) {window._Plotly=plotly;});}</script>"
      ],
      "text/vnd.plotly.v1+html": [
       "<script type=\"text/javascript\">window.PlotlyConfig = {MathJaxConfig: 'local'};</script><script type=\"text/javascript\">if (window.MathJax) {MathJax.Hub.Config({SVG: {font: \"STIX-Web\"}});}</script><script>requirejs.config({paths: { 'plotly': ['https://cdn.plot.ly/plotly-latest.min']},});if(!window._Plotly) {require(['plotly'],function(plotly) {window._Plotly=plotly;});}</script>"
      ]
     },
     "metadata": {},
     "output_type": "display_data"
    },
    {
     "ename": "PermissionError",
     "evalue": "[Errno 13] Permission denied: '/media/kwatme/CarrotCake'",
     "output_type": "error",
     "traceback": [
      "\u001b[0;31m---------------------------------------------------------------------------\u001b[0m",
      "\u001b[0;31mPermissionError\u001b[0m                           Traceback (most recent call last)",
      "\u001b[0;32m<ipython-input-2-f7dc0ae6a40b>\u001b[0m in \u001b[0;36m<module>\u001b[0;34m\u001b[0m\n\u001b[1;32m      5\u001b[0m     \u001b[0mSETTING\u001b[0m \u001b[0;34m=\u001b[0m \u001b[0myaml\u001b[0m\u001b[0;34m.\u001b[0m\u001b[0mload\u001b[0m\u001b[0;34m(\u001b[0m\u001b[0myaml_file\u001b[0m\u001b[0;34m)\u001b[0m\u001b[0;34m\u001b[0m\u001b[0;34m\u001b[0m\u001b[0m\n\u001b[1;32m      6\u001b[0m \u001b[0;34m\u001b[0m\u001b[0m\n\u001b[0;32m----> 7\u001b[0;31m \u001b[0mPATH\u001b[0m \u001b[0;34m=\u001b[0m \u001b[0mmake_path_dict\u001b[0m\u001b[0;34m(\u001b[0m\u001b[0mSETTING\u001b[0m\u001b[0;34m)\u001b[0m\u001b[0;34m\u001b[0m\u001b[0;34m\u001b[0m\u001b[0m\n\u001b[0m",
      "\u001b[0;32m~/github/model_and_infer/code/make_path_dict.py\u001b[0m in \u001b[0;36mmake_path_dict\u001b[0;34m(setting)\u001b[0m\n\u001b[1;32m     99\u001b[0m             \u001b[0mpath_type\u001b[0m \u001b[0;34m=\u001b[0m \u001b[0;34m\"file\"\u001b[0m\u001b[0;34m\u001b[0m\u001b[0;34m\u001b[0m\u001b[0m\n\u001b[1;32m    100\u001b[0m \u001b[0;34m\u001b[0m\u001b[0m\n\u001b[0;32m--> 101\u001b[0;31m         \u001b[0mestablish_path\u001b[0m\u001b[0;34m(\u001b[0m\u001b[0mpath\u001b[0m\u001b[0;34m,\u001b[0m \u001b[0mpath_type\u001b[0m\u001b[0;34m)\u001b[0m\u001b[0;34m\u001b[0m\u001b[0;34m\u001b[0m\u001b[0m\n\u001b[0m\u001b[1;32m    102\u001b[0m \u001b[0;34m\u001b[0m\u001b[0m\n\u001b[1;32m    103\u001b[0m     \u001b[0;32mfor\u001b[0m \u001b[0mw_or_h\u001b[0m \u001b[0;32min\u001b[0m \u001b[0;34m(\u001b[0m\u001b[0;34m\"w\"\u001b[0m\u001b[0;34m,\u001b[0m \u001b[0;34m\"h\"\u001b[0m\u001b[0;34m)\u001b[0m\u001b[0;34m:\u001b[0m\u001b[0;34m\u001b[0m\u001b[0;34m\u001b[0m\u001b[0m\n",
      "\u001b[0;32m~/github/ccal/ccal/establish_path.py\u001b[0m in \u001b[0;36mestablish_path\u001b[0;34m(path, path_type, print_)\u001b[0m\n\u001b[1;32m     37\u001b[0m     \u001b[0;32mfor\u001b[0m \u001b[0mdirectory_path\u001b[0m \u001b[0;32min\u001b[0m \u001b[0mreversed\u001b[0m\u001b[0;34m(\u001b[0m\u001b[0mmissing_directory_paths\u001b[0m\u001b[0;34m)\u001b[0m\u001b[0;34m:\u001b[0m\u001b[0;34m\u001b[0m\u001b[0;34m\u001b[0m\u001b[0m\n\u001b[1;32m     38\u001b[0m \u001b[0;34m\u001b[0m\u001b[0m\n\u001b[0;32m---> 39\u001b[0;31m         \u001b[0mmkdir\u001b[0m\u001b[0;34m(\u001b[0m\u001b[0mdirectory_path\u001b[0m\u001b[0;34m)\u001b[0m\u001b[0;34m\u001b[0m\u001b[0;34m\u001b[0m\u001b[0m\n\u001b[0m\u001b[1;32m     40\u001b[0m \u001b[0;34m\u001b[0m\u001b[0m\n\u001b[1;32m     41\u001b[0m         \u001b[0;32mif\u001b[0m \u001b[0mprint_\u001b[0m\u001b[0;34m:\u001b[0m\u001b[0;34m\u001b[0m\u001b[0;34m\u001b[0m\u001b[0m\n",
      "\u001b[0;31mPermissionError\u001b[0m: [Errno 13] Permission denied: '/media/kwatme/CarrotCake'"
     ]
    }
   ],
   "source": [
    "from environment import *\n",
    "\n",
    "with open(\"setting.yaml\") as yaml_file:\n",
    "\n",
    "    SETTING = yaml.load(yaml_file)\n",
    "\n",
    "PATH = make_path_dict(SETTING)"
   ]
  },
  {
   "cell_type": "code",
   "execution_count": null,
   "metadata": {},
   "outputs": [],
   "source": [
    "feature_data = SETTING[\"feature_data\"]\n",
    "\n",
    "if feature_data is None:\n",
    "\n",
    "    feature_data = {}\n",
    "\n",
    "for data_name, data_dict in feature_data.items():\n",
    "\n",
    "    print(data_name)\n",
    "\n",
    "    data_dict[\"df\"] = pd.read_csv(data_dict[\"file_path\"], sep=\"\\t\", index_col=0)"
   ]
  },
  {
   "cell_type": "code",
   "execution_count": null,
   "metadata": {},
   "outputs": [],
   "source": [
    "sample_data = SETTING[\"sample_data\"]\n",
    "\n",
    "if sample_data is None:\n",
    "\n",
    "    sample_data = {}\n",
    "\n",
    "for data_name, data_dict in sample_data.items():\n",
    "\n",
    "    print(data_name)\n",
    "\n",
    "    data_dict[\"df\"] = pd.read_csv(data_dict[\"file_path\"], sep=\"\\t\", index_col=0)"
   ]
  },
  {
   "cell_type": "code",
   "execution_count": null,
   "metadata": {},
   "outputs": [],
   "source": [
    "w = pd.read_csv(PATH[\"w.tsv\"], sep=\"\\t\", index_col=0)\n",
    "\n",
    "w.columns.name = \"Factor\"\n",
    "\n",
    "h = pd.read_csv(PATH[\"h.tsv\"], sep=\"\\t\", index_col=0)\n",
    "\n",
    "h.columns.name = SETTING[\"sample_alias\"]"
   ]
  },
  {
   "cell_type": "code",
   "execution_count": null,
   "metadata": {},
   "outputs": [],
   "source": [
    "w__cluster_x_element = pd.read_csv(\n",
    "    PATH[\"w|cluster_x_column.tsv\"], sep=\"\\t\", index_col=0\n",
    ")\n",
    "\n",
    "w__cluster_x_element.columns.name = w.index.name\n",
    "\n",
    "h__cluster_x_element = pd.read_csv(\n",
    "    PATH[\"h|cluster_x_column.tsv\"], sep=\"\\t\", index_col=0\n",
    ")\n",
    "\n",
    "h__cluster_x_element.columns.name = h.columns.name"
   ]
  },
  {
   "cell_type": "code",
   "execution_count": null,
   "metadata": {},
   "outputs": [],
   "source": [
    "if SETTING[\"h_summary\"] is not None:\n",
    "\n",
    "    for factor_name, data_name_indices in SETTING[\"h_summary\"].items():\n",
    "\n",
    "        data_dicts = {}\n",
    "\n",
    "        score_moe_p_value_fdr_dicts = {}\n",
    "\n",
    "        for data_name, indices in data_name_indices.items():\n",
    "\n",
    "            data_dicts[data_name] = {\n",
    "                \"df\": sample_data[data_name][\"df\"].loc[indices],\n",
    "                \"type\": sample_data[data_name][\"type\"],\n",
    "            }\n",
    "\n",
    "            score_moe_p_value_fdr_dicts[data_name] = pd.read_csv(\n",
    "                \"{}/{}/{}.tsv\".format(\n",
    "                    PATH[\"h|match/\"],\n",
    "                    factor_name,\n",
    "                    ccal.make_file_name_from_str(data_name),\n",
    "                ),\n",
    "                sep=\"\\t\",\n",
    "                index_col=0,\n",
    "            )\n",
    "\n",
    "        ccal.make_summary_match_panel(\n",
    "            h.loc[factor_name],\n",
    "            data_dicts,\n",
    "            score_moe_p_value_fdr_dicts,\n",
    "            plot_only_columns_shared_by_target_and_all_data=SETTING[\n",
    "                \"plot_only_columns_shared_by_target_and_all_data\"\n",
    "            ],\n",
    "            plot_std=SETTING[\"plot_std\"],\n",
    "            title=dict(text=factor_name),\n",
    "            xaxis_kwargs=dict(ticks=\"\", showticklabels=False),\n",
    "            html_file_path=\"{}/{}\".format(PATH[\"h|summary/\"], factor_name),\n",
    "        )"
   ]
  },
  {
   "cell_type": "code",
   "execution_count": null,
   "metadata": {},
   "outputs": [],
   "source": [
    "if SETTING[\"h_cluster_summary\"] is not None:\n",
    "\n",
    "    for cluster_name, data_name_indices in SETTING[\"h_cluster_summary\"].items():\n",
    "\n",
    "        data_dicts = {}\n",
    "\n",
    "        score_moe_p_value_fdr_dicts = {}\n",
    "\n",
    "        for data_name, indices in data_name_indices.items():\n",
    "\n",
    "            data_dicts[data_name] = {\n",
    "                \"df\": sample_data[data_name][\"df\"].loc[indices],\n",
    "                \"type\": sample_data[data_name][\"type\"],\n",
    "            }\n",
    "\n",
    "            score_moe_p_value_fdr_dicts[data_name] = pd.read_csv(\n",
    "                \"{}/{}/{}.tsv\".format(\n",
    "                    PATH[\"h|hcc|match/\"],\n",
    "                    cluster_name,\n",
    "                    ccal.make_file_name_from_str(data_name),\n",
    "                ),\n",
    "                sep=\"\\t\",\n",
    "                index_col=0,\n",
    "            )\n",
    "\n",
    "        ccal.make_summary_match_panel(\n",
    "            h__cluster_x_element.loc[cluster_name],\n",
    "            data_dicts,\n",
    "            score_moe_p_value_fdr_dicts,\n",
    "            plot_only_columns_shared_by_target_and_all_data=SETTING[\n",
    "                \"plot_only_columns_shared_by_target_and_all_data\"\n",
    "            ],\n",
    "            target_type=\"binary\",\n",
    "            plot_std=SETTING[\"plot_std\"],\n",
    "            title=dict(text=cluster_name),\n",
    "            xaxis_kwargs=dict(ticks=\"\", showticklabels=False),\n",
    "            html_file_path=\"{}/{}\".format(PATH[\"h|hcc|summary/\"], cluster_name),\n",
    "        )"
   ]
  }
 ],
 "metadata": {
  "kernelspec": {
   "display_name": "Python 3",
   "language": "python",
   "name": "python3"
  },
  "language_info": {
   "codemirror_mode": {
    "name": "ipython",
    "version": 3
   },
   "file_extension": ".py",
   "mimetype": "text/x-python",
   "name": "python",
   "nbconvert_exporter": "python",
   "pygments_lexer": "ipython3",
   "version": "3.6.7"
  }
 },
 "nbformat": 4,
 "nbformat_minor": 2
}
