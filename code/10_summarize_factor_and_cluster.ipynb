{
 "cells": [
  {
   "cell_type": "code",
   "execution_count": null,
   "metadata": {
    "ExecuteTime": {
     "end_time": "2018-07-08T00:30:32.513083Z",
     "start_time": "2018-07-08T00:30:32.501224Z"
    }
   },
   "outputs": [],
   "source": [
    "%load_ext autoreload\n",
    "%autoreload 2"
   ]
  },
  {
   "cell_type": "code",
   "execution_count": null,
   "metadata": {
    "ExecuteTime": {
     "end_time": "2018-07-08T02:00:18.306031Z",
     "start_time": "2018-07-08T02:00:18.276698Z"
    }
   },
   "outputs": [],
   "source": [
    "from environment import *\n",
    "\n",
    "with open(\"setting.yaml\") as yaml_file:\n",
    "\n",
    "    SETTING = yaml.load(yaml_file)\n",
    "\n",
    "PATH = make_path_dict(SETTING)"
   ]
  },
  {
   "cell_type": "code",
   "execution_count": null,
   "metadata": {},
   "outputs": [],
   "source": [
    "feature_data = SETTING[\"feature_data\"]\n",
    "\n",
    "if feature_data is None:\n",
    "\n",
    "    feature_data = {}\n",
    "\n",
    "for data_name, data_dict in feature_data.items():\n",
    "\n",
    "    print(data_name)\n",
    "\n",
    "    data_dict[\"df\"] = pd.read_table(data_dict[\"file_path\"], index_col=0)"
   ]
  },
  {
   "cell_type": "code",
   "execution_count": null,
   "metadata": {},
   "outputs": [],
   "source": [
    "sample_data = SETTING[\"sample_data\"]\n",
    "\n",
    "if sample_data is None:\n",
    "\n",
    "    sample_data = {}\n",
    "\n",
    "for data_name, data_dict in sample_data.items():\n",
    "\n",
    "    print(data_name)\n",
    "\n",
    "    data_dict[\"df\"] = pd.read_table(data_dict[\"file_path\"], index_col=0)"
   ]
  },
  {
   "cell_type": "code",
   "execution_count": null,
   "metadata": {},
   "outputs": [],
   "source": [
    "w = pd.read_table(PATH[\"w.tsv\"], index_col=0)\n",
    "\n",
    "w.columns.name = \"Factor\"\n",
    "\n",
    "h = pd.read_table(PATH[\"h.tsv\"], index_col=0)\n",
    "\n",
    "h.columns.name = SETTING[\"sample_alias\"]"
   ]
  },
  {
   "cell_type": "code",
   "execution_count": null,
   "metadata": {},
   "outputs": [],
   "source": [
    "w__cluster_x_element = pd.read_table(PATH[\"w|cluster_x_column.tsv\"], index_col=0)\n",
    "\n",
    "w__cluster_x_element.columns.name = w.index.name\n",
    "\n",
    "h__cluster_x_element = pd.read_table(PATH[\"h|cluster_x_column.tsv\"], index_col=0)\n",
    "\n",
    "h__cluster_x_element.columns.name = h.columns.name"
   ]
  },
  {
   "cell_type": "code",
   "execution_count": null,
   "metadata": {},
   "outputs": [],
   "source": [
    "plot_only_columns_shared_by_target_and_all_data = True\n",
    "\n",
    "output_directory_path = PATH[\"h|summary/\"]\n",
    "\n",
    "for target, target_type, data_dicts, directory_path, data_name_indices in (\n",
    "    (\n",
    "        h.loc[\"F2\"],\n",
    "        \"continuous\",\n",
    "        sample_data,\n",
    "        \"{}/F2\".format(PATH[\"h|match/\"]),\n",
    "        {\"CTRP\": [\"oligomycin A\", \"spautin-1\", \"PF-750\", \"AZD7545\"]},\n",
    "    ),\n",
    "    (\n",
    "        h.loc[\"F3\"],\n",
    "        \"continuous\",\n",
    "        sample_data,\n",
    "        \"{}/F3\".format(PATH[\"h|match/\"]),\n",
    "        {\n",
    "            \"Binary Information\": [\"Head and Neck Cancer\", \"Squamous Cell Carcinoma\"],\n",
    "            \"KRAS Factor\": [\"KRAS-AP1\"],\n",
    "            \"Gene Set\": [\"AIGNER_ZEB1_TARGETS\"],\n",
    "            \"Protein\": [\"EGFR\"],\n",
    "            \"RNAi\": [\"EGFR\", \"ERBB2\", \"ERBB3\"],\n",
    "            \"CRISPR\": [\"EGFR\", \"ERBB2\", \"ERBB3\"],\n",
    "            \"NP24\": [\"Erlotinib\", \"Lapatinib\", \"AZD0530\", \"ZD-6474\"],\n",
    "            \"CTRP\": [\n",
    "                \"afatinib\",\n",
    "                \"gefitinib\",\n",
    "                \"erlotinib\",\n",
    "                \"canertinib\",\n",
    "                \"neratinib\",\n",
    "                \"ibrutinib\",\n",
    "                \"saracatinib\",\n",
    "                \"dasatinib\",\n",
    "                \"lapatinib\",\n",
    "            ],\n",
    "        },\n",
    "    ),\n",
    "    (\n",
    "        h.loc[\"F4\"],\n",
    "        \"continuous\",\n",
    "        sample_data,\n",
    "        \"{}/F4\".format(PATH[\"h|match/\"]),\n",
    "        {\n",
    "            \"KRAS Factor\": [\"EMT\"],\n",
    "            \"RNAi\": [\"FGFR1\", \"PDGFRA\"],\n",
    "            \"CRISPR\": [\"FGFR1\", \"PDGFRA\"],\n",
    "            \"NP24\": [\"TKI258\"],\n",
    "            \"CTRP\": [\"foretinib\", \"dasatinib\", \"imatinib\", \"cabozantinib\", \"axitinib\"],\n",
    "        },\n",
    "    ),\n",
    "):\n",
    "\n",
    "    data_dicts_ = {}\n",
    "\n",
    "    score_moe_p_value_fdr_dicts = {}\n",
    "\n",
    "    for data_name, indices in data_name_indices.items():\n",
    "\n",
    "        data_dicts_[data_name] = {\n",
    "            \"df\": data_dicts[data_name][\"df\"].loc[indices],\n",
    "            \"type\": data_dicts[data_name][\"type\"],\n",
    "        }\n",
    "\n",
    "        score_moe_p_value_fdr_dicts[data_name] = pd.read_table(\n",
    "            \"{}/{}.tsv\".format(directory_path, ccal.make_file_name_from_str(data_name)),\n",
    "            index_col=0,\n",
    "        )\n",
    "\n",
    "    title = \"{} Summary\".format(target.name)\n",
    "\n",
    "    ccal.make_summary_match_panel(\n",
    "        target,\n",
    "        data_dicts_,\n",
    "        score_moe_p_value_fdr_dicts,\n",
    "        plot_only_columns_shared_by_target_and_all_data=plot_only_columns_shared_by_target_and_all_data,\n",
    "        target_type=target_type,\n",
    "        plot_std=SETTING[\"plot_std\"],\n",
    "        title=dict(text=title),\n",
    "        xaxis_kwargs=dict(ticks=\"\", showticklabels=False),\n",
    "        html_file_path=\"{}/{}\".format(\n",
    "            output_directory_path, ccal.make_file_name_from_str(title)\n",
    "        ),\n",
    "    )"
   ]
  }
 ],
 "metadata": {
  "kernelspec": {
   "display_name": "Python 3",
   "language": "python",
   "name": "python3"
  },
  "language_info": {
   "codemirror_mode": {
    "name": "ipython",
    "version": 3
   },
   "file_extension": ".py",
   "mimetype": "text/x-python",
   "name": "python",
   "nbconvert_exporter": "python",
   "pygments_lexer": "ipython3",
   "version": "3.6.7"
  }
 },
 "nbformat": 4,
 "nbformat_minor": 2
}
