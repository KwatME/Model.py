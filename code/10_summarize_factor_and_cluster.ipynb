{
 "cells": [
  {
   "cell_type": "code",
   "execution_count": null,
   "metadata": {
    "ExecuteTime": {
     "end_time": "2018-07-08T00:30:32.513083Z",
     "start_time": "2018-07-08T00:30:32.501224Z"
    }
   },
   "outputs": [],
   "source": [
    "%load_ext autoreload\n",
    "%autoreload 2"
   ]
  },
  {
   "cell_type": "code",
   "execution_count": null,
   "metadata": {
    "ExecuteTime": {
     "end_time": "2018-07-08T02:00:18.306031Z",
     "start_time": "2018-07-08T02:00:18.276698Z"
    }
   },
   "outputs": [],
   "source": [
    "from environment import *\n",
    "\n",
    "with open(\"setting.yaml\") as yaml_file:\n",
    "\n",
    "    SETTING = yaml.load(yaml_file)\n",
    "\n",
    "PATH = make_path_dict(SETTING)"
   ]
  },
  {
   "cell_type": "code",
   "execution_count": null,
   "metadata": {},
   "outputs": [],
   "source": [
    "feature_data = SETTING[\"feature_data\"]\n",
    "\n",
    "if feature_data is None:\n",
    "\n",
    "    feature_data = {}\n",
    "\n",
    "for data_name, data_dict in feature_data.items():\n",
    "\n",
    "    print(data_name)\n",
    "\n",
    "    data_dict[\"df\"] = pd.read_csv(data_dict[\"file_path\"], sep=\"\\t\", index_col=0)"
   ]
  },
  {
   "cell_type": "code",
   "execution_count": null,
   "metadata": {},
   "outputs": [],
   "source": [
    "sample_data = SETTING[\"sample_data\"]\n",
    "\n",
    "if sample_data is None:\n",
    "\n",
    "    sample_data = {}\n",
    "\n",
    "for data_name, data_dict in sample_data.items():\n",
    "\n",
    "    print(data_name)\n",
    "\n",
    "    data_dict[\"df\"] = pd.read_csv(data_dict[\"file_path\"], sep=\"\\t\", index_col=0)"
   ]
  },
  {
   "cell_type": "code",
   "execution_count": null,
   "metadata": {},
   "outputs": [],
   "source": [
    "w = pd.read_csv(PATH[\"w.tsv\"], sep=\"\\t\", index_col=0)\n",
    "\n",
    "w.columns.name = \"Factor\"\n",
    "\n",
    "h = pd.read_csv(PATH[\"h.tsv\"], sep=\"\\t\", index_col=0)\n",
    "\n",
    "h.columns.name = SETTING[\"sample_alias\"]"
   ]
  },
  {
   "cell_type": "code",
   "execution_count": null,
   "metadata": {},
   "outputs": [],
   "source": [
    "for w_or_h, data_dicts, factor_x_element in (\n",
    "    (\"w\", feature_data, w.T),\n",
    "    (\"h\", sample_data, h),\n",
    "):\n",
    "\n",
    "    if SETTING[\"{}_summary\".format(w_or_h)] is None:\n",
    "\n",
    "        continue\n",
    "\n",
    "    for factor_name, data_name_indices in SETTING[\"{}_summary\".format(w_or_h)].items():\n",
    "\n",
    "        data_dicts = {}\n",
    "\n",
    "        score_moe_p_value_fdr_dicts = {}\n",
    "\n",
    "        factor_alias = data_name_indices.pop(\"_alias\", \"_alias\")\n",
    "\n",
    "        for data_name, indices in data_name_indices.items():\n",
    "\n",
    "            if data_name.startsiwith(\"_\"):\n",
    "\n",
    "                continue\n",
    "\n",
    "            data_dicts[data_name] = {\n",
    "                \"df\": data_dicts[data_name][\"df\"].loc[indices],\n",
    "                \"type\": data_dicts[data_name][\"type\"],\n",
    "            }\n",
    "\n",
    "            score_moe_p_value_fdr_dicts[data_name] = pd.read_csv(\n",
    "                os.path.join(\n",
    "                    PATH[\"h|match/\"],\n",
    "                    factor_name,\n",
    "                    \"{}.tsv\".format(ccal.make_file_name_from_str(data_name)),\n",
    "                ),\n",
    "                sep=\"\\t\",\n",
    "                index_col=0,\n",
    "            )\n",
    "\n",
    "        ccal.make_summary_match_panel(\n",
    "            factor_x_element.loc[factor_name],\n",
    "            data_dicts,\n",
    "            score_moe_p_value_fdr_dicts,\n",
    "            plot_only_columns_shared_by_target_and_all_data=SETTING[\n",
    "                \"plot_only_columns_shared_by_target_and_all_data\"\n",
    "            ],\n",
    "            plot_std=SETTING[\"plot_std\"],\n",
    "            title={\"text\": factor_alias},\n",
    "            xaxis_kwargs={\"ticks\": \"\", \"showticklabels\": False},\n",
    "            html_file_path=os.path.join(\n",
    "                PATH[\"h|summary/\"], \"{}.html\".format(factor_name)\n",
    "            ),\n",
    "        )"
   ]
  }
 ],
 "metadata": {
  "kernelspec": {
   "display_name": "Python 3",
   "language": "python",
   "name": "python3"
  },
  "language_info": {
   "codemirror_mode": {
    "name": "ipython",
    "version": 3
   },
   "file_extension": ".py",
   "mimetype": "text/x-python",
   "name": "python",
   "nbconvert_exporter": "python",
   "pygments_lexer": "ipython3",
   "version": "3.6.7"
  }
 },
 "nbformat": 4,
 "nbformat_minor": 2
}
