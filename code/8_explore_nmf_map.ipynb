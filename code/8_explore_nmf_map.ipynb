{
 "cells": [
  {
   "cell_type": "code",
   "execution_count": null,
   "metadata": {
    "ExecuteTime": {
     "end_time": "2018-06-16T06:32:32.199777Z",
     "start_time": "2018-06-16T06:32:32.184745Z"
    }
   },
   "outputs": [],
   "source": [
    "%load_ext autoreload\n",
    "%autoreload 2"
   ]
  },
  {
   "cell_type": "code",
   "execution_count": null,
   "metadata": {
    "ExecuteTime": {
     "end_time": "2018-06-16T06:32:33.839028Z",
     "start_time": "2018-06-16T06:32:32.201410Z"
    }
   },
   "outputs": [],
   "source": [
    "from environment import *\n",
    "\n",
    "import analysis as a\n",
    "\n",
    "p = make_paths(a)"
   ]
  },
  {
   "cell_type": "code",
   "execution_count": null,
   "metadata": {
    "ExecuteTime": {
     "end_time": "2018-06-16T06:32:33.877895Z",
     "start_time": "2018-06-16T06:32:33.841041Z"
    },
    "scrolled": false
   },
   "outputs": [],
   "source": [
    "w = pd.read_table(p['w_file_path'], index_col=0)\n",
    "\n",
    "h = pd.read_table(p['h_file_path'], index_col=0)"
   ]
  },
  {
   "cell_type": "code",
   "execution_count": null,
   "metadata": {
    "ExecuteTime": {
     "end_time": "2018-06-16T06:32:42.044927Z",
     "start_time": "2018-06-16T06:32:33.879425Z"
    },
    "scrolled": false
   },
   "outputs": [],
   "source": [
    "nmf_map = ccal.NMFMap(\n",
    "    wt=w.T,\n",
    "    h=h,\n",
    "    mds_random_seed=a.NMF_MAP_MDS_RANDOM_SEED,\n",
    "    wt_pull_power=a.NMF_MAP_WT_PULL_POWER,\n",
    "    h_pull_power=a.NMF_MAP_H_PULL_POWER,\n",
    "    plot=False)\n",
    "\n",
    "for wt_or_h, element_marker_size in (('wt', a.NMF_MAP_WT_ELEMENT_MARKER_SIZE),\n",
    "                                     ('h', a.NMF_MAP_H_ELEMENT_MARKER_SIZE)):\n",
    "\n",
    "    nmf_map.plot_nmf_map(\n",
    "        wt_or_h, title=a.NAME, element_marker_size=element_marker_size)"
   ]
  },
  {
   "cell_type": "code",
   "execution_count": null,
   "metadata": {
    "ExecuteTime": {
     "end_time": "2018-06-16T06:35:23.005448Z",
     "start_time": "2018-06-16T06:32:42.047236Z"
    },
    "scrolled": false
   },
   "outputs": [],
   "source": [
    "for wt_or_h, df, bandwidth_factor, element_marker_size in (\n",
    "    ('wt',\n",
    "     pd.DataFrame(\n",
    "         nmf_map.wt, index=nmf_map.nodes, columns=nmf_map.wt_elements),\n",
    "     a.NMF_MAP_WT_BANDWIDTH_FACTOR, a.NMF_MAP_WT_ELEMENT_MARKER_SIZE),\n",
    "    ('h',\n",
    "     pd.DataFrame(nmf_map.h, index=nmf_map.nodes, columns=nmf_map.h_elements),\n",
    "     a.NMF_MAP_H_BANDWIDTH_FACTOR, a.NMF_MAP_H_ELEMENT_MARKER_SIZE),\n",
    "):\n",
    "\n",
    "    hcc__k_x_column_file_path = p['{}_hcc__k_x_column_file_path'.format(\n",
    "        wt_or_h)]\n",
    "\n",
    "    if os.path.isfile(hcc__k_x_column_file_path):\n",
    "\n",
    "        hcc__k_x_column = pd.read_table(hcc__k_x_column_file_path, index_col=0)\n",
    "\n",
    "    else:\n",
    "\n",
    "        if df.shape[1] < 1e3:\n",
    "\n",
    "            distance_function = ccal.compute_information_distance\n",
    "\n",
    "        else:\n",
    "\n",
    "            distance_function = compute_correlation_distance\n",
    "\n",
    "        distance__column_x_column, k_hcc_distance_linkage, k_hcc_distance_linkage_ccc, hcc__k_x_column = ccal.hierarchical_consensus_cluster_with_multiple_k(\n",
    "            df,\n",
    "            a.HCC_KS,\n",
    "            n_job=len(a.HCC_KS),\n",
    "            distance_function=distance_function,\n",
    "            n_clustering=100,\n",
    "            plot_df=False,\n",
    "            directory_path=p['{}_hcc_directory_path'.format(wt_or_h)])\n",
    "\n",
    "    for hcc_k in a.HCC_KS[::3]:\n",
    "\n",
    "        element_state = hcc__k_x_column.loc['K{}'.format(hcc_k)]\n",
    "\n",
    "        if element_state.value_counts().min() < 3:\n",
    "\n",
    "            print(\n",
    "                'Skipping {} because it has at least 1 state with less than 3 elements ...'.\n",
    "                format(hcc_k))\n",
    "\n",
    "        else:\n",
    "\n",
    "            nmf_map.set_element_states(\n",
    "                wt_or_h, element_state, bandwidth_factor=bandwidth_factor)\n",
    "\n",
    "            nmf_map.plot_nmf_map(\n",
    "                wt_or_h,\n",
    "                title=a.NAME,\n",
    "                element_marker_size=element_marker_size,\n",
    "                html_file_path='{}/map_{}.html'.format(\n",
    "                    p['{}_map_directory_path'.format(wt_or_h)], hcc_k))"
   ]
  }
 ],
 "metadata": {
  "kernelspec": {
   "display_name": "Python [default]",
   "language": "python",
   "name": "python3"
  },
  "language_info": {
   "codemirror_mode": {
    "name": "ipython",
    "version": 3
   },
   "file_extension": ".py",
   "mimetype": "text/x-python",
   "name": "python",
   "nbconvert_exporter": "python",
   "pygments_lexer": "ipython3",
   "version": "3.6.5"
  }
 },
 "nbformat": 4,
 "nbformat_minor": 2
}
