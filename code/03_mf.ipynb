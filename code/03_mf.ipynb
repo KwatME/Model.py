{
 "cells": [
  {
   "cell_type": "code",
   "execution_count": null,
   "metadata": {},
   "outputs": [],
   "source": [
    "from __init__ import *"
   ]
  },
  {
   "cell_type": "code",
   "execution_count": null,
   "metadata": {},
   "outputs": [],
   "source": [
    "signals = []\n",
    "\n",
    "for data_dict_i, data_dict in enumerate(SETTING[\"model_data_dicts\"]):\n",
    "\n",
    "    signal = pd.read_csv(\n",
    "        \"../output/signal/{}.tsv\".format(data_dict_i), sep=\"\\t\", index_col=0,\n",
    "    )\n",
    "\n",
    "    signal.columns.name = data_dict[\"axis_1_name\"]\n",
    "\n",
    "    signals.append(signal)"
   ]
  },
  {
   "cell_type": "code",
   "execution_count": null,
   "metadata": {},
   "outputs": [],
   "source": [
    "model_mode = SETTING[\"model_mode\"]\n",
    "\n",
    "if model_mode == \"range\":\n",
    "\n",
    "    axis_same = 0\n",
    "\n",
    "    axis_different = 1\n",
    "\n",
    "elif model_mode == \"deep\":\n",
    "\n",
    "    axis_same = 1\n",
    "\n",
    "    axis_different = 0\n",
    "\n",
    "signals = kraft.dataframe.sync_axis(\n",
    "    kraft.dataframe.sync_axis(signals, axis_same, \"union\"),\n",
    "    axis_different,\n",
    "    \"symmetric_difference\",\n",
    ")"
   ]
  },
  {
   "cell_type": "code",
   "execution_count": null,
   "metadata": {},
   "outputs": [],
   "source": [
    "model_mode = SETTING[\"model_mode\"]\n",
    "\n",
    "if model_mode == \"range\":\n",
    "\n",
    "    method = \"vs_w_hs\"\n",
    "\n",
    "elif model_mode == \"deep\":\n",
    "\n",
    "    method = \"vs_ws_h\"\n",
    "\n",
    "for r in SETTING[\"mf_rs\"]:\n",
    "\n",
    "    mf_r_directory_path = \"../output/mf_r{}/\".format(r)\n",
    "\n",
    "    kraft.path.path(mf_r_directory_path)\n",
    "\n",
    "    kraft.mf_dataframes(signals, method, r, mf_r_directory_path, plot_w_h=False)"
   ]
  }
 ],
 "metadata": {
  "kernelspec": {
   "display_name": "Python 3",
   "language": "python",
   "name": "python3"
  },
  "language_info": {
   "codemirror_mode": {
    "name": "ipython",
    "version": 3
   },
   "file_extension": ".py",
   "mimetype": "text/x-python",
   "name": "python",
   "nbconvert_exporter": "python",
   "pygments_lexer": "ipython3",
   "version": "3.7.8"
  }
 },
 "nbformat": 4,
 "nbformat_minor": 4
}
