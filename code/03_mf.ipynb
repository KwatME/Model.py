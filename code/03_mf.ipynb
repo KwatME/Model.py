{
 "cells": [
  {
   "cell_type": "code",
   "execution_count": null,
   "metadata": {},
   "outputs": [],
   "source": [
    "from __init__ import *"
   ]
  },
  {
   "cell_type": "code",
   "execution_count": null,
   "metadata": {},
   "outputs": [],
   "source": [
    "signals = []\n",
    "\n",
    "for i, dict_ in enumerate(SETTING[\"model_data_dicts\"]):\n",
    "\n",
    "    signal = pd.read_csv(\"../output/signal/{}.tsv\".format(i), sep=\"\\t\", index_col=0,)\n",
    "\n",
    "    signal.columns.name = dict_[\"axis_1_name\"]\n",
    "\n",
    "    signals.append(signal)"
   ]
  },
  {
   "cell_type": "code",
   "execution_count": null,
   "metadata": {},
   "outputs": [],
   "source": [
    "if SETTING[\"model_mode\"] == \"range\":\n",
    "\n",
    "    axis = 0\n",
    "\n",
    "    mode = \"hs\"\n",
    "\n",
    "elif SETTING[\"model_mode\"] == \"deep\":\n",
    "\n",
    "    axis = 1\n",
    "\n",
    "    mode = \"ws\"\n",
    "\n",
    "signals = kraft.dataframe.sync_axis(signals, axis)"
   ]
  },
  {
   "cell_type": "code",
   "execution_count": null,
   "metadata": {},
   "outputs": [],
   "source": [
    "for r in SETTING[\"mf_rs\"]:\n",
    "\n",
    "    ws, hs, errors = kraft.matrix_factorization.factorize_matrix(\n",
    "        tuple(signal.to_numpy() for signal in signals), mode, r\n",
    "    )\n",
    "\n",
    "    template = \"Factor {}.{{}}\".format(r)\n",
    "\n",
    "    factors = pd.Index((template.format(i) for i in range(r)), name=\"Factor\")\n",
    "\n",
    "    ws = tuple(\n",
    "        pd.DataFrame(data=w, index=signal.index, columns=factors)\n",
    "        for w, signal in zip(ws, signals)\n",
    "    )\n",
    "\n",
    "    hs = tuple(\n",
    "        pd.DataFrame(data=h, index=factors, columns=signal.columns)\n",
    "        for h, signal in zip(hs, signals)\n",
    "    )\n",
    "\n",
    "    directory_path = \"../output/mf_r{}/\".format(r)\n",
    "\n",
    "    kraft.path.path(directory_path)\n",
    "\n",
    "    template = \"{}/{{}}_{{}}.tsv\".format(directory_path)\n",
    "\n",
    "    for i, w in enumerate(ws):\n",
    "\n",
    "        w.to_csv(template.format(\"w\", i), sep=\"\\t\")\n",
    "\n",
    "    for i, h in enumerate(hs):\n",
    "\n",
    "        h.to_csv(template.format(\"h\", i), sep=\"\\t\")\n",
    "\n",
    "    kraft.matrix_factorization.plot_matrix_factorization(\n",
    "        ws, hs, errors, directory_path=directory_path\n",
    "    )"
   ]
  }
 ],
 "metadata": {
  "kernelspec": {
   "display_name": "Python 3",
   "language": "python",
   "name": "python3"
  },
  "language_info": {
   "codemirror_mode": {
    "name": "ipython",
    "version": 3
   },
   "file_extension": ".py",
   "mimetype": "text/x-python",
   "name": "python",
   "nbconvert_exporter": "python",
   "pygments_lexer": "ipython3",
   "version": "3.7.8"
  }
 },
 "nbformat": 4,
 "nbformat_minor": 4
}
