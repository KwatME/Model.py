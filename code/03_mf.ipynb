{
 "cells": [
  {
   "cell_type": "code",
   "execution_count": null,
   "metadata": {},
   "outputs": [],
   "source": [
    "from __init__ import *"
   ]
  },
  {
   "cell_type": "code",
   "execution_count": null,
   "metadata": {},
   "outputs": [],
   "source": [
    "signal_ = []\n",
    "\n",
    "for i, dict in enumerate(SETTING[\"model_data_\"]):\n",
    "\n",
    "    signal = pd.read_csv(\"../output/signal/{}.tsv\".format(i), sep=\"\\t\", index_col=0)\n",
    "\n",
    "    signal.columns.name = dict[\"axis_1_name\"]\n",
    "\n",
    "    signal_.append(signal)"
   ]
  },
  {
   "cell_type": "code",
   "execution_count": null,
   "metadata": {},
   "outputs": [],
   "source": [
    "if SETTING[\"model_mode\"] == \"range\":\n",
    "\n",
    "    axis = 0\n",
    "\n",
    "    mode = \"hs\"\n",
    "\n",
    "elif SETTING[\"model_mode\"] == \"deep\":\n",
    "\n",
    "    axis = 1\n",
    "\n",
    "    mode = \"ws\"\n",
    "\n",
    "signal_ = kraft.table.sync_axis(signal_, axis)"
   ]
  },
  {
   "cell_type": "code",
   "execution_count": null,
   "metadata": {},
   "outputs": [],
   "source": [
    "for r in SETTING[\"resolution_\"]:\n",
    "\n",
    "    w_, h_, error_ = kraft.matrix_factorization.factorize_matrix(\n",
    "        tuple(signal.to_numpy() for signal in signal_), mode, r\n",
    "    )\n",
    "\n",
    "    template = \"Factor {}.{{}}\".format(r)\n",
    "\n",
    "    factor_label_ = pd.Index(data=(template.format(i) for i in range(r)), name=\"Factor\")\n",
    "\n",
    "    w_ = tuple(\n",
    "        pd.DataFrame(data=w, index=signal.index, columns=factor_label_)\n",
    "        for w, signal in zip(w_, signal_)\n",
    "    )\n",
    "\n",
    "    h_ = tuple(\n",
    "        pd.DataFrame(data=h, index=factor_label_, columns=signal.columns)\n",
    "        for h, signal in zip(h_, signal_)\n",
    "    )\n",
    "\n",
    "    directory_path = \"../output/compression_r{}/\".format(r)\n",
    "\n",
    "    kraft.path.path(directory_path)\n",
    "\n",
    "    template = \"{}{{}}_{{}}.tsv\".format(directory_path)\n",
    "\n",
    "    for i, w in enumerate(w_):\n",
    "\n",
    "        w.to_csv(template.format(\"w\", i), sep=\"\\t\")\n",
    "\n",
    "    for i, h in enumerate(h_):\n",
    "\n",
    "        h.to_csv(template.format(\"h\", i), sep=\"\\t\")\n",
    "\n",
    "    kraft.matrix_factorization.plot_matrix_factorization(\n",
    "        w_, h_, error_, directory_path=directory_path\n",
    "    )"
   ]
  }
 ],
 "metadata": {
  "kernelspec": {
   "display_name": "Python 3",
   "language": "python",
   "name": "python3"
  },
  "language_info": {
   "codemirror_mode": {
    "name": "ipython",
    "version": 3
   },
   "file_extension": ".py",
   "mimetype": "text/x-python",
   "name": "python",
   "nbconvert_exporter": "python",
   "pygments_lexer": "ipython3",
   "version": "3.7.8"
  }
 },
 "nbformat": 4,
 "nbformat_minor": 4
}
