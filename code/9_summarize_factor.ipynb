{
 "cells": [
  {
   "cell_type": "code",
   "execution_count": null,
   "metadata": {
    "ExecuteTime": {
     "end_time": "2018-07-08T00:30:32.513083Z",
     "start_time": "2018-07-08T00:30:32.501224Z"
    }
   },
   "outputs": [],
   "source": [
    "%load_ext autoreload\n",
    "%autoreload 2"
   ]
  },
  {
   "cell_type": "code",
   "execution_count": null,
   "metadata": {
    "ExecuteTime": {
     "end_time": "2018-07-08T02:00:18.306031Z",
     "start_time": "2018-07-08T02:00:18.276698Z"
    }
   },
   "outputs": [],
   "source": [
    "from __init__ import *\n",
    "\n",
    "PROJECT_JSON = kraft.read_json(\"../project.json\")\n",
    "\n",
    "PATH = make_path_dict(PROJECT_JSON)"
   ]
  },
  {
   "cell_type": "code",
   "execution_count": null,
   "metadata": {},
   "outputs": [],
   "source": [
    "feature_data_dicts = PROJECT_JSON[\"feature_data\"]\n",
    "\n",
    "for data_name, data_dict in feature_data_dicts.items():\n",
    "\n",
    "    print(data_name)\n",
    "\n",
    "    data_dict[\"dataframe\"] = pd.read_csv(data_dict[\"file_path\"], sep=\"\\t\", index_col=0)"
   ]
  },
  {
   "cell_type": "code",
   "execution_count": null,
   "metadata": {},
   "outputs": [],
   "source": [
    "sample_data_dicts = PROJECT_JSON[\"sample_data\"]\n",
    "\n",
    "for data_name, data_dict in sample_data_dicts.items():\n",
    "\n",
    "    print(data_name)\n",
    "\n",
    "    data_dict[\"dataframe\"] = pd.read_csv(data_dict[\"file_path\"], sep=\"\\t\", index_col=0)"
   ]
  },
  {
   "cell_type": "code",
   "execution_count": null,
   "metadata": {},
   "outputs": [],
   "source": [
    "w = pd.read_csv(PATH[\"w.tsv\"], sep=\"\\t\", index_col=0)\n",
    "\n",
    "w.columns.name = \"Factor\"\n",
    "\n",
    "h = pd.read_csv(PATH[\"h.tsv\"], sep=\"\\t\", index_col=0)\n",
    "\n",
    "h.columns.name = PROJECT_JSON[\"sample_alias\"]"
   ]
  },
  {
   "cell_type": "code",
   "execution_count": null,
   "metadata": {},
   "outputs": [],
   "source": [
    "for w_or_h, data_dicts, factor_x_element in (\n",
    "    (\"w\", feature_data_dicts, w.T),\n",
    "    (\"h\", sample_data_dicts, h),\n",
    "):\n",
    "\n",
    "    for factor_name, data_name_indices in PROJECT_JSON[\n",
    "        \"{}_summary\".format(w_or_h)\n",
    "    ].items():\n",
    "\n",
    "        data_dicts_ = {}\n",
    "\n",
    "        score_moe_p_value_fdr_dicts = {}\n",
    "\n",
    "        for data_name, indices in data_name_indices.items():\n",
    "\n",
    "            data_dicts_[data_name] = {\n",
    "                \"dataframe\": data_dicts[data_name][\"dataframe\"].loc[indices]\n",
    "            }\n",
    "\n",
    "            score_moe_p_value_fdr_dicts[data_name] = pd.read_csv(\n",
    "                os.path.join(\n",
    "                    PATH[\"h|match/\"],\n",
    "                    factor_name,\n",
    "                    \"{}.tsv\".format(kraft.normalize_file_name(data_name)),\n",
    "                ),\n",
    "                sep=\"\\t\",\n",
    "                index_col=0,\n",
    "            )\n",
    "\n",
    "        kraft.make_match_panel_summary(\n",
    "            factor_x_element.loc[factor_name],\n",
    "            data_dicts_,\n",
    "            score_moe_p_value_fdr_dicts,\n",
    "            plot_only_shared_by_target_and_all_data=PROJECT_JSON[\n",
    "                \"plot_only_shared_by_target_and_all_data\"\n",
    "            ],\n",
    "            plot_std=PROJECT_JSON[\"plot_std\"],\n",
    "            layout={\n",
    "                \"title\": {\n",
    "                    \"text\": PROJECT_JSON[\"factor_name\"].get(factor_name, factor_name)\n",
    "                }\n",
    "            },\n",
    "            html_file_path=os.path.join(\n",
    "                PATH[\"h|summary/\"], \"{}.html\".format(factor_name)\n",
    "            ),\n",
    "        )"
   ]
  }
 ],
 "metadata": {
  "kernelspec": {
   "display_name": "Python 3",
   "language": "python",
   "name": "python3"
  },
  "language_info": {
   "codemirror_mode": {
    "name": "ipython",
    "version": 3
   },
   "file_extension": ".py",
   "mimetype": "text/x-python",
   "name": "python",
   "nbconvert_exporter": "python",
   "pygments_lexer": "ipython3",
   "version": "3.7.3"
  }
 },
 "nbformat": 4,
 "nbformat_minor": 4
}
