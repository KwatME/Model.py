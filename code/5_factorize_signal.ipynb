{
 "cells": [
  {
   "cell_type": "code",
   "execution_count": null,
   "metadata": {
    "ExecuteTime": {
     "end_time": "2018-07-06T18:37:36.653167Z",
     "start_time": "2018-07-06T18:37:36.642199Z"
    }
   },
   "outputs": [],
   "source": [
    "%load_ext autoreload\n",
    "\n",
    "%autoreload 2"
   ]
  },
  {
   "cell_type": "code",
   "execution_count": null,
   "metadata": {
    "ExecuteTime": {
     "end_time": "2018-07-06T18:37:38.413000Z",
     "start_time": "2018-07-06T18:37:36.654831Z"
    }
   },
   "outputs": [],
   "source": [
    "from environment import *\n",
    "\n",
    "from setting import *"
   ]
  },
  {
   "cell_type": "code",
   "execution_count": null,
   "metadata": {
    "ExecuteTime": {
     "end_time": "2018-07-06T18:37:38.413000Z",
     "start_time": "2018-07-06T18:37:36.654831Z"
    }
   },
   "outputs": [],
   "source": [
    "path_dict = path(\n",
    "    TITLE,\n",
    "    ELEMENTS,\n",
    "    NMF_K,\n",
    "    WT_HCC_K,\n",
    "    H_HCC_K,\n",
    "    UPLOAD_TO_PLOTLY,\n",
    ")"
   ]
  },
  {
   "cell_type": "code",
   "execution_count": null,
   "metadata": {
    "ExecuteTime": {
     "end_time": "2018-07-06T18:37:38.787551Z",
     "start_time": "2018-07-06T18:37:38.416018Z"
    }
   },
   "outputs": [],
   "source": [
    "selected_signal_matrix = pd.read_table(\n",
    "    path_dict['selected_signal_matrix_file_path'],\n",
    "    index_col=0,\n",
    ").fillna(0)"
   ]
  },
  {
   "cell_type": "code",
   "execution_count": null,
   "metadata": {
    "ExecuteTime": {
     "end_time": "2018-07-06T18:38:44.148873Z",
     "start_time": "2018-07-06T18:37:38.790145Z"
    }
   },
   "outputs": [],
   "source": [
    "k_nmfcc = ccal.nmf_consensus_cluster_with_multiple_k(\n",
    "    selected_signal_matrix,\n",
    "    NMF_KS,\n",
    "    n_job=MAX_N_JOB,\n",
    "    plot_df=False,\n",
    "    plot_w=selected_signal_matrix.shape[0] < 3200,\n",
    "    plot_h=selected_signal_matrix.shape[1] < 3200,\n",
    "    directory_path=path_dict['nmf_directory_path'],\n",
    ")"
   ]
  },
  {
   "cell_type": "code",
   "execution_count": null,
   "metadata": {
    "ExecuteTime": {
     "end_time": "2018-07-06T18:41:44.586657Z",
     "start_time": "2018-07-06T18:38:44.151540Z"
    }
   },
   "outputs": [],
   "source": [
    "w = k_nmfcc['K{}'.format(NMF_K)]['w']\n",
    "\n",
    "h = k_nmfcc['K{}'.format(NMF_K)]['h']\n",
    "\n",
    "for wt_or_h, wt_or_h_matrix in (\n",
    "    (\n",
    "        'wt',\n",
    "        w.T,\n",
    "    ),\n",
    "    (\n",
    "        'h',\n",
    "        h,\n",
    "    ),\n",
    "):\n",
    "    \n",
    "    title = 'NMF K={} {}'.format(\n",
    "        NMF_K,\n",
    "        wt_or_h,\n",
    "    )\n",
    "    \n",
    "    if wt_or_h_matrix.shape[1] < 3200:\n",
    "        \n",
    "        ccal.plot_heat_map(\n",
    "            wt_or_h_matrix,\n",
    "            normalization_axis=0,\n",
    "            normalization_method='-0-',\n",
    "            cluster_axis=1,\n",
    "            title=title,\n",
    "            xaxis_title=wt_or_h_matrix.columns.name,\n",
    "            yaxis_title=wt_or_h_matrix.index.name,\n",
    "        )\n",
    "        \n",
    "    ccal.make_comparison_panel(\n",
    "        wt_or_h_matrix,\n",
    "        wt_or_h_matrix,\n",
    "        title=title,\n",
    "        name_0=wt_or_h_matrix.index.name,\n",
    "        name_1=wt_or_h_matrix.index.name,\n",
    "    )"
   ]
  },
  {
   "cell_type": "code",
   "execution_count": null,
   "metadata": {
    "ExecuteTime": {
     "end_time": "2018-07-06T18:52:29.719653Z",
     "start_time": "2018-07-06T18:41:44.588542Z"
    }
   },
   "outputs": [],
   "source": [
    "for wt_or_h, target_x_sample, features in (\n",
    "    (\n",
    "        'wt',\n",
    "        w.T,\n",
    "        selected_signal_matrix.T,\n",
    "    ),\n",
    "    (\n",
    "        'h',\n",
    "        h,\n",
    "        selected_signal_matrix,\n",
    "    ),\n",
    "):\n",
    "    \n",
    "    ccal.make_match_panels(\n",
    "        target_x_sample,\n",
    "        {\n",
    "            'Selected Signal': {\n",
    "                'df': features,\n",
    "                'data_type': 'continuous',\n",
    "                'emphasis': 'high',\n",
    "            },\n",
    "            'Input (Feature-by-Sample)': {\n",
    "                'df': pd.read_table(\n",
    "                    FEATURE_X_SAMPLE_FILE_PATH,\n",
    "                    index_col=0,\n",
    "                ),\n",
    "                'data_type': 'continuous',\n",
    "                'emphasis': 'high',\n",
    "            },\n",
    "        },\n",
    "        n_job=MAX_N_JOB,\n",
    "        n_required_for_match_function=None,\n",
    "        extreme_feature_threshold=EXTREME_FEATURE_THRESHOLD,\n",
    "        plot_features_std_max=None,\n",
    "    )"
   ]
  }
 ],
 "metadata": {
  "kernelspec": {
   "display_name": "Python 3",
   "language": "python",
   "name": "python3"
  },
  "language_info": {
   "codemirror_mode": {
    "name": "ipython",
    "version": 3
   },
   "file_extension": ".py",
   "mimetype": "text/x-python",
   "name": "python",
   "nbconvert_exporter": "python",
   "pygments_lexer": "ipython3",
   "version": "3.6.6"
  }
 },
 "nbformat": 4,
 "nbformat_minor": 2
}
