{
 "cells": [
  {
   "cell_type": "code",
   "execution_count": 1,
   "metadata": {},
   "outputs": [],
   "source": [
    "from __init__ import *"
   ]
  },
  {
   "cell_type": "code",
   "execution_count": 2,
   "metadata": {},
   "outputs": [],
   "source": [
    "data_n = len(SETTING[\"model_data_\"])\n",
    "\n",
    "if SETTING[\"model_mode\"] == \"deep\":\n",
    "\n",
    "    w_n = data_n\n",
    "\n",
    "    h_n = 1\n",
    "\n",
    "elif SETTING[\"model_mode\"] == \"range\":\n",
    "\n",
    "    w_n = 1\n",
    "\n",
    "    h_n = data_n"
   ]
  },
  {
   "cell_type": "code",
   "execution_count": 3,
   "metadata": {},
   "outputs": [
    {
     "name": "stdout",
     "output_type": "stream",
     "text": [
      "../output/matrix_factorization/\n"
     ]
    }
   ],
   "source": [
    "directory_path = \"../output/matrix_factorization/\"\n",
    "\n",
    "kraft.path.make(directory_path)"
   ]
  },
  {
   "cell_type": "code",
   "execution_count": 4,
   "metadata": {},
   "outputs": [],
   "source": [
    "for w_h_symbol in (\"w\", \"h\"):\n",
    "\n",
    "    if w_h_symbol == \"w\":\n",
    "\n",
    "        n = w_n\n",
    "\n",
    "        sync_axis = 1\n",
    "\n",
    "    else:\n",
    "\n",
    "        n = h_n\n",
    "\n",
    "        sync_axis = 0\n",
    "\n",
    "    for index in range(n):\n",
    "\n",
    "        w_h_df_ = []\n",
    "\n",
    "        for r in SETTING[\"resolution_\"]:\n",
    "\n",
    "            w_h_df_.append(\n",
    "                pd.read_csv(\n",
    "                    \"../output/matrix_factorization_r{}/{}_{}.tsv\".format(\n",
    "                        r, w_h_symbol, index\n",
    "                    ),\n",
    "                    sep=\"\\t\",\n",
    "                    index_col=0,\n",
    "                )\n",
    "            )\n",
    "\n",
    "        pd.concat(w_h_df_, axis=sync_axis).to_csv(\n",
    "            \"{}{}_{}.tsv\".format(directory_path, w_h_symbol, index), sep=\"\\t\"\n",
    "        )"
   ]
  }
 ],
 "metadata": {
  "kernelspec": {
   "display_name": "Python 3",
   "language": "python",
   "name": "python3"
  },
  "language_info": {
   "codemirror_mode": {
    "name": "ipython",
    "version": 3
   },
   "file_extension": ".py",
   "mimetype": "text/x-python",
   "name": "python",
   "nbconvert_exporter": "python",
   "pygments_lexer": "ipython3",
   "version": "3.7.8"
  }
 },
 "nbformat": 4,
 "nbformat_minor": 4
}
