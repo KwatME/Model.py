{
 "cells": [
  {
   "cell_type": "code",
   "execution_count": null,
   "metadata": {},
   "outputs": [],
   "source": [
    "from __init__ import *"
   ]
  },
  {
   "cell_type": "code",
   "execution_count": null,
   "metadata": {},
   "outputs": [],
   "source": [
    "n_data = len(SETTING[\"model_data_dicts\"])\n",
    "\n",
    "if SETTING[\"model_mode\"] == \"range\":\n",
    "\n",
    "    n_w = 1\n",
    "\n",
    "    n_h = n_data\n",
    "\n",
    "elif SETTING[\"model_mode\"] == \"deep\":\n",
    "\n",
    "    n_w = n_data\n",
    "\n",
    "    n_h = 1"
   ]
  },
  {
   "cell_type": "code",
   "execution_count": null,
   "metadata": {},
   "outputs": [],
   "source": [
    "directory_path = \"../output/mf/\"\n",
    "\n",
    "kraft.path.path(directory_path)"
   ]
  },
  {
   "cell_type": "code",
   "execution_count": null,
   "metadata": {},
   "outputs": [],
   "source": [
    "for w_h_str in (\"w\", \"h\"):\n",
    "\n",
    "    if w_h_str == \"w\":\n",
    "\n",
    "        n = n_w\n",
    "\n",
    "        axis = 1\n",
    "\n",
    "    else:\n",
    "\n",
    "        n = n_h\n",
    "\n",
    "        axis = 0\n",
    "\n",
    "    for i in range(n):\n",
    "\n",
    "        ws_or_hs = []\n",
    "\n",
    "        for r in SETTING[\"mf_rs\"]:\n",
    "\n",
    "            ws_or_hs.append(\n",
    "                pd.read_csv(\n",
    "                    \"../output/mf_r{}/{}_{}.tsv\".format(r, w_h_str, i),\n",
    "                    sep=\"\\t\",\n",
    "                    index_col=0,\n",
    "                )\n",
    "            )\n",
    "\n",
    "        w_h = pd.concat(ws_or_hs, axis=axis)\n",
    "\n",
    "        w_h.to_csv(\"{}{}_{}.tsv\".format(directory_path, w_h_str, i), sep=\"\\t\")"
   ]
  }
 ],
 "metadata": {
  "kernelspec": {
   "display_name": "Python 3",
   "language": "python",
   "name": "python3"
  },
  "language_info": {
   "codemirror_mode": {
    "name": "ipython",
    "version": 3
   },
   "file_extension": ".py",
   "mimetype": "text/x-python",
   "name": "python",
   "nbconvert_exporter": "python",
   "pygments_lexer": "ipython3",
   "version": "3.7.8"
  }
 },
 "nbformat": 4,
 "nbformat_minor": 4
}
