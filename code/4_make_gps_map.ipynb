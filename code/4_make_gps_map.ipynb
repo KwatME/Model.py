{
 "cells": [
  {
   "cell_type": "code",
   "execution_count": null,
   "metadata": {},
   "outputs": [],
   "source": [
    "from __init__ import *"
   ]
  },
  {
   "cell_type": "code",
   "execution_count": null,
   "metadata": {},
   "outputs": [],
   "source": [
    "ws, hs = read_ws_hs(\n",
    "    \"{}/mf\".format(SETTING[\"output_directory_path\"]),\n",
    "    SETTING[\"model_mode\"],\n",
    "    SETTING[\"model_data_dicts\"],\n",
    ")"
   ]
  },
  {
   "cell_type": "code",
   "execution_count": null,
   "metadata": {},
   "outputs": [],
   "source": [
    "distance_function = kraft.compute_information_distance_between_2_vectors\n",
    "\n",
    "heat_map_layout_size = 640\n",
    "\n",
    "layout = {\"height\": heat_map_layout_size, \"width\": heat_map_layout_size}"
   ]
  },
  {
   "cell_type": "code",
   "execution_count": null,
   "metadata": {},
   "outputs": [],
   "source": [
    "w_node_x_node_distances = np.asarray(\n",
    "    [\n",
    "        kraft.apply_function_on_slices_from_2_dataframes(\n",
    "            w,\n",
    "            w,\n",
    "            0,\n",
    "            distance_function,\n",
    "            layout={\"title\": {\"text\": \"W{} Distance\".format(i)}, **layout},\n",
    "        ).values\n",
    "        for i, w in enumerate(ws)\n",
    "    ]\n",
    ")"
   ]
  },
  {
   "cell_type": "code",
   "execution_count": null,
   "metadata": {},
   "outputs": [],
   "source": [
    "h_node_x_node_distances = np.asarray(\n",
    "    [\n",
    "        kraft.apply_function_on_slices_from_2_dataframes(\n",
    "            h,\n",
    "            h,\n",
    "            1,\n",
    "            distance_function,\n",
    "            layout={\"title\": {\"text\": \"H{} Distance\".format(i)}, **layout},\n",
    "        ).values\n",
    "        for i, h in enumerate(hs)\n",
    "    ]\n",
    ")"
   ]
  },
  {
   "cell_type": "code",
   "execution_count": null,
   "metadata": {},
   "outputs": [],
   "source": [
    "node_x_node_distances = np.concatenate(\n",
    "    (w_node_x_node_distances, h_node_x_node_distances)\n",
    ")\n",
    "\n",
    "node_x_node_distance = pd.DataFrame(\n",
    "    np.mean(node_x_node_distances, axis=0), index=hs[0].index, columns=ws[0].columns\n",
    ")\n",
    "\n",
    "kraft.plot_heat_map(\n",
    "    node_x_node_distance.iloc[\n",
    "        kraft.cluster_matrix(node_x_node_distance.values, 0),\n",
    "        kraft.cluster_matrix(node_x_node_distance.values, 1),\n",
    "    ],\n",
    "    layout={\"title\": {\"text\": \"W H Distance\"}, **layout},\n",
    ")"
   ]
  },
  {
   "cell_type": "code",
   "execution_count": null,
   "metadata": {},
   "outputs": [],
   "source": [
    "rs_01 = kraft.normalize_array(\n",
    "    np.concatenate(tuple((r,) * r for r in SETTING[\"mf_rs\"])), \"0-1\"\n",
    ")\n",
    "\n",
    "node_factors = SETTING[\"mf_r_range\"] ** rs_01\n",
    "\n",
    "node_marker_size = 3 ** (1 - rs_01) * 16"
   ]
  },
  {
   "cell_type": "code",
   "execution_count": null,
   "metadata": {},
   "outputs": [],
   "source": [
    "gps_map_directory_path = \"{}/gps_map\".format(SETTING[\"output_directory_path\"])\n",
    "\n",
    "kraft.establish_path(gps_map_directory_path, \"directory\")"
   ]
  },
  {
   "cell_type": "code",
   "execution_count": null,
   "metadata": {},
   "outputs": [],
   "source": [
    "for w_h_str in (\"w\", \"h\"):\n",
    "\n",
    "    if w_h_str == \"w\":\n",
    "\n",
    "        element_x_node = pd.concat(ws)\n",
    "\n",
    "    else:\n",
    "\n",
    "        element_x_node = pd.concat(hs, axis=1).T\n",
    "\n",
    "    element_x_node *= node_factors\n",
    "\n",
    "    element_x_node **= SETTING[\"{}_gps_map_node_power\".format(w_h_str)]\n",
    "\n",
    "    gps_map = kraft.GPSMap(\n",
    "        element_x_node, node_x_node_distance, node_marker_size=node_marker_size\n",
    "    )\n",
    "\n",
    "    kraft.write_gps_map(\n",
    "        \"{}/{}_gps_map.pickle.gz\".format(gps_map_directory_path, w_h_str), gps_map\n",
    "    )\n",
    "\n",
    "    gps_map.plot(\n",
    "        element_trace=SETTING[\"{}_gps_map_element_trace\".format(w_h_str)],\n",
    "        html_file_path=\"{}/{}_gps_map.html\".format(gps_map_directory_path, w_h_str),\n",
    "    )"
   ]
  }
 ],
 "metadata": {
  "kernelspec": {
   "display_name": "Python 3",
   "language": "python",
   "name": "python3"
  },
  "language_info": {
   "codemirror_mode": {
    "name": "ipython",
    "version": 3
   },
   "file_extension": ".py",
   "mimetype": "text/x-python",
   "name": "python",
   "nbconvert_exporter": "python",
   "pygments_lexer": "ipython3",
   "version": "3.7.8"
  }
 },
 "nbformat": 4,
 "nbformat_minor": 4
}
