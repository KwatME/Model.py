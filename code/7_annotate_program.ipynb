{
 "cells": [
  {
   "cell_type": "code",
   "execution_count": null,
   "metadata": {
    "ExecuteTime": {
     "end_time": "2018-07-08T00:30:32.513083Z",
     "start_time": "2018-07-08T00:30:32.501224Z"
    }
   },
   "outputs": [],
   "source": [
    "%load_ext autoreload\n",
    "\n",
    "%autoreload 2"
   ]
  },
  {
   "cell_type": "code",
   "execution_count": null,
   "metadata": {
    "ExecuteTime": {
     "end_time": "2018-07-08T00:30:34.623086Z",
     "start_time": "2018-07-08T00:30:32.514708Z"
    }
   },
   "outputs": [],
   "source": [
    "from environment import *\n",
    "\n",
    "import analysis as a\n",
    "\n",
    "p = path(a)"
   ]
  },
  {
   "cell_type": "code",
   "execution_count": null,
   "metadata": {
    "ExecuteTime": {
     "end_time": "2018-07-08T00:30:34.682368Z",
     "start_time": "2018-07-08T00:30:34.625253Z"
    }
   },
   "outputs": [],
   "source": [
    "w = pd.read_table(\n",
    "    p['w_file_path'],\n",
    "    index_col=0,\n",
    ")\n",
    "\n",
    "h = pd.read_table(\n",
    "    p['h_file_path'],\n",
    "    index_col=0,\n",
    ")"
   ]
  },
  {
   "cell_type": "code",
   "execution_count": null,
   "metadata": {
    "ExecuteTime": {
     "end_time": "2018-07-08T00:30:34.729664Z",
     "start_time": "2018-07-08T00:30:34.683851Z"
    },
    "scrolled": false
   },
   "outputs": [],
   "source": [
    "kras_w = pd.read_table(\n",
    "    '../data/kras_map/nmf_k9_w.tsv',\n",
    "    index_col=0,\n",
    ")\n",
    "\n",
    "kras_h = pd.read_table(\n",
    "    '../data/kras_map/nmf_k9_h.tsv',\n",
    "    index_col=0,\n",
    ")\n",
    "\n",
    "common_elements = h.columns & kras_h.columns\n",
    "\n",
    "if 0 < common_elements.size:\n",
    "\n",
    "    ccal.make_comparison_panel(\n",
    "        h[common_elements],\n",
    "        kras_h[common_elements],\n",
    "        title='Program Comparison ({} common elements)'.format(common_elements.size),\n",
    "        name_0='{} Program'.format(a.NAME),\n",
    "        name_1='KRAS Program',\n",
    "    )"
   ]
  },
  {
   "cell_type": "code",
   "execution_count": null,
   "metadata": {
    "ExecuteTime": {
     "end_time": "2018-07-08T00:31:29.260581Z",
     "start_time": "2018-07-08T00:30:34.731193Z"
    }
   },
   "outputs": [],
   "source": [
    "feature_dicts = make_feature_dicts()"
   ]
  },
  {
   "cell_type": "code",
   "execution_count": null,
   "metadata": {
    "ExecuteTime": {
     "start_time": "2018-07-08T00:30:32.496Z"
    },
    "scrolled": false
   },
   "outputs": [],
   "source": [
    "wt_or_h = 'h'\n",
    "\n",
    "targets = h**0.64\n",
    "\n",
    "ccal.make_match_panels(\n",
    "    targets,\n",
    "    feature_dicts,\n",
    "    n_job=a.MAX_N_JOB,\n",
    "    extreme_feature_threshold=a.EXTREME_FEATURE_THRESHOLD,\n",
    "    directory_path=p['{}_match_directory_path'.format(wt_or_h)],\n",
    "    plotly_directory_path=p['{}_match_plotly_directory_path'.format(wt_or_h)],\n",
    "    overwrite=False,\n",
    ")"
   ]
  }
 ],
 "metadata": {
  "kernelspec": {
   "display_name": "Python 3",
   "language": "python",
   "name": "python3"
  },
  "language_info": {
   "codemirror_mode": {
    "name": "ipython",
    "version": 3
   },
   "file_extension": ".py",
   "mimetype": "text/x-python",
   "name": "python",
   "nbconvert_exporter": "python",
   "pygments_lexer": "ipython3",
   "version": "3.5.5"
  }
 },
 "nbformat": 4,
 "nbformat_minor": 2
}
