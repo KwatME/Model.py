{
 "cells": [
  {
   "cell_type": "code",
   "execution_count": null,
   "metadata": {
    "ExecuteTime": {
     "end_time": "2018-07-06T09:53:06.646469Z",
     "start_time": "2018-07-06T09:53:06.633169Z"
    }
   },
   "outputs": [],
   "source": [
    "%load_ext autoreload\n",
    "%autoreload 2"
   ]
  },
  {
   "cell_type": "code",
   "execution_count": null,
   "metadata": {
    "ExecuteTime": {
     "end_time": "2018-07-06T20:13:16.628911Z",
     "start_time": "2018-07-06T20:13:14.935143Z"
    }
   },
   "outputs": [],
   "source": [
    "from environment import *\n",
    "\n",
    "with open(\"setting.yaml\") as yaml_file:\n",
    "\n",
    "    SETTING = yaml.load(yaml_file)\n",
    "\n",
    "PATH = make_path_dict(SETTING)"
   ]
  },
  {
   "cell_type": "code",
   "execution_count": null,
   "metadata": {},
   "outputs": [],
   "source": [
    "if SETTING[\"signal_type\"] == \"raw\":\n",
    "\n",
    "    raise"
   ]
  },
  {
   "cell_type": "code",
   "execution_count": null,
   "metadata": {
    "ExecuteTime": {
     "end_time": "2018-07-06T09:53:09.916306Z",
     "start_time": "2018-07-06T09:53:08.350235Z"
    }
   },
   "outputs": [],
   "source": [
    "feature_x_sample_processed = pd.read_table(\n",
    "    PATH[\"feature_x_sample.processed.tsv\"], index_col=0\n",
    ")"
   ]
  },
  {
   "cell_type": "code",
   "execution_count": null,
   "metadata": {
    "ExecuteTime": {
     "end_time": "2018-07-06T10:01:47.552850Z",
     "start_time": "2018-07-06T09:53:09.919618Z"
    }
   },
   "outputs": [],
   "source": [
    "for element_type, df in (\n",
    "    (\"feature\", feature_x_sample_processed),\n",
    "    (\"sample\", feature_x_sample_processed.T),\n",
    "):\n",
    "\n",
    "    element_x_fit_parameter = ccal.fit_skew_t_pdfs(\n",
    "        df,\n",
    "        n_job=SETTING[\"max_n_job\"],\n",
    "        output_file_path=PATH[\"{}_x_fit_parameter.tsv\".format(element_type)],\n",
    "    )\n",
    "\n",
    "    element_x_fit_parameter = pd.read_table(\n",
    "        PATH[\"{}_x_fit_parameter.tsv\".format(element_type)], index_col=0\n",
    "    )\n",
    "\n",
    "    for parameter, parameter_values in element_x_fit_parameter.items():\n",
    "\n",
    "        if parameter_values.unique().size < 2:\n",
    "\n",
    "            continue\n",
    "\n",
    "        ccal.plot_distributions(\n",
    "            (parameter_values,),\n",
    "            names=(parameter,),\n",
    "            plot_rug=parameter_values.size < SETTING[\"plot_rug_max_size\"],\n",
    "            title=\"{}<br>Distribution of {}\".format(\n",
    "                SETTING[\"{}_alias\".format(element_type)], parameter\n",
    "            ),\n",
    "            xaxis_title=parameter,\n",
    "        )\n",
    "\n",
    "        parameter_values_sorted = parameter_values.sort_values()\n",
    "\n",
    "        first_element = parameter_values_sorted.index[0]\n",
    "\n",
    "        last_element = parameter_values_sorted.index[-1]\n",
    "\n",
    "        ccal.plot_distributions(\n",
    "            (df.loc[first_element], df.loc[last_element]),\n",
    "            names=(first_element, last_element),\n",
    "            plot_rug=df.shape[1] < SETTING[\"plot_rug_max_size\"],\n",
    "            title=\"{}<br>Distributions with Extreme {}\".format(\n",
    "                SETTING[\"{}_alias\".format(element_type)], parameter\n",
    "            ),\n",
    "            xaxis_title=SETTING[\"feature_x_sample_value_name\"],\n",
    "        )\n",
    "\n",
    "        n_extreme = 3\n",
    "\n",
    "        for rank in list(range(n_extreme)) + list(range(-n_extreme, 0)):\n",
    "\n",
    "            ranked_element = parameter_values_sorted.index[rank]\n",
    "\n",
    "            element_values = df.loc[ranked_element]\n",
    "\n",
    "            n_data, location, scale, degree_of_freedom, shape = element_x_fit_parameter.loc[\n",
    "                ranked_element,\n",
    "                [\"N Data\", \"Location\", \"Scale\", \"Degree of Freedom\", \"Shape\"],\n",
    "            ]\n",
    "\n",
    "            ccal.plot_context(\n",
    "                element_values,\n",
    "                n_data=n_data,\n",
    "                location=location,\n",
    "                scale=scale,\n",
    "                degree_of_freedom=degree_of_freedom,\n",
    "                shape=shape,\n",
    "                plot_rug=element_values.dropna().size < SETTING[\"plot_rug_max_size\"],\n",
    "                title=\"{} {} Rank {}: {}\".format(\n",
    "                    SETTING[\"{}_alias\".format(element_type)],\n",
    "                    parameter,\n",
    "                    rank,\n",
    "                    ranked_element,\n",
    "                ),\n",
    "                xaxis_title=SETTING[\"feature_x_sample_value_name\"],\n",
    "            )"
   ]
  }
 ],
 "metadata": {
  "kernelspec": {
   "display_name": "Python 3",
   "language": "python",
   "name": "python3"
  },
  "language_info": {
   "codemirror_mode": {
    "name": "ipython",
    "version": 3
   },
   "file_extension": ".py",
   "mimetype": "text/x-python",
   "name": "python",
   "nbconvert_exporter": "python",
   "pygments_lexer": "ipython3",
   "version": "3.6.7"
  }
 },
 "nbformat": 4,
 "nbformat_minor": 2
}
