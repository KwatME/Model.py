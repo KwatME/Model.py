{
 "cells": [
  {
   "cell_type": "code",
   "execution_count": null,
   "metadata": {
    "ExecuteTime": {
     "end_time": "2018-07-06T20:13:14.932963Z",
     "start_time": "2018-07-06T20:13:14.920835Z"
    }
   },
   "outputs": [],
   "source": [
    "%load_ext autoreload\n",
    "%autoreload 2"
   ]
  },
  {
   "cell_type": "code",
   "execution_count": null,
   "metadata": {
    "ExecuteTime": {
     "end_time": "2018-07-06T20:13:16.628911Z",
     "start_time": "2018-07-06T20:13:14.935143Z"
    }
   },
   "outputs": [],
   "source": [
    "from environment import *\n",
    "from setting import *"
   ]
  },
  {
   "cell_type": "code",
   "execution_count": null,
   "metadata": {},
   "outputs": [],
   "source": [
    "feature_x_sample = pd.read_table(\n",
    "    PATH_DICT['feature_x_sample_file_path'],\n",
    "    index_col=0,\n",
    ")"
   ]
  },
  {
   "cell_type": "code",
   "execution_count": null,
   "metadata": {},
   "outputs": [],
   "source": [
    "feature_x_sample__normalized = pd.DataFrame(\n",
    "     ccal.normalize_nd_array(\n",
    "         feature_x_sample.values,\n",
    "         None,\n",
    "         '0-1',\n",
    "         raise_for_bad=False,\n",
    "     ),\n",
    "     index=feature_x_sample.index,\n",
    "     columns=feature_x_sample.columns,\n",
    ")"
   ]
  },
  {
   "cell_type": "code",
   "execution_count": null,
   "metadata": {},
   "outputs": [],
   "source": [
    "if SELECT_FEATURE_AUTOMATICALLY:\n",
    "    \n",
    "    features = ccal.select_series_low_and_high_index(\n",
    "        feature_x_sample__normalized.std(axis=1),\n",
    "        title='Feature Raw Signal Standard Deviation',\n",
    "    )[1]\n",
    "    \n",
    "else:\n",
    "    \n",
    "    features = feature_x_sample.index\n",
    "    \n",
    "print('Selected {} feature.'.format(features.size))"
   ]
  },
  {
   "cell_type": "code",
   "execution_count": null,
   "metadata": {},
   "outputs": [],
   "source": [
    "if SELECT_SAMPLE_AUTOMATICALLY:\n",
    "    \n",
    "    samples = ccal.select_series_low_and_high_index(\n",
    "        feature_x_sample__normalized.std(),\n",
    "        title='Sample Raw Signal Standard Deviation',\n",
    "    )[1]\n",
    "    \n",
    "else:\n",
    "    \n",
    "    samples = feature_x_sample.columns\n",
    "    \n",
    "print('Selected {} sample.'.format(samples.size))"
   ]
  },
  {
   "cell_type": "code",
   "execution_count": null,
   "metadata": {},
   "outputs": [],
   "source": [
    "signal = feature_x_sample__normalized.loc[features, samples]"
   ]
  },
  {
   "cell_type": "code",
   "execution_count": null,
   "metadata": {},
   "outputs": [],
   "source": [
    "signal.to_csv(\n",
    "    PATH_DICT['raw_signal_matrix_file_path'],\n",
    "    sep='\\t',\n",
    ")\n",
    "\n",
    "ccal.summarize_feature_x_sample(\n",
    "    signal,\n",
    "    title='Raw Signal Matrix',\n",
    "    feature_name=FEATURE_NAME,\n",
    "    sample_name=SAMPLE_NAME,\n",
    ")\n",
    "\n",
    "signal"
   ]
  },
  {
   "cell_type": "code",
   "execution_count": null,
   "metadata": {},
   "outputs": [],
   "source": [
    "if 'feature' in ELEMENTS:\n",
    "    \n",
    "    feature_context = pd.read_table(\n",
    "        PATH_DICT['feature_context_matrix_file_path'],\n",
    "        index_col=0,\n",
    "    )\n",
    "    \n",
    "    feature_negative_signal = -feature_context.clip(upper=0)\n",
    "    \n",
    "    feature_positive_signal = feature_context.clip(lower=0)"
   ]
  },
  {
   "cell_type": "code",
   "execution_count": null,
   "metadata": {},
   "outputs": [],
   "source": [
    "if 'sample' in ELEMENTS:\n",
    "    \n",
    "    sample_context = pd.read_table(\n",
    "        PATH_DICT['sample_context_matrix_file_path'],\n",
    "        index_col=0,\n",
    "    )\n",
    "    \n",
    "    sample_negative_signal = -sample_context.clip(upper=0).T\n",
    "    \n",
    "    sample_positive_signal = sample_context.clip(lower=0).T"
   ]
  },
  {
   "cell_type": "code",
   "execution_count": null,
   "metadata": {},
   "outputs": [],
   "source": [
    "if 'feature' in ELEMENTS and 'sample' in ELEMENTS:\n",
    "    \n",
    "    negative_signal = feature_negative_signal + sample_negative_signal\n",
    "    \n",
    "    positive_signal = feature_positive_signal + sample_positive_signal\n",
    "    \n",
    "elif 'feature' in ELEMENTS:\n",
    "    \n",
    "    negative_signal = feature_negative_signal\n",
    "    \n",
    "    positive_signal = feature_positive_signal\n",
    "    \n",
    "elif 'sample' in ELEMENTS:\n",
    "    \n",
    "    negative_signal = sample_negative_signal\n",
    "    \n",
    "    positive_signal = sample_positive_signal"
   ]
  },
  {
   "cell_type": "code",
   "execution_count": null,
   "metadata": {},
   "outputs": [],
   "source": [
    "if SELECT_FEATURE_AUTOMATICALLY:\n",
    "    \n",
    "    negative_features = ccal.select_series_low_and_high_index(\n",
    "        negative_signal.sum(axis=1),\n",
    "        title='Feature Negative Signal Sum',\n",
    "    )[1]\n",
    "     \n",
    "    positive_features = ccal.select_series_low_and_high_index(\n",
    "        positive_signal.sum(axis=1),\n",
    "        title='Feature Positive Signal Sum',\n",
    "    )[1]\n",
    "    \n",
    "else:\n",
    "    \n",
    "    negative_features = negative_signal.index\n",
    "    \n",
    "    positive_features = positive_signal.index\n",
    "    \n",
    "print('Selected {} negative and {} positive feature.'.format(\n",
    "    negative_features.size,\n",
    "    positive_features.size,\n",
    "))"
   ]
  },
  {
   "cell_type": "code",
   "execution_count": null,
   "metadata": {},
   "outputs": [],
   "source": [
    "if SELECT_SAMPLE_AUTOMATICALLY:\n",
    "    \n",
    "    negative_samples = ccal.select_series_low_and_high_index(\n",
    "        negative_signal.sum(),\n",
    "        title='sample Negative Signal Sum',\n",
    "    )[1]\n",
    "     \n",
    "    positive_samples = ccal.select_series_low_and_high_index(\n",
    "        positive_signal.sum(),\n",
    "        title='sample Positive Signal Sum',\n",
    "    )[1]\n",
    "\n",
    "else:\n",
    "    \n",
    "    negative_samples = negative_signal.columns\n",
    "    \n",
    "    positive_samples = positive_signal.columns\n",
    "    \n",
    "print('Selected {} negative and {} positive sample.'.format(\n",
    "    negative_samples.size,\n",
    "    positive_samples.size,\n",
    "))"
   ]
  },
  {
   "cell_type": "code",
   "execution_count": null,
   "metadata": {},
   "outputs": [],
   "source": [
    "negative_signal__selected = negative_signal.loc[negative_features, negative_samples]\n",
    "\n",
    "positive_signal__selected = positive_signal.loc[positive_features, positive_samples]"
   ]
  },
  {
   "cell_type": "code",
   "execution_count": null,
   "metadata": {},
   "outputs": [],
   "source": [
    "if 'negative' in CONTEXTS and 'positive' in CONTEXTS:\n",
    "    \n",
    "    negative_signal__selected.index = ('(-) {}'.format(feature) for feature in negative_signal__selected.index)\n",
    "    \n",
    "    positive_signal__selected.index = ('(+) {}'.format(feature) for feature in positive_signal__selected.index)\n",
    "    \n",
    "    signal = pd.concat((\n",
    "        negative_signal__selected,\n",
    "        positive_signal__selected,\n",
    "    ))\n",
    "    \n",
    "elif 'negative' in CONTEXTS:\n",
    "    \n",
    "    signal = negative_signal__selected\n",
    "    \n",
    "elif 'positive' in CONTEXTS:\n",
    "    \n",
    "    signal = positive_signal__selected"
   ]
  },
  {
   "cell_type": "code",
   "execution_count": null,
   "metadata": {},
   "outputs": [],
   "source": [
    "if 'feature' in ELEMENTS and 'sample' in ELEMENTS:\n",
    "    \n",
    "    axis = None\n",
    "    \n",
    "elif 'feature' in ELEMENTS:\n",
    "    \n",
    "    axis = 1\n",
    "    \n",
    "elif 'sample' in ELEMENTS:\n",
    "    \n",
    "    axis = 0\n",
    "    \n",
    "signal = pd.DataFrame(\n",
    "     ccal.normalize_nd_array(\n",
    "         signal.values,\n",
    "         axis,\n",
    "         '0-1',\n",
    "         raise_for_bad=False,\n",
    "     ),\n",
    "     index=signal.index,\n",
    "     columns=signal.columns,\n",
    ")"
   ]
  },
  {
   "cell_type": "code",
   "execution_count": null,
   "metadata": {},
   "outputs": [],
   "source": [
    "signal.to_csv(\n",
    "    PATH_DICT['context_signal_matrix_file_path'],\n",
    "    sep='\\t',\n",
    ")\n",
    "\n",
    "ccal.summarize_feature_x_sample(\n",
    "    signal,\n",
    "    title='Signal Matrix',\n",
    "    feature_name=FEATURE_NAME,\n",
    "    sample_name=SAMPLE_NAME,\n",
    ")\n",
    "\n",
    "signal"
   ]
  }
 ],
 "metadata": {
  "kernelspec": {
   "display_name": "Python 3",
   "language": "python",
   "name": "python3"
  },
  "language_info": {
   "codemirror_mode": {
    "name": "ipython",
    "version": 3
   },
   "file_extension": ".py",
   "mimetype": "text/x-python",
   "name": "python",
   "nbconvert_exporter": "python",
   "pygments_lexer": "ipython3",
   "version": "3.6.7"
  }
 },
 "nbformat": 4,
 "nbformat_minor": 2
}
