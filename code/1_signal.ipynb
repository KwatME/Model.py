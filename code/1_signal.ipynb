{
 "cells": [
  {
   "cell_type": "code",
   "execution_count": null,
   "metadata": {},
   "outputs": [],
   "source": [
    "from __init__ import *"
   ]
  },
  {
   "cell_type": "code",
   "execution_count": null,
   "metadata": {},
   "outputs": [],
   "source": [
    "plot = False"
   ]
  },
  {
   "cell_type": "code",
   "execution_count": null,
   "metadata": {},
   "outputs": [],
   "source": [
    "signal_directory_path = \"{}/signal/\".format(SETTING[\"output_directory_path\"])\n",
    "\n",
    "kraft.path(signal_directory_path, \"directory\")"
   ]
  },
  {
   "cell_type": "code",
   "execution_count": null,
   "metadata": {},
   "outputs": [],
   "source": [
    "def compute_surprise_(r, d):\n",
    "\n",
    "    assert (0 <= r).all()\n",
    "\n",
    "    assert (0 <= d).all()\n",
    "\n",
    "    r_sum = r.sum()\n",
    "\n",
    "    assert 0 < r_sum\n",
    "\n",
    "    d_sum = d.sum()\n",
    "\n",
    "    assert 0 < d_sum\n",
    "\n",
    "    rp = r / r_sum\n",
    "\n",
    "    dp = d / d_sum\n",
    "\n",
    "    s = rp * np.log(dp / rp)\n",
    "\n",
    "    s[s == -np.inf] = 0\n",
    "\n",
    "    return s"
   ]
  },
  {
   "cell_type": "code",
   "execution_count": null,
   "metadata": {},
   "outputs": [],
   "source": [
    "def compute_surprise(r, d, plot=True):\n",
    "\n",
    "    assert (r.index == d.index).all()\n",
    "\n",
    "    return pd.Series(compute_surprise_(r.values, d.values), index=d.index, name=d.name)"
   ]
  },
  {
   "cell_type": "code",
   "execution_count": null,
   "metadata": {},
   "outputs": [],
   "source": [
    "for data_dict_index, data_dict in enumerate(SETTING[\"model_data_dicts\"]):\n",
    "\n",
    "    print(\"=\" * 8, data_dict[\"name\"], \"=\" * 8)\n",
    "\n",
    "    dataframe = pd.read_csv(data_dict[\"file_path\"], sep=\"\\t\", index_col=0)\n",
    "\n",
    "    dataframe.columns.name = data_dict[\"axis1_name\"]\n",
    "\n",
    "    dataframe = dataframe.loc[(dataframe != 0).any(axis=1)]\n",
    "\n",
    "    sum_axis = dataframe.sum()\n",
    "\n",
    "    surprise = dataframe.apply(\n",
    "        lambda series: compute_surprise(sum_axis, series, plot=False), axis=1\n",
    "    )\n",
    "\n",
    "    kraft.summarize_dataframe(surprise, plot=plot)\n",
    "\n",
    "    surprise_negative = surprise.clip(upper=0)\n",
    "\n",
    "    surprise_positive = surprise.clip(lower=0)\n",
    "\n",
    "    surprise_negative_elements = kraft.select_index(\n",
    "        surprise_negative.sum(axis=1), \"<\", standard_deviation=2\n",
    "    )\n",
    "\n",
    "    surprise_positive_elements = kraft.select_index(\n",
    "        surprise_positive.sum(axis=1), \">\", standard_deviation=1.5\n",
    "    )\n",
    "\n",
    "    surprise_negative_select = surprise_negative.loc[surprise_negative_elements]\n",
    "\n",
    "    surprise_positive_select = surprise_positive.loc[surprise_positive_elements]\n",
    "\n",
    "    surprise_negative_select.index = pd.Index(\n",
    "        (\"(-) {}\".format(element) for element in surprise_negative_select.index),\n",
    "        name=surprise_negative_select.index.name,\n",
    "    )\n",
    "\n",
    "    surprise_positive_select.index = pd.Index(\n",
    "        (\"(+) {}\".format(element) for element in surprise_positive_select.index),\n",
    "        name=surprise_positive_select.index.name,\n",
    "    )\n",
    "\n",
    "    signal = pd.concat((-surprise_negative_select, surprise_positive_select))\n",
    "\n",
    "    signal.to_csv(\"{}/{}.tsv\".format(signal_directory_path, data_dict_index), sep=\"\\t\")"
   ]
  }
 ],
 "metadata": {
  "kernelspec": {
   "display_name": "Python 3",
   "language": "python",
   "name": "python3"
  },
  "language_info": {
   "codemirror_mode": {
    "name": "ipython",
    "version": 3
   },
   "file_extension": ".py",
   "mimetype": "text/x-python",
   "name": "python",
   "nbconvert_exporter": "python",
   "pygments_lexer": "ipython3",
   "version": "3.7.8"
  }
 },
 "nbformat": 4,
 "nbformat_minor": 4
}
