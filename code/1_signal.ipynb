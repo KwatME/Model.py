{
 "cells": [
  {
   "cell_type": "code",
   "execution_count": null,
   "metadata": {},
   "outputs": [],
   "source": [
    "%load_ext autoreload\n",
    "%autoreload 2"
   ]
  },
  {
   "cell_type": "code",
   "execution_count": null,
   "metadata": {},
   "outputs": [],
   "source": [
    "from __init__ import *"
   ]
  },
  {
   "cell_type": "code",
   "execution_count": null,
   "metadata": {},
   "outputs": [],
   "source": [
    "signal_directory_path = \"{}/signal\".format(SETTING[\"output_directory_path\"])\n",
    "\n",
    "kraft.establish_path(signal_directory_path, \"directory\")"
   ]
  },
  {
   "cell_type": "code",
   "execution_count": null,
   "metadata": {},
   "outputs": [],
   "source": [
    "signal_select_directory_path = \"{}/signal_select\".format(\n",
    "    SETTING[\"output_directory_path\"]\n",
    ")\n",
    "\n",
    "kraft.establish_path(signal_select_directory_path, \"directory\")"
   ]
  },
  {
   "cell_type": "code",
   "execution_count": null,
   "metadata": {},
   "outputs": [],
   "source": [
    "plot = True"
   ]
  },
  {
   "cell_type": "code",
   "execution_count": null,
   "metadata": {},
   "outputs": [],
   "source": [
    "signals = []\n",
    "\n",
    "for data_dict_index, data_dict in enumerate(SETTING[\"model_data_dicts\"]):\n",
    "\n",
    "    print(\"=\" * 8, data_dict[\"name\"], \"=\" * 8)\n",
    "\n",
    "    dataframe = pd.read_csv(\n",
    "        \"{}/prepare/{}.tsv\".format(SETTING[\"output_directory_path\"], data_dict_index),\n",
    "        sep=\"\\t\",\n",
    "        index_col=0,\n",
    "    )\n",
    "\n",
    "    dataframe.columns.name = data_dict[\"axis1_name\"]\n",
    "\n",
    "    signal = kraft.normalize_dataframe(dataframe, 1, \"0-1\")\n",
    "\n",
    "    signal.to_csv(\"{}/{}.tsv\".format(signal_directory_path, data_dict_index), sep=\"\\t\")\n",
    "\n",
    "    signals.append(signal)\n",
    "\n",
    "    kraft.summarize_dataframe(signal, plot=plot)"
   ]
  },
  {
   "cell_type": "code",
   "execution_count": null,
   "metadata": {},
   "outputs": [],
   "source": [
    "signals_ = []\n",
    "\n",
    "for data_dict_index, data_dict in enumerate(SETTING[\"model_data_dicts\"]):\n",
    "\n",
    "    signal = signals[data_dict_index]\n",
    "\n",
    "    signal = signal.loc[\n",
    "        kraft.select_series_indices(\n",
    "            signal.std(axis=1),\n",
    "            \">\",\n",
    "            standard_deviation=1,\n",
    "            plot=plot,\n",
    "            layout={\"yaxis\": {\"title\": {\"text\": \"Standard Deviation\"}}},\n",
    "        )\n",
    "    ]\n",
    "\n",
    "    kraft.summarize_dataframe(signal, plot=plot)\n",
    "\n",
    "    signals_.append(signal)"
   ]
  },
  {
   "cell_type": "code",
   "execution_count": null,
   "metadata": {},
   "outputs": [],
   "source": [
    "signal.to_csv(\n",
    "        \"{}/{}.tsv\".format(signal_select_directory_path, data_dict_index), sep=\"\\t\"\n",
    "    )"
   ]
  }
 ],
 "metadata": {
  "kernelspec": {
   "display_name": "Python 3",
   "language": "python",
   "name": "python3"
  },
  "language_info": {
   "codemirror_mode": {
    "name": "ipython",
    "version": 3
   },
   "file_extension": ".py",
   "mimetype": "text/x-python",
   "name": "python",
   "nbconvert_exporter": "python",
   "pygments_lexer": "ipython3",
   "version": "3.7.3"
  }
 },
 "nbformat": 4,
 "nbformat_minor": 4
}
