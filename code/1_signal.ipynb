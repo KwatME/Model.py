{
 "cells": [
  {
   "cell_type": "code",
   "execution_count": null,
   "metadata": {},
   "outputs": [],
   "source": [
    "%load_ext autoreload\n",
    "%autoreload 2"
   ]
  },
  {
   "cell_type": "code",
   "execution_count": null,
   "metadata": {},
   "outputs": [],
   "source": [
    "from __init__ import *"
   ]
  },
  {
   "cell_type": "code",
   "execution_count": null,
   "metadata": {},
   "outputs": [],
   "source": [
    "plot = True"
   ]
  },
  {
   "cell_type": "code",
   "execution_count": null,
   "metadata": {},
   "outputs": [],
   "source": [
    "signal_directory_path = \"{}/signal\".format(SETTING[\"output_directory_path\"])\n",
    "\n",
    "kraft.establish_path(signal_directory_path, \"directory\")"
   ]
  },
  {
   "cell_type": "code",
   "execution_count": null,
   "metadata": {},
   "outputs": [],
   "source": [
    "def f(r, d, plot=True):\n",
    "    \n",
    "    r_index = r.index.tolist()\n",
    "    \n",
    "    d = d[r_index]\n",
    "    \n",
    "    if plot:\n",
    "        \n",
    "        kraft.plot_scatter(\n",
    "            (\n",
    "                (\n",
    "                    r,\n",
    "                ),\n",
    "                (\n",
    "                    tuple(r_index.index(i) for i in d.index),\n",
    "                    axis1_element_value,\n",
    "                ),\n",
    "            ),\n",
    "            traces=(\n",
    "                {},\n",
    "                {\n",
    "                    \"mode\": \"markers\",\n",
    "                    \"marker\": {\"size\": 2},\n",
    "                },\n",
    "            ),\n",
    "        )\n",
    "\n",
    "        kraft.plot_histogram((d,))\n",
    "    \n",
    "    r = (r / r.sum()).values\n",
    "    \n",
    "    d = (d / d.sum()).values\n",
    "    \n",
    "    is_not_0 = d!=0\n",
    "    \n",
    "    d_ = d[is_not_0]\n",
    "    \n",
    "    r_ = r[is_not_0]\n",
    "    \n",
    "    s_ = r_ * np.log(r_ / d_)\n",
    "    \n",
    "    if plot:\n",
    "        \n",
    "        kraft.plot_histogram((s_,))\n",
    "    \n",
    "    d[is_not_0] = s_\n",
    "                     \n",
    "    return d"
   ]
  },
  {
   "cell_type": "code",
   "execution_count": null,
   "metadata": {},
   "outputs": [],
   "source": [
    "signal_selects = []\n",
    "\n",
    "for data_dict_index, data_dict in enumerate(SETTING[\"model_data_dicts\"]):\n",
    "\n",
    "    print(\"=\" * 8, data_dict[\"name\"], \"=\" * 8)\n",
    "\n",
    "    dataframe = pd.read_csv(data_dict[\"file_path\"], sep=\"\\t\", index_col=0)\n",
    "\n",
    "    dataframe.columns.name = data_dict[\"axis1_name\"]\n",
    "    \n",
    "    break\n",
    "    \n",
    "    kraft.summarize_dataframe(dataframe, plot=plot)\n",
    "\n",
    "    dataframe = kraft.normalize_dataframe(dataframe, 0, \"-0-\")\n",
    "    kraft.summarize_dataframe(dataframe, plot=plot)\n",
    "\n",
    "    dataframe = kraft.normalize_dataframe(dataframe, 1, \"0-1\")\n",
    "    kraft.summarize_dataframe(dataframe, plot=plot)\n",
    "\n",
    "    dataframe.to_csv(\n",
    "        \"{}/{}.tsv\".format(signal_directory_path, data_dict_index), sep=\"\\t\"\n",
    "    )"
   ]
  },
  {
   "cell_type": "code",
   "execution_count": null,
   "metadata": {},
   "outputs": [],
   "source": [
    "axis1_summary_value = dataframe.mean().sort_values()\n",
    "\n",
    "kraft.plot_histogram((axis1_summary_value,))\n",
    "\n",
    "dataframe_ = dataframe.apply(lambda series: f(axis1_summary_value, series, plot=False), axis=1)"
   ]
  },
  {
   "cell_type": "code",
   "execution_count": null,
   "metadata": {},
   "outputs": [],
   "source": [
    "pd.DataFrame((a for a in dataframe_))"
   ]
  },
  {
   "cell_type": "code",
   "execution_count": null,
   "metadata": {},
   "outputs": [],
   "source": [
    "kraft.summarize_dataframe(dataframe_)"
   ]
  },
  {
   "cell_type": "code",
   "execution_count": null,
   "metadata": {},
   "outputs": [],
   "source": [
    "for axis1_element in (\n",
    "#     \"MT-CO2\",\n",
    "#     \"GAPDH\",\n",
    "#     \"CD8A\",\n",
    "#     \"CD14\",\n",
    "#     \"CD47\",\n",
    "    \"TP53\",\n",
    "):\n",
    "    \n",
    "    print(\"=\" * 8, axis1_element, \"=\" * 8)\n",
    "    \n",
    "    axis1_element_value = dataframe.loc[axis1_element]\n",
    "    \n",
    "    f(axis1_summary_value, axis1_element_value)"
   ]
  }
 ],
 "metadata": {
  "kernelspec": {
   "display_name": "Python 3",
   "language": "python",
   "name": "python3"
  },
  "language_info": {
   "codemirror_mode": {
    "name": "ipython",
    "version": 3
   },
   "file_extension": ".py",
   "mimetype": "text/x-python",
   "name": "python",
   "nbconvert_exporter": "python",
   "pygments_lexer": "ipython3",
   "version": "3.7.1"
  }
 },
 "nbformat": 4,
 "nbformat_minor": 4
}
