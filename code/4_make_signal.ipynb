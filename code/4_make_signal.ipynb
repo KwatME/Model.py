{
 "cells": [
  {
   "cell_type": "code",
   "execution_count": null,
   "metadata": {
    "ExecuteTime": {
     "end_time": "2018-07-06T20:13:14.932963Z",
     "start_time": "2018-07-06T20:13:14.920835Z"
    }
   },
   "outputs": [],
   "source": [
    "%load_ext autoreload\n",
    "\n",
    "%autoreload 2"
   ]
  },
  {
   "cell_type": "code",
   "execution_count": null,
   "metadata": {
    "ExecuteTime": {
     "end_time": "2018-07-06T20:13:16.628911Z",
     "start_time": "2018-07-06T20:13:14.935143Z"
    }
   },
   "outputs": [],
   "source": [
    "from environment import *\n",
    "\n",
    "from setting import *"
   ]
  },
  {
   "cell_type": "code",
   "execution_count": null,
   "metadata": {
    "ExecuteTime": {
     "end_time": "2018-07-06T20:13:16.628911Z",
     "start_time": "2018-07-06T20:13:14.935143Z"
    }
   },
   "outputs": [],
   "source": [
    "path_dict = path(\n",
    "    NAME,\n",
    "    ELEMENTS,\n",
    "    NMF_K,\n",
    "    WT_HCC_K,\n",
    "    H_HCC_K,\n",
    "    UPLOAD_TO_PLOTLY,\n",
    ")"
   ]
  },
  {
   "cell_type": "code",
   "execution_count": null,
   "metadata": {
    "ExecuteTime": {
     "end_time": "2018-07-06T20:13:20.168845Z",
     "start_time": "2018-07-06T20:13:16.631530Z"
    }
   },
   "outputs": [],
   "source": [
    "if 'feature' in ELEMENTS:\n",
    "    \n",
    "    feature_1d_context_matrix = pd.read_table(\n",
    "        path_dict['feature_context_matrix_file_path'],\n",
    "        index_col=0,\n",
    "    )\n",
    "    \n",
    "if 'sample' in ELEMENTS:\n",
    "    \n",
    "    sample_1d_context_matrix = pd.read_table(\n",
    "        path_dict['sample_context_matrix_file_path'],\n",
    "        index_col=0,\n",
    "    )"
   ]
  },
  {
   "cell_type": "code",
   "execution_count": null,
   "metadata": {},
   "outputs": [],
   "source": [
    "if 'feature' in ELEMENTS and 'sample' in ELEMENTS:\n",
    "    \n",
    "    negative_signal_matrix = -feature_1d_context_matrix.clip(upper=0) + -sample_1d_context_matrix.clip(upper=0).T\n",
    "    \n",
    "    positive_signal_matrix = feature_1d_context_matrix.clip(lower=0) + sample_1d_context_matrix.clip(lower=0).T\n",
    "    \n",
    "elif 'feature' in ELEMENTS:\n",
    "    \n",
    "    negative_signal_matrix = -feature_1d_context_matrix.clip(upper=0)\n",
    "    \n",
    "    positive_signal_matrix = feature_1d_context_matrix.clip(lower=0)\n",
    "    \n",
    "elif 'sample' in ELEMENTS:\n",
    "    \n",
    "    negative_signal_matrix = -sample_1d_context_matrix.clip(upper=0).T\n",
    "    \n",
    "    positive_signal_matrix = sample_1d_context_matrix.clip(lower=0).T\n",
    "    \n",
    "negative_signal_matrix.index = ('(-) {}'.format(feature) for feature in negative_signal_matrix.index)\n",
    "\n",
    "positive_signal_matrix.index = ('(+) {}'.format(feature) for feature in positive_signal_matrix.index)"
   ]
  },
  {
   "cell_type": "code",
   "execution_count": null,
   "metadata": {},
   "outputs": [],
   "source": [
    "signal_matrix = pd.concat((\n",
    "    negative_signal_matrix,\n",
    "    positive_signal_matrix,\n",
    "))\n",
    "\n",
    "signal_matrix.to_csv(\n",
    "    path_dict['signal_matrix_file_path'],\n",
    "    sep='\\t',\n",
    ")\n",
    "\n",
    "signal_matrix"
   ]
  },
  {
   "cell_type": "code",
   "execution_count": null,
   "metadata": {},
   "outputs": [],
   "source": [
    "if FEATURES_FILE_PATH is not None:\n",
    "    \n",
    "    features = pd.read_table(\n",
    "        FEATURES_FILE_PATH,\n",
    "        squeeze=True,\n",
    "    ).tolist()\n",
    "    \n",
    "    print('Read {} features.'.format(len(features)))\n",
    "    \n",
    "    negative_signal_matrix = negative_signal_matrix.loc[[index for index in negative_signal_matrix.index if index[4:] in features]]\n",
    "    \n",
    "    print(negative_signal_matrix.shape)\n",
    "    \n",
    "    positive_signal_matrix = positive_signal_matrix.loc[[index for index in positive_signal_matrix.index if index[4:] in features]]\n",
    "    \n",
    "    print(positive_signal_matrix.shape)"
   ]
  },
  {
   "cell_type": "code",
   "execution_count": null,
   "metadata": {},
   "outputs": [],
   "source": [
    "if SELECT_FEATURE_AUTOMATICALLY:\n",
    "    \n",
    "    feature_negative_sum = negative_signal_matrix.sum(axis=1)\n",
    "    \n",
    "    selected_negative_features = feature_negative_sum.index[feature_negative_sum.std() / 2 < feature_negative_sum].tolist()\n",
    "    \n",
    "    feature_positive_sum = positive_signal_matrix.sum(axis=1)\n",
    "    \n",
    "    selected_positive_features = feature_positive_sum.index[feature_positive_sum.std() / 2 < feature_positive_sum].tolist()\n",
    "    \n",
    "    ccal.plot_points(\n",
    "        (\n",
    "            tuple(range(negative_signal_matrix.shape[0])),\n",
    "            tuple(range(positive_signal_matrix.shape[0])),\n",
    "        ),\n",
    "        (\n",
    "            feature_negative_sum.sort_values(),\n",
    "            feature_positive_sum.sort_values(),\n",
    "        ),\n",
    "        names=(\n",
    "            'Negative Signal',\n",
    "            'Positive Signal',\n",
    "        ),\n",
    "    )\n",
    "    \n",
    "elif N_TOP_FEATURE is not None:\n",
    "    \n",
    "    selected_negative_features = ccal.flatten_nested_iterable(negative_signal_matrix.apply(lambda column: column.dropna().sort_values()[-N_TOP_FEATURE:].index))\n",
    "    \n",
    "    selected_positive_features = ccal.flatten_nested_iterable(positive_signal_matrix.apply(lambda column: column.dropna().sort_values()[-N_TOP_FEATURE:].index))\n",
    "    \n",
    "else:\n",
    "    \n",
    "    selected_negative_features = negative_signal_matrix.index.tolist()\n",
    "    \n",
    "    selected_positive_features = positive_signal_matrix.index.tolist()\n",
    "    \n",
    "print('Selected {} negative and {} positive features.'.format(\n",
    "    len(selected_negative_features),\n",
    "    len(selected_positive_features),\n",
    "))"
   ]
  },
  {
   "cell_type": "code",
   "execution_count": null,
   "metadata": {},
   "outputs": [],
   "source": [
    "if SELECT_CONTEXT == 'negative':\n",
    "    \n",
    "    selected_features = selected_negative_features\n",
    "    \n",
    "elif SELECT_CONTEXT == 'positive':\n",
    "    \n",
    "    selected_features = selected_positive_features\n",
    "    \n",
    "elif SELECT_CONTEXT == 'both':\n",
    "    \n",
    "    selected_features = selected_negative_features + selected_positive_features\n",
    "    \n",
    "selected_signal_matrix = signal_matrix.loc[selected_features]"
   ]
  },
  {
   "cell_type": "code",
   "execution_count": null,
   "metadata": {},
   "outputs": [],
   "source": [
    "selected_signal_matrix = pd.DataFrame(\n",
    "    ccal.normalize_nd_array(\n",
    "        selected_signal_matrix.values,\n",
    "        1,\n",
    "        '0-1',\n",
    "        raise_for_bad_value=False,\n",
    "    ),\n",
    "    index=selected_signal_matrix.index,\n",
    "    columns=selected_signal_matrix.columns,\n",
    ")\n",
    "\n",
    "selected_signal_matrix.to_csv(\n",
    "    path_dict['selected_signal_matrix_file_path'],\n",
    "    sep='\\t',\n",
    ")\n",
    "\n",
    "selected_signal_matrix"
   ]
  }
 ],
 "metadata": {
  "kernelspec": {
   "display_name": "Python 3",
   "language": "python",
   "name": "python3"
  },
  "language_info": {
   "codemirror_mode": {
    "name": "ipython",
    "version": 3
   },
   "file_extension": ".py",
   "mimetype": "text/x-python",
   "name": "python",
   "nbconvert_exporter": "python",
   "pygments_lexer": "ipython3",
   "version": "3.6.6"
  }
 },
 "nbformat": 4,
 "nbformat_minor": 2
}
