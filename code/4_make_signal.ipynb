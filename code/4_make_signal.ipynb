{
 "cells": [
  {
   "cell_type": "code",
   "execution_count": null,
   "metadata": {
    "ExecuteTime": {
     "end_time": "2018-07-06T20:13:14.932963Z",
     "start_time": "2018-07-06T20:13:14.920835Z"
    }
   },
   "outputs": [],
   "source": [
    "%load_ext autoreload\n",
    "%autoreload 2"
   ]
  },
  {
   "cell_type": "code",
   "execution_count": null,
   "metadata": {
    "ExecuteTime": {
     "end_time": "2018-07-06T20:13:16.628911Z",
     "start_time": "2018-07-06T20:13:14.935143Z"
    }
   },
   "outputs": [],
   "source": [
    "from environment import *\n",
    "from setting import *"
   ]
  },
  {
   "cell_type": "code",
   "execution_count": null,
   "metadata": {
    "ExecuteTime": {
     "end_time": "2018-07-06T20:13:20.168845Z",
     "start_time": "2018-07-06T20:13:16.631530Z"
    }
   },
   "outputs": [],
   "source": [
    "if 'feature' in ELEMENTS:\n",
    "    \n",
    "    feature_1d_context_matrix = pd.read_table(\n",
    "        PATH_DICT['feature_context_matrix_file_path'],\n",
    "        index_col=0,\n",
    "    )\n",
    "    \n",
    "if 'sample' in ELEMENTS:\n",
    "    \n",
    "    sample_1d_context_matrix = pd.read_table(\n",
    "        PATH_DICT['sample_context_matrix_file_path'],\n",
    "        index_col=0,\n",
    "    )"
   ]
  },
  {
   "cell_type": "code",
   "execution_count": null,
   "metadata": {},
   "outputs": [],
   "source": [
    "if 'feature' in ELEMENTS and 'sample' in ELEMENTS:\n",
    "    \n",
    "    negative_signal_matrix = -feature_1d_context_matrix.clip(upper=0) + -sample_1d_context_matrix.clip(upper=0).T\n",
    "    \n",
    "    positive_signal_matrix = feature_1d_context_matrix.clip(lower=0) + sample_1d_context_matrix.clip(lower=0).T\n",
    "    \n",
    "elif 'feature' in ELEMENTS:\n",
    "    \n",
    "    negative_signal_matrix = -feature_1d_context_matrix.clip(upper=0)\n",
    "    \n",
    "    positive_signal_matrix = feature_1d_context_matrix.clip(lower=0)\n",
    "    \n",
    "elif 'sample' in ELEMENTS:\n",
    "    \n",
    "    negative_signal_matrix = -sample_1d_context_matrix.clip(upper=0).T\n",
    "    \n",
    "    positive_signal_matrix = sample_1d_context_matrix.clip(lower=0).T\n",
    "    \n",
    "negative_signal_matrix.index = ('(-) {}'.format(feature) for feature in negative_signal_matrix.index)\n",
    "\n",
    "positive_signal_matrix.index = ('(+) {}'.format(feature) for feature in positive_signal_matrix.index)"
   ]
  },
  {
   "cell_type": "code",
   "execution_count": null,
   "metadata": {},
   "outputs": [],
   "source": [
    "signal_matrix = pd.concat((\n",
    "    negative_signal_matrix,\n",
    "    positive_signal_matrix,\n",
    "))\n",
    "\n",
    "signal_matrix.to_csv(\n",
    "    PATH_DICT['signal_matrix_file_path'],\n",
    "    sep='\\t',\n",
    ")\n",
    "\n",
    "signal_matrix"
   ]
  },
  {
   "cell_type": "code",
   "execution_count": null,
   "metadata": {},
   "outputs": [],
   "source": [
    "from ccal import plot_points\n",
    "from pandas import Index\n",
    "\n",
    "\n",
    "def select_df_index(\n",
    "    df,\n",
    "    select_automatically,\n",
    "    n_top,\n",
    "    name,\n",
    "):\n",
    "    \n",
    "    if select_automatically:\n",
    "        \n",
    "        index_sum = df.sum(axis=1)\n",
    "        \n",
    "        threshold = index_sum.mean() + index_sum.std() / 2\n",
    "        \n",
    "        df_index = index_sum.index[threshold < index_sum]\n",
    "        \n",
    "        plot_points(\n",
    "            (tuple(range(index_sum.size)), ) * 2,\n",
    "            (\n",
    "                index_sum.sort_values(),\n",
    "                (threshold, ) * index_sum.size,\n",
    "            ),\n",
    "            names=(\n",
    "                'Index Sum',\n",
    "                'Threshold',\n",
    "            ),\n",
    "            modes=(\n",
    "                'markers',\n",
    "                'lines',\n",
    "            ),\n",
    "            title='Select DataFrame Index<br>{}'.format(name),\n",
    "            xaxis_title='Rank',\n",
    "            yaxis_title='{} Value'.format(name),\n",
    "        )\n",
    "        \n",
    "    elif n_top is not None:\n",
    "        \n",
    "        df_index = Index(())\n",
    "        \n",
    "        for column_name, column_values in df.items():\n",
    "            \n",
    "            df_index |= column_values.dropna().sort_values()[-n_top:].index\n",
    "            \n",
    "    else:\n",
    "        \n",
    "        df_index = df.index\n",
    "        \n",
    "    print('Selected {} DataFrame index of: {}.'.format(\n",
    "        df_index.size,\n",
    "        name,\n",
    "    ))\n",
    "    \n",
    "    return df_index"
   ]
  },
  {
   "cell_type": "code",
   "execution_count": null,
   "metadata": {},
   "outputs": [],
   "source": [
    "selected_negative_features = select_df_index(\n",
    "    negative_signal_matrix,\n",
    "    SELECT_FEATURE_AUTOMATICALLY,\n",
    "    N_TOP_FEATURE,\n",
    "    '(feature) Negative Signal Matrix',\n",
    ")\n",
    "\n",
    "selected_positive_features = select_df_index(\n",
    "    positive_signal_matrix,\n",
    "    SELECT_FEATURE_AUTOMATICALLY,\n",
    "    N_TOP_FEATURE,\n",
    "    '(feature) Positive Signal Matrix',\n",
    ")\n",
    "\n",
    "selected_negative_samples = select_df_index(\n",
    "    negative_signal_matrix.T,\n",
    "    SELECT_SAMPLE_AUTOMATICALLY,\n",
    "    N_TOP_SAMPLE,\n",
    "    '(sample) Negative Signal Matrix',\n",
    ")\n",
    "\n",
    "selected_positive_samples = select_df_index(\n",
    "    positive_signal_matrix.T,\n",
    "    SELECT_SAMPLE_AUTOMATICALLY,\n",
    "    N_TOP_SAMPLE,\n",
    "    '(sample) Positive Signal Matrix',\n",
    ")"
   ]
  },
  {
   "cell_type": "code",
   "execution_count": null,
   "metadata": {},
   "outputs": [],
   "source": [
    "if 'negative' in CONTEXTS and 'positive' in CONTEXTS:\n",
    "    \n",
    "    selected_features = selected_negative_features | selected_positive_features\n",
    "    \n",
    "    selected_samples = selected_negative_samples | selected_positive_samples\n",
    "    \n",
    "elif 'negative' in CONTEXTS:\n",
    "    \n",
    "    selected_features = selected_negative_features\n",
    "    \n",
    "    selected_samples = selected_negative_samples\n",
    "    \n",
    "elif 'positive' in CONTEXTS:\n",
    "    \n",
    "    selected_features = selected_positive_features\n",
    "    \n",
    "    selected_samples = selected_positive_samples\n",
    "    \n",
    "selected_signal_matrix = signal_matrix.loc[selected_features, selected_samples]"
   ]
  },
  {
   "cell_type": "code",
   "execution_count": null,
   "metadata": {},
   "outputs": [],
   "source": [
    "selected_signal_matrix = pd.DataFrame(\n",
    "     ccal.normalize_nd_array(\n",
    "         selected_signal_matrix.values,\n",
    "         1,\n",
    "         '0-1',\n",
    "         raise_for_bad=False,\n",
    "     ),\n",
    "     index=selected_signal_matrix.index,\n",
    "     columns=selected_signal_matrix.columns,\n",
    " )\n",
    "\n",
    "selected_signal_matrix.to_csv(\n",
    "    PATH_DICT['selected_signal_matrix_file_path'],\n",
    "    sep='\\t',\n",
    ")\n",
    "\n",
    "ccal.summarize_feature_x_sample(\n",
    "    selected_signal_matrix,\n",
    "    title='Selected Signal Matrix',\n",
    ")\n",
    "\n",
    "selected_signal_matrix"
   ]
  }
 ],
 "metadata": {
  "kernelspec": {
   "display_name": "Python 3",
   "language": "python",
   "name": "python3"
  },
  "language_info": {
   "codemirror_mode": {
    "name": "ipython",
    "version": 3
   },
   "file_extension": ".py",
   "mimetype": "text/x-python",
   "name": "python",
   "nbconvert_exporter": "python",
   "pygments_lexer": "ipython3",
   "version": "3.6.7"
  }
 },
 "nbformat": 4,
 "nbformat_minor": 2
}
