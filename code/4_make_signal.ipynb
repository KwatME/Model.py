{
 "cells": [
  {
   "cell_type": "code",
   "execution_count": null,
   "metadata": {
    "ExecuteTime": {
     "end_time": "2018-07-06T20:13:14.932963Z",
     "start_time": "2018-07-06T20:13:14.920835Z"
    }
   },
   "outputs": [],
   "source": [
    "%load_ext autoreload\n",
    "%autoreload 2"
   ]
  },
  {
   "cell_type": "code",
   "execution_count": null,
   "metadata": {
    "ExecuteTime": {
     "end_time": "2018-07-06T20:13:16.628911Z",
     "start_time": "2018-07-06T20:13:14.935143Z"
    }
   },
   "outputs": [],
   "source": [
    "from environment import *\n",
    "from setting import *"
   ]
  },
  {
   "cell_type": "code",
   "execution_count": null,
   "metadata": {},
   "outputs": [],
   "source": [
    "feature_x_sample_processed = pd.read_table(\n",
    "    PATH_DICT[\"feature_x_sample.processed.tsv\"], index_col=0\n",
    ")"
   ]
  },
  {
   "cell_type": "code",
   "execution_count": null,
   "metadata": {},
   "outputs": [],
   "source": [
    "feature_x_sample_processed_01 = ccal.normalize_df(\n",
    "    feature_x_sample_processed, 1, \"0-1\", raise_for_bad=False\n",
    ")"
   ]
  },
  {
   "cell_type": "code",
   "execution_count": null,
   "metadata": {},
   "outputs": [],
   "source": [
    "if SELECT_FEATURE_AUTOMATICALLY:\n",
    "\n",
    "    value_name = \"{} Raw Signal Standard Deviation\".format(FEATURE_ALIAS)\n",
    "\n",
    "    features = ccal.select_series_low_and_high_index(\n",
    "        feature_x_sample_processed_01.std(axis=1),\n",
    "        title=\"{} Rank\".format(value_name),\n",
    "        value_name=value_name,\n",
    "    )[1]\n",
    "\n",
    "else:\n",
    "\n",
    "    features = feature_x_sample_processed_01.index\n",
    "\n",
    "print(\"Selected {} {}.\".format(features.size, FEATURE_ALIAS))"
   ]
  },
  {
   "cell_type": "code",
   "execution_count": null,
   "metadata": {},
   "outputs": [],
   "source": [
    "if SELECT_SAMPLE_AUTOMATICALLY:\n",
    "\n",
    "    value_name = \"{} Raw Signal Standard Deviation\".format(SAMPLE_ALIAS)\n",
    "\n",
    "    samples = ccal.select_series_low_and_high_index(\n",
    "        feature_x_sample_processed_01.std(),\n",
    "        title=\"{} Rank\".format(value_name),\n",
    "        value_name=value_name,\n",
    "    )[1]\n",
    "\n",
    "else:\n",
    "\n",
    "    samples = feature_x_sample_processed_01.columns\n",
    "\n",
    "print(\"Selected {} {}.\".format(samples.size, SAMPLE_ALIAS))"
   ]
  },
  {
   "cell_type": "code",
   "execution_count": null,
   "metadata": {},
   "outputs": [],
   "source": [
    "raw_signal = feature_x_sample_processed_01.loc[features, samples]"
   ]
  },
  {
   "cell_type": "code",
   "execution_count": null,
   "metadata": {},
   "outputs": [],
   "source": [
    "raw_signal.to_csv(PATH_DICT[\"feature_x_sample.raw_signal.tsv\"], sep=\"\\t\")\n",
    "\n",
    "ccal.summarize_feature_x_sample(\n",
    "    raw_signal,\n",
    "    feature_x_sample_alias=\"Raw Signal\",\n",
    "    feature_alias=FEATURE_ALIAS,\n",
    "    sample_alias=SAMPLE_ALIAS,\n",
    "    feature_x_sample_value_name=\"Signal\",\n",
    "    plot_max_size=PLOT_MAX_SIZE,\n",
    ")\n",
    "\n",
    "raw_signal"
   ]
  },
  {
   "cell_type": "code",
   "execution_count": null,
   "metadata": {},
   "outputs": [],
   "source": [
    "feature_context = pd.read_table(\n",
    "    PATH_DICT[\"feature_x_sample.feature_context.tsv\"], index_col=0\n",
    ")\n",
    "\n",
    "feature_context_negative_signal = -feature_context.clip(upper=0)\n",
    "\n",
    "feature_context_positive_signal = feature_context.clip(lower=0)"
   ]
  },
  {
   "cell_type": "code",
   "execution_count": null,
   "metadata": {},
   "outputs": [],
   "source": [
    "sample_context = pd.read_table(\n",
    "    PATH_DICT[\"feature_x_sample.sample_context.tsv\"], index_col=0\n",
    ").T\n",
    "\n",
    "sample_context_negative_signal = -sample_context.clip(upper=0)\n",
    "\n",
    "sample_context_positive_signal = sample_context.clip(lower=0)"
   ]
  },
  {
   "cell_type": "code",
   "execution_count": null,
   "metadata": {},
   "outputs": [],
   "source": [
    "feature_context_negative_signal = ccal.normalize_df(\n",
    "    feature_context_negative_signal, 1, \"0-1\", raise_for_bad=False\n",
    ")\n",
    "\n",
    "feature_context_positive_signal = ccal.normalize_df(\n",
    "    feature_context_positive_signal, 1, \"0-1\", raise_for_bad=False\n",
    ")"
   ]
  },
  {
   "cell_type": "code",
   "execution_count": null,
   "metadata": {},
   "outputs": [],
   "source": [
    "sample_context_negative_signal = ccal.normalize_df(\n",
    "    sample_context_negative_signal, 1, \"0-1\", raise_for_bad=False\n",
    ")\n",
    "\n",
    "sample_context_positive_signal = ccal.normalize_df(\n",
    "    sample_context_positive_signal, 1, \"0-1\", raise_for_bad=False\n",
    ")"
   ]
  },
  {
   "cell_type": "code",
   "execution_count": null,
   "metadata": {},
   "outputs": [],
   "source": [
    "if \"feature\" in ELEMENT_TYPES and \"sample\" in ELEMENT_TYPES:\n",
    "\n",
    "    context_negative_signal = (\n",
    "        feature_context_negative_signal * sample_context_negative_signal\n",
    "    )\n",
    "\n",
    "    context_positive_signal = (\n",
    "        feature_context_positive_signal * sample_context_positive_signal\n",
    "    )\n",
    "\n",
    "elif \"feature\" in ELEMENT_TYPES:\n",
    "\n",
    "    context_negative_signal = feature_context_negative_signal\n",
    "\n",
    "    context_positive_signal = feature_context_positive_signal\n",
    "\n",
    "elif \"sample\" in ELEMENT_TYPES:\n",
    "\n",
    "    context_negative_signal = sample_context_negative_signal\n",
    "\n",
    "    context_positive_signal = sample_context_positive_signal"
   ]
  },
  {
   "cell_type": "code",
   "execution_count": null,
   "metadata": {},
   "outputs": [],
   "source": [
    "ccal.summarize_feature_x_sample(\n",
    "    context_negative_signal,\n",
    "    feature_x_sample_alias=\"Context Negative Signal\",\n",
    "    feature_alias=FEATURE_ALIAS,\n",
    "    sample_alias=SAMPLE_ALIAS,\n",
    "    feature_x_sample_value_name=\"Signal\",\n",
    "    plot_max_size=PLOT_MAX_SIZE,\n",
    ")\n",
    "\n",
    "context_negative_signal"
   ]
  },
  {
   "cell_type": "code",
   "execution_count": null,
   "metadata": {},
   "outputs": [],
   "source": [
    "ccal.summarize_feature_x_sample(\n",
    "    context_positive_signal,\n",
    "    feature_x_sample_alias=\"Context Positive Signal\",\n",
    "    feature_alias=FEATURE_ALIAS,\n",
    "    sample_alias=SAMPLE_ALIAS,\n",
    "    feature_x_sample_value_name=\"Signal\",\n",
    "    plot_max_size=PLOT_MAX_SIZE,\n",
    ")\n",
    "\n",
    "context_negative_signal"
   ]
  },
  {
   "cell_type": "code",
   "execution_count": null,
   "metadata": {},
   "outputs": [],
   "source": [
    "if SELECT_FEATURE_AUTOMATICALLY:\n",
    "\n",
    "    value_name = \"{} Context Negative Signal Sum\".format(FEATURE_ALIAS)\n",
    "\n",
    "    context_negative_features = ccal.select_series_low_and_high_index(\n",
    "        context_negative_signal.sum(axis=1),\n",
    "        title=\"{} Rank\".format(value_name),\n",
    "        value_name=value_name,\n",
    "    )[1]\n",
    "\n",
    "    value_name = \"{} Context Positive Signal Sum\".format(FEATURE_ALIAS)\n",
    "\n",
    "    context_positive_features = ccal.select_series_low_and_high_index(\n",
    "        context_positive_signal.sum(axis=1),\n",
    "        title=\"{} Rank\".format(value_name),\n",
    "        value_name=value_name,\n",
    "    )[1]\n",
    "\n",
    "else:\n",
    "\n",
    "    context_negative_features = context_negative_signal.index\n",
    "\n",
    "    context_positive_features = context_positive_signal.index\n",
    "\n",
    "print(\n",
    "    \"Selected {} context negative and {} context positive {}.\".format(\n",
    "        context_negative_features.size, context_positive_features.size, FEATURE_ALIAS\n",
    "    )\n",
    ")"
   ]
  },
  {
   "cell_type": "code",
   "execution_count": null,
   "metadata": {},
   "outputs": [],
   "source": [
    "if SELECT_SAMPLE_AUTOMATICALLY:\n",
    "\n",
    "    value_name = \"{} Context Negative Signal Sum\".format(SAMPLE_ALIAS)\n",
    "\n",
    "    context_negative_samples = ccal.select_series_low_and_high_index(\n",
    "        context_negative_signal.sum(),\n",
    "        title=\"{} Rank\".format(value_name),\n",
    "        value_name=value_name,\n",
    "    )[1]\n",
    "\n",
    "    value_name = \"{} Context Positive Signal Sum\".format(SAMPLE_ALIAS)\n",
    "\n",
    "    context_positive_samples = ccal.select_series_low_and_high_index(\n",
    "        context_positive_signal.sum(),\n",
    "        title=\"{} Rank\".format(value_name),\n",
    "        value_name=value_name,\n",
    "    )[1]\n",
    "\n",
    "else:\n",
    "\n",
    "    context_negative_samples = context_negative_signal.columns\n",
    "\n",
    "    context_positive_samples = context_positive_signal.columns\n",
    "\n",
    "print(\n",
    "    \"Selected {} context negative and {} context positive {}.\".format(\n",
    "        context_negative_samples.size, context_positive_samples.size, SAMPLE_ALIAS\n",
    "    )\n",
    ")"
   ]
  },
  {
   "cell_type": "code",
   "execution_count": null,
   "metadata": {},
   "outputs": [],
   "source": [
    "context_negative_signal_selected = context_negative_signal.loc[\n",
    "    context_negative_features, context_negative_samples\n",
    "]"
   ]
  },
  {
   "cell_type": "code",
   "execution_count": null,
   "metadata": {},
   "outputs": [],
   "source": [
    "context_positive_signal_selected = context_positive_signal.loc[\n",
    "    context_positive_features, context_positive_samples\n",
    "]"
   ]
  },
  {
   "cell_type": "code",
   "execution_count": null,
   "metadata": {},
   "outputs": [],
   "source": [
    "if \"negative\" in CONTEXTS and \"positive\" in CONTEXTS:\n",
    "\n",
    "    context_negative_signal_selected.index = (\n",
    "        \"(-) {}\".format(feature_name)\n",
    "        for feature_name in context_negative_signal_selected.index\n",
    "    )\n",
    "\n",
    "    context_positive_signal_selected.index = (\n",
    "        \"(+) {}\".format(feature_name)\n",
    "        for feature_name in context_positive_signal_selected.index\n",
    "    )\n",
    "\n",
    "    context_signal = pd.concat(\n",
    "        (context_negative_signal_selected, context_positive_signal_selected)\n",
    "    )\n",
    "\n",
    "elif \"negative\" in CONTEXTS:\n",
    "\n",
    "    context_signal = context_negative_signal_selected\n",
    "\n",
    "elif \"positive\" in CONTEXTS:\n",
    "\n",
    "    context_signal = context_positive_signal_selected"
   ]
  },
  {
   "cell_type": "code",
   "execution_count": null,
   "metadata": {},
   "outputs": [],
   "source": [
    "context_signal.to_csv(PATH_DICT[\"feature_x_sample.context_signal.tsv\"], sep=\"\\t\")\n",
    "\n",
    "ccal.summarize_feature_x_sample(\n",
    "    context_signal,\n",
    "    feature_x_sample_alias=\"Context Signal\",\n",
    "    feature_alias=FEATURE_ALIAS,\n",
    "    sample_alias=SAMPLE_ALIAS,\n",
    "    feature_x_sample_value_name=\"Signal\",\n",
    "    plot_max_size=PLOT_MAX_SIZE,\n",
    ")\n",
    "\n",
    "context_signal"
   ]
  }
 ],
 "metadata": {
  "kernelspec": {
   "display_name": "Python 3",
   "language": "python",
   "name": "python3"
  },
  "language_info": {
   "codemirror_mode": {
    "name": "ipython",
    "version": 3
   },
   "file_extension": ".py",
   "mimetype": "text/x-python",
   "name": "python",
   "nbconvert_exporter": "python",
   "pygments_lexer": "ipython3",
   "version": "3.6.7"
  }
 },
 "nbformat": 4,
 "nbformat_minor": 2
}
