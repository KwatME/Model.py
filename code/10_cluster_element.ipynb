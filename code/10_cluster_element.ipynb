{
 "cells": [
  {
   "cell_type": "code",
   "execution_count": null,
   "metadata": {
    "ExecuteTime": {
     "end_time": "2018-07-06T19:27:09.695630Z",
     "start_time": "2018-07-06T19:27:09.679688Z"
    }
   },
   "outputs": [],
   "source": [
    "# cleaning...%load_ext autoreload\n",
    "# cleaning...%autoreload 2"
   ]
  },
  {
   "cell_type": "code",
   "execution_count": null,
   "metadata": {
    "ExecuteTime": {
     "end_time": "2018-07-06T20:13:16.628911Z",
     "start_time": "2018-07-06T20:13:14.935143Z"
    }
   },
   "outputs": [],
   "source": [
    "from __init__ import *"
   ]
  },
  {
   "cell_type": "code",
   "execution_count": null,
   "metadata": {
    "ExecuteTime": {
     "end_time": "2018-07-06T19:27:11.455441Z",
     "start_time": "2018-07-06T19:27:11.406230Z"
    }
   },
   "outputs": [],
   "source": [
    "w = pd.read_csv(PATH[\"w.tsv\"], sep=\"\\t\", index_col=0)\n",
    "\n",
    "h = pd.read_csv(PATH[\"h.tsv\"], sep=\"\\t\", index_col=0)\n",
    "\n",
    "w.columns.name = h.index.name\n",
    "\n",
    "h.columns.name = SETTING[\"sample_alias\"]"
   ]
  },
  {
   "cell_type": "code",
   "execution_count": null,
   "metadata": {
    "ExecuteTime": {
     "end_time": "2018-07-06T19:39:55.046724Z",
     "start_time": "2018-07-06T19:27:15.475772Z"
    }
   },
   "outputs": [],
   "source": [
    "for w_or_h, dataframe, axis in ((\"w\", w, 0), (\"h\", h, 1)):\n",
    "\n",
    "    kraft.hierarchical_consensus_cluster_dataframe_with_ks(\n",
    "        dataframe,\n",
    "        SETTING[\"hcc_ks\"],\n",
    "        axis,\n",
    "        n_job=SETTING[\"n_job\"],\n",
    "        n_clustering=SETTING[\"hcc_n_clustering\"],\n",
    "        directory_path=PATH[\"{}|hcc/\".format(w_or_h)],\n",
    "    )"
   ]
  }
 ],
 "metadata": {
  "@webio": {
   "lastCommId": null,
   "lastKernelId": null
  },
  "kernelspec": {
   "display_name": "Python 3",
   "language": "python",
   "name": "python3"
  },
  "language_info": {
   "codemirror_mode": {
    "name": "ipython",
    "version": 3
   },
   "file_extension": ".py",
   "mimetype": "text/x-python",
   "name": "python",
   "nbconvert_exporter": "python",
   "pygments_lexer": "ipython3",
   "version": "3.7.3"
  }
 },
 "nbformat": 4,
 "nbformat_minor": 4
}
