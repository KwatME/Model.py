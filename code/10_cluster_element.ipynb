{
 "cells": [
  {
   "cell_type": "code",
   "execution_count": null,
   "metadata": {
    "ExecuteTime": {
     "end_time": "2018-07-06T19:27:09.695630Z",
     "start_time": "2018-07-06T19:27:09.679688Z"
    }
   },
   "outputs": [],
   "source": [
    "%load_ext autoreload\n",
    "%autoreload 2"
   ]
  },
  {
   "cell_type": "code",
   "execution_count": null,
   "metadata": {
    "ExecuteTime": {
     "end_time": "2018-07-06T18:37:38.413000Z",
     "start_time": "2018-07-06T18:37:36.654831Z"
    }
   },
   "outputs": [],
   "source": [
    "from environment import *\n",
    "\n",
    "PROJECT_JSON = kraft.read_json(\"../project.json\")\n",
    "\n",
    "PATH = make_path_dict(PROJECT_JSON)"
   ]
  },
  {
   "cell_type": "code",
   "execution_count": null,
   "metadata": {
    "ExecuteTime": {
     "end_time": "2018-07-06T19:27:11.455441Z",
     "start_time": "2018-07-06T19:27:11.406230Z"
    }
   },
   "outputs": [],
   "source": [
    "w = pd.read_csv(PATH[\"w.tsv\"], sep=\"\\t\", index_col=0)\n",
    "\n",
    "w.columns.name = \"Factor\"\n",
    "\n",
    "h = pd.read_csv(PATH[\"h.tsv\"], sep=\"\\t\", index_col=0)\n",
    "\n",
    "h.columns.name = PROJECT_JSON[\"sample_alias\"]"
   ]
  },
  {
   "cell_type": "code",
   "execution_count": null,
   "metadata": {
    "ExecuteTime": {
     "end_time": "2018-07-06T19:39:55.046724Z",
     "start_time": "2018-07-06T19:27:15.475772Z"
    }
   },
   "outputs": [],
   "source": [
    "for w_or_h, dataframe, cluster_axis in ((\"w\", w, 0), (\"h\", h, 1)):\n",
    "\n",
    "    kraft.hierarchical_consensus_cluster_dataframe_with_ks(\n",
    "        dataframe,\n",
    "        PROJECT_JSON[\"hcc_ks\"],\n",
    "        cluster_axis,\n",
    "        n_job=PROJECT_JSON[\"n_job\"],\n",
    "        n_clustering=PROJECT_JSON[\"hcc_n_clustering\"],\n",
    "        plot_dataframe=dataframe.shape[1] < PROJECT_JSON[\"plot_cluster_max_size\"],\n",
    "        directory_path=PATH[\"{}|hcc/\".format(w_or_h)],\n",
    "    )"
   ]
  }
 ],
 "metadata": {
  "@webio": {
   "lastCommId": null,
   "lastKernelId": null
  },
  "kernelspec": {
   "display_name": "Python 3",
   "language": "python",
   "name": "python3"
  },
  "language_info": {
   "codemirror_mode": {
    "name": "ipython",
    "version": 3
   },
   "file_extension": ".py",
   "mimetype": "text/x-python",
   "name": "python",
   "nbconvert_exporter": "python",
   "pygments_lexer": "ipython3",
   "version": "3.7.3"
  }
 },
 "nbformat": 4,
 "nbformat_minor": 4
}
