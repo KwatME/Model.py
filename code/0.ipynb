{
 "cells": [
  {
   "cell_type": "code",
   "execution_count": null,
   "metadata": {},
   "outputs": [],
   "source": [
    "%load_ext autoreload\n",
    "\n",
    "%autoreload 2"
   ]
  },
  {
   "cell_type": "code",
   "execution_count": null,
   "metadata": {},
   "outputs": [],
   "source": [
    "from environment import *"
   ]
  },
  {
   "cell_type": "code",
   "execution_count": null,
   "metadata": {},
   "outputs": [],
   "source": [
    "gene_x_patient = ccal.read_gct('../data/MD_dataset_Cho_et_al.gct')\n",
    "\n",
    "print(gene_x_patient.index.has_duplicates)\n",
    "\n",
    "print(gene_x_patient.columns.has_duplicates)\n",
    "\n",
    "gene_x_patient.index.name = 'Gene'\n",
    "\n",
    "gene_x_patient.columns.name = 'Patient'\n",
    "\n",
    "gene_x_patient.to_csv(\n",
    "    '../data/cho__gene_x_patient.tsv',\n",
    "    sep='\\t',\n",
    ")\n",
    "\n",
    "gene_x_patient"
   ]
  },
  {
   "cell_type": "code",
   "execution_count": null,
   "metadata": {},
   "outputs": [],
   "source": [
    "patient_subtype = ccal.read_gct('../data/MD_dataset_Cho_et_al.subtypes.gct').loc['subtypes']\n",
    "\n",
    "print(gene_x_patient.columns.difference(patient_subtype.index) | patient_subtype.index.difference(gene_x_patient.columns))\n",
    "\n",
    "patient_subtype.index.name = 'Patient'\n",
    "\n",
    "patient_subtype.name = 'Subtype'\n",
    "\n",
    "patient_subtype.to_csv(\n",
    "    '../data/patient_subtype.tsv',\n",
    "    sep='\\t',\n",
    "    header=True,\n",
    ")\n",
    "\n",
    "patient_subtype"
   ]
  }
 ],
 "metadata": {
  "kernelspec": {
   "display_name": "Python 3",
   "language": "python",
   "name": "python3"
  },
  "language_info": {
   "codemirror_mode": {
    "name": "ipython",
    "version": 3
   },
   "file_extension": ".py",
   "mimetype": "text/x-python",
   "name": "python",
   "nbconvert_exporter": "python",
   "pygments_lexer": "ipython3",
   "version": "3.6.6"
  }
 },
 "nbformat": 4,
 "nbformat_minor": 2
}
